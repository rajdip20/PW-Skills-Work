{
 "cells": [
  {
   "cell_type": "markdown",
   "metadata": {},
   "source": [
    "# For Loop :"
   ]
  },
  {
   "cell_type": "markdown",
   "metadata": {},
   "source": [
    "### 1. Write a Python program to print numbers from 1 to 10 using a for loop."
   ]
  },
  {
   "cell_type": "code",
   "execution_count": 1,
   "metadata": {},
   "outputs": [
    {
     "name": "stdout",
     "output_type": "stream",
     "text": [
      "1\n",
      "2\n",
      "3\n",
      "4\n",
      "5\n",
      "6\n",
      "7\n",
      "8\n",
      "9\n",
      "10\n"
     ]
    }
   ],
   "source": [
    "for i in range(1, 11):\n",
    "    print(i)"
   ]
  },
  {
   "cell_type": "markdown",
   "metadata": {},
   "source": [
    "- Make a iteration with the range of 1 to 11.\n",
    "- In each iteration print the number."
   ]
  },
  {
   "cell_type": "markdown",
   "metadata": {},
   "source": [
    "### 2. Explain the difference between a for loop and a while loop in Python."
   ]
  },
  {
   "cell_type": "markdown",
   "metadata": {},
   "source": [
    "- For Loop:\n",
    "    - Iterates through a sequence or iterable.\n",
    "    - Known number of iterations.\n",
    "    - Syntax:\n",
    "    ```python\n",
    "    for element in iterable:\n",
    "    ```\n",
    "\n",
    "- While Loop:\n",
    "    - Repeats a block of code while a condition is true.\n",
    "    - Condition-driven, number of iterations might vary.\n",
    "    - Syntax:\n",
    "    ```python\n",
    "    while condition:\n",
    "    ```"
   ]
  },
  {
   "cell_type": "markdown",
   "metadata": {},
   "source": [
    "### 3. Write a Python program to calculate the sum of all numbers from 1 to 100 using a for loop."
   ]
  },
  {
   "cell_type": "code",
   "execution_count": 11,
   "metadata": {},
   "outputs": [
    {
     "name": "stdout",
     "output_type": "stream",
     "text": [
      "Sum of 1 to 100:  5050\n"
     ]
    }
   ],
   "source": [
    "# Initialize a variable with 0\n",
    "digit_sum = 0\n",
    "\n",
    "# Iterate through 1 to 101 and add the number\n",
    "for i in range(1, 101):\n",
    "    digit_sum += i\n",
    "\n",
    "# Print the sum value\n",
    "print(\"Sum of 1 to 100: \", digit_sum)"
   ]
  },
  {
   "cell_type": "markdown",
   "metadata": {},
   "source": [
    "- Initialize digit_sum variable with value 0.\n",
    "- Iterate through 1 to 101 and perform sum of the numbers.\n",
    "- Finally, print the sum of the numbers."
   ]
  },
  {
   "cell_type": "markdown",
   "metadata": {},
   "source": [
    "### 4. How do you iterate through a list using a for loop in Python?"
   ]
  },
  {
   "cell_type": "markdown",
   "metadata": {},
   "source": [
    "- Use the `for` loop to go through each element in the list. Here's an example:\n",
    "```python\n",
    "my_list = [1, 2, 3, 4, 5]\n",
    "\n",
    "for element in my_list:\n",
    "    print(element)\n",
    "```\n",
    "- In this example, my_list is a list containing numbers.\n",
    "- The `for` loop goes through each element in the list and prints it. "
   ]
  },
  {
   "cell_type": "markdown",
   "metadata": {},
   "source": [
    "### 5. Write a Python program to find the product of all elements in a list using a for loop."
   ]
  },
  {
   "cell_type": "code",
   "execution_count": 13,
   "metadata": {},
   "outputs": [
    {
     "name": "stdout",
     "output_type": "stream",
     "text": [
      "Multiplication of all elements in the list is: 96\n"
     ]
    }
   ],
   "source": [
    "# Make an example list\n",
    "my_list = [2, 6, 8]\n",
    "\n",
    "# Initialize a variable with 1\n",
    "multiply = 1\n",
    "\n",
    "# Iterate through every element in the list\n",
    "for i in my_list:\n",
    "    multiply *= i\n",
    "\n",
    "# Print the result\n",
    "print(\"Multiplication of all elements in the list is:\", multiply)"
   ]
  },
  {
   "cell_type": "markdown",
   "metadata": {},
   "source": [
    "- Make an example list and store it in my_list variable.\n",
    "- Initialize multiply variable with 1.\n",
    "- Iterate through every element in the list and multiply it with value in multiply variable. Store the value in multiply variable.\n",
    "- Finally, print the multiply result."
   ]
  },
  {
   "cell_type": "markdown",
   "metadata": {},
   "source": [
    "### 6. Create a Python program that prints all even numbers from 1 to 20 using a for loop."
   ]
  },
  {
   "cell_type": "code",
   "execution_count": 14,
   "metadata": {},
   "outputs": [
    {
     "name": "stdout",
     "output_type": "stream",
     "text": [
      "Even numbers 1 to 20:\n",
      "2 4 6 8 10 12 14 16 18 20 "
     ]
    }
   ],
   "source": [
    "# Iterate through 1 to 21 and print all even numbers\n",
    "print(\"Even numbers 1 to 20:\")\n",
    "for i in range(1, 21):\n",
    "    if i % 2 != 0:\n",
    "        continue\n",
    "    print(i, end=' ')"
   ]
  },
  {
   "cell_type": "markdown",
   "metadata": {},
   "source": [
    "- Iterate through a range of 1 to 21.\n",
    "- In every iteration check is the number divisible by 2 or not\n",
    "    - If no, then jump over the number without printing it using continue keyword.\n",
    "- Finally, Print the even number."
   ]
  },
  {
   "cell_type": "markdown",
   "metadata": {},
   "source": [
    "### 7. Write a Python program that calculates the factorial of a number using a for loop."
   ]
  },
  {
   "cell_type": "markdown",
   "metadata": {},
   "source": [
    "### 8. How can you iterate through the characters of a string using a for loop in Python?"
   ]
  },
  {
   "cell_type": "markdown",
   "metadata": {},
   "source": [
    "### 9. Write a Python program to find the largest number in a list using a for loop."
   ]
  },
  {
   "cell_type": "markdown",
   "metadata": {},
   "source": [
    "### 10. Create a Python program that prints the Fibonacci sequence up to a specified limit using a for loop."
   ]
  },
  {
   "cell_type": "markdown",
   "metadata": {},
   "source": []
  }
 ],
 "metadata": {
  "kernelspec": {
   "display_name": "base",
   "language": "python",
   "name": "python3"
  },
  "language_info": {
   "codemirror_mode": {
    "name": "ipython",
    "version": 3
   },
   "file_extension": ".py",
   "mimetype": "text/x-python",
   "name": "python",
   "nbconvert_exporter": "python",
   "pygments_lexer": "ipython3",
   "version": "3.9.16"
  }
 },
 "nbformat": 4,
 "nbformat_minor": 2
}
