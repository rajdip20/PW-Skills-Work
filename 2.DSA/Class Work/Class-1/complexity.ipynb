{
 "cells": [
  {
   "cell_type": "markdown",
   "metadata": {},
   "source": [
    "# Complexity Classes\n",
    "## (Increasing Order)\n",
    "<br>\n",
    "\n",
    "1. Constant time complexity ---> O(1)\n",
    "2. Logarithmic complexity -----> O(log<sub>2</sub>n)\n",
    "3. Linear complexity ----------> O(n)<br>\n",
    "---------------- n.log n -----------------<br>\n",
    "4. Quadratic complexity -------> O(n<sup>2</sup>)\n",
    "5. Cubic complexity -----------> O(n<sup>3</sup>)\n",
    "6. Polynomial complexity ------> O(n<sup>c</sup>), where c > 0\n",
    "7. Exponential complexity -----> O(2<sup>n</sup>)"
   ]
  },
  {
   "cell_type": "markdown",
   "metadata": {},
   "source": [
    "### Symptotic Notation\n",
    "1. Best Case ---------> Ω(n) [Omega Notation]\n",
    "2. Average Case ------> ⊖(n) [Theta Notation]\n",
    "3. Worst Case --------> O(n) [Big O Notation]"
   ]
  },
  {
   "cell_type": "code",
   "execution_count": null,
   "metadata": {
    "vscode": {
     "languageId": "plaintext"
    }
   },
   "outputs": [],
   "source": []
  }
 ],
 "metadata": {
  "language_info": {
   "name": "python"
  }
 },
 "nbformat": 4,
 "nbformat_minor": 2
}
