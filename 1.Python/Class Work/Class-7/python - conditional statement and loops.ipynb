{
 "cells": [
  {
   "cell_type": "code",
   "execution_count": 1,
   "metadata": {},
   "outputs": [
    {
     "name": "stdout",
     "output_type": "stream",
     "text": [
      "yes i will be able to buy\n",
      "yes i will be able to buy\n"
     ]
    }
   ],
   "source": [
    "a = 500\n",
    "price = 450\n",
    "\n",
    "if price <= a:\n",
    "    print(\"yes i will be able to buy\")"
   ]
  },
  {
   "cell_type": "code",
   "execution_count": 2,
   "metadata": {},
   "outputs": [
    {
     "data": {
      "text/plain": [
       "True"
      ]
     },
     "execution_count": 2,
     "metadata": {},
     "output_type": "execute_result"
    },
    {
     "data": {
      "text/plain": [
       "True"
      ]
     },
     "execution_count": 2,
     "metadata": {},
     "output_type": "execute_result"
    }
   ],
   "source": [
    "price <= 500"
   ]
  },
  {
   "cell_type": "code",
   "execution_count": 3,
   "metadata": {},
   "outputs": [
    {
     "name": "stdout",
     "output_type": "stream",
     "text": [
      "i wont be able to buy\n",
      "i wont be able to buy\n"
     ]
    }
   ],
   "source": [
    "a = 500\n",
    "price = 850\n",
    "\n",
    "if price <= a:\n",
    "    print(\"yes i will be able to buy\")\n",
    "else:\n",
    "    print(\"i wont be able to buy\")"
   ]
  },
  {
   "cell_type": "code",
   "execution_count": 4,
   "metadata": {},
   "outputs": [
    {
     "data": {
      "text/plain": [
       "False"
      ]
     },
     "execution_count": 4,
     "metadata": {},
     "output_type": "execute_result"
    },
    {
     "data": {
      "text/plain": [
       "False"
      ]
     },
     "execution_count": 4,
     "metadata": {},
     "output_type": "execute_result"
    }
   ],
   "source": [
    "850 <= 500"
   ]
  },
  {
   "cell_type": "code",
   "execution_count": 5,
   "metadata": {},
   "outputs": [
    {
     "name": "stdout",
     "output_type": "stream",
     "text": [
      "this is a testing block\n",
      "i will try to buy shirt\n",
      "this is a testing block\n",
      "i will try to buy shirt\n"
     ]
    }
   ],
   "source": [
    "a = 500\n",
    "shirt_price = 200\n",
    "pant_price = 500\n",
    "coat_price = 800\n",
    "\n",
    "if True:\n",
    "    print(\"this is a testing block\")\n",
    "\n",
    "if coat_price <= a:\n",
    "    print(\"i will try to buy coat\")\n",
    "\n",
    "elif pant_price < a:\n",
    "    print(\"i will try to buy pant\")\n",
    "\n",
    "elif shirt_price < a:\n",
    "    print(\"i will try to buy shirt\")\n",
    "\n",
    "else:\n",
    "    print(\"i wont be able to buy\")"
   ]
  },
  {
   "cell_type": "code",
   "execution_count": 6,
   "metadata": {},
   "outputs": [
    {
     "name": "stdout",
     "output_type": "stream",
     "text": [
      "yes its available under my budget.\n",
      "i will try to buy shirt\n",
      "i will try to choose it\n",
      "yes its available under my budget.\n",
      "i will try to buy shirt\n",
      "i will try to choose it\n"
     ]
    }
   ],
   "source": [
    "a = 500\n",
    "shirt_price = 200\n",
    "pant_price = 500\n",
    "coat_price = 800\n",
    "my_size = 'M'\n",
    "size_store = ['L', 'XL', 'S', 'XXL', 'XXXL', 'M']\n",
    "my_fav_clr = 'black'\n",
    "store_clr = ['white', 'red', 'blue', 'black']\n",
    "\n",
    "if coat_price <= a:\n",
    "    print(\"i will try to buy coat\")\n",
    "\n",
    "elif pant_price < a:\n",
    "    print(\"i will try to buy pant\")\n",
    "\n",
    "elif shirt_price < a:\n",
    "    print(\"yes its available under my budget.\")\n",
    "    if my_size in size_store:\n",
    "        print(\"i will try to buy shirt\")\n",
    "        if my_fav_clr in store_clr:\n",
    "            print(\"i will try to choose it\")\n",
    "        else:\n",
    "            print(\"my fav clr is not available.\")\n",
    "    else:\n",
    "        print(\"my size is not available.\")\n",
    "\n",
    "else:\n",
    "    print(\"i wont be able to buy\")"
   ]
  },
  {
   "cell_type": "code",
   "execution_count": 7,
   "metadata": {},
   "outputs": [
    {
     "name": "stdout",
     "output_type": "stream",
     "text": [
      "yes i am doing this course\n",
      "yes i am doing this course\n"
     ]
    }
   ],
   "source": [
    "course = ['DSM', 'DSA', 'Java', 'big data', 'DA']\n",
    "price = 20000\n",
    "mentor = \"Sudhanshu Kumar\"\n",
    "\n",
    "if 'DSM' in course and price == 20000 and mentor == 'Sudhanshu Kumar':\n",
    "    print(\"yes i am doing this course\")"
   ]
  },
  {
   "cell_type": "code",
   "execution_count": 8,
   "metadata": {},
   "outputs": [
    {
     "name": "stdout",
     "output_type": "stream",
     "text": [
      "its out of my budget\n",
      "its out of my budget\n"
     ]
    }
   ],
   "source": [
    "course_price = 20000\n",
    "\n",
    "if 10000 <= course_price <= 15000:\n",
    "    print(\"i will try to buy a course\")\n",
    "    \n",
    "else:\n",
    "    print(\"its out of my budget\")"
   ]
  },
  {
   "cell_type": "code",
   "execution_count": 9,
   "metadata": {},
   "outputs": [
    {
     "data": {
      "text/plain": [
       "False"
      ]
     },
     "execution_count": 9,
     "metadata": {},
     "output_type": "execute_result"
    },
    {
     "data": {
      "text/plain": [
       "False"
      ]
     },
     "execution_count": 9,
     "metadata": {},
     "output_type": "execute_result"
    }
   ],
   "source": [
    "10000 <= course_price <= 15000"
   ]
  },
  {
   "cell_type": "code",
   "execution_count": 10,
   "metadata": {},
   "outputs": [
    {
     "name": "stdout",
     "output_type": "stream",
     "text": [
      "enter your username: raj\n",
      "enter your password: raj@1234\n",
      "you have loged in succefully\n",
      "you have loged in succefully\n"
     ]
    }
   ],
   "source": [
    "user_name = \"raj\"\n",
    "password = \"raj@1234\"\n",
    "\n",
    "if user_name == input(\"enter your username: \") and  password == input(\"enter your password: \"):\n",
    "    print(\"you have loged in succefully\")\n",
    "else:\n",
    "    print(\"enter correct username and password\")"
   ]
  },
  {
   "cell_type": "code",
   "execution_count": 11,
   "metadata": {},
   "outputs": [
    {
     "name": "stdout",
     "output_type": "stream",
     "text": [
      "enter your registered mobile no: 123456\n",
      "yes you are a registered user.\n",
      "yes you are a registered user.\n",
      "enter otp that we have sent on your mobile no: 1234\n",
      "you have logged in succefully\n",
      "you have logged in succefully\n"
     ]
    }
   ],
   "source": [
    "mobile_no = 123456\n",
    "otp = 1234\n",
    "if mobile_no == int(input(\"enter your registered mobile no: \")):\n",
    "    print(\"yes you are a registered user.\")\n",
    "    if otp == int(input(\"enter otp that we have sent on your mobile no: \")):\n",
    "        print(\"you have logged in succefully\")\n",
    "    else:\n",
    "        print(\"otp is not correct please try to enter again.\")\n",
    "else:\n",
    "    print(\"you have not entered a valid mobile no.\")"
   ]
  },
  {
   "cell_type": "code",
   "execution_count": 12,
   "metadata": {},
   "outputs": [
    {
     "name": "stdout",
     "output_type": "stream",
     "text": [
      "enter your registered mobile no: 45654646\n",
      "yes you are a registered user.\n",
      "yes you are a registered user.\n",
      "enter otp that we have sent on your mobile no1234\n",
      "you have logged in successfully.\n",
      "you have logged in successfully.\n"
     ]
    }
   ],
   "source": [
    "mobile_no = {2343243, 3543534, 45654646, 23432, 345345, 345343}\n",
    "otp = 1234\n",
    "if int(input(\"enter your registered mobile no: \")) in mobile_no:\n",
    "    print(\"yes you are a registered user.\")\n",
    "    if otp == int(input(\"enter otp that we have sent on your mobile no\")):\n",
    "        print(\"you have logged in successfully.\")\n",
    "    else:\n",
    "        print(\"otp is not correct please try to enter again.\")\n",
    "else:\n",
    "    print(\"you have not entered a valid mobile no\")"
   ]
  },
  {
   "cell_type": "code",
   "execution_count": 13,
   "metadata": {},
   "outputs": [
    {
     "name": "stdout",
     "output_type": "stream",
     "text": [
      "2343243\n",
      "3543534\n",
      "45654646\n",
      "23432\n",
      "yes user is registered.\n",
      "yes student details are avaible in DB\n",
      "course accessed to this user is  ['dsa', 'dsm', 'big data']\n",
      "345345\n",
      "345343\n",
      "2343243\n",
      "3543534\n",
      "45654646\n",
      "23432\n",
      "yes user is registered.\n",
      "yes student details are avaible in DB\n",
      "course accessed to this user is  ['dsa', 'dsm', 'big data']\n",
      "345345\n",
      "345343\n"
     ]
    }
   ],
   "source": [
    "l = [12, 3, 3, 4, 5, 6, 6]\n",
    "mobile_no = [2343243, 3543534, 45654646, 23432, 345345, 345343]\n",
    "stud_mo = 23432\n",
    "stud_details = {'mobile_no': 23432, 'course': ['dsa', 'dsm', 'big data']}\n",
    "\n",
    "for i in mobile_no:\n",
    "    print(i)\n",
    "    if i == stud_mo:\n",
    "        print(\"yes user is registered.\")\n",
    "        if i == stud_details['mobile_no']:\n",
    "            print(\"yes student details are avaible in DB\")\n",
    "            print(\"course accessed to this user is \", stud_details['course'])"
   ]
  },
  {
   "cell_type": "code",
   "execution_count": 14,
   "metadata": {},
   "outputs": [],
   "source": [
    "t = (12, 3, 4, 5, 56, \"rajdip\", \"das\", 345.565)\n",
    "l_int = []\n",
    "l_str = []\n",
    "for i in t:\n",
    "    if type(i) == str:\n",
    "        l_str.append(i)\n",
    "    elif type(i) == int:\n",
    "        l_int.append(i)"
   ]
  },
  {
   "cell_type": "code",
   "execution_count": 15,
   "metadata": {},
   "outputs": [
    {
     "data": {
      "text/plain": [
       "[12, 3, 4, 5, 56]"
      ]
     },
     "execution_count": 15,
     "metadata": {},
     "output_type": "execute_result"
    },
    {
     "data": {
      "text/plain": [
       "[12, 3, 4, 5, 56]"
      ]
     },
     "execution_count": 15,
     "metadata": {},
     "output_type": "execute_result"
    }
   ],
   "source": [
    "l_int"
   ]
  },
  {
   "cell_type": "code",
   "execution_count": 16,
   "metadata": {},
   "outputs": [
    {
     "data": {
      "text/plain": [
       "['rajdip', 'das']"
      ]
     },
     "execution_count": 16,
     "metadata": {},
     "output_type": "execute_result"
    },
    {
     "data": {
      "text/plain": [
       "['rajdip', 'das']"
      ]
     },
     "execution_count": 16,
     "metadata": {},
     "output_type": "execute_result"
    }
   ],
   "source": [
    "l_str"
   ]
  },
  {
   "cell_type": "code",
   "execution_count": 17,
   "metadata": {},
   "outputs": [],
   "source": [
    "s = {3, 4, 5, 56, 76, 7, 7, 8, 8}"
   ]
  },
  {
   "cell_type": "code",
   "execution_count": 18,
   "metadata": {},
   "outputs": [
    {
     "data": {
      "text/plain": [
       "{3, 4, 5, 7, 8, 56, 76}"
      ]
     },
     "execution_count": 18,
     "metadata": {},
     "output_type": "execute_result"
    },
    {
     "data": {
      "text/plain": [
       "{3, 4, 5, 7, 8, 56, 76}"
      ]
     },
     "execution_count": 18,
     "metadata": {},
     "output_type": "execute_result"
    }
   ],
   "source": [
    "s"
   ]
  },
  {
   "cell_type": "code",
   "execution_count": 19,
   "metadata": {},
   "outputs": [
    {
     "name": "stdout",
     "output_type": "stream",
     "text": [
      "3\n",
      "4\n",
      "5\n",
      "7\n",
      "8\n",
      "56\n",
      "76\n",
      "3\n",
      "4\n",
      "5\n",
      "7\n",
      "8\n",
      "56\n",
      "76\n"
     ]
    }
   ],
   "source": [
    "for i in s:\n",
    "    print(i)"
   ]
  },
  {
   "cell_type": "code",
   "execution_count": 20,
   "metadata": {},
   "outputs": [],
   "source": [
    "d = {\"name\": \"rajdip\", 'class': [\"big data\", \"data analytics\", \n",
    "                                 \"data science \", \"DSA\", \"architecture\", \"system design\"], \n",
    "                                 'mobile no': 345353453, \"email_id\": 'raj12345@gmail.com'}"
   ]
  },
  {
   "cell_type": "code",
   "execution_count": 21,
   "metadata": {},
   "outputs": [
    {
     "data": {
      "text/plain": [
       "{'name': 'rajdip',\n",
       " 'class': ['big data',\n",
       "  'data analytics',\n",
       "  'data science ',\n",
       "  'DSA',\n",
       "  'architecture',\n",
       "  'system design'],\n",
       " 'mobile no': 345353453,\n",
       " 'email_id': 'raj12345@gmail.com'}"
      ]
     },
     "execution_count": 21,
     "metadata": {},
     "output_type": "execute_result"
    },
    {
     "data": {
      "text/plain": [
       "{'name': 'rajdip',\n",
       " 'class': ['big data',\n",
       "  'data analytics',\n",
       "  'data science ',\n",
       "  'DSA',\n",
       "  'architecture',\n",
       "  'system design'],\n",
       " 'mobile no': 345353453,\n",
       " 'email_id': 'raj12345@gmail.com'}"
      ]
     },
     "execution_count": 21,
     "metadata": {},
     "output_type": "execute_result"
    }
   ],
   "source": [
    "d"
   ]
  },
  {
   "cell_type": "code",
   "execution_count": 22,
   "metadata": {},
   "outputs": [
    {
     "data": {
      "text/plain": [
       "dict_values(['rajdip', ['big data', 'data analytics', 'data science ', 'DSA', 'architecture', 'system design'], 345353453, 'raj12345@gmail.com'])"
      ]
     },
     "execution_count": 22,
     "metadata": {},
     "output_type": "execute_result"
    },
    {
     "data": {
      "text/plain": [
       "dict_values(['rajdip', ['big data', 'data analytics', 'data science ', 'DSA', 'architecture', 'system design'], 345353453, 'raj12345@gmail.com'])"
      ]
     },
     "execution_count": 22,
     "metadata": {},
     "output_type": "execute_result"
    }
   ],
   "source": [
    "d.values()"
   ]
  },
  {
   "cell_type": "code",
   "execution_count": 23,
   "metadata": {},
   "outputs": [
    {
     "name": "stdout",
     "output_type": "stream",
     "text": [
      "yes this mentor teach system design\n",
      "yes this mentor teach system design\n"
     ]
    }
   ],
   "source": [
    "for i in d.values():\n",
    "    if type(i) == list and 'system design' in i:\n",
    "        print(\"yes this mentor teach system design\")"
   ]
  },
  {
   "cell_type": "code",
   "execution_count": 24,
   "metadata": {},
   "outputs": [
    {
     "name": "stdout",
     "output_type": "stream",
     "text": [
      "big data\n",
      "data analytics\n",
      "data science \n",
      "DSA\n",
      "architecture\n",
      "system design\n",
      "big data\n",
      "data analytics\n",
      "data science \n",
      "DSA\n",
      "architecture\n",
      "system design\n"
     ]
    }
   ],
   "source": [
    "for i in d.values():\n",
    "    if type(i) == list:\n",
    "        for j in i:\n",
    "            print(j)"
   ]
  },
  {
   "cell_type": "code",
   "execution_count": null,
   "metadata": {},
   "outputs": [],
   "source": []
  }
 ],
 "metadata": {
  "kernelspec": {
   "display_name": "Python 3 (ipykernel)",
   "language": "python",
   "name": "python3"
  },
  "language_info": {
   "codemirror_mode": {
    "name": "ipython",
    "version": 3
   },
   "file_extension": ".py",
   "mimetype": "text/x-python",
   "name": "python",
   "nbconvert_exporter": "python",
   "pygments_lexer": "ipython3",
   "version": "3.9.16"
  }
 },
 "nbformat": 4,
 "nbformat_minor": 2
}
