{
 "cells": [
  {
   "cell_type": "markdown",
   "metadata": {},
   "source": [
    "# For Loop :"
   ]
  },
  {
   "cell_type": "markdown",
   "metadata": {},
   "source": [
    "### 1. Write a Python program to print numbers from 1 to 10 using a for loop."
   ]
  },
  {
   "cell_type": "code",
   "execution_count": 1,
   "metadata": {},
   "outputs": [
    {
     "name": "stdout",
     "output_type": "stream",
     "text": [
      "1\n",
      "2\n",
      "3\n",
      "4\n",
      "5\n",
      "6\n",
      "7\n",
      "8\n",
      "9\n",
      "10\n"
     ]
    }
   ],
   "source": [
    "for i in range(1, 11):\n",
    "    print(i)"
   ]
  },
  {
   "cell_type": "markdown",
   "metadata": {},
   "source": [
    "- Make a iteration with the range of 1 to 11.\n",
    "- In each iteration print the number."
   ]
  },
  {
   "cell_type": "markdown",
   "metadata": {},
   "source": [
    "### 2. Explain the difference between a for loop and a while loop in Python."
   ]
  },
  {
   "cell_type": "markdown",
   "metadata": {},
   "source": [
    "- For Loop:\n",
    "    - Iterates through a sequence or iterable.\n",
    "    - Known number of iterations.\n",
    "    - Syntax:\n",
    "    ```python\n",
    "    for element in iterable:\n",
    "    ```\n",
    "\n",
    "- While Loop:\n",
    "    - Repeats a block of code while a condition is true.\n",
    "    - Condition-driven, number of iterations might vary.\n",
    "    - Syntax:\n",
    "    ```python\n",
    "    while condition:\n",
    "    ```"
   ]
  },
  {
   "cell_type": "markdown",
   "metadata": {},
   "source": [
    "### 3. Write a Python program to calculate the sum of all numbers from 1 to 100 using a for loop."
   ]
  },
  {
   "cell_type": "code",
   "execution_count": 11,
   "metadata": {},
   "outputs": [
    {
     "name": "stdout",
     "output_type": "stream",
     "text": [
      "Sum of 1 to 100:  5050\n"
     ]
    }
   ],
   "source": [
    "# Initialize a variable with 0\n",
    "digit_sum = 0\n",
    "\n",
    "# Iterate through 1 to 101 and add the number\n",
    "for i in range(1, 101):\n",
    "    digit_sum += i\n",
    "\n",
    "# Print the sum value\n",
    "print(\"Sum of 1 to 100: \", digit_sum)"
   ]
  },
  {
   "cell_type": "markdown",
   "metadata": {},
   "source": [
    "- Initialize digit_sum variable with value 0.\n",
    "- Iterate through 1 to 101 and perform sum of the numbers.\n",
    "- Finally, print the sum of the numbers."
   ]
  },
  {
   "cell_type": "markdown",
   "metadata": {},
   "source": [
    "### 4. How do you iterate through a list using a for loop in Python?"
   ]
  },
  {
   "cell_type": "markdown",
   "metadata": {},
   "source": [
    "- Use the `for` loop to go through each element in the list. Here's an example:\n",
    "```python\n",
    "my_list = [1, 2, 3, 4, 5]\n",
    "\n",
    "for element in my_list:\n",
    "    print(element)\n",
    "```\n",
    "- In this example, my_list is a list containing numbers.\n",
    "- The `for` loop goes through each element in the list and prints it."
   ]
  },
  {
   "cell_type": "markdown",
   "metadata": {},
   "source": [
    "### 5. Write a Python program to find the product of all elements in a list using a for loop."
   ]
  },
  {
   "cell_type": "code",
   "execution_count": 13,
   "metadata": {},
   "outputs": [
    {
     "name": "stdout",
     "output_type": "stream",
     "text": [
      "Multiplication of all elements in the list is: 96\n"
     ]
    }
   ],
   "source": [
    "# Make an example list\n",
    "my_list = [2, 6, 8]\n",
    "\n",
    "# Initialize a variable with 1\n",
    "multiply = 1\n",
    "\n",
    "# Iterate through every element in the list\n",
    "for i in my_list:\n",
    "    multiply *= i\n",
    "\n",
    "# Print the result\n",
    "print(\"Multiplication of all elements in the list is:\", multiply)"
   ]
  },
  {
   "cell_type": "markdown",
   "metadata": {},
   "source": [
    "- Make an example list and store it in my_list variable.\n",
    "- Initialize multiply variable with 1.\n",
    "- Iterate through every element in the list and multiply it with value in multiply variable. Store the value in multiply variable.\n",
    "- Finally, print the multiply result."
   ]
  },
  {
   "cell_type": "markdown",
   "metadata": {},
   "source": [
    "### 6. Create a Python program that prints all even numbers from 1 to 20 using a for loop."
   ]
  },
  {
   "cell_type": "code",
   "execution_count": 14,
   "metadata": {},
   "outputs": [
    {
     "name": "stdout",
     "output_type": "stream",
     "text": [
      "Even numbers 1 to 20:\n",
      "2 4 6 8 10 12 14 16 18 20 "
     ]
    }
   ],
   "source": [
    "# Iterate through 1 to 21 and print all even numbers\n",
    "print(\"Even numbers 1 to 20:\")\n",
    "for i in range(1, 21):\n",
    "    if i % 2 != 0:\n",
    "        continue\n",
    "    print(i, end=' ')"
   ]
  },
  {
   "cell_type": "markdown",
   "metadata": {},
   "source": [
    "- Iterate through a range of 1 to 21.\n",
    "- In every iteration check is the number divisible by 2 or not\n",
    "    - If no, then jump over the number without printing it using continue keyword.\n",
    "- Finally, Print the even number."
   ]
  },
  {
   "cell_type": "markdown",
   "metadata": {},
   "source": [
    "### 7. Write a Python program that calculates the factorial of a number using a for loop."
   ]
  },
  {
   "cell_type": "code",
   "execution_count": 15,
   "metadata": {},
   "outputs": [
    {
     "name": "stdout",
     "output_type": "stream",
     "text": [
      "Factorial of 5: 120\n"
     ]
    }
   ],
   "source": [
    "# Take an example number\n",
    "num = 5\n",
    "\n",
    "# Initialize a variable with 1\n",
    "fact = 1\n",
    "\n",
    "# Iterate through range of the number\n",
    "for i in range(1, num + 1):\n",
    "    fact *= i\n",
    "\n",
    "# Print the final result\n",
    "print(f\"Factorial of {num}: {fact}\")"
   ]
  },
  {
   "cell_type": "markdown",
   "metadata": {},
   "source": [
    "- Take an example number and store it in num variable.\n",
    "- Initialize fact variable with 1.\n",
    "- Iterate through the range of the number and multiply the fact value with the iteration number. Then store it in fact variable.\n",
    "- Finally, print the fact value as a result."
   ]
  },
  {
   "cell_type": "markdown",
   "metadata": {},
   "source": [
    "### 8. How can you iterate through the characters of a string using a for loop in Python?"
   ]
  },
  {
   "cell_type": "markdown",
   "metadata": {},
   "source": [
    "- Use the `for` loop to go through each character in the string. Here's an example:\n",
    "```python\n",
    "my_string = \"My name is Rajdip Das\"\n",
    "\n",
    "for char in my_string:\n",
    "    print(char)\n",
    "```\n",
    "- In this example, my_string is a string.\n",
    "- The `for` loop goes through each character in the string and prints it."
   ]
  },
  {
   "cell_type": "markdown",
   "metadata": {},
   "source": [
    "### 9. Write a Python program to find the largest number in a list using a for loop."
   ]
  },
  {
   "cell_type": "code",
   "execution_count": 16,
   "metadata": {},
   "outputs": [
    {
     "name": "stdout",
     "output_type": "stream",
     "text": [
      "Largest number in the list is: 36\n"
     ]
    }
   ],
   "source": [
    "# Make an example list\n",
    "my_list = [12, 25, 36, 11, 15]\n",
    "\n",
    "# Initialize a value with low number\n",
    "max_value = -float('Inf')\n",
    "\n",
    "# Iterate through every element in the list and check the large number\n",
    "for ele in my_list:\n",
    "    if ele > max_value:\n",
    "        max_value = ele\n",
    "\n",
    "# Print the largest number\n",
    "print(f\"Largest number in the list is: {max_value}\")"
   ]
  },
  {
   "cell_type": "markdown",
   "metadata": {},
   "source": [
    "- Make an example list and store the list in my_list variable.\n",
    "- Initialize max_value with a very low number.\n",
    "- Iterate through every element in the list.\n",
    "- In every iteration check the list value with the value in max_value variable.\n",
    "- If the list value greater than max_value then value in max_value updated with the new value (value in ele).\n",
    "- Finally, print the max_value as the largest number."
   ]
  },
  {
   "cell_type": "markdown",
   "metadata": {},
   "source": [
    "### 10. Create a Python program that prints the Fibonacci sequence up to a specified limit using a for loop."
   ]
  },
  {
   "cell_type": "code",
   "execution_count": 18,
   "metadata": {},
   "outputs": [
    {
     "name": "stdout",
     "output_type": "stream",
     "text": [
      "Fibonacci sequence up to 20 :\n",
      "0\n",
      "1\n",
      "1\n",
      "2\n",
      "3\n",
      "5\n",
      "8\n",
      "13\n"
     ]
    }
   ],
   "source": [
    "# Take an example limit\n",
    "limit = 20\n",
    "\n",
    "# Initialize the first two numbers in the sequence\n",
    "a, b = 0, 1\n",
    "\n",
    "# Print the first value in the sequence\n",
    "print(\"Fibonacci sequence up to\", limit, \":\")\n",
    "print(a)\n",
    "\n",
    "# Iterate through the range of limit-1\n",
    "for i in range(limit - 1):\n",
    "    print(b)\n",
    "    a, b = b, a + b\n",
    "    if b > limit:\n",
    "        break "
   ]
  },
  {
   "cell_type": "markdown",
   "metadata": {},
   "source": [
    "- Take an example limit and store it in limit variable.\n",
    "- Initialize the first two numbers in the sequence and store them in 'a' and 'b' variable.\n",
    "- Then, print the first value in the sequence.\n",
    "- Finally, iterate through the range of limit-1 and print 'b's value means the fibonacci sequence."
   ]
  },
  {
   "cell_type": "markdown",
   "metadata": {},
   "source": [
    "### 11. Write a Python program to count the number of vowels in a given string using a for loop."
   ]
  },
  {
   "cell_type": "code",
   "execution_count": 19,
   "metadata": {},
   "outputs": [
    {
     "name": "stdout",
     "output_type": "stream",
     "text": [
      "Total number of vowels in the string is: 6\n"
     ]
    }
   ],
   "source": [
    "# Make an example string\n",
    "string = \"My name is Rajdip Das\"\n",
    "\n",
    "# Initialize a variable with 0\n",
    "vowel_count = 0\n",
    "\n",
    "# Iterate through every character in the string\n",
    "for char in string:\n",
    "    if char.lower() in 'aeiou':\n",
    "        vowel_count += 1\n",
    "\n",
    "# Print the result\n",
    "print(\"Total number of vowels in the string is:\", vowel_count)"
   ]
  },
  {
   "cell_type": "markdown",
   "metadata": {},
   "source": [
    "- Make an example string and store it in string variable.\n",
    "- Initialize vowel_count variable with 0.\n",
    "- Iterate through every character in the string.\n",
    "- In every iteration make the character lower case and check if it is in 'aeiou' or not.\n",
    "- If yes, then increase the vowel_count's value by 1.\n",
    "- Finally, print the total number of vowels."
   ]
  },
  {
   "cell_type": "markdown",
   "metadata": {},
   "source": [
    "### 12. Create a Python program that generates a multiplication table for a given number using a for loop."
   ]
  },
  {
   "cell_type": "code",
   "execution_count": 20,
   "metadata": {},
   "outputs": [
    {
     "name": "stdout",
     "output_type": "stream",
     "text": [
      "9 X 1 = 9\n",
      "9 X 2 = 18\n",
      "9 X 3 = 27\n",
      "9 X 4 = 36\n",
      "9 X 5 = 45\n",
      "9 X 6 = 54\n",
      "9 X 7 = 63\n",
      "9 X 8 = 72\n",
      "9 X 9 = 81\n",
      "9 X 10 = 90\n"
     ]
    }
   ],
   "source": [
    "# Take an example number\n",
    "num = 9\n",
    "\n",
    "# Iterate through a range of 1 to 11 and print the multiplication table\n",
    "for i in range(1, 11):\n",
    "    print(f\"{num} X {i} = {num * i}\")"
   ]
  },
  {
   "cell_type": "markdown",
   "metadata": {},
   "source": [
    "- Take an example number and store it in num variable.\n",
    "- Iterate through a range of 1 to 11.\n",
    "- In every iteration multiply the num value with iteration value and print it."
   ]
  },
  {
   "cell_type": "markdown",
   "metadata": {},
   "source": [
    "### 13. Write a Python program to reverse a list using a for loop."
   ]
  },
  {
   "cell_type": "code",
   "execution_count": 22,
   "metadata": {},
   "outputs": [
    {
     "name": "stdout",
     "output_type": "stream",
     "text": [
      "The reverse list: [7, 4, 9, 6, 3, 1]\n"
     ]
    }
   ],
   "source": [
    "# Make an example list\n",
    "my_list = [1, 3, 6, 9, 4, 7]\n",
    "\n",
    "# Initialize a variable with empty list\n",
    "rev_list = []\n",
    "\n",
    "# Iterate through every element in the list in reverse order\n",
    "for i in range(-1, -(len(my_list) + 1), -1):\n",
    "    rev_list.append(my_list[i])\n",
    "\n",
    "# Print the reverse list\n",
    "print(\"The reverse list:\", rev_list)"
   ]
  },
  {
   "cell_type": "markdown",
   "metadata": {},
   "source": [
    "- Make an example list and store the list in my_list variable.\n",
    "- Initialize rev_list variable with empty list.\n",
    "- Iterate through every element in the list in reverse order.\n",
    "- In every iteration the element in particular position append in the rev_list variable using .append() method.\n",
    "- Finally, print the reverse list."
   ]
  },
  {
   "cell_type": "markdown",
   "metadata": {},
   "source": [
    "### 14. Write a Python program to find the common elements between two lists using a for loop."
   ]
  },
  {
   "cell_type": "code",
   "execution_count": 23,
   "metadata": {},
   "outputs": [
    {
     "name": "stdout",
     "output_type": "stream",
     "text": [
      "Common elements: [2, 3, 4]\n"
     ]
    }
   ],
   "source": [
    "# Make two example list\n",
    "list1 = [1, 2, 3, 4, 1, 2, 3]\n",
    "list2 = [2, 4, 6, 8, 3]\n",
    "\n",
    "# Initialize a variable with empty list\n",
    "my_list = []\n",
    "\n",
    "# Iterate through every elements in the two lists and check common elements\n",
    "for ele1 in list1:\n",
    "    for ele2 in list2:\n",
    "        if ele1 == ele2:\n",
    "            if ele1 not in my_list:\n",
    "                my_list.append(ele1)\n",
    "\n",
    "# Print the list with common elements\n",
    "print(\"Common elements:\", my_list)"
   ]
  },
  {
   "cell_type": "markdown",
   "metadata": {},
   "source": [
    "- Make two example list and store them list1 and list2 variable.\n",
    "- Initialize my_list variable with empty list.\n",
    "- Iterate through every element in the list1.\n",
    "- Iterate through every element in the list2.\n",
    "- Then check if the element in list1 and list2 are same or not.\n",
    "- If the elements are same, then check if the element in list1 already appended in my_list or not.\n",
    "- If the element not appended in my_list then append it using .append() method.\n",
    "- Finally, print my_list which contains the common elements."
   ]
  },
  {
   "cell_type": "markdown",
   "metadata": {},
   "source": [
    "### 15. Explain how to use a for loop to iterate through the keys and values of a dictionary in Python."
   ]
  },
  {
   "cell_type": "markdown",
   "metadata": {},
   "source": [
    "- We can use a `for` loop to iterate through the keys and values of a dictionary using the `items()` method. Here's how we can do it:\n",
    "```python\n",
    "my_dict = {'a': 1, 'b': 2, 'c': 3}\n",
    "\n",
    "for key, value in my_dict.items():\n",
    "    print(f\"Key: {key}, Value: {value}\")\n",
    "```\n",
    "- The `items()` method returns a view object that provides a way to iterate through the dictionary's key-value pairs.\n",
    "- In the `for` loop, `key, value` are used as placeholder variables to capture each key-value pair from the dictionary.\n",
    "- Inside the loop, we can perform actions using both the keys and corresponding values from the dictionary."
   ]
  },
  {
   "cell_type": "markdown",
   "metadata": {},
   "source": [
    "### 16. Write a Python program to find the GCD (Greatest Common Divisor) of two numbers using a for loop."
   ]
  },
  {
   "cell_type": "code",
   "execution_count": 25,
   "metadata": {},
   "outputs": [
    {
     "name": "stdout",
     "output_type": "stream",
     "text": [
      "GCD of 18 and 42 = 6\n"
     ]
    }
   ],
   "source": [
    "# Take two example number\n",
    "num1 = 18\n",
    "num2 = 42\n",
    "\n",
    "# Initialize a variable with 0\n",
    "GCD = 0\n",
    "\n",
    "# Iterate through a range of 1 to max value between num1 and num2\n",
    "for i in range(1, max(num1, num2)):\n",
    "    if num1 % i == 0 and num2 % i == 0:\n",
    "        GCD = i\n",
    "\n",
    "# Print the answer\n",
    "print(f\"GCD of {num1} and {num2} = {GCD}\")"
   ]
  },
  {
   "cell_type": "markdown",
   "metadata": {},
   "source": [
    "- Take two example number and store them in num1 and num2 variable.\n",
    "- Initialize GCD variable with 0.\n",
    "- Iterate through a range of 1 to max value between num1 and num2.\n",
    "- Check if num1 and num2 modulo divide by i equals to 0 or not.\n",
    "- If the condition satisfied then update GCD value with i'th value.\n",
    "- Finally, print the answer."
   ]
  },
  {
   "cell_type": "markdown",
   "metadata": {},
   "source": [
    "### 17. Create a Python program that checks if a string is a palindrome using a for loop."
   ]
  },
  {
   "cell_type": "code",
   "execution_count": 33,
   "metadata": {},
   "outputs": [
    {
     "name": "stdout",
     "output_type": "stream",
     "text": [
      "The string is palindrome.\n"
     ]
    }
   ],
   "source": [
    "# Take an example striong\n",
    "string = \"malayalam\"\n",
    "\n",
    "# Initialize a variable with empty string\n",
    "rev_string = \"\"\n",
    "\n",
    "# Make the string reverse\n",
    "for i in range(-1, -(len(string) + 1), -1):\n",
    "    rev_string += string[i]\n",
    "\n",
    "# Check if the string and rev_string equal or not and print the result\n",
    "if string == rev_string:\n",
    "    print(\"The string is palindrome.\")\n",
    "else:\n",
    "    print(\"The string is not palindrome.\")"
   ]
  },
  {
   "cell_type": "markdown",
   "metadata": {},
   "source": [
    "- Take an example string and store it in string variable.\n",
    "- Initialize rev_string variable with empty string.\n",
    "- Make the string reverse using `for` loop and store the string in rev_string variable.\n",
    "- Then check is the string and rev_string equal or not.\n",
    "- If the two strings are same then print the string is palindrome. else, print the string is not palindrome."
   ]
  },
  {
   "cell_type": "markdown",
   "metadata": {},
   "source": [
    "### 18. Write a Python program to remove duplicates from a list using a for loop."
   ]
  },
  {
   "cell_type": "code",
   "execution_count": 39,
   "metadata": {},
   "outputs": [
    {
     "name": "stdout",
     "output_type": "stream",
     "text": [
      "List after remove duplicate values: [1, 2, 3, 5, 8, 9]\n"
     ]
    }
   ],
   "source": [
    "# Make an example list\n",
    "my_list = [1, 2, 3, 5, 8, 2, 3, 8, 9]\n",
    "\n",
    "# Initialize an empty list\n",
    "unique_list = []\n",
    "\n",
    "# Iterate through every element in the list\n",
    "for ele in my_list:\n",
    "    if ele not in unique_list:\n",
    "        unique_list.append(ele)\n",
    "\n",
    "# Print the list\n",
    "print(\"List after remove duplicate values:\", unique_list)"
   ]
  },
  {
   "cell_type": "markdown",
   "metadata": {},
   "source": [
    "- Make an example list and store it in my_list variable.\n",
    "- Initialize unique_list variable with empty list.\n",
    "- Iterate through every element in the list.\n",
    "- Check if the element already in the unique_list or not.\n",
    "- If the element is not in the unique_list then append the element in unique_list using .append() method.\n",
    "- Finally, print the unique list."
   ]
  },
  {
   "cell_type": "markdown",
   "metadata": {},
   "source": [
    "### 19. Create a Python program that counts the number of words in a sentence using a for loop."
   ]
  },
  {
   "cell_type": "code",
   "execution_count": 40,
   "metadata": {},
   "outputs": [
    {
     "name": "stdout",
     "output_type": "stream",
     "text": [
      "Total numer of words in the string: 4\n"
     ]
    }
   ],
   "source": [
    "# Make an example string\n",
    "string = \"My name is Raj\"\n",
    "\n",
    "# Initialize a variable with 0\n",
    "count = 0\n",
    "\n",
    "# Iterate through every character in the string\n",
    "for char in string:\n",
    "    if char == \" \":\n",
    "        count += 1\n",
    "\n",
    "# Increase count value by 1 for the last word\n",
    "count += 1\n",
    "\n",
    "# Print the result\n",
    "print(\"Total numer of words in the string:\", count)"
   ]
  },
  {
   "cell_type": "markdown",
   "metadata": {},
   "source": [
    "- Make an example string and store it in string variable.\n",
    "- Initialize count variable with 0.\n",
    "- Iterate through every character in the string.\n",
    "- Check is the character is a \" \" (space) or not. If yes then increase count value by 1.\n",
    "- Then increase count value by 1, once again for the last word.\n",
    "- Finally, print the total number of words in the string."
   ]
  },
  {
   "cell_type": "markdown",
   "metadata": {},
   "source": [
    "### 20. Write a Python program to find the sum of all odd numbers from 1 to 50 using a for loop."
   ]
  },
  {
   "cell_type": "code",
   "execution_count": 41,
   "metadata": {},
   "outputs": [
    {
     "name": "stdout",
     "output_type": "stream",
     "text": [
      "Sum of all odd numbers between 1 to 50: 625\n"
     ]
    }
   ],
   "source": [
    "# Initialize a variable with 0\n",
    "digit_sum = 0\n",
    "\n",
    "# Iterate through 1 to 51 and find odd numbers\n",
    "for i in range(1, 51):\n",
    "    if i % 2 != 0:\n",
    "        digit_sum += i\n",
    "\n",
    "# Print the sum result\n",
    "print(\"Sum of all odd numbers between 1 to 50:\", digit_sum)"
   ]
  },
  {
   "cell_type": "markdown",
   "metadata": {},
   "source": [
    "- Initialize digit_sum variable with 0.\n",
    "- Iterate through a range of 1 to 51.\n",
    "- Check if the number even or odd.\n",
    "- if the number odd, then sum it with digit_sum and store it in digit_sum variable.\n",
    "- Finally, print the sum result."
   ]
  },
  {
   "cell_type": "markdown",
   "metadata": {},
   "source": [
    "### 21. Write a Python program that checks if a given year is a leap year using a for loop."
   ]
  },
  {
   "cell_type": "code",
   "execution_count": 42,
   "metadata": {},
   "outputs": [
    {
     "name": "stdout",
     "output_type": "stream",
     "text": [
      "2000 is a leap year.\n"
     ]
    }
   ],
   "source": [
    "# Take an example year\n",
    "year = 2000\n",
    "\n",
    "# Initialize a variable with False\n",
    "leap_year = False\n",
    "\n",
    "# Iterate through a range of 4 to year+1 with step value 4\n",
    "for i in range(4, year + 1, 4):\n",
    "    if i % 100 != 0 or (i % 100 == 0 and i % 400 == 0):\n",
    "        if i == year:\n",
    "            leap_year = True\n",
    "\n",
    "# Check the status and print the result\n",
    "if leap_year:\n",
    "    print(f\"{year} is a leap year.\")\n",
    "else:\n",
    "    print(f\"{year} is not a leap year.\")"
   ]
  },
  {
   "cell_type": "markdown",
   "metadata": {},
   "source": [
    "- Take an example year and store it in year variable.\n",
    "- Initialize leap_year variable with boolean value False.\n",
    "- Iterate through a range of 4 to year+1 with step value 4.\n",
    "- In every iteration, check is the year leap year or not.\n",
    "- If the year leap year then update leap_year value with True.\n",
    "- Then, check if leap_year True then print the year is a leap year. else, print the year is not a leap year."
   ]
  },
  {
   "cell_type": "markdown",
   "metadata": {},
   "source": [
    "### 22. Create a Python program that calculates the square root of a number using a for loop."
   ]
  },
  {
   "cell_type": "code",
   "execution_count": 48,
   "metadata": {},
   "outputs": [
    {
     "name": "stdout",
     "output_type": "stream",
     "text": [
      "The square root of 24 is: 4.898979485566356\n"
     ]
    }
   ],
   "source": [
    "# Take an example number\n",
    "num = 24\n",
    "\n",
    "# Calculate the initial guess for the square root of the number\n",
    "guess = num / 2.0\n",
    "\n",
    "# Make the square root number more accurate\n",
    "for _ in range(10):\n",
    "    guess = (guess + num / guess) / 2.0\n",
    "\n",
    "# Print the answer\n",
    "print(f\"The square root of {num} is:\", guess)"
   ]
  },
  {
   "cell_type": "markdown",
   "metadata": {},
   "source": [
    "- Take an example number and store it in num variable.\n",
    "- Calculate the initial guess for the square root of the number and store the value in guess variable.\n",
    "- Make the square root number more accurate using a `for` loop.\n",
    "- Finally print the answer."
   ]
  },
  {
   "cell_type": "markdown",
   "metadata": {},
   "source": [
    "### 23. Write a Python program to find the LCM (Least Common Multiple) of two numbers using a for loop."
   ]
  },
  {
   "cell_type": "code",
   "execution_count": 49,
   "metadata": {},
   "outputs": [
    {
     "name": "stdout",
     "output_type": "stream",
     "text": [
      "The LCM of 12 and 28 is: 84\n"
     ]
    }
   ],
   "source": [
    "# Take two example number as input\n",
    "num1 = 12\n",
    "num2 = 28\n",
    "\n",
    "# Find the maximum of the two numbers\n",
    "maximum = max(num1, num2)\n",
    "\n",
    "# Initialize a variable with 0\n",
    "LCM = 0\n",
    "\n",
    "# Iterate multiples of the larger number until finding the LCM\n",
    "for i in range(maximum, (num1 * num2) + 1, maximum):\n",
    "    if i % num1 == 0 and i % num2 == 0:\n",
    "        LCM = i\n",
    "        break\n",
    "\n",
    "print(f\"The LCM of {num1} and {num2} is:\", LCM)"
   ]
  },
  {
   "cell_type": "markdown",
   "metadata": {},
   "source": [
    "- Take two example number as input and store them in num1 and num2 variable.\n",
    "- Find the maximum of the two numbers using max() function. Store the result in maximum variable.\n",
    "- Initialize LCM variable with 0.\n",
    "- Iterate multiples of the larger number until finding the LCM.\n",
    "- After finding LCM, print the LCM value."
   ]
  },
  {
   "cell_type": "markdown",
   "metadata": {},
   "source": [
    "# If else :"
   ]
  },
  {
   "cell_type": "markdown",
   "metadata": {},
   "source": [
    "### 1. Write a Python program to check if a number is positive, negative, or zero using an if-else statement."
   ]
  },
  {
   "cell_type": "code",
   "execution_count": 1,
   "metadata": {},
   "outputs": [
    {
     "name": "stdout",
     "output_type": "stream",
     "text": [
      "Negative\n"
     ]
    }
   ],
   "source": [
    "# Take an example number\n",
    "num = -25\n",
    "\n",
    "# Check whether the number positive, negative or zero\n",
    "if num == 0:\n",
    "    print(\"Zero\")\n",
    "else:\n",
    "    if num > 0:\n",
    "        print(\"Positive\")\n",
    "    else:\n",
    "        print(\"Negative\")"
   ]
  },
  {
   "cell_type": "markdown",
   "metadata": {},
   "source": [
    "- Take an example number and store it in num variable.\n",
    "- Check whether the num 0 or not.\n",
    "- If the num is 0 then, print 'Zero'. else, check whether the num greater than 0 or not.\n",
    "- If the num is greater than 0 then, print 'Positive'. else, print 'Negative'."
   ]
  },
  {
   "cell_type": "markdown",
   "metadata": {},
   "source": [
    "### 2. Create a Python program that checks if a given number is even or odd using an if-else statement."
   ]
  },
  {
   "cell_type": "code",
   "execution_count": 2,
   "metadata": {},
   "outputs": [
    {
     "name": "stdout",
     "output_type": "stream",
     "text": [
      "26 is an even number.\n"
     ]
    }
   ],
   "source": [
    "# Take an example number\n",
    "num = 26\n",
    "\n",
    "# Check whether the number even or odd\n",
    "if num % 2 == 0:\n",
    "    print(f\"{num} is an even number.\")\n",
    "else:\n",
    "    print(f\"{num} is an odd number.\")"
   ]
  },
  {
   "cell_type": "markdown",
   "metadata": {},
   "source": [
    "- Take an example number and store it in num variable.\n",
    "- Check whether the number modulo divide by 2 equal to 0 or not.\n",
    "- If the result of division equal to 0, then print the number is an even number.\n",
    "- If the result of division not equal to 0, then print the number is an odd number."
   ]
  },
  {
   "cell_type": "markdown",
   "metadata": {},
   "source": [
    "### 3. How can you use nested if-else statements in Python, and provide an example?"
   ]
  },
  {
   "cell_type": "markdown",
   "metadata": {},
   "source": [
    "- Nested if-else statements in Python allows us to have conditional branches within other conditional branches. This helps in implementing complex decision-making structures.\n",
    "- Here's an example:\n",
    "```python\n",
    "x = -25\n",
    "\n",
    "if x == 0:\n",
    "    print(\"Zero\")\n",
    "else:\n",
    "    if x > 0:\n",
    "        print(\"Positive\")\n",
    "    else:\n",
    "        print(\"Negative\")\n",
    "```\n",
    "- Explanation:\n",
    "    - The first `if` statement checks if `x` is equal to 0.\n",
    "    - If that condition is false (`x` is not equal to 0), it moves to the `else` block.\n",
    "    - Within the `elsse` block, there's another `if` statement to check if `x` is greater than 0.\n",
    "    - If the second `if` condition (`x > 0`) is true, it prints \"Positive\".\n",
    "    - If the second `if` condition is false, it moves to the `else` block under the second `if`, which indicates that `x` is smaller than 0 and prints \"Negative\"."
   ]
  },
  {
   "cell_type": "markdown",
   "metadata": {},
   "source": [
    "### 4. Write a Python program to determine the largest of three numbers using if-else."
   ]
  },
  {
   "cell_type": "code",
   "execution_count": 4,
   "metadata": {},
   "outputs": [
    {
     "name": "stdout",
     "output_type": "stream",
     "text": [
      "25 is largest.\n"
     ]
    }
   ],
   "source": [
    "# Take three example number\n",
    "num1 = 12\n",
    "num2 = 25\n",
    "num3 = 8\n",
    "\n",
    "# Check which is the largest number among the three numbers\n",
    "if num1 > num2 and num1 > num3:\n",
    "    print(f\"{num1} is largest.\")\n",
    "else:\n",
    "    if num2 > num1 and num2 > num3:\n",
    "        print(f\"{num2} is largest.\")\n",
    "    else:\n",
    "        print(f\"{num3} is largest.\")"
   ]
  },
  {
   "cell_type": "markdown",
   "metadata": {},
   "source": [
    "- Take three example number and store them num1, num2 and num3 variable respectively.\n",
    "- Check whether num1 is greater than num2 and num3 or not.\n",
    "- If the condition satisfied then print num1 is largest.\n",
    "- else, check whether num2 is greater than num1 and num3 or not.\n",
    "- If the condition satisfied then print num2 is largest.\n",
    "- Finally, if any of the above conditions are not satisfied then print, num3 is largest."
   ]
  },
  {
   "cell_type": "markdown",
   "metadata": {},
   "source": [
    "### 5. Write a Python program that calculates the absolute value of a number using if-else."
   ]
  },
  {
   "cell_type": "code",
   "execution_count": 5,
   "metadata": {},
   "outputs": [
    {
     "name": "stdout",
     "output_type": "stream",
     "text": [
      "Absolute value of -12: 12\n"
     ]
    }
   ],
   "source": [
    "# Take an example number\n",
    "num = -12\n",
    "\n",
    "# Check if the number smaller than 0 or not\n",
    "if num < 0:\n",
    "    abs_num = -num\n",
    "    print(f\"Absolute value of {num}: {abs_num}\")\n",
    "else:\n",
    "    print(f\"Absolute value of {num}: {num}\")"
   ]
  },
  {
   "cell_type": "markdown",
   "metadata": {},
   "source": [
    "- Take an example number.\n",
    "- Check whether the number smaller than 0 or not.\n",
    "- If the number smaller than 0 then convert it to positive number and print the positive number as absolute value.\n",
    "- else, print the number as it's absolute value."
   ]
  },
  {
   "cell_type": "markdown",
   "metadata": {},
   "source": [
    "### 6. Create a Python program that checks if a given character is a vowel or consonant using if-else."
   ]
  },
  {
   "cell_type": "code",
   "execution_count": 10,
   "metadata": {},
   "outputs": [
    {
     "name": "stdout",
     "output_type": "stream",
     "text": [
      "The character is a vowel.\n"
     ]
    }
   ],
   "source": [
    "# Take an example character\n",
    "char = 'e'\n",
    "\n",
    "# Check whether the character vowel or consonant\n",
    "if char.lower() in 'aeiou':\n",
    "    print(\"The character is a vowel.\")\n",
    "else:\n",
    "    print(\"The character is a consonant.\")"
   ]
  },
  {
   "cell_type": "markdown",
   "metadata": {},
   "source": [
    "- Take an example character and store it in char variable.\n",
    "- Check whether the character vowel or consonant.\n",
    "- If the character vowel, then print the character is a vowel.\n",
    "- else, print the character is a consonant."
   ]
  },
  {
   "cell_type": "markdown",
   "metadata": {},
   "source": [
    "### 7. Write a Python program to determine if a user is eligible to vote based on their age using if-else."
   ]
  },
  {
   "cell_type": "code",
   "execution_count": 11,
   "metadata": {},
   "outputs": [
    {
     "name": "stdout",
     "output_type": "stream",
     "text": [
      "You are eligible for vote.\n"
     ]
    }
   ],
   "source": [
    "# Take an example age\n",
    "age = 18\n",
    "\n",
    "# Check if the user is eligible to vote or not\n",
    "if age >= 18:\n",
    "    print(\"You are eligible for vote.\")\n",
    "else:\n",
    "    print(\"You are not eligible for vote.\")"
   ]
  },
  {
   "cell_type": "markdown",
   "metadata": {},
   "source": [
    "- Take an example age and store it in age variable.\n",
    "- Check whether the age is greater than or equal to 18 or not.\n",
    "- If the condition satisfied then, print you are eligible for vote.\n",
    "- else, print you are not eligible for vote."
   ]
  },
  {
   "cell_type": "markdown",
   "metadata": {},
   "source": [
    "### 8. Create a Python program that calculates the discount amount based on the purchase amount using if-else."
   ]
  },
  {
   "cell_type": "code",
   "execution_count": 12,
   "metadata": {},
   "outputs": [
    {
     "name": "stdout",
     "output_type": "stream",
     "text": [
      "You have to pay: 600.0\n"
     ]
    }
   ],
   "source": [
    "# Take an example value\n",
    "amount = 750\n",
    "\n",
    "# Apply discount based on the amount\n",
    "if amount < 100:\n",
    "    discount = 0\n",
    "    discount_price = amount\n",
    "elif 100 <= amount < 500:\n",
    "    discount = 10\n",
    "    discount_price = amount - (amount * 0.1)\n",
    "elif 500 <= amount < 1000:\n",
    "    discount = 20\n",
    "    discount_price = amount - (amount * 0.2)\n",
    "else:\n",
    "    discount = 30\n",
    "    discount_price = amount - (amount * 0.3)\n",
    "\n",
    "# Print the amount after applying discount\n",
    "print(f\"You have to pay: {discount_price}\")"
   ]
  },
  {
   "cell_type": "markdown",
   "metadata": {},
   "source": [
    "- Take an example amount and store it in amount variable.\n",
    "- Apply discount based on the amount. amount smaller than 100: 0% discount, amount between 100 to 500: 10% discount, amount between 500 to 1000: 20% discount, amount 1000 or more: 30% discount.\n",
    "- After applying discount store the final price in discount_price variable.\n",
    "- Finally, print the total payable amount."
   ]
  },
  {
   "cell_type": "markdown",
   "metadata": {},
   "source": [
    "### 9. Write a Python program to check if a number is within a specified range using if-else."
   ]
  },
  {
   "cell_type": "code",
   "execution_count": 14,
   "metadata": {},
   "outputs": [
    {
     "name": "stdout",
     "output_type": "stream",
     "text": [
      "12 is not within the range of 15 to 50.\n"
     ]
    }
   ],
   "source": [
    "# Take an example number\n",
    "num = 12\n",
    "\n",
    "# Take example range\n",
    "lower_limit = 15\n",
    "upper_limit = 50\n",
    "\n",
    "# Check whether the number is within the range or not\n",
    "if lower_limit <= num <= upper_limit:\n",
    "    print(f\"{num} is within the range of {lower_limit} to {upper_limit}.\")\n",
    "else:\n",
    "    print(f\"{num} is not within the range of {lower_limit} to {upper_limit}.\")"
   ]
  },
  {
   "cell_type": "markdown",
   "metadata": {},
   "source": [
    "- Take an example number and store it in num variable.\n",
    "- Take example range and store the range's lower limit in lower_limit variable and upper limit variable in upper_limit variable.\n",
    "- Check whether the number is within the range or not.\n",
    "- If the number within the range, then print the number within the range.\n",
    "- else, print the number not within the range."
   ]
  },
  {
   "cell_type": "markdown",
   "metadata": {},
   "source": [
    "### 10. Create a Python program that determines the grade of a student based on their score using if-else."
   ]
  },
  {
   "cell_type": "code",
   "execution_count": 15,
   "metadata": {},
   "outputs": [
    {
     "name": "stdout",
     "output_type": "stream",
     "text": [
      "You got: A\n"
     ]
    }
   ],
   "source": [
    "# Take an example number\n",
    "score = 91\n",
    "\n",
    "# Take an empty string\n",
    "grade = \"\"\n",
    "\n",
    "# Check the grade\n",
    "if score >= 90:\n",
    "    grade = \"A\"\n",
    "elif score >= 80:\n",
    "    grade = \"B\"\n",
    "elif score >= 70:\n",
    "    grade = \"C\"\n",
    "elif score >= 60:\n",
    "    grade = \"D\"\n",
    "else:\n",
    "    grade = \"F\"\n",
    "\n",
    "# Print the grade\n",
    "print(f\"You got: {grade}\")"
   ]
  },
  {
   "cell_type": "markdown",
   "metadata": {},
   "source": [
    "- Take an example number and store it in score variable.\n",
    "- Take grade variable as empty string.\n",
    "- Check the number and store an example grade(A, B, C, D, F) in grade variable.\n",
    "- Finally, print the grade."
   ]
  },
  {
   "cell_type": "markdown",
   "metadata": {},
   "source": [
    "### 11. Write a Python program to check if a string is empty or not using if-else."
   ]
  },
  {
   "cell_type": "code",
   "execution_count": 18,
   "metadata": {},
   "outputs": [
    {
     "name": "stdout",
     "output_type": "stream",
     "text": [
      "The string is not empty.\n"
     ]
    }
   ],
   "source": [
    "# Make an example string\n",
    "string = \"My name is Rajdip Das\"\n",
    "\n",
    "# Check whether the string is empty or not.\n",
    "if not string:\n",
    "    print(\"The string is empty.\")\n",
    "else:\n",
    "    print(\"The string is not empty.\")"
   ]
  },
  {
   "cell_type": "markdown",
   "metadata": {},
   "source": [
    "- Make an example string and store it in string variable.\n",
    "- Check whether the string is empty or not.\n",
    "- If the string empty, print the string is empty. else, print the string is not empty."
   ]
  },
  {
   "cell_type": "markdown",
   "metadata": {},
   "source": [
    "### 12. Create a Python program that identifies the type of a triangle (e.g., equilateral, isosceles, or scalene) based on input values using if-else."
   ]
  },
  {
   "cell_type": "code",
   "execution_count": 19,
   "metadata": {},
   "outputs": [
    {
     "name": "stdout",
     "output_type": "stream",
     "text": [
      "The triangle is isosceles.\n"
     ]
    }
   ],
   "source": [
    "# Take three example sides\n",
    "side1 = 12\n",
    "side2 = 26\n",
    "side3 = 12\n",
    "\n",
    "# Check the type of triangle\n",
    "if side1 == side2 == side3:\n",
    "    print(\"The triangle is Equilateral.\")\n",
    "elif side1 == side2 or side2 == side3 or side1 == side3:\n",
    "    print(\"The triangle is isosceles.\")\n",
    "else:\n",
    "    print(\"The triangle is Scalene.\")"
   ]
  },
  {
   "cell_type": "markdown",
   "metadata": {},
   "source": [
    "- Take three example side and store the value in side1, side2 and side3 variable.\n",
    "- Check whether side1, side2 and side3 equal or not.\n",
    "- If the condition satisfied then print the triangle isequilateral.\n",
    "- If the condition not satisfied then check is any of the two sides equal or not.\n",
    "- If the candition satisfied then print the triangle is isosceles.\n",
    "- else, print the triangle is scalene."
   ]
  },
  {
   "cell_type": "markdown",
   "metadata": {},
   "source": [
    "### 13. Write a Python program to determine the day of the week based on a user-provided number using if-else."
   ]
  },
  {
   "cell_type": "code",
   "execution_count": 20,
   "metadata": {},
   "outputs": [
    {
     "name": "stdout",
     "output_type": "stream",
     "text": [
      "Friday\n"
     ]
    }
   ],
   "source": [
    "# Take an example number between 1 to 7\n",
    "day = 5\n",
    "\n",
    "# Check which day of the week on the number\n",
    "if day == 1:\n",
    "    print(\"Monday\")\n",
    "elif day == 2:\n",
    "    print(\"Tuesday\")\n",
    "elif day == 3:\n",
    "    print(\"Wednesday\")\n",
    "elif day == 4:\n",
    "    print(\"Thursday\")\n",
    "elif day == 5:\n",
    "    print(\"Friday\")\n",
    "elif day == 6:\n",
    "    print(\"Saturday\")\n",
    "elif day == 7:\n",
    "    print(\"Sunday\")\n",
    "else:\n",
    "    print(\"Invalid input!! Please enter a valid number between 1 to 7.\")"
   ]
  },
  {
   "cell_type": "markdown",
   "metadata": {},
   "source": [
    "- Take an example number between 1 to 7 and store the number in 'day' variable.\n",
    "- Check which day of the week on this number and print the day.\n",
    "- If the number not between 1 to 7 then print it's a invalid input."
   ]
  },
  {
   "cell_type": "markdown",
   "metadata": {},
   "source": [
    "### 14. Create a Python program that checks if a given year is a leap year using both if-else and a function."
   ]
  },
  {
   "cell_type": "code",
   "execution_count": 23,
   "metadata": {},
   "outputs": [
    {
     "name": "stdout",
     "output_type": "stream",
     "text": [
      "2000 is a leap year.\n"
     ]
    }
   ],
   "source": [
    "# Create a function called leap_year\n",
    "def leap_year(year:int) -> str:\n",
    "    '''\n",
    "    Take a year as input. Return the year leap year or not\n",
    "    '''\n",
    "    \n",
    "    # Check is the year leap year or not\n",
    "    if year % 400 == 0 or (year % 4 == 0 and year % 100 != 0):\n",
    "        return f\"{year} is a leap year.\"\n",
    "\n",
    "    else:\n",
    "        return f\"{year} is not a leap year.\"\n",
    "    \n",
    "# Take an example year\n",
    "n = 2000\n",
    "\n",
    "# Pass the year in leap_year() function and print it\n",
    "print(leap_year(n))"
   ]
  },
  {
   "cell_type": "markdown",
   "metadata": {},
   "source": [
    "- Create a function called leap_year() and take a parameter named 'year'.\n",
    "- Check is the year leap year or not an return the answer.\n",
    "- Then take an example year and store it in 'n' variable.\n",
    "- Finally, print the answer using the leap_year() function and pass the 'n' value in the function."
   ]
  },
  {
   "cell_type": "markdown",
   "metadata": {},
   "source": [
    "### 15. How do you use the \"assert\" statement in Python to add debugging checks within if-else blocks?"
   ]
  },
  {
   "cell_type": "markdown",
   "metadata": {},
   "source": [
    "- The `assert` statement in python is used to check if a condition is true during the program's execution.\n",
    "- It's commonly used as a debugging tool to verify assumptions aboutthe state of the program.\n",
    "- If the condition is `False`, an `AssertionError` is raised, including that something unexpected has occurred.\n",
    "- Here's an example of using assert within an if-else block:\n",
    "```python\n",
    "x = 10\n",
    "y = 5\n",
    "\n",
    "if x > y:\n",
    "    assert x % y == 0, \"y should be a factor of x\"\n",
    "    print(\"Valid condition: x is greater than y and y is a factor of x\")\n",
    "else:\n",
    "    assert y != 0, \"y should not be zero\"\n",
    "    print(\"Valid condition: x is not greater than y\")\n",
    "\n",
    "# Output will depend on the values of x and y\n",
    "```"
   ]
  },
  {
   "cell_type": "markdown",
   "metadata": {},
   "source": [
    "### 16. Create a Python program that determines the eligibility of a person for a senior citizen discount based on age using if-else."
   ]
  },
  {
   "cell_type": "code",
   "execution_count": 27,
   "metadata": {},
   "outputs": [
    {
     "name": "stdout",
     "output_type": "stream",
     "text": [
      "Congratulations! You are eligible for a senior citizen discount.\n"
     ]
    }
   ],
   "source": [
    "# Take an example age\n",
    "age = 68\n",
    "\n",
    "# Check eligibility for senior citizen discount\n",
    "if age >= 60:\n",
    "    print(\"Congratulations! You are eligible for a senior citizen discount.\")\n",
    "else:\n",
    "    print(\"Sorry, you are not eligible for a senior citizen discount.\")"
   ]
  },
  {
   "cell_type": "markdown",
   "metadata": {},
   "source": [
    "- Take an example age and store it in 'age' variable.\n",
    "- Check eligibility for senior citizen discount and print a promt for user."
   ]
  },
  {
   "cell_type": "markdown",
   "metadata": {},
   "source": [
    "### 17. Write a Python program to categorize a given character as uppercase, lowercase, or neither using if-else."
   ]
  },
  {
   "cell_type": "code",
   "execution_count": 30,
   "metadata": {},
   "outputs": [
    {
     "name": "stdout",
     "output_type": "stream",
     "text": [
      "Character is in upper case.\n"
     ]
    }
   ],
   "source": [
    "# Take an example character\n",
    "character = 'P'\n",
    "\n",
    "# Check the type of character\n",
    "if character.isupper():\n",
    "    print(\"Character is in upper case.\")\n",
    "elif character.islower():\n",
    "    print(\"Character is in lower case.\")\n",
    "else:\n",
    "    print(\"Character is neither upper case nor lower case.\")"
   ]
  },
  {
   "cell_type": "markdown",
   "metadata": {},
   "source": [
    "- Take an example character and store the character in 'character' variable.\n",
    "- Check is the character upper case or not\n",
    "- If yes, then print character is in upper case.\n",
    "- else, check is the character lower case or not.\n",
    "- If yes, then print character is in lower case.\n",
    "- else, print the character is neither upper case nor lower case."
   ]
  },
  {
   "cell_type": "markdown",
   "metadata": {},
   "source": [
    "### 18. Write a Python program to determine the roots of a quadratic equation using if-else."
   ]
  },
  {
   "cell_type": "code",
   "execution_count": 37,
   "metadata": {},
   "outputs": [
    {
     "name": "stdout",
     "output_type": "stream",
     "text": [
      "One real root: -2.0\n"
     ]
    }
   ],
   "source": [
    "import math\n",
    "\n",
    "# Take example coefficients of the quadratic equation\n",
    "a = 1\n",
    "b = 4\n",
    "c = 4\n",
    "\n",
    "# Calculate the discriminant\n",
    "discriminant = b**2 - 4*a*c\n",
    "\n",
    "# Calculate roots based on discriminant\n",
    "if discriminant > 0:\n",
    "    root1 = (-b + math.sqrt(discriminant)) / (2*a)\n",
    "    root2 = (-b - math.sqrt(discriminant)) / (2*a)\n",
    "    print(f\"Two real roots: {root1} and {root2}\")\n",
    "elif discriminant == 0:\n",
    "    root = -b / (2*a)\n",
    "    print(f\"One real root: {root}\")\n",
    "else:\n",
    "    print(\"No Solution.\")"
   ]
  },
  {
   "cell_type": "markdown",
   "metadata": {},
   "source": [
    "- At first import math in my code.\n",
    "- Take three example coefficients of the quadratic equation and store them in a, b and c variable.\n",
    "- Calculate the discriminant and store it in discriminant variable.\n",
    "- Check is the discriminant greater than 0 or not.\n",
    "- If yes, then calculate two root values and print them.\n",
    "- else, check is the discriminant value equal to 0 or not\n",
    "- If yes, then calculate one root value and print it.\n",
    "- else, print there is no solution."
   ]
  },
  {
   "cell_type": "markdown",
   "metadata": {},
   "source": [
    "### 19. Create a Python program that checks if a given year is a century year or not using if-else."
   ]
  },
  {
   "cell_type": "code",
   "execution_count": 38,
   "metadata": {},
   "outputs": [
    {
     "name": "stdout",
     "output_type": "stream",
     "text": [
      "2000 is a century year.\n"
     ]
    }
   ],
   "source": [
    "# Take an example year\n",
    "year = 2000\n",
    "\n",
    "# Check if the year is a century year or not\n",
    "if year % 100 == 0:\n",
    "    print(f\"{year} is a century year.\")\n",
    "else:\n",
    "    print(f\"{year} is not a century year.\")"
   ]
  },
  {
   "cell_type": "markdown",
   "metadata": {},
   "source": [
    "- Take an example year and store it in 'year' variable.\n",
    "- Check if the year is a century year or not.\n",
    "- If the year is a century year then print the year is a century year.\n",
    "- else, print the year is not a century year."
   ]
  },
  {
   "cell_type": "markdown",
   "metadata": {},
   "source": [
    "### 20. Write a Python program to determine if a given number is a perfect square using if-else."
   ]
  },
  {
   "cell_type": "code",
   "execution_count": 39,
   "metadata": {},
   "outputs": [
    {
     "name": "stdout",
     "output_type": "stream",
     "text": [
      "25 is a perfect square.\n"
     ]
    }
   ],
   "source": [
    "# Take an example number\n",
    "num = 25\n",
    "\n",
    "# Find the square root of the number\n",
    "sqrt_num = num ** 0.5\n",
    "\n",
    "# Check if the square root is an integer or not\n",
    "if sqrt_num.is_integer():\n",
    "    print(f\"{num} is a perfect square.\")\n",
    "else:\n",
    "    print(f\"{num} is not a perfect square.\")"
   ]
  },
  {
   "cell_type": "markdown",
   "metadata": {},
   "source": [
    "- Take an example number and store it in num variable.\n",
    "- Find the square root of the number and store it in sqrt_num variable.\n",
    "- Check if the square root is an integer or not.\n",
    "- If the number is an integer then print the number is a perfect square.\n",
    "- else, print the integer is not a perfect square."
   ]
  },
  {
   "cell_type": "markdown",
   "metadata": {},
   "source": [
    "### 21. Explain the purpose of the \"continue\" and \"break\" statements within if-else loops."
   ]
  },
  {
   "cell_type": "markdown",
   "metadata": {},
   "source": [
    "- The `continue` statement is used to skip the rest of the code within a loop for the current iteration and proceed to the next iteration.\n",
    "- **Example:**\n",
    "```python\n",
    "for i in range(1, 6):\n",
    "    if i == 3:\n",
    "        continue  # Skip the rest of the code for i = 3\n",
    "    print(i)\n",
    "```\n",
    "Output:\n",
    "```bash\n",
    "1\n",
    "2\n",
    "4\n",
    "5\n",
    "```\n",
    "<br>\n",
    "\n",
    "- The `break` statement is used to exit or terminate the entire loop prematurely when a certain condition is met, regardless of whether the loop has completed all its iterations.\n",
    "- **Example:**\n",
    "```python\n",
    "for i in range(1, 6):\n",
    "    if i == 4:\n",
    "        break  # Exit the loop when i = 4\n",
    "    print(i)\n",
    "```\n",
    "Output:\n",
    "```bash\n",
    "1\n",
    "2\n",
    "3\n",
    "```"
   ]
  },
  {
   "cell_type": "markdown",
   "metadata": {},
   "source": [
    "### 22. Create a Python program that calculates the BMI (Body Mass Index) of a person based on their weight and height using if-else."
   ]
  },
  {
   "cell_type": "code",
   "execution_count": 40,
   "metadata": {},
   "outputs": [
    {
     "name": "stdout",
     "output_type": "stream",
     "text": [
      "Normal weight\n"
     ]
    }
   ],
   "source": [
    "# Take two example value\n",
    "weight = 70     # Take weight in kilogram\n",
    "height = 1.7        # Take height in meter\n",
    "\n",
    "# Calculate BMI\n",
    "BMI = weight / (height ** 2)\n",
    "\n",
    "# Categorizing BMI\n",
    "if BMI < 18.5:\n",
    "    print(\"Underweight\")\n",
    "elif 18.5 <= BMI < 25:\n",
    "    print(\"Normal weight\")\n",
    "elif 25 <= BMI < 30:\n",
    "    print(\"Overweight\")\n",
    "else:\n",
    "    print(\"Obese\")"
   ]
  },
  {
   "cell_type": "markdown",
   "metadata": {},
   "source": [
    "- Take two example value for weight (as kilogram) and height (as meter) and store them weight and height variable.\n",
    "- Calculate BMI and store this in BMI variable.\n",
    "- Check if the BMI smaller than 18.5 or not.\n",
    "- If yes, then print underweight.\n",
    "- else, Check if the BMI between 18.5 to 25 or not.\n",
    "- If yes, then print normal weight.\n",
    "- else, Check if the BMI between 25 to 30 or not.\n",
    "- If yes, then print overweight.\n",
    "- else, print obese."
   ]
  },
  {
   "cell_type": "markdown",
   "metadata": {},
   "source": [
    "### 23. How can you use the \"filter()\" function with if-else statements to filter elements from a list?"
   ]
  },
  {
   "cell_type": "markdown",
   "metadata": {},
   "source": [
    "- The `filter()` function in python is used to filter element from an iterable based on a specified function or condition.\n",
    "- While the `filter()` function itself doesn't directly use if-else statements, it can incorporate them through lambda functions or other conditional functions to filter elements.\n",
    "- **Example:**\n",
    "\n",
    "```python\n",
    "# Example list\n",
    "numbers = [1, 2, 3, 4, 5, 6, 7, 8, 9, 10]\n",
    "\n",
    "# Filter even numbers using filter() and an if-else statement\n",
    "filtered_numbers = list(filter(lambda x: x % 2 == 0, numbers))\n",
    "\n",
    "print(\"Original list:\", numbers)\n",
    "print(\"Filtered list (even numbers):\", filtered_numbers)\n",
    "```\n",
    "Output:\n",
    "```less\n",
    "Original list: [1, 2, 3, 4, 5, 6, 7, 8, 9, 10]\n",
    "Filtered list (even numbers): [2, 4, 6, 8, 10]\n",
    "```"
   ]
  },
  {
   "cell_type": "markdown",
   "metadata": {},
   "source": [
    "### 24. Write a Python program to determine if a given number is prime or not using if-else."
   ]
  },
  {
   "cell_type": "code",
   "execution_count": 41,
   "metadata": {},
   "outputs": [
    {
     "name": "stdout",
     "output_type": "stream",
     "text": [
      "23 is prime number.\n"
     ]
    }
   ],
   "source": [
    "# Take an example number\n",
    "num = 23\n",
    "\n",
    "# Initialize a variable with True\n",
    "prime = True\n",
    "\n",
    "# Check if the number is prime\n",
    "if num <= 1:\n",
    "    prime = False\n",
    "else:\n",
    "    for i in range(2, int(num ** 0.5) + 1):\n",
    "        if num % i == 0:\n",
    "            prime = False\n",
    "            break\n",
    "\n",
    "if prime:\n",
    "    print(f\"{num} is prime number.\")\n",
    "else:\n",
    "    print(f\"{num} is not a prime number.\")"
   ]
  },
  {
   "cell_type": "markdown",
   "metadata": {},
   "source": [
    "- Take an example number and store it in num variable.\n",
    "- Initialize prime variable with a boolean number True.\n",
    "- Check if the number prime or not.\n",
    "- If the number prime or the prime variable is True then print, the number is prime.\n",
    "- else, print the number is not prime."
   ]
  },
  {
   "cell_type": "markdown",
   "metadata": {},
   "source": [
    "# Map :"
   ]
  },
  {
   "cell_type": "markdown",
   "metadata": {},
   "source": [
    "### 1. Explain the purpose of the `map()` function in Python and provide an example of how it can be used to apply a function to each element of an iterable."
   ]
  },
  {
   "cell_type": "markdown",
   "metadata": {},
   "source": [
    "- `map()` function used for applying a function to every item in an iterable without the need for explicit loops.\n",
    "- It efficiently processes elements of an iterable by applying the provided function to each element.\n",
    "- It returns a map object that contains the results of applying the function to the elements.\n",
    "\n",
    "```python\n",
    "# Function to calculate square\n",
    "def square(x):\n",
    "    return x ** 2\n",
    "\n",
    "# Take a list of numbers\n",
    "lst = [1, 2, 3, 4, 5]\n",
    "\n",
    "# Apply mapping function to calculate square and make a list of those numbers\n",
    "square_nums = list(map(square, lst))\n",
    "\n",
    "# Print the list of squared numbers\n",
    "print(\"Squared numbers:\", square_nums)\n",
    "```\n",
    "\n",
    "<br>\n",
    "\n",
    "Output:\n",
    "```py\n",
    "Squared numbers: [1, 4, 9, 16, 25]\n",
    "```"
   ]
  },
  {
   "cell_type": "markdown",
   "metadata": {},
   "source": [
    "### 2. Write a Python program that uses the `map()` function to square each element of a list of numbers."
   ]
  },
  {
   "cell_type": "code",
   "execution_count": 1,
   "metadata": {},
   "outputs": [
    {
     "name": "stdout",
     "output_type": "stream",
     "text": [
      "List of square numbers: [4, 36, 64, 16, 49, 9]\n"
     ]
    }
   ],
   "source": [
    "# Make a list of numbers\n",
    "lst = [2, 6, 8, 4, 7, 3]\n",
    "\n",
    "# Make a function which return square of a element\n",
    "def square(n):\n",
    "    return n ** 2\n",
    "\n",
    "# use map function to calculate square of each element in the list\n",
    "square_map = map(square, lst)\n",
    "\n",
    "# Convert the answer of mapping in a list\n",
    "square_list = list(square_map)\n",
    "\n",
    "# Print the list of square numbers\n",
    "print(\"List of square numbers:\", square_list)"
   ]
  },
  {
   "cell_type": "markdown",
   "metadata": {},
   "source": [
    "- Make a list of numbers and store it in lst variable.\n",
    "- Make `square()` function and return square of an integer.\n",
    "- Use `map()` function to calculate square of each element in the list. Pass `square` function and the list as parameter in `map()` function. Store the object in square_map variable.\n",
    "- Convert the object into list using `list()` function and store the list in square_list variable.\n",
    "- Finally, print the list of square numbers."
   ]
  },
  {
   "cell_type": "markdown",
   "metadata": {},
   "source": [
    "### 3. How does the `map()` function differ from a list comprehension in Python, and when would you choose one over the other?"
   ]
  },
  {
   "cell_type": "markdown",
   "metadata": {},
   "source": [
    "- `map()` function applies a given function to each item of an iterable(like a list) and returns an iterator that yields the results. But `list comprehension` construct a new list by applying an expression to each item in an iterable and can include conditions.\n",
    "<br>\n",
    "<br>\n",
    "\n",
    "- `List comprehensions` are often more readable and concise, especially for straight forward transformations or when the logic can be expressed within a single line. `map()` might be preferred for more complex transformations or when using predefined functions.\n",
    "- The choice between `map()` and `list comprehension` often depends on the context, readability preferences, and the complexity of the transformation logic needed."
   ]
  },
  {
   "cell_type": "markdown",
   "metadata": {},
   "source": [
    "### 4. Create a Python program that uses the `map()` function to convert a list of names to uppercase."
   ]
  },
  {
   "cell_type": "code",
   "execution_count": 2,
   "metadata": {},
   "outputs": [
    {
     "name": "stdout",
     "output_type": "stream",
     "text": [
      "List of names in upper: ['RAJ', 'DEV', 'RATAN', 'DEBASHIS', 'PAPI', 'PRITAM']\n"
     ]
    }
   ],
   "source": [
    "# Make a list of names\n",
    "lst = ['raj', 'dev', 'ratan', 'debashis', 'papi', 'pritam']\n",
    "\n",
    "# Make a function to convert a element in uppercase\n",
    "def uppercase(n):\n",
    "    return n.upper()\n",
    "\n",
    "# Use map function for mapping each element in list and make it uppercse\n",
    "upper_map = map(uppercase, lst)\n",
    "\n",
    "# Convert the answer of mapping in a list\n",
    "upper_list = list(upper_map)\n",
    "\n",
    "# Print the list\n",
    "print(\"List of names in upper:\", upper_list)"
   ]
  },
  {
   "cell_type": "markdown",
   "metadata": {},
   "source": [
    "- Make a list of names and store it in lst variable.\n",
    "- Make `uppercase()` function to convert a element in uppercase and return the uppercase names.\n",
    "- Use `map()` function for mapping each element in the list and make it upper. Pass the `uppercase()` function and the list as parameter in the `map()` function. Store the object in upper_map variable.\n",
    "- Convert the object into a list using `list()` function and store the list in upper_list variable.\n",
    "- Finally, print the list of names in uppercase."
   ]
  },
  {
   "cell_type": "markdown",
   "metadata": {},
   "source": [
    "### 5. Write a Python program that uses the `map()` function to calculate the length of each word in a list of strings."
   ]
  },
  {
   "cell_type": "code",
   "execution_count": 6,
   "metadata": {},
   "outputs": [
    {
     "name": "stdout",
     "output_type": "stream",
     "text": [
      "List of length of words: [3, 3, 5, 8, 4, 6]\n"
     ]
    }
   ],
   "source": [
    "# Make a list of strings\n",
    "lst = ['raj', 'dev', 'ratan', 'debashis', 'papi', 'pritam']\n",
    "\n",
    "# Use map function for mapping each word in list and calculate length of the word\n",
    "length_map = map(len, lst)\n",
    "\n",
    "# Convert the answer of mapping in a list\n",
    "length_list = list(length_map)\n",
    "\n",
    "# Print the list of lengths\n",
    "print(\"List of length of words:\", length_list)"
   ]
  },
  {
   "cell_type": "markdown",
   "metadata": {},
   "source": [
    "- Make a list of strings and store it in lst variable.\n",
    "- Use `map()` function for mapping each string in the list and calculate length of each word. Pass `len()` function and the list as parameter in the `map()` function. Store the object in length_map variable.\n",
    "- Convert the object into a list using `list()` function and store it in length_list variable.\n",
    "- Finally, print the list of length of the words."
   ]
  },
  {
   "cell_type": "markdown",
   "metadata": {},
   "source": [
    "### 6. How can you use the `map()` function to apply a custom function to elements of multiple lists simultaneously in Python?"
   ]
  },
  {
   "cell_type": "markdown",
   "metadata": {},
   "source": [
    "- The `map()` function to apply a custom function to elements of multiple lists simultaneously by passing multiple iterables (lists) to it.\n",
    "- **Example:**\n",
    "\n",
    "```python\n",
    "# Make a function to multiply two element\n",
    "def multiply(a, b):\n",
    "    return a * b\n",
    "\n",
    "# Make two list\n",
    "lst1 = [2, 3, 4, 5]\n",
    "lst2 = [5, 3, 2, 2]\n",
    "\n",
    "# Apply the function to elements from both lists using map()\n",
    "result = list(map(multiply, lst1, lst2))\n",
    "\n",
    "# Print the list after multiplication\n",
    "print(\"Multiplication of elements between two lists:\", result)\n",
    "```\n",
    "<br>\n",
    "\n",
    "```py\n",
    "Multiplication of elements between two lists: [10, 9, 8, 10]\n",
    "```"
   ]
  },
  {
   "cell_type": "markdown",
   "metadata": {},
   "source": [
    "### 7. Create a Python program that uses `map()` to convert a list of temperatures from Celsius to Fahrenheit."
   ]
  },
  {
   "cell_type": "code",
   "execution_count": 7,
   "metadata": {},
   "outputs": [
    {
     "name": "stdout",
     "output_type": "stream",
     "text": [
      "List of Fahrenheit temprature: [32.0, 95.0, 86.0, 212.0, 140.0]\n"
     ]
    }
   ],
   "source": [
    "# Make a list of Celsius temperatures\n",
    "cel_lst = [0, 35, 30, 100, 60]\n",
    "\n",
    "# Make a custom function to convert Celsius to Fahrenheit\n",
    "def Fahrenheit(cel):\n",
    "    return (cel * (9/5)) + 32\n",
    "\n",
    "# Apply the function to elements from the list using map()\n",
    "fah_map = map(Fahrenheit, cel_lst)\n",
    "\n",
    "# Convert the answer of mapping in a list\n",
    "fah_lst = list(fah_map)\n",
    "\n",
    "# Print the list of Fahrenheit tempratures\n",
    "print(\"List of Fahrenheit temprature:\", fah_lst)"
   ]
  },
  {
   "cell_type": "markdown",
   "metadata": {},
   "source": [
    "- Make a list of Celsius tempratures and store it in cel_lst variable.\n",
    "- Make `Fahrenheit()` function to convert a value Celsius to Fahrenheit and return the Fahrenheit value.\n",
    "- Apply the `Fahrenheit()` function to elements from the list using `map()` function. Store the object in fah_map variable.\n",
    "- Convert the object into a list using `list()` function and store the list in fah_lst variable.\n",
    "- Finally, Print the list of Fahrenheit tempratures."
   ]
  },
  {
   "cell_type": "markdown",
   "metadata": {},
   "source": [
    "### 8. Write a Python program that uses the `map()` function to round each element of a list of floating-point numbers to the nearest integer."
   ]
  },
  {
   "cell_type": "code",
   "execution_count": 13,
   "metadata": {},
   "outputs": [
    {
     "name": "stdout",
     "output_type": "stream",
     "text": [
      "List of nearest integers: [3, 6, 13, 18, 21, 22]\n"
     ]
    }
   ],
   "source": [
    "# Make a list of floating-point numbers\n",
    "lst = [2.567, 6.23, 12.91, 18.435, 20.56, 21.55]\n",
    "\n",
    "# Use map function for mapping each element in the list and calculate nearest integer\n",
    "near_int_map = map(round, lst)\n",
    "\n",
    "# Convert the answer of mapping in a list\n",
    "near_int_lst = list(near_int_map)\n",
    "\n",
    "# Print the list of nearest integers\n",
    "print(\"List of nearest integers:\", near_int_lst)"
   ]
  },
  {
   "cell_type": "markdown",
   "metadata": {},
   "source": [
    "- Make a list of floating-point numbers and store it in lst variable.\n",
    "- Use `map()` function for mapping each element in the list and calculate nearest integer. Pass `round()` function and lst as parameter in `map()` function and store the object in near_int_map variable.\n",
    "- Convert the object into a list using `list()` function and store the list in near_int_lst variable.\n",
    "- Finally, print the list of nearest integers."
   ]
  },
  {
   "cell_type": "markdown",
   "metadata": {},
   "source": [
    "# Reduce :"
   ]
  },
  {
   "cell_type": "markdown",
   "metadata": {},
   "source": [
    "### 1. What is the `reduce()` function in Python, and what module should you import to use it? Provide an example of its basic usage."
   ]
  },
  {
   "cell_type": "markdown",
   "metadata": {},
   "source": [
    "- `reduce()` function performs a cumulative operation on the elements of an iterable, reducing them to a single value.\n",
    "- To use `reduce()`, we need to import it from the `functools` module:\n",
    "```py\n",
    "from functools import reduce\n",
    "```\n",
    "<br>\n",
    "\n",
    "- **Example of `reduce()` function:**\n",
    "```py\n",
    "from functools import reduce\n",
    "\n",
    "# Custom function for multiply\n",
    "def multiply(x, y):\n",
    "    return x * y\n",
    "\n",
    "# Make a list of numbers\n",
    "lst = [2, 3, 5, 4, 6]\n",
    "\n",
    "# Apply reduce() to find the product of numbers in the list\n",
    "product = reduce(multiply, lst)\n",
    "\n",
    "# Print the product\n",
    "print(\"Product of numbers:\", product)\n",
    "```\n",
    "<br>\n",
    "\n",
    "**Output:**\n",
    "```py\n",
    "Product of numbers: 720\n",
    "```"
   ]
  },
  {
   "cell_type": "markdown",
   "metadata": {},
   "source": [
    "### 2. Write a Python program that uses the `reduce()` function to find the product of all elements in a list."
   ]
  },
  {
   "cell_type": "code",
   "execution_count": 14,
   "metadata": {},
   "outputs": [
    {
     "name": "stdout",
     "output_type": "stream",
     "text": [
      "Product of all element in the list: 720\n"
     ]
    }
   ],
   "source": [
    "from functools import reduce\n",
    "\n",
    "# Make a list of integers\n",
    "lst = [2, 3, 4, 5, 6]\n",
    "\n",
    "# Make custom function for multiply two elements\n",
    "def multiply(a, b):\n",
    "    return a * b\n",
    "\n",
    "# Apply reduce() to find product of all elements in the list\n",
    "product = reduce(multiply, lst)\n",
    "\n",
    "# Print the product\n",
    "print(\"Product of all element in the list:\", product)"
   ]
  },
  {
   "cell_type": "markdown",
   "metadata": {},
   "source": [
    "- At first, import `reduce` from `functools` module.\n",
    "- Make a list of integers and store it in lst variable.\n",
    "- Make custom function for multiply two value and return the value.\n",
    "- Apply `reduce()` function to find product of all elements in the list and store the answer in product variable.\n",
    "- Finally, print the answer."
   ]
  },
  {
   "cell_type": "markdown",
   "metadata": {},
   "source": [
    "### 3. Create a Python program that uses `reduce()` to find the maximum element in a list of numbers."
   ]
  },
  {
   "cell_type": "code",
   "execution_count": 15,
   "metadata": {},
   "outputs": [
    {
     "name": "stdout",
     "output_type": "stream",
     "text": [
      "Maximum number in the list: 12\n"
     ]
    }
   ],
   "source": [
    "from functools import reduce\n",
    "\n",
    "# Make a list of numbers\n",
    "lst = [2, 3, 6, 8, 12, 5, 7]\n",
    "\n",
    "# Make a custom function which return maximum between two numbers\n",
    "def max_num(a:int, b:int) -> int:\n",
    "    return max(a, b)\n",
    "\n",
    "# Apply reduce() to find maximum number in the list\n",
    "maximum_num = reduce(max_num, lst)\n",
    "\n",
    "# Print the maximum number\n",
    "print(\"Maximum number in the list:\", maximum_num)"
   ]
  },
  {
   "cell_type": "markdown",
   "metadata": {},
   "source": [
    "- At first import `reduce()` function from `functools` module.\n",
    "- Make a list of numbers and store the list in lst variable.\n",
    "- Make a custom function `max_num()` which return maximum between two numbers.\n",
    "- Apply `reduce()` function to find maximum number in the list. Pass the custom function and the list as parameter. Store the maximum number in maximum_num variable.\n",
    "- Finally, print the maximum number in the list."
   ]
  },
  {
   "cell_type": "markdown",
   "metadata": {},
   "source": [
    "### 4. How can you use the `reduce()` function to concatenate a list of strings into a single string?"
   ]
  },
  {
   "cell_type": "markdown",
   "metadata": {},
   "source": [
    "- We can use the `reduce()` function along with a custom function, which will join two strings using `.join()` mathod and return the concatenate value, to concatenate a list of strings into a single string.\n",
    "- **Example:**\n",
    "```python\n",
    "from functools import reduce\n",
    "\n",
    "# Make a list of strings\n",
    "strings_list = [\"Hello,\", \"My\", \"name\", \"is\", \"Rajdip\", \"Das\"]\n",
    "\n",
    "# Make a custom function which will return concatenate between two strings\n",
    "def concat(a, b):\n",
    "    return ' '.join([a, b])\n",
    "\n",
    "# Apply reduce() to concatenate the list of strings\n",
    "string = reduce(concat, strings_list)\n",
    "\n",
    "# Print the string\n",
    "print(\"Concatenated string:\", string)\n",
    "```\n",
    "<br>\n",
    "\n",
    "**Output:**\n",
    "```less\n",
    "Concatenated string: Hello, My name is Rajdip Das\n",
    "```"
   ]
  },
  {
   "cell_type": "markdown",
   "metadata": {},
   "source": [
    "### 5. Write a Python program that calculates the factorial of a number using the `reduce()` function."
   ]
  },
  {
   "cell_type": "code",
   "execution_count": 22,
   "metadata": {},
   "outputs": [
    {
     "name": "stdout",
     "output_type": "stream",
     "text": [
      "Factorial of 5 = 120\n"
     ]
    }
   ],
   "source": [
    "from functools import reduce\n",
    "\n",
    "# Take an example value\n",
    "num = 5\n",
    "\n",
    "# Make a custom function to calculate factorial\n",
    "def factorial(n):\n",
    "    if n == 0 or n == 1:\n",
    "        return 1\n",
    "    else:\n",
    "        # Apply reduce() to find factorial of numbers in the given range\n",
    "        return reduce(lambda x, y: x * y, range(1, n + 1))\n",
    "\n",
    "# Calculate factorial by passing the example value in custom function\n",
    "fact = factorial(num)\n",
    "\n",
    "# Print the result\n",
    "print(f\"Factorial of {num} = {fact}\")"
   ]
  },
  {
   "cell_type": "markdown",
   "metadata": {},
   "source": [
    "- At first, import `reduce()` function from `functools` module.\n",
    "- Take an example number and store it in num variable.\n",
    "- Make a custom function to calculate factorial.\n",
    "- If the number is greater than 1 then apply `reduce()` on it to calculate factorial.\n",
    "- Calculate factorial by passing the example value in the custom function and store the result in fact variable.\n",
    "- Finally, print the factorial of the number."
   ]
  },
  {
   "cell_type": "markdown",
   "metadata": {},
   "source": [
    "### 6. Create a Python program that uses `reduce()` to find the GCD (Greatest Common Divisor) of a list of numbers."
   ]
  },
  {
   "cell_type": "code",
   "execution_count": 23,
   "metadata": {},
   "outputs": [
    {
     "name": "stdout",
     "output_type": "stream",
     "text": [
      "GCD of the numbers: 12\n"
     ]
    }
   ],
   "source": [
    "from functools import reduce\n",
    "\n",
    "# Make an example list of numbers\n",
    "numbers = [24, 36, 48, 60]\n",
    "\n",
    "# Make a custom function to find GCD of two numbers\n",
    "def gcd(a, b):\n",
    "    while b:\n",
    "        a, b = b, a % b\n",
    "    return a\n",
    "\n",
    "# Apply reduce() to find GCD of the list of numbers\n",
    "result = reduce(gcd, numbers)\n",
    "\n",
    "# Print the result\n",
    "print(\"GCD of the numbers:\", result)"
   ]
  },
  {
   "cell_type": "markdown",
   "metadata": {},
   "source": [
    "- At first, import `reduce()` function from `functools` module.\n",
    "- Make an example list of numbers. Store the list in numbers variable.\n",
    "- Make a custom function `gcd()` to find GCD of two numbers.\n",
    "- Apply `reduce()` to find GCD of the list of numbers. Store the result in result variable.\n",
    "- Finally, print the result."
   ]
  },
  {
   "cell_type": "markdown",
   "metadata": {},
   "source": [
    "### 7. Write a Python program that uses the `reduce()` function to find the sum of the digits of a given number."
   ]
  },
  {
   "cell_type": "code",
   "execution_count": 24,
   "metadata": {},
   "outputs": [
    {
     "name": "stdout",
     "output_type": "stream",
     "text": [
      "Sum of all digits of the number: 17\n"
     ]
    }
   ],
   "source": [
    "from functools import reduce\n",
    "\n",
    "# Take an example number in string format\n",
    "num = '2564'\n",
    "\n",
    "# Make a custom function to add two numbers\n",
    "def add_two(a, b):\n",
    "    return int(a) + int(b)\n",
    "\n",
    "# Apply reduce() to find sum of the digits of the given number\n",
    "result = reduce(add_two, num)\n",
    "\n",
    "# Print the result\n",
    "print(\"Sum of all digits of the number:\", result)"
   ]
  },
  {
   "cell_type": "markdown",
   "metadata": {},
   "source": [
    "- At first, import `reduce()` function from `functools` module.\n",
    "- Take an example number in string format and store it in num variable.\n",
    "- Make a custom function to add two numbers and return the result.\n",
    "- Apply `reduce()` function to calculate sum of all digits in the given number. Store the result in result variable.\n",
    "- Finally, Print the result."
   ]
  },
  {
   "cell_type": "markdown",
   "metadata": {},
   "source": [
    "# Filter :"
   ]
  },
  {
   "cell_type": "markdown",
   "metadata": {},
   "source": [
    "### 1. Explain the purpose of the `filter()` function in Python and provide an example of how it can be used to filter elements from an iterable."
   ]
  },
  {
   "cell_type": "markdown",
   "metadata": {},
   "source": [
    "- `filter()` is used to selectively include elements from an iterable based on a given function or condition.\n",
    "- `filter()` returns an iterator containing elements that satisfy the filtering condition.\n",
    "<br>\n",
    "\n",
    "**Syntax of filter() function:**\n",
    "- `filter(function, iterable)`\n",
    "- Here, `function` that tests each element of the iterable. It returns `True` to include the element or `False` to exclude it.<br>\n",
    "`iterable` (list, tuple, etc.) from which elements are filtered."
   ]
  },
  {
   "cell_type": "markdown",
   "metadata": {},
   "source": [
    "### 2. Write a Python program that uses the `filter()` function to select even numbers from a list of integers."
   ]
  },
  {
   "cell_type": "code",
   "execution_count": 25,
   "metadata": {},
   "outputs": [
    {
     "name": "stdout",
     "output_type": "stream",
     "text": [
      "List of even numbers: [2, 6, 8, 10, 4]\n"
     ]
    }
   ],
   "source": [
    "# Make a list of numbers\n",
    "lst = [2, 5, 6, 7, 8, 1, 10, 9, 4, 3]\n",
    "\n",
    "# Make a custom function which return True if the number is even\n",
    "def is_even(num):\n",
    "    return num % 2 == 0\n",
    "\n",
    "# Apply filter() function on the list to find even numbers\n",
    "even_nums = filter(is_even, lst)\n",
    "\n",
    "# Convert the filter object into a list\n",
    "even_list = list(even_nums)\n",
    "\n",
    "# Print list of even numbers\n",
    "print(\"List of even numbers:\", even_list)"
   ]
  },
  {
   "cell_type": "markdown",
   "metadata": {},
   "source": [
    "- Make a list of numbers and store it in lst variable.\n",
    "- Make a custom function `is_even()` which return True if a number is even.\n",
    "- Apply `filter()` function on the list to find even numbers. Store the object in even_nums variable.\n",
    "- Convert the object into a list using `list()` function. Store the list in even_list variable.\n",
    "- Finally, print the list of even numbers."
   ]
  },
  {
   "cell_type": "markdown",
   "metadata": {},
   "source": [
    "### 3. Create a Python program that uses the `filter()` function to select names that start with a specific letter from a list of strings."
   ]
  },
  {
   "cell_type": "code",
   "execution_count": 26,
   "metadata": {},
   "outputs": [
    {
     "name": "stdout",
     "output_type": "stream",
     "text": [
      "Filtered list: ['Rajdip', 'ram', 'Ratan']\n"
     ]
    }
   ],
   "source": [
    "# Make a list of strings\n",
    "string_lst = ['Rajdip', 'Dev', 'ram', 'Ratan', 'papi', 'amal']\n",
    "\n",
    "# Make a custom function which return True if a string starts with 'r'\n",
    "def start_with(s):\n",
    "    return s[0].lower() == 'r'\n",
    "\n",
    "# Apply filter() on the list of strings to find if the string starts with 'r' or not\n",
    "filter_r = filter(start_with, string_lst)\n",
    "\n",
    "# Convert the filter object into a list\n",
    "filter_lst = list(filter_r)\n",
    "\n",
    "# Print the filtered list\n",
    "print(\"Filtered list:\", filter_lst)"
   ]
  },
  {
   "cell_type": "markdown",
   "metadata": {},
   "source": [
    "- Make a list of strings and store it in string_lst variable.\n",
    "- Make a custom function `start_with()` which return True if a string starts with 'r'.\n",
    "- Apply `filter()` on the list of strings to find if the string starts with 'r' or not. Store the object in filter_r variable.\n",
    "- Convert the filter object into a list using `list()` function. Store the list in filter_lst variable.\n",
    "- Finally, print the filtered list."
   ]
  },
  {
   "cell_type": "markdown",
   "metadata": {},
   "source": [
    "### 4. Write a Python program that uses the `filter()` function to select prime numbers from a list of integers."
   ]
  },
  {
   "cell_type": "code",
   "execution_count": 27,
   "metadata": {},
   "outputs": [
    {
     "name": "stdout",
     "output_type": "stream",
     "text": [
      "Prime numbers in the list: [2, 3, 7, 11]\n"
     ]
    }
   ],
   "source": [
    "# Make a list of integers\n",
    "lst = [2, 3, 4, 6, 7, 8, 9, 11]\n",
    "\n",
    "# Make a custom function for check is the number prime or not\n",
    "def is_prime(num):\n",
    "    for i in range(2, num):\n",
    "        if num % i == 0:\n",
    "            return False\n",
    "    return True\n",
    "\n",
    "# Apply filter to check which number is prime in the list\n",
    "filter_prime = filter(is_prime, lst)\n",
    "\n",
    "# Convert the filter object into a list\n",
    "prime_list = list(filter_prime)\n",
    "\n",
    "# Print the list\n",
    "print(\"Prime numbers in the list:\", prime_list)"
   ]
  },
  {
   "cell_type": "markdown",
   "metadata": {},
   "source": [
    "- Make a list of integers and store the list in lst variable.\n",
    "- Make a custom function `is_prime()` which return True if a number is prime else, return False.\n",
    "- Apply `filter()` on the list of the numbers to find if the number prime or not. Store the object in filter_prime variable.\n",
    "- Convert the filter object into a list using `list()` function. Store the list in prime_lst variable.\n",
    "- Finally, print the list of prime numbers."
   ]
  },
  {
   "cell_type": "markdown",
   "metadata": {},
   "source": [
    "### 5. How can you use the `filter()` function to remove None values from a list in Python?"
   ]
  },
  {
   "cell_type": "markdown",
   "metadata": {},
   "source": [
    "- We can use `filter()` function along with '**None**' as the filtering criterion to remove '**None**' values from a list.\n",
    "- **Example:**\n",
    "```python\n",
    "# List with None values\n",
    "values = [1, None, 3, 4, None, 6, None, 8]\n",
    "\n",
    "# Custom function to filter None values\n",
    "def filter_none(value):\n",
    "    return value is not None\n",
    "\n",
    "# Remove None values using filter() and filter_none function. Convert it into list.\n",
    "filtered_values = list(filter(filter_none, values))\n",
    "\n",
    "# Print the list without None values\n",
    "print(\"List after removing None values:\", filtered_values)\n",
    "```\n",
    "<br>\n",
    "\n",
    "**Output:**\n",
    "```py\n",
    "List after removing None values: [1, 3, 4, 6, 8]\n",
    "```"
   ]
  },
  {
   "cell_type": "markdown",
   "metadata": {},
   "source": [
    "### 6. Create a Python program that uses `filter()` to select words longer than a certain length from a list of strings."
   ]
  },
  {
   "cell_type": "code",
   "execution_count": 28,
   "metadata": {},
   "outputs": [
    {
     "name": "stdout",
     "output_type": "stream",
     "text": [
      "List after filteration: ['rajdip', 'ratan', 'pritam']\n"
     ]
    }
   ],
   "source": [
    "# Make a list of words\n",
    "lst = ['rajdip', 'dev', 'papi', 'ratan', 'deba', 'pritam']\n",
    "\n",
    "# Make a custom function for return True if the length of a word greater than 4\n",
    "def length(n):\n",
    "    return len(n) > 4\n",
    "\n",
    "# Apply filter() to find the words in the list\n",
    "filter_long_lst = filter(length, lst)\n",
    "\n",
    "# Convert the object into a list\n",
    "long_lst = list(filter_long_lst)\n",
    "\n",
    "# Print the list\n",
    "print(\"List after filteration:\", long_lst)"
   ]
  },
  {
   "cell_type": "markdown",
   "metadata": {},
   "source": [
    "- Make a list of words and store it in lst variable.\n",
    "- Make a custom function `length()` for return True if the length of a word greater than 4\n",
    "- Apply `filter()` to find the words in the list and store the object in filter_long_lst variable.\n",
    "- Convert the object into a list using `list()` function. Store the list in long_lst variable.\n",
    "- Finally, print the list of filtered words."
   ]
  },
  {
   "cell_type": "markdown",
   "metadata": {},
   "source": [
    "### 7. Write a Python program that uses the `filter()` function to select elements greater than a specified threshold from a list of values."
   ]
  },
  {
   "cell_type": "code",
   "execution_count": 30,
   "metadata": {},
   "outputs": [
    {
     "name": "stdout",
     "output_type": "stream",
     "text": [
      "List greater than threshold: [8, 6, 7, 10, 9]\n"
     ]
    }
   ],
   "source": [
    "# Make a list of integers\n",
    "lst = [3, 5, 8, 6, 1, 7, 2, 10, 9, 4]\n",
    "\n",
    "# Make a custom function for return True if the number is greater than 5\n",
    "def greater(num):\n",
    "    return num > 5\n",
    "\n",
    "# Apply filter() to find the numbers greater than 5 in the list\n",
    "filter_greater_lst = filter(greater, lst)\n",
    "\n",
    "# Convert the object into a list\n",
    "greater_lst = list(filter_greater_lst)\n",
    "\n",
    "# Print the list\n",
    "print(\"List greater than threshold:\", greater_lst)"
   ]
  },
  {
   "cell_type": "markdown",
   "metadata": {},
   "source": [
    "- Make a list of numbers and store it in lst variable.\n",
    "- Make a custom function `greater()` for return True if the number is greater than 5.\n",
    "- Apply `filter()` to find the numbers greater than 5, in the list and store the object in filter_greater_lst variable.\n",
    "- Convert the object into a list using `list()` function. Store the list in greater_lst variable.\n",
    "- Finally, print the list of filtered numbers."
   ]
  },
  {
   "cell_type": "markdown",
   "metadata": {},
   "source": [
    "# Recursion :"
   ]
  },
  {
   "cell_type": "markdown",
   "metadata": {},
   "source": [
    "### 1. Explain the concept of recursion in Python. How does it differ from iteration?"
   ]
  },
  {
   "cell_type": "markdown",
   "metadata": {},
   "source": [
    "- `Recursion` breaks down a problem into smaller instances of the same problem, solving them until reaching the base case, while `iteration` uses loops to perform repetitive tasks.\n",
    "- `Recursion` can consume more memory due to function call stacks, while `iteration` typically uses less memory.\n",
    "- `Recursion` solutions can sometimes be more elegant and easier to understand for certain problems, while `iterative` solutions might be more straightforward for others."
   ]
  },
  {
   "cell_type": "markdown",
   "metadata": {},
   "source": [
    "### 2. Write a Python program to calculate the factorial of a number using recursion."
   ]
  },
  {
   "cell_type": "code",
   "execution_count": 32,
   "metadata": {},
   "outputs": [
    {
     "name": "stdout",
     "output_type": "stream",
     "text": [
      "Factorial of 5 = 120\n"
     ]
    }
   ],
   "source": [
    "# Make a recursive function for calculate factorial of a number\n",
    "def factorial(num):\n",
    "    if num == 0:\n",
    "        return 0\n",
    "    if num == 1:\n",
    "        return num\n",
    "    if num > 1:\n",
    "        return num * factorial(num - 1)\n",
    "    \n",
    "    \n",
    "# Take an example number\n",
    "num = 5\n",
    "\n",
    "# Call the function by passing it a value to calculate factorial of the value\n",
    "fact = factorial(num)\n",
    "\n",
    "# Print the factorial value\n",
    "print(f\"Factorial of {num} = {fact}\")"
   ]
  },
  {
   "cell_type": "markdown",
   "metadata": {},
   "source": [
    "- Make a recursive function `factorial()` for calculate factorial of a number.\n",
    "- Take an example number and store it in num variable.\n",
    "- Call the `factorial()` function by passing it the value to calculate factorial of the value. Store the factorial number in fact variable.\n",
    "- Finally, print the factorial of the number."
   ]
  },
  {
   "cell_type": "markdown",
   "metadata": {},
   "source": [
    "### 3. Create a recursive Python function to find the nth Fibonacci number."
   ]
  },
  {
   "cell_type": "code",
   "execution_count": 48,
   "metadata": {},
   "outputs": [
    {
     "name": "stdout",
     "output_type": "stream",
     "text": [
      "Number in position 6 in fibonacci series: 8\n"
     ]
    }
   ],
   "source": [
    "# Make a recursive function to calculate nth fibonacci number\n",
    "def fibonacci(num):\n",
    "    if num <= 1:\n",
    "        return num\n",
    "    else:\n",
    "        return fibonacci(num-1) + fibonacci(num - 2)\n",
    "\n",
    "\n",
    "# Take an example nth number\n",
    "n = 6\n",
    "\n",
    "# Call the function by passing the value and calculate the nth number in fibonacci series\n",
    "nth_num = fibonacci(n)\n",
    "\n",
    "# Print the number in the series\n",
    "print(f\"Number in position {n} in fibonacci series: {nth_num}\")"
   ]
  },
  {
   "cell_type": "markdown",
   "metadata": {},
   "source": [
    "- Make a recursive function `fibonacci()` to calculate nth fibonacci number.\n",
    "- Take an example number and store it in 'n' variable.\n",
    "- Call the `fibonacci()` function by passing the value and calculate the nth number in fibonacci series. Store the number in nth_num variable.\n",
    "- Finally, print the fibonacci number."
   ]
  },
  {
   "cell_type": "markdown",
   "metadata": {},
   "source": [
    "### 4. Write a recursive Python function to calculate the sum of all elements in a list."
   ]
  },
  {
   "cell_type": "code",
   "execution_count": 49,
   "metadata": {},
   "outputs": [
    {
     "name": "stdout",
     "output_type": "stream",
     "text": [
      "Sum of all numbers in the list: 25\n"
     ]
    }
   ],
   "source": [
    "# Make a recursive function to calculate sum of all elements in a list\n",
    "def sum_num(l):\n",
    "    if not l:\n",
    "        return 0\n",
    "    else:\n",
    "        return l[0] + sum_num(l[1:])\n",
    "\n",
    "\n",
    "# Make an example list\n",
    "lst = [2, 3, 4, 6, 8, 2]\n",
    "\n",
    "# Call the function by passing the list and calculate the sum of the numbers\n",
    "result = sum_num(lst)\n",
    "\n",
    "# Print the sum of all numbers in the list\n",
    "print(\"Sum of all numbers in the list:\", result)"
   ]
  },
  {
   "cell_type": "markdown",
   "metadata": {},
   "source": [
    "- Make a recursive function `sum_num()` to calculate sum of all elements in a list.\n",
    "- Make an example list and store the list in lst variable.\n",
    "- Call the function by passing the list and calculate the sum of the numbers in the list. Store the result in result variable.\n",
    "- Finally, print the sum of all elements in the list."
   ]
  },
  {
   "cell_type": "markdown",
   "metadata": {},
   "source": [
    "### 5. How can you prevent a recursive function from running indefinitely, causing a stack overflow error?"
   ]
  },
  {
   "cell_type": "markdown",
   "metadata": {},
   "source": [
    "- Preventing a recursive function from running indefinitely and causing a stack overflow error involves implementing a termination condition within the recursive function. This termination condition is crucial to stop the recursive calls and ensure the function doesn't infinitely call itself.\n",
    "- Ensure that the recursive function has a condition that stops the recursion.\n",
    "- Identify a condition where the function should stop calling itself and return a value without making further recursive calls."
   ]
  },
  {
   "cell_type": "markdown",
   "metadata": {},
   "source": [
    "### 6. Create a recursive Python function to find the greatest common divisor (GCD) of two numbers using the Euclidean algorithm."
   ]
  },
  {
   "cell_type": "code",
   "execution_count": 51,
   "metadata": {},
   "outputs": [
    {
     "name": "stdout",
     "output_type": "stream",
     "text": [
      "GCD of 45 and 30: 15\n"
     ]
    }
   ],
   "source": [
    "# Make a recursive function to calculate GCD of two numbers\n",
    "def gcd(a, b):\n",
    "    if b == 0:\n",
    "        return a\n",
    "    else:\n",
    "        return gcd(b, a % b)\n",
    "\n",
    "\n",
    "# Take two example number for calculate their GCD\n",
    "num1 = 45\n",
    "num2 = 30\n",
    "\n",
    "# Call the function by passing the numbers and calculate their GCD\n",
    "result = gcd(num1, num2)\n",
    "\n",
    "# Print the GCD of two numbes\n",
    "print(f\"GCD of {num1} and {num2}: {result}\")"
   ]
  },
  {
   "cell_type": "markdown",
   "metadata": {},
   "source": [
    "- Make a recursive function `gcd()` to calculate GCD of two numbers.\n",
    "- Take two example number for calculate their GCD. Store the numbers in num1 and num2 variable.\n",
    "- Call the function by passing the numbers and calculate their GCD. Store the value in result variable.\n",
    "- Finally, print the GCD of two numbers."
   ]
  },
  {
   "cell_type": "markdown",
   "metadata": {},
   "source": [
    "### 7. Write a recursive Python function to reverse a string."
   ]
  },
  {
   "cell_type": "code",
   "execution_count": 5,
   "metadata": {},
   "outputs": [
    {
     "name": "stdout",
     "output_type": "stream",
     "text": [
      "Reversed string: saD pidjaR\n"
     ]
    }
   ],
   "source": [
    "# Make a recursive function to reverse a string\n",
    "def reverse_str(s):\n",
    "    if len(s) == 0:\n",
    "        return s\n",
    "    else:\n",
    "        return s[-1] + reverse_str(s[:-1])\n",
    "\n",
    "\n",
    "# Make an example string\n",
    "string = \"Rajdip Das\"\n",
    "\n",
    "# Call the function by passing the string and make it reverse\n",
    "rev_string = reverse_str(string)\n",
    "\n",
    "# Print the reversed string\n",
    "print(\"Reversed string:\", rev_string)"
   ]
  },
  {
   "cell_type": "markdown",
   "metadata": {},
   "source": [
    "- Make a recursive function `reverse_str()` to make a string reverse.\n",
    "- Take an example string. Store the string in `string` variable.\n",
    "- Call the function by passing the string for reverse the string. Store the reversed string in rev_string variable.\n",
    "- Finally, print the reversed string."
   ]
  },
  {
   "cell_type": "markdown",
   "metadata": {},
   "source": [
    "### 8. Create a recursive Python function to calculate the power of a number (x^n)."
   ]
  },
  {
   "cell_type": "code",
   "execution_count": 8,
   "metadata": {},
   "outputs": [
    {
     "name": "stdout",
     "output_type": "stream",
     "text": [
      "3 raised to the power of 4 is: 81\n"
     ]
    }
   ],
   "source": [
    "# Make a recursive function for calculate the power of a number\n",
    "def calculate_power(x, n):\n",
    "    if n == 0:\n",
    "        return 1\n",
    "    elif n == 1:\n",
    "        return x\n",
    "    else:\n",
    "        return x * calculate_power(x, n-1)\n",
    "    \n",
    "\n",
    "# Take an example number and its power value\n",
    "num = 3\n",
    "power = 4\n",
    "\n",
    "# Call the function by passing the number and power and calculate it\n",
    "result = calculate_power(num, power)\n",
    "\n",
    "# Print the result\n",
    "print(f\"{num} raised to the power of {power} is: {result}\")"
   ]
  },
  {
   "cell_type": "markdown",
   "metadata": {},
   "source": [
    "- Make a recursive function `calculate_power()` for calculate the power of a number.\n",
    "- Take an example number and its power value. Store them in num and power variable.\n",
    "- Call the function by passing the number and power and calculate the power of the number. Store the answer in result variable.\n",
    "- Finally, print the result."
   ]
  },
  {
   "cell_type": "markdown",
   "metadata": {},
   "source": [
    "### 9. Write a recursive Python function to find all permutations of a given string."
   ]
  },
  {
   "cell_type": "code",
   "execution_count": 10,
   "metadata": {},
   "outputs": [
    {
     "name": "stdout",
     "output_type": "stream",
     "text": [
      "Permutation of the string: ['raj', 'rja', 'arj', 'ajr', 'jra', 'jar']\n"
     ]
    }
   ],
   "source": [
    "# Make a recursive function for make all permutations of a string\n",
    "def permutations(s):\n",
    "    if len(s) <= 1:\n",
    "        return [s]\n",
    "    else:\n",
    "        perm_lst = []\n",
    "        for char in s:\n",
    "            rem = [x for x in s if x != char]\n",
    "            sub = permutations(''.join(rem))\n",
    "        \n",
    "            for perm in sub:\n",
    "                perm_lst.append(char + perm)\n",
    "\n",
    "        return perm_lst\n",
    "\n",
    "\n",
    "# Take an example string\n",
    "string = 'raj'\n",
    "\n",
    "# Call the function by passing the string and get all permutations\n",
    "permutation_lst = permutations(string)\n",
    "\n",
    "# Print the list of permutations\n",
    "print(\"Permutation of the string:\", permutation_lst)"
   ]
  },
  {
   "cell_type": "markdown",
   "metadata": {},
   "source": [
    "- Make a recursive function `permutations()` for make all permutation of a string and return a list of strings.\n",
    "- Take an example string and store it in string variable.\n",
    "- Call the function by passing the string and get all permutations as list format.\n",
    "- Finally, print the list of permutations."
   ]
  },
  {
   "cell_type": "markdown",
   "metadata": {},
   "source": [
    "### 10. Write a recursive Python function to check if a string is a palindrome."
   ]
  },
  {
   "cell_type": "code",
   "execution_count": 14,
   "metadata": {},
   "outputs": [
    {
     "name": "stdout",
     "output_type": "stream",
     "text": [
      "Is 'oppo' a palindrome? True\n"
     ]
    }
   ],
   "source": [
    "# Make a recursive function to check palindrome string\n",
    "def palindrome(s):\n",
    "    s = s.lower()       # Convert the string in lowercase\n",
    "\n",
    "    if len(s) <= 1:\n",
    "        return True\n",
    "    elif s[0] != s[-1]:\n",
    "        return False\n",
    "    else:\n",
    "        return palindrome(s[1:-1])\n",
    "\n",
    "\n",
    "# Take an example string\n",
    "string = 'oppo'\n",
    "\n",
    "# Call the function by passing the string and get is the string palindrome or not\n",
    "result = palindrome(string)\n",
    "\n",
    "# Print the answer\n",
    "print(f\"Is '{string}' a palindrome? {result}\")"
   ]
  },
  {
   "cell_type": "markdown",
   "metadata": {},
   "source": [
    "- Make a recursive function `palindrome()` to check is the string palindrome or not.\n",
    "- Take an example string and store it in string variable.\n",
    "- Call the function by passing the string and get the result, is the string palindrome or not. Store the answer in result variable.\n",
    "- Finally, print the result."
   ]
  },
  {
   "cell_type": "markdown",
   "metadata": {},
   "source": [
    "### 11. Create a recursive Python function to generate all possible combinations of a list of elements."
   ]
  },
  {
   "cell_type": "code",
   "execution_count": 17,
   "metadata": {},
   "outputs": [
    {
     "name": "stdout",
     "output_type": "stream",
     "text": [
      "All possible combinations of [2, 6, 4], are:\n",
      "[[], [2], [6], [2, 6], [4], [2, 4], [6, 4], [2, 6, 4]]\n"
     ]
    }
   ],
   "source": [
    "# Make a recursive function to get all possible combinations\n",
    "def combinations(element):\n",
    "    if len(element) == 0:\n",
    "        return [[]]\n",
    "    else:\n",
    "        current = element[0]\n",
    "        rem_elements = element[1:]\n",
    "        sub_comb = combinations(rem_elements)\n",
    "        \n",
    "        new_comb = []\n",
    "        for comb in sub_comb:\n",
    "            new_comb.append(comb)\n",
    "            new_comb.append([current] + comb)\n",
    "        \n",
    "        return new_comb\n",
    "\n",
    "\n",
    "# Take an example list of elements\n",
    "lst = [2, 6, 4]\n",
    "\n",
    "# Call the function by passing the list of elements and get all possible combinations\n",
    "result = combinations(lst)\n",
    "\n",
    "# Print the possible combinations\n",
    "print(f\"All possible combinations of {lst}, are:\\n{result}\")"
   ]
  },
  {
   "cell_type": "markdown",
   "metadata": {},
   "source": [
    "- Make a recursive function `combinations()` to get a list of all possible combinations of elements of a list.\n",
    "- Take an example list of elements and store the list in lst variable.\n",
    "- Call the function by passing the list of elements and get a list of all possible combinations. Store the list in result variable.\n",
    "- Finally, Print the list of combinations."
   ]
  },
  {
   "cell_type": "markdown",
   "metadata": {},
   "source": [
    "# Basics of Functions :"
   ]
  },
  {
   "cell_type": "markdown",
   "metadata": {},
   "source": [
    "### 1. What is a function in Python, and why is it used?"
   ]
  },
  {
   "cell_type": "markdown",
   "metadata": {},
   "source": [
    "- Function is a block of code that performs a specific task when it called or invoked to execute its defined functionality.\n",
    "- Functions help break down complex tasks into smaller, manageable.\n",
    "- Using function we can reuse a set of code repetitively.\n",
    "- Function hide the implementation details and provide high-level interface for user.\n",
    "- Function enhance function readability by organizing code into logical blocks."
   ]
  },
  {
   "cell_type": "markdown",
   "metadata": {},
   "source": [
    "### 2. How do you define a function in Python? Provide an example."
   ]
  },
  {
   "cell_type": "markdown",
   "metadata": {},
   "source": [
    "- In python, we can define a function using the `def` keyword followed by the function name, parameters (if any), and a colon (':').\n",
    "- **Example:**\n",
    "```python\n",
    "def function_name(parameters):\n",
    "    # Function body\n",
    "    \n",
    "```"
   ]
  },
  {
   "cell_type": "markdown",
   "metadata": {},
   "source": [
    "### 3. Explain the difference between a function definition and a function call."
   ]
  },
  {
   "cell_type": "markdown",
   "metadata": {},
   "source": [
    "- A function definition is where you define the behavior and logic of a function. A function call is the act of using or invoking a defined function to execute its defined behavior.\n",
    "- Function definition involves specifying the function's name, parameters (if any), and the code that will be executed when the function is called. Function call involves using the function name along with parentheses '()' and passing the required arguments (if any) to trigger the execution of the function's code."
   ]
  },
  {
   "cell_type": "markdown",
   "metadata": {},
   "source": [
    "### 4. Write a Python program that defines a function to calculate the sum of two numbers and then calls the function."
   ]
  },
  {
   "cell_type": "code",
   "execution_count": 18,
   "metadata": {},
   "outputs": [
    {
     "name": "stdout",
     "output_type": "stream",
     "text": [
      "The sum of 5 and 9 is: 14\n"
     ]
    }
   ],
   "source": [
    "# Define a function to calculate the sum of two numbers\n",
    "def calculate_sum(a, b):\n",
    "    return a + b\n",
    "\n",
    "# Call the function by passing it two integer as argument\n",
    "result = calculate_sum(5, 9)\n",
    "\n",
    "# Print the result\n",
    "print(\"The sum of 5 and 9 is:\", result)"
   ]
  },
  {
   "cell_type": "markdown",
   "metadata": {},
   "source": [
    "- Define a function `calculate_sum()` by passing it two parameters to calculate the sum of two numbers.\n",
    "- Call the function by passing it two integers as argument. Store the result in result variable.\n",
    "- Finally, print the result."
   ]
  },
  {
   "cell_type": "markdown",
   "metadata": {},
   "source": [
    "### 5. What is a function signature, and what information does it typically include?"
   ]
  },
  {
   "cell_type": "markdown",
   "metadata": {},
   "source": [
    "- A function signature represents the essential information about a function's interface. It serves as a concise summary of how the function can be used and its expected behavior without detailing the internal implementation.\n",
    "- Typical components of a function signature includes - Function Name, Parameters, Return Type, Function Annotations, Docstrings."
   ]
  },
  {
   "cell_type": "markdown",
   "metadata": {},
   "source": [
    "### 6. Create a Python function that takes two arguments and returns their product."
   ]
  },
  {
   "cell_type": "code",
   "execution_count": 19,
   "metadata": {},
   "outputs": [
    {
     "name": "stdout",
     "output_type": "stream",
     "text": [
      "Multiplication of 5 and 9: 45\n"
     ]
    }
   ],
   "source": [
    "# Define a function with two parameter and returns their product\n",
    "def multiply(a, b):\n",
    "    return a * b\n",
    "\n",
    "# Call the function by passing it two argument and store the result\n",
    "result = multiply(5, 9)\n",
    "\n",
    "# Print the result\n",
    "print(\"Multiplication of 5 and 9:\", result)"
   ]
  },
  {
   "cell_type": "markdown",
   "metadata": {},
   "source": [
    "- Define a function `multiply()` by passing it two parameters to calculate the multiplication of two numbers.\n",
    "- Call the function by passing it two argument and store the value in result variable.\n",
    "- Finally, print the result value."
   ]
  },
  {
   "cell_type": "markdown",
   "metadata": {},
   "source": [
    "# Function Parameters and Arguments :"
   ]
  },
  {
   "cell_type": "markdown",
   "metadata": {},
   "source": [
    "### 1. Explain the concepts of formal parameters and actual arguments in Python functions."
   ]
  },
  {
   "cell_type": "markdown",
   "metadata": {},
   "source": [
    "- **Formal Parameters:** These are the variables listed in the function definition. They represents the data that a function expects to receive when it is called. For example:\n",
    "```py\n",
    "def add_numbers(a, b):      # Here, 'a' and 'b' are formal parameters\n",
    "    return a + b\n",
    "```\n",
    "<br>\n",
    "\n",
    "- **Actual Arguments:** These are the real values passed into a function when it is called. These values are substituted for the formal parameters within the function. For example:\n",
    "```py\n",
    "# Using positional arguments\n",
    "result1 = add_numbers(5, 3)     # Here, 5 and 3 are actual arguments\n",
    "\n",
    "# Using keyword arguments\n",
    "result2 = add_numbers(b = 2, a = 6)     # Here, 2 and 6 are actual arguments\n",
    "```"
   ]
  },
  {
   "cell_type": "markdown",
   "metadata": {},
   "source": [
    "### 2. Write a Python program that defines a function with default argument values."
   ]
  },
  {
   "cell_type": "code",
   "execution_count": 20,
   "metadata": {},
   "outputs": [
    {
     "name": "stdout",
     "output_type": "stream",
     "text": [
      "Hello, Guest\n",
      "Hello, Rajdip\n"
     ]
    }
   ],
   "source": [
    "# Define a function with 1 parameter with default argument values\n",
    "def greet(name = \"Guest\"):\n",
    "    return f\"Hello, {name}\"\n",
    "\n",
    "# Call the function with default argument values\n",
    "default_result = greet()\n",
    "print(default_result)       # Print answer with default argument\n",
    "\n",
    "# Call the function with specific argument\n",
    "specific_result = greet(\"Rajdip\")\n",
    "print(specific_result)      # Print answer with specific argument"
   ]
  },
  {
   "cell_type": "markdown",
   "metadata": {},
   "source": [
    "- Define a function `greet()`, with 1 parameter `name`, with default argument values.\n",
    "- Call the function with default argument values (without passing any argument).\n",
    "- Print the answer.\n",
    "- Call the function with specific argument (passing an argument value).\n",
    "- Print the answer."
   ]
  },
  {
   "cell_type": "markdown",
   "metadata": {},
   "source": [
    "### 3. How do you use keyword arguments in Python function calls? Provide an example."
   ]
  },
  {
   "cell_type": "markdown",
   "metadata": {},
   "source": [
    "- In python, we can use keyword arguments to pass values to a function by explicitly specifying the parameter names along with the arguments.\n",
    "- **For Example:**\n",
    "```py\n",
    "def info(name, age):\n",
    "    return f\"My name is {name} and I'm {age} years old.\"\n",
    "\n",
    "# Using keyword arguments to pass values to the function\n",
    "result = info(age = 23, name = \"Rajdip\")\n",
    "```\n",
    "<br>\n",
    "\n",
    "**Output**\n",
    "```bash\n",
    "My name is Rajdip and I'm 23 years old.\n",
    "```"
   ]
  },
  {
   "cell_type": "markdown",
   "metadata": {},
   "source": [
    "### 4. Create a Python function that accepts a variable number of arguments and calculates their sum."
   ]
  },
  {
   "cell_type": "code",
   "execution_count": 21,
   "metadata": {},
   "outputs": [
    {
     "name": "stdout",
     "output_type": "stream",
     "text": [
      "Sum of all numbers: 40\n"
     ]
    }
   ],
   "source": [
    "# Define a function with one parameter which takes multiple arguments\n",
    "def calculate_sum(*values):\n",
    "    return sum(values)\n",
    "\n",
    "\n",
    "# Call the function to calculate sum of various numbers\n",
    "result = calculate_sum(5, 8, 6, 8, 2, 4, 7)\n",
    "\n",
    "# Finally print the sum of all numbers\n",
    "print(\"Sum of all numbers:\", result)"
   ]
  },
  {
   "cell_type": "markdown",
   "metadata": {},
   "source": [
    "- Define a function `calculate_sum()` with one parameter `*values` which takes multiple arguments and returns sum of all numbers.\n",
    "- Call the function to calculate sum of various numbers and store the result in result variable.\n",
    "- Finally, print the sum of all numbers."
   ]
  },
  {
   "cell_type": "markdown",
   "metadata": {},
   "source": [
    "### 5. What is the purpose of the `*args` and `**kwargs` syntax in function parameter lists?"
   ]
  },
  {
   "cell_type": "markdown",
   "metadata": {},
   "source": [
    "- **`*args`**: The **`*args`** syntax allows a function to accept a variable number of positional arguments. When **`*args`** is used in function definition, it collects any number of positional arguments into a tuple.\n",
    "- **`**kwargs`**: The **`**kwargs`** syntax allows a function to accept a variable number of keyword arguments. When **`**kwargs`** is used in a function definition, it collects any keyword arguments into a dictionary."
   ]
  },
  {
   "cell_type": "markdown",
   "metadata": {},
   "source": [
    "# Return Values and Scoping :"
   ]
  },
  {
   "cell_type": "markdown",
   "metadata": {},
   "source": [
    "### 1. Describe the role of the `return` statement in Python functions and provide examples."
   ]
  },
  {
   "cell_type": "markdown",
   "metadata": {},
   "source": [
    "- In python, the `return` statement in functions is used to explicitly send a value back from the function to the caller. It amkes the end of the function's execution and returns control to the point where the function was called.\n",
    "- **For example:**\n",
    "```py\n",
    "def add_numbers(a, b):\n",
    "    return a + b        # send addition value back where the function is called\n",
    "\n",
    "result = add_numbers(3, 5)      # Here the function is called\n",
    "print(result)\n",
    "```"
   ]
  },
  {
   "cell_type": "markdown",
   "metadata": {},
   "source": [
    "### 2. Explain the concept of variable scope in Python, including local and global variables."
   ]
  },
  {
   "cell_type": "markdown",
   "metadata": {},
   "source": [
    "- Variable scope in python refers to the visibility and accessibility of variables within different parts of the code. Two types of scoping are there - \n",
    "    - **Global Scope**: Variables declared outside of any function or block have global scope. These variables can be accessed from anywhere within the code, including inside functions.\n",
    "    - **Local Scope**: Variables declared inside of any function or block have local scope. They are accessible only within that function. Any attempt to access these variables from outside the function will result in an error.\n",
    "    - **`Example:`**\n",
    "    ```py\n",
    "    global_var = 10  # Global variable\n",
    "\n",
    "    def some_function():\n",
    "        print(global_var)  # Accessing global_var within the function\n",
    "        local_var = 20  # Local variable\n",
    "        print(local_var)    # Output: 20\n",
    "\n",
    "    some_function()  # Output: 10\n",
    "    ```"
   ]
  },
  {
   "cell_type": "markdown",
   "metadata": {},
   "source": [
    "### 3. Write a Python program that demonstrates the use of global variables within functions."
   ]
  },
  {
   "cell_type": "code",
   "execution_count": 22,
   "metadata": {},
   "outputs": [
    {
     "name": "stdout",
     "output_type": "stream",
     "text": [
      "Global variable: 10\n",
      "Global variable inside function after modify: 20\n"
     ]
    }
   ],
   "source": [
    "# Take an example global variable\n",
    "global_var = 10\n",
    "\n",
    "# Make a function and modify the global variable\n",
    "def modify_global():\n",
    "    global_var = 20\n",
    "    return global_var\n",
    "\n",
    "# Print the global variable\n",
    "print(\"Global variable:\", global_var)\n",
    "\n",
    "# Print the global variable inside the function\n",
    "print(\"Global variable inside function after modify:\", modify_global())"
   ]
  },
  {
   "cell_type": "markdown",
   "metadata": {},
   "source": [
    "- Take an example global variable and store it in global_var variable.\n",
    "- Make a function `modify_global()` and modify the global variable then return it.\n",
    "- Print the global variable outside of the function.\n",
    "- Print the modified global variable which is inside of the function."
   ]
  },
  {
   "cell_type": "markdown",
   "metadata": {},
   "source": [
    "### 4. Create a Python function that calculates the factorial of a number and returns it."
   ]
  },
  {
   "cell_type": "code",
   "execution_count": 23,
   "metadata": {},
   "outputs": [
    {
     "name": "stdout",
     "output_type": "stream",
     "text": [
      "Factorial of 5: 120\n"
     ]
    }
   ],
   "source": [
    "# Make a function for calculating factorial of a number\n",
    "def calculate_factorial(num):\n",
    "    if num < 0:\n",
    "        return \"Factorial can't be calculated.\"\n",
    "    elif num in (0, 1):\n",
    "        return 1\n",
    "    \n",
    "    result = 1\n",
    "    for i in range(2 , num + 1):\n",
    "        result *= i\n",
    "    \n",
    "    return result\n",
    "\n",
    "# Call the function for calculate factorial of a number\n",
    "factorial_of_5 = calculate_factorial(5)\n",
    "\n",
    "# Print the answer\n",
    "print(\"Factorial of 5:\", factorial_of_5)"
   ]
  },
  {
   "cell_type": "markdown",
   "metadata": {},
   "source": [
    "- Make a function `calculate_factorial()` with a parameter for calculate factorial of the number.\n",
    "- Call the function and pass a number (here I pass 5) as argument for calculating factorial of that number. Store the factorial value in factorial_of_5 variable.\n",
    "- Finally, print the result."
   ]
  },
  {
   "cell_type": "markdown",
   "metadata": {},
   "source": [
    "### 5. How can you access variables defined outside a function from within the function?"
   ]
  },
  {
   "cell_type": "markdown",
   "metadata": {},
   "source": [
    "- We can access variables defined outside a function from within the function using three ways. Here's the name and their example:\n",
    "<br>\n",
    "\n",
    "1. **Passing an arguments:** We can pass the variable as arguments to the function.\n",
    "```py\n",
    "global_var = 10     # variable defined outside the function\n",
    "\n",
    "def access_outside(var):\n",
    "    print(\"Value of global_var:\", var)\n",
    "\n",
    "# Pass global_var as an argument\n",
    "access_outside(global_var)  # Output: Value of global_var: 10\n",
    "```\n",
    "<br>\n",
    "\n",
    "2. **Using `global` keyword:** We can use the `global` keyword within the function to modify or access global variables.\n",
    "```py\n",
    "global_var = 10     # Global variable\n",
    "def access_global_var():\n",
    "    global global_var\n",
    "    print(\"Value of global_var:\", global_var)\n",
    "\n",
    "# Access The global_var from within the function\n",
    "access_global_var()     # Output: Value of global_var: 10\n",
    "```\n",
    "<br>\n",
    "\n",
    "3. **Using `nonlocal` keyword (for nested functions):** If the variable is in an outer function in a nested structure, you can use the `nonlocal` keyword to modify or access the variable.\n",
    "```py\n",
    "def outer_func():\n",
    "    outer_var = 10      # Variable in the outer function\n",
    "\n",
    "    def inner_func():\n",
    "        nonlocal outer_var\n",
    "        print(\"Value of outer_var from inner function:\", outer_var)\n",
    "    \n",
    "    inner_func()\n",
    "\n",
    "outer_func()        # Output: Value of outer_var from inner function: 10\n",
    "```"
   ]
  },
  {
   "cell_type": "markdown",
   "metadata": {},
   "source": [
    "# Lambda Functions and Higher-Order Functions:"
   ]
  },
  {
   "cell_type": "markdown",
   "metadata": {},
   "source": [
    "### 1. What are lambda functions in Python, and when are they typically used?"
   ]
  },
  {
   "cell_type": "markdown",
   "metadata": {},
   "source": [
    "### 2. Write a Python program that uses lambda functions to sort a list of tuples based on the second element."
   ]
  },
  {
   "cell_type": "markdown",
   "metadata": {},
   "source": [
    "### 3. Explain the concept of higher-order functions in Python, and provide an example."
   ]
  },
  {
   "cell_type": "markdown",
   "metadata": {},
   "source": [
    "### 4. Create a Python function that takes a list of numbers and a function as arguments, applying the function to each element in the list."
   ]
  },
  {
   "cell_type": "markdown",
   "metadata": {},
   "source": [
    "# Built-in Functions :"
   ]
  },
  {
   "cell_type": "markdown",
   "metadata": {},
   "source": [
    "### 1. Describe the role of built-in functions like `len()`, `max()`, and `min()` in Python."
   ]
  },
  {
   "cell_type": "markdown",
   "metadata": {},
   "source": [
    "### 2. Write a Python program that uses the `map()` function to apply a function to each element of a list."
   ]
  },
  {
   "cell_type": "markdown",
   "metadata": {},
   "source": [
    "### 3. How does the `filter()` function work in Python, and when would you use it?"
   ]
  },
  {
   "cell_type": "markdown",
   "metadata": {},
   "source": [
    "### 4. Create a Python program that uses the `reduce()` function to find the product of all elements in a list."
   ]
  },
  {
   "cell_type": "markdown",
   "metadata": {},
   "source": [
    "# Function Documentation and Best Practices:"
   ]
  },
  {
   "cell_type": "markdown",
   "metadata": {},
   "source": [
    "### 1. Explain the purpose of docstrings in Python functions and how to write them."
   ]
  },
  {
   "cell_type": "markdown",
   "metadata": {},
   "source": [
    "### 2. Describe some best practices for naming functions and variables in Python, including naming conventions and guidelines."
   ]
  },
  {
   "cell_type": "code",
   "execution_count": null,
   "metadata": {},
   "outputs": [],
   "source": []
  }
 ],
 "metadata": {
  "kernelspec": {
   "display_name": "base",
   "language": "python",
   "name": "python3"
  },
  "language_info": {
   "codemirror_mode": {
    "name": "ipython",
    "version": 3
   },
   "file_extension": ".py",
   "mimetype": "text/x-python",
   "name": "python",
   "nbconvert_exporter": "python",
   "pygments_lexer": "ipython3",
   "version": "3.9.16"
  }
 },
 "nbformat": 4,
 "nbformat_minor": 2
}
