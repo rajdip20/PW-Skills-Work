{
 "cells": [
  {
   "cell_type": "markdown",
   "metadata": {},
   "source": [
    "### 1. Given an array, check if it contains any duplicates or not.\n",
    "arr = [1, 2, 4, 2, 5, 9]<br>\n",
    "Output = True"
   ]
  },
  {
   "cell_type": "code",
   "execution_count": 1,
   "metadata": {},
   "outputs": [
    {
     "name": "stdout",
     "output_type": "stream",
     "text": [
      "True\n"
     ]
    }
   ],
   "source": [
    "## Function Definition\n",
    "def DuplicateElement(arr):\n",
    "    arr.sort()          # Sorting the array\n",
    "\n",
    "    for i in range(len(arr) - 1):\n",
    "        if arr[i + 1] == arr[i]:\n",
    "            return True\n",
    "    \n",
    "    return False\n",
    "\n",
    "\n",
    "## Driver code\n",
    "arr = [1, 2, 4, 2, 5, 9]\n",
    "result = DuplicateElement(arr)\n",
    "print(result)\n",
    "\n",
    "\n",
    "## Time Complexity: O(n log n)\n",
    "## Space Complexity: O(1)"
   ]
  },
  {
   "cell_type": "markdown",
   "metadata": {},
   "source": [
    "- The `DuplicateElement()` function Takes an array `arr` as a parameter.\n",
    "    - Then sorts the array in ascending order using the `.sort()` method.\n",
    "    - Iterates through the sorted array using a loop.\n",
    "    - Checks if any adjacent elements are equal.\n",
    "    - If duplicates are found, it returns `True`.\n",
    "    - If no duplicates are found, then it returns `False`.\n",
    "- In the driver code-\n",
    "    - Creates an array `arr`.\n",
    "    - Calls the `DuplicateElement` function with the array as an argument.\n",
    "    - Prints the result, idicating whether there are any duplicate element found or not."
   ]
  },
  {
   "cell_type": "markdown",
   "metadata": {},
   "source": [
    "### 2. Given an array and an integer k, rotate the array to the right by k steps.\n",
    "arr = [1, 2, 3, 4, 5, 6, 7]<br>\n",
    "k = 3<br>\n",
    "Output = [5, 6, 7, 1, 2, 3, 4]"
   ]
  },
  {
   "cell_type": "code",
   "execution_count": 2,
   "metadata": {},
   "outputs": [
    {
     "name": "stdout",
     "output_type": "stream",
     "text": [
      "[5, 6, 7, 1, 2, 3, 4]\n"
     ]
    }
   ],
   "source": [
    "# Function Definition\n",
    "def RotateArray(arr, k):\n",
    "    arr = arr[k + 1:] + arr[:k + 1]\n",
    "    \n",
    "    return arr\n",
    "\n",
    "\n",
    "# Driver code\n",
    "arr = [1, 2, 3, 4, 5, 6, 7]\n",
    "k = 3\n",
    "result = RotateArray(arr, k)\n",
    "print(result)\n",
    "\n",
    "\n",
    "## Time Complexity: O(n)\n",
    "## Space Complexity: O(n)"
   ]
  },
  {
   "cell_type": "markdown",
   "metadata": {},
   "source": [
    "- The `RotateArray()` function Takes an array `arr` and an integer `k` as parameters.\n",
    "    - Uses array slicing to concatenate the subarrays `arr[k + 1:]` and `arr[:k + 1]`.\n",
    "    - Teturns the resulting array after rotation.\n",
    "- In the driver code-\n",
    "    - Creates an array `arr`.\n",
    "    - Calls the `RotateArray` function with the array and rotation amount as arguments.\n",
    "    - Prints the resulting rotated array."
   ]
  },
  {
   "cell_type": "markdown",
   "metadata": {},
   "source": [
    "### 3. Reverse the given array in-place, means without using any extra data structure.\n",
    "arr = [2, 4, 5, 7, 9, 12]<br>\n",
    "Output = [12, 9, 7, 5, 4, 2]"
   ]
  },
  {
   "cell_type": "code",
   "execution_count": 3,
   "metadata": {},
   "outputs": [
    {
     "name": "stdout",
     "output_type": "stream",
     "text": [
      "[12, 9, 7, 5, 4, 2]\n"
     ]
    }
   ],
   "source": [
    "# Function Definition\n",
    "def ReverseArray(arr):\n",
    "    start_index = 0\n",
    "    end_index = len(arr) - 1\n",
    "\n",
    "    while start_index < end_index:\n",
    "        # Swap elements at start_index and end_index\n",
    "        arr[start_index], arr[end_index] = arr[end_index], arr[start_index]\n",
    "\n",
    "        # Move indices towards the center\n",
    "        start_index += 1\n",
    "        end_index -= 1\n",
    "    \n",
    "    return arr\n",
    "\n",
    "\n",
    "# Driver code\n",
    "arr = [2, 4, 5, 7, 9, 12]\n",
    "result = ReverseArray(arr)\n",
    "print(result)\n",
    "\n",
    "\n",
    "## Time Complexity: O(n)\n",
    "## Space Complexity: O(1)"
   ]
  },
  {
   "cell_type": "markdown",
   "metadata": {},
   "source": [
    "- The `ReverseArray()` function Takes an array `arr` as a parameter.\n",
    "    - Uses two pointers i.e. `start_index` and `end_index` initialized at the beginning and end of the array.\n",
    "    - Utilizes a while loop to swap elements at the pointers and move the pointers towards the center until they meet.\n",
    "    - Returns the modified array after reversal.\n",
    "- In the driver code-\n",
    "    - Creates an array `arr`.\n",
    "    - Calls the `ReverseArray` function with the array as an argument.\n",
    "    - Prints the reversed array."
   ]
  },
  {
   "cell_type": "markdown",
   "metadata": {},
   "source": [
    "### 4. Given an array of integers, find the maximum element in an array\n",
    "arr = [10, 5, 20, 8, 15]<br>\n",
    "Output = 20"
   ]
  },
  {
   "cell_type": "code",
   "execution_count": 4,
   "metadata": {},
   "outputs": [
    {
     "name": "stdout",
     "output_type": "stream",
     "text": [
      "20\n"
     ]
    }
   ],
   "source": [
    "# Function Definition\n",
    "def FindMax(arr):\n",
    "    result = max(arr)\n",
    "    return result\n",
    "\n",
    "\n",
    "# Driver code\n",
    "arr = [10, 5, 20, 8, 15]\n",
    "result = FindMax(arr)\n",
    "print(result)\n",
    "\n",
    "\n",
    "## Time complexity: O(n)\n",
    "## Space complexity: O(1)"
   ]
  },
  {
   "cell_type": "markdown",
   "metadata": {},
   "source": [
    "- The `FindMax()` function Takes an array `arr` as a parameter.\n",
    "    - Uses the built-in `max()` function to find and return the maximum value in the array.\n",
    "- In the driver code-\n",
    "    - Creates an array `arr`.\n",
    "    - Calls the `FindMax` function with the array as an argument.\n",
    "    - Prints the result, which is the maximum value in the array."
   ]
  },
  {
   "cell_type": "markdown",
   "metadata": {},
   "source": [
    "### 5. Given a sorted array, remove the duplicate element without using any extra data structure.\n",
    "arr = [1, 1, 2, 2, 2, 3, 3, 4, 4, 4, 5, 5]<br>\n",
    "Output = [1, 2, 3, 4, 5]"
   ]
  },
  {
   "cell_type": "code",
   "execution_count": 5,
   "metadata": {},
   "outputs": [
    {
     "name": "stdout",
     "output_type": "stream",
     "text": [
      "[1, 2, 3, 4, 5]\n"
     ]
    }
   ],
   "source": [
    "# Function Definition\n",
    "def RemoveDuplicate(arr):\n",
    "    i = 0\n",
    "    while i < len(arr) - 1:\n",
    "        if arr[i] == arr[i + 1]:\n",
    "            arr.pop(i)\n",
    "        else:\n",
    "            i += 1\n",
    "    \n",
    "    return arr\n",
    "\n",
    "\n",
    "# Driver code\n",
    "arr = [1, 1, 2, 2, 2, 3, 3, 4, 4, 4, 5, 5]\n",
    "result = RemoveDuplicate(arr)\n",
    "print(arr)\n",
    "\n",
    "\n",
    "## Time Complexity: O(n^2)\n",
    "## Space Complexity: O(1)"
   ]
  },
  {
   "cell_type": "markdown",
   "metadata": {},
   "source": [
    "- The `RemoveDuplicate()` function Takes an array `arr` as a parameter.\n",
    "    - Iterates through the array using a while loop.\n",
    "    - Compares consecutive elements, and if duplicates are found, removes one of them using `arr.remove(arr[i])`.\n",
    "    - Continues until the end of the array is reached.\n",
    "    - Returns the modified array.\n",
    "- In the driver code-\n",
    "    - Creates an array `arr`.\n",
    "    - Calls the `RemoveDuplicate` function with the array as an argument.\n",
    "    - Prints the modified array after removing consecutive duplicates."
   ]
  },
  {
   "cell_type": "code",
   "execution_count": null,
   "metadata": {},
   "outputs": [],
   "source": []
  }
 ],
 "metadata": {
  "kernelspec": {
   "display_name": "base",
   "language": "python",
   "name": "python3"
  },
  "language_info": {
   "codemirror_mode": {
    "name": "ipython",
    "version": 3
   },
   "file_extension": ".py",
   "mimetype": "text/x-python",
   "name": "python",
   "nbconvert_exporter": "python",
   "pygments_lexer": "ipython3",
   "version": "3.9.16"
  }
 },
 "nbformat": 4,
 "nbformat_minor": 2
}
