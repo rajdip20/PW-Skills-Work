{
 "cells": [
  {
   "cell_type": "code",
   "execution_count": 1,
   "metadata": {},
   "outputs": [],
   "source": [
    "## Recursive Code\n",
    "    # Base Case Condition\n",
    "    # Recursive Function Call"
   ]
  },
  {
   "cell_type": "code",
   "execution_count": 2,
   "metadata": {},
   "outputs": [
    {
     "name": "stdout",
     "output_type": "stream",
     "text": [
      "120\n"
     ]
    }
   ],
   "source": [
    "## Factorial of a given number\n",
    "## Time Complexity: O(n)\n",
    "## Space Complexity: O(n)\n",
    "\n",
    "\n",
    "## Function definition\n",
    "def FactorialNum(n):\n",
    "    # Base Case\n",
    "    if n <= 1:\n",
    "        return 1\n",
    "    else:\n",
    "        # Recursive Function Call\n",
    "        return n * FactorialNum(n - 1)\n",
    "\n",
    "\n",
    "## Driver code\n",
    "n = 5\n",
    "result = FactorialNum(n)\n",
    "print(result)"
   ]
  },
  {
   "cell_type": "code",
   "execution_count": 3,
   "metadata": {},
   "outputs": [
    {
     "name": "stdout",
     "output_type": "stream",
     "text": [
      "21\n"
     ]
    }
   ],
   "source": [
    "## Fibonnaci Series\n",
    "## Time Complexity: O(2^n)\n",
    "## Space Complexity: O(n)\n",
    "\n",
    "\n",
    "## Function definition\n",
    "def FibonnaciNum(n: int) -> int:\n",
    "    # Base Case\n",
    "    if n <= 1:\n",
    "        return n\n",
    "    else:\n",
    "        # Recursive Function Call\n",
    "        return FibonnaciNum(n - 1) + FibonnaciNum(n - 2)\n",
    "\n",
    "\n",
    "# Driver code\n",
    "n = 8\n",
    "result = FibonnaciNum(n)\n",
    "print(result)"
   ]
  },
  {
   "cell_type": "code",
   "execution_count": 4,
   "metadata": {},
   "outputs": [
    {
     "name": "stdout",
     "output_type": "stream",
     "text": [
      "5\n"
     ]
    }
   ],
   "source": [
    "## Climbing Stairs\n",
    "## Time Complexity: O(2^n)\n",
    "## Space Complexity: O(n)\n",
    "\n",
    "# Time Limit Exceeded because test cases taking bigger values of n\n",
    "\n",
    "## Function definition\n",
    "def ClimbStairs(n: int) -> int:\n",
    "    if n <= 3:\n",
    "        return n\n",
    "        \n",
    "    return ClimbStairs(n - 1) + ClimbStairs(n - 2)\n",
    "\n",
    "\n",
    "# Driver code\n",
    "n = 4\n",
    "result = ClimbStairs(n)\n",
    "print(result)"
   ]
  },
  {
   "cell_type": "code",
   "execution_count": 5,
   "metadata": {},
   "outputs": [
    {
     "name": "stdout",
     "output_type": "stream",
     "text": [
      "233\n"
     ]
    }
   ],
   "source": [
    "## Optimized Approach - Iterative Approach\n",
    "## Climbing Stairs\n",
    "## time complexity: O(n)\n",
    "## space complexity: O(1)\n",
    "\n",
    "\n",
    "## Function definition\n",
    "def ClimbStairs(n: int) -> int:\n",
    "    ## base case condition\n",
    "    if n == 1:\n",
    "        return 1\n",
    "    \n",
    "    ## bigger value of n\n",
    "    first = 1\n",
    "    second = 2\n",
    "    for _ in range(3, n + 1):\n",
    "        third = first + second\n",
    "        first = second\n",
    "        second = third\n",
    "    return second\n",
    "\n",
    "\n",
    "## Driver code\n",
    "n = 12\n",
    "result = ClimbStairs(n)\n",
    "print(result)"
   ]
  },
  {
   "cell_type": "code",
   "execution_count": null,
   "metadata": {},
   "outputs": [],
   "source": []
  }
 ],
 "metadata": {
  "kernelspec": {
   "display_name": "base",
   "language": "python",
   "name": "python3"
  },
  "language_info": {
   "codemirror_mode": {
    "name": "ipython",
    "version": 3
   },
   "file_extension": ".py",
   "mimetype": "text/x-python",
   "name": "python",
   "nbconvert_exporter": "python",
   "pygments_lexer": "ipython3",
   "version": "3.9.16"
  }
 },
 "nbformat": 4,
 "nbformat_minor": 2
}
