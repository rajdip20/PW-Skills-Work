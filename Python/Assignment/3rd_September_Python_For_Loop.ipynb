{
 "cells": [
  {
   "cell_type": "markdown",
   "metadata": {},
   "source": [
    "# Basic Level:"
   ]
  },
  {
   "cell_type": "markdown",
   "metadata": {},
   "source": [
    "### 1. Write a Python program to print the numbers from 1 to 10 using a `for` loop."
   ]
  },
  {
   "cell_type": "code",
   "execution_count": 1,
   "metadata": {},
   "outputs": [
    {
     "name": "stdout",
     "output_type": "stream",
     "text": [
      "1\n",
      "2\n",
      "3\n",
      "4\n",
      "5\n",
      "6\n",
      "7\n",
      "8\n",
      "9\n",
      "10\n"
     ]
    }
   ],
   "source": [
    "# Iterate through 1 to 11 and print every number\n",
    "for i in range(1, 11):\n",
    "    print(i)"
   ]
  },
  {
   "cell_type": "markdown",
   "metadata": {},
   "source": [
    "- Iterate through a range of 1 to 11.\n",
    "- In every iteration print the iteration number."
   ]
  },
  {
   "cell_type": "markdown",
   "metadata": {},
   "source": [
    "### 2. Create a program that calculates the sum of all numbers in a list using a `for` loop."
   ]
  },
  {
   "cell_type": "code",
   "execution_count": 2,
   "metadata": {},
   "outputs": [
    {
     "name": "stdout",
     "output_type": "stream",
     "text": [
      "Sum of all elements in the list: 62\n"
     ]
    }
   ],
   "source": [
    "# Make an example list\n",
    "my_list = [2, 3, 1, 4, 28, 4, 16, 4]\n",
    "\n",
    "# Initialize a sum variable with 0\n",
    "sum = 0\n",
    "\n",
    "# Iterate through the list and perform the addition\n",
    "for ele in my_list:\n",
    "    sum += ele\n",
    "\n",
    "# print the sum value\n",
    "print(f\"Sum of all elements in the list: {sum}\")"
   ]
  },
  {
   "cell_type": "markdown",
   "metadata": {},
   "source": [
    "- Make an example list. Store the list in my_list variable.\n",
    "- Initialize sum variable with 0.\n",
    "- Iterate through each element in the list.\n",
    "- In every iteration add the number with sum and store it in sum.\n",
    "- Finally, print the sum."
   ]
  },
  {
   "cell_type": "markdown",
   "metadata": {},
   "source": [
    "### 3. Write a program to print the characters of a string in reverse order using a `for` loop."
   ]
  },
  {
   "cell_type": "code",
   "execution_count": 5,
   "metadata": {},
   "outputs": [
    {
     "name": "stdout",
     "output_type": "stream",
     "text": [
      "Reverse string: pidjaR\n"
     ]
    }
   ],
   "source": [
    "# Take input a string from user\n",
    "string = input(\"Enter a string: \")\n",
    "\n",
    "# Initialize an empty string\n",
    "rev_string = \"\"\n",
    "\n",
    "# Iterate through each character of the string and print in the reverse order\n",
    "for i in range(len(string)-1, -1, -1):\n",
    "    rev_string += string[i]\n",
    "\n",
    "# Print the reverse string\n",
    "print(f\"Reverse string: {rev_string}\")"
   ]
  },
  {
   "cell_type": "markdown",
   "metadata": {},
   "source": [
    "- Take string input from user using input() function and store it in string variable.\n",
    "- Initialize rev_string variable with empty string.\n",
    "- Iterate through range of given string in reverse order.\n",
    "- In every iteration add the charecter in rev_string.\n",
    "- Finally, print the reversed string."
   ]
  },
  {
   "cell_type": "markdown",
   "metadata": {},
   "source": [
    "### 4. Develop a program that finds the factorial of a given number using a `for` loop."
   ]
  },
  {
   "cell_type": "code",
   "execution_count": 6,
   "metadata": {},
   "outputs": [
    {
     "name": "stdout",
     "output_type": "stream",
     "text": [
      "Factorial of 5: 120\n"
     ]
    }
   ],
   "source": [
    "# Take input a number from user\n",
    "num = int(input(\"Enter a number: \"))\n",
    "\n",
    "# Initialize fact variable with 1\n",
    "fact = 1\n",
    "\n",
    "# Iterate through range of the number and multiply\n",
    "for i in range(1, num + 1):\n",
    "    fact *= i\n",
    "\n",
    "# Print the answer\n",
    "print(f\"Factorial of {num}: {fact}\")"
   ]
  },
  {
   "cell_type": "markdown",
   "metadata": {},
   "source": [
    "- Take integer input from user using input() function and typecast it into integer. store the value in num variable.\n",
    "- Initialize fact variable with 1.\n",
    "- Iterate through range of 1 to num+1.\n",
    "- In every iteration multiply the value with fact and store it in fact variable.\n",
    "- Finally, print factorial of the number."
   ]
  },
  {
   "cell_type": "markdown",
   "metadata": {},
   "source": [
    "### 5. Create a program to print the multiplication table of a given number using a `for` loop."
   ]
  },
  {
   "cell_type": "code",
   "execution_count": 9,
   "metadata": {},
   "outputs": [
    {
     "name": "stdout",
     "output_type": "stream",
     "text": [
      "633 x 1 = 633\n",
      "633 x 2 = 1266\n",
      "633 x 3 = 1899\n",
      "633 x 4 = 2532\n",
      "633 x 5 = 3165\n",
      "633 x 6 = 3798\n",
      "633 x 7 = 4431\n",
      "633 x 8 = 5064\n",
      "633 x 9 = 5697\n",
      "633 x 10 = 6330\n"
     ]
    }
   ],
   "source": [
    "# Take input a number from user\n",
    "num = int(input(\"Enter a number: \"))\n",
    "\n",
    "# Iterate through range of the number and multiply\n",
    "for i in range(1, 11):\n",
    "    print(f\"{num} x {i} = {num*i}\")"
   ]
  },
  {
   "cell_type": "markdown",
   "metadata": {},
   "source": [
    "- Take a integer input from user using input() function and typecast it to integer using int() function. Store it in num variable.\n",
    "- Iterate through range of 1 to 11.\n",
    "- In every iteration mulitiply the number with iteration number and print it. This can print a multiplication table upto 10."
   ]
  },
  {
   "cell_type": "markdown",
   "metadata": {},
   "source": [
    "### 6. Write a program that counts the number of even and odd numbers in a list using a `for` loop."
   ]
  },
  {
   "cell_type": "code",
   "execution_count": 10,
   "metadata": {},
   "outputs": [
    {
     "name": "stdout",
     "output_type": "stream",
     "text": [
      "After counting:\n",
      "Even = 5\n",
      "Odd = 3\n"
     ]
    }
   ],
   "source": [
    "# Make an example list\n",
    "my_list = [2, 3, 1, 4, 27, 4, 16, 4]\n",
    "\n",
    "# Initialize two variable with 0\n",
    "even = 0\n",
    "odd = 0\n",
    "\n",
    "# Iterate through the list and check if the number even or odd\n",
    "for ele in my_list:\n",
    "    if ele % 2 == 0:\n",
    "        even += 1\n",
    "    else:\n",
    "        odd += 1\n",
    "\n",
    "# Print the result\n",
    "print(f\"After counting:\\nEven = {even}\\nOdd = {odd}\")"
   ]
  },
  {
   "cell_type": "markdown",
   "metadata": {},
   "source": [
    "- Make an example list. Store the list in my_list variable.\n",
    "- Initialize even and odd variables with 0.\n",
    "- Iterate through each element in the list.\n",
    "- In every iteration check if the element is even or odd\n",
    "    - If it even, then increase the even variable value by 1.\n",
    "    - else, increase the odd variable value by 1.\n",
    "- Finally, total number of even and odd value."
   ]
  },
  {
   "cell_type": "markdown",
   "metadata": {},
   "source": [
    "### 7. Develop a program that prints the squares of numbers from 1 to 5 using a `for` loop."
   ]
  },
  {
   "cell_type": "code",
   "execution_count": 13,
   "metadata": {},
   "outputs": [
    {
     "name": "stdout",
     "output_type": "stream",
     "text": [
      "1^2 = 1\n",
      "2^2 = 4\n",
      "3^2 = 9\n",
      "4^2 = 16\n",
      "5^2 = 25\n"
     ]
    }
   ],
   "source": [
    "# Iterate through 1 to 6 and print squares of every number\n",
    "for i in range(1, 6):\n",
    "    print(f\"{i}^2 = {i**2}\")"
   ]
  },
  {
   "cell_type": "markdown",
   "metadata": {},
   "source": [
    "- Iterate through a tange of 1 to 6.\n",
    "- In every iteration print iteration to the power of 2 (means square of the number)."
   ]
  },
  {
   "cell_type": "markdown",
   "metadata": {},
   "source": [
    "### 8. Create a program to find the length of a string without using the `len()` function."
   ]
  },
  {
   "cell_type": "code",
   "execution_count": 14,
   "metadata": {},
   "outputs": [
    {
     "name": "stdout",
     "output_type": "stream",
     "text": [
      "Length of the string is: 10\n"
     ]
    }
   ],
   "source": [
    "# Take input a string from user\n",
    "string = input(\"Enter a string: \")\n",
    "\n",
    "# Initialize a count variable with 0\n",
    "count = 0\n",
    "\n",
    "# Iterate through the string and count each character\n",
    "for char in string:\n",
    "    count += 1\n",
    "\n",
    "# Print the total number\n",
    "print(\"Length of the string is:\", count)"
   ]
  },
  {
   "cell_type": "markdown",
   "metadata": {},
   "source": [
    "- Take string input from user using input() function and store it in string variable.\n",
    "- Initialize count variable with 0.\n",
    "- Iterate through every character in the string.\n",
    "- In every iteration increase the count variable by 1.\n",
    "- Finally, print the total number of character."
   ]
  },
  {
   "cell_type": "markdown",
   "metadata": {},
   "source": [
    "### 9. Write a program that calculates the average of a list of numbers using a `for` loop."
   ]
  },
  {
   "cell_type": "code",
   "execution_count": 15,
   "metadata": {},
   "outputs": [
    {
     "name": "stdout",
     "output_type": "stream",
     "text": [
      "Average of the list of numbers is: 7.75\n"
     ]
    }
   ],
   "source": [
    "# Make an example list\n",
    "my_list = [2, 3, 1, 4, 28, 4, 16, 4]\n",
    "\n",
    "# Initialize a sum variable with 0\n",
    "sum = 0\n",
    "\n",
    "# Iterate through the list and perform the addition\n",
    "for ele in my_list:\n",
    "    sum += ele\n",
    "\n",
    "# Calculate average of the numbers\n",
    "ave = sum/len(my_list)\n",
    "\n",
    "# Print the average\n",
    "print(\"Average of the list of numbers is:\", ave)"
   ]
  },
  {
   "cell_type": "markdown",
   "metadata": {},
   "source": [
    "- Make an example list. Store the list in my_list variable.\n",
    "- Initialize sum variable with 0.\n",
    "- Iterate through each element in the list.\n",
    "- In every iteration add the number with sum and store it in sum.\n",
    "- Then divide the sum by length of the list (calculated by len() function). Store this in ave variable.\n",
    "- Finally, print the average."
   ]
  },
  {
   "cell_type": "markdown",
   "metadata": {},
   "source": [
    "### 10. Develop a program that prints the first `n` Fibonacci numbers using a `for` loop."
   ]
  },
  {
   "cell_type": "code",
   "execution_count": 19,
   "metadata": {},
   "outputs": [
    {
     "name": "stdout",
     "output_type": "stream",
     "text": [
      "Fibonacci sequence: \n",
      "0\n",
      "1\n",
      "1\n",
      "2\n",
      "3\n"
     ]
    }
   ],
   "source": [
    "# Take input a number from user\n",
    "num = int(input(\"Enter how many fibonacci number you want to print: \"))\n",
    "\n",
    "# Initialize two variable with 0 and 1\n",
    "n1 = 0\n",
    "n2 = 1\n",
    "\n",
    "# Iterate through range of n and print the series\n",
    "print(\"Fibonacci sequence: \")\n",
    "print(n1)\n",
    "for i in range(1, num):\n",
    "    print(n2)\n",
    "    next = n1 + n2\n",
    "    n1 = n2\n",
    "    n2 = next"
   ]
  },
  {
   "cell_type": "markdown",
   "metadata": {},
   "source": [
    "- Take a integer input from user using input() function and typecast it to integer using int() function. Store it in num variable.\n",
    "- Initialize n1 and n2 variable with 0 and 1.\n",
    "- print n1 once.\n",
    "- Iterate through a range of 1 to num.\n",
    "- In every iteration print n2. Then add n1 and n2, store it in next variable. copy n2 in n1 and next in n2."
   ]
  },
  {
   "cell_type": "markdown",
   "metadata": {},
   "source": [
    "# Intermediate Level:"
   ]
  },
  {
   "cell_type": "code",
   "execution_count": null,
   "metadata": {},
   "outputs": [],
   "source": []
  }
 ],
 "metadata": {
  "kernelspec": {
   "display_name": "base",
   "language": "python",
   "name": "python3"
  },
  "language_info": {
   "codemirror_mode": {
    "name": "ipython",
    "version": 3
   },
   "file_extension": ".py",
   "mimetype": "text/x-python",
   "name": "python",
   "nbconvert_exporter": "python",
   "pygments_lexer": "ipython3",
   "version": "3.9.16"
  }
 },
 "nbformat": 4,
 "nbformat_minor": 2
}
