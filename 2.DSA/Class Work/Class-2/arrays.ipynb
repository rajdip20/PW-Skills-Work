{
 "cells": [
  {
   "cell_type": "code",
   "execution_count": 1,
   "metadata": {},
   "outputs": [
    {
     "name": "stdout",
     "output_type": "stream",
     "text": [
      "282\n"
     ]
    }
   ],
   "source": [
    "## Method definition of the sum function\n",
    "## Time complexity: O(n)\n",
    "## Space complexity: O(1)\n",
    "\n",
    "def summation(arr):\n",
    "    n = len(arr)\n",
    "    sumVal = 0\n",
    "\n",
    "    for i in range(n):\n",
    "        sumVal += arr[i]\n",
    "\n",
    "    return sumVal\n",
    "\n",
    "\n",
    "## Driver code\n",
    "arr = [23, 34, 64, 12, 25, 56, 68]\n",
    "result = summation(arr)\n",
    "print(result)"
   ]
  },
  {
   "cell_type": "code",
   "execution_count": 2,
   "metadata": {},
   "outputs": [],
   "source": [
    "arr = [23, 34, 56, 78, 89]\n",
    "arr.insert(1, 24)"
   ]
  },
  {
   "cell_type": "code",
   "execution_count": 3,
   "metadata": {},
   "outputs": [
    {
     "data": {
      "text/plain": [
       "[23, 24, 34, 56, 78, 89]"
      ]
     },
     "execution_count": 3,
     "metadata": {},
     "output_type": "execute_result"
    }
   ],
   "source": [
    "arr"
   ]
  },
  {
   "cell_type": "code",
   "execution_count": 4,
   "metadata": {},
   "outputs": [],
   "source": [
    "arr.remove(24)"
   ]
  },
  {
   "cell_type": "code",
   "execution_count": 5,
   "metadata": {},
   "outputs": [
    {
     "data": {
      "text/plain": [
       "[23, 34, 56, 78, 89]"
      ]
     },
     "execution_count": 5,
     "metadata": {},
     "output_type": "execute_result"
    }
   ],
   "source": [
    "arr"
   ]
  },
  {
   "cell_type": "markdown",
   "metadata": {},
   "source": [
    "### Searching Algorithm"
   ]
  },
  {
   "cell_type": "code",
   "execution_count": 6,
   "metadata": {},
   "outputs": [
    {
     "name": "stdout",
     "output_type": "stream",
     "text": [
      "4\n"
     ]
    }
   ],
   "source": [
    "## Linear Search\n",
    "## Time Complexity: O(n)\n",
    "## Space Complexity: O(1)\n",
    "\n",
    "def LinearSearch(arr, target):\n",
    "    for i in range(len(arr)):\n",
    "        if arr[i] == target:\n",
    "            return i\n",
    "    return -1\n",
    "\n",
    "\n",
    "## Driver code    \n",
    "arr = [12, 14, 16, 18, 11, 22, 26, 29]\n",
    "target = 11\n",
    "result = LinearSearch(arr, target)\n",
    "print(result)"
   ]
  },
  {
   "cell_type": "code",
   "execution_count": 7,
   "metadata": {},
   "outputs": [
    {
     "name": "stdout",
     "output_type": "stream",
     "text": [
      "([2, 18, 22], [5, 11, 13, 15])\n"
     ]
    }
   ],
   "source": [
    "## Time Complexity: O(n)\n",
    "## Space Complexity: O(n)\n",
    "def EvenAndOdd(arr):\n",
    "    even = []\n",
    "    odd = []\n",
    "\n",
    "    for i in range(len(arr)):\n",
    "        if arr[i] % 2 == 0:\n",
    "            even.append(arr[i])\n",
    "        else:\n",
    "            odd.append(arr[i])\n",
    "    \n",
    "    return even, odd\n",
    "\n",
    "\n",
    "## Driver code\n",
    "arr = [2, 5, 11, 13, 15, 18, 22]\n",
    "result = EvenAndOdd(arr)\n",
    "print(result)"
   ]
  },
  {
   "cell_type": "code",
   "execution_count": 8,
   "metadata": {},
   "outputs": [
    {
     "name": "stdout",
     "output_type": "stream",
     "text": [
      "Primary Diagonal Sum: 32\n",
      "Secondary Diagonal Sum: 31\n"
     ]
    }
   ],
   "source": [
    "# Function Defination\n",
    "## Time Complexity: O(n^2)\n",
    "## Space Complexity: O(1)\n",
    "\n",
    "def PrintDiagonalSum(arr, n):\n",
    "    primary_diagonal_sum = 0\n",
    "    secondary_diagonal_sum = 0\n",
    "\n",
    "    for i in range(n):\n",
    "        for j in range(n):\n",
    "            if i == j:\n",
    "                primary_diagonal_sum += arr[i][j]\n",
    "            if i + j == n - 1:\n",
    "                secondary_diagonal_sum += arr[i][j]\n",
    "\n",
    "    return primary_diagonal_sum, secondary_diagonal_sum\n",
    "\n",
    "## Driver code\n",
    "arr = [[2, 4, 6], [8, 11, 13], [14, 17, 19]]\n",
    "primary, secondary = PrintDiagonalSum(arr, 3)\n",
    "print(\"Primary Diagonal Sum:\", primary)\n",
    "print(\"Secondary Diagonal Sum:\", secondary)"
   ]
  },
  {
   "cell_type": "code",
   "execution_count": 9,
   "metadata": {},
   "outputs": [],
   "source": [
    "## Properties of Logarithmic\n",
    "## Asymptotic Notations - Mathematical Idea/Intution\n",
    "## Arrays - 1D/2D Array\n",
    "## Random access - Searching and Sorting\n",
    "## Numerous coding problems[Linear Search, EvenOdd, Summation, DiagonalSum]\n",
    "## Time and Space Complexity\n",
    "## Next Session - Binary Search, Sorting Algorithms\n",
    "## Next Session - Recursion (Can't miss this session)"
   ]
  }
 ],
 "metadata": {
  "kernelspec": {
   "display_name": "base",
   "language": "python",
   "name": "python3"
  },
  "language_info": {
   "codemirror_mode": {
    "name": "ipython",
    "version": 3
   },
   "file_extension": ".py",
   "mimetype": "text/x-python",
   "name": "python",
   "nbconvert_exporter": "python",
   "pygments_lexer": "ipython3",
   "version": "3.9.16"
  }
 },
 "nbformat": 4,
 "nbformat_minor": 2
}
