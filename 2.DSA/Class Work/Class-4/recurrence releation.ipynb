{
 "cells": [
  {
   "cell_type": "code",
   "execution_count": 1,
   "metadata": {},
   "outputs": [],
   "source": [
    "## Recurrence Relation\n",
    "\n",
    "# 1. Substitution Method\n",
    "# 2. Recursive Tree Approach"
   ]
  },
  {
   "cell_type": "code",
   "execution_count": 2,
   "metadata": {},
   "outputs": [
    {
     "name": "stdout",
     "output_type": "stream",
     "text": [
      "10\n"
     ]
    }
   ],
   "source": [
    "# Sum of all digits\n",
    "\n",
    "## Time complexity: O(n)\n",
    "## Space complexity: O(n)\n",
    "\n",
    "## Function definition\n",
    "def sum_of_digits(n):\n",
    "    if n < 10:\n",
    "        return n\n",
    "    else:\n",
    "        return n % 10 + sum_of_digits(n // 10)\n",
    "    \n",
    "\n",
    "## Driver code\n",
    "num = 1234\n",
    "result = sum_of_digits(num)\n",
    "print(result)"
   ]
  },
  {
   "cell_type": "code",
   "execution_count": 3,
   "metadata": {},
   "outputs": [
    {
     "name": "stdout",
     "output_type": "stream",
     "text": [
      "65536\n"
     ]
    }
   ],
   "source": [
    "# Power of a given number\n",
    "## Time complexity: O(n)\n",
    "## Space complexity: O(n)\n",
    "\n",
    "\n",
    "## Function definition\n",
    "def powerOf(a, n):\n",
    "    ## base case condition\n",
    "    if n == 0:\n",
    "        return 1\n",
    "    else:\n",
    "        ## recursive function call\n",
    "        return a * powerOf(a, n - 1)\n",
    "\n",
    "\n",
    "## Driver code\n",
    "a = 2\n",
    "n = 16\n",
    "result = powerOf(a, n)\n",
    "print(result)"
   ]
  },
  {
   "cell_type": "code",
   "execution_count": 4,
   "metadata": {},
   "outputs": [
    {
     "name": "stdout",
     "output_type": "stream",
     "text": [
      "65536\n"
     ]
    }
   ],
   "source": [
    "# Power of a given number Optimized solution\n",
    "## Time complexity: O(log n)\n",
    "## Space complexity: O(n)\n",
    "\n",
    "\n",
    "## Function definition\n",
    "def powerFind(a, n):\n",
    "    ## base case condition\n",
    "    if n == 1:\n",
    "        return a\n",
    "\n",
    "    ## recursive function calls\n",
    "    else:\n",
    "        mid = n // 2\n",
    "        result = powerFind(a, mid)\n",
    "        finalResult = result * result\n",
    "\n",
    "        ## checking whether the value of n is even or odd\n",
    "        if n % 2 == 0:\n",
    "            return finalResult\n",
    "        else:\n",
    "            return a * finalResult\n",
    "\n",
    "## Driver code\n",
    "a = 2\n",
    "n = 16\n",
    "result = powerFind(a, n)\n",
    "print(result)"
   ]
  },
  {
   "cell_type": "code",
   "execution_count": null,
   "metadata": {},
   "outputs": [],
   "source": []
  }
 ],
 "metadata": {
  "kernelspec": {
   "display_name": "base",
   "language": "python",
   "name": "python3"
  },
  "language_info": {
   "codemirror_mode": {
    "name": "ipython",
    "version": 3
   },
   "file_extension": ".py",
   "mimetype": "text/x-python",
   "name": "python",
   "nbconvert_exporter": "python",
   "pygments_lexer": "ipython3",
   "version": "3.9.16"
  }
 },
 "nbformat": 4,
 "nbformat_minor": 2
}
