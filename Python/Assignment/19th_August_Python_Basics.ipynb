{
 "cells": [
  {
   "cell_type": "markdown",
   "id": "78989e4c",
   "metadata": {},
   "source": [
    "# Python Basics Variable"
   ]
  },
  {
   "cell_type": "markdown",
   "id": "032d18d8",
   "metadata": {},
   "source": [
    "### 1. Declare two variables, `x` and `y`, and assign them integer values. Swap the values of these variables without using any temporary variable."
   ]
  },
  {
   "cell_type": "code",
   "execution_count": 1,
   "id": "64fa2fe7",
   "metadata": {},
   "outputs": [
    {
     "name": "stdout",
     "output_type": "stream",
     "text": [
      "Before swap, x = 12 and y = 36\n",
      "After swap, x = 36 and y = 12\n"
     ]
    }
   ],
   "source": [
    "# Assign The Values\n",
    "x = 12\n",
    "y = 36\n",
    "\n",
    "print(f\"Before swap, x = {x} and y = {y}\")        # Print the assigned values.\n",
    "\n",
    "# Calculation for perform swaping operation\n",
    "x = x + y\n",
    "y = x - y\n",
    "x = x - y\n",
    "\n",
    "print(f\"After swap, x = {x} and y = {y}\")         # Print the updated values."
   ]
  },
  {
   "cell_type": "markdown",
   "id": "704e9b8d",
   "metadata": {},
   "source": [
    "- Assign integer values 12 and 36 to the variables `x` and `y` respectively.\n",
    "\n",
    "- Print the values of `x` and `y` before swaping.\n",
    "\n",
    "- Add `x` and `y`. Overwrite the `x`'s value with the new addition value.\n",
    "\n",
    "- Subtract `y` from the new `x`. For this subtraction we get the value of old `x` and save it in `y`.\n",
    "\n",
    "- Subtract new `y` from the new `x`. For this subtraction we get the value of old `y` and save it in `x`.\n",
    "\n",
    "- Print the vaues of `x` and `y` after swaping."
   ]
  },
  {
   "cell_type": "markdown",
   "id": "261d7ea4",
   "metadata": {},
   "source": [
    "### 2. Create a program that calculates the area of a rectangle. Take the length and width as inputs from the user and store them in variables. Calculate and display the area."
   ]
  },
  {
   "cell_type": "code",
   "execution_count": 2,
   "id": "03c77202",
   "metadata": {},
   "outputs": [
    {
     "name": "stdout",
     "output_type": "stream",
     "text": [
      "Enter the length of the rectangle: 12\n",
      "Enter the width of the rectangle: 6\n",
      "The area of the rectangle is: 72.0\n"
     ]
    }
   ],
   "source": [
    "# Taking input from user\n",
    "length = float(input(\"Enter the length of the rectangle: \"))\n",
    "width = float(input(\"Enter the width of the rectangle: \"))\n",
    "\n",
    "# Calculate area\n",
    "area = length * width\n",
    "\n",
    "# Print the area\n",
    "print(\"The area of the rectangle is:\" , area)"
   ]
  },
  {
   "cell_type": "markdown",
   "id": "b1764fe7",
   "metadata": {},
   "source": [
    "- Take input `langth` and `width` from user using input() function and convert the type str to float.\n",
    "- Calculate the area of rectangle using formula: area = length * width.\n",
    "- Finally, print the area of the rectangle."
   ]
  },
  {
   "cell_type": "markdown",
   "id": "7f8a43c8",
   "metadata": {},
   "source": [
    "### 3. Write a Python program that converts temperatures from Celsius to Fahrenheit. Take the temperature in Celsius as input, store it in a variable, convert it to Fahrenheit, and display the result."
   ]
  },
  {
   "cell_type": "code",
   "execution_count": 3,
   "id": "3eb983a8",
   "metadata": {},
   "outputs": [
    {
     "name": "stdout",
     "output_type": "stream",
     "text": [
      "Enter temperature in celsius: 12\n",
      "12.0 celsius is equal to 53.6 fahrenheit\n"
     ]
    }
   ],
   "source": [
    "# Taking input temperature as celsius from user\n",
    "celsius = float(input(\"Enter temperature in celsius: \"))\n",
    "\n",
    "# Calculate the celsius value to fahrenheit\n",
    "fahrenheit = (celsius * 9/5) + 32\n",
    "\n",
    "# Print the fahrenheit value\n",
    "print(f\"{celsius} celsius is equal to {fahrenheit} fahrenheit\")"
   ]
  },
  {
   "cell_type": "markdown",
   "id": "44d63360",
   "metadata": {},
   "source": [
    "- Take input `celsius` from user using input() function and convert the type str to float.\n",
    "- Calculate the temperature in fahrenheit using formula: fahrenheit = (celsius * 9/5) + 32.\n",
    "- Finally, print the fahrenheit value."
   ]
  },
  {
   "cell_type": "markdown",
   "id": "4fa7abde",
   "metadata": {},
   "source": [
    "# String Based Questions"
   ]
  },
  {
   "cell_type": "markdown",
   "id": "797248fa",
   "metadata": {},
   "source": [
    "### 1. Write a Python program that takes a string as input and prints the length of the string."
   ]
  },
  {
   "cell_type": "code",
   "execution_count": 4,
   "id": "38d021fe",
   "metadata": {},
   "outputs": [
    {
     "name": "stdout",
     "output_type": "stream",
     "text": [
      "Enter a string: Rajdip\n",
      "Length of the string is: 6\n"
     ]
    }
   ],
   "source": [
    "# Taking input a string from user\n",
    "string = input(\"Enter a string: \")\n",
    "\n",
    "# Calculate the length of the string\n",
    "length = len(string)\n",
    "\n",
    "# Print the length of the string\n",
    "print(\"Length of the string is:\", length)"
   ]
  },
  {
   "cell_type": "markdown",
   "id": "ac8c36b4",
   "metadata": {},
   "source": [
    "- Take string input from user using input() function and store it in string variable.\n",
    "- Calculate the length of the string using len() function and store it in length variable.\n",
    "- Finally, print the length value."
   ]
  },
  {
   "cell_type": "markdown",
   "id": "10069d73",
   "metadata": {},
   "source": [
    "### 2. Create a program that takes a sentence from the user and counts the number of vowels (a, e, i, o, u) in the string."
   ]
  },
  {
   "cell_type": "code",
   "execution_count": 5,
   "id": "e669d78b",
   "metadata": {},
   "outputs": [
    {
     "name": "stdout",
     "output_type": "stream",
     "text": [
      "Enter a sentence: My name is Rajdip Das\n",
      "Number of vowels: 6\n"
     ]
    }
   ],
   "source": [
    "# Taking input a sentence from user\n",
    "sentence = input(\"Enter a sentence: \")\n",
    "count = 0\n",
    "\n",
    "# Iterate each character in the sentence\n",
    "for char in sentence:\n",
    "    char_lower = char.lower()    # Convert each character in the sentence\n",
    "    \n",
    "    if char_lower in \"aeiou\":\n",
    "        count += 1               # if character is a vowel increment count value by 1\n",
    "\n",
    "# Print total number of vowel\n",
    "print(\"Number of vowels:\", count)"
   ]
  },
  {
   "cell_type": "markdown",
   "id": "18fb40b7",
   "metadata": {},
   "source": [
    "- Take a sentence as input from user using input() function and store it in sentence variable.\n",
    "- Make a count variable to keep the count of each vowel. Initially it is 0.\n",
    "- Iterate each character in the sentence using for loop.\n",
    "- Convert all character in lower case using .lower() method and save it in char_lower variable.\n",
    "- Check the character if it is in \"aeiou\" or not using if statement.\n",
    "    - If the condition satisfied then count variable increased by 1 else not.\n",
    "- Finally, print the final count of vowel."
   ]
  },
  {
   "cell_type": "markdown",
   "id": "8bf82604",
   "metadata": {},
   "source": [
    "### 3. Given a string, reverse the order of characters using string slicing and print the reversed string."
   ]
  },
  {
   "cell_type": "code",
   "execution_count": 6,
   "id": "aa4e8ee1",
   "metadata": {},
   "outputs": [
    {
     "name": "stdout",
     "output_type": "stream",
     "text": [
      "Enter a string: Rajdip\n",
      "Reversed string: pidjaR\n"
     ]
    }
   ],
   "source": [
    "# Taking input a string from user\n",
    "string = input(\"Enter a string: \")\n",
    "\n",
    "# reverse the string using slicing\n",
    "rev_string = string[::-1]\n",
    "\n",
    "# Print reversed string\n",
    "print(\"Reversed string:\", rev_string)"
   ]
  },
  {
   "cell_type": "markdown",
   "id": "76af6e15",
   "metadata": {},
   "source": [
    "- Take string input from user using input() function and store it in string variable.\n",
    "- Reverse the string using string slicing method. Here, `string[::-1]` means, end to end slicing but in the negative step, Means, last to first. Save it in rev_srting variable.\n",
    "- Finally, print the reversed string."
   ]
  },
  {
   "cell_type": "markdown",
   "id": "2b7ab8eb",
   "metadata": {},
   "source": [
    "### 4. Write a program that takes a string as input and checks if it is a palindrome (reads the same forwards and backwards)."
   ]
  },
  {
   "cell_type": "code",
   "execution_count": 7,
   "id": "47595bb7",
   "metadata": {},
   "outputs": [
    {
     "name": "stdout",
     "output_type": "stream",
     "text": [
      "Enter a string: oppo\n",
      "It is a palindrome.\n"
     ]
    }
   ],
   "source": [
    "# Taking input a string from user\n",
    "string = input(\"Enter a string: \")\n",
    "\n",
    "# reverse the string using slicing\n",
    "rev_string = string[::-1]\n",
    "\n",
    "# Check the string and the reverse string equal or not\n",
    "if string == string[::-1]:\n",
    "    print(\"It is a palindrome.\")\n",
    "else:\n",
    "    print(\"It is not a palindrome.\")"
   ]
  },
  {
   "cell_type": "markdown",
   "id": "e9d6868b",
   "metadata": {},
   "source": [
    "- Take string input from user using input() function and store it in string variable.\n",
    "- Reverse the string using string slicing method. Save it in rev_srting variable.\n",
    "- Check whether the string is equal to the reversed string or not.\n",
    "    - If equal, then print \"It is a palindrome\".\n",
    "    - Otherwise, print \"It is not a palindrome\"."
   ]
  },
  {
   "cell_type": "markdown",
   "id": "c519decd",
   "metadata": {},
   "source": [
    "### 5. Create a program that takes a string as input and removes all the spaces from it. Print the modified string without spaces."
   ]
  },
  {
   "cell_type": "code",
   "execution_count": 8,
   "id": "cd6c954a",
   "metadata": {},
   "outputs": [
    {
     "name": "stdout",
     "output_type": "stream",
     "text": [
      "Enter a string: Rajdip Das\n",
      "Reversed string: RajdipDas\n"
     ]
    }
   ],
   "source": [
    "# Taking input a string from user\n",
    "string = input(\"Enter a string: \")\n",
    "\n",
    "# remove all the spaces using replace method\n",
    "modified_string = string.replace(\" \", \"\")\n",
    "\n",
    "# Print modified string\n",
    "print(\"Reversed string:\", modified_string)"
   ]
  },
  {
   "cell_type": "markdown",
   "id": "baaef9ba",
   "metadata": {},
   "source": [
    "- Take string input from user using input() function and store it in string variable.\n",
    "- Remove all spaces using .replace() method which take two parameters as input. First, old value, here, a space. Second, new value, here, no space. Save it in modified_string variable.\n",
    "- Finally, print the modified string."
   ]
  },
  {
   "cell_type": "code",
   "execution_count": null,
   "id": "9c33e8de",
   "metadata": {},
   "outputs": [],
   "source": []
  }
 ],
 "metadata": {
  "kernelspec": {
   "display_name": "Python 3 (ipykernel)",
   "language": "python",
   "name": "python3"
  },
  "language_info": {
   "codemirror_mode": {
    "name": "ipython",
    "version": 3
   },
   "file_extension": ".py",
   "mimetype": "text/x-python",
   "name": "python",
   "nbconvert_exporter": "python",
   "pygments_lexer": "ipython3",
   "version": "3.9.16"
  }
 },
 "nbformat": 4,
 "nbformat_minor": 5
}
