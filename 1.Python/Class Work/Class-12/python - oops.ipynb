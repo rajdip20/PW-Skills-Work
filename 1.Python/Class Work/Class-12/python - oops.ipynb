{
 "cells": [
  {
   "cell_type": "code",
   "execution_count": 1,
   "metadata": {},
   "outputs": [
    {
     "data": {
      "text/plain": [
       "3"
      ]
     },
     "execution_count": 1,
     "metadata": {},
     "output_type": "execute_result"
    }
   ],
   "source": [
    "1 + 2"
   ]
  },
  {
   "cell_type": "code",
   "execution_count": 2,
   "metadata": {},
   "outputs": [],
   "source": [
    "class bankaccount:\n",
    "\n",
    "    def openaccount(self, name, email_id):\n",
    "        print(\"open an account by taking name and mail id\")\n",
    "        return name + email_id\n",
    "    \n",
    "    def deposite(self, amount):\n",
    "        print(\"i am trying to deposite an amount in my account\")\n",
    "    \n",
    "    def withdraw(self, amt_with):\n",
    "        print(\"withdraw the amount\")\n",
    "\n",
    "    def update_details(self, name_update, email_update):\n",
    "        print(\"this function will update my name and mail id for account\")"
   ]
  },
  {
   "cell_type": "code",
   "execution_count": 3,
   "metadata": {},
   "outputs": [],
   "source": [
    "def openaccount(name, email_id):\n",
    "        print(\"open an account by taking name and mail id\")\n",
    "        return name + email_id"
   ]
  },
  {
   "cell_type": "code",
   "execution_count": 4,
   "metadata": {},
   "outputs": [
    {
     "name": "stdout",
     "output_type": "stream",
     "text": [
      "open an account by taking name and mail id\n"
     ]
    },
    {
     "data": {
      "text/plain": [
       "'rajraj@gmail.com'"
      ]
     },
     "execution_count": 4,
     "metadata": {},
     "output_type": "execute_result"
    }
   ],
   "source": [
    "openaccount(\"raj\", \"raj@gmail.com\")"
   ]
  },
  {
   "cell_type": "code",
   "execution_count": 5,
   "metadata": {},
   "outputs": [],
   "source": [
    "raj = bankaccount()"
   ]
  },
  {
   "cell_type": "code",
   "execution_count": 6,
   "metadata": {},
   "outputs": [
    {
     "name": "stdout",
     "output_type": "stream",
     "text": [
      "open an account by taking name and mail id\n"
     ]
    },
    {
     "data": {
      "text/plain": [
       "'rajraj@gmail.com'"
      ]
     },
     "execution_count": 6,
     "metadata": {},
     "output_type": "execute_result"
    }
   ],
   "source": [
    "raj.openaccount(\"raj\", \"raj@gmail.com\")"
   ]
  },
  {
   "cell_type": "code",
   "execution_count": 211,
   "metadata": {},
   "outputs": [],
   "source": [
    "class list_ops:\n",
    "    \n",
    "    # a = 10\n",
    "    # l = [54, 5, 54, 22, 87, 2, 9]\n",
    "    def __init__(self, l):\n",
    "        self.l1 = l\n",
    "        self.l2 = 40\n",
    "        self.l3 = \"raj\"\n",
    "        self.l4 = (5, 8, 65, 15, 8)\n",
    "        self.l5 = {\"key\": 'value'}\n",
    "\n",
    "    def extractfromindex(self, l, index):\n",
    "        try:\n",
    "            return l[index]\n",
    "        except TypeError:\n",
    "            print(\"The input type is wrong\")\n",
    "        except IndexError:\n",
    "            print(\"Entered index is high\")\n",
    "        except KeyError:\n",
    "            print(\"Enter a valid input type\")\n",
    "        except Exception as e:\n",
    "            print(e)\n",
    "    \n",
    "    def extractrangedata(self, l, start, end):\n",
    "        try:\n",
    "            return l[start:end]\n",
    "        except TypeError:\n",
    "            print(\"The input type is wrong\")\n",
    "        except Exception as e:\n",
    "            print(e)\n",
    "    \n",
    "    def extracteven(self, l):\n",
    "        try:\n",
    "            l1 = []\n",
    "            for i in l:\n",
    "                if i % 2 == 0:\n",
    "                    l1.append(i)\n",
    "            return l1\n",
    "        except TypeError:\n",
    "            print(\"Not all type is a valid type. Enter a valid type.\")\n",
    "        except Exception as e:\n",
    "            print(e)\n",
    "    "
   ]
  },
  {
   "cell_type": "code",
   "execution_count": 215,
   "metadata": {},
   "outputs": [
    {
     "name": "stdout",
     "output_type": "stream",
     "text": [
      "[2, 8, 6, 32, 7, 3, 7, 9]\n"
     ]
    }
   ],
   "source": [
    "try:\n",
    "    first_obj = list_ops([2, 8, 6, 32, 7, 3, 7, 9])\n",
    "    print(first_obj.l1)\n",
    "except TypeError:\n",
    "    print(\"enter a valid type\")\n",
    "except SyntaxError:\n",
    "    print(\"Enter with valid syntax\")\n",
    "except Exception as e:\n",
    "    print(e)"
   ]
  },
  {
   "cell_type": "code",
   "execution_count": 216,
   "metadata": {},
   "outputs": [
    {
     "data": {
      "text/plain": [
       "32"
      ]
     },
     "execution_count": 216,
     "metadata": {},
     "output_type": "execute_result"
    }
   ],
   "source": [
    "first_obj.extractfromindex(first_obj.l1, 3)"
   ]
  },
  {
   "cell_type": "code",
   "execution_count": 217,
   "metadata": {},
   "outputs": [
    {
     "data": {
      "text/plain": [
       "[2, 8, 6, 32]"
      ]
     },
     "execution_count": 217,
     "metadata": {},
     "output_type": "execute_result"
    }
   ],
   "source": [
    "first_obj.extracteven(first_obj.l1)"
   ]
  },
  {
   "cell_type": "code",
   "execution_count": 218,
   "metadata": {},
   "outputs": [
    {
     "data": {
      "text/plain": [
       "40"
      ]
     },
     "execution_count": 218,
     "metadata": {},
     "output_type": "execute_result"
    }
   ],
   "source": [
    "first_obj.l2"
   ]
  },
  {
   "cell_type": "code",
   "execution_count": 225,
   "metadata": {},
   "outputs": [
    {
     "data": {
      "text/plain": [
       "[4, 7, 6, 8]"
      ]
     },
     "execution_count": 225,
     "metadata": {},
     "output_type": "execute_result"
    }
   ],
   "source": [
    "first_obj.extractrangedata([4, 7, 6, 8, 7], 0, 4)"
   ]
  },
  {
   "cell_type": "code",
   "execution_count": 220,
   "metadata": {},
   "outputs": [
    {
     "data": {
      "text/plain": [
       "[2, 2, 8]"
      ]
     },
     "execution_count": 220,
     "metadata": {},
     "output_type": "execute_result"
    }
   ],
   "source": [
    "first_obj.extracteven([2, 5, 2, 8, 9, 7])"
   ]
  },
  {
   "cell_type": "code",
   "execution_count": 143,
   "metadata": {},
   "outputs": [
    {
     "data": {
      "text/plain": [
       "{'key': 'value'}"
      ]
     },
     "execution_count": 143,
     "metadata": {},
     "output_type": "execute_result"
    }
   ],
   "source": [
    "first_obj.l5"
   ]
  },
  {
   "cell_type": "code",
   "execution_count": 289,
   "metadata": {},
   "outputs": [],
   "source": [
    "class book:\n",
    "    def __init__(self, name, title, pageno):\n",
    "        self.name_of_book = name\n",
    "        self.title_of_book = title\n",
    "        try:\n",
    "            if type(pageno) == str:\n",
    "                raise TypeError(\"Page number can't be a string\")\n",
    "            if pageno >= 2:\n",
    "                self.page_no = pageno\n",
    "            if pageno < 2:\n",
    "                raise ValueError(\"This amount of page in a book doesn't exist\")\n",
    "                \n",
    "        except Exception as e:\n",
    "            print(e)\n",
    "\n",
    "    def extract_details(self):\n",
    "        print(self.name_of_book, \",\", self.title_of_book)\n",
    "\n",
    "    def print_page_no(self):\n",
    "        print(self.page_no)"
   ]
  },
  {
   "cell_type": "code",
   "execution_count": 308,
   "metadata": {},
   "outputs": [],
   "source": [
    "rajdip = book(\"dsa\", \"practical dsa\", 456)\n",
    "dev = book(\"data science\", \"data science for dumies\", 963)\n",
    "deba = book(\"big data\", \"invension with big data\", 569)"
   ]
  },
  {
   "cell_type": "code",
   "execution_count": 309,
   "metadata": {},
   "outputs": [
    {
     "data": {
      "text/plain": [
       "'dsa'"
      ]
     },
     "execution_count": 309,
     "metadata": {},
     "output_type": "execute_result"
    }
   ],
   "source": [
    "rajdip.name_of_book"
   ]
  },
  {
   "cell_type": "code",
   "execution_count": 310,
   "metadata": {},
   "outputs": [
    {
     "data": {
      "text/plain": [
       "'data science for dumies'"
      ]
     },
     "execution_count": 310,
     "metadata": {},
     "output_type": "execute_result"
    }
   ],
   "source": [
    "dev.title_of_book"
   ]
  },
  {
   "cell_type": "code",
   "execution_count": 311,
   "metadata": {},
   "outputs": [],
   "source": [
    "try:\n",
    "    deba.page_no\n",
    "except AttributeError:\n",
    "    print(\"You make some mistake\")\n",
    "except Exception as e:\n",
    "    print(e)"
   ]
  },
  {
   "cell_type": "code",
   "execution_count": 312,
   "metadata": {},
   "outputs": [
    {
     "name": "stdout",
     "output_type": "stream",
     "text": [
      "dsa , practical dsa\n"
     ]
    }
   ],
   "source": [
    "rajdip.extract_details()"
   ]
  },
  {
   "cell_type": "code",
   "execution_count": 313,
   "metadata": {},
   "outputs": [
    {
     "name": "stdout",
     "output_type": "stream",
     "text": [
      "data science , data science for dumies\n"
     ]
    }
   ],
   "source": [
    "dev.extract_details()"
   ]
  },
  {
   "cell_type": "code",
   "execution_count": 314,
   "metadata": {},
   "outputs": [
    {
     "name": "stdout",
     "output_type": "stream",
     "text": [
      "big data , invension with big data\n"
     ]
    }
   ],
   "source": [
    "deba.extract_details()"
   ]
  },
  {
   "cell_type": "code",
   "execution_count": 315,
   "metadata": {},
   "outputs": [
    {
     "name": "stdout",
     "output_type": "stream",
     "text": [
      "456\n"
     ]
    }
   ],
   "source": [
    "try:\n",
    "    rajdip.print_page_no()\n",
    "except AttributeError:\n",
    "    print(\"You make some mistake\")\n",
    "except Exception as e:\n",
    "    print(e)"
   ]
  },
  {
   "cell_type": "code",
   "execution_count": 79,
   "metadata": {},
   "outputs": [],
   "source": [
    "class book:\n",
    "    def __init__(self):\n",
    "        self.name_of_book = \"dsa\"\n",
    "        self.title_of_book = \"dsa advance\"\n",
    "        self.page_no = 568\n",
    "\n",
    "    def extract_details(self):\n",
    "        print(self.name_of_book, \",\", self.title_of_book)\n",
    "\n",
    "    def print_page_no(self):\n",
    "        print(self.page_no)"
   ]
  },
  {
   "cell_type": "code",
   "execution_count": 80,
   "metadata": {},
   "outputs": [],
   "source": [
    "student1 = book()"
   ]
  },
  {
   "cell_type": "code",
   "execution_count": 81,
   "metadata": {},
   "outputs": [
    {
     "data": {
      "text/plain": [
       "'dsa'"
      ]
     },
     "execution_count": 81,
     "metadata": {},
     "output_type": "execute_result"
    }
   ],
   "source": [
    "student1.name_of_book"
   ]
  },
  {
   "cell_type": "code",
   "execution_count": 82,
   "metadata": {},
   "outputs": [],
   "source": [
    "student2 = book()"
   ]
  },
  {
   "cell_type": "code",
   "execution_count": 83,
   "metadata": {},
   "outputs": [
    {
     "data": {
      "text/plain": [
       "'dsa'"
      ]
     },
     "execution_count": 83,
     "metadata": {},
     "output_type": "execute_result"
    }
   ],
   "source": [
    "student2.name_of_book"
   ]
  },
  {
   "cell_type": "code",
   "execution_count": 87,
   "metadata": {},
   "outputs": [],
   "source": [
    "class gmail_ops:\n",
    "    def __init__(self, userid, password):\n",
    "        self.userid = userid\n",
    "        self.password = password\n",
    "        self.url = \"https://mail.google.com/mail/u/l/#inbox\"\n",
    "    \n",
    "    def login(self):\n",
    "        print(\"take userid\" + \" \" + self.userid + \" \" + \"take password\" + \" \" + self.password + \" \" + \"hit url\" + \" \" + self.url)\n",
    "        print(\"login\")\n",
    "    \n",
    "    def read_mail(self):\n",
    "        print(\"read mail for\" + \" \" + self.userid + \" \" + self.password)\n",
    "\n",
    "    def reply_mail(self):\n",
    "        print(\"reply mail for\" + \" \" + self.userid + \" \" + self.password)"
   ]
  },
  {
   "cell_type": "code",
   "execution_count": 88,
   "metadata": {},
   "outputs": [],
   "source": [
    "user1 = gmail_ops(\"user1\", \"user1pass\")"
   ]
  },
  {
   "cell_type": "code",
   "execution_count": 89,
   "metadata": {},
   "outputs": [
    {
     "name": "stdout",
     "output_type": "stream",
     "text": [
      "take userid user1 take password user1pass hit url https://mail.google.com/mail/u/l/#inbox\n",
      "login\n"
     ]
    }
   ],
   "source": [
    "user1.login()"
   ]
  },
  {
   "cell_type": "code",
   "execution_count": 90,
   "metadata": {},
   "outputs": [],
   "source": [
    "user2 = gmail_ops(\"user2\", \"user2pass\")"
   ]
  },
  {
   "cell_type": "code",
   "execution_count": 91,
   "metadata": {},
   "outputs": [
    {
     "name": "stdout",
     "output_type": "stream",
     "text": [
      "take userid user2 take password user2pass hit url https://mail.google.com/mail/u/l/#inbox\n",
      "login\n"
     ]
    }
   ],
   "source": [
    "user2.login()"
   ]
  },
  {
   "cell_type": "code",
   "execution_count": 104,
   "metadata": {},
   "outputs": [],
   "source": [
    "from functools import reduce\n",
    "\n",
    "class calculator:\n",
    "\n",
    "    def __init__(self, username):\n",
    "        self.username = username\n",
    "\n",
    "    def add(self, *args):\n",
    "        return self.username, sum(args)\n",
    "    \n",
    "    def subtraction(self, *args):\n",
    "        return self.username, reduce(lambda a, b: a - b, args)\n",
    "    \n",
    "    def multiplication(self, *args):\n",
    "        return self.username, reduce(lambda a, b: a * b, args)\n",
    "    \n",
    "    def div(self, *args):\n",
    "        return self.username, reduce(lambda a, b: a / b, args)"
   ]
  },
  {
   "cell_type": "code",
   "execution_count": 105,
   "metadata": {},
   "outputs": [],
   "source": [
    "raj = calculator(\"rajdip\")"
   ]
  },
  {
   "cell_type": "code",
   "execution_count": 106,
   "metadata": {},
   "outputs": [
    {
     "data": {
      "text/plain": [
       "('rajdip', 17)"
      ]
     },
     "execution_count": 106,
     "metadata": {},
     "output_type": "execute_result"
    }
   ],
   "source": [
    "raj.add(1, 2, 6, 8)"
   ]
  },
  {
   "cell_type": "code",
   "execution_count": 107,
   "metadata": {},
   "outputs": [
    {
     "data": {
      "text/plain": [
       "('rajdip', 6048)"
      ]
     },
     "execution_count": 107,
     "metadata": {},
     "output_type": "execute_result"
    }
   ],
   "source": [
    "raj.multiplication(6, 8, 9, 2, 7)"
   ]
  },
  {
   "cell_type": "code",
   "execution_count": 108,
   "metadata": {},
   "outputs": [
    {
     "data": {
      "text/plain": [
       "('rajdip', -4)"
      ]
     },
     "execution_count": 108,
     "metadata": {},
     "output_type": "execute_result"
    }
   ],
   "source": [
    "raj.subtraction(95, 85, 1, 9, 4)"
   ]
  },
  {
   "cell_type": "code",
   "execution_count": 109,
   "metadata": {},
   "outputs": [
    {
     "data": {
      "text/plain": [
       "('rajdip', 0.03968253968253969)"
      ]
     },
     "execution_count": 109,
     "metadata": {},
     "output_type": "execute_result"
    }
   ],
   "source": [
    "raj.div(5, 9, 7, 2)"
   ]
  },
  {
   "cell_type": "code",
   "execution_count": 110,
   "metadata": {},
   "outputs": [],
   "source": [
    "dev = calculator(\"debodip\")"
   ]
  },
  {
   "cell_type": "code",
   "execution_count": 111,
   "metadata": {},
   "outputs": [
    {
     "data": {
      "text/plain": [
       "('debodip', 128)"
      ]
     },
     "execution_count": 111,
     "metadata": {},
     "output_type": "execute_result"
    }
   ],
   "source": [
    "dev.add(5, 98, 12, 7, 6)"
   ]
  },
  {
   "cell_type": "code",
   "execution_count": null,
   "metadata": {},
   "outputs": [],
   "source": []
  }
 ],
 "metadata": {
  "kernelspec": {
   "display_name": "base",
   "language": "python",
   "name": "python3"
  },
  "language_info": {
   "codemirror_mode": {
    "name": "ipython",
    "version": 3
   },
   "file_extension": ".py",
   "mimetype": "text/x-python",
   "name": "python",
   "nbconvert_exporter": "python",
   "pygments_lexer": "ipython3",
   "version": "3.9.16"
  }
 },
 "nbformat": 4,
 "nbformat_minor": 2
}
