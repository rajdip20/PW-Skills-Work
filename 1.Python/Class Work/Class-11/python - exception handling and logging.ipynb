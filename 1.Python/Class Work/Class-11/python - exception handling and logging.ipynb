{
 "cells": [
  {
   "cell_type": "code",
   "execution_count": 1,
   "metadata": {},
   "outputs": [],
   "source": [
    "a = int(input(\"enter a value for a: \"))\n",
    "b = int(input(\"enter a value for b: \"))"
   ]
  },
  {
   "cell_type": "code",
   "execution_count": 2,
   "metadata": {},
   "outputs": [
    {
     "data": {
      "text/plain": [
       "0"
      ]
     },
     "execution_count": 2,
     "metadata": {},
     "output_type": "execute_result"
    }
   ],
   "source": [
    "a * b"
   ]
  },
  {
   "cell_type": "code",
   "execution_count": 3,
   "metadata": {},
   "outputs": [],
   "source": [
    "# a / b\n",
    "\n",
    "# ZeroDivisionError: division by zero"
   ]
  },
  {
   "cell_type": "code",
   "execution_count": 4,
   "metadata": {},
   "outputs": [
    {
     "data": {
      "text/plain": [
       "3"
      ]
     },
     "execution_count": 4,
     "metadata": {},
     "output_type": "execute_result"
    }
   ],
   "source": [
    "a + b"
   ]
  },
  {
   "cell_type": "code",
   "execution_count": 5,
   "metadata": {},
   "outputs": [],
   "source": [
    "l = [4, 5, 6, 7, 8, 9, 0]\n",
    "l1 = []\n",
    "def even_parser(l):\n",
    "    for i in l:\n",
    "        if i % 2 == 0:\n",
    "            l1.append(i)\n",
    "    return l1"
   ]
  },
  {
   "cell_type": "code",
   "execution_count": 6,
   "metadata": {},
   "outputs": [
    {
     "data": {
      "text/plain": [
       "[4, 6, 8, 0]"
      ]
     },
     "execution_count": 6,
     "metadata": {},
     "output_type": "execute_result"
    }
   ],
   "source": [
    "even_parser(l)"
   ]
  },
  {
   "cell_type": "code",
   "execution_count": 7,
   "metadata": {},
   "outputs": [
    {
     "name": "stdout",
     "output_type": "stream",
     "text": [
      "print something\n"
     ]
    }
   ],
   "source": [
    "try:\n",
    "    a = int(input(\"enter a value for a: \"))\n",
    "    b = int(input(\"enter a value for b: \"))\n",
    "    c = a / b\n",
    "    print(c)\n",
    "except:\n",
    "    pass\n",
    "print(\"print something\")"
   ]
  },
  {
   "cell_type": "code",
   "execution_count": 8,
   "metadata": {},
   "outputs": [],
   "source": [
    "# even_parser(\"raj\")\n",
    "\n",
    "# TypeError: not all arguments converted during string formatting"
   ]
  },
  {
   "cell_type": "code",
   "execution_count": 9,
   "metadata": {},
   "outputs": [],
   "source": [
    "l = [4, 5, 6, 7, 8, 9, 0]\n",
    "l1 = []\n",
    "def even_parser1(l):\n",
    "    try:\n",
    "        for i in l:\n",
    "            if i % 2 == 0:\n",
    "                l1.append(i)\n",
    "        return l1\n",
    "    except:\n",
    "        pass"
   ]
  },
  {
   "cell_type": "code",
   "execution_count": 10,
   "metadata": {},
   "outputs": [
    {
     "data": {
      "text/plain": [
       "[4, 6, 8, 0]"
      ]
     },
     "execution_count": 10,
     "metadata": {},
     "output_type": "execute_result"
    }
   ],
   "source": [
    "even_parser1(l)"
   ]
  },
  {
   "cell_type": "code",
   "execution_count": 11,
   "metadata": {},
   "outputs": [],
   "source": [
    "even_parser1(\"raj\")"
   ]
  },
  {
   "cell_type": "code",
   "execution_count": 12,
   "metadata": {},
   "outputs": [
    {
     "name": "stdout",
     "output_type": "stream",
     "text": [
      "division by zero\n"
     ]
    }
   ],
   "source": [
    "try:\n",
    "    a = int(input())\n",
    "    b = int(input())\n",
    "    c = a / b\n",
    "except TypeError as t:\n",
    "    print(t)\n",
    "except ZeroDivisionError as z:\n",
    "    print(z)\n",
    "except ValueError as v:\n",
    "    print(v)"
   ]
  },
  {
   "cell_type": "code",
   "execution_count": 13,
   "metadata": {},
   "outputs": [
    {
     "name": "stdout",
     "output_type": "stream",
     "text": [
      "division by zero\n",
      "invalid literal for int() with base 10: 'raj'\n"
     ]
    }
   ],
   "source": [
    "try:\n",
    "    x = 5 / 0\n",
    "except ZeroDivisionError as z:\n",
    "    print(z)\n",
    "    try:\n",
    "        y = int(\"raj\")\n",
    "    except ValueError as v:\n",
    "        print(v)"
   ]
  },
  {
   "cell_type": "code",
   "execution_count": 14,
   "metadata": {},
   "outputs": [
    {
     "name": "stdout",
     "output_type": "stream",
     "text": [
      "division by zero\n",
      "this will be executed always\n"
     ]
    }
   ],
   "source": [
    "try:\n",
    "    x = 5 / 0\n",
    "except ZeroDivisionError as z:\n",
    "    print(z)\n",
    "else:\n",
    "    print(\"this will execute itself once try will execute without  and error.\")\n",
    "finally:\n",
    "    print(\"this will be executed always\")"
   ]
  },
  {
   "cell_type": "code",
   "execution_count": 15,
   "metadata": {},
   "outputs": [
    {
     "name": "stdout",
     "output_type": "stream",
     "text": [
      "this is a key error\n"
     ]
    }
   ],
   "source": [
    "try:\n",
    "    d = {'name': \"raj\", 'mobile': 123456, 'email_id': \"raj@gmail.com\"}\n",
    "    d[\"course\"]\n",
    "except Exception:\n",
    "    print(\"this is a key error\")"
   ]
  },
  {
   "cell_type": "code",
   "execution_count": 16,
   "metadata": {},
   "outputs": [
    {
     "data": {
      "text/plain": [
       "{'name': 'raj', 'mobile': 123456, 'email_id': 'raj@gmail.com'}"
      ]
     },
     "execution_count": 16,
     "metadata": {},
     "output_type": "execute_result"
    }
   ],
   "source": [
    "d"
   ]
  },
  {
   "cell_type": "code",
   "execution_count": 17,
   "metadata": {},
   "outputs": [
    {
     "name": "stdout",
     "output_type": "stream",
     "text": [
      "list index out of range\n"
     ]
    }
   ],
   "source": [
    "try:\n",
    "    l = [4, 5, 6, 7, 8, 8, 9]\n",
    "    l[10]\n",
    "except Exception as e:\n",
    "    print(e)"
   ]
  },
  {
   "cell_type": "code",
   "execution_count": 18,
   "metadata": {},
   "outputs": [
    {
     "name": "stdout",
     "output_type": "stream",
     "text": [
      "invalid literal for int() with base 10: 'raj'\n"
     ]
    }
   ],
   "source": [
    "try:\n",
    "    a = \"raj\"\n",
    "    int(a)\n",
    "except Exception as e:\n",
    "    print(e)"
   ]
  },
  {
   "cell_type": "code",
   "execution_count": 19,
   "metadata": {},
   "outputs": [
    {
     "name": "stdout",
     "output_type": "stream",
     "text": [
      " Volume in drive C has no label.\n",
      " Volume Serial Number is 1ECF-CC8A\n",
      "\n",
      " Directory of c:\\Users\\Lenovo\\Desktop\\PW-Skills-Work\\Python\\Class Work\\Class-11\n",
      "\n",
      "\n",
      " Directory of c:\\Users\\Lenovo\\Desktop\\PW-Skills-Work\\Python\\Class Work\\Class-11\n",
      "\n"
     ]
    },
    {
     "name": "stderr",
     "output_type": "stream",
     "text": [
      "File Not Found\n"
     ]
    }
   ],
   "source": [
    "ls - l      # type: ignore"
   ]
  },
  {
   "cell_type": "code",
   "execution_count": 20,
   "metadata": {},
   "outputs": [
    {
     "data": {
      "text/plain": [
       "'c:\\\\Users\\\\Lenovo\\\\Desktop\\\\PW-Skills-Work\\\\Python\\\\Class Work\\\\Class-11'"
      ]
     },
     "execution_count": 20,
     "metadata": {},
     "output_type": "execute_result"
    }
   ],
   "source": [
    "pwd      # type: ignore"
   ]
  },
  {
   "cell_type": "code",
   "execution_count": 21,
   "metadata": {},
   "outputs": [
    {
     "data": {
      "text/plain": [
       "'bdewyf\\nefnahfeb\\nfvrdfge\\nsdhaewji\\ndfvnjhnv\\ncjkamker\\ncj dj \\nvrjhvhj'"
      ]
     },
     "execution_count": 21,
     "metadata": {},
     "output_type": "execute_result"
    }
   ],
   "source": [
    "file_name = \"../Class-11/pro/test.txt\"\n",
    "f = open(file_name)\n",
    "f.read()"
   ]
  },
  {
   "cell_type": "code",
   "execution_count": 22,
   "metadata": {},
   "outputs": [
    {
     "name": "stdout",
     "output_type": "stream",
     "text": [
      "c:\\Users\\Lenovo\\Desktop\\PW-Skills-Work\\Python\\Class Work\\Class-11\\pro\n"
     ]
    }
   ],
   "source": [
    "cd pro      # type: ignore"
   ]
  },
  {
   "cell_type": "code",
   "execution_count": 23,
   "metadata": {},
   "outputs": [
    {
     "data": {
      "text/plain": [
       "'c:\\\\Users\\\\Lenovo\\\\Desktop\\\\PW-Skills-Work\\\\Python\\\\Class Work\\\\Class-11\\\\pro'"
      ]
     },
     "execution_count": 23,
     "metadata": {},
     "output_type": "execute_result"
    }
   ],
   "source": [
    "pwd      # type: ignore"
   ]
  },
  {
   "cell_type": "code",
   "execution_count": 24,
   "metadata": {},
   "outputs": [
    {
     "name": "stdout",
     "output_type": "stream",
     "text": [
      " Volume in drive C has no label.\n",
      " Volume Serial Number is 1ECF-CC8A\n",
      "\n",
      " Directory of c:\\Users\\Lenovo\\Desktop\\PW-Skills-Work\\Python\\Class Work\\Class-11\\pro\n",
      "\n",
      "24-12-2023  10:15 PM    <DIR>          .\n",
      "24-12-2023  10:15 PM    <DIR>          ..\n",
      "24-12-2023  10:15 PM                72 test.txt\n",
      "               1 File(s)             72 bytes\n",
      "               2 Dir(s)  114,566,287,360 bytes free\n"
     ]
    }
   ],
   "source": [
    "ls      # type: ignore"
   ]
  },
  {
   "cell_type": "code",
   "execution_count": 25,
   "metadata": {},
   "outputs": [
    {
     "data": {
      "text/plain": [
       "<_io.TextIOWrapper name='test.txt' mode='r' encoding='UTF-8'>"
      ]
     },
     "execution_count": 25,
     "metadata": {},
     "output_type": "execute_result"
    }
   ],
   "source": [
    "open(\"test.txt\")"
   ]
  },
  {
   "cell_type": "code",
   "execution_count": 26,
   "metadata": {},
   "outputs": [
    {
     "data": {
      "text/plain": [
       "'c:\\\\Users\\\\Lenovo\\\\Desktop\\\\PW-Skills-Work\\\\Python\\\\Class Work\\\\Class-11\\\\pro'"
      ]
     },
     "execution_count": 26,
     "metadata": {},
     "output_type": "execute_result"
    }
   ],
   "source": [
    "pwd      # type: ignore"
   ]
  },
  {
   "cell_type": "code",
   "execution_count": 27,
   "metadata": {},
   "outputs": [
    {
     "name": "stdout",
     "output_type": "stream",
     "text": [
      "c:\\Users\\Lenovo\\Desktop\\PW-Skills-Work\\Python\\Class Work\\Class-11\n"
     ]
    }
   ],
   "source": [
    "cd ..      # type: ignore"
   ]
  },
  {
   "cell_type": "code",
   "execution_count": 28,
   "metadata": {},
   "outputs": [
    {
     "name": "stdout",
     "output_type": "stream",
     "text": [
      " Volume in drive C has no label.\n",
      " Volume Serial Number is 1ECF-CC8A\n",
      "\n",
      " Directory of c:\\Users\\Lenovo\\Desktop\\PW-Skills-Work\\Python\\Class Work\\Class-11\n",
      "\n",
      "24-12-2023  10:15 PM    <DIR>          .\n",
      "24-12-2023  10:15 PM    <DIR>          ..\n",
      "24-12-2023  10:15 PM    <DIR>          pro\n",
      "24-12-2023  11:22 PM            20,475 python - exception handling and logging.ipynb\n",
      "               1 File(s)         20,475 bytes\n",
      "               3 Dir(s)  114,565,423,104 bytes free\n"
     ]
    }
   ],
   "source": [
    "ls      # type: ignore"
   ]
  },
  {
   "cell_type": "code",
   "execution_count": 29,
   "metadata": {},
   "outputs": [
    {
     "data": {
      "text/plain": [
       "<_io.TextIOWrapper name='c:\\\\Users\\\\Lenovo\\\\Desktop\\\\PW-Skills-Work\\\\Python\\\\Class Work\\\\Class-11\\\\pro\\\\test.txt' mode='r' encoding='UTF-8'>"
      ]
     },
     "execution_count": 29,
     "metadata": {},
     "output_type": "execute_result"
    }
   ],
   "source": [
    "open(\"c:\\\\Users\\\\Lenovo\\\\Desktop\\\\PW-Skills-Work\\\\Python\\\\Class Work\\\\Class-11\\\\pro\\\\test.txt\")"
   ]
  },
  {
   "cell_type": "code",
   "execution_count": 30,
   "metadata": {},
   "outputs": [
    {
     "name": "stdout",
     "output_type": "stream",
     "text": [
      "user has entered zero\n"
     ]
    }
   ],
   "source": [
    "try:\n",
    "    n = int(input(\"enter a number\"))\n",
    "    div  = 342 / n\n",
    "    print(div)\n",
    "except ValueError:\n",
    "    print(\"user has entered invalid input\")\n",
    "except ZeroDivisionError:\n",
    "    print(\"user has entered zero\")"
   ]
  },
  {
   "cell_type": "code",
   "execution_count": 31,
   "metadata": {},
   "outputs": [
    {
     "name": "stdout",
     "output_type": "stream",
     "text": [
      "171.0\n"
     ]
    }
   ],
   "source": [
    "try: \n",
    "    n = int(input(\"enter a number\"))\n",
    "    div  = 342 / n\n",
    "    print(div)\n",
    "except (ValueError, ZeroDivisionError):\n",
    "    print(\"user has entered invalid input or may be zero\")"
   ]
  },
  {
   "cell_type": "code",
   "execution_count": 32,
   "metadata": {},
   "outputs": [
    {
     "name": "stdout",
     "output_type": "stream",
     "text": [
      "user has entered zero\n"
     ]
    }
   ],
   "source": [
    "try:\n",
    "    try:\n",
    "        n = int(input(\"enter a number\"))\n",
    "        div  = 342 / n\n",
    "        print(div)\n",
    "    except ZeroDivisionError:\n",
    "        print(\"user has entered zero\")\n",
    "except ValueError:\n",
    "    print(\"user has entered invalid input\")"
   ]
  },
  {
   "cell_type": "code",
   "execution_count": 33,
   "metadata": {},
   "outputs": [
    {
     "name": "stdout",
     "output_type": "stream",
     "text": [
      "user has entered finvalid input or may be zero\n"
     ]
    }
   ],
   "source": [
    "try:\n",
    "    n = int(input(\"enter a number\"))\n",
    "    div  = 342 / n\n",
    "    print(div)\n",
    "except Exception:\n",
    "    print(\"user has entered invalid input or may be zero\")"
   ]
  },
  {
   "cell_type": "code",
   "execution_count": 34,
   "metadata": {},
   "outputs": [
    {
     "name": "stdout",
     "output_type": "stream",
     "text": [
      "user has entered invalid input or may be zero\n"
     ]
    }
   ],
   "source": [
    "try:\n",
    "    n = int(input(\"enter a number\"))\n",
    "    div  = 342 / n\n",
    "    print(div)\n",
    "except Exception:\n",
    "    print(\"user has entered invalid input or may be zero\")"
   ]
  },
  {
   "cell_type": "code",
   "execution_count": 39,
   "metadata": {},
   "outputs": [],
   "source": [
    "f = open(\"../Class-11/pro/test.txt\")\n",
    "f.read()\n",
    "f.close()"
   ]
  },
  {
   "cell_type": "code",
   "execution_count": 40,
   "metadata": {},
   "outputs": [
    {
     "data": {
      "text/plain": [
       "<_io.TextIOWrapper name='../Class-11/pro/test.txt' mode='r' encoding='UTF-8'>"
      ]
     },
     "execution_count": 40,
     "metadata": {},
     "output_type": "execute_result"
    }
   ],
   "source": [
    "f"
   ]
  },
  {
   "cell_type": "code",
   "execution_count": 42,
   "metadata": {},
   "outputs": [
    {
     "name": "stdout",
     "output_type": "stream",
     "text": [
      "there is soeme issue\n",
      "file closed\n"
     ]
    }
   ],
   "source": [
    "try:\n",
    "    f = open(\"../Class-11/pro/test.txt\")\n",
    "    data = f.write()\n",
    "except Exception:\n",
    "    print(\"there is soeme issue\")\n",
    "else:\n",
    "    print(data)\n",
    "finally: \n",
    "    try:\n",
    "        print(data)\n",
    "    except:\n",
    "        pass\n",
    "    f.close()\n",
    "    print(\"file closed\")"
   ]
  },
  {
   "cell_type": "code",
   "execution_count": 43,
   "metadata": {},
   "outputs": [
    {
     "data": {
      "text/plain": [
       "<_io.TextIOWrapper name='../Class-11/pro/test.txt' mode='r' encoding='UTF-8'>"
      ]
     },
     "execution_count": 43,
     "metadata": {},
     "output_type": "execute_result"
    }
   ],
   "source": [
    "f"
   ]
  },
  {
   "cell_type": "code",
   "execution_count": 44,
   "metadata": {},
   "outputs": [
    {
     "name": "stdout",
     "output_type": "stream",
     "text": [
      "enter hight is negative\n"
     ]
    }
   ],
   "source": [
    "try:\n",
    "    a = int(input(\"enter hight of the wall: \"))\n",
    "    if a < 0:\n",
    "        raise ValueError(\"enter hight is negative\")\n",
    "except ValueError as v:\n",
    "    print(v)"
   ]
  },
  {
   "cell_type": "code",
   "execution_count": 45,
   "metadata": {},
   "outputs": [
    {
     "name": "stdout",
     "output_type": "stream",
     "text": [
      "user has entered a negative age which is not valid\n"
     ]
    }
   ],
   "source": [
    "try:\n",
    "    age = int(input(\"enter your age: \"))\n",
    "    if age < 0:\n",
    "        raise ValueError(\"user has entered a negative age which is not valid\")\n",
    "    elif age < 18:\n",
    "        raise Exception(\"user is underage\")\n",
    "    else:\n",
    "        print(\"valid user\")\n",
    "except Exception as e:\n",
    "    print(e)"
   ]
  },
  {
   "cell_type": "code",
   "execution_count": 2,
   "metadata": {},
   "outputs": [],
   "source": [
    "import logging as log"
   ]
  },
  {
   "cell_type": "code",
   "execution_count": 3,
   "metadata": {},
   "outputs": [],
   "source": [
    "log.basicConfig(filename = 'test.log', level = log.INFO)"
   ]
  },
  {
   "cell_type": "code",
   "execution_count": 4,
   "metadata": {},
   "outputs": [],
   "source": [
    "log.info(\"store a msg\")"
   ]
  },
  {
   "cell_type": "code",
   "execution_count": 5,
   "metadata": {},
   "outputs": [],
   "source": [
    "log.debug(\"this is a debug msg\")"
   ]
  },
  {
   "cell_type": "code",
   "execution_count": 6,
   "metadata": {},
   "outputs": [],
   "source": [
    "log.warning(\"this is my warning\")"
   ]
  },
  {
   "cell_type": "code",
   "execution_count": 7,
   "metadata": {},
   "outputs": [],
   "source": [
    "log.error(\"tihs is a error msg\")"
   ]
  },
  {
   "cell_type": "code",
   "execution_count": 8,
   "metadata": {},
   "outputs": [],
   "source": [
    "log.critical(\"this is a critical msg\")"
   ]
  },
  {
   "cell_type": "code",
   "execution_count": 1,
   "metadata": {},
   "outputs": [],
   "source": [
    "import logging\n",
    "\n",
    "logging.basicConfig(filename = 'newtest.log', level = logging.DEBUG, format = '%(asctime)s- %(levelname)s - %(message)s')\n",
    "try:\n",
    "    logging.info(\"this is a start of my prog\")\n",
    "    logging.info(\"asking user to enter age\")\n",
    "    age = int(input(\"enter your age\"))\n",
    "    logging.info(\"user has entered the age = %d\", age)\n",
    "    if age < 0:\n",
    "        logging.info(\"i am checking negative condition\")\n",
    "        raise ValueError(\"user has entered a negative age which is not valid\")\n",
    "    elif age < 18:\n",
    "        logging.info(\"i am trying to check underage contion\")\n",
    "        raise Exception(\"user is underage\")\n",
    "    else:\n",
    "        logging.info(\"valid user\")\n",
    "except Exception as e:\n",
    "    logging.error(e)"
   ]
  },
  {
   "cell_type": "code",
   "execution_count": 1,
   "metadata": {},
   "outputs": [],
   "source": [
    "import logging\n",
    "\n",
    "logging.basicConfig(filename = 'even_parse.log', level = logging.DEBUG, format = '%(asctime)s- %(levelname)s - %(message)s')\n",
    "l = [4,5,6,7,8,9,0]\n",
    "logging.info(l)\n",
    "l1 = []\n",
    "\n",
    "def even_parser(l):\n",
    "    try:\n",
    "        logging.info(\"inside try block\")\n",
    "        for i in l:\n",
    "            logging.info(\"inside for loop i = %d\", i)\n",
    "            if i % 2 == 0:\n",
    "                logging.info(\"checking the valur of i\")\n",
    "                l1.append(i)\n",
    "                logging.info(\"appending the value i = %d\", i)\n",
    "        return l1\n",
    "    except Exception as e:\n",
    "        logging.error(e)"
   ]
  },
  {
   "cell_type": "code",
   "execution_count": 2,
   "metadata": {},
   "outputs": [
    {
     "data": {
      "text/plain": [
       "[4, 6, 8, 0]"
      ]
     },
     "execution_count": 2,
     "metadata": {},
     "output_type": "execute_result"
    }
   ],
   "source": [
    "even_parser(l)"
   ]
  },
  {
   "cell_type": "code",
   "execution_count": null,
   "metadata": {},
   "outputs": [],
   "source": []
  }
 ],
 "metadata": {
  "kernelspec": {
   "display_name": "base",
   "language": "python",
   "name": "python3"
  },
  "language_info": {
   "codemirror_mode": {
    "name": "ipython",
    "version": 3
   },
   "file_extension": ".py",
   "mimetype": "text/x-python",
   "name": "python",
   "nbconvert_exporter": "python",
   "pygments_lexer": "ipython3",
   "version": "3.9.16"
  }
 },
 "nbformat": 4,
 "nbformat_minor": 2
}
