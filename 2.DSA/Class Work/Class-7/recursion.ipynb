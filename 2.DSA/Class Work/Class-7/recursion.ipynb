{
 "cells": [
  {
   "cell_type": "code",
   "execution_count": 1,
   "metadata": {},
   "outputs": [
    {
     "name": "stdout",
     "output_type": "stream",
     "text": [
      "3\n"
     ]
    }
   ],
   "source": [
    "# Linear Search with recursion\n",
    "\n",
    "def LinearSearch(arr, num, StartIndex):\n",
    "    if len(arr) <= StartIndex:\n",
    "        return -1\n",
    "\n",
    "    if arr[StartIndex] == num:\n",
    "        return StartIndex\n",
    "    \n",
    "    return LinearSearch(arr, num, StartIndex + 1)\n",
    "\n",
    "\n",
    "arr = [1, 5, 9, 7, 3]\n",
    "result = LinearSearch(arr, 7, 0)\n",
    "print(result)"
   ]
  },
  {
   "cell_type": "code",
   "execution_count": 2,
   "metadata": {},
   "outputs": [
    {
     "name": "stdout",
     "output_type": "stream",
     "text": [
      "2\n"
     ]
    }
   ],
   "source": [
    "# Binary Search with recursion\n",
    "\n",
    "def BinarySearch(arr, num, StartIndex, EndIndex):\n",
    "    if StartIndex > EndIndex:\n",
    "        return -1\n",
    "    \n",
    "    mid = int(StartIndex + (EndIndex - StartIndex) / 2)\n",
    "\n",
    "    if arr[mid] == num:\n",
    "        return mid\n",
    "    \n",
    "    elif arr[mid] > num:\n",
    "        return BinarySearch(arr, num, StartIndex, mid - 1)\n",
    "    else:\n",
    "        return BinarySearch(arr, num, mid + 1, EndIndex)\n",
    "\n",
    "\n",
    "arr = [1, 2, 3, 5, 7, 8, 9, 12]\n",
    "result = BinarySearch(arr, 3, 0, len(arr)-1)\n",
    "print(result)"
   ]
  },
  {
   "cell_type": "code",
   "execution_count": 3,
   "metadata": {},
   "outputs": [
    {
     "name": "stdout",
     "output_type": "stream",
     "text": [
      "[12, 9, 8, 7, 5, 3, 2, 1]\n"
     ]
    }
   ],
   "source": [
    "# Reverse the array\n",
    "\n",
    "def Reverse(arr):\n",
    "    i = 0\n",
    "    j = len(arr) - 1\n",
    "\n",
    "    while i < j:\n",
    "        arr[i], arr[j] = arr[j], arr[i]\n",
    "        i += 1\n",
    "        j -= 1\n",
    "    return arr\n",
    "\n",
    "\n",
    "arr = [1, 2, 3, 5, 7, 8, 9, 12]\n",
    "result = Reverse(arr)\n",
    "print(result)"
   ]
  },
  {
   "cell_type": "code",
   "execution_count": 4,
   "metadata": {},
   "outputs": [
    {
     "name": "stdout",
     "output_type": "stream",
     "text": [
      "[12, 9, 8, 7, 5, 3, 2, 1]\n"
     ]
    }
   ],
   "source": [
    "# Reverse the array using recusion\n",
    "\n",
    "def ReverseRec(arr, StartIndex, EndIndex):\n",
    "    if EndIndex <= StartIndex:\n",
    "        return\n",
    "    \n",
    "    arr[StartIndex], arr[EndIndex] = arr[EndIndex], arr[StartIndex]\n",
    "\n",
    "    ReverseRec(arr, StartIndex + 1, EndIndex - 1)\n",
    "    \n",
    "\n",
    "arr = [1, 2, 3, 5, 7, 8, 9, 12]\n",
    "ReverseRec(arr, 0, len(arr) - 1)\n",
    "print(arr)"
   ]
  },
  {
   "cell_type": "code",
   "execution_count": 5,
   "metadata": {},
   "outputs": [
    {
     "name": "stdout",
     "output_type": "stream",
     "text": [
      "False\n",
      "True\n"
     ]
    }
   ],
   "source": [
    "# Array is palindrome or not\n",
    "\n",
    "def palindrome(arr):\n",
    "    StartIndex = 0\n",
    "    EndIndex = len(arr) - 1\n",
    "\n",
    "    while StartIndex < EndIndex:\n",
    "        if arr[StartIndex] != arr[EndIndex]:\n",
    "            return False\n",
    "\n",
    "        StartIndex += 1\n",
    "        EndIndex -= 1\n",
    "    return True\n",
    "\n",
    "arr = [1, 2, 3, 5]\n",
    "arr2 = [1, 2, 3, 3, 2, 1]\n",
    "print(palindrome(arr))\n",
    "print(palindrome(arr2))"
   ]
  },
  {
   "cell_type": "code",
   "execution_count": 6,
   "metadata": {},
   "outputs": [
    {
     "name": "stdout",
     "output_type": "stream",
     "text": [
      "False\n",
      "True\n"
     ]
    }
   ],
   "source": [
    "# Array is palindrome or not using recursion\n",
    "\n",
    "def PalindromeRec(arr, StartIndex, EndIndex):\n",
    "    if StartIndex >= EndIndex:\n",
    "        return True\n",
    "    \n",
    "    if arr[StartIndex] == arr[EndIndex]:\n",
    "        return PalindromeRec(arr, StartIndex + 1, EndIndex - 1)\n",
    "    else:\n",
    "        return False\n",
    "\n",
    "\n",
    "arr = [1, 2, 3, 5]\n",
    "arr2 = [1, 2, 3, 2, 1]\n",
    "print(PalindromeRec(arr, 0, len(arr) - 1))\n",
    "print(PalindromeRec(arr2, 0, len(arr2) - 1))"
   ]
  },
  {
   "cell_type": "code",
   "execution_count": 7,
   "metadata": {},
   "outputs": [
    {
     "name": "stdout",
     "output_type": "stream",
     "text": [
      "[4, 5, 6, 1, 2, 3]\n"
     ]
    }
   ],
   "source": [
    "# Rotate an array k times\n",
    "def Rotate(arr, k):\n",
    "    k = k % len(arr)\n",
    "    \n",
    "    for _ in range(k):\n",
    "        temp = arr[-1]\n",
    "        for i in range(len(arr) - 1, 0, -1):\n",
    "            arr[i] = arr[i - 1]\n",
    "        arr[0] = temp\n",
    "    return arr\n",
    "        \n",
    "\n",
    "arr = [1, 2, 3, 4, 5, 6]\n",
    "k = 3\n",
    "print(Rotate(arr, k))"
   ]
  },
  {
   "cell_type": "code",
   "execution_count": 8,
   "metadata": {},
   "outputs": [
    {
     "name": "stdout",
     "output_type": "stream",
     "text": [
      "[4, 5, 6, 1, 2, 3]\n"
     ]
    }
   ],
   "source": [
    "# Rotate an array k times using recursion\n",
    "def RotateRec(arr, k):\n",
    "    k = k % len(arr)\n",
    "    \n",
    "    if k == 0:\n",
    "        return arr\n",
    "    \n",
    "    temp = arr[-1]\n",
    "    for i in range(len(arr) - 1, 0, -1):\n",
    "        arr[i] = arr[i - 1]\n",
    "    arr[0] = temp\n",
    "\n",
    "    return RotateRec(arr, k - 1)\n",
    "        \n",
    "\n",
    "arr = [1, 2, 3, 4, 5, 6]\n",
    "k = 3\n",
    "print(RotateRec(arr, k))"
   ]
  },
  {
   "cell_type": "code",
   "execution_count": 9,
   "metadata": {},
   "outputs": [
    {
     "name": "stdout",
     "output_type": "stream",
     "text": [
      "[4, 5, 6, 1, 2, 3]\n"
     ]
    }
   ],
   "source": [
    "# Rotate an array k times using recursion more optimize way\n",
    "\n",
    "def ReverseRec(arr, StartIndex, EndIndex):\n",
    "    if EndIndex <= StartIndex:\n",
    "        return\n",
    "    \n",
    "    arr[StartIndex], arr[EndIndex] = arr[EndIndex], arr[StartIndex]\n",
    "\n",
    "    ReverseRec(arr, StartIndex + 1, EndIndex - 1)\n",
    "\n",
    "\n",
    "def RotateRec(arr, k):\n",
    "    k = k % len(arr)\n",
    "\n",
    "    ReverseRec(arr, 0, len(arr) - 1)\n",
    "\n",
    "    ReverseRec(arr, 0, k - 1)\n",
    "\n",
    "    ReverseRec(arr, k, len(arr) - 1)\n",
    "        \n",
    "\n",
    "arr = [1, 2, 3, 4, 5, 6]\n",
    "k = 3\n",
    "RotateRec(arr, k)\n",
    "print(arr)"
   ]
  },
  {
   "cell_type": "code",
   "execution_count": null,
   "metadata": {},
   "outputs": [],
   "source": []
  }
 ],
 "metadata": {
  "kernelspec": {
   "display_name": "base",
   "language": "python",
   "name": "python3"
  },
  "language_info": {
   "codemirror_mode": {
    "name": "ipython",
    "version": 3
   },
   "file_extension": ".py",
   "mimetype": "text/x-python",
   "name": "python",
   "nbconvert_exporter": "python",
   "pygments_lexer": "ipython3",
   "version": "3.9.16"
  }
 },
 "nbformat": 4,
 "nbformat_minor": 2
}
