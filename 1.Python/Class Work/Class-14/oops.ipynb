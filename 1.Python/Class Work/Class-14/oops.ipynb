{
 "cells": [
  {
   "cell_type": "code",
   "execution_count": 2,
   "metadata": {},
   "outputs": [],
   "source": [
    "class pwskills:\n",
    "    def __init__(self, mentor):\n",
    "        self.mentor = mentor\n",
    "    \n",
    "    def mentor_name(self):\n",
    "        print(self.mentor)\n",
    "\n",
    "class datascience(pwskills):\n",
    "    def __init__(self, mentor, mentor_mail_id):\n",
    "        self.mentor = mentor\n",
    "        self.mentor_mail_id = mentor_mail_id\n",
    "    \n",
    "    def show_info(self):\n",
    "        print(self.mentor, self.mentor_mail_id)"
   ]
  },
  {
   "cell_type": "code",
   "execution_count": 3,
   "metadata": {},
   "outputs": [],
   "source": [
    "python_basic = datascience(\"sudh\", \"sdfdsf@gmail.com\")"
   ]
  },
  {
   "cell_type": "code",
   "execution_count": 4,
   "metadata": {},
   "outputs": [
    {
     "name": "stdout",
     "output_type": "stream",
     "text": [
      "sudh sdfdsf@gmail.com\n"
     ]
    }
   ],
   "source": [
    "python_basic.show_info()"
   ]
  },
  {
   "cell_type": "code",
   "execution_count": 5,
   "metadata": {},
   "outputs": [
    {
     "name": "stdout",
     "output_type": "stream",
     "text": [
      "sudh\n"
     ]
    }
   ],
   "source": [
    "python_basic.mentor_name()"
   ]
  },
  {
   "cell_type": "code",
   "execution_count": 6,
   "metadata": {},
   "outputs": [],
   "source": [
    "class pwskills:\n",
    "    def __init__(self, mentor):\n",
    "        self.mentor = mentor\n",
    "    \n",
    "    def mentor_name(self):\n",
    "        print(self.mentor)\n",
    "\n",
    "class datascience(pwskills):\n",
    "    def __init__(self, mentor, mentor_mail_id):\n",
    "        # self.mentor = mentor\n",
    "        super().__init__(mentor)\n",
    "        self.mentor_mail_id = mentor_mail_id\n",
    "    \n",
    "    def show_info(self):\n",
    "        print(self.mentor, self.mentor_mail_id)\n",
    "        super().mentor_name()"
   ]
  },
  {
   "cell_type": "code",
   "execution_count": 7,
   "metadata": {},
   "outputs": [],
   "source": [
    "python_basic = datascience(\"sudh\", \"sdfdsf@gmail.com\")"
   ]
  },
  {
   "cell_type": "code",
   "execution_count": 8,
   "metadata": {},
   "outputs": [
    {
     "name": "stdout",
     "output_type": "stream",
     "text": [
      "sudh sdfdsf@gmail.com\n",
      "sudh\n"
     ]
    }
   ],
   "source": [
    "python_basic.show_info()"
   ]
  },
  {
   "cell_type": "code",
   "execution_count": 9,
   "metadata": {},
   "outputs": [
    {
     "name": "stdout",
     "output_type": "stream",
     "text": [
      "sudh\n"
     ]
    }
   ],
   "source": [
    "python_basic.mentor_name()"
   ]
  },
  {
   "cell_type": "code",
   "execution_count": 14,
   "metadata": {},
   "outputs": [],
   "source": [
    "class human:\n",
    "    def __init__(self):\n",
    "        pass\n",
    "\n",
    "    def eat(self):\n",
    "        print(\"print the eat method from human\")\n",
    "    "
   ]
  },
  {
   "cell_type": "code",
   "execution_count": 18,
   "metadata": {},
   "outputs": [],
   "source": [
    "class male(human):\n",
    "    def __init__(self, name):\n",
    "        self.name = name\n",
    "    \n",
    "    def eat(self):\n",
    "        super().eat()\n",
    "        print(self.name)"
   ]
  },
  {
   "cell_type": "code",
   "execution_count": 19,
   "metadata": {},
   "outputs": [],
   "source": [
    "raj = male(\"Rajdip\")"
   ]
  },
  {
   "cell_type": "code",
   "execution_count": 20,
   "metadata": {},
   "outputs": [
    {
     "name": "stdout",
     "output_type": "stream",
     "text": [
      "print the eat method from human\n",
      "Rajdip\n"
     ]
    }
   ],
   "source": [
    "raj.eat()"
   ]
  },
  {
   "cell_type": "code",
   "execution_count": 25,
   "metadata": {},
   "outputs": [],
   "source": [
    "class fileopener:\n",
    "    def __init__(self, filename):\n",
    "        self.filename = filename\n",
    "    \n",
    "    def open_file(self):\n",
    "        print(\"this will open the file\", self.filename)\n",
    "\n",
    "    def __del__(self):\n",
    "        self.filename"
   ]
  },
  {
   "cell_type": "code",
   "execution_count": 26,
   "metadata": {},
   "outputs": [
    {
     "name": "stdout",
     "output_type": "stream",
     "text": [
      "close my file\n"
     ]
    }
   ],
   "source": [
    "f1 = fileopener(\"f1.txt\")"
   ]
  },
  {
   "cell_type": "code",
   "execution_count": 27,
   "metadata": {},
   "outputs": [
    {
     "name": "stdout",
     "output_type": "stream",
     "text": [
      "this will open the file f1.txt\n"
     ]
    }
   ],
   "source": [
    "f1.open_file()"
   ]
  },
  {
   "cell_type": "code",
   "execution_count": 47,
   "metadata": {},
   "outputs": [],
   "source": [
    "import time\n",
    "class timer:\n",
    "    def __init__(self):\n",
    "        self.start_time = time.time()\n",
    "\n",
    "    def task(self):\n",
    "        time_spent = time.time() - self.start_time\n",
    "        print(time_spent)\n",
    "\n",
    "    def __del__(self):\n",
    "        print(\"\")\n",
    "\n",
    "    def __str__(self):\n",
    "        return \"this is my class timer\""
   ]
  },
  {
   "cell_type": "code",
   "execution_count": 48,
   "metadata": {},
   "outputs": [
    {
     "name": "stdout",
     "output_type": "stream",
     "text": [
      "\n"
     ]
    }
   ],
   "source": [
    "t1 = timer()"
   ]
  },
  {
   "cell_type": "code",
   "execution_count": 49,
   "metadata": {},
   "outputs": [
    {
     "name": "stdout",
     "output_type": "stream",
     "text": [
      "0.3630387783050537\n"
     ]
    }
   ],
   "source": [
    "t1.task()"
   ]
  },
  {
   "cell_type": "code",
   "execution_count": 50,
   "metadata": {},
   "outputs": [
    {
     "name": "stdout",
     "output_type": "stream",
     "text": [
      "this is my class timer\n"
     ]
    }
   ],
   "source": [
    "print(t1)"
   ]
  },
  {
   "cell_type": "code",
   "execution_count": 1,
   "metadata": {},
   "outputs": [],
   "source": [
    "def test(func):\n",
    "    def inner_test():\n",
    "        print(\"this is the start of my inner test\")\n",
    "        func()\n",
    "        print(\"this the end of my inner test\")\n",
    "    return inner_test\n",
    "\n",
    "@test\n",
    "def test1():\n",
    "    print(\"this is my test1\")"
   ]
  },
  {
   "cell_type": "code",
   "execution_count": 2,
   "metadata": {},
   "outputs": [
    {
     "name": "stdout",
     "output_type": "stream",
     "text": [
      "this is the start of my inner test\n",
      "this is my test1\n",
      "this the end of my inner test\n"
     ]
    }
   ],
   "source": [
    "test1()"
   ]
  },
  {
   "cell_type": "code",
   "execution_count": 3,
   "metadata": {},
   "outputs": [
    {
     "data": {
      "text/plain": [
       "<function __main__.test.<locals>.inner_test()>"
      ]
     },
     "execution_count": 3,
     "metadata": {},
     "output_type": "execute_result"
    }
   ],
   "source": [
    "test(test1)"
   ]
  },
  {
   "cell_type": "code",
   "execution_count": 6,
   "metadata": {},
   "outputs": [],
   "source": [
    "import time\n",
    "def print_list(l):\n",
    "    start_time = time.time()\n",
    "    for i in l:\n",
    "        print(i)\n",
    "    end_time = time.time()\n",
    "    total_time = end_time - start_time\n",
    "    print(total_time)"
   ]
  },
  {
   "cell_type": "code",
   "execution_count": 8,
   "metadata": {},
   "outputs": [],
   "source": [
    "def print_key(d):\n",
    "    print(d.keys())"
   ]
  },
  {
   "cell_type": "code",
   "execution_count": 12,
   "metadata": {},
   "outputs": [],
   "source": [
    "def find_time(func):\n",
    "    def cal_time(*args):\n",
    "        start_time = time.time()\n",
    "        func(*args)\n",
    "        end_time = time.time()\n",
    "        total_time = end_time - start_time\n",
    "        print(total_time)\n",
    "    return cal_time"
   ]
  },
  {
   "cell_type": "code",
   "execution_count": 13,
   "metadata": {},
   "outputs": [],
   "source": [
    "@find_time\n",
    "def print_key(d):\n",
    "    print(d.keys())"
   ]
  },
  {
   "cell_type": "code",
   "execution_count": 14,
   "metadata": {},
   "outputs": [
    {
     "name": "stdout",
     "output_type": "stream",
     "text": [
      "dict_keys(['key', 'name'])\n",
      "0.0009984970092773438\n"
     ]
    }
   ],
   "source": [
    "print_key({\"key\": \"value\", \"name\": \"rajdip\"})"
   ]
  },
  {
   "cell_type": "code",
   "execution_count": 15,
   "metadata": {},
   "outputs": [],
   "source": [
    "@find_time\n",
    "def print_list(l):\n",
    "    for i in l:\n",
    "        print(i)"
   ]
  },
  {
   "cell_type": "code",
   "execution_count": 17,
   "metadata": {},
   "outputs": [
    {
     "name": "stdout",
     "output_type": "stream",
     "text": [
      "2\n",
      "5\n",
      "8\n",
      "6\n",
      "7\n",
      "3\n",
      "7\n",
      "0.0\n"
     ]
    }
   ],
   "source": [
    "print_list([2, 5, 8, 6, 7, 3, 7])"
   ]
  },
  {
   "cell_type": "code",
   "execution_count": 18,
   "metadata": {},
   "outputs": [],
   "source": [
    "import logging as log\n",
    "def log_fun(func):\n",
    "    def log_inner(*args):\n",
    "        log.basicConfig(filename=\"test.log\", level=log.INFO)\n",
    "        log.info(\"this is the start of my function\")\n",
    "        func(*args)\n",
    "        log.info(\"this is the end of my function\")\n",
    "    return log_inner"
   ]
  },
  {
   "cell_type": "code",
   "execution_count": 23,
   "metadata": {},
   "outputs": [],
   "source": [
    "@log_fun\n",
    "@find_time\n",
    "def print_list(l):\n",
    "    for i in l:\n",
    "        print(i)"
   ]
  },
  {
   "cell_type": "code",
   "execution_count": 24,
   "metadata": {},
   "outputs": [
    {
     "name": "stdout",
     "output_type": "stream",
     "text": [
      "2\n",
      "5\n",
      "8\n",
      "6\n",
      "7\n",
      "3\n",
      "7\n",
      "0.0009987354278564453\n"
     ]
    }
   ],
   "source": [
    "print_list([2, 5, 8, 6, 7, 3, 7])"
   ]
  },
  {
   "cell_type": "code",
   "execution_count": 29,
   "metadata": {},
   "outputs": [],
   "source": [
    "class raj:\n",
    "    def __init__(self, subject):\n",
    "        self.__subject = subject"
   ]
  },
  {
   "cell_type": "code",
   "execution_count": 33,
   "metadata": {},
   "outputs": [],
   "source": [
    "s1 = raj(\"Data science\")"
   ]
  },
  {
   "cell_type": "code",
   "execution_count": 36,
   "metadata": {},
   "outputs": [],
   "source": [
    "s1._raj__subject = \"Big data\""
   ]
  },
  {
   "cell_type": "code",
   "execution_count": 37,
   "metadata": {},
   "outputs": [
    {
     "data": {
      "text/plain": [
       "'Big data'"
      ]
     },
     "execution_count": 37,
     "metadata": {},
     "output_type": "execute_result"
    }
   ],
   "source": [
    "s1._raj__subject"
   ]
  },
  {
   "cell_type": "code",
   "execution_count": 41,
   "metadata": {},
   "outputs": [],
   "source": [
    "class raj:\n",
    "    def __init__(self, subject):\n",
    "        self.__subject = subject\n",
    "    \n",
    "    @property\n",
    "    def subject1(self):\n",
    "        return self.__subject\n",
    "    \n",
    "    @subject1.setter\n",
    "    def subject1(self, subject):\n",
    "        self.__subject = subject\n",
    "\n",
    "    @subject1.getter\n",
    "    def subject1(self):\n",
    "        return self.__subject"
   ]
  },
  {
   "cell_type": "code",
   "execution_count": 42,
   "metadata": {},
   "outputs": [],
   "source": [
    "s2 = raj(\"Data analytics\")"
   ]
  },
  {
   "cell_type": "code",
   "execution_count": 44,
   "metadata": {},
   "outputs": [
    {
     "data": {
      "text/plain": [
       "'Data analytics'"
      ]
     },
     "execution_count": 44,
     "metadata": {},
     "output_type": "execute_result"
    }
   ],
   "source": [
    "s2.subject1"
   ]
  },
  {
   "cell_type": "code",
   "execution_count": 45,
   "metadata": {},
   "outputs": [],
   "source": [
    "s2.subject1 = \"Blockchain\""
   ]
  },
  {
   "cell_type": "code",
   "execution_count": 46,
   "metadata": {},
   "outputs": [
    {
     "data": {
      "text/plain": [
       "'Blockchain'"
      ]
     },
     "execution_count": 46,
     "metadata": {},
     "output_type": "execute_result"
    }
   ],
   "source": [
    "s2.subject1"
   ]
  },
  {
   "cell_type": "code",
   "execution_count": null,
   "metadata": {},
   "outputs": [],
   "source": []
  }
 ],
 "metadata": {
  "kernelspec": {
   "display_name": "base",
   "language": "python",
   "name": "python3"
  },
  "language_info": {
   "codemirror_mode": {
    "name": "ipython",
    "version": 3
   },
   "file_extension": ".py",
   "mimetype": "text/x-python",
   "name": "python",
   "nbconvert_exporter": "python",
   "pygments_lexer": "ipython3",
   "version": "3.9.16"
  }
 },
 "nbformat": 4,
 "nbformat_minor": 2
}
