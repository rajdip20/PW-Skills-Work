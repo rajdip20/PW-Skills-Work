{
 "cells": [
  {
   "cell_type": "markdown",
   "metadata": {},
   "source": [
    "### 1. What is a Python library? Why do we use Python libraries?"
   ]
  },
  {
   "cell_type": "markdown",
   "metadata": {},
   "source": [
    "- **Python library:** A python library is a collection of pre-written, reusable code modules or functions that can be imported and used in our python scripts or programs. These libraries provide a set of tools and functionalities that can save our time and effort when developing software.\n",
    "- We use python libraries because of - Code Reusability, Modularity, Performance Optimizations, Standardization, Ease of Development etc."
   ]
  },
  {
   "cell_type": "markdown",
   "metadata": {},
   "source": [
    "### 2. What is the difference between Numpy array and List?"
   ]
  },
  {
   "cell_type": "markdown",
   "metadata": {},
   "source": [
    "- Numpy arrays are homogeneous means all elements in the array must be of the same data type, but Lists are heterogeneous means we can store different data types in the list.\n",
    "- Numpy arrays are more efficient for numerical operations, especially when working with large datasets, but Lists are generally slower than Numpy arrays.\n",
    "- Numpy arrays are more memory-efficient compared to lists, especially for large datasets, but Lists may consume more memory due to their flexibility in handling different data types."
   ]
  },
  {
   "cell_type": "markdown",
   "metadata": {},
   "source": [
    "### 3. Find the shape, size and dimension of the following array?\n",
    "### [[1, 2, 3, 4]\n",
    "### [5, 6, 7, 8],\n",
    "### [9, 10, 11, 12]]"
   ]
  },
  {
   "cell_type": "code",
   "execution_count": 1,
   "metadata": {},
   "outputs": [
    {
     "name": "stdout",
     "output_type": "stream",
     "text": [
      "The array:\n",
      " [[ 1  2  3  4]\n",
      " [ 5  6  7  8]\n",
      " [ 9 10 11 12]]\n",
      "\n",
      "Shape of the array: (3, 4)\n",
      "Size of the array: 12\n",
      "Dimension of the array: 2\n"
     ]
    }
   ],
   "source": [
    "import numpy as np\n",
    "\n",
    "arr = np.array([[1, 2, 3, 4], [5, 6, 7, 8], [9, 10, 11, 12]])\n",
    "\n",
    "print(\"The array:\\n\", arr)\n",
    "print()\n",
    "print(\"Shape of the array:\", arr.shape)\n",
    "print(\"Size of the array:\", arr.size)\n",
    "print(\"Dimension of the array:\", arr.ndim)"
   ]
  },
  {
   "cell_type": "markdown",
   "metadata": {},
   "source": [
    "### 4. Write python code to access the first row of the following array?\n",
    "### [[1, 2, 3, 4]\n",
    "### [5, 6, 7, 8],\n",
    "### [9, 10, 11, 12]]"
   ]
  },
  {
   "cell_type": "code",
   "execution_count": 2,
   "metadata": {},
   "outputs": [
    {
     "name": "stdout",
     "output_type": "stream",
     "text": [
      "The array:\n",
      " [[ 1  2  3  4]\n",
      " [ 5  6  7  8]\n",
      " [ 9 10 11 12]]\n",
      "\n",
      "First row of the array:\n",
      " [1 2 3 4]\n"
     ]
    }
   ],
   "source": [
    "arr = np.array([[1, 2, 3, 4], [5, 6, 7, 8], [9, 10, 11, 12]])\n",
    "\n",
    "print(\"The array:\\n\", arr)\n",
    "print()\n",
    "print(\"First row of the array:\\n\", arr[0])"
   ]
  },
  {
   "cell_type": "markdown",
   "metadata": {},
   "source": [
    "### 5. How do you access the element at the third row and fourth column from the given numpy array?\n",
    "### [[1, 2, 3, 4]\n",
    "### [5, 6, 7, 8],\n",
    "### [9, 10, 11, 12]]"
   ]
  },
  {
   "cell_type": "code",
   "execution_count": 3,
   "metadata": {},
   "outputs": [
    {
     "name": "stdout",
     "output_type": "stream",
     "text": [
      "The array:\n",
      " [[ 1  2  3  4]\n",
      " [ 5  6  7  8]\n",
      " [ 9 10 11 12]]\n",
      "\n",
      "Element at third row and fourth column: 12\n"
     ]
    }
   ],
   "source": [
    "arr = np.array([[1, 2, 3, 4], [5, 6, 7, 8], [9, 10, 11, 12]])\n",
    "\n",
    "print(\"The array:\\n\", arr)\n",
    "print()\n",
    "print(\"Element at third row and fourth column:\", arr[2, 3])"
   ]
  },
  {
   "cell_type": "markdown",
   "metadata": {},
   "source": [
    "### 6. Write code to extract all odd-indexed elements from the given numpy array?\n",
    "### [[1, 2, 3, 4]\n",
    "### [5, 6, 7, 8],\n",
    "### [9, 10, 11, 12]]"
   ]
  },
  {
   "cell_type": "code",
   "execution_count": 4,
   "metadata": {},
   "outputs": [
    {
     "name": "stdout",
     "output_type": "stream",
     "text": [
      "The array:\n",
      " [[ 1  2  3  4]\n",
      " [ 5  6  7  8]\n",
      " [ 9 10 11 12]]\n",
      "\n",
      "Odd-indexed elements by column:\n",
      " [[ 2  4]\n",
      " [ 6  8]\n",
      " [10 12]]\n",
      "\n",
      "Odd-indexed elements by row:\n",
      " [[5 6 7 8]]\n",
      "\n",
      "Odd-indexed elements by row & column:\n",
      " [[6 8]]\n"
     ]
    }
   ],
   "source": [
    "arr = np.array([[1, 2, 3, 4], [5, 6, 7, 8], [9, 10, 11, 12]])\n",
    "\n",
    "print(\"The array:\\n\", arr)\n",
    "print()\n",
    "print(\"Odd-indexed elements by column:\\n\", arr[:, 1::2])\n",
    "print(\"\\nOdd-indexed elements by row:\\n\", arr[1::2, :])\n",
    "print(\"\\nOdd-indexed elements by row & column:\\n\", arr[1::2, 1::2])"
   ]
  },
  {
   "cell_type": "markdown",
   "metadata": {},
   "source": [
    "### 7. How can you generate a random 3x3 matrix with values between 0 and 1?"
   ]
  },
  {
   "cell_type": "code",
   "execution_count": 5,
   "metadata": {},
   "outputs": [
    {
     "name": "stdout",
     "output_type": "stream",
     "text": [
      "Random 3x3 matrix with values between 0 and 1:\n",
      "[[0.48081316 0.1834967  0.13457106]\n",
      " [0.84884561 0.08726947 0.62203352]\n",
      " [0.29542743 0.57585626 0.46918913]]\n"
     ]
    }
   ],
   "source": [
    "print(\"Random 3x3 matrix with values between 0 and 1:\")\n",
    "print(np.random.random_sample((3, 3)))"
   ]
  },
  {
   "cell_type": "markdown",
   "metadata": {},
   "source": [
    "### 8. Describe the difference between np.random.rand and np.random.randn?"
   ]
  },
  {
   "cell_type": "markdown",
   "metadata": {},
   "source": [
    "- `np.random.rand`: This function generates random numbers from a uniform distribution between 0 (inclusive) and 1 (exclusive).\n",
    "- `np.random.randn`: This function generates random numbers from a standard normal distribution (mean=0, standard deviation=1), also known as a Gaussian or normal distribution."
   ]
  },
  {
   "cell_type": "markdown",
   "metadata": {},
   "source": [
    "### 9. Write code to increase the dimension of the following array?\n",
    "### [[1, 2, 3, 4]\n",
    "### [5, 6, 7, 8],\n",
    "### [9, 10, 11, 12]]"
   ]
  },
  {
   "cell_type": "code",
   "execution_count": 6,
   "metadata": {},
   "outputs": [
    {
     "name": "stdout",
     "output_type": "stream",
     "text": [
      "The array:\n",
      " [[ 1  2  3  4]\n",
      " [ 5  6  7  8]\n",
      " [ 9 10 11 12]]\n",
      "\n",
      "Expand the dimension by row:\n",
      "[[[ 1  2  3  4]\n",
      "  [ 5  6  7  8]\n",
      "  [ 9 10 11 12]]]\n"
     ]
    }
   ],
   "source": [
    "arr = np.array([[1, 2, 3, 4], [5, 6, 7, 8], [9, 10, 11, 12]])\n",
    "\n",
    "print(\"The array:\\n\", arr)\n",
    "print()\n",
    "print(\"Expand the dimension by row:\")\n",
    "print(np.expand_dims(arr, axis=0))"
   ]
  },
  {
   "cell_type": "markdown",
   "metadata": {},
   "source": [
    "### 10. How to transpose the following array in NumPy?\n",
    "### [[1, 2, 3, 4]\n",
    "### [5, 6, 7, 8],\n",
    "### [9, 10, 11, 12]]"
   ]
  },
  {
   "cell_type": "code",
   "execution_count": 7,
   "metadata": {},
   "outputs": [
    {
     "name": "stdout",
     "output_type": "stream",
     "text": [
      "The array:\n",
      " [[ 1  2  3  4]\n",
      " [ 5  6  7  8]\n",
      " [ 9 10 11 12]]\n",
      "\n",
      "Transpose of the array:\n",
      "[[ 1  5  9]\n",
      " [ 2  6 10]\n",
      " [ 3  7 11]\n",
      " [ 4  8 12]]\n"
     ]
    }
   ],
   "source": [
    "arr = np.array([[1, 2, 3, 4], [5, 6, 7, 8], [9, 10, 11, 12]])\n",
    "\n",
    "print(\"The array:\\n\", arr)\n",
    "print()\n",
    "print(\"Transpose of the array:\")\n",
    "print(arr.T)"
   ]
  },
  {
   "cell_type": "markdown",
   "metadata": {},
   "source": [
    "### 11. Consider the following matrix:\n",
    "### Matrix A: [[1, 2, 3, 4] [5, 6, 7, 8],[9, 10, 11, 12]]\n",
    "### Matrix B: [[1, 2, 3, 4] [5, 6, 7, 8],[9, 10, 11, 12]]\n",
    "<br>\n",
    "\n",
    "### Perform the following operation using Python:\n",
    "1. Index wise multiplication\n",
    "2. Matrix multiplication\n",
    "3. Add both the matrics\n",
    "4. Subtract matrix B from A\n",
    "5. Divide Matrix B by A"
   ]
  },
  {
   "cell_type": "code",
   "execution_count": 8,
   "metadata": {},
   "outputs": [
    {
     "name": "stdout",
     "output_type": "stream",
     "text": [
      "Matrix 1:\n",
      " [[ 1  2  3  4]\n",
      " [ 5  6  7  8]\n",
      " [ 9 10 11 12]]\n",
      "\n",
      "Matrix 2:\n",
      " [[ 1  2  3  4]\n",
      " [ 5  6  7  8]\n",
      " [ 9 10 11 12]]\n",
      "\n",
      "1. Index wise multiplication\n",
      " [[  1   4   9  16]\n",
      " [ 25  36  49  64]\n",
      " [ 81 100 121 144]]\n",
      "\n",
      "2. Matrix multiplication\n",
      " [[ 30  70 110]\n",
      " [ 70 174 278]\n",
      " [110 278 446]]\n",
      "\n",
      "3. Add both the matrics\n",
      " [[ 2  4  6  8]\n",
      " [10 12 14 16]\n",
      " [18 20 22 24]]\n",
      "\n",
      "4. Subtract matrix B from A\n",
      " [[0 0 0 0]\n",
      " [0 0 0 0]\n",
      " [0 0 0 0]]\n",
      "\n",
      "5. Divide matrix B by A\n",
      " [[1. 1. 1. 1.]\n",
      " [1. 1. 1. 1.]\n",
      " [1. 1. 1. 1.]]\n"
     ]
    }
   ],
   "source": [
    "matrix1 = np.array([[1, 2, 3, 4], [5, 6, 7, 8], [9, 10, 11, 12]])\n",
    "matrix2 = np.array([[1, 2, 3, 4], [5, 6, 7, 8], [9, 10, 11, 12]])\n",
    "\n",
    "print(\"Matrix 1:\\n\", matrix1)\n",
    "print(\"\\nMatrix 2:\\n\", matrix2)\n",
    "\n",
    "print(\"\\n1. Index wise multiplication\\n\", matrix1 * matrix2)\n",
    "\n",
    "## Matrix multiplication can't be happen because matrix1 = 3x4 and matrix2 = 3x4\n",
    "# print(\"\\n2. Matrix multiplication\\n\", matrix1 @ matrix2)      # This throws ValueError\n",
    "\n",
    "## For perform matrix multiplication we have to transpose of matrix1 or matrix2\n",
    "print(\"\\n2. Matrix multiplication\\n\", matrix1 @ matrix2.T)\n",
    "\n",
    "print(\"\\n3. Add both the matrics\\n\", matrix1 + matrix2)\n",
    "print(\"\\n4. Subtract matrix B from A\\n\",matrix1 - matrix2)\n",
    "print(\"\\n5. Divide matrix B by A\\n\", matrix1 / matrix2)"
   ]
  },
  {
   "cell_type": "markdown",
   "metadata": {},
   "source": [
    "### 12. Which function in Numpy can be used to swap the byte order of an array?"
   ]
  },
  {
   "cell_type": "markdown",
   "metadata": {},
   "source": [
    "- In NumPy, we can use the `byteswap` function to swap the byte order of an array. The `byteswap` function is available for ndarray objects and allows us to change the endianness (byte order) of the data in the array."
   ]
  },
  {
   "cell_type": "markdown",
   "metadata": {},
   "source": [
    "### 13. What is the significance of the np.linalg.inv function?"
   ]
  },
  {
   "cell_type": "markdown",
   "metadata": {},
   "source": [
    "- The `np.linalg.inv` function in NumPy is used to compute the multiplicative inverse of a matrix. In other words, it calculates the inverse of a square matrix, assuming it is invertible (non-singular). The result of the `np.linalg.inv` function is a matrix that, when multiplied with the original matrix, yields the identity matrix."
   ]
  },
  {
   "cell_type": "markdown",
   "metadata": {},
   "source": [
    "### 14. What does the np.reshape function do, and how is it used?"
   ]
  },
  {
   "cell_type": "markdown",
   "metadata": {},
   "source": [
    "- The `np.reshape` function in NumPy is used to change the shape of an array without changing its data. It allows you to rearrange the elements of an array and give it a new shape.\n",
    "\n",
    "```python\n",
    "import numpy\n",
    "\n",
    "arr = [[1, 2], [3, 4], [5, 6]]\n",
    "numpy.reshape(arr, (2, 3))\n",
    "```\n",
    "\n",
    "- **Output**\n",
    "```py\n",
    "array([[1, 2, 3],\n",
    "       [4, 5, 6]])\n",
    "```"
   ]
  },
  {
   "cell_type": "markdown",
   "metadata": {},
   "source": [
    "### 15. What is broadcasting in Numpy?"
   ]
  },
  {
   "cell_type": "markdown",
   "metadata": {},
   "source": [
    "- Broadcasting is a powerful feature in NumPy that allows arrays of different shapes to be combined in arithmetic operations. It provides a set of rules for performing element-wise operations on arrays of different shapes, making it possible to operate on arrays that do not have the same dimensions."
   ]
  },
  {
   "cell_type": "code",
   "execution_count": null,
   "metadata": {},
   "outputs": [],
   "source": []
  }
 ],
 "metadata": {
  "kernelspec": {
   "display_name": "base",
   "language": "python",
   "name": "python3"
  },
  "language_info": {
   "codemirror_mode": {
    "name": "ipython",
    "version": 3
   },
   "file_extension": ".py",
   "mimetype": "text/x-python",
   "name": "python",
   "nbconvert_exporter": "python",
   "pygments_lexer": "ipython3",
   "version": "3.9.16"
  }
 },
 "nbformat": 4,
 "nbformat_minor": 2
}
