{
 "cells": [
  {
   "cell_type": "markdown",
   "metadata": {},
   "source": [
    "# For Loop :"
   ]
  },
  {
   "cell_type": "markdown",
   "metadata": {},
   "source": [
    "### 1. Write a Python program to print numbers from 1 to 10 using a for loop."
   ]
  },
  {
   "cell_type": "code",
   "execution_count": 1,
   "metadata": {},
   "outputs": [
    {
     "name": "stdout",
     "output_type": "stream",
     "text": [
      "1\n",
      "2\n",
      "3\n",
      "4\n",
      "5\n",
      "6\n",
      "7\n",
      "8\n",
      "9\n",
      "10\n"
     ]
    }
   ],
   "source": [
    "for i in range(1, 11):\n",
    "    print(i)"
   ]
  },
  {
   "cell_type": "markdown",
   "metadata": {},
   "source": [
    "- Make a iteration with the range of 1 to 11.\n",
    "- In each iteration print the number."
   ]
  },
  {
   "cell_type": "markdown",
   "metadata": {},
   "source": [
    "### 2. Explain the difference between a for loop and a while loop in Python."
   ]
  },
  {
   "cell_type": "markdown",
   "metadata": {},
   "source": [
    "- For Loop:\n",
    "    - Iterates through a sequence or iterable.\n",
    "    - Known number of iterations.\n",
    "    - Syntax:\n",
    "    ```python\n",
    "    for element in iterable:\n",
    "    ```\n",
    "\n",
    "- While Loop:\n",
    "    - Repeats a block of code while a condition is true.\n",
    "    - Condition-driven, number of iterations might vary.\n",
    "    - Syntax:\n",
    "    ```python\n",
    "    while condition:\n",
    "    ```"
   ]
  },
  {
   "cell_type": "markdown",
   "metadata": {},
   "source": [
    "### 3. Write a Python program to calculate the sum of all numbers from 1 to 100 using a for loop."
   ]
  },
  {
   "cell_type": "code",
   "execution_count": 11,
   "metadata": {},
   "outputs": [
    {
     "name": "stdout",
     "output_type": "stream",
     "text": [
      "Sum of 1 to 100:  5050\n"
     ]
    }
   ],
   "source": [
    "# Initialize a variable with 0\n",
    "digit_sum = 0\n",
    "\n",
    "# Iterate through 1 to 101 and add the number\n",
    "for i in range(1, 101):\n",
    "    digit_sum += i\n",
    "\n",
    "# Print the sum value\n",
    "print(\"Sum of 1 to 100: \", digit_sum)"
   ]
  },
  {
   "cell_type": "markdown",
   "metadata": {},
   "source": [
    "- Initialize digit_sum variable with value 0.\n",
    "- Iterate through 1 to 101 and perform sum of the numbers.\n",
    "- Finally, print the sum of the numbers."
   ]
  },
  {
   "cell_type": "markdown",
   "metadata": {},
   "source": [
    "### 4. How do you iterate through a list using a for loop in Python?"
   ]
  },
  {
   "cell_type": "markdown",
   "metadata": {},
   "source": [
    "- Use the `for` loop to go through each element in the list. Here's an example:\n",
    "```python\n",
    "my_list = [1, 2, 3, 4, 5]\n",
    "\n",
    "for element in my_list:\n",
    "    print(element)\n",
    "```\n",
    "- In this example, my_list is a list containing numbers.\n",
    "- The `for` loop goes through each element in the list and prints it."
   ]
  },
  {
   "cell_type": "markdown",
   "metadata": {},
   "source": [
    "### 5. Write a Python program to find the product of all elements in a list using a for loop."
   ]
  },
  {
   "cell_type": "code",
   "execution_count": 13,
   "metadata": {},
   "outputs": [
    {
     "name": "stdout",
     "output_type": "stream",
     "text": [
      "Multiplication of all elements in the list is: 96\n"
     ]
    }
   ],
   "source": [
    "# Make an example list\n",
    "my_list = [2, 6, 8]\n",
    "\n",
    "# Initialize a variable with 1\n",
    "multiply = 1\n",
    "\n",
    "# Iterate through every element in the list\n",
    "for i in my_list:\n",
    "    multiply *= i\n",
    "\n",
    "# Print the result\n",
    "print(\"Multiplication of all elements in the list is:\", multiply)"
   ]
  },
  {
   "cell_type": "markdown",
   "metadata": {},
   "source": [
    "- Make an example list and store it in my_list variable.\n",
    "- Initialize multiply variable with 1.\n",
    "- Iterate through every element in the list and multiply it with value in multiply variable. Store the value in multiply variable.\n",
    "- Finally, print the multiply result."
   ]
  },
  {
   "cell_type": "markdown",
   "metadata": {},
   "source": [
    "### 6. Create a Python program that prints all even numbers from 1 to 20 using a for loop."
   ]
  },
  {
   "cell_type": "code",
   "execution_count": 14,
   "metadata": {},
   "outputs": [
    {
     "name": "stdout",
     "output_type": "stream",
     "text": [
      "Even numbers 1 to 20:\n",
      "2 4 6 8 10 12 14 16 18 20 "
     ]
    }
   ],
   "source": [
    "# Iterate through 1 to 21 and print all even numbers\n",
    "print(\"Even numbers 1 to 20:\")\n",
    "for i in range(1, 21):\n",
    "    if i % 2 != 0:\n",
    "        continue\n",
    "    print(i, end=' ')"
   ]
  },
  {
   "cell_type": "markdown",
   "metadata": {},
   "source": [
    "- Iterate through a range of 1 to 21.\n",
    "- In every iteration check is the number divisible by 2 or not\n",
    "    - If no, then jump over the number without printing it using continue keyword.\n",
    "- Finally, Print the even number."
   ]
  },
  {
   "cell_type": "markdown",
   "metadata": {},
   "source": [
    "### 7. Write a Python program that calculates the factorial of a number using a for loop."
   ]
  },
  {
   "cell_type": "code",
   "execution_count": 15,
   "metadata": {},
   "outputs": [
    {
     "name": "stdout",
     "output_type": "stream",
     "text": [
      "Factorial of 5: 120\n"
     ]
    }
   ],
   "source": [
    "# Take an example number\n",
    "num = 5\n",
    "\n",
    "# Initialize a variable with 1\n",
    "fact = 1\n",
    "\n",
    "# Iterate through range of the number\n",
    "for i in range(1, num + 1):\n",
    "    fact *= i\n",
    "\n",
    "# Print the final result\n",
    "print(f\"Factorial of {num}: {fact}\")"
   ]
  },
  {
   "cell_type": "markdown",
   "metadata": {},
   "source": [
    "- Take an example number and store it in num variable.\n",
    "- Initialize fact variable with 1.\n",
    "- Iterate through the range of the number and multiply the fact value with the iteration number. Then store it in fact variable.\n",
    "- Finally, print the fact value as a result."
   ]
  },
  {
   "cell_type": "markdown",
   "metadata": {},
   "source": [
    "### 8. How can you iterate through the characters of a string using a for loop in Python?"
   ]
  },
  {
   "cell_type": "markdown",
   "metadata": {},
   "source": [
    "- Use the `for` loop to go through each character in the string. Here's an example:\n",
    "```python\n",
    "my_string = \"My name is Rajdip Das\"\n",
    "\n",
    "for char in my_string:\n",
    "    print(char)\n",
    "```\n",
    "- In this example, my_string is a string.\n",
    "- The `for` loop goes through each character in the string and prints it."
   ]
  },
  {
   "cell_type": "markdown",
   "metadata": {},
   "source": [
    "### 9. Write a Python program to find the largest number in a list using a for loop."
   ]
  },
  {
   "cell_type": "code",
   "execution_count": 16,
   "metadata": {},
   "outputs": [
    {
     "name": "stdout",
     "output_type": "stream",
     "text": [
      "Largest number in the list is: 36\n"
     ]
    }
   ],
   "source": [
    "# Make an example list\n",
    "my_list = [12, 25, 36, 11, 15]\n",
    "\n",
    "# Initialize a value with low number\n",
    "max_value = -float('Inf')\n",
    "\n",
    "# Iterate through every element in the list and check the large number\n",
    "for ele in my_list:\n",
    "    if ele > max_value:\n",
    "        max_value = ele\n",
    "\n",
    "# Print the largest number\n",
    "print(f\"Largest number in the list is: {max_value}\")"
   ]
  },
  {
   "cell_type": "markdown",
   "metadata": {},
   "source": [
    "- Make an example list and store the list in my_list variable.\n",
    "- Initialize max_value with a very low number.\n",
    "- Iterate through every element in the list.\n",
    "- In every iteration check the list value with the value in max_value variable.\n",
    "- If the list value greater than max_value then value in max_value updated with the new value (value in ele).\n",
    "- Finally, print the max_value as the largest number."
   ]
  },
  {
   "cell_type": "markdown",
   "metadata": {},
   "source": [
    "### 10. Create a Python program that prints the Fibonacci sequence up to a specified limit using a for loop."
   ]
  },
  {
   "cell_type": "code",
   "execution_count": 18,
   "metadata": {},
   "outputs": [
    {
     "name": "stdout",
     "output_type": "stream",
     "text": [
      "Fibonacci sequence up to 20 :\n",
      "0\n",
      "1\n",
      "1\n",
      "2\n",
      "3\n",
      "5\n",
      "8\n",
      "13\n"
     ]
    }
   ],
   "source": [
    "# Take an example limit\n",
    "limit = 20\n",
    "\n",
    "# Initialize the first two numbers in the sequence\n",
    "a, b = 0, 1\n",
    "\n",
    "# Print the first value in the sequence\n",
    "print(\"Fibonacci sequence up to\", limit, \":\")\n",
    "print(a)\n",
    "\n",
    "# Iterate through the range of limit-1\n",
    "for i in range(limit - 1):\n",
    "    print(b)\n",
    "    a, b = b, a + b\n",
    "    if b > limit:\n",
    "        break "
   ]
  },
  {
   "cell_type": "markdown",
   "metadata": {},
   "source": [
    "- Take an example limit and store it in limit variable.\n",
    "- Initialize the first two numbers in the sequence and store them in 'a' and 'b' variable.\n",
    "- Then, print the first value in the sequence.\n",
    "- Finally, iterate through the range of limit-1 and print 'b's value means the fibonacci sequence."
   ]
  },
  {
   "cell_type": "markdown",
   "metadata": {},
   "source": [
    "### 11. Write a Python program to count the number of vowels in a given string using a for loop."
   ]
  },
  {
   "cell_type": "code",
   "execution_count": 19,
   "metadata": {},
   "outputs": [
    {
     "name": "stdout",
     "output_type": "stream",
     "text": [
      "Total number of vowels in the string is: 6\n"
     ]
    }
   ],
   "source": [
    "# Make an example string\n",
    "string = \"My name is Rajdip Das\"\n",
    "\n",
    "# Initialize a variable with 0\n",
    "vowel_count = 0\n",
    "\n",
    "# Iterate through every character in the string\n",
    "for char in string:\n",
    "    if char.lower() in 'aeiou':\n",
    "        vowel_count += 1\n",
    "\n",
    "# Print the result\n",
    "print(\"Total number of vowels in the string is:\", vowel_count)"
   ]
  },
  {
   "cell_type": "markdown",
   "metadata": {},
   "source": [
    "- Make an example string and store it in string variable.\n",
    "- Initialize vowel_count variable with 0.\n",
    "- Iterate through every character in the string.\n",
    "- In every iteration make the character lower case and check if it is in 'aeiou' or not.\n",
    "- If yes, then increase the vowel_count's value by 1.\n",
    "- Finally, print the total number of vowels."
   ]
  },
  {
   "cell_type": "markdown",
   "metadata": {},
   "source": [
    "### 12. Create a Python program that generates a multiplication table for a given number using a for loop."
   ]
  },
  {
   "cell_type": "code",
   "execution_count": 20,
   "metadata": {},
   "outputs": [
    {
     "name": "stdout",
     "output_type": "stream",
     "text": [
      "9 X 1 = 9\n",
      "9 X 2 = 18\n",
      "9 X 3 = 27\n",
      "9 X 4 = 36\n",
      "9 X 5 = 45\n",
      "9 X 6 = 54\n",
      "9 X 7 = 63\n",
      "9 X 8 = 72\n",
      "9 X 9 = 81\n",
      "9 X 10 = 90\n"
     ]
    }
   ],
   "source": [
    "# Take an example number\n",
    "num = 9\n",
    "\n",
    "# Iterate through a range of 1 to 11 and print the multiplication table\n",
    "for i in range(1, 11):\n",
    "    print(f\"{num} X {i} = {num * i}\")"
   ]
  },
  {
   "cell_type": "markdown",
   "metadata": {},
   "source": [
    "- Take an example number and store it in num variable.\n",
    "- Iterate through a range of 1 to 11.\n",
    "- In every iteration multiply the num value with iteration value and print it."
   ]
  },
  {
   "cell_type": "markdown",
   "metadata": {},
   "source": [
    "### 13. Write a Python program to reverse a list using a for loop."
   ]
  },
  {
   "cell_type": "code",
   "execution_count": 22,
   "metadata": {},
   "outputs": [
    {
     "name": "stdout",
     "output_type": "stream",
     "text": [
      "The reverse list: [7, 4, 9, 6, 3, 1]\n"
     ]
    }
   ],
   "source": [
    "# Make an example list\n",
    "my_list = [1, 3, 6, 9, 4, 7]\n",
    "\n",
    "# Initialize a variable with empty list\n",
    "rev_list = []\n",
    "\n",
    "# Iterate through every element in the list in reverse order\n",
    "for i in range(-1, -(len(my_list) + 1), -1):\n",
    "    rev_list.append(my_list[i])\n",
    "\n",
    "# Print the reverse list\n",
    "print(\"The reverse list:\", rev_list)"
   ]
  },
  {
   "cell_type": "markdown",
   "metadata": {},
   "source": [
    "- Make an example list and store the list in my_list variable.\n",
    "- Initialize rev_list variable with empty list.\n",
    "- Iterate through every element in the list in reverse order.\n",
    "- In every iteration the element in particular position append in the rev_list variable using .append() method.\n",
    "- Finally, print the reverse list."
   ]
  },
  {
   "cell_type": "markdown",
   "metadata": {},
   "source": [
    "### 14. Write a Python program to find the common elements between two lists using a for loop."
   ]
  },
  {
   "cell_type": "code",
   "execution_count": 23,
   "metadata": {},
   "outputs": [
    {
     "name": "stdout",
     "output_type": "stream",
     "text": [
      "Common elements: [2, 3, 4]\n"
     ]
    }
   ],
   "source": [
    "# Make two example list\n",
    "list1 = [1, 2, 3, 4, 1, 2, 3]\n",
    "list2 = [2, 4, 6, 8, 3]\n",
    "\n",
    "# Initialize a variable with empty list\n",
    "my_list = []\n",
    "\n",
    "# Iterate through every elements in the two lists and check common elements\n",
    "for ele1 in list1:\n",
    "    for ele2 in list2:\n",
    "        if ele1 == ele2:\n",
    "            if ele1 not in my_list:\n",
    "                my_list.append(ele1)\n",
    "\n",
    "# Print the list with common elements\n",
    "print(\"Common elements:\", my_list)"
   ]
  },
  {
   "cell_type": "markdown",
   "metadata": {},
   "source": [
    "- Make two example list and store them list1 and list2 variable.\n",
    "- Initialize my_list variable with empty list.\n",
    "- Iterate through every element in the list1.\n",
    "- Iterate through every element in the list2.\n",
    "- Then check if the element in list1 and list2 are same or not.\n",
    "- If the elements are same, then check if the element in list1 already appended in my_list or not.\n",
    "- If the element not appended in my_list then append it using .append() method.\n",
    "- Finally, print my_list which contains the common elements."
   ]
  },
  {
   "cell_type": "markdown",
   "metadata": {},
   "source": [
    "### 15. Explain how to use a for loop to iterate through the keys and values of a dictionary in Python."
   ]
  },
  {
   "cell_type": "markdown",
   "metadata": {},
   "source": [
    "- We can use a `for` loop to iterate through the keys and values of a dictionary using the `items()` method. Here's how we can do it:\n",
    "```python\n",
    "my_dict = {'a': 1, 'b': 2, 'c': 3}\n",
    "\n",
    "for key, value in my_dict.items():\n",
    "    print(f\"Key: {key}, Value: {value}\")\n",
    "```\n",
    "- The `items()` method returns a view object that provides a way to iterate through the dictionary's key-value pairs.\n",
    "- In the `for` loop, `key, value` are used as placeholder variables to capture each key-value pair from the dictionary.\n",
    "- Inside the loop, we can perform actions using both the keys and corresponding values from the dictionary."
   ]
  },
  {
   "cell_type": "markdown",
   "metadata": {},
   "source": [
    "### 16. Write a Python program to find the GCD (Greatest Common Divisor) of two numbers using a for loop."
   ]
  },
  {
   "cell_type": "code",
   "execution_count": 25,
   "metadata": {},
   "outputs": [
    {
     "name": "stdout",
     "output_type": "stream",
     "text": [
      "GCD of 18 and 42 = 6\n"
     ]
    }
   ],
   "source": [
    "# Take two example number\n",
    "num1 = 18\n",
    "num2 = 42\n",
    "\n",
    "# Initialize a variable with 0\n",
    "GCD = 0\n",
    "\n",
    "# Iterate through a range of 1 to max value between num1 and num2\n",
    "for i in range(1, max(num1, num2)):\n",
    "    if num1 % i == 0 and num2 % i == 0:\n",
    "        GCD = i\n",
    "\n",
    "# Print the answer\n",
    "print(f\"GCD of {num1} and {num2} = {GCD}\")"
   ]
  },
  {
   "cell_type": "markdown",
   "metadata": {},
   "source": [
    "- Take two example number and store them in num1 and num2 variable.\n",
    "- Initialize GCD variable with 0.\n",
    "- Iterate through a range of 1 to max value between num1 and num2.\n",
    "- Check if num1 and num2 modulo divide by i equals to 0 or not.\n",
    "- If the condition satisfied then update GCD value with i'th value.\n",
    "- Finally, print the answer."
   ]
  },
  {
   "cell_type": "markdown",
   "metadata": {},
   "source": [
    "### 17. Create a Python program that checks if a string is a palindrome using a for loop."
   ]
  },
  {
   "cell_type": "code",
   "execution_count": 33,
   "metadata": {},
   "outputs": [
    {
     "name": "stdout",
     "output_type": "stream",
     "text": [
      "The string is palindrome.\n"
     ]
    }
   ],
   "source": [
    "# Take an example striong\n",
    "string = \"malayalam\"\n",
    "\n",
    "# Initialize a variable with empty string\n",
    "rev_string = \"\"\n",
    "\n",
    "# Make the string reverse\n",
    "for i in range(-1, -(len(string) + 1), -1):\n",
    "    rev_string += string[i]\n",
    "\n",
    "# Check if the string and rev_string equal or not and print the result\n",
    "if string == rev_string:\n",
    "    print(\"The string is palindrome.\")\n",
    "else:\n",
    "    print(\"The string is not palindrome.\")"
   ]
  },
  {
   "cell_type": "markdown",
   "metadata": {},
   "source": [
    "- Take an example string and store it in string variable.\n",
    "- Initialize rev_string variable with empty string.\n",
    "- Make the string reverse using `for` loop and store the string in rev_string variable.\n",
    "- Then check is the string and rev_string equal or not.\n",
    "- If the two strings are same then print the string is palindrome. else, print the string is not palindrome."
   ]
  },
  {
   "cell_type": "markdown",
   "metadata": {},
   "source": [
    "### 18. Write a Python program to remove duplicates from a list using a for loop."
   ]
  },
  {
   "cell_type": "code",
   "execution_count": 39,
   "metadata": {},
   "outputs": [
    {
     "name": "stdout",
     "output_type": "stream",
     "text": [
      "List after remove duplicate values: [1, 2, 3, 5, 8, 9]\n"
     ]
    }
   ],
   "source": [
    "# Make an example list\n",
    "my_list = [1, 2, 3, 5, 8, 2, 3, 8, 9]\n",
    "\n",
    "# Initialize an empty list\n",
    "unique_list = []\n",
    "\n",
    "# Iterate through every element in the list\n",
    "for ele in my_list:\n",
    "    if ele not in unique_list:\n",
    "        unique_list.append(ele)\n",
    "\n",
    "# Print the list\n",
    "print(\"List after remove duplicate values:\", unique_list)"
   ]
  },
  {
   "cell_type": "markdown",
   "metadata": {},
   "source": [
    "- Make an example list and store it in my_list variable.\n",
    "- Initialize unique_list variable with empty list.\n",
    "- Iterate through every element in the list.\n",
    "- Check if the element already in the unique_list or not.\n",
    "- If the element is not in the unique_list then append the element in unique_list using .append() method.\n",
    "- Finally, print the unique list."
   ]
  },
  {
   "cell_type": "markdown",
   "metadata": {},
   "source": [
    "### 19. Create a Python program that counts the number of words in a sentence using a for loop."
   ]
  },
  {
   "cell_type": "code",
   "execution_count": 40,
   "metadata": {},
   "outputs": [
    {
     "name": "stdout",
     "output_type": "stream",
     "text": [
      "Total numer of words in the string: 4\n"
     ]
    }
   ],
   "source": [
    "# Make an example string\n",
    "string = \"My name is Raj\"\n",
    "\n",
    "# Initialize a variable with 0\n",
    "count = 0\n",
    "\n",
    "# Iterate through every character in the string\n",
    "for char in string:\n",
    "    if char == \" \":\n",
    "        count += 1\n",
    "\n",
    "# Increase count value by 1 for the last word\n",
    "count += 1\n",
    "\n",
    "# Print the result\n",
    "print(\"Total numer of words in the string:\", count)"
   ]
  },
  {
   "cell_type": "markdown",
   "metadata": {},
   "source": [
    "- Make an example string and store it in string variable.\n",
    "- Initialize count variable with 0.\n",
    "- Iterate through every character in the string.\n",
    "- Check is the character is a \" \" (space) or not. If yes then increase count value by 1.\n",
    "- Then increase count value by 1, once again for the last word.\n",
    "- Finally, print the total number of words in the string."
   ]
  },
  {
   "cell_type": "markdown",
   "metadata": {},
   "source": [
    "### 20. Write a Python program to find the sum of all odd numbers from 1 to 50 using a for loop."
   ]
  },
  {
   "cell_type": "code",
   "execution_count": 41,
   "metadata": {},
   "outputs": [
    {
     "name": "stdout",
     "output_type": "stream",
     "text": [
      "Sum of all odd numbers between 1 to 50: 625\n"
     ]
    }
   ],
   "source": [
    "# Initialize a variable with 0\n",
    "digit_sum = 0\n",
    "\n",
    "# Iterate through 1 to 51 and find odd numbers\n",
    "for i in range(1, 51):\n",
    "    if i % 2 != 0:\n",
    "        digit_sum += i\n",
    "\n",
    "# Print the sum result\n",
    "print(\"Sum of all odd numbers between 1 to 50:\", digit_sum)"
   ]
  },
  {
   "cell_type": "markdown",
   "metadata": {},
   "source": [
    "- Initialize digit_sum variable with 0.\n",
    "- Iterate through a range of 1 to 51.\n",
    "- Check if the number even or odd.\n",
    "- if the number odd, then sum it with digit_sum and store it in digit_sum variable.\n",
    "- Finally, print the sum result."
   ]
  },
  {
   "cell_type": "markdown",
   "metadata": {},
   "source": [
    "### 21. Write a Python program that checks if a given year is a leap year using a for loop."
   ]
  },
  {
   "cell_type": "code",
   "execution_count": 42,
   "metadata": {},
   "outputs": [
    {
     "name": "stdout",
     "output_type": "stream",
     "text": [
      "2000 is a leap year.\n"
     ]
    }
   ],
   "source": [
    "# Take an example year\n",
    "year = 2000\n",
    "\n",
    "# Initialize a variable with False\n",
    "leap_year = False\n",
    "\n",
    "# Iterate through a range of 4 to year+1 with step value 4\n",
    "for i in range(4, year + 1, 4):\n",
    "    if i % 100 != 0 or (i % 100 == 0 and i % 400 == 0):\n",
    "        if i == year:\n",
    "            leap_year = True\n",
    "\n",
    "# Check the status and print the result\n",
    "if leap_year:\n",
    "    print(f\"{year} is a leap year.\")\n",
    "else:\n",
    "    print(f\"{year} is not a leap year.\")"
   ]
  },
  {
   "cell_type": "markdown",
   "metadata": {},
   "source": [
    "- Take an example year and store it in year variable.\n",
    "- Initialize leap_year variable with boolean value False.\n",
    "- Iterate through a range of 4 to year+1 with step value 4.\n",
    "- In every iteration, check is the year leap year or not.\n",
    "- If the year leap year then update leap_year value with True.\n",
    "- Then, check if leap_year True then print the year is a leap year. else, print the year is not a leap year."
   ]
  },
  {
   "cell_type": "markdown",
   "metadata": {},
   "source": [
    "### 22. Create a Python program that calculates the square root of a number using a for loop."
   ]
  },
  {
   "cell_type": "code",
   "execution_count": 48,
   "metadata": {},
   "outputs": [
    {
     "name": "stdout",
     "output_type": "stream",
     "text": [
      "The square root of 24 is: 4.898979485566356\n"
     ]
    }
   ],
   "source": [
    "# Take an example number\n",
    "num = 24\n",
    "\n",
    "# Calculate the initial guess for the square root of the number\n",
    "guess = num / 2.0\n",
    "\n",
    "# Make the square root number more accurate\n",
    "for _ in range(10):\n",
    "    guess = (guess + num / guess) / 2.0\n",
    "\n",
    "# Print the answer\n",
    "print(f\"The square root of {num} is:\", guess)"
   ]
  },
  {
   "cell_type": "markdown",
   "metadata": {},
   "source": [
    "- Take an example number and store it in num variable.\n",
    "- Calculate the initial guess for the square root of the number and store the value in guess variable.\n",
    "- Make the square root number more accurate using a `for` loop.\n",
    "- Finally print the answer."
   ]
  },
  {
   "cell_type": "markdown",
   "metadata": {},
   "source": [
    "### 23. Write a Python program to find the LCM (Least Common Multiple) of two numbers using a for loop."
   ]
  },
  {
   "cell_type": "code",
   "execution_count": 49,
   "metadata": {},
   "outputs": [
    {
     "name": "stdout",
     "output_type": "stream",
     "text": [
      "The LCM of 12 and 28 is: 84\n"
     ]
    }
   ],
   "source": [
    "# Take two example number as input\n",
    "num1 = 12\n",
    "num2 = 28\n",
    "\n",
    "# Find the maximum of the two numbers\n",
    "maximum = max(num1, num2)\n",
    "\n",
    "# Initialize a variable with 0\n",
    "LCM = 0\n",
    "\n",
    "# Iterate multiples of the larger number until finding the LCM\n",
    "for i in range(maximum, (num1 * num2) + 1, maximum):\n",
    "    if i % num1 == 0 and i % num2 == 0:\n",
    "        LCM = i\n",
    "        break\n",
    "\n",
    "print(f\"The LCM of {num1} and {num2} is:\", LCM)"
   ]
  },
  {
   "cell_type": "markdown",
   "metadata": {},
   "source": [
    "- Take two example number as input and store them in num1 and num2 variable.\n",
    "- Find the maximum of the two numbers using max() function. Store the result in maximum variable.\n",
    "- Initialize LCM variable with 0.\n",
    "- Iterate multiples of the larger number until finding the LCM.\n",
    "- After finding LCM, print the LCM value."
   ]
  },
  {
   "cell_type": "markdown",
   "metadata": {},
   "source": [
    "# If else :"
   ]
  },
  {
   "cell_type": "markdown",
   "metadata": {},
   "source": [
    "### 1. Write a Python program to check if a number is positive, negative, or zero using an if-else statement."
   ]
  },
  {
   "cell_type": "code",
   "execution_count": 1,
   "metadata": {},
   "outputs": [
    {
     "name": "stdout",
     "output_type": "stream",
     "text": [
      "Negative\n"
     ]
    }
   ],
   "source": [
    "# Take an example number\n",
    "num = -25\n",
    "\n",
    "# Check whether the number positive, negative or zero\n",
    "if num == 0:\n",
    "    print(\"Zero\")\n",
    "else:\n",
    "    if num > 0:\n",
    "        print(\"Positive\")\n",
    "    else:\n",
    "        print(\"Negative\")"
   ]
  },
  {
   "cell_type": "markdown",
   "metadata": {},
   "source": [
    "- Take an example number and store it in num variable.\n",
    "- Check whether the num 0 or not.\n",
    "- If the num is 0 then, print 'Zero'. else, check whether the num greater than 0 or not.\n",
    "- If the num is greater than 0 then, print 'Positive'. else, print 'Negative'."
   ]
  },
  {
   "cell_type": "markdown",
   "metadata": {},
   "source": [
    "### 2. Create a Python program that checks if a given number is even or odd using an if-else statement."
   ]
  },
  {
   "cell_type": "code",
   "execution_count": 2,
   "metadata": {},
   "outputs": [
    {
     "name": "stdout",
     "output_type": "stream",
     "text": [
      "26 is an even number.\n"
     ]
    }
   ],
   "source": [
    "# Take an example number\n",
    "num = 26\n",
    "\n",
    "# Check whether the number even or odd\n",
    "if num % 2 == 0:\n",
    "    print(f\"{num} is an even number.\")\n",
    "else:\n",
    "    print(f\"{num} is an odd number.\")"
   ]
  },
  {
   "cell_type": "markdown",
   "metadata": {},
   "source": [
    "- Take an example number and store it in num variable.\n",
    "- Check whether the number modulo divide by 2 equal to 0 or not.\n",
    "- If the result of division equal to 0, then print the number is an even number.\n",
    "- If the result of division not equal to 0, then print the number is an odd number."
   ]
  },
  {
   "cell_type": "markdown",
   "metadata": {},
   "source": [
    "### 3. How can you use nested if-else statements in Python, and provide an example?"
   ]
  },
  {
   "cell_type": "markdown",
   "metadata": {},
   "source": [
    "- Nested if-else statements in Python allows us to have conditional branches within other conditional branches. This helps in implementing complex decision-making structures.\n",
    "- Here's an example:\n",
    "```python\n",
    "x = -25\n",
    "\n",
    "if x == 0:\n",
    "    print(\"Zero\")\n",
    "else:\n",
    "    if x > 0:\n",
    "        print(\"Positive\")\n",
    "    else:\n",
    "        print(\"Negative\")\n",
    "```\n",
    "- Explanation:\n",
    "    - The first `if` statement checks if `x` is equal to 0.\n",
    "    - If that condition is false (`x` is not equal to 0), it moves to the `else` block.\n",
    "    - Within the `elsse` block, there's another `if` statement to check if `x` is greater than 0.\n",
    "    - If the second `if` condition (`x > 0`) is true, it prints \"Positive\".\n",
    "    - If the second `if` condition is false, it moves to the `else` block under the second `if`, which indicates that `x` is smaller than 0 and prints \"Negative\"."
   ]
  },
  {
   "cell_type": "markdown",
   "metadata": {},
   "source": [
    "### 4. Write a Python program to determine the largest of three numbers using if-else."
   ]
  },
  {
   "cell_type": "code",
   "execution_count": 4,
   "metadata": {},
   "outputs": [
    {
     "name": "stdout",
     "output_type": "stream",
     "text": [
      "25 is largest.\n"
     ]
    }
   ],
   "source": [
    "# Take three example number\n",
    "num1 = 12\n",
    "num2 = 25\n",
    "num3 = 8\n",
    "\n",
    "# Check which is the largest number among the three numbers\n",
    "if num1 > num2 and num1 > num3:\n",
    "    print(f\"{num1} is largest.\")\n",
    "else:\n",
    "    if num2 > num1 and num2 > num3:\n",
    "        print(f\"{num2} is largest.\")\n",
    "    else:\n",
    "        print(f\"{num3} is largest.\")"
   ]
  },
  {
   "cell_type": "markdown",
   "metadata": {},
   "source": [
    "- Take three example number and store them num1, num2 and num3 variable respectively.\n",
    "- Check whether num1 is greater than num2 and num3 or not.\n",
    "- If the condition satisfied then print num1 is largest.\n",
    "- else, check whether num2 is greater than num1 and num3 or not.\n",
    "- If the condition satisfied then print num2 is largest.\n",
    "- Finally, if any of the above conditions are not satisfied then print, num3 is largest."
   ]
  },
  {
   "cell_type": "markdown",
   "metadata": {},
   "source": [
    "### 5. Write a Python program that calculates the absolute value of a number using if-else."
   ]
  },
  {
   "cell_type": "code",
   "execution_count": 5,
   "metadata": {},
   "outputs": [
    {
     "name": "stdout",
     "output_type": "stream",
     "text": [
      "Absolute value of -12: 12\n"
     ]
    }
   ],
   "source": [
    "# Take an example number\n",
    "num = -12\n",
    "\n",
    "# Check if the number smaller than 0 or not\n",
    "if num < 0:\n",
    "    abs_num = -num\n",
    "    print(f\"Absolute value of {num}: {abs_num}\")\n",
    "else:\n",
    "    print(f\"Absolute value of {num}: {num}\")"
   ]
  },
  {
   "cell_type": "markdown",
   "metadata": {},
   "source": [
    "- Take an example number.\n",
    "- Check whether the number smaller than 0 or not.\n",
    "- If the number smaller than 0 then convert it to positive number and print the positive number as absolute value.\n",
    "- else, print the number as it's absolute value."
   ]
  },
  {
   "cell_type": "markdown",
   "metadata": {},
   "source": [
    "### 6. Create a Python program that checks if a given character is a vowel or consonant using if-else."
   ]
  },
  {
   "cell_type": "code",
   "execution_count": 10,
   "metadata": {},
   "outputs": [
    {
     "name": "stdout",
     "output_type": "stream",
     "text": [
      "The character is a vowel.\n"
     ]
    }
   ],
   "source": [
    "# Take an example character\n",
    "char = 'e'\n",
    "\n",
    "# Check whether the character vowel or consonant\n",
    "if char.lower() in 'aeiou':\n",
    "    print(\"The character is a vowel.\")\n",
    "else:\n",
    "    print(\"The character is a consonant.\")"
   ]
  },
  {
   "cell_type": "markdown",
   "metadata": {},
   "source": [
    "- Take an example character and store it in char variable.\n",
    "- Check whether the character vowel or consonant.\n",
    "- If the character vowel, then print the character is a vowel.\n",
    "- else, print the character is a consonant."
   ]
  },
  {
   "cell_type": "markdown",
   "metadata": {},
   "source": [
    "### 7. Write a Python program to determine if a user is eligible to vote based on their age using if-else."
   ]
  },
  {
   "cell_type": "code",
   "execution_count": 11,
   "metadata": {},
   "outputs": [
    {
     "name": "stdout",
     "output_type": "stream",
     "text": [
      "You are eligible for vote.\n"
     ]
    }
   ],
   "source": [
    "# Take an example age\n",
    "age = 18\n",
    "\n",
    "# Check if the user is eligible to vote or not\n",
    "if age >= 18:\n",
    "    print(\"You are eligible for vote.\")\n",
    "else:\n",
    "    print(\"You are not eligible for vote.\")"
   ]
  },
  {
   "cell_type": "markdown",
   "metadata": {},
   "source": [
    "- Take an example age and store it in age variable.\n",
    "- Check whether the age is greater than or equal to 18 or not.\n",
    "- If the condition satisfied then, print you are eligible for vote.\n",
    "- else, print you are not eligible for vote."
   ]
  },
  {
   "cell_type": "markdown",
   "metadata": {},
   "source": [
    "### 8. Create a Python program that calculates the discount amount based on the purchase amount using if-else."
   ]
  },
  {
   "cell_type": "code",
   "execution_count": 12,
   "metadata": {},
   "outputs": [
    {
     "name": "stdout",
     "output_type": "stream",
     "text": [
      "You have to pay: 600.0\n"
     ]
    }
   ],
   "source": [
    "# Take an example value\n",
    "amount = 750\n",
    "\n",
    "# Apply discount based on the amount\n",
    "if amount < 100:\n",
    "    discount = 0\n",
    "    discount_price = amount\n",
    "elif 100 <= amount < 500:\n",
    "    discount = 10\n",
    "    discount_price = amount - (amount * 0.1)\n",
    "elif 500 <= amount < 1000:\n",
    "    discount = 20\n",
    "    discount_price = amount - (amount * 0.2)\n",
    "else:\n",
    "    discount = 30\n",
    "    discount_price = amount - (amount * 0.3)\n",
    "\n",
    "# Print the amount after applying discount\n",
    "print(f\"You have to pay: {discount_price}\")"
   ]
  },
  {
   "cell_type": "markdown",
   "metadata": {},
   "source": [
    "- Take an example amount and store it in amount variable.\n",
    "- Apply discount based on the amount. amount smaller than 100: 0% discount, amount between 100 to 500: 10% discount, amount between 500 to 1000: 20% discount, amount 1000 or more: 30% discount.\n",
    "- After applying discount store the final price in discount_price variable.\n",
    "- Finally, print the total payable amount."
   ]
  },
  {
   "cell_type": "markdown",
   "metadata": {},
   "source": [
    "### 9. Write a Python program to check if a number is within a specified range using if-else."
   ]
  },
  {
   "cell_type": "code",
   "execution_count": 14,
   "metadata": {},
   "outputs": [
    {
     "name": "stdout",
     "output_type": "stream",
     "text": [
      "12 is not within the range of 15 to 50.\n"
     ]
    }
   ],
   "source": [
    "# Take an example number\n",
    "num = 12\n",
    "\n",
    "# Take example range\n",
    "lower_limit = 15\n",
    "upper_limit = 50\n",
    "\n",
    "# Check whether the number is within the range or not\n",
    "if lower_limit <= num <= upper_limit:\n",
    "    print(f\"{num} is within the range of {lower_limit} to {upper_limit}.\")\n",
    "else:\n",
    "    print(f\"{num} is not within the range of {lower_limit} to {upper_limit}.\")"
   ]
  },
  {
   "cell_type": "markdown",
   "metadata": {},
   "source": [
    "- Take an example number and store it in num variable.\n",
    "- Take example range and store the range's lower limit in lower_limit variable and upper limit variable in upper_limit variable.\n",
    "- Check whether the number is within the range or not.\n",
    "- If the number within the range, then print the number within the range.\n",
    "- else, print the number not within the range."
   ]
  },
  {
   "cell_type": "markdown",
   "metadata": {},
   "source": [
    "### 10. Create a Python program that determines the grade of a student based on their score using if-else."
   ]
  },
  {
   "cell_type": "code",
   "execution_count": 15,
   "metadata": {},
   "outputs": [
    {
     "name": "stdout",
     "output_type": "stream",
     "text": [
      "You got: A\n"
     ]
    }
   ],
   "source": [
    "# Take an example number\n",
    "score = 91\n",
    "\n",
    "# Take an empty string\n",
    "grade = \"\"\n",
    "\n",
    "# Check the grade\n",
    "if score >= 90:\n",
    "    grade = \"A\"\n",
    "elif score >= 80:\n",
    "    grade = \"B\"\n",
    "elif score >= 70:\n",
    "    grade = \"C\"\n",
    "elif score >= 60:\n",
    "    grade = \"D\"\n",
    "else:\n",
    "    grade = \"F\"\n",
    "\n",
    "# Print the grade\n",
    "print(f\"You got: {grade}\")"
   ]
  },
  {
   "cell_type": "markdown",
   "metadata": {},
   "source": [
    "- Take an example number and store it in score variable.\n",
    "- Take grade variable as empty string.\n",
    "- Check the number and store an example grade(A, B, C, D, F) in grade variable.\n",
    "- Finally, print the grade."
   ]
  },
  {
   "cell_type": "markdown",
   "metadata": {},
   "source": [
    "### 11. Write a Python program to check if a string is empty or not using if-else."
   ]
  },
  {
   "cell_type": "code",
   "execution_count": 18,
   "metadata": {},
   "outputs": [
    {
     "name": "stdout",
     "output_type": "stream",
     "text": [
      "The string is not empty.\n"
     ]
    }
   ],
   "source": [
    "# Make an example string\n",
    "string = \"My name is Rajdip Das\"\n",
    "\n",
    "# Check whether the string is empty or not.\n",
    "if not string:\n",
    "    print(\"The string is empty.\")\n",
    "else:\n",
    "    print(\"The string is not empty.\")"
   ]
  },
  {
   "cell_type": "markdown",
   "metadata": {},
   "source": [
    "- Make an example string and store it in string variable.\n",
    "- Check whether the string is empty or not.\n",
    "- If the string empty, print the string is empty. else, print the string is not empty."
   ]
  },
  {
   "cell_type": "markdown",
   "metadata": {},
   "source": [
    "### 12. Create a Python program that identifies the type of a triangle (e.g., equilateral, isosceles, or scalene) based on input values using if-else."
   ]
  },
  {
   "cell_type": "code",
   "execution_count": 19,
   "metadata": {},
   "outputs": [
    {
     "name": "stdout",
     "output_type": "stream",
     "text": [
      "The triangle is isosceles.\n"
     ]
    }
   ],
   "source": [
    "# Take three example sides\n",
    "side1 = 12\n",
    "side2 = 26\n",
    "side3 = 12\n",
    "\n",
    "# Check the type of triangle\n",
    "if side1 == side2 == side3:\n",
    "    print(\"The triangle is Equilateral.\")\n",
    "elif side1 == side2 or side2 == side3 or side1 == side3:\n",
    "    print(\"The triangle is isosceles.\")\n",
    "else:\n",
    "    print(\"The triangle is Scalene.\")"
   ]
  },
  {
   "cell_type": "markdown",
   "metadata": {},
   "source": [
    "- Take three example side and store the value in side1, side2 and side3 variable.\n",
    "- Check whether side1, side2 and side3 equal or not.\n",
    "- If the condition satisfied then print the triangle isequilateral.\n",
    "- If the condition not satisfied then check is any of the two sides equal or not.\n",
    "- If the candition satisfied then print the triangle is isosceles.\n",
    "- else, print the triangle is scalene."
   ]
  },
  {
   "cell_type": "markdown",
   "metadata": {},
   "source": [
    "### 13. Write a Python program to determine the day of the week based on a user-provided number using if-else."
   ]
  },
  {
   "cell_type": "code",
   "execution_count": 20,
   "metadata": {},
   "outputs": [
    {
     "name": "stdout",
     "output_type": "stream",
     "text": [
      "Friday\n"
     ]
    }
   ],
   "source": [
    "# Take an example number between 1 to 7\n",
    "day = 5\n",
    "\n",
    "# Check which day of the week on the number\n",
    "if day == 1:\n",
    "    print(\"Monday\")\n",
    "elif day == 2:\n",
    "    print(\"Tuesday\")\n",
    "elif day == 3:\n",
    "    print(\"Wednesday\")\n",
    "elif day == 4:\n",
    "    print(\"Thursday\")\n",
    "elif day == 5:\n",
    "    print(\"Friday\")\n",
    "elif day == 6:\n",
    "    print(\"Saturday\")\n",
    "elif day == 7:\n",
    "    print(\"Sunday\")\n",
    "else:\n",
    "    print(\"Invalid input!! Please enter a valid number between 1 to 7.\")"
   ]
  },
  {
   "cell_type": "markdown",
   "metadata": {},
   "source": [
    "- Take an example number between 1 to 7 and store the number in 'day' variable.\n",
    "- Check which day of the week on this number and print the day.\n",
    "- If the number not between 1 to 7 then print it's a invalid input."
   ]
  },
  {
   "cell_type": "markdown",
   "metadata": {},
   "source": [
    "### 14. Create a Python program that checks if a given year is a leap year using both if-else and a function."
   ]
  },
  {
   "cell_type": "code",
   "execution_count": 23,
   "metadata": {},
   "outputs": [
    {
     "name": "stdout",
     "output_type": "stream",
     "text": [
      "2000 is a leap year.\n"
     ]
    }
   ],
   "source": [
    "# Create a function called leap_year\n",
    "def leap_year(year:int) -> str:\n",
    "    '''\n",
    "    Take a year as input. Return the year leap year or not\n",
    "    '''\n",
    "    \n",
    "    # Check is the year leap year or not\n",
    "    if year % 400 == 0 or (year % 4 == 0 and year % 100 != 0):\n",
    "        return f\"{year} is a leap year.\"\n",
    "\n",
    "    else:\n",
    "        return f\"{year} is not a leap year.\"\n",
    "    \n",
    "# Take an example year\n",
    "n = 2000\n",
    "\n",
    "# Pass the year in leap_year() function and print it\n",
    "print(leap_year(n))"
   ]
  },
  {
   "cell_type": "markdown",
   "metadata": {},
   "source": [
    "- Create a function called leap_year() and take a parameter named 'year'.\n",
    "- Check is the year leap year or not an return the answer.\n",
    "- Then take an example year and store it in 'n' variable.\n",
    "- Finally, print the answer using the leap_year() function and pass the 'n' value in the function."
   ]
  },
  {
   "cell_type": "markdown",
   "metadata": {},
   "source": [
    "### 15. How do you use the \"assert\" statement in Python to add debugging checks within if-else blocks?"
   ]
  },
  {
   "cell_type": "markdown",
   "metadata": {},
   "source": [
    "- The `assert` statement in python is used to check if a condition is true during the program's execution.\n",
    "- It's commonly used as a debugging tool to verify assumptions aboutthe state of the program.\n",
    "- If the condition is `False`, an `AssertionError` is raised, including that something unexpected has occurred.\n",
    "- Here's an example of using assert within an if-else block:\n",
    "```python\n",
    "x = 10\n",
    "y = 5\n",
    "\n",
    "if x > y:\n",
    "    assert x % y == 0, \"y should be a factor of x\"\n",
    "    print(\"Valid condition: x is greater than y and y is a factor of x\")\n",
    "else:\n",
    "    assert y != 0, \"y should not be zero\"\n",
    "    print(\"Valid condition: x is not greater than y\")\n",
    "\n",
    "# Output will depend on the values of x and y\n",
    "```"
   ]
  },
  {
   "cell_type": "markdown",
   "metadata": {},
   "source": [
    "### 16. Create a Python program that determines the eligibility of a person for a senior citizen discount based on age using if-else."
   ]
  },
  {
   "cell_type": "markdown",
   "metadata": {},
   "source": [
    "### 17. Write a Python program to categorize a given character as uppercase, lowercase, or neither using if-else."
   ]
  },
  {
   "cell_type": "markdown",
   "metadata": {},
   "source": [
    "### 18. Write a Python program to determine the roots of a quadratic equation using if-else."
   ]
  },
  {
   "cell_type": "markdown",
   "metadata": {},
   "source": [
    "### 19. Create a Python program that checks if a given year is a century year or not using if-else."
   ]
  },
  {
   "cell_type": "markdown",
   "metadata": {},
   "source": [
    "### 20. Write a Python program to determine if a given number is a perfect square using if-else."
   ]
  },
  {
   "cell_type": "markdown",
   "metadata": {},
   "source": [
    "### 21. Explain the purpose of the \"continue\" and \"break\" statements within if-else loops."
   ]
  },
  {
   "cell_type": "markdown",
   "metadata": {},
   "source": [
    "### 22. Create a Python program that calculates the BMI (Body Mass Index) of a person based on their weight and height using if-else."
   ]
  },
  {
   "cell_type": "markdown",
   "metadata": {},
   "source": [
    "### 23. How can you use the \"filter()\" function with if-else statements to filter elements from a list?"
   ]
  },
  {
   "cell_type": "markdown",
   "metadata": {},
   "source": [
    "### 24. Write a Python program to determine if a given number is prime or not using if-else."
   ]
  },
  {
   "cell_type": "markdown",
   "metadata": {},
   "source": [
    "# Map :"
   ]
  },
  {
   "cell_type": "markdown",
   "metadata": {},
   "source": [
    "### 1. Explain the purpose of the `map()` function in Python and provide an example of how it can be used to apply a function to each element of an iterable."
   ]
  },
  {
   "cell_type": "markdown",
   "metadata": {},
   "source": [
    "### 2. Write a Python program that uses the `map()` function to square each element of a list of numbers."
   ]
  },
  {
   "cell_type": "markdown",
   "metadata": {},
   "source": [
    "### 3. How does the `map()` function differ from a list comprehension in Python, and when would you choose one over the other?"
   ]
  },
  {
   "cell_type": "markdown",
   "metadata": {},
   "source": [
    "### 4. Create a Python program that uses the `map()` function to convert a list of names to uppercase."
   ]
  },
  {
   "cell_type": "markdown",
   "metadata": {},
   "source": [
    "### 5. Write a Python program that uses the `map()` function to calculate the length of each word in a list of strings."
   ]
  },
  {
   "cell_type": "markdown",
   "metadata": {},
   "source": [
    "### 6. How can you use the `map()` function to apply a custom function to elements of multiple lists simultaneously in Python?"
   ]
  },
  {
   "cell_type": "markdown",
   "metadata": {},
   "source": [
    "### 7. Create a Python program that uses `map()` to convert a list of temperatures from Celsius to Fahrenheit."
   ]
  },
  {
   "cell_type": "markdown",
   "metadata": {},
   "source": [
    "### 8. Write a Python program that uses the `map()` function to round each element of a list of floating-point numbers to the nearest integer."
   ]
  },
  {
   "cell_type": "markdown",
   "metadata": {},
   "source": [
    "# Reduce :"
   ]
  },
  {
   "cell_type": "markdown",
   "metadata": {},
   "source": [
    "### 1. What is the `reduce()` function in Python, and what module should you import to use it? Provide an example of its basic usage."
   ]
  },
  {
   "cell_type": "markdown",
   "metadata": {},
   "source": [
    "### 2. Write a Python program that uses the `reduce()` function to find the product of all elements in a list."
   ]
  },
  {
   "cell_type": "markdown",
   "metadata": {},
   "source": [
    "### 3. Create a Python program that uses `reduce()` to find the maximum element in a list of numbers."
   ]
  },
  {
   "cell_type": "markdown",
   "metadata": {},
   "source": [
    "### 4. How can you use the `reduce()` function to concatenate a list of strings into a single string?"
   ]
  },
  {
   "cell_type": "markdown",
   "metadata": {},
   "source": [
    "### 5. Write a Python program that calculates the factorial of a number using the `reduce()` function."
   ]
  },
  {
   "cell_type": "markdown",
   "metadata": {},
   "source": [
    "### 6. Create a Python program that uses `reduce()` to find the GCD (Greatest Common Divisor) of a list of numbers."
   ]
  },
  {
   "cell_type": "markdown",
   "metadata": {},
   "source": [
    "### 7. Write a Python program that uses the `reduce()` function to find the sum of the digits of a given number."
   ]
  },
  {
   "cell_type": "markdown",
   "metadata": {},
   "source": [
    "# Filter :"
   ]
  },
  {
   "cell_type": "markdown",
   "metadata": {},
   "source": [
    "### 1. Explain the purpose of the `filter()` function in Python and provide an example of how it can be used to filter elements from an iterable."
   ]
  },
  {
   "cell_type": "markdown",
   "metadata": {},
   "source": [
    "### 2. Write a Python program that uses the `filter()` function to select even numbers from a list of integers."
   ]
  },
  {
   "cell_type": "markdown",
   "metadata": {},
   "source": [
    "### 3. Create a Python program that uses the `filter()` function to select names that start with a specific letter from a list of strings."
   ]
  },
  {
   "cell_type": "markdown",
   "metadata": {},
   "source": [
    "### 4. Write a Python program that uses the `filter()` function to select prime numbers from a list of integers."
   ]
  },
  {
   "cell_type": "markdown",
   "metadata": {},
   "source": [
    "### 5. How can you use the `filter()` function to remove None values from a list in Python?"
   ]
  },
  {
   "cell_type": "markdown",
   "metadata": {},
   "source": [
    "### 6. Create a Python program that uses `filter()` to select words longer than a certain length from a list of strings."
   ]
  },
  {
   "cell_type": "markdown",
   "metadata": {},
   "source": [
    "### 7. Write a Python program that uses the `filter()` function to select elements greater than a specified threshold from a list of values."
   ]
  },
  {
   "cell_type": "markdown",
   "metadata": {},
   "source": [
    "# Recursion :"
   ]
  },
  {
   "cell_type": "markdown",
   "metadata": {},
   "source": [
    "### 1. Explain the concept of recursion in Python. How does it differ from iteration?"
   ]
  },
  {
   "cell_type": "markdown",
   "metadata": {},
   "source": [
    "### 2. Write a Python program to calculate the factorial of a number using recursion."
   ]
  },
  {
   "cell_type": "markdown",
   "metadata": {},
   "source": [
    "### 3. Create a recursive Python function to find the nth Fibonacci number."
   ]
  },
  {
   "cell_type": "markdown",
   "metadata": {},
   "source": [
    "### 4. Write a recursive Python function to calculate the sum of all elements in a list."
   ]
  },
  {
   "cell_type": "markdown",
   "metadata": {},
   "source": [
    "### 5. How can you prevent a recursive function from running indefinitely, causing a stack overflow error?"
   ]
  },
  {
   "cell_type": "markdown",
   "metadata": {},
   "source": [
    "### 6. Create a recursive Python function to find the greatest common divisor (GCD) of two numbers using the Euclidean algorithm."
   ]
  },
  {
   "cell_type": "markdown",
   "metadata": {},
   "source": [
    "### 7. Write a recursive Python function to reverse a string."
   ]
  },
  {
   "cell_type": "markdown",
   "metadata": {},
   "source": [
    "### 8. Create a recursive Python function to calculate the power of a number (x^n)."
   ]
  },
  {
   "cell_type": "markdown",
   "metadata": {},
   "source": [
    "### 9. Write a recursive Python function to find all permutations of a given string."
   ]
  },
  {
   "cell_type": "markdown",
   "metadata": {},
   "source": [
    "### 10. Write a recursive Python function to check if a string is a palindrome."
   ]
  },
  {
   "cell_type": "markdown",
   "metadata": {},
   "source": [
    "### 11. Create a recursive Python function to generate all possible combinations of a list of elements."
   ]
  },
  {
   "cell_type": "markdown",
   "metadata": {},
   "source": [
    "# Basics of Functions :"
   ]
  },
  {
   "cell_type": "markdown",
   "metadata": {},
   "source": [
    "### 1. What is a function in Python, and why is it used?"
   ]
  },
  {
   "cell_type": "markdown",
   "metadata": {},
   "source": [
    "### 2. How do you define a function in Python? Provide an example."
   ]
  },
  {
   "cell_type": "markdown",
   "metadata": {},
   "source": [
    "### 3. Explain the difference between a function definition and a function call."
   ]
  },
  {
   "cell_type": "markdown",
   "metadata": {},
   "source": [
    "### 4. Write a Python program that defines a function to calculate the sum of two numbers and then calls the function."
   ]
  },
  {
   "cell_type": "markdown",
   "metadata": {},
   "source": [
    "### 5. What is a function signature, and what information does it typically include?"
   ]
  },
  {
   "cell_type": "markdown",
   "metadata": {},
   "source": [
    "### 6. Create a Python function that takes two arguments and returns their product."
   ]
  },
  {
   "cell_type": "markdown",
   "metadata": {},
   "source": [
    "# Function Parameters and Arguments :"
   ]
  },
  {
   "cell_type": "markdown",
   "metadata": {},
   "source": [
    "### 1. Explain the concepts of formal parameters and actual arguments in Python functions."
   ]
  },
  {
   "cell_type": "markdown",
   "metadata": {},
   "source": [
    "### 2. Write a Python program that defines a function with default argument values."
   ]
  },
  {
   "cell_type": "markdown",
   "metadata": {},
   "source": [
    "### 3. How do you use keyword arguments in Python function calls? Provide an example."
   ]
  },
  {
   "cell_type": "markdown",
   "metadata": {},
   "source": [
    "### 4. Create a Python function that accepts a variable number of arguments and calculates their sum."
   ]
  },
  {
   "cell_type": "markdown",
   "metadata": {},
   "source": [
    "### 5. What is the purpose of the `*args` and `**kwargs` syntax in function parameter lists?"
   ]
  },
  {
   "cell_type": "markdown",
   "metadata": {},
   "source": [
    "# Return Values and Scoping :"
   ]
  },
  {
   "cell_type": "markdown",
   "metadata": {},
   "source": [
    "### 1. Describe the role of the `return` statement in Python functions and provide examples."
   ]
  },
  {
   "cell_type": "markdown",
   "metadata": {},
   "source": [
    "### 2. Explain the concept of variable scope in Python, including local and global variables."
   ]
  },
  {
   "cell_type": "markdown",
   "metadata": {},
   "source": [
    "### 3. Write a Python program that demonstrates the use of global variables within functions."
   ]
  },
  {
   "cell_type": "markdown",
   "metadata": {},
   "source": [
    "### 4. Create a Python function that calculates the factorial of a number and returns it."
   ]
  },
  {
   "cell_type": "markdown",
   "metadata": {},
   "source": [
    "### 5. How can you access variables defined outside a function from within the function?"
   ]
  },
  {
   "cell_type": "markdown",
   "metadata": {},
   "source": [
    "# Lambda Functions and Higher-Order Functions:"
   ]
  },
  {
   "cell_type": "markdown",
   "metadata": {},
   "source": [
    "### 1. What are lambda functions in Python, and when are they typically used?"
   ]
  },
  {
   "cell_type": "markdown",
   "metadata": {},
   "source": [
    "### 2. Write a Python program that uses lambda functions to sort a list of tuples based on the second element."
   ]
  },
  {
   "cell_type": "markdown",
   "metadata": {},
   "source": [
    "### 3. Explain the concept of higher-order functions in Python, and provide an example."
   ]
  },
  {
   "cell_type": "markdown",
   "metadata": {},
   "source": [
    "### 4. Create a Python function that takes a list of numbers and a function as arguments, applying the function to each element in the list."
   ]
  },
  {
   "cell_type": "markdown",
   "metadata": {},
   "source": [
    "# Built-in Functions :"
   ]
  },
  {
   "cell_type": "markdown",
   "metadata": {},
   "source": [
    "### 1. Describe the role of built-in functions like `len()`, `max()`, and `min()` in Python."
   ]
  },
  {
   "cell_type": "markdown",
   "metadata": {},
   "source": [
    "### 2. Write a Python program that uses the `map()` function to apply a function to each element of a list."
   ]
  },
  {
   "cell_type": "markdown",
   "metadata": {},
   "source": [
    "### 3. How does the `filter()` function work in Python, and when would you use it?"
   ]
  },
  {
   "cell_type": "markdown",
   "metadata": {},
   "source": [
    "### 4. Create a Python program that uses the `reduce()` function to find the product of all elements in a list."
   ]
  },
  {
   "cell_type": "markdown",
   "metadata": {},
   "source": [
    "# Function Documentation and Best Practices:"
   ]
  },
  {
   "cell_type": "markdown",
   "metadata": {},
   "source": [
    "### 1. Explain the purpose of docstrings in Python functions and how to write them."
   ]
  },
  {
   "cell_type": "markdown",
   "metadata": {},
   "source": [
    "### 2. Describe some best practices for naming functions and variables in Python, including naming conventions and guidelines."
   ]
  },
  {
   "cell_type": "code",
   "execution_count": null,
   "metadata": {},
   "outputs": [],
   "source": []
  }
 ],
 "metadata": {
  "kernelspec": {
   "display_name": "base",
   "language": "python",
   "name": "python3"
  },
  "language_info": {
   "codemirror_mode": {
    "name": "ipython",
    "version": 3
   },
   "file_extension": ".py",
   "mimetype": "text/x-python",
   "name": "python",
   "nbconvert_exporter": "python",
   "pygments_lexer": "ipython3",
   "version": "3.9.16"
  }
 },
 "nbformat": 4,
 "nbformat_minor": 2
}
