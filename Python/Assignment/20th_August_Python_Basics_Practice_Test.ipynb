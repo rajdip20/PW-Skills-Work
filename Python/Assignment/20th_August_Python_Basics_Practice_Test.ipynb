{
 "cells": [
  {
   "cell_type": "markdown",
   "metadata": {},
   "source": [
    "# String Based Assignment Problem"
   ]
  },
  {
   "cell_type": "markdown",
   "metadata": {},
   "source": [
    "### 1. Write a program to reverse a string."
   ]
  },
  {
   "cell_type": "code",
   "execution_count": 1,
   "metadata": {},
   "outputs": [
    {
     "name": "stdout",
     "output_type": "stream",
     "text": [
      "Enter a string: Rajdip\n",
      "Reversed string: pidjaR\n"
     ]
    }
   ],
   "source": [
    "# Taking string input from user\n",
    "string = input(\"Enter a string: \")\n",
    "\n",
    "# Reverse the string\n",
    "rev_string = string[::-1]\n",
    "\n",
    "# Print the reversed string\n",
    "print(\"Reversed string:\", rev_string)"
   ]
  },
  {
   "cell_type": "markdown",
   "metadata": {},
   "source": [
    "- Take string input from user using input() function and store it in string variable.\n",
    "- Reverse the string using string slicing method. Here, `string[::-1]` means, end to end slicing but in the negative step, Means, last to first. Save it in rev_srting variable.\n",
    "- Finally, print the reversed string."
   ]
  },
  {
   "cell_type": "markdown",
   "metadata": {},
   "source": [
    "### 2. Check if a string is a palindrome."
   ]
  },
  {
   "cell_type": "code",
   "execution_count": 2,
   "metadata": {},
   "outputs": [
    {
     "name": "stdout",
     "output_type": "stream",
     "text": [
      "Enter a string: oppo\n",
      "It is a palindrome.\n"
     ]
    }
   ],
   "source": [
    "# Taking input a string from user\n",
    "string = input(\"Enter a string: \")\n",
    "\n",
    "# reverse the string using slicing\n",
    "rev_string = string[::-1]\n",
    "\n",
    "# Check the string and the reverse string equal or not\n",
    "if string == string[::-1]:\n",
    "    print(\"It is a palindrome.\")\n",
    "else:\n",
    "    print(\"It is not a palindrome.\")"
   ]
  },
  {
   "cell_type": "markdown",
   "metadata": {},
   "source": [
    "- Take string input from user using input() function and store it in string variable.\n",
    "- Reverse the string using string slicing method. Save it in rev_srting variable.\n",
    "- Check whether the string is equal to the reversed string or not.\n",
    "    - If equal, then print \"It is a palindrome\".\n",
    "    - Otherwise, print \"It is not a palindrome\"."
   ]
  },
  {
   "cell_type": "markdown",
   "metadata": {},
   "source": [
    "### 3. Convert a string to uppercase."
   ]
  },
  {
   "cell_type": "code",
   "execution_count": 3,
   "metadata": {},
   "outputs": [
    {
     "name": "stdout",
     "output_type": "stream",
     "text": [
      "Enter a string: rajdip\n",
      "Uppercase string: RAJDIP\n"
     ]
    }
   ],
   "source": [
    "# Taking input a string from user\n",
    "string = input(\"Enter a string: \")\n",
    "\n",
    "# convert the string to uppercase\n",
    "upper_string = string.upper()\n",
    "\n",
    "# print the uppercase string\n",
    "print(\"Uppercase string:\", upper_string)"
   ]
  },
  {
   "cell_type": "markdown",
   "metadata": {},
   "source": [
    "- Take string input from user using input() function and store it in string variable.\n",
    "- covert the string to uppercase using .upper() method. Store it in upper_string variable.\n",
    "- Finally, print the uppercased string."
   ]
  },
  {
   "cell_type": "markdown",
   "metadata": {},
   "source": [
    "### 4. Convert a string to lowercase."
   ]
  },
  {
   "cell_type": "code",
   "execution_count": 4,
   "metadata": {},
   "outputs": [
    {
     "name": "stdout",
     "output_type": "stream",
     "text": [
      "Enter a string: RaJdIp\n",
      "Lowercase string: rajdip\n"
     ]
    }
   ],
   "source": [
    "# Taking input a string from user\n",
    "string = input(\"Enter a string: \")\n",
    "\n",
    "# convert the string to lowercase\n",
    "lower_string = string.lower()\n",
    "\n",
    "# print the lowercase string\n",
    "print(\"Lowercase string:\", lower_string)"
   ]
  },
  {
   "cell_type": "markdown",
   "metadata": {},
   "source": [
    "- Take string input from user using input() function and store it in string variable.\n",
    "- covert the string to lowercase using .lower() method. Store it in lower_string variable.\n",
    "- Finally, print the lowercased string."
   ]
  },
  {
   "cell_type": "markdown",
   "metadata": {},
   "source": [
    "### 5. Count the number of vowels in a string."
   ]
  },
  {
   "cell_type": "code",
   "execution_count": 5,
   "metadata": {},
   "outputs": [
    {
     "name": "stdout",
     "output_type": "stream",
     "text": [
      "Enter a string: Rajdip Das\n",
      "Number of vowels: 3\n"
     ]
    }
   ],
   "source": [
    "# Taking input a string from user\n",
    "string = input(\"Enter a string: \")\n",
    "count = 0\n",
    "\n",
    "# Iterate each character in the string\n",
    "for char in string:\n",
    "    char_lower = char.lower()    # Convert each character in the string to lowercase\n",
    "    \n",
    "    if char_lower in \"aeiou\":\n",
    "        count += 1               # if character is a vowel increment count value by 1\n",
    "\n",
    "# Print total number of vowel\n",
    "print(\"Number of vowels:\", count)"
   ]
  },
  {
   "cell_type": "markdown",
   "metadata": {},
   "source": [
    "- Take a string as input from user using input() function and store it in string variable.\n",
    "- Make a count variable to keep the count of each vowel. Initially it is 0.\n",
    "- Iterate each character in the string using for loop.\n",
    "- Convert all character in lower case using .lower() method and save it in char_lower variable.\n",
    "- Check the character if it is in \"aeiou\" or not using if statement.\n",
    "    - If the condition satisfied then count variable increased by 1 else not.\n",
    "- Finally, print the final count of vowel."
   ]
  },
  {
   "cell_type": "markdown",
   "metadata": {},
   "source": [
    "### 6. Count the number of consonants in a string."
   ]
  },
  {
   "cell_type": "code",
   "execution_count": 6,
   "metadata": {},
   "outputs": [
    {
     "name": "stdout",
     "output_type": "stream",
     "text": [
      "Enter a string: Rajdip Das\n",
      "Number of consonant: 6\n"
     ]
    }
   ],
   "source": [
    "# Taking input a string from user\n",
    "string = input(\"Enter a string: \")\n",
    "count = 0\n",
    "\n",
    "# Iterate each character in the string\n",
    "for char in string:\n",
    "    char_lower = char.lower()    # Convert each character in the string to lowercase\n",
    "    \n",
    "    if char_lower not in \"aeiou \":\n",
    "        count += 1               # if character is not a vowel and space increment count value by 1\n",
    "\n",
    "# Print total number of consonant\n",
    "print(\"Number of consonant:\", count)"
   ]
  },
  {
   "cell_type": "markdown",
   "metadata": {},
   "source": [
    "- Take a string as input from user using input() function and store it in string variable.\n",
    "- Make a count variable to keep the count of each consonant. Initially it is 0.\n",
    "- Iterate each character in the string using for loop.\n",
    "- Convert all character in lower case using .lower() method and save it in char_lower variable.\n",
    "- Check the character if it is not in \"aeiou \" using if statement.\n",
    "    - If the condition satisfied then count variable increased by 1 else not.\n",
    "- Finally, print the final count of consonant."
   ]
  },
  {
   "cell_type": "markdown",
   "metadata": {},
   "source": [
    "### 7. Remove all whitespaces from a string."
   ]
  },
  {
   "cell_type": "code",
   "execution_count": 7,
   "metadata": {},
   "outputs": [
    {
     "name": "stdout",
     "output_type": "stream",
     "text": [
      "Enter a string: I am Rajdip\n",
      "Modified string: IamRajdip\n"
     ]
    }
   ],
   "source": [
    "# Taking input a string from user\n",
    "string = input(\"Enter a string: \")\n",
    "\n",
    "# remove all the spaces using relace method\n",
    "modified_string = string.replace(\" \", \"\")\n",
    "\n",
    "# Print modified string\n",
    "print(\"Modified string:\", modified_string)"
   ]
  },
  {
   "cell_type": "markdown",
   "metadata": {},
   "source": [
    "- Take string input from user using input() function and store it in string variable.\n",
    "- Remove all spaces using .replace() method which take two parameters as input. First, old value, here, a space. Second, new value, here, no space. Save it in modified_string variable.\n",
    "- Finally, print the modified string."
   ]
  },
  {
   "cell_type": "markdown",
   "metadata": {},
   "source": [
    "### 8. Find the length of a string without using the `len()` function."
   ]
  },
  {
   "cell_type": "code",
   "execution_count": 8,
   "metadata": {},
   "outputs": [
    {
     "name": "stdout",
     "output_type": "stream",
     "text": [
      "Enter a string: Ramratan\n",
      "Length of the string is: 8\n"
     ]
    }
   ],
   "source": [
    "# Taking input a string from user\n",
    "string = input(\"Enter a string: \")\n",
    "count = 0\n",
    "\n",
    "# Iterate each character in the string\n",
    "for char in string:\n",
    "    count += 1\n",
    "\n",
    "# print total number of character\n",
    "print(\"Length of the string is:\", count)"
   ]
  },
  {
   "cell_type": "markdown",
   "metadata": {},
   "source": [
    "- Take string input from user using input() function and store it in string variable.\n",
    "- Make a count variable to keep the count of each character. Initially it is 0.\n",
    "- Iterate each character in the string using for loop.\n",
    "- Increase the count value by 1 with each iteration.\n",
    "- Finally, print the final count which is the length of the string."
   ]
  },
  {
   "cell_type": "markdown",
   "metadata": {},
   "source": [
    "### 9. Check if a string contains a specific word."
   ]
  },
  {
   "cell_type": "code",
   "execution_count": 9,
   "metadata": {},
   "outputs": [
    {
     "name": "stdout",
     "output_type": "stream",
     "text": [
      "Enter a word: Rajdip\n",
      "Enter a string to be searched: jd\n",
      "jd is in the given word.\n"
     ]
    }
   ],
   "source": [
    "# Taking input a word from user\n",
    "word = input(\"Enter a word: \")\n",
    "\n",
    "# Taking input a string from user\n",
    "string = input(\"Enter a string to be searched: \")\n",
    "\n",
    "# Evaluate if the string is in the word or not\n",
    "if string in word:\n",
    "    print(f\"{string} is in the given word.\")        # If the string is in the word\n",
    "else:\n",
    "    print(f\"{string} not in the given word.\")       # If the string is not in the word"
   ]
  },
  {
   "cell_type": "markdown",
   "metadata": {},
   "source": [
    "- Take a word as input from user using input() function and store it in word variable.\n",
    "- Take a string as input from user using input() function which to be searched from the word. Store it in the string variable.\n",
    "- Check if the given string is in the given word or not.\n",
    "    - If yes, then print, the string is in the given word.\n",
    "    - If no, then print, the string is not in the given word."
   ]
  },
  {
   "cell_type": "markdown",
   "metadata": {},
   "source": [
    "### 10. Replace a word in a string with another word."
   ]
  },
  {
   "cell_type": "code",
   "execution_count": 10,
   "metadata": {},
   "outputs": [
    {
     "name": "stdout",
     "output_type": "stream",
     "text": [
      "Enter a string: Rajdip Das\n",
      "Enter the word to be replaced with: Das\n",
      "Enter the new word: Dutta\n",
      "After modifying:\n",
      "Rajdip Dutta\n"
     ]
    }
   ],
   "source": [
    "# Taking input a string from user\n",
    "string = input(\"Enter a string: \")\n",
    "\n",
    "# Taking input the word from user to be replaced with\n",
    "word = input(\"Enter the word to be replaced with: \")\n",
    "\n",
    "# Taking input a new word from user\n",
    "new_word = input(\"Enter the new word: \")\n",
    "\n",
    "# Evaluate if the word is in the string or not\n",
    "if word in string:\n",
    "    new_string = string.replace(word, new_word)        # If the word is in the string replace it with new word\n",
    "    print(\"After modifying:\")\n",
    "    print(new_string)                                  # Print the modified string\n",
    "else:\n",
    "    print(f\"{word} not in the given string.\")          # If the string is not in the word"
   ]
  },
  {
   "cell_type": "markdown",
   "metadata": {},
   "source": [
    "- Take string input from user using input() function and store it in string variable.\n",
    "- Take a word as input from user using input() function which to be replaced with a new word in the string. store it in word variable.\n",
    "- Take a new word as input from user using input() function which is the new word. store it in new_word variable.\n",
    "- Check if the word is in the string or not.\n",
    "    - If yes, then replace the word with the new word using .replace() method. Store it in new_string variable. Then print the modified string.\n",
    "    - If no, then print, word is not in the given string."
   ]
  },
  {
   "cell_type": "markdown",
   "metadata": {},
   "source": [
    "### 11. Count the occurrences of a word in a string."
   ]
  },
  {
   "cell_type": "code",
   "execution_count": 18,
   "metadata": {},
   "outputs": [
    {
     "name": "stdout",
     "output_type": "stream",
     "text": [
      "z occurred 0 times in the string\n"
     ]
    }
   ],
   "source": [
    "# Taking input a string from user\n",
    "string = input(\"Enter a string: \")\n",
    "\n",
    "# Taking input a word from user\n",
    "word = input(\"Enter a word: \")\n",
    "\n",
    "# Count the word in the string\n",
    "count = string.count(word)\n",
    "\n",
    "# Print total number of word in the string\n",
    "print(f\"{word} occurred {count} times in the string.\")"
   ]
  },
  {
   "cell_type": "markdown",
   "metadata": {},
   "source": [
    "- Take string input from user using input() function and store it in string variable.\n",
    "- Take a word as input from user using input() function and store it in word variable.\n",
    "- Count the occurrence of the word in the string using .count() method and pass the word as parameter. store the number in count variable.\n",
    "- Finally, print the final count."
   ]
  },
  {
   "cell_type": "markdown",
   "metadata": {},
   "source": [
    "### 12. Find the first occurrence of a word in a string."
   ]
  },
  {
   "cell_type": "code",
   "execution_count": 13,
   "metadata": {},
   "outputs": [
    {
     "name": "stdout",
     "output_type": "stream",
     "text": [
      "a occurred at index 1 for the first time.\n"
     ]
    }
   ],
   "source": [
    "# Taking input a string from user\n",
    "string = input(\"Enter a string: \")\n",
    "\n",
    "# Taking input a word from user\n",
    "word = input(\"Enter a word: \")\n",
    "\n",
    "# Evaluate if the word is in the string or not\n",
    "if word in string:\n",
    "    position = string.index(word)       # If yes\n",
    "    print(f\"{word} occurred at index {position} for the first time.\")\n",
    "else:\n",
    "    print(f\"{word} is not in the string.\")"
   ]
  },
  {
   "cell_type": "markdown",
   "metadata": {},
   "source": [
    "- Take string input from user using input() function and store it in string variable.\n",
    "- Take a word as input from user using input() function and store it in word variable.\n",
    "- Check if the word is in the string or not.\n",
    "    - If yes, then find the index of the word in the string using .index() method and pass the word as parameter. store the number in position variable. finally, print the position of the word which is first occurrence in the string.\n",
    "    - If no, then print the word is not in the string."
   ]
  },
  {
   "cell_type": "markdown",
   "metadata": {},
   "source": [
    "### 13. Find the last occurrence of a word in a string."
   ]
  },
  {
   "cell_type": "code",
   "execution_count": 15,
   "metadata": {},
   "outputs": [
    {
     "name": "stdout",
     "output_type": "stream",
     "text": [
      "a occurred at index 8 for the last time.\n"
     ]
    }
   ],
   "source": [
    "# Taking input a string from user\n",
    "string = input(\"Enter a string: \")\n",
    "\n",
    "# Taking input a word from user\n",
    "word = input(\"Enter a word: \")\n",
    "\n",
    "# Evaluate if the word is in the string or not\n",
    "if word in string:\n",
    "    for i in range(len(string)):        # If yes\n",
    "        if string[i] == word:\n",
    "            position = i                # Change position value with newer value\n",
    "    print(f\"{word} occurred at index {position} for the last time.\")        # Print the answer\n",
    "else:\n",
    "    print(f\"{word} is not in the string.\")      # If no"
   ]
  },
  {
   "cell_type": "markdown",
   "metadata": {},
   "source": [
    "- Take string input from user using input() function and store it in string variable.\n",
    "- Take a word as input from user using input() function and store it in word variable.\n",
    "- Check if the word is in the string or not.\n",
    "    - If yes\n",
    "        - Run a for loop in a range, which is the same of the length of the string. Length of the string calculated by len() function.\n",
    "        - Evaluate is the string in i'th position is equal to the given word or not.\n",
    "        - If yes, then store the i (here i means index) in position variable.\n",
    "        - Finally, Print the position, which is index of the last occurrence of the word.\n",
    "    - If no, then print word is not in the string."
   ]
  },
  {
   "cell_type": "markdown",
   "metadata": {},
   "source": [
    "### 14. Split a string into a list of words"
   ]
  },
  {
   "cell_type": "code",
   "execution_count": 18,
   "metadata": {},
   "outputs": [
    {
     "name": "stdout",
     "output_type": "stream",
     "text": [
      "The list of word:\n",
      "['My', 'name', 'is', 'Rajdip', 'Das']\n"
     ]
    }
   ],
   "source": [
    "# Taking input a string from user\n",
    "string = input(\"Enter a string: \")\n",
    "\n",
    "# split the string\n",
    "word_list = string.split(\" \")\n",
    "\n",
    "# Print the list\n",
    "print(f\"The list of word:\\n{word_list}\")"
   ]
  },
  {
   "cell_type": "markdown",
   "metadata": {},
   "source": [
    "- Take string input from user using input() function and store it in string variable.\n",
    "- Split the string using .split() method and pass a space as parameter. Store it in word_list variable.\n",
    "- Finally, Print the word_list, which is a list of all words from string."
   ]
  },
  {
   "cell_type": "markdown",
   "metadata": {},
   "source": [
    "### 15. Join a list of words into a string."
   ]
  },
  {
   "cell_type": "code",
   "execution_count": 21,
   "metadata": {},
   "outputs": [
    {
     "name": "stdout",
     "output_type": "stream",
     "text": [
      "String after joining:\n",
      "My name is Rajdip Das.\n"
     ]
    }
   ],
   "source": [
    "# Take a list of words\n",
    "word_list = ['My', 'name', 'is', 'Rajdip', 'Das.']\n",
    "\n",
    "# Join the words\n",
    "string = ' '.join(word_list)\n",
    "\n",
    "# Print the string\n",
    "print(f\"After joining all word:\\n{string}\")"
   ]
  },
  {
   "cell_type": "markdown",
   "metadata": {},
   "source": [
    "- Make a list of words. Store it in word_list variable.\n",
    "- Join the words using .join() method followed by a space and pass the word_list as parameter. This will join the words from the list separated by a space. Store it in string variable.\n",
    "- Finally, print the string."
   ]
  },
  {
   "cell_type": "markdown",
   "metadata": {},
   "source": [
    "### 16. Convert a string where words are separated by spaces to one where words are separated by underscores."
   ]
  },
  {
   "cell_type": "code",
   "execution_count": 24,
   "metadata": {},
   "outputs": [
    {
     "name": "stdout",
     "output_type": "stream",
     "text": [
      "Before converting:\n",
      "My name is Rajdip Das\n",
      "After converting:\n",
      "My_name_is_Rajdip_Das\n"
     ]
    }
   ],
   "source": [
    "# Taking input a string from user\n",
    "string = input(\"Enter a string: \")\n",
    "\n",
    "# print the string\n",
    "print(f\"Before converting:\\n{string}\")\n",
    "\n",
    "# Covert spaces to underscore\n",
    "new_string = string.replace(\" \", \"_\")\n",
    "\n",
    "# print the converted string\n",
    "print(f\"After converting:\\n{new_string}\")"
   ]
  },
  {
   "cell_type": "markdown",
   "metadata": {},
   "source": [
    "- Take string input from user using input() function and store it in string variable.\n",
    "- Print the string before converting.\n",
    "- Change all space to underscore using .replace() method and pass it two (a space as old str and a underscore as new str) parameters. Store it in new_string variable.\n",
    "- Print the new_string after converting."
   ]
  },
  {
   "cell_type": "markdown",
   "metadata": {},
   "source": [
    "### 17. Check if a string starts with a specific word or phrase."
   ]
  },
  {
   "cell_type": "code",
   "execution_count": 26,
   "metadata": {},
   "outputs": [
    {
     "name": "stdout",
     "output_type": "stream",
     "text": [
      "The string start with the word.\n"
     ]
    }
   ],
   "source": [
    "# Taking input a string from user\n",
    "string = input(\"Enter a string: \")\n",
    "\n",
    "# Taking input a word from user\n",
    "word = input(\"Enter a word: \")\n",
    "\n",
    "# Check is the string starts with the word or not\n",
    "result = string.startswith(word)\n",
    "\n",
    "# Print the result\n",
    "if result:\n",
    "    print(\"The string starts with the word.\")\n",
    "else:\n",
    "    print(\"The string does not start with the word.\")"
   ]
  },
  {
   "cell_type": "markdown",
   "metadata": {},
   "source": [
    "- Take string input from user using input() function and store it in string variable.\n",
    "- Take a word as input from user using input() function and store it in word variable.\n",
    "- Check, the string starts with the word or not using .startswith() method pass the word as parameter. The method will return a boolean value (True or False). Store the value in result variable.\n",
    "- Check if True, then print the string starts with the word else print the string does not start with the word."
   ]
  },
  {
   "cell_type": "markdown",
   "metadata": {},
   "source": [
    "### 18. Check if a string ends with a specific word or phrase."
   ]
  },
  {
   "cell_type": "code",
   "execution_count": 29,
   "metadata": {},
   "outputs": [
    {
     "name": "stdout",
     "output_type": "stream",
     "text": [
      "The string ends with the word.\n"
     ]
    }
   ],
   "source": [
    "# Taking input a string from user\n",
    "string = input(\"Enter a string: \")\n",
    "\n",
    "# Taking input a word from user\n",
    "word = input(\"Enter a word: \")\n",
    "\n",
    "# Check is the string ends with the word or not\n",
    "result = string.endswith(word)\n",
    "\n",
    "# Print the result\n",
    "if result:\n",
    "    print(\"The string ends with the word.\")\n",
    "else:\n",
    "    print(\"The string does not end with the word.\")"
   ]
  },
  {
   "cell_type": "markdown",
   "metadata": {},
   "source": [
    "- Take string input from user using input() function and store it in string variable.\n",
    "- Take a word as input from user using input() function and store it in word variable.\n",
    "- Check, the string ends with the word or not using .endswith() method pass the word as parameter. The method will return a boolean value (True or False). Store the value in result variable.\n",
    "- Check if True, then print the string ends with the word else print the string does not end with the word."
   ]
  },
  {
   "cell_type": "markdown",
   "metadata": {},
   "source": [
    "### 19. Convert a string to title case (e.g., \"hello world\" to \"Hello World\")."
   ]
  },
  {
   "cell_type": "code",
   "execution_count": 31,
   "metadata": {},
   "outputs": [
    {
     "name": "stdout",
     "output_type": "stream",
     "text": [
      "Modified string:\n",
      "Rajdip Das\n"
     ]
    }
   ],
   "source": [
    "# Taking input a string from user\n",
    "string = input(\"Enter a string: \")\n",
    "\n",
    "# Make the string into title case\n",
    "modified_string = string.title()\n",
    "\n",
    "# Print the modified string\n",
    "print(f\"Modified string:\\n{modified_string}\")"
   ]
  },
  {
   "cell_type": "markdown",
   "metadata": {},
   "source": [
    "- Take string input from user using input() function and store it in string variable.\n",
    "- Convert the string into title case string using .title() method. Store it in modified_string variable.\n",
    "- Finally, Print the modified_string."
   ]
  },
  {
   "cell_type": "markdown",
   "metadata": {},
   "source": [
    "### 20. Find the longest word in a string."
   ]
  },
  {
   "cell_type": "code",
   "execution_count": 33,
   "metadata": {},
   "outputs": [
    {
     "name": "stdout",
     "output_type": "stream",
     "text": [
      "'Rajdip' is the longest word in the string.\n"
     ]
    }
   ],
   "source": [
    "# Taking input a string from user\n",
    "string = input(\"Enter a string: \")\n",
    "\n",
    "# Convert the string into list of words\n",
    "word_list = string.split()\n",
    "\n",
    "# Initialize length with 0 and long word as empty string\n",
    "length = 0\n",
    "long_word = \"\"\n",
    "\n",
    "# Iterate through the word list and see which word is longest\n",
    "for word in word_list:\n",
    "    if len(word) > length:\n",
    "        length = len(word)\n",
    "        long_word = word\n",
    "\n",
    "# Print the longest word in the string\n",
    "print(f\"'{long_word}' is the longest word in the string.\")"
   ]
  },
  {
   "cell_type": "markdown",
   "metadata": {},
   "source": [
    "- Take string input from user using input() function and store it in string variable.\n",
    "- Convert the string into list of words using .split() method. Store the list in word_list variable.\n",
    "- Initialize length variable with 0 and long_word variable with empty string.\n",
    "- Iterate through the word_list using for loop. Then, If the length of word (calculate using len() function) is greater than length, then length variable modified into new length of the word. The word store in long_word variable.\n",
    "- Finally, Print long_word as longest word."
   ]
  },
  {
   "cell_type": "markdown",
   "metadata": {},
   "source": [
    "### 21. Find the shortest word in a string."
   ]
  },
  {
   "cell_type": "code",
   "execution_count": 39,
   "metadata": {},
   "outputs": [
    {
     "name": "stdout",
     "output_type": "stream",
     "text": [
      "'My' is the shortest word in the string.\n"
     ]
    }
   ],
   "source": [
    "# Taking input a string from user\n",
    "string = input(\"Enter a string: \")\n",
    "\n",
    "# Convert the string into list of words\n",
    "word_list = string.split()\n",
    "\n",
    "# Initialize length with a large value and short word as None\n",
    "length = float('inf')\n",
    "short_word = None\n",
    "\n",
    "# Iterate through the word list and see which word is shortest\n",
    "for word in word_list:\n",
    "    if len(word) < length:\n",
    "        length = len(word)\n",
    "        short_word = word\n",
    "\n",
    "# Print the shortest word in the string\n",
    "print(f\"'{short_word}' is the shortest word in the string.\")"
   ]
  },
  {
   "cell_type": "markdown",
   "metadata": {},
   "source": [
    "- Take string input from user using input() function and store it in string variable.\n",
    "- Convert the string into list of words using .split() method. Store the list in word_list variable.\n",
    "- Initialize length variable with a large value and short_word variable with None.\n",
    "- Iterate through the word_list using for loop. Then, If the length of word (calculate using len() function) is smaller than length, then length variable modified into new length of the word. The word store in short_word variable.\n",
    "- Finally, Print short_word as shortest word."
   ]
  },
  {
   "cell_type": "markdown",
   "metadata": {},
   "source": [
    "### 22. Reverse the order of words in a string."
   ]
  },
  {
   "cell_type": "code",
   "execution_count": 44,
   "metadata": {},
   "outputs": [
    {
     "name": "stdout",
     "output_type": "stream",
     "text": [
      "After reversing the order of words:\n",
      "Das Rajdip is name My\n"
     ]
    }
   ],
   "source": [
    "# Taking input a string from user\n",
    "string = input(\"Enter a string: \")\n",
    "\n",
    "# Convert the stirng into list of words\n",
    "word_list = string.split()\n",
    "\n",
    "# Reverse the list of words\n",
    "rev_list = word_list[::-1]\n",
    "\n",
    "# Join every words in the list\n",
    "rev_string = ' '.join(rev_list)\n",
    "\n",
    "# Print the reverse order of words\n",
    "print(f\"After reversing the order of words:\\n{rev_string}\")"
   ]
  },
  {
   "cell_type": "markdown",
   "metadata": {},
   "source": [
    "- Take string input from user using input() function and store it in string variable.\n",
    "- Convert the string into list of words using .split() method. Store the list in word_list variable.\n",
    "- Reverse the list of words using slicing method. Store it in rev_list variable.\n",
    "- Join the list using .join() method followed by a space and pass it rev_list as parameter. After joining store it in rev_string variable.\n",
    "- Finally, print the rev_string."
   ]
  },
  {
   "cell_type": "markdown",
   "metadata": {},
   "source": [
    "### 23. Check if a string is alphanumeric"
   ]
  },
  {
   "cell_type": "code",
   "execution_count": 46,
   "metadata": {},
   "outputs": [
    {
     "name": "stdout",
     "output_type": "stream",
     "text": [
      "The string is alpha-numeric.\n"
     ]
    }
   ],
   "source": [
    "# Taking input a string from user\n",
    "string = input(\"Enter a string: \")\n",
    "\n",
    "# Check if the string is alphanumeric or not\n",
    "result = string.isalnum()\n",
    "\n",
    "# Print the result\n",
    "if result:\n",
    "    print(\"The string is alpha-numeric.\")\n",
    "else:\n",
    "    print(\"The string is not an alpha-numeric.\")"
   ]
  },
  {
   "cell_type": "markdown",
   "metadata": {},
   "source": [
    "- Take string input from user using input() function. Store it in string variable.\n",
    "- Check is the string contains alphabets and numeric values or not using .isalnum() method which returns boolean values. Store it in result variable.\n",
    "- Check if the result True, then print the string is alpha-numeric else print the string is not an alpha-numeric."
   ]
  },
  {
   "cell_type": "markdown",
   "metadata": {},
   "source": [
    "### 24. Extract all digits from a string."
   ]
  },
  {
   "cell_type": "code",
   "execution_count": 47,
   "metadata": {},
   "outputs": [
    {
     "name": "stdout",
     "output_type": "stream",
     "text": [
      "Extracted digits: 2021\n"
     ]
    }
   ],
   "source": [
    "# Taking input a string from user\n",
    "string = input(\"Enter a string: \")\n",
    "\n",
    "# Initialize a digit variable with empty string\n",
    "digit = \"\"\n",
    "\n",
    "# Iterate through every character in string and check if the string is numeric or not\n",
    "for char in string:\n",
    "    if char.isnumeric():\n",
    "        digit += char       # If the character numeric then append the character in digit\n",
    "\n",
    "# Print the digit\n",
    "print(\"Extracted digits:\", digit)"
   ]
  },
  {
   "cell_type": "markdown",
   "metadata": {},
   "source": [
    "- Take string input from user using input() function. Store it in string variable.\n",
    "- Initialize a digit variable with empty string which will append all numeric values later on.\n",
    "- Iterate through every character in string.\n",
    "- check is the character numeric or not using .isnumeric() method.\n",
    "- If the condition satisfied then append the character in digit variable.\n",
    "- Finally, Print the extracted digits."
   ]
  },
  {
   "cell_type": "markdown",
   "metadata": {},
   "source": [
    "### 25. Extract all alphabets from a string."
   ]
  },
  {
   "cell_type": "code",
   "execution_count": 49,
   "metadata": {},
   "outputs": [
    {
     "name": "stdout",
     "output_type": "stream",
     "text": [
      "Extracted alphabets: RajdipDas\n"
     ]
    }
   ],
   "source": [
    "# Taking input a string from user\n",
    "string = input(\"Enter a string: \")\n",
    "\n",
    "# Initialize a alpha variable with empty string\n",
    "alpha = \"\"\n",
    "\n",
    "# Iterate through every character in string and check if the string is alphabet or not\n",
    "for char in string:\n",
    "    if char.isalpha():\n",
    "        alpha += char       # If the character alphabet then append the character in alpha\n",
    "\n",
    "# Print the alpha\n",
    "print(\"Extracted alphabets:\", alpha)"
   ]
  },
  {
   "cell_type": "markdown",
   "metadata": {},
   "source": [
    "- Take string input from user using input() function and store it in string variable.\n",
    "- Initialize a alpha variable with empty string.\n",
    "- Iterate through every character in the string.\n",
    "- check is the character alphabet or not using .isalpha() method.\n",
    "- If the condition satisfied then append the character in alpha variable.\n",
    "- Finally, print the extracted alphabets."
   ]
  },
  {
   "cell_type": "markdown",
   "metadata": {},
   "source": [
    "### 26. Count the number of uppercase letters in a string."
   ]
  },
  {
   "cell_type": "code",
   "execution_count": 50,
   "metadata": {},
   "outputs": [
    {
     "name": "stdout",
     "output_type": "stream",
     "text": [
      "Total number of uppercase character: 3\n"
     ]
    }
   ],
   "source": [
    "# Taking input a string from user\n",
    "string = input(\"Enter a string: \")\n",
    "\n",
    "# Initialize a count variable with 0\n",
    "count = 0\n",
    "\n",
    "# Iterate through every character in string and check if the string is uppercase or not\n",
    "for char in string:\n",
    "    if char.isupper():\n",
    "        count += 1       # If the character uppercase then increase count by 1\n",
    "\n",
    "# Print the total count\n",
    "print(\"Total number of uppercase character:\", count)"
   ]
  },
  {
   "cell_type": "markdown",
   "metadata": {},
   "source": [
    "- Take string input from user using input() function and store it in string variable.\n",
    "- Initialize a count variable with 0.\n",
    "- Iterate through every character in the string.\n",
    "- check is the character in upper case or not using .isupper() method.\n",
    "- If the condition satisfied then increase count variable by 1.\n",
    "- finally, print the total number of upper case character."
   ]
  },
  {
   "cell_type": "markdown",
   "metadata": {},
   "source": [
    "### 27. Count the number of lowercase letters in a string."
   ]
  },
  {
   "cell_type": "code",
   "execution_count": 51,
   "metadata": {},
   "outputs": [
    {
     "name": "stdout",
     "output_type": "stream",
     "text": [
      "Total number of lowercase character: 7\n"
     ]
    }
   ],
   "source": [
    "# Taking input a string from user\n",
    "string = input(\"Enter a string: \")\n",
    "\n",
    "# Initialize a count variable with 0\n",
    "count = 0\n",
    "\n",
    "# Iterate through every character in string and check if the string is lowercase or not\n",
    "for char in string:\n",
    "    if char.islower():\n",
    "        count += 1       # If the character lowercase then increase count by 1\n",
    "\n",
    "# Print the total count\n",
    "print(\"Total number of lowercase character:\", count)"
   ]
  },
  {
   "cell_type": "markdown",
   "metadata": {},
   "source": [
    "- Take string input from user using input() function and store it in string variable.\n",
    "- Initialize count variable with 0.\n",
    "- Interate through every character in string.\n",
    "- check if the character is lower case or not using .islower() method.\n",
    "- If the condition satisfied then increase count variable by 1.\n",
    "- Finally, print the total number of lower case character."
   ]
  },
  {
   "cell_type": "markdown",
   "metadata": {},
   "source": [
    "### 28. Swap the case of each character in a string."
   ]
  },
  {
   "cell_type": "code",
   "execution_count": 54,
   "metadata": {},
   "outputs": [
    {
     "name": "stdout",
     "output_type": "stream",
     "text": [
      "Modified string: rAJDIP dAS\n"
     ]
    }
   ],
   "source": [
    "# Taking input a string from user\n",
    "string = input(\"Enter a string: \")\n",
    "\n",
    "# Initialize a string2 variable as empty string\n",
    "string2 = \"\"\n",
    "\n",
    "# Iterate through every character in string and check if the string is uppercase or not\n",
    "for i in range(len(string)):\n",
    "    if string[i].isupper():\n",
    "        string2 += string[i].lower()        # If uppercase then convert it in lowercase\n",
    "    else:\n",
    "        string2 += string[i].upper()        # else convert it in uppercase\n",
    "\n",
    "# Print the modified string\n",
    "print(\"Modified string:\", string2)"
   ]
  },
  {
   "cell_type": "markdown",
   "metadata": {},
   "source": [
    "- Take string input from user using input() function and store it in string variable.\n",
    "- Initialize string2 variable with empty string.\n",
    "- Iterate through length (which can calculate using len() function) of the string.\n",
    "- If string at i'th position is uppuer case (check using .isupper() method) then convert it in lower case (using .lower() method) and append it in string2 variable. else convert the string in upper case (using .upper() method) and append it in string2 variable.\n",
    "- Finally, print the modified string."
   ]
  },
  {
   "cell_type": "markdown",
   "metadata": {},
   "source": [
    "### 29. Remove a specific word from a string."
   ]
  },
  {
   "cell_type": "code",
   "execution_count": 61,
   "metadata": {},
   "outputs": [
    {
     "name": "stdout",
     "output_type": "stream",
     "text": [
      "String after deleting the word:\n",
      "my name raj\n"
     ]
    }
   ],
   "source": [
    "# Taking input a string from user\n",
    "string = input(\"Enter a string: \")\n",
    "\n",
    "# Take input a word which will be deleted\n",
    "word = input(\"Enter the word to be deleted: \")\n",
    "\n",
    "# Make the string to list of words\n",
    "word_list = string.split()\n",
    "\n",
    "# Initialize new_word_list as empty list\n",
    "new_word_list = []\n",
    "\n",
    "# Iterate through every word in the list\n",
    "for i in range(len(word_list)):\n",
    "    if word_list[i] != word:        # If word is not same as given word\n",
    "        new_word_list.append(word_list[i])      # append the word in a new list\n",
    "\n",
    "# join every word in the new list\n",
    "new_string = ' '.join(new_word_list)\n",
    "\n",
    "# Print the string after deleting the word\n",
    "print(f\"String after deleting the word:\\n{new_string}\")"
   ]
  },
  {
   "cell_type": "markdown",
   "metadata": {},
   "source": [
    "- Take string input from user using input() function and store it in string variable.\n",
    "- Take a word as input from user using input() function and store it in word variable.\n",
    "- Make a list of words from the string using .split() method and store it in word_list variable.\n",
    "- Initialize a new_word_list variable with empty string.\n",
    "- Iterate through length (which can calculate using len() function) of the string.\n",
    "- If word in i'th positon from the list is not equal to the word then append the word in new_word_list using .append() method by passing it word in i'th positon as parameter.\n",
    "- Then join the words in new_word_list using .join() method followed by a space and pass it the new_word_list as parameter. Store it in new_string variable.\n",
    "- Finally, print the new_string after deleting the word."
   ]
  },
  {
   "cell_type": "markdown",
   "metadata": {},
   "source": [
    "### 30. Check if a string is a valid email address."
   ]
  },
  {
   "cell_type": "code",
   "execution_count": 63,
   "metadata": {},
   "outputs": [
    {
     "name": "stdout",
     "output_type": "stream",
     "text": [
      "Valid mail.\n"
     ]
    }
   ],
   "source": [
    "import re\n",
    "\n",
    "# Taking input a email address from user\n",
    "email = input(\"Enter a email address: \")\n",
    "\n",
    "# Make a validation rule\n",
    "rule = r'^[A-Za-z0-9._%+-]+@[A-Za-z0-9.-]+\\.[A-Z|a-z]{2,7}'\n",
    "\n",
    "# Validate the mail using the rule\n",
    "if re.match(rule,email):\n",
    "    print(\"Valid email.\")\n",
    "else:\n",
    "    print(\"Invalid email.\")"
   ]
  },
  {
   "cell_type": "markdown",
   "metadata": {},
   "source": [
    "- Import re package in my code.\n",
    "- Take a email id as input from user using input() function and store it in email variable.\n",
    "- Make a regular expression for validate the email. Store it in rule variable.\n",
    "- Validate the mail using re.match() function and pass it the rule and the email.\n",
    "- If the validation returns True then, print this is a valid mail, else print this is a invalid mail."
   ]
  },
  {
   "cell_type": "markdown",
   "metadata": {},
   "source": [
    "### 31. Extract the username from an email address string."
   ]
  },
  {
   "cell_type": "code",
   "execution_count": 66,
   "metadata": {},
   "outputs": [
    {
     "name": "stdout",
     "output_type": "stream",
     "text": [
      "The username is: rajdip\n"
     ]
    }
   ],
   "source": [
    "# Taking input a email address from user\n",
    "email = input(\"Enter a email address: \")\n",
    "\n",
    "# Split the email and take its 1st part\n",
    "username = email.split('@')[0]\n",
    "\n",
    "# Print the answer\n",
    "print(\"The username is:\", username)"
   ]
  },
  {
   "cell_type": "markdown",
   "metadata": {},
   "source": [
    "- Take a url as input from user using input() function and store it in email variable.\n",
    "- Split the email using .split() method and pass it '@' as parameter. Then take the word at index 0. Store it in username variable.\n",
    "- Finally, print the username."
   ]
  },
  {
   "cell_type": "markdown",
   "metadata": {},
   "source": [
    "### 32. Extract the domain name from an email address string."
   ]
  },
  {
   "cell_type": "code",
   "execution_count": 67,
   "metadata": {},
   "outputs": [
    {
     "name": "stdout",
     "output_type": "stream",
     "text": [
      "The domain name is: gmail.com\n"
     ]
    }
   ],
   "source": [
    "# Taking input a email address from user\n",
    "email = input(\"Enter a email address: \")\n",
    "\n",
    "# Split the email and take its 2nd part\n",
    "domain_name = email.split('@')[1]\n",
    "\n",
    "# Print the answer\n",
    "print(\"The domain name is:\", domain_name)"
   ]
  },
  {
   "cell_type": "markdown",
   "metadata": {},
   "source": [
    "- Take a url as input from user using input() function and store it in email variable.\n",
    "- Split the email using .split() method and pass it '@' as parameter. Then take the word at index 1. Store it in domain_name variable.\n",
    "- Finally, print the domain name."
   ]
  },
  {
   "cell_type": "markdown",
   "metadata": {},
   "source": [
    "### 33. Replace multiple spaces in a string with a single space."
   ]
  },
  {
   "cell_type": "code",
   "execution_count": 69,
   "metadata": {},
   "outputs": [
    {
     "name": "stdout",
     "output_type": "stream",
     "text": [
      "After cleaning the spaces:\n",
      "My name is Raj\n"
     ]
    }
   ],
   "source": [
    "# Taking input a string from user\n",
    "string = input(\"Enter a string with multiple spaces: \")\n",
    "\n",
    "# convert multiple spaces into single space\n",
    "new_string = ' '.join(string.split())\n",
    "\n",
    "# Print the answer\n",
    "print(f\"After cleaning the spaces:\\n{new_string}\")"
   ]
  },
  {
   "cell_type": "markdown",
   "metadata": {},
   "source": [
    "- Take string input with multiple spaces from user using input() function and store it in string variable.\n",
    "- Split the string using .split() method then pass it as parameter in .join() method which followed by a space. Which will join the splited words. Then store it in new_string variable.\n",
    "- Finally, Print the new string after cleaning the spaces."
   ]
  },
  {
   "cell_type": "markdown",
   "metadata": {},
   "source": [
    "### 34. Check if a string is a valid URL."
   ]
  },
  {
   "cell_type": "code",
   "execution_count": 70,
   "metadata": {},
   "outputs": [
    {
     "name": "stdout",
     "output_type": "stream",
     "text": [
      "The url is valid.\n"
     ]
    }
   ],
   "source": [
    "# Taking input a url from user\n",
    "string = input(\"Enter a url: \")\n",
    "\n",
    "# Check if the url valid or not and print\n",
    "if string.startswith(\"http://\") or string.startswith(\"https://\"):\n",
    "    print(\"The url is valid.\")\n",
    "else:\n",
    "    print(\"The url is invalid.\")"
   ]
  },
  {
   "cell_type": "markdown",
   "metadata": {},
   "source": [
    "- Take url input from user using input() function and store it in string variable.\n",
    "- Check if the string starts with 'https://' and 'http://' or not using .startswith() method.\n",
    "    - If yes, then print the url is valid.\n",
    "    - else, print the url is invalid."
   ]
  },
  {
   "cell_type": "markdown",
   "metadata": {},
   "source": [
    "### 35. Extract the protocol (http or https) from a URL string."
   ]
  },
  {
   "cell_type": "code",
   "execution_count": 71,
   "metadata": {},
   "outputs": [
    {
     "name": "stdout",
     "output_type": "stream",
     "text": [
      "The protocol is: https\n"
     ]
    }
   ],
   "source": [
    "# Taking input a url from user\n",
    "string = input(\"Enter a url: \")\n",
    "\n",
    "# Extract the protocol\n",
    "protocol = string.split(\":\")[0]\n",
    "\n",
    "# Print the protocol\n",
    "print(\"The protocol is:\", protocol)"
   ]
  },
  {
   "cell_type": "markdown",
   "metadata": {},
   "source": [
    "- Take url input from user using input() function and store it in string variable.\n",
    "- Split the string using .split() method by passing it \":\" as parameter then extract the 0'th index word. Store it in protocol variable.\n",
    "- Finally, print the protocol name."
   ]
  },
  {
   "cell_type": "markdown",
   "metadata": {},
   "source": [
    "### 36. Find the frequency of each character in a string."
   ]
  },
  {
   "cell_type": "code",
   "execution_count": null,
   "metadata": {},
   "outputs": [],
   "source": []
  }
 ],
 "metadata": {
  "kernelspec": {
   "display_name": "Python 3 (ipykernel)",
   "language": "python",
   "name": "python3"
  },
  "language_info": {
   "codemirror_mode": {
    "name": "ipython",
    "version": 3
   },
   "file_extension": ".py",
   "mimetype": "text/x-python",
   "name": "python",
   "nbconvert_exporter": "python",
   "pygments_lexer": "ipython3",
   "version": "3.9.16"
  }
 },
 "nbformat": 4,
 "nbformat_minor": 2
}
