{
 "cells": [
  {
   "cell_type": "markdown",
   "metadata": {},
   "source": [
    "### Q.1 Can you explain the logic and working of the Tower of Hanoi algorithm by writing a Python program? How does the recursion work, and how are the movements of disks between rods accomplished?"
   ]
  },
  {
   "cell_type": "code",
   "execution_count": 9,
   "metadata": {},
   "outputs": [
    {
     "name": "stdout",
     "output_type": "stream",
     "text": [
      "Move disk 1 from A to C\n",
      "Move disk 2 from A to B\n",
      "Move disk 1 from C to B\n",
      "Move disk 3 from A to C\n",
      "Move disk 1 from B to A\n",
      "Move disk 2 from B to C\n",
      "Move disk 1 from A to C\n"
     ]
    }
   ],
   "source": [
    "# Function definition\n",
    "def tower_of_hanoi(n, source, auxiliary, destination):\n",
    "    if n == 1:\n",
    "        print(f\"Move disk 1 from {source} to {destination}\")\n",
    "        return\n",
    "\n",
    "    tower_of_hanoi(n - 1, source, destination, auxiliary)\n",
    "    print(f\"Move disk {n} from {source} to {destination}\")\n",
    "    tower_of_hanoi(n - 1, auxiliary, source, destination)\n",
    "\n",
    "\n",
    "## Driver code\n",
    "n = 3\n",
    "tower_of_hanoi(n, 'A', 'B', 'C')\n",
    "\n",
    "\n",
    "## Time Complexity: O(2^n)\n",
    "## Space Complexity: O(n)"
   ]
  },
  {
   "cell_type": "markdown",
   "metadata": {},
   "source": [
    "- The `tower_of_hanoi` function performs the Tower of Hanoi algorithm recursively-\n",
    "    - Takes an integer `n` representing the number of disks.\n",
    "    - Takes three string parameters `source`, `auxiliary`, and `destination` representing the names of the rods.\n",
    "    - Prints the sequence of moves to solve the Tower of Hanoi problem for the given number of disks.\n",
    "- In the driver code-\n",
    "    - Takes disk count `n`.\n",
    "    - Calls the `tower_of_hanoi` function with the disk number as an argument."
   ]
  },
  {
   "cell_type": "markdown",
   "metadata": {},
   "source": [
    "### Q.2 Given two strings word1 and word2, return the minimum number of operations required to convert word1 to word2.\n",
    "\n",
    "<br>\n",
    "\n",
    "**Example 1:**\n",
    ">**Input:** word1 = \"horse\", word2 = \"ros\"<br>\n",
    ">**Output:** 3<br>\n",
    ">**Explanation:**<br>\n",
    ">horse -> rorse (replace 'h' with 'r')<br>\n",
    ">rorse -> rose (remove 'r')<br>\n",
    ">rose -> ros (remove 'e')\n",
    "\n",
    "**Example 2:**\n",
    ">**Input:** word1 = \"intention\", word2 = \"execution\"<br>\n",
    ">**Output:** 5<br>\n",
    ">**Explanation:**<br>\n",
    ">intention -> inention (remove 't')<br>\n",
    ">inention -> enention (replace 'i' with 'e')<br>\n",
    ">enention -> exention (replace 'n' with 'x')<br>\n",
    ">exention -> exection (replace 'n' with 'c')<br>\n",
    ">exection -> execution (insert 'u')"
   ]
  },
  {
   "cell_type": "code",
   "execution_count": 11,
   "metadata": {},
   "outputs": [
    {
     "name": "stdout",
     "output_type": "stream",
     "text": [
      "5\n"
     ]
    }
   ],
   "source": [
    "# Function definition\n",
    "def MinimumOperation(word1, word2):\n",
    "    \n",
    "    if not word1:\n",
    "        return len(word2)\n",
    "    elif not word2:\n",
    "        return len(word1)\n",
    "    \n",
    "    if word1[0] == word2[0]:\n",
    "        return MinimumOperation(word1[1:], word2[1:])\n",
    "    else:\n",
    "        insert_op = 1 + MinimumOperation(word1, word2[1:])\n",
    "        delete_op = 1 + MinimumOperation(word1[1:], word2)\n",
    "        replace_op = 1 + MinimumOperation(word1[1:], word2[1:])\n",
    "        return min(insert_op, delete_op, replace_op)\n",
    "\n",
    "\n",
    "## Driver code\n",
    "word1 = \"intention\"\n",
    "word2 = \"execution\"\n",
    "result = MinimumOperation(word1, word2)\n",
    "print(result)\n",
    "\n",
    "\n",
    "## Time Complexity: O(3^n)\n",
    "## Space Complexity: O(n)"
   ]
  },
  {
   "cell_type": "markdown",
   "metadata": {},
   "source": [
    "- The `MinimumOperation` function calculates the minimum number of operations required to convert one string to another.\n",
    "    - Takes two string parameters `word1` and `word2`.\n",
    "    - Uses recursive calls to find the minimum operations based on insert, delete, or replace operations.\n",
    "    - Returns the minimum number of operations needed.\n",
    "- In driver code-\n",
    "    - Take two example words `word1` and `word2`.\n",
    "    - The `MinimumOperation` function is called with two strings, `word1` and `word2`.\n",
    "    - Calculates and prints the minimum number of operations required to convert `word1` to `word2`."
   ]
  },
  {
   "cell_type": "markdown",
   "metadata": {},
   "source": [
    "### Q. 3 Print the max value of the array [ 13, 1, -3, 22, 5]."
   ]
  },
  {
   "cell_type": "code",
   "execution_count": 19,
   "metadata": {},
   "outputs": [
    {
     "name": "stdout",
     "output_type": "stream",
     "text": [
      "22\n"
     ]
    }
   ],
   "source": [
    "# Function definition\n",
    "def FindMax(arr):\n",
    "    if len(arr) == 1:\n",
    "        return arr[0]\n",
    "    \n",
    "    return max(arr[0], FindMax(arr[1:]))\n",
    "\n",
    "\n",
    "## Driver code\n",
    "arr = [13, 1, -3, 22, 5]\n",
    "result = FindMax(arr)\n",
    "print(result)\n",
    "\n",
    "\n",
    "## Time complexity: O(n)\n",
    "## Space complexity: O(n)"
   ]
  },
  {
   "cell_type": "markdown",
   "metadata": {},
   "source": [
    "- The `FindMax` function finds the maximum value in an array using recursion.\n",
    "    - Takes an array `arr` as a parameter.\n",
    "    - Uses recursive calls to find the maximum value by comparing elements.\n",
    "    - Returns the maximum value in the array.\n",
    "- In the driver code-\n",
    "    - Create an example array `arr`.\n",
    "    - The `FindMax` function is called with an array `arr`.\n",
    "    - Calculates and prints the maximum value in the array using recursion."
   ]
  },
  {
   "cell_type": "markdown",
   "metadata": {},
   "source": [
    "### Q.4 Find the sum of the values of the array [92, 23, 15, -20, 10]."
   ]
  },
  {
   "cell_type": "code",
   "execution_count": 22,
   "metadata": {},
   "outputs": [
    {
     "name": "stdout",
     "output_type": "stream",
     "text": [
      "120\n"
     ]
    }
   ],
   "source": [
    "# Function definition\n",
    "def FindSum(arr):\n",
    "    if not arr:\n",
    "        return 0\n",
    "    else:\n",
    "        return arr[0] + FindSum(arr[1:])\n",
    "\n",
    "\n",
    "## Driver code\n",
    "arr = [92, 23, 15, -20, 10]\n",
    "result = FindSum(arr)\n",
    "print(result)\n",
    "\n",
    "\n",
    "## Time complexity: O(n)\n",
    "## Space complexity: O(n)"
   ]
  },
  {
   "cell_type": "markdown",
   "metadata": {},
   "source": [
    "- Make a recursive function `FindSum()` to calculate sum of all elements in a list.\n",
    "- Make an example list and store the list in lst variable.\n",
    "- Call the function by passing the list and calculate the sum of the numbers in the list. Store the result in result variable.\n",
    "- Finally, print the sum of all elements in the list."
   ]
  },
  {
   "cell_type": "markdown",
   "metadata": {},
   "source": [
    "### Q.5 Given a number n. Print if it is an armstrong number or not. An armstrong number is a number if the sum of every digit in that number raised to the power of total digits in that number is equal to the number.\n",
    "\n",
    "<br>\n",
    "\n",
    "**Example :**\n",
    ">153 = 1^3 + 5^3 + 3^3 = 1 + 125 + 27 = 153 hence 153 is an armstrng number. (Easy)<br>\n",
    ">**Inpt1 :** 153<br>\n",
    ">**Output1 :** Yes<br>\n",
    ">**Input2 :** 134<br>\n",
    ">**Output2 :** No<br>"
   ]
  },
  {
   "cell_type": "code",
   "execution_count": 38,
   "metadata": {},
   "outputs": [
    {
     "name": "stdout",
     "output_type": "stream",
     "text": [
      "Yes\n"
     ]
    }
   ],
   "source": [
    "# Function definition\n",
    "def Armstrong(num):\n",
    "    def is_armstrong(n, original_n, total_digits):\n",
    "        if n == 0:\n",
    "            return 0\n",
    "        return (n % 10) ** total_digits + is_armstrong(n // 10, original_n, total_digits)\n",
    "\n",
    "\n",
    "    def count_digits(n):\n",
    "        if n == 0:\n",
    "            return 0\n",
    "        return 1 + count_digits(n // 10)\n",
    "    \n",
    "\n",
    "    total_digits = count_digits(num)\n",
    "\n",
    "    if num == is_armstrong(num, num, total_digits):\n",
    "        return 'Yes'\n",
    "    else:\n",
    "        return 'No'\n",
    "\n",
    "\n",
    "\n",
    "## Driver code\n",
    "num = 153\n",
    "result = Armstrong(num)\n",
    "print(result)\n",
    "\n",
    "\n",
    "## Time Complexity: O(log n)\n",
    "## Space Complexity: O(log n)"
   ]
  },
  {
   "cell_type": "markdown",
   "metadata": {},
   "source": [
    "- The `Armstrong` function checks whether a given number is an Armstrong number or not.\n",
    "    - Takes an integer `num` as a parameter.\n",
    "    - Uses recursive functions to calculate the sum of each digit raised to the power of the total number of digits.\n",
    "    - Compares the result with the original number to determine if it's an Armstrong number.\n",
    "    - Returns 'Yes' if it's an Armstrong number, otherwise 'No'.\n",
    "\n",
    "- In the driver code-\n",
    "    - The `Armstrong` function is called with an integer `num`.\n",
    "    - Checks and prints whether the number is an Armstrong number or not."
   ]
  },
  {
   "cell_type": "code",
   "execution_count": null,
   "metadata": {},
   "outputs": [],
   "source": []
  }
 ],
 "metadata": {
  "kernelspec": {
   "display_name": "base",
   "language": "python",
   "name": "python3"
  },
  "language_info": {
   "codemirror_mode": {
    "name": "ipython",
    "version": 3
   },
   "file_extension": ".py",
   "mimetype": "text/x-python",
   "name": "python",
   "nbconvert_exporter": "python",
   "pygments_lexer": "ipython3",
   "version": "3.9.16"
  }
 },
 "nbformat": 4,
 "nbformat_minor": 2
}
