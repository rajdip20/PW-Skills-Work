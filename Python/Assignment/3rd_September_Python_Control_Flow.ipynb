{
 "cells": [
  {
   "cell_type": "markdown",
   "metadata": {},
   "source": [
    "# Basic If-Else Statements:"
   ]
  },
  {
   "cell_type": "markdown",
   "metadata": {},
   "source": [
    "### 1. Write a Python program to check if a given number is positive or negative."
   ]
  },
  {
   "cell_type": "code",
   "execution_count": 1,
   "metadata": {},
   "outputs": [
    {
     "name": "stdout",
     "output_type": "stream",
     "text": [
      "The number is positive.\n"
     ]
    }
   ],
   "source": [
    "# Take an example value\n",
    "value = 23\n",
    "\n",
    "# Check is the value positive or negative\n",
    "if value >=0:\n",
    "    print(\"The number is positive.\")\n",
    "else:\n",
    "    print(\"The number is negative.\")"
   ]
  },
  {
   "cell_type": "markdown",
   "metadata": {},
   "source": [
    "- Take an example number and store it in value variable.\n",
    "- Check is the value greater than equal to 0 or not\n",
    "    - If yes, then print the number is positive.\n",
    "    - else, print the number is negative."
   ]
  },
  {
   "cell_type": "markdown",
   "metadata": {},
   "source": [
    "### 2. Create a program that determines if a person is eligible to vote based on their age."
   ]
  },
  {
   "cell_type": "code",
   "execution_count": 2,
   "metadata": {},
   "outputs": [
    {
     "name": "stdout",
     "output_type": "stream",
     "text": [
      "You are eligible to give vote.\n"
     ]
    }
   ],
   "source": [
    "# Take an example age\n",
    "age = 18\n",
    "\n",
    "# Check is the age greater than qual to 18 or not\n",
    "if age >= 18:\n",
    "    print(\"You are eligible to give vote.\")\n",
    "else:\n",
    "    print(\"You are not eligible to give vote.\")"
   ]
  },
  {
   "cell_type": "markdown",
   "metadata": {},
   "source": [
    "- Take an example age and store it in age variable.\n",
    "- Check is the age greater than or equal to 18 or not\n",
    "    - If yes, then print the person is eligible to vote.\n",
    "    - else, print the person is not eligible to vote."
   ]
  },
  {
   "cell_type": "markdown",
   "metadata": {},
   "source": [
    "### 3. Develop a program to find the maximum of two numbers using if-else statements."
   ]
  },
  {
   "cell_type": "code",
   "execution_count": 3,
   "metadata": {},
   "outputs": [
    {
     "name": "stdout",
     "output_type": "stream",
     "text": [
      "22 is greater than 12.\n"
     ]
    }
   ],
   "source": [
    "# Take two example number\n",
    "num1 = 12\n",
    "num2 = 22\n",
    "\n",
    "# Check which number is maximum\n",
    "if num1 > num2:\n",
    "    print(f\"{num1} is greater than {num2}.\")\n",
    "else:\n",
    "    print(f\"{num2} is greater than {num1}.\")"
   ]
  },
  {
   "cell_type": "markdown",
   "metadata": {},
   "source": [
    "- Take two example number and store them in num1 and num2 variable.\n",
    "- Check is num1 greater than num2 or not\n",
    "    - If yes, then print num1 is greater than num2.\n",
    "    - else, print num2 is greater than num1."
   ]
  },
  {
   "cell_type": "markdown",
   "metadata": {},
   "source": [
    "### 4. Write a Python script to classify a given year as a leap year or not."
   ]
  },
  {
   "cell_type": "code",
   "execution_count": 4,
   "metadata": {},
   "outputs": [
    {
     "name": "stdout",
     "output_type": "stream",
     "text": [
      "2001 is not a leap year.\n"
     ]
    }
   ],
   "source": [
    "# Take an example year\n",
    "year = 2001\n",
    "\n",
    "# Check is the year leap year or not\n",
    "if year % 400 == 0 or (year % 4 == 0 and year % 100 != 0):\n",
    "    print(f\"{year} is a leap year.\")\n",
    "else:\n",
    "    print(f\"{year} is not a leap year.\")"
   ]
  },
  {
   "cell_type": "markdown",
   "metadata": {},
   "source": [
    "- Take an example year and store it in year variable.\n",
    "- Check whether the year leap year or not\n",
    "    - If yes, then print the year is a leap year.\n",
    "    - else, print the year is not a leap year."
   ]
  },
  {
   "cell_type": "markdown",
   "metadata": {},
   "source": [
    "### 5. Create a program that checks whether a character is a vowel or a consonant."
   ]
  },
  {
   "cell_type": "code",
   "execution_count": 5,
   "metadata": {},
   "outputs": [
    {
     "name": "stdout",
     "output_type": "stream",
     "text": [
      "The character is a vowel.\n"
     ]
    }
   ],
   "source": [
    "# Take an example character\n",
    "character = 'u'\n",
    "\n",
    "# Check is the character vowel or not\n",
    "if character in 'aeiou':\n",
    "    print(\"The character is a vowel.\")\n",
    "else:\n",
    "    print(\"The character is a consonant.\")"
   ]
  },
  {
   "cell_type": "markdown",
   "metadata": {},
   "source": [
    "- Take an example character and store it in character variable.\n",
    "- Check whether the character is vowel or not\n",
    "    - If yes, then print the character is a vowel.\n",
    "    - else, print the character is a consonant."
   ]
  },
  {
   "cell_type": "markdown",
   "metadata": {},
   "source": [
    "### 6. Implement a program to determine whether a given number is even or odd."
   ]
  },
  {
   "cell_type": "code",
   "execution_count": 6,
   "metadata": {},
   "outputs": [
    {
     "name": "stdout",
     "output_type": "stream",
     "text": [
      "23 is odd number.\n"
     ]
    }
   ],
   "source": [
    "# Take an example number\n",
    "num = 23\n",
    "\n",
    "# Check is the number even or odd\n",
    "if num % 2 == 0:\n",
    "    print(f\"{num} is even number.\")\n",
    "else:\n",
    "    print(f\"{num} is odd number.\")"
   ]
  },
  {
   "cell_type": "markdown",
   "metadata": {},
   "source": [
    "- Take an example number and store it in num variable.\n",
    "- Check is the number modulo divide by 2 equal to 0 or not\n",
    "    - If yes, then print the number is even.\n",
    "    - else, print the number is odd."
   ]
  },
  {
   "cell_type": "markdown",
   "metadata": {},
   "source": [
    "### 7. Write a Python function to calculate the absolute value of a number without using the `abs()` function."
   ]
  },
  {
   "cell_type": "code",
   "execution_count": 7,
   "metadata": {},
   "outputs": [
    {
     "name": "stdout",
     "output_type": "stream",
     "text": [
      "The absolute value: 12\n"
     ]
    }
   ],
   "source": [
    "# Take an example number\n",
    "num = -12\n",
    "\n",
    "# Calculate the absolute value of the number\n",
    "if num < 0:\n",
    "    num = -num\n",
    "\n",
    "# Print the absolute value\n",
    "print(\"The absolute value:\", num)"
   ]
  },
  {
   "cell_type": "markdown",
   "metadata": {},
   "source": [
    "- Take an example number and store it in num variable.\n",
    "- If the number smaller than 0, then change the number in positive number.\n",
    "- Finally, print the absolute number."
   ]
  },
  {
   "cell_type": "markdown",
   "metadata": {},
   "source": [
    "### 8. Develop a program that determines the largest of three given numbers using if-else statements."
   ]
  },
  {
   "cell_type": "code",
   "execution_count": 16,
   "metadata": {},
   "outputs": [
    {
     "name": "stdout",
     "output_type": "stream",
     "text": [
      "32 is maximum.\n"
     ]
    }
   ],
   "source": [
    "# Take three example number\n",
    "num1 = 25\n",
    "num2 = 32\n",
    "num3 = 15\n",
    "\n",
    "# Check which number is maximum\n",
    "if num1 > num2 and num1 > num3:\n",
    "    print(f\"{num1} is maximum.\")\n",
    "if num2 > num1 and num2 > num3:\n",
    "    print(f\"{num2} is maximum.\")\n",
    "if num3 > num1 and num3 > num2:\n",
    "    print(f\"{num3} is maximum.\")"
   ]
  },
  {
   "cell_type": "markdown",
   "metadata": {},
   "source": [
    "- Take three example number and store them in num1, num2 and num3 variable.\n",
    "- Check is num1 greater than num2 and num3 or not\n",
    "    - If yes, then print num1 is maximum.\n",
    "- Check is num2 greater than num1 and num3 or not\n",
    "    - If yes, then print num2 is maximum.\n",
    "- Check is num3 greater than num1 and num2 or not\n",
    "    - If yes, then print num3 is maximum."
   ]
  },
  {
   "cell_type": "markdown",
   "metadata": {},
   "source": [
    "### 9. Create a program that checks if a given string is a palindrome."
   ]
  },
  {
   "cell_type": "code",
   "execution_count": 9,
   "metadata": {},
   "outputs": [
    {
     "name": "stdout",
     "output_type": "stream",
     "text": [
      "The string is palindrome.\n"
     ]
    }
   ],
   "source": [
    "# Take an example string\n",
    "string = 'oppo'\n",
    "\n",
    "# Check is the string palindrome or not\n",
    "if string == string[::-1]:\n",
    "    print(\"The string is palindrome.\")\n",
    "else:\n",
    "    print(\"The string is not palindrome.\")"
   ]
  },
  {
   "cell_type": "markdown",
   "metadata": {},
   "source": [
    "- Take an example string and store it in string variable.\n",
    "- Check is the string palindrome or not\n",
    "    - If yes, then print the string is palindrome.\n",
    "    - else, print the string is not palindrome."
   ]
  },
  {
   "cell_type": "markdown",
   "metadata": {},
   "source": [
    "### 10. Write a Python program to calculate the grade based on a student's score."
   ]
  },
  {
   "cell_type": "code",
   "execution_count": 22,
   "metadata": {},
   "outputs": [
    {
     "name": "stdout",
     "output_type": "stream",
     "text": [
      "You got: A\n"
     ]
    }
   ],
   "source": [
    "# Take an example number\n",
    "score = 91\n",
    "\n",
    "# Take an empty string\n",
    "grade = \"\"\n",
    "\n",
    "# Check the grade\n",
    "if score < 60:\n",
    "    grade = \"F\"\n",
    "if score >= 60:\n",
    "    grade = \"D\"\n",
    "if score >= 70:\n",
    "    grade = \"C\"\n",
    "if score >= 80:\n",
    "    grade = \"B\"\n",
    "if score >= 90:\n",
    "    grade = \"A\"\n",
    "\n",
    "# Print the grade\n",
    "print(f\"You got: {grade}\")"
   ]
  },
  {
   "cell_type": "markdown",
   "metadata": {},
   "source": [
    "- Take an example number and store it in score variable.\n",
    "- Take grade variable as empty string.\n",
    "- Check the number and store an example grade(A, B, C, D, F) in grade variable.\n",
    "- Finally, print the grade."
   ]
  },
  {
   "cell_type": "markdown",
   "metadata": {},
   "source": [
    "# Nested If-Else Statements:"
   ]
  },
  {
   "cell_type": "markdown",
   "metadata": {},
   "source": [
    "### 11. Write a program to find the largest among three numbers using nested if-else statements."
   ]
  },
  {
   "cell_type": "code",
   "execution_count": 23,
   "metadata": {},
   "outputs": [
    {
     "name": "stdout",
     "output_type": "stream",
     "text": [
      "32 is maximum.\n"
     ]
    }
   ],
   "source": [
    "# Take three example number\n",
    "num1 = 25\n",
    "num2 = 32\n",
    "num3 = 15\n",
    "\n",
    "# Check which number is maximum\n",
    "if num1 > num2 and num1 > num3:\n",
    "    print(f\"{num1} is maximum.\")\n",
    "else:\n",
    "    if num2 > num1 and num2 > num3:\n",
    "        print(f\"{num2} is maximum.\")\n",
    "    else:\n",
    "        print(f\"{num3} is maximum.\")"
   ]
  },
  {
   "cell_type": "markdown",
   "metadata": {},
   "source": [
    "- Take three example number and store them in num1, num2 and num3 variable.\n",
    "- Check is num1 greater than num2 and num3 or not\n",
    "    - If yes, then print num1 is maximum.\n",
    "    - else, Check is num2 greater than num1 and num3 or not\n",
    "        - If yes, then print num2 is maximum.\n",
    "        - else, print num3 is maximum."
   ]
  },
  {
   "cell_type": "markdown",
   "metadata": {},
   "source": [
    "### 12. Implement a program to determine if a triangle is equilateral, isosceles, or scalene."
   ]
  },
  {
   "cell_type": "code",
   "execution_count": 24,
   "metadata": {},
   "outputs": [
    {
     "name": "stdout",
     "output_type": "stream",
     "text": [
      "The triangle is isosceles.\n"
     ]
    }
   ],
   "source": [
    "# Take three example side\n",
    "side1 = 12\n",
    "side2 = 26\n",
    "side3 = 12\n",
    "\n",
    "# Check the type of triangle\n",
    "if side1 == side2 == side3:\n",
    "    print(\"The triangle is equilateral.\")\n",
    "else:\n",
    "    if side1 == side2 or side2 == side3 or side3 == side1:\n",
    "        print(\"The triangle is isosceles.\")\n",
    "    else:\n",
    "        print(\"The triangle is scalene.\")"
   ]
  },
  {
   "cell_type": "markdown",
   "metadata": {},
   "source": [
    "- Take three example side and store the value in side1, side2 and side3 variable.\n",
    "- Check is side1, side2 and side3 equal or not\n",
    "    - If yes, then print the triangle is equilateral.\n",
    "    - else, Check is side1 and side2 or side2 and side3 or side3 and side1 equal or not\n",
    "        - If yes, then print the triangle is isosceles.\n",
    "        - else, print the triangle is scalene."
   ]
  },
  {
   "cell_type": "markdown",
   "metadata": {},
   "source": [
    "### 13. Develop a program that checks if a year is a leap year and also if it is a century year."
   ]
  },
  {
   "cell_type": "code",
   "execution_count": 37,
   "metadata": {},
   "outputs": [
    {
     "name": "stdout",
     "output_type": "stream",
     "text": [
      "2000 is a leap year and a century year.\n"
     ]
    }
   ],
   "source": [
    "# Take an example year\n",
    "year = 2000\n",
    "\n",
    "# Check is the year leap year or not\n",
    "if year % 400 == 0 or (year % 4 == 0 and year % 100 != 0):\n",
    "    if year % 100 == 0:\n",
    "        print(f\"{year} is a leap year and a century year.\")\n",
    "    else:\n",
    "        print(f\"{year} is a leap year.\")\n",
    "else:\n",
    "    if year % 100 == 0:\n",
    "        print(f\"{year} is not a leap year but a century year.\")\n",
    "    else:\n",
    "        print(f\"{year} is not a leap year.\")"
   ]
  },
  {
   "cell_type": "markdown",
   "metadata": {},
   "source": [
    "- Take an example year and store it in year variable.\n",
    "- Check whether the year leap year or not\n",
    "    - If yes, then check whether the year century year or not\n",
    "        - If yes, then print the year is a leap year and a century year.\n",
    "        - else, print the year is leap year.\n",
    "    - else, check whether the year century year or not\n",
    "        - If yes, then print the year is not a leap year but a century year.\n",
    "        - else, print the year is not a leap year."
   ]
  },
  {
   "cell_type": "markdown",
   "metadata": {},
   "source": [
    "### 14. Write a Python script to determine if a number is positive, negative, or zero."
   ]
  },
  {
   "cell_type": "code",
   "execution_count": 41,
   "metadata": {},
   "outputs": [
    {
     "name": "stdout",
     "output_type": "stream",
     "text": [
      "Positive.\n"
     ]
    }
   ],
   "source": [
    "# Take an example number\n",
    "num = 20\n",
    "\n",
    "# Check is the number positive, negative, ot zero\n",
    "if num == 0:\n",
    "    print(\"Zero.\")\n",
    "else:\n",
    "    if num > 0:\n",
    "        print(\"Positive.\")\n",
    "    else:\n",
    "        print(\"Negative.\")"
   ]
  },
  {
   "cell_type": "markdown",
   "metadata": {},
   "source": [
    "- Take an example number and store it in num variable.\n",
    "- Check is the number equal to 0 or not\n",
    "    - If yes, then print zero.\n",
    "    - else, Check is the number greater than 0 or not\n",
    "        - If yes, then print positive.\n",
    "        - else, print negative."
   ]
  },
  {
   "cell_type": "markdown",
   "metadata": {},
   "source": [
    "### 15. Create a program to check if a person is a teenager (between 13 and 19 years old)."
   ]
  },
  {
   "cell_type": "code",
   "execution_count": 42,
   "metadata": {},
   "outputs": [
    {
     "name": "stdout",
     "output_type": "stream",
     "text": [
      "You are a teenager!\n"
     ]
    }
   ],
   "source": [
    "# Take an example age\n",
    "age = 16\n",
    "\n",
    "# Checking if the age is within the teenager range\n",
    "if age >= 13:\n",
    "    if age <= 19:\n",
    "        print(\"You are a teenager!\")\n",
    "    else:\n",
    "        print(\"You are not a teenager.\")\n",
    "else:\n",
    "    print(\"You are not a teenager.\")"
   ]
  },
  {
   "cell_type": "markdown",
   "metadata": {},
   "source": [
    "- Take an example age and store it in age variable.\n",
    "- Checking if the age is greater than equal 13 or not\n",
    "    - If yes, then check is the age smaller than equal 19 or not\n",
    "        - If yes, then print you are a teenager.\n",
    "        - else, print you are not a teenager.\n",
    "    - else, print you are not a teenager."
   ]
  },
  {
   "cell_type": "markdown",
   "metadata": {},
   "source": [
    "### 16. Develop a program that determines the type of angle based on its measure (acute, obtuse, or right)."
   ]
  },
  {
   "cell_type": "code",
   "execution_count": 45,
   "metadata": {},
   "outputs": [
    {
     "name": "stdout",
     "output_type": "stream",
     "text": [
      "The angle is obtuse.\n"
     ]
    }
   ],
   "source": [
    "# Take an example angle value\n",
    "angle = 120\n",
    "\n",
    "# Check the type of angle\n",
    "if angle == 90:\n",
    "    print(\"The angle is right.\")\n",
    "else:\n",
    "    if angle < 90:\n",
    "        print(\"The angle is acute.\")\n",
    "    else:\n",
    "        print(\"The angle is obtuse.\")"
   ]
  },
  {
   "cell_type": "markdown",
   "metadata": {},
   "source": [
    "- Take an example angle value and store it in angle variable.\n",
    "- Check is the angle equal to 90 or not\n",
    "    - If yes, then print the angle is right.\n",
    "    - else, check is the angle is less than 90 or not\n",
    "        - If yes, then print the angle is acute.\n",
    "        - else, print the angle is obtuse."
   ]
  },
  {
   "cell_type": "markdown",
   "metadata": {},
   "source": [
    "### 17. Write a Python program to calculate the roots of a quadratic equation."
   ]
  },
  {
   "cell_type": "code",
   "execution_count": 58,
   "metadata": {},
   "outputs": [
    {
     "name": "stdout",
     "output_type": "stream",
     "text": [
      "One real root: -2.0\n"
     ]
    }
   ],
   "source": [
    "import math\n",
    "\n",
    "# Take example coefficients of the quadratic equation\n",
    "a = 1\n",
    "b = 4\n",
    "c = 4\n",
    "\n",
    "# Calculate the discriminant\n",
    "discriminant = b**2 - 4*a*c\n",
    "\n",
    "# Calculate roots based on discriminant\n",
    "if discriminant > 0:\n",
    "    root1 = (-b + math.sqrt(discriminant)) / (2*a)\n",
    "    root2 = (-b - math.sqrt(discriminant)) / (2*a)\n",
    "    print(f\"Two real roots: {root1} and {root2}\")\n",
    "else:\n",
    "    if discriminant == 0:\n",
    "        root = -b / (2*a)\n",
    "        print(f\"One real root: {root}\")\n",
    "    else:\n",
    "        print(\"No Solution.\")"
   ]
  },
  {
   "cell_type": "markdown",
   "metadata": {},
   "source": [
    "- At first import math in my code.\n",
    "- Take example coefficients of the quadratic equation and store them in a, b and c variable.\n",
    "- Calculate the discriminant and store it in discriminant variable.\n",
    "- Check is the discriminant greater than 0 or not\n",
    "    - If yes, then calculate two root values and print them.\n",
    "    - else, check is the discriminant value equal to 0 or not\n",
    "        - If yes, then calculate one root value and print it.\n",
    "        - else, print there is no solution."
   ]
  },
  {
   "cell_type": "markdown",
   "metadata": {},
   "source": [
    "### 18. Implement a program to determine the day of the week based on a user-provided number (1 for Monday, 2 for Tuesday, etc.)."
   ]
  },
  {
   "cell_type": "code",
   "execution_count": 59,
   "metadata": {},
   "outputs": [
    {
     "name": "stdout",
     "output_type": "stream",
     "text": [
      "Saturday\n"
     ]
    }
   ],
   "source": [
    "# Take an example number between 1 to 7\n",
    "number = 6\n",
    "\n",
    "# Check which day of the week based on the number\n",
    "if number == 1:\n",
    "    print(\"Monday\")\n",
    "else:\n",
    "    if number == 2:\n",
    "        print(\"Tuesday\")\n",
    "    else:\n",
    "        if number == 3:\n",
    "            print(\"Wednesday\")\n",
    "        else:\n",
    "            if number == 4:\n",
    "                print(\"Thursday\")\n",
    "            else:\n",
    "                if number == 5:\n",
    "                    print(\"Friday\")\n",
    "                else:\n",
    "                    if number == 6:\n",
    "                        print(\"Saturday\")\n",
    "                    else:\n",
    "                        if number == 7:\n",
    "                            print(\"Sunday\")\n",
    "                        else:\n",
    "                            print(\"Invalid input! Please enter a number between 1 and 7.\")"
   ]
  },
  {
   "cell_type": "markdown",
   "metadata": {},
   "source": [
    "- Take an example number between 1 to 7 and store it in number variable.\n",
    "- Check which day of the week based on the number\n",
    "    - If the number match then print the respective Day\n",
    "    - else, print invalid input."
   ]
  },
  {
   "cell_type": "markdown",
   "metadata": {},
   "source": [
    "### 19. Create a program that determines if a year is a leap year and also if it is evenly divisible by 400."
   ]
  },
  {
   "cell_type": "code",
   "execution_count": 71,
   "metadata": {},
   "outputs": [
    {
     "name": "stdout",
     "output_type": "stream",
     "text": [
      "2000 is a leap year and evenly divisible by 400.\n"
     ]
    }
   ],
   "source": [
    "# Take an example year\n",
    "year = 2000\n",
    "\n",
    "# Check if it's a leap year and evenly divisible by 400 or not\n",
    "if year % 4 == 0:\n",
    "    if year % 100 == 0:\n",
    "        if year % 400 == 0:\n",
    "            print(f\"{year} is a leap year and evenly divisible by 400.\")\n",
    "        else:\n",
    "            print(f\"{year} is not a leap year.\")\n",
    "    else:\n",
    "        print(f\"{year} is a leap year.\")\n",
    "else:\n",
    "    print(f\"{year} is not a leap year.\")"
   ]
  },
  {
   "cell_type": "markdown",
   "metadata": {},
   "source": [
    "- Take an example number and store it in year variable.\n",
    "- Check if it's a leap year and evenly divisible by 400 or not\n",
    "    - If yes, then print the year is a leap year and evenly divisible by 400.\n",
    "    - else, print the year is not a leap year."
   ]
  },
  {
   "cell_type": "markdown",
   "metadata": {},
   "source": [
    "### 20. Develop a program that checks if a given number is prime or not using nested if-else statements."
   ]
  },
  {
   "cell_type": "code",
   "execution_count": 72,
   "metadata": {},
   "outputs": [
    {
     "name": "stdout",
     "output_type": "stream",
     "text": [
      "23 is a prime number.\n"
     ]
    }
   ],
   "source": [
    "# Take an example number\n",
    "num = 23\n",
    "\n",
    "# Check if the number is greater than 1\n",
    "if num > 1:\n",
    "    check = True\n",
    "\n",
    "    for i in range(2, num):\n",
    "        if num % i == 0:\n",
    "            check = False\n",
    "            break\n",
    "    \n",
    "    if check:\n",
    "        print(f\"{num} is a prime number.\")\n",
    "    else:\n",
    "        print(f\"{num} is not a prime number.\")\n",
    "else:\n",
    "    print(f\"{num} is not a prime number.\")"
   ]
  },
  {
   "cell_type": "markdown",
   "metadata": {},
   "source": [
    "- Take an example number and store it in num variable.\n",
    "- Check if the number is greater than 1\n",
    "    - If yes, then check is the number prime or not\n",
    "        - If yes, then print the number is prime.\n",
    "        - else, print the number is not prime.\n",
    "    - else, print the number is not prime."
   ]
  },
  {
   "cell_type": "markdown",
   "metadata": {},
   "source": [
    "# Elif Statements:"
   ]
  },
  {
   "cell_type": "markdown",
   "metadata": {},
   "source": [
    "### 21. Write a Python program to assign grades based on different ranges of scores using elif statements."
   ]
  },
  {
   "cell_type": "code",
   "execution_count": 1,
   "metadata": {},
   "outputs": [
    {
     "name": "stdout",
     "output_type": "stream",
     "text": [
      "You got: A\n"
     ]
    }
   ],
   "source": [
    "# Take an example number\n",
    "score = 91\n",
    "\n",
    "# Take an empty string\n",
    "grade = \"\"\n",
    "\n",
    "# Check the grade\n",
    "if score >= 90:\n",
    "    grade = \"A\"\n",
    "elif score >= 80:\n",
    "    grade = \"B\"\n",
    "elif score >= 70:\n",
    "    grade = \"C\"\n",
    "elif score >= 60:\n",
    "    grade = \"D\"\n",
    "else:\n",
    "    grade = \"F\"\n",
    "\n",
    "# Print the grade\n",
    "print(f\"You got: {grade}\")"
   ]
  },
  {
   "cell_type": "markdown",
   "metadata": {},
   "source": [
    "- Take an example number and store it in score variable.\n",
    "- Take grade variable as empty string.\n",
    "- Check the number and store an example grade(A, B, C, D, F) in grade variable.\n",
    "- Finally, print the grade."
   ]
  },
  {
   "cell_type": "markdown",
   "metadata": {},
   "source": [
    "### 22. Implement a program to determine the type of a triangle based on its angles."
   ]
  },
  {
   "cell_type": "code",
   "execution_count": 2,
   "metadata": {},
   "outputs": [
    {
     "name": "stdout",
     "output_type": "stream",
     "text": [
      "The triangle is isosceles.\n"
     ]
    }
   ],
   "source": [
    "# Take three example side\n",
    "side1 = 12\n",
    "side2 = 26\n",
    "side3 = 12\n",
    "\n",
    "# Check the type of triangle\n",
    "if side1 == side2 == side3:\n",
    "    print(\"The triangle is equilateral.\")\n",
    "elif side1 == side2 or side2 == side3 or side3 == side1:\n",
    "    print(\"The triangle is isosceles.\")\n",
    "else:\n",
    "    print(\"The triangle is scalene.\")"
   ]
  },
  {
   "cell_type": "markdown",
   "metadata": {},
   "source": [
    "- Take three example side and store the value in side1, side2 and side3 variable.\n",
    "- Check is side1, side2 and side3 equal or not\n",
    "    - If yes, then print the triangle is equilateral.\n",
    "- else if, Check is side1 and side2 or side2 and side3 or side3 and side1 equal or not\n",
    "    - If yes, then print the triangle is isosceles.\n",
    "- else, print the triangle is scalene."
   ]
  },
  {
   "cell_type": "markdown",
   "metadata": {},
   "source": [
    "### 23. Develop a program to categorize a given person's BMI into underweight, normal, overweight, or obese using elif statements."
   ]
  },
  {
   "cell_type": "code",
   "execution_count": 5,
   "metadata": {},
   "outputs": [
    {
     "name": "stdout",
     "output_type": "stream",
     "text": [
      "Normal weight\n"
     ]
    }
   ],
   "source": [
    "# Take two example value\n",
    "weight = 70     # Take weight in kilogram\n",
    "height = 1.7        # Take height in meter\n",
    "\n",
    "# Calculate BMI\n",
    "BMI = weight / (height ** 2)\n",
    "\n",
    "# Categorizing BMI\n",
    "if BMI < 18.5:\n",
    "    print(\"Underweight\")\n",
    "elif 18.5 <= BMI < 25:\n",
    "    print(\"Normal weight\")\n",
    "elif 25 <= BMI < 30:\n",
    "    print(\"Overweight\")\n",
    "else:\n",
    "    print(\"Obese\")"
   ]
  },
  {
   "cell_type": "markdown",
   "metadata": {},
   "source": [
    "- Take two example value for weight (as kilogram) and height (as height) and store them weight and height variable.\n",
    "- Calculate BMI and store this in BMI variable.\n",
    "- Check if the BMI smaller than 18.5 or not\n",
    "    - If yes, then print underweight.\n",
    "- else, check if the BMI between 18.5 to 25 or not\n",
    "    - If yes, then print normal weight.\n",
    "- else, check if the BMI between 25 to 30 or not\n",
    "    - If yes, then print overweight.\n",
    "- else, print obese."
   ]
  },
  {
   "cell_type": "markdown",
   "metadata": {},
   "source": [
    "### 24. Create a program that determines whether a given number is positive, negative, or zero using elif statements."
   ]
  },
  {
   "cell_type": "code",
   "execution_count": 6,
   "metadata": {},
   "outputs": [
    {
     "name": "stdout",
     "output_type": "stream",
     "text": [
      "Positive.\n"
     ]
    }
   ],
   "source": [
    "# Take an example number\n",
    "num = 20\n",
    "\n",
    "# Check is the number positive, negative, ot zero\n",
    "if num == 0:\n",
    "    print(\"Zero.\")\n",
    "elif num > 0:\n",
    "    print(\"Positive.\")\n",
    "else:\n",
    "    print(\"Negative.\")"
   ]
  },
  {
   "cell_type": "markdown",
   "metadata": {},
   "source": [
    "- Take an example number and store it in num variable.\n",
    "- Check is the number equal to 0 or not\n",
    "    - If yes, then print zero.\n",
    "- else, check is the number greater than 0 or not\n",
    "    - If yes, then print positive.\n",
    "- else, print negative."
   ]
  },
  {
   "cell_type": "markdown",
   "metadata": {},
   "source": [
    "### 25. Write a Python script to determine the type of a character (uppercase, lowercase, or special) using elif statements."
   ]
  },
  {
   "cell_type": "code",
   "execution_count": 7,
   "metadata": {},
   "outputs": [
    {
     "name": "stdout",
     "output_type": "stream",
     "text": [
      "Character is in lower case.\n"
     ]
    }
   ],
   "source": [
    "# Take an example character\n",
    "character = 'b'\n",
    "\n",
    "# Check the type of character\n",
    "if character.isupper():\n",
    "    print(\"Character is in upper case.\")\n",
    "elif character.islower():\n",
    "    print(\"Character is in lower case.\")\n",
    "else:\n",
    "    print(\"This is a special character.\")"
   ]
  },
  {
   "cell_type": "markdown",
   "metadata": {},
   "source": [
    "- Take an example character and store the character in character variable.\n",
    "- Check is the character upper case or not\n",
    "    - If yes, then print character is in upper case.\n",
    "- else, check is the character lower case or not.\n",
    "    - If yes, then print character is in lower case.\n",
    "- else, print the character is a special character."
   ]
  },
  {
   "cell_type": "markdown",
   "metadata": {},
   "source": [
    "### 26. Implement a program to calculate the discounted price based on different purchase amounts using elif statements."
   ]
  },
  {
   "cell_type": "code",
   "execution_count": 12,
   "metadata": {},
   "outputs": [
    {
     "name": "stdout",
     "output_type": "stream",
     "text": [
      "You have to pay: 600.0\n"
     ]
    }
   ],
   "source": [
    "# Take an example value\n",
    "amount = 750\n",
    "\n",
    "# Apply discount based on the amount\n",
    "if amount < 100:\n",
    "    discount = 0\n",
    "    discount_price = amount\n",
    "elif 100 <= amount < 500:\n",
    "    discount = 10\n",
    "    discount_price = amount - (amount * 0.1)\n",
    "elif 500 <= amount < 1000:\n",
    "    discount = 20\n",
    "    discount_price = amount - (amount * 0.2)\n",
    "else:\n",
    "    discount = 30\n",
    "    discount_price = amount - (amount * 0.3)\n",
    "\n",
    "# Print the amount after applying discount\n",
    "print(f\"You have to pay: {discount_price}\")"
   ]
  },
  {
   "cell_type": "markdown",
   "metadata": {},
   "source": [
    "- Take an example amount and store it in amount variable.\n",
    "- Apply discount based on the amount. amount smaller than 100: 0% discount, amount between 100 to 500: 10% discount, amount between 500 to 1000: 20% discount, amount 1000 or more: 30% discount.\n",
    "- After applying discount store the final price in discount_price variable.\n",
    "- Finally, print the total payable amount."
   ]
  },
  {
   "cell_type": "markdown",
   "metadata": {},
   "source": [
    "### 27. Develop a program to calculate the electricity bill based on different consumption slabs using elif statements."
   ]
  },
  {
   "cell_type": "code",
   "execution_count": 17,
   "metadata": {},
   "outputs": [
    {
     "name": "stdout",
     "output_type": "stream",
     "text": [
      "Your total bill is: 1125.0\n"
     ]
    }
   ],
   "source": [
    "# Take an example value\n",
    "consumption = 275\n",
    "\n",
    "# Initialize a variable with 0 \n",
    "total_bill = 0\n",
    "\n",
    "# Make some electricity bill slabs and rates\n",
    "slab_limit1 = 100       # First 100 kWh slab\n",
    "slab_limit2 = 300       # Next 200 kWh slab\n",
    "slab_limit3 = 500       # Next 200 kWh slab\n",
    "\n",
    "rate_slab1 = 2.50       # Rate for the first 100 kWh\n",
    "rate_slab2 = 5.00       # Rate for the next 200 kWh\n",
    "rate_slab3 = 6.30       # Rate for the next 200 kWh\n",
    "rate_slab4 = 7.10       # Rate for usage beyond 500 kWh\n",
    "\n",
    "# Calculate the bill based on different slabs\n",
    "if consumption <= slab_limit1:\n",
    "    total_bill = consumption * rate_slab1\n",
    "\n",
    "elif slab_limit1 < consumption <= slab_limit2:\n",
    "    total_bill = (slab_limit1 * rate_slab1) + ((consumption - slab_limit1) * rate_slab2)\n",
    "\n",
    "elif slab_limit2 < consumption <= slab_limit3:\n",
    "    total_bill = (slab_limit1 * rate_slab1) + ((slab_limit2 - slab_limit1) * rate_slab2) + (\n",
    "        (consumption - slab_limit2) * rate_slab3)\n",
    "\n",
    "else:\n",
    "    total_bill = (slab_limit1 * rate_slab1) + ((slab_limit2 - slab_limit1) * rate_slab2) + (\n",
    "        (slab_limit3 - slab_limit2) * rate_slab3) + ((consumption - slab_limit3) * rate_slab4)\n",
    "    \n",
    "# Print the total bill\n",
    "print(\"Your total bill is:\", total_bill)"
   ]
  },
  {
   "cell_type": "markdown",
   "metadata": {},
   "source": [
    "- Take an example value and store it in consumption variable.\n",
    "- Initialize total_bill variable with 0.\n",
    "- Make some electricity bill slabs and rates.\n",
    "- Calculate the bill based on consumption, different slabs and rates. Then store the bill in total_bill variable.\n",
    "- Finally, print the total bill."
   ]
  },
  {
   "cell_type": "markdown",
   "metadata": {},
   "source": [
    "### 28. Create a program to determine the type of quadrilateral based on its angles and sides using elif statements."
   ]
  },
  {
   "cell_type": "code",
   "execution_count": 30,
   "metadata": {},
   "outputs": [
    {
     "name": "stdout",
     "output_type": "stream",
     "text": [
      "This is a Trapezoid\n"
     ]
    }
   ],
   "source": [
    "# Take example angles and sides\n",
    "angle1 = 80\n",
    "angle2 = 45\n",
    "angle3 = 80\n",
    "angle4 = 45\n",
    "\n",
    "side1 = 12\n",
    "side2 = 12\n",
    "side3 = 6\n",
    "side4 = 8\n",
    "\n",
    "# Check the type of quadrilateral\n",
    "if angle1 == angle2 == angle3 == angle4 == 90:\n",
    "    if side1 == side2 == side3 == side4:\n",
    "        quadrilateral_type = \"Square\"\n",
    "    else:\n",
    "        quadrilateral_type = \"Rectangle\"\n",
    "\n",
    "elif angle1 == angle2 == angle3 == angle4:\n",
    "    if side1 == side2 == side3 == side4:\n",
    "        quadrilateral_type = \"Rhombus\"\n",
    "    else:\n",
    "        quadrilateral_type = \"Parallelogram\"\n",
    "\n",
    "elif side1 == side2 and side3 != side4 or side1 != side2 and side3 == side4:\n",
    "    quadrilateral_type = \"Trapezoid\"\n",
    "else:\n",
    "    quadrilateral_type = \"Quadrilateral\"\n",
    "\n",
    "# Print the type\n",
    "print(\"This is a\", quadrilateral_type)"
   ]
  },
  {
   "cell_type": "markdown",
   "metadata": {},
   "source": [
    "- Take example angles and sides value.\n",
    "- Then check the type of quadrilateral and store the type in quadrilateral_type variable.\n",
    "- Finally, print the type."
   ]
  },
  {
   "cell_type": "markdown",
   "metadata": {},
   "source": [
    "### 29. Write a Python script to determine the season based on a user-provided month using elif statements."
   ]
  },
  {
   "cell_type": "code",
   "execution_count": 31,
   "metadata": {},
   "outputs": [
    {
     "name": "stdout",
     "output_type": "stream",
     "text": [
      "The season for August is Summer.\n"
     ]
    }
   ],
   "source": [
    "# Take an example month\n",
    "month = 'August'\n",
    "\n",
    "# Convert the month in lowercase\n",
    "month = month.lower()\n",
    "\n",
    "# Check the season based on the month\n",
    "if month in (\"december\", \"january\", \"february\"):\n",
    "    season = \"Winter\"\n",
    "elif month in (\"march\", \"april\", \"may\"):\n",
    "    season = \"Spring\"\n",
    "elif month in (\"june\", \"july\", \"august\"):\n",
    "    season = \"Summer\"\n",
    "elif month in (\"september\", \"october\", \"november\"):\n",
    "    season = \"Autumn\"\n",
    "else:\n",
    "    season = \"Unknown\"\n",
    "\n",
    "# Print the season\n",
    "if season != \"Unknown\":\n",
    "    print(f\"The season for {month.capitalize()} is {season}.\")\n",
    "else:\n",
    "    print(\"Please enter a valid month.\")"
   ]
  },
  {
   "cell_type": "markdown",
   "metadata": {},
   "source": [
    "- Take an example month and store it in month variable.\n",
    "- Convert the month in lower case then store it in month variable.\n",
    "- Check the season based on the month.\n",
    "- Store the season in season variable.\n",
    "- Finally, print the season."
   ]
  },
  {
   "cell_type": "markdown",
   "metadata": {},
   "source": [
    "### 30. Implement a program to determine the type of a year (leap or common) and month (30 or 31 days) using elif statements."
   ]
  },
  {
   "cell_type": "code",
   "execution_count": 33,
   "metadata": {},
   "outputs": [
    {
     "name": "stdout",
     "output_type": "stream",
     "text": [
      "The year 2000 is a Leap Year.\n",
      "The month of February has 29 days.\n"
     ]
    }
   ],
   "source": [
    "# Take an example year\n",
    "year = 2000\n",
    "\n",
    "# Check if it's a leap year or common year\n",
    "if (year % 4 == 0 and year % 100 != 0) or (year % 400 == 0):\n",
    "    year_type = \"Leap Year\"\n",
    "else:\n",
    "    year_type = \"Common Year\"\n",
    "\n",
    "# Take an example month\n",
    "month = 'February'\n",
    "\n",
    "# Make month lower\n",
    "month = month.lower()\n",
    "\n",
    "# Check the number of days in the month\n",
    "if month in (\"january\", \"march\", \"may\", \"july\", \"august\", \"october\", \"december\"):\n",
    "    days = 31\n",
    "elif month in (\"april\", \"june\", \"september\", \"november\"):\n",
    "    days = 30\n",
    "elif month == \"february\":\n",
    "    if year_type == \"Leap Year\":\n",
    "        days = 29\n",
    "    else:\n",
    "        days = 28\n",
    "else:\n",
    "    days = None\n",
    "\n",
    "# Displaying the type of year and days in the month\n",
    "if days is not None:\n",
    "    print(f\"The year {year} is a {year_type}.\")\n",
    "    print(f\"The month of {month.capitalize()} has {days} days.\")\n",
    "else:\n",
    "    print(\"Please enter a valid month.\")"
   ]
  },
  {
   "cell_type": "markdown",
   "metadata": {},
   "source": [
    "- Take an example year and store it in year variable.\n",
    "- Check if it's a leap year or common year and store it in year_type variable.\n",
    "- Take an example month and store it in month variable.\n",
    "- Make the month in lower case and store it in month variable.\n",
    "- Check the number of days in the month and store the day count in days variable.\n",
    "- Finally, print the type of year and days in the month."
   ]
  },
  {
   "cell_type": "markdown",
   "metadata": {},
   "source": [
    "# Basic Level:"
   ]
  },
  {
   "cell_type": "markdown",
   "metadata": {},
   "source": [
    "### 1. Write a Python program that checks if a given number is positive, negative, or zero."
   ]
  },
  {
   "cell_type": "code",
   "execution_count": 34,
   "metadata": {},
   "outputs": [
    {
     "name": "stdout",
     "output_type": "stream",
     "text": [
      "Positive.\n"
     ]
    }
   ],
   "source": [
    "# Take an example number\n",
    "num = 20\n",
    "\n",
    "# Check is the number positive, negative, ot zero\n",
    "if num == 0:\n",
    "    print(\"Zero.\")\n",
    "elif num > 0:\n",
    "    print(\"Positive.\")\n",
    "else:\n",
    "    print(\"Negative.\")"
   ]
  },
  {
   "cell_type": "markdown",
   "metadata": {},
   "source": [
    "- Take an example number and store it in num variable.\n",
    "- Check is the number equal to 0 or not\n",
    "    - If yes, then print zero.\n",
    "- else, check is the number greater than 0 or not\n",
    "    - If yes, then print positive.\n",
    "- else, print negative."
   ]
  },
  {
   "cell_type": "markdown",
   "metadata": {},
   "source": [
    "### 2. Create a program to determine if a person is eligible to vote based on their age."
   ]
  },
  {
   "cell_type": "code",
   "execution_count": 35,
   "metadata": {},
   "outputs": [
    {
     "name": "stdout",
     "output_type": "stream",
     "text": [
      "You are eligible to give vote.\n"
     ]
    }
   ],
   "source": [
    "# Take an example age\n",
    "age = 18\n",
    "\n",
    "# Check is the age greater than qual to 18 or not\n",
    "if age >= 18:\n",
    "    print(\"You are eligible to give vote.\")\n",
    "else:\n",
    "    print(\"You are not eligible to give vote.\")"
   ]
  },
  {
   "cell_type": "markdown",
   "metadata": {},
   "source": [
    "- Take an example age and store it in age variable.\n",
    "- Check is the age greater than or equal to 18 or not\n",
    "    - If yes, then print the person is eligible to vote.\n",
    "    - else, print the person is not eligible to vote."
   ]
  },
  {
   "cell_type": "markdown",
   "metadata": {},
   "source": [
    "### 3. Write a program to find the maximum of two given numbers using conditional statements."
   ]
  },
  {
   "cell_type": "code",
   "execution_count": 36,
   "metadata": {},
   "outputs": [
    {
     "name": "stdout",
     "output_type": "stream",
     "text": [
      "22 is greater than 12.\n"
     ]
    }
   ],
   "source": [
    "# Take two example number\n",
    "num1 = 12\n",
    "num2 = 22\n",
    "\n",
    "# Check which number is maximum\n",
    "if num1 > num2:\n",
    "    print(f\"{num1} is greater than {num2}.\")\n",
    "else:\n",
    "    print(f\"{num2} is greater than {num1}.\")"
   ]
  },
  {
   "cell_type": "markdown",
   "metadata": {},
   "source": [
    "- Take two example number and store them in num1 and num2 variable.\n",
    "- Check is num1 greater than num2 or not\n",
    "    - If yes, then print num1 is greater than num2.\n",
    "    - else, print num2 is greater than num1."
   ]
  },
  {
   "cell_type": "markdown",
   "metadata": {},
   "source": [
    "### 4. Develop a program that calculates the grade of a student based on their exam score."
   ]
  },
  {
   "cell_type": "code",
   "execution_count": 37,
   "metadata": {},
   "outputs": [
    {
     "name": "stdout",
     "output_type": "stream",
     "text": [
      "You got: A\n"
     ]
    }
   ],
   "source": [
    "# Take an example number\n",
    "score = 91\n",
    "\n",
    "# Take an empty string\n",
    "grade = \"\"\n",
    "\n",
    "# Check the grade\n",
    "if score >= 90:\n",
    "    grade = \"A\"\n",
    "elif score >= 80:\n",
    "    grade = \"B\"\n",
    "elif score >= 70:\n",
    "    grade = \"C\"\n",
    "elif score >= 60:\n",
    "    grade = \"D\"\n",
    "else:\n",
    "    grade = \"F\"\n",
    "\n",
    "# Print the grade\n",
    "print(f\"You got: {grade}\")"
   ]
  },
  {
   "cell_type": "markdown",
   "metadata": {},
   "source": [
    "- Take an example number and store it in score variable.\n",
    "- Take grade variable as empty string.\n",
    "- Check the number and store an example grade(A, B, C, D, F) in grade variable.\n",
    "- Finally, print the grade."
   ]
  },
  {
   "cell_type": "markdown",
   "metadata": {},
   "source": [
    "### 5. Create a program that checks if a year is a leap year or not."
   ]
  },
  {
   "cell_type": "code",
   "execution_count": 38,
   "metadata": {},
   "outputs": [
    {
     "name": "stdout",
     "output_type": "stream",
     "text": [
      "2001 is not a leap year.\n"
     ]
    }
   ],
   "source": [
    "# Take an example year\n",
    "year = 2001\n",
    "\n",
    "# Check is the year leap year or not\n",
    "if year % 400 == 0 or (year % 4 == 0 and year % 100 != 0):\n",
    "    print(f\"{year} is a leap year.\")\n",
    "else:\n",
    "    print(f\"{year} is not a leap year.\")"
   ]
  },
  {
   "cell_type": "markdown",
   "metadata": {},
   "source": [
    "- Take an example year and store it in year variable.\n",
    "- Check whether the year leap year or not\n",
    "    - If yes, then print the year is a leap year.\n",
    "    - else, print the year is not a leap year."
   ]
  },
  {
   "cell_type": "markdown",
   "metadata": {},
   "source": [
    "### 6. Write a program to classify a triangle based on its sides' lengths."
   ]
  },
  {
   "cell_type": "code",
   "execution_count": 39,
   "metadata": {},
   "outputs": [
    {
     "name": "stdout",
     "output_type": "stream",
     "text": [
      "The triangle is isosceles.\n"
     ]
    }
   ],
   "source": [
    "# Take three example side\n",
    "side1 = 12\n",
    "side2 = 26\n",
    "side3 = 12\n",
    "\n",
    "# Check the type of triangle\n",
    "if side1 == side2 == side3:\n",
    "    print(\"The triangle is equilateral.\")\n",
    "elif side1 == side2 or side2 == side3 or side3 == side1:\n",
    "    print(\"The triangle is isosceles.\")\n",
    "else:\n",
    "    print(\"The triangle is scalene.\")"
   ]
  },
  {
   "cell_type": "markdown",
   "metadata": {},
   "source": [
    "- Take three example side and store the value in side1, side2 and side3 variable.\n",
    "- Check is side1, side2 and side3 equal or not\n",
    "    - If yes, then print the triangle is equilateral.\n",
    "- else if, Check is side1 and side2 or side2 and side3 or side3 and side1 equal or not\n",
    "    - If yes, then print the triangle is isosceles.\n",
    "- else, print the triangle is scalene."
   ]
  },
  {
   "cell_type": "markdown",
   "metadata": {},
   "source": [
    "### 7. Build a program that determines the largest of three given numbers."
   ]
  },
  {
   "cell_type": "code",
   "execution_count": 40,
   "metadata": {},
   "outputs": [
    {
     "name": "stdout",
     "output_type": "stream",
     "text": [
      "32 is maximum.\n"
     ]
    }
   ],
   "source": [
    "# Take three example number\n",
    "num1 = 25\n",
    "num2 = 32\n",
    "num3 = 15\n",
    "\n",
    "# Check which number is maximum\n",
    "if num1 > num2 and num1 > num3:\n",
    "    print(f\"{num1} is maximum.\")\n",
    "elif num2 > num1 and num2 > num3:\n",
    "    print(f\"{num2} is maximum.\")\n",
    "else:\n",
    "    print(f\"{num3} is maximum.\")"
   ]
  },
  {
   "cell_type": "markdown",
   "metadata": {},
   "source": [
    "- Take three example number and store them in num1, num2 and num3 variable.\n",
    "- Check is num1 greater than num2 and num3 or not\n",
    "    - If yes, then print num1 is maximum.\n",
    "- else, Check is num2 greater than num1 and num3 or not\n",
    "        - If yes, then print num2 is maximum.\n",
    "- else, print num3 is maximum."
   ]
  },
  {
   "cell_type": "markdown",
   "metadata": {},
   "source": [
    "### 8. Develop a program that checks whether a character is a vowel or a consonant."
   ]
  },
  {
   "cell_type": "code",
   "execution_count": 41,
   "metadata": {},
   "outputs": [
    {
     "name": "stdout",
     "output_type": "stream",
     "text": [
      "The character is a vowel.\n"
     ]
    }
   ],
   "source": [
    "# Take an example character\n",
    "character = 'u'\n",
    "\n",
    "# Check is the character vowel or not\n",
    "if character in 'aeiou':\n",
    "    print(\"The character is a vowel.\")\n",
    "else:\n",
    "    print(\"The character is a consonant.\")"
   ]
  },
  {
   "cell_type": "markdown",
   "metadata": {},
   "source": [
    "- Take an example character and store it in character variable.\n",
    "- Check whether the character is vowel or not\n",
    "    - If yes, then print the character is a vowel.\n",
    "    - else, print the character is a consonant."
   ]
  },
  {
   "cell_type": "markdown",
   "metadata": {},
   "source": [
    "### 9. Create a program to calculate the total cost of a shopping cart based on discounts."
   ]
  },
  {
   "cell_type": "code",
   "execution_count": 42,
   "metadata": {},
   "outputs": [
    {
     "name": "stdout",
     "output_type": "stream",
     "text": [
      "You have to pay: 600.0\n"
     ]
    }
   ],
   "source": [
    "# Take an example value\n",
    "amount = 750\n",
    "\n",
    "# Apply discount based on the amount\n",
    "if amount < 100:\n",
    "    discount = 0\n",
    "    discount_price = amount\n",
    "elif 100 <= amount < 500:\n",
    "    discount = 10\n",
    "    discount_price = amount - (amount * 0.1)\n",
    "elif 500 <= amount < 1000:\n",
    "    discount = 20\n",
    "    discount_price = amount - (amount * 0.2)\n",
    "else:\n",
    "    discount = 30\n",
    "    discount_price = amount - (amount * 0.3)\n",
    "\n",
    "# Print the amount after applying discount\n",
    "print(f\"You have to pay: {discount_price}\")"
   ]
  },
  {
   "cell_type": "markdown",
   "metadata": {},
   "source": [
    "- Take an example amount and store it in amount variable.\n",
    "- Apply discount based on the amount. amount smaller than 100: 0% discount, amount between 100 to 500: 10% discount, amount between 500 to 1000: 20% discount, amount 1000 or more: 30% discount.\n",
    "- After applying discount store the final price in discount_price variable.\n",
    "- Finally, print the total payable amount."
   ]
  },
  {
   "cell_type": "markdown",
   "metadata": {},
   "source": [
    "### 10. Write a program that checks if a given number is even or odd."
   ]
  },
  {
   "cell_type": "code",
   "execution_count": 43,
   "metadata": {},
   "outputs": [
    {
     "name": "stdout",
     "output_type": "stream",
     "text": [
      "23 is odd number.\n"
     ]
    }
   ],
   "source": [
    "# Take an example number\n",
    "num = 23\n",
    "\n",
    "# Check is the number even or odd\n",
    "if num % 2 == 0:\n",
    "    print(f\"{num} is even number.\")\n",
    "else:\n",
    "    print(f\"{num} is odd number.\")"
   ]
  },
  {
   "cell_type": "markdown",
   "metadata": {},
   "source": [
    "- Take an example number and store it in num variable.\n",
    "- Check is the number modulo divide by 2 equal to 0 or not\n",
    "    - If yes, then print the number is even.\n",
    "    - else, print the number is odd."
   ]
  },
  {
   "cell_type": "markdown",
   "metadata": {},
   "source": [
    "# Intermediate Level:"
   ]
  },
  {
   "cell_type": "markdown",
   "metadata": {},
   "source": [
    "### 11. Write a program that calculates the roots of a quadratic equation ."
   ]
  },
  {
   "cell_type": "markdown",
   "metadata": {},
   "source": [
    "### 12. Create a program that determines the day of the week based on the day number (1-7)."
   ]
  },
  {
   "cell_type": "markdown",
   "metadata": {},
   "source": [
    "### 13. Develop a program that calculates the factorial of a given number using recursion."
   ]
  },
  {
   "cell_type": "markdown",
   "metadata": {},
   "source": [
    "### 14. Write a program to find the largest among three numbers without using the `max()` function."
   ]
  },
  {
   "cell_type": "markdown",
   "metadata": {},
   "source": [
    "### 15. Create a program that simulates a basic ATM transaction menu."
   ]
  },
  {
   "cell_type": "markdown",
   "metadata": {},
   "source": [
    "### 16. Build a program that checks if a given string is a palindrome or not."
   ]
  },
  {
   "cell_type": "markdown",
   "metadata": {},
   "source": [
    "### 17. Write a program that calculates the average of a list of numbers, excluding the smallest and largest values."
   ]
  },
  {
   "cell_type": "markdown",
   "metadata": {},
   "source": [
    "### 18. Develop a program that converts a given temperature from Celsius to Fahrenheit."
   ]
  },
  {
   "cell_type": "markdown",
   "metadata": {},
   "source": [
    "### 19. Create a program that simulates a basic calculator for addition, subtraction, multiplication, and division."
   ]
  },
  {
   "cell_type": "markdown",
   "metadata": {},
   "source": [
    "### 20. Write a program that determines the roots of a cubic equation using the Cardano formula."
   ]
  },
  {
   "cell_type": "markdown",
   "metadata": {},
   "source": [
    "# Advanced Level:"
   ]
  },
  {
   "cell_type": "markdown",
   "metadata": {},
   "source": [
    "### 21. Create a program that calculates the income tax based on the user's income and tax brackets."
   ]
  },
  {
   "cell_type": "markdown",
   "metadata": {},
   "source": [
    "### 22. Write a program that simulates a rock-paper-scissors game against the computer."
   ]
  },
  {
   "cell_type": "markdown",
   "metadata": {},
   "source": [
    "### 23. Develop a program that generates a random password based on user preferences (length, complexity)."
   ]
  },
  {
   "cell_type": "markdown",
   "metadata": {},
   "source": [
    "### 24. Create a program that implements a simple text-based adventure game with branching scenarios."
   ]
  },
  {
   "cell_type": "markdown",
   "metadata": {},
   "source": [
    "### 25. Build a program that solves a linear equation  for x, considering different cases."
   ]
  },
  {
   "cell_type": "markdown",
   "metadata": {},
   "source": [
    "### 26. Write a program that simulates a basic quiz game with multiple-choice questions and scoring."
   ]
  },
  {
   "cell_type": "markdown",
   "metadata": {},
   "source": [
    "### 27. Develop a program that determines whether a given year is a prime number or not."
   ]
  },
  {
   "cell_type": "markdown",
   "metadata": {},
   "source": [
    "### 28. Create a program that sorts three numbers in ascending order using conditional statements."
   ]
  },
  {
   "cell_type": "markdown",
   "metadata": {},
   "source": [
    "### 29. Build a program that determines the roots of a quartic equation using numerical methods."
   ]
  },
  {
   "cell_type": "markdown",
   "metadata": {},
   "source": [
    "### 30. Write a program that calculates the BMI (Body Mass Index) and provides health recommendations based on the user's input."
   ]
  },
  {
   "cell_type": "markdown",
   "metadata": {},
   "source": [
    "# Challenge Level:"
   ]
  },
  {
   "cell_type": "markdown",
   "metadata": {},
   "source": [
    "### 31. Create a program that validates a password based on complexity rules (length, characters, etc.)."
   ]
  },
  {
   "cell_type": "markdown",
   "metadata": {},
   "source": [
    "### 32. Develop a program that performs matrix addition and subtraction based on user input."
   ]
  },
  {
   "cell_type": "markdown",
   "metadata": {},
   "source": [
    "### 33. Write a program that calculates the greatest common divisor (GCD) of two numbers using the Euclidean algorithm."
   ]
  },
  {
   "cell_type": "markdown",
   "metadata": {},
   "source": [
    "### 34. Build a program that performs matrix multiplication using nested loops and conditional statements."
   ]
  },
  {
   "cell_type": "markdown",
   "metadata": {},
   "source": [
    "### 35. Create a program that simulates a basic text-based tic-tac-toe game against the computer."
   ]
  },
  {
   "cell_type": "markdown",
   "metadata": {},
   "source": [
    "### 36. Write a program that generates Fibonacci numbers up to a specified term using iterative methods."
   ]
  },
  {
   "cell_type": "markdown",
   "metadata": {},
   "source": [
    "### 37. Develop a program that calculates the nth term of the Fibonacci sequence using memoization."
   ]
  },
  {
   "cell_type": "markdown",
   "metadata": {},
   "source": [
    "### 38. Create a program that generates a calendar for a given month and year using conditional statements."
   ]
  },
  {
   "cell_type": "markdown",
   "metadata": {},
   "source": [
    "### 39. Build a program that simulates a basic text-based blackjack game against the computer."
   ]
  },
  {
   "cell_type": "markdown",
   "metadata": {},
   "source": [
    "### 40. Write a program that generates the prime factors of a given number using trial division."
   ]
  },
  {
   "cell_type": "code",
   "execution_count": null,
   "metadata": {},
   "outputs": [],
   "source": []
  }
 ],
 "metadata": {
  "kernelspec": {
   "display_name": "base",
   "language": "python",
   "name": "python3"
  },
  "language_info": {
   "codemirror_mode": {
    "name": "ipython",
    "version": 3
   },
   "file_extension": ".py",
   "mimetype": "text/x-python",
   "name": "python",
   "nbconvert_exporter": "python",
   "pygments_lexer": "ipython3",
   "version": "3.9.16"
  }
 },
 "nbformat": 4,
 "nbformat_minor": 2
}
