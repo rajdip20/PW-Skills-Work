{
 "cells": [
  {
   "cell_type": "code",
   "execution_count": 1,
   "metadata": {},
   "outputs": [],
   "source": [
    "# Sorting Algorithms\n",
    "## 1. Bubble Sort\n",
    "## 2. Selection Sort\n",
    "## 3. Insertion Sort"
   ]
  },
  {
   "cell_type": "code",
   "execution_count": 2,
   "metadata": {},
   "outputs": [
    {
     "name": "stdout",
     "output_type": "stream",
     "text": [
      "[1, 2, 3, 4, 5, 6, 7]\n"
     ]
    }
   ],
   "source": [
    "## Bubble Sorting\n",
    "## Time Complexity: O(n^2)\n",
    "## Space Complexity: O(1)\n",
    "\n",
    "\n",
    "def BubbleSort(arr):        # Stable Sort\n",
    "    for i in range(len(arr) - 1, 0, -1):\n",
    "        for j in range(i):\n",
    "            if arr[j] > arr[j + 1]:\n",
    "                arr[j], arr[j + 1] = arr[j + 1], arr[j]\n",
    "    return arr\n",
    "\n",
    "\n",
    "arr = [2, 6, 1, 3, 7, 4, 5]\n",
    "result = BubbleSort(arr)\n",
    "print(result)"
   ]
  },
  {
   "cell_type": "code",
   "execution_count": 3,
   "metadata": {},
   "outputs": [],
   "source": [
    "## Sorting ----> Stable Sort\n",
    "#          |\n",
    "#          |---> Unstable Sort"
   ]
  },
  {
   "cell_type": "code",
   "execution_count": 4,
   "metadata": {},
   "outputs": [
    {
     "name": "stdout",
     "output_type": "stream",
     "text": [
      "[1, 2, 3, 4, 5, 6, 7]\n"
     ]
    }
   ],
   "source": [
    "## Optimized Bubble Sorting\n",
    "## Time Complexity: O(n^2)\n",
    "## Space Complexity: O(1)\n",
    "\n",
    "\n",
    "def OptimizedBubbleSort(arr):        # Stable Sort\n",
    "    for i in range(len(arr) - 1, 0, -1):\n",
    "        isSorted = True\n",
    "        for j in range(i):\n",
    "            if arr[j] > arr[j + 1]:\n",
    "                isSorted = False\n",
    "                arr[j], arr[j + 1] = arr[j + 1], arr[j]\n",
    "        \n",
    "        if isSorted:\n",
    "            return arr\n",
    "        \n",
    "\n",
    "arr = [2, 6, 1, 3, 7, 4, 5]\n",
    "result = OptimizedBubbleSort(arr)\n",
    "print(result)"
   ]
  },
  {
   "cell_type": "code",
   "execution_count": 5,
   "metadata": {},
   "outputs": [
    {
     "name": "stdout",
     "output_type": "stream",
     "text": [
      "True\n"
     ]
    }
   ],
   "source": [
    "# Given an array, check if the array is sorted?\n",
    "\n",
    "\n",
    "def isSorted(arr):\n",
    "    isSorted = True\n",
    "\n",
    "    for i in range(len(arr) - 1):\n",
    "        if arr[i] > arr[i + 1]:\n",
    "            isSorted = False\n",
    "    return isSorted\n",
    "\n",
    "\n",
    "arr = [1, 2, 3, 4]\n",
    "result = isSorted(arr)\n",
    "print(result)"
   ]
  },
  {
   "cell_type": "code",
   "execution_count": 6,
   "metadata": {},
   "outputs": [
    {
     "name": "stdout",
     "output_type": "stream",
     "text": [
      "[1, 2, 3, 4, 5, 6]\n"
     ]
    }
   ],
   "source": [
    "## Selection Sorting\n",
    "## Time Complexity: O(n^2)\n",
    "## Space Complexity: O(1)\n",
    "\n",
    "def SelectionSortLarge(arr):        # Unstable sort\n",
    "    for i in range(len(arr) - 1, 0, -1):\n",
    "        # Find the largest value\n",
    "        maximum = i\n",
    "        for j in range(i):\n",
    "            if arr[j] > arr[maximum]:\n",
    "                maximum = j\n",
    "        \n",
    "        arr[maximum], arr[i] = arr[i], arr[maximum]\n",
    "    return arr\n",
    "\n",
    "\n",
    "arr = [4, 3, 2, 6, 5, 1]\n",
    "result = SelectionSortLarge(arr)\n",
    "print(result)"
   ]
  },
  {
   "cell_type": "code",
   "execution_count": 7,
   "metadata": {},
   "outputs": [
    {
     "name": "stdout",
     "output_type": "stream",
     "text": [
      "[1, 2, 3, 4, 5, 6]\n"
     ]
    }
   ],
   "source": [
    "def SelectionSortSmall(arr):    # Unstable sort\n",
    "    for i in range(len(arr)):\n",
    "        # Find the smallest value\n",
    "        mini = i\n",
    "        for j in range(i + 1, len(arr)):\n",
    "            if arr[j] < arr[mini]:\n",
    "                mini = j\n",
    "        \n",
    "        arr[i], arr[mini] = arr[mini], arr[i]\n",
    "    return arr\n",
    "\n",
    "\n",
    "arr = [4, 3, 2, 6, 5, 1]\n",
    "result = SelectionSortSmall(arr)\n",
    "print(result)"
   ]
  },
  {
   "cell_type": "code",
   "execution_count": 8,
   "metadata": {},
   "outputs": [
    {
     "name": "stdout",
     "output_type": "stream",
     "text": [
      "[1, 2, 3, 4, 5, 6]\n"
     ]
    }
   ],
   "source": [
    "## Insertion Sorting / Online Sorting\n",
    "## Time Complexity: O(n^2)\n",
    "## Space Complexity: O(1)\n",
    "\n",
    "def InsertionSort(arr):        # Stable sort\n",
    "    for i in range(1, len(arr)):\n",
    "        v = arr[i]\n",
    "        j = i\n",
    "        while (j >= 1 and arr[j - 1] > v):\n",
    "            arr[j] = arr[j - 1]\n",
    "            j -= 1\n",
    "        \n",
    "        arr[j] = v\n",
    "    return arr\n",
    "\n",
    "\n",
    "arr = [4, 3, 2, 6, 5, 1]\n",
    "result = InsertionSort(arr)\n",
    "print(result)"
   ]
  },
  {
   "cell_type": "code",
   "execution_count": 9,
   "metadata": {},
   "outputs": [
    {
     "name": "stdout",
     "output_type": "stream",
     "text": [
      "3\n"
     ]
    }
   ],
   "source": [
    "# Linear Search\n",
    "## Time complexity: O(n)\n",
    "## Space Complexity: O(1)\n",
    "\n",
    "\n",
    "def LinearSearch(arr, num):\n",
    "    for i in range(len(arr)):\n",
    "        if arr[i] == num:\n",
    "            return i\n",
    "    return -1\n",
    "\n",
    "\n",
    "arr = [4, 3, 2, 6, 5, 1]\n",
    "result = LinearSearch(arr, 6)\n",
    "print(result)"
   ]
  },
  {
   "cell_type": "code",
   "execution_count": 10,
   "metadata": {},
   "outputs": [
    {
     "name": "stdout",
     "output_type": "stream",
     "text": [
      "5\n"
     ]
    }
   ],
   "source": [
    "# Binary Search\n",
    "## Time complexity: O(log n)\n",
    "## Space Complexity: O(1)\n",
    "\n",
    "\n",
    "def BinarySearch(arr, num):\n",
    "    left = 0\n",
    "    right = len(arr) - 1\n",
    "\n",
    "    while(left <= right):\n",
    "        mid = int(left + (right - left) / 2)\n",
    "        if arr[mid] == num:\n",
    "            return mid\n",
    "        elif arr[mid] > num:\n",
    "            right = mid - 1\n",
    "        else:\n",
    "            left = mid + 1\n",
    "    return -1\n",
    "\n",
    "\n",
    "arr = [1, 2, 3, 4, 5, 6, 7, 8]\n",
    "result = BinarySearch(arr, 6)\n",
    "print(result)"
   ]
  },
  {
   "cell_type": "code",
   "execution_count": null,
   "metadata": {},
   "outputs": [],
   "source": []
  }
 ],
 "metadata": {
  "kernelspec": {
   "display_name": "base",
   "language": "python",
   "name": "python3"
  },
  "language_info": {
   "codemirror_mode": {
    "name": "ipython",
    "version": 3
   },
   "file_extension": ".py",
   "mimetype": "text/x-python",
   "name": "python",
   "nbconvert_exporter": "python",
   "pygments_lexer": "ipython3",
   "version": "3.9.16"
  }
 },
 "nbformat": 4,
 "nbformat_minor": 2
}
