{
 "cells": [
  {
   "cell_type": "markdown",
   "metadata": {},
   "source": [
    "### 1. Find the value of T(2) for the recurrence relation T(n) = 3T(n-1) + 12n, given that T(0)=5."
   ]
  },
  {
   "cell_type": "markdown",
   "metadata": {},
   "source": [
    "- **Given**,\n",
    "    - T(n) = 3T(n-1) + 12n\n",
    "    - T(0) = 5\n",
    "- **Then**,\n",
    "    - T(1) = 3T(0) + 12<br>\n",
    "    => T(1) = 27\n",
    "    - T(2) = 3T(1) + 24<br>\n",
    "    => T(2) = 3*27 + 24<br>\n",
    "    => **T(2) = 105**"
   ]
  },
  {
   "cell_type": "markdown",
   "metadata": {},
   "source": [
    "### 2. a. Given a recurrence relation, solve it using the substitution method: T(n) = T(n-1) + c"
   ]
  },
  {
   "cell_type": "markdown",
   "metadata": {},
   "source": [
    "- **Base Case**:\n",
    "    - T(1) = T(0) + c\n",
    "- **Steps**:<br>\n",
    "    => T(n) = T(n - 2) + 2c<br>\n",
    "    => T(n) = T(n - 3) + 3c<br>\n",
    "    => ......<br>\n",
    "    => T(n) = T(n - k) + kc<br>\n",
    "    **for k = n**,<br>\n",
    "    => T(n) = T(0) + nc<br>\n",
    "    **So, Time complexity is O(n)**"
   ]
  },
  {
   "cell_type": "markdown",
   "metadata": {},
   "source": [
    "### 2. b. Given a recurrence relation, solve it using the substitution method: T(n) = 2T(n/2) + n"
   ]
  },
  {
   "cell_type": "markdown",
   "metadata": {},
   "source": [
    "- **Steps**:<br>\n",
    "    => T(n/4) = 2T(n/4) + n<br>\n",
    "&emsp;&emsp;- T(n) = 2^2T(n/2^2) + 2n<br>\n",
    "    Similarly,<br>\n",
    "    => T(n) = 2^3T(n/2^3) + 3n<br>\n",
    "    => .....<br>\n",
    "    => T(n) = 2^kT(n/2^k) + kn<br><br>\n",
    "\n",
    "    for iterations to make it T(1),<br>\n",
    "    => n/2^k = 1<br>\n",
    "    => n = 2^k<br>\n",
    "    => k = log(n)<br><br>\n",
    "\n",
    "    Then, T(n) = n + nlog(n)<br>\n",
    "    **So, Time complexity is O(n log(n))**"
   ]
  },
  {
   "cell_type": "markdown",
   "metadata": {},
   "source": [
    "### 2. c. Given a recurrence relation, solve it using the substitution method: T(n) = 2T(n/2) + c"
   ]
  },
  {
   "cell_type": "markdown",
   "metadata": {},
   "source": [
    "- **Steps**:<br>\n",
    "    => T(n/2) = 2T(n/4) + c<br>\n",
    "    => T(n) = 2^2T(n/2^2) + 2c<br>\n",
    "    Similarly,<br>\n",
    "    => T(n) = 2^3T(n/2^3) + 3c<br>\n",
    "    => ....<br>\n",
    "    => T(n) = 2^k T(n/2^k) + kc<br>\n",
    "    for iterations to make it T(1),<br>\n",
    "    => n/2^k = 1<br>\n",
    "    => k = log(n)<br><br>\n",
    "\n",
    "    Then, T(n) = n + c log(n)<br>\n",
    "    **So, Time complexity is O(c log(n))**"
   ]
  },
  {
   "cell_type": "markdown",
   "metadata": {},
   "source": [
    "### 2. d. Given a recurrence relation, solve it using the substitution method: T(n) = T(n/2) + c"
   ]
  },
  {
   "cell_type": "markdown",
   "metadata": {},
   "source": [
    "- **Steps**:<br>\n",
    "    => T(n/2) = T(n/4) + c<br>\n",
    "    => T(n) = 2T(n/2^2) + 2c<br>\n",
    "    Similarly,<br>\n",
    "    => T(n) = T(n/2^3) + 3c<br>\n",
    "    => ....<br>\n",
    "    => T(n) = T(n/2^k) + kc<br>\n",
    "    for iterations to make it T(1),<br>\n",
    "    => n/2^k = 1<br>\n",
    "    => k = log(n)<br><br>\n",
    "\n",
    "    Then, T(n) = 1 + c log(n)<br>\n",
    "    **So, Time complexity is O(log(n))**"
   ]
  },
  {
   "cell_type": "markdown",
   "metadata": {},
   "source": [
    "### 3. a. Given a recurrence relation, solve it using the recursive tree approach: T(n) = 2T(n-1) +1"
   ]
  },
  {
   "cell_type": "markdown",
   "metadata": {},
   "source": [
    "- T(n) = 1 for n = 0\n",
    "- T(n) = 2T(n-1) + 1 for n > 0\n",
    "```\n",
    "        T(n)\n",
    "          |\n",
    "______________________________\n",
    "1       T(n-1)              T(n-1) --------------------- 1 = 2^0\n",
    "          |                    |\n",
    "    ________________        _______________\n",
    "    1   T(n-2)   T(n-2)     1   T(n-2)   T(n-2) ---------- 1+1 = 2 = 2^1\n",
    "\n",
    "                                              ------------- 4 = 2^2\n",
    "                                              .\n",
    "                                              .\n",
    "                                              .\n",
    "                                              .\n",
    "   for k iteration n-k                                           ------------- 2^k\n",
    "```\n",
    "\n",
    "n - k = 0 <br>\n",
    "=> k = n<br>\n",
    "for k = n -- sum of all iterations<br>\n",
    "1 + 2 + 4 + 8 + ..... 2^k<br>\n",
    "\n",
    "GP series, a = 1, r = 2<br>\n",
    "a(r^n - 1)/(r - 1) = 1(2^n - 1)/(2 - 1)<br><br>\n",
    "\n",
    "**So, Time complexity is O(2^n)**"
   ]
  },
  {
   "cell_type": "markdown",
   "metadata": {},
   "source": [
    "### 3. b. Given a recurrence relation, solve it using the recursive tree approach: T(n) = 2T(n/2) + n"
   ]
  },
  {
   "cell_type": "markdown",
   "metadata": {},
   "source": [
    "- T(n) = 1 for n = 0\n",
    "- T(n) = 2T(n/2) + n for n > 9\n",
    "\n",
    "```\n",
    "        T(n)\n",
    "          |\n",
    "______________________________\n",
    "n       T(n/2)              T(n/2) --------------------- n\n",
    "          |                    |\n",
    "    ________________        _______________\n",
    "    n/2  T(n/4)   T(n/4)    n/2   T(n/4)   T(n/4) ---------- n/2 + n/2 = 2n/2 = n\n",
    "\n",
    "                                              ------------- 4n/4 = n/2^2\n",
    "                                              .\n",
    "                                              .\n",
    "                                              .\n",
    "                                              .\n",
    "   for k iteration         n/2^k                                   ------------- 1\n",
    "```\n",
    "\n",
    "n/2^k = 1<br>\n",
    "n = 2^k<br>\n",
    "k = log(n)<br>\n",
    "\n",
    "for k - log(n) --- sum of iterations is below<br>\n",
    "n + n + n ------ log(n) times<br><br>\n",
    "\n",
    "**So, Time complexity is O(n log(n))**"
   ]
  },
  {
   "cell_type": "code",
   "execution_count": null,
   "metadata": {
    "vscode": {
     "languageId": "plaintext"
    }
   },
   "outputs": [],
   "source": []
  }
 ],
 "metadata": {
  "language_info": {
   "name": "python"
  }
 },
 "nbformat": 4,
 "nbformat_minor": 2
}
