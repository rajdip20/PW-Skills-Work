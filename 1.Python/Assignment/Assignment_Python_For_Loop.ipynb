{
 "cells": [
  {
   "cell_type": "markdown",
   "metadata": {},
   "source": [
    "# Basic Level:"
   ]
  },
  {
   "cell_type": "markdown",
   "metadata": {},
   "source": [
    "### 1. Write a Python program to print the numbers from 1 to 10 using a `for` loop."
   ]
  },
  {
   "cell_type": "code",
   "execution_count": 1,
   "metadata": {},
   "outputs": [
    {
     "name": "stdout",
     "output_type": "stream",
     "text": [
      "1\n",
      "2\n",
      "3\n",
      "4\n",
      "5\n",
      "6\n",
      "7\n",
      "8\n",
      "9\n",
      "10\n"
     ]
    }
   ],
   "source": [
    "# Iterate through 1 to 11 and print every number\n",
    "for i in range(1, 11):\n",
    "    print(i)"
   ]
  },
  {
   "cell_type": "markdown",
   "metadata": {},
   "source": [
    "- Iterate through a range of 1 to 11.\n",
    "- In every iteration print the iteration number."
   ]
  },
  {
   "cell_type": "markdown",
   "metadata": {},
   "source": [
    "### 2. Create a program that calculates the sum of all numbers in a list using a `for` loop."
   ]
  },
  {
   "cell_type": "code",
   "execution_count": 2,
   "metadata": {},
   "outputs": [
    {
     "name": "stdout",
     "output_type": "stream",
     "text": [
      "Sum of all elements in the list: 62\n"
     ]
    }
   ],
   "source": [
    "# Make an example list\n",
    "my_list = [2, 3, 1, 4, 28, 4, 16, 4]\n",
    "\n",
    "# Initialize a sum variable with 0\n",
    "digit_sum = 0\n",
    "\n",
    "# Iterate through the list and perform the addition\n",
    "for ele in my_list:\n",
    "    digit_sum += ele\n",
    "\n",
    "# print the sum value\n",
    "print(f\"Sum of all elements in the list: {digit_sum}\")"
   ]
  },
  {
   "cell_type": "markdown",
   "metadata": {},
   "source": [
    "- Make an example list. Store the list in my_list variable.\n",
    "- Initialize digit_sum variable with 0.\n",
    "- Iterate through each element in the list.\n",
    "- In every iteration add the number with digit_sum and store it in digit_sum.\n",
    "- Finally, print the sum."
   ]
  },
  {
   "cell_type": "markdown",
   "metadata": {},
   "source": [
    "### 3. Write a program to print the characters of a string in reverse order using a `for` loop."
   ]
  },
  {
   "cell_type": "code",
   "execution_count": 3,
   "metadata": {},
   "outputs": [
    {
     "name": "stdout",
     "output_type": "stream",
     "text": [
      "Enter a string: Rajdip\n",
      "Reverse string: pidjaR\n"
     ]
    }
   ],
   "source": [
    "# Take input a string from user\n",
    "string = input(\"Enter a string: \")\n",
    "\n",
    "# Initialize an empty string\n",
    "rev_string = \"\"\n",
    "\n",
    "# Iterate through each character of the string and print in the reverse order\n",
    "for i in range(len(string)-1, -1, -1):\n",
    "    rev_string += string[i]\n",
    "\n",
    "# Print the reverse string\n",
    "print(f\"Reverse string: {rev_string}\")"
   ]
  },
  {
   "cell_type": "markdown",
   "metadata": {},
   "source": [
    "- Take string input from user using input() function and store it in string variable.\n",
    "- Initialize rev_string variable with empty string.\n",
    "- Iterate through range of given string in reverse order.\n",
    "- In every iteration add the charecter in rev_string.\n",
    "- Finally, print the reversed string."
   ]
  },
  {
   "cell_type": "markdown",
   "metadata": {},
   "source": [
    "### 4. Develop a program that finds the factorial of a given number using a `for` loop."
   ]
  },
  {
   "cell_type": "code",
   "execution_count": 4,
   "metadata": {},
   "outputs": [
    {
     "name": "stdout",
     "output_type": "stream",
     "text": [
      "Enter a number: 6\n",
      "Factorial of 6: 720\n"
     ]
    }
   ],
   "source": [
    "# Take input a number from user\n",
    "num = int(input(\"Enter a number: \"))\n",
    "\n",
    "# Initialize fact variable with 1\n",
    "fact = 1\n",
    "\n",
    "# Iterate through range of the number and multiply\n",
    "for i in range(1, num + 1):\n",
    "    fact *= i\n",
    "\n",
    "# Print the answer\n",
    "print(f\"Factorial of {num}: {fact}\")"
   ]
  },
  {
   "cell_type": "markdown",
   "metadata": {},
   "source": [
    "- Take integer input from user using input() function and typecast it into integer. store the value in num variable.\n",
    "- Initialize fact variable with 1.\n",
    "- Iterate through range of 1 to num+1.\n",
    "- In every iteration multiply the value with fact and store it in fact variable.\n",
    "- Finally, print factorial of the number."
   ]
  },
  {
   "cell_type": "markdown",
   "metadata": {},
   "source": [
    "### 5. Create a program to print the multiplication table of a given number using a `for` loop."
   ]
  },
  {
   "cell_type": "code",
   "execution_count": 5,
   "metadata": {},
   "outputs": [
    {
     "name": "stdout",
     "output_type": "stream",
     "text": [
      "Enter a number: 5\n",
      "5 x 1 = 5\n",
      "5 x 2 = 10\n",
      "5 x 3 = 15\n",
      "5 x 4 = 20\n",
      "5 x 5 = 25\n",
      "5 x 6 = 30\n",
      "5 x 7 = 35\n",
      "5 x 8 = 40\n",
      "5 x 9 = 45\n",
      "5 x 10 = 50\n"
     ]
    }
   ],
   "source": [
    "# Take input a number from user\n",
    "num = int(input(\"Enter a number: \"))\n",
    "\n",
    "# Iterate through range of the number and multiply\n",
    "for i in range(1, 11):\n",
    "    print(f\"{num} x {i} = {num*i}\")"
   ]
  },
  {
   "cell_type": "markdown",
   "metadata": {},
   "source": [
    "- Take a integer input from user using input() function and typecast it to integer using int() function. Store it in num variable.\n",
    "- Iterate through range of 1 to 11.\n",
    "- In every iteration mulitiply the number with iteration number and print it. This can print a multiplication table upto 10."
   ]
  },
  {
   "cell_type": "markdown",
   "metadata": {},
   "source": [
    "### 6. Write a program that counts the number of even and odd numbers in a list using a `for` loop."
   ]
  },
  {
   "cell_type": "code",
   "execution_count": 6,
   "metadata": {},
   "outputs": [
    {
     "name": "stdout",
     "output_type": "stream",
     "text": [
      "After counting:\n",
      "Even = 5\n",
      "Odd = 3\n"
     ]
    }
   ],
   "source": [
    "# Make an example list\n",
    "my_list = [2, 3, 1, 4, 27, 4, 16, 4]\n",
    "\n",
    "# Initialize two variable with 0\n",
    "even = 0\n",
    "odd = 0\n",
    "\n",
    "# Iterate through the list and check if the number even or odd\n",
    "for ele in my_list:\n",
    "    if ele % 2 == 0:\n",
    "        even += 1\n",
    "    else:\n",
    "        odd += 1\n",
    "\n",
    "# Print the result\n",
    "print(f\"After counting:\\nEven = {even}\\nOdd = {odd}\")"
   ]
  },
  {
   "cell_type": "markdown",
   "metadata": {},
   "source": [
    "- Make an example list. Store the list in my_list variable.\n",
    "- Initialize even and odd variables with 0.\n",
    "- Iterate through each element in the list.\n",
    "- In every iteration check if the element is even or odd\n",
    "    - If it even, then increase the even variable value by 1.\n",
    "    - else, increase the odd variable value by 1.\n",
    "- Finally, total number of even and odd value."
   ]
  },
  {
   "cell_type": "markdown",
   "metadata": {},
   "source": [
    "### 7. Develop a program that prints the squares of numbers from 1 to 5 using a `for` loop."
   ]
  },
  {
   "cell_type": "code",
   "execution_count": 7,
   "metadata": {},
   "outputs": [
    {
     "name": "stdout",
     "output_type": "stream",
     "text": [
      "1^2 = 1\n",
      "2^2 = 4\n",
      "3^2 = 9\n",
      "4^2 = 16\n",
      "5^2 = 25\n"
     ]
    }
   ],
   "source": [
    "# Iterate through 1 to 6 and print squares of every number\n",
    "for i in range(1, 6):\n",
    "    print(f\"{i}^2 = {i**2}\")"
   ]
  },
  {
   "cell_type": "markdown",
   "metadata": {},
   "source": [
    "- Iterate through a tange of 1 to 6.\n",
    "- In every iteration print iteration to the power of 2 (means square of the number)."
   ]
  },
  {
   "cell_type": "markdown",
   "metadata": {},
   "source": [
    "### 8. Create a program to find the length of a string without using the `len()` function."
   ]
  },
  {
   "cell_type": "code",
   "execution_count": 8,
   "metadata": {},
   "outputs": [
    {
     "name": "stdout",
     "output_type": "stream",
     "text": [
      "Enter a string: Rajdip Das\n",
      "Length of the string is: 10\n"
     ]
    }
   ],
   "source": [
    "# Take input a string from user\n",
    "string = input(\"Enter a string: \")\n",
    "\n",
    "# Initialize a count variable with 0\n",
    "count = 0\n",
    "\n",
    "# Iterate through the string and count each character\n",
    "for char in string:\n",
    "    count += 1\n",
    "\n",
    "# Print the total number\n",
    "print(\"Length of the string is:\", count)"
   ]
  },
  {
   "cell_type": "markdown",
   "metadata": {},
   "source": [
    "- Take string input from user using input() function and store it in string variable.\n",
    "- Initialize count variable with 0.\n",
    "- Iterate through every character in the string.\n",
    "- In every iteration increase the count variable by 1.\n",
    "- Finally, print the total number of character."
   ]
  },
  {
   "cell_type": "markdown",
   "metadata": {},
   "source": [
    "### 9. Write a program that calculates the average of a list of numbers using a `for` loop."
   ]
  },
  {
   "cell_type": "code",
   "execution_count": 9,
   "metadata": {},
   "outputs": [
    {
     "name": "stdout",
     "output_type": "stream",
     "text": [
      "Average of the list of numbers is: 7.75\n"
     ]
    }
   ],
   "source": [
    "# Make an example list\n",
    "my_list = [2, 3, 1, 4, 28, 4, 16, 4]\n",
    "\n",
    "# Initialize a digit_sum variable with 0\n",
    "digit_sum = 0\n",
    "\n",
    "# Iterate through the list and perform the addition\n",
    "for ele in my_list:\n",
    "    digit_sum += ele\n",
    "\n",
    "# Calculate average of the numbers\n",
    "ave = digit_sum/len(my_list)\n",
    "\n",
    "# Print the average\n",
    "print(\"Average of the list of numbers is:\", ave)"
   ]
  },
  {
   "cell_type": "markdown",
   "metadata": {},
   "source": [
    "- Make an example list. Store the list in my_list variable.\n",
    "- Initialize digit_sum variable with 0.\n",
    "- Iterate through each element in the list.\n",
    "- In every iteration add the number with digit_sum and store it in digit_sum.\n",
    "- Then divide the sum by length of the list (calculated by len() function). Store this in ave variable.\n",
    "- Finally, print the average."
   ]
  },
  {
   "cell_type": "markdown",
   "metadata": {},
   "source": [
    "### 10. Develop a program that prints the first `n` Fibonacci numbers using a `for` loop."
   ]
  },
  {
   "cell_type": "code",
   "execution_count": 10,
   "metadata": {},
   "outputs": [
    {
     "name": "stdout",
     "output_type": "stream",
     "text": [
      "Enter how many fibonacci number you want to print: 6\n",
      "Fibonacci sequence: \n",
      "0\n",
      "1\n",
      "1\n",
      "2\n",
      "3\n",
      "5\n"
     ]
    }
   ],
   "source": [
    "# Take input a number from user\n",
    "num = int(input(\"Enter how many fibonacci number you want to print: \"))\n",
    "\n",
    "# Initialize two variable with 0 and 1\n",
    "n1 = 0\n",
    "n2 = 1\n",
    "\n",
    "# Iterate through range of n and print the series\n",
    "print(\"Fibonacci sequence: \")\n",
    "print(n1)\n",
    "for i in range(1, num):\n",
    "    print(n2)\n",
    "    next = n1 + n2\n",
    "    n1 = n2\n",
    "    n2 = next"
   ]
  },
  {
   "cell_type": "markdown",
   "metadata": {},
   "source": [
    "- Take a integer input from user using input() function and typecast it to integer using int() function. Store it in num variable.\n",
    "- Initialize n1 and n2 variable with 0 and 1.\n",
    "- print n1 once.\n",
    "- Iterate through a range of 1 to num.\n",
    "- In every iteration print n2. Then add n1 and n2, store it in next variable. copy n2 in n1 and next in n2."
   ]
  },
  {
   "cell_type": "markdown",
   "metadata": {},
   "source": [
    "# Intermediate Level:"
   ]
  },
  {
   "cell_type": "markdown",
   "metadata": {},
   "source": [
    "### 11. Write a program to check if a given list contains any duplicates using a `for` loop."
   ]
  },
  {
   "cell_type": "code",
   "execution_count": 11,
   "metadata": {},
   "outputs": [
    {
     "name": "stdout",
     "output_type": "stream",
     "text": [
      "List contains duplicate values.\n"
     ]
    }
   ],
   "source": [
    "# Make an example list\n",
    "my_list = [11, 22, 33, 44, 55, 66, 22]\n",
    "\n",
    "# Initialize check with False value\n",
    "check = False\n",
    "\n",
    "# Iterate through the list\n",
    "for i in range(len(my_list)):\n",
    "    for j in range(i):\n",
    "        if my_list[i] == my_list[j]:\n",
    "            check = True\n",
    "\n",
    "if check:\n",
    "    print(\"List contains duplicate values.\")\n",
    "else:\n",
    "    print(\"List does not contains duplicate values.\")"
   ]
  },
  {
   "cell_type": "markdown",
   "metadata": {},
   "source": [
    "- Make an example list. Store the list in my_list variable.\n",
    "- Initialize check variable with boolean value False.\n",
    "- Iterate through length of the list.\n",
    "- In every iteration, Iterate range of first iteration.\n",
    "- In every iteration, check is element in i'th position equal to element in j'th position or not\n",
    "    - If yes, then make check value True.\n",
    "- Then check, is check value True or False\n",
    "    - If true, then print list contains duplicate values.\n",
    "    - else, print list does not contains duplicate values."
   ]
  },
  {
   "cell_type": "markdown",
   "metadata": {},
   "source": [
    "### 12. Create a program that prints the prime numbers in a given range using a `for` loop."
   ]
  },
  {
   "cell_type": "code",
   "execution_count": 12,
   "metadata": {},
   "outputs": [
    {
     "name": "stdout",
     "output_type": "stream",
     "text": [
      "Prime numbers in the given range: \n",
      "2 3 5 7 11 13 17 "
     ]
    }
   ],
   "source": [
    "# Initialize upper and lower value for the range\n",
    "lower_value = 0\n",
    "upper_value = 17\n",
    "\n",
    "# Initialize flag with 0\n",
    "flag = 0\n",
    "\n",
    "# Check is the lower value less than 2. if yes then update the value with 2\n",
    "if lower_value < 2:\n",
    "    lower_value = 2\n",
    "\n",
    "# Iterate through the range and check if the number is prime or not then print the number\n",
    "print(\"Prime numbers in the given range: \")\n",
    "for i in range(lower_value, upper_value+1):\n",
    "    for j in range(2, i):\n",
    "        if i % j == 0:\n",
    "            flag = 1\n",
    "            break\n",
    "        else:\n",
    "            flag = 0\n",
    "        \n",
    "    if flag == 0:\n",
    "        print(i, end=\" \")"
   ]
  },
  {
   "cell_type": "markdown",
   "metadata": {},
   "source": [
    "- Initialize two variale lower_value and upper_value. Assign them 0 and 17.\n",
    "- Initialize flag variable with 0.\n",
    "- Check is the lower value less than 2 or not.\n",
    "    - If yes, then assign lower_value = 2.\n",
    "- Iterate through lower_value to upper_value+1 and check the number prime or not\n",
    "    - If the number is prime, then print the number."
   ]
  },
  {
   "cell_type": "markdown",
   "metadata": {},
   "source": [
    "### 13. Develop a program that counts the number of vowels in a string using a `for` loop."
   ]
  },
  {
   "cell_type": "code",
   "execution_count": 13,
   "metadata": {},
   "outputs": [
    {
     "name": "stdout",
     "output_type": "stream",
     "text": [
      "Enter a string: I am Rajdip Das\n",
      "Number of vowels: 5\n"
     ]
    }
   ],
   "source": [
    "# Taking input a string from user\n",
    "string = input(\"Enter a string: \")\n",
    "count = 0\n",
    "\n",
    "# Iterate each character in the string\n",
    "for char in string:\n",
    "    char_lower = char.lower()    # Convert each character in the string to lowercase\n",
    "    \n",
    "    if char_lower in \"aeiou\":\n",
    "        count += 1               # if character is a vowel increment count value by 1\n",
    "\n",
    "# Print total number of vowel\n",
    "print(\"Number of vowels:\", count)"
   ]
  },
  {
   "cell_type": "markdown",
   "metadata": {},
   "source": [
    "- Take a string as input from user using input() function and store it in string variable.\n",
    "- Make a count variable to keep the count of each vowel. Initially it is 0.\n",
    "- Iterate each character in the string using for loop.\n",
    "- Convert all character in lower case using .lower() method and save it in char_lower variable.\n",
    "- Check the character if it is in \"aeiou\" or not using if statement.\n",
    "    - If the condition satisfied then count variable increased by 1 else not.\n",
    "- Finally, print the final count of vowel."
   ]
  },
  {
   "cell_type": "markdown",
   "metadata": {},
   "source": [
    "### 14. Write a program to find the maximum element in a 2D list using a nested `for` loop."
   ]
  },
  {
   "cell_type": "code",
   "execution_count": 14,
   "metadata": {},
   "outputs": [
    {
     "name": "stdout",
     "output_type": "stream",
     "text": [
      "Maximum element in the 2D list is: 77\n"
     ]
    }
   ],
   "source": [
    "# Make an example 2D list\n",
    "my_list = [[19, 12, 35], [49, 52, 64], [29, 63, 77]]\n",
    "\n",
    "# Initialize a variable with 0\n",
    "value = 0\n",
    "\n",
    "# Iterate through the list\n",
    "for lst in my_list:\n",
    "    for ele in lst:\n",
    "        if ele > value:\n",
    "            value = ele\n",
    "\n",
    "# Print the value\n",
    "print(\"Maximum element in the 2D list is:\", value)"
   ]
  },
  {
   "cell_type": "markdown",
   "metadata": {},
   "source": [
    "- Make an example 2D list. Store the list in my_list variable.\n",
    "- Initialize value variable with 0\n",
    "- Iterate through every lists in the list.\n",
    "- In next iteration, Iterate through every element in sublist.\n",
    "- In every iteration check is the element value greater than value or not.\n",
    "    - If yes, then update the value with new element.\n",
    "- Finally, print the maximum value in the 2D list."
   ]
  },
  {
   "cell_type": "markdown",
   "metadata": {},
   "source": [
    "### 15. Create a program that removes all occurrences of a specific element from a list using a `for` loop."
   ]
  },
  {
   "cell_type": "code",
   "execution_count": 15,
   "metadata": {},
   "outputs": [
    {
     "name": "stdout",
     "output_type": "stream",
     "text": [
      "List after perform deletion: [11, 33, 44, 55, 66]\n"
     ]
    }
   ],
   "source": [
    "# Make an example list\n",
    "my_list = [11, 22, 33, 44, 55, 66, 22]\n",
    "\n",
    "# Take a number which will be delete\n",
    "num = 22\n",
    "\n",
    "# Iterate through the list and remove the digit\n",
    "for ele in my_list[:]:\n",
    "    if ele == num:\n",
    "        my_list.remove(ele)\n",
    "\n",
    "# Print the list\n",
    "print(\"List after perform deletion:\", my_list)"
   ]
  },
  {
   "cell_type": "markdown",
   "metadata": {},
   "source": [
    "- Make an example list. Store the list in my_list variable.\n",
    "- Let a number which will be deleted from the list. I take 22. Store the number in num variable.\n",
    "- Iterate through every element of the list.\n",
    "- Check is the element equal to num or not\n",
    "    - If yes, then remove the element from the list.\n",
    "- Finally, print the updated list."
   ]
  },
  {
   "cell_type": "markdown",
   "metadata": {},
   "source": [
    "### 16. Develop a program that generates a multiplication table for numbers from 1 to 5 using a nested `for` loop."
   ]
  },
  {
   "cell_type": "code",
   "execution_count": 16,
   "metadata": {},
   "outputs": [
    {
     "name": "stdout",
     "output_type": "stream",
     "text": [
      "1 x 1 = 1 | 1 x 2 = 2 | 1 x 3 = 3 | 1 x 4 = 4 | 1 x 5 = 5 | 1 x 6 = 6 | 1 x 7 = 7 | 1 x 8 = 8 | 1 x 9 = 9 | 1 x 10 = 10 | \n",
      "2 x 1 = 2 | 2 x 2 = 4 | 2 x 3 = 6 | 2 x 4 = 8 | 2 x 5 = 10 | 2 x 6 = 12 | 2 x 7 = 14 | 2 x 8 = 16 | 2 x 9 = 18 | 2 x 10 = 20 | \n",
      "3 x 1 = 3 | 3 x 2 = 6 | 3 x 3 = 9 | 3 x 4 = 12 | 3 x 5 = 15 | 3 x 6 = 18 | 3 x 7 = 21 | 3 x 8 = 24 | 3 x 9 = 27 | 3 x 10 = 30 | \n",
      "4 x 1 = 4 | 4 x 2 = 8 | 4 x 3 = 12 | 4 x 4 = 16 | 4 x 5 = 20 | 4 x 6 = 24 | 4 x 7 = 28 | 4 x 8 = 32 | 4 x 9 = 36 | 4 x 10 = 40 | \n",
      "5 x 1 = 5 | 5 x 2 = 10 | 5 x 3 = 15 | 5 x 4 = 20 | 5 x 5 = 25 | 5 x 6 = 30 | 5 x 7 = 35 | 5 x 8 = 40 | 5 x 9 = 45 | 5 x 10 = 50 | \n"
     ]
    }
   ],
   "source": [
    "# Iterate through range of number 1 to 6\n",
    "for i in range(1, 6):\n",
    "    for j in range(1, 11):\n",
    "        print(f\"{i} x {j} = {i*j}\", end= \" | \")\n",
    "    print()"
   ]
  },
  {
   "cell_type": "markdown",
   "metadata": {},
   "source": [
    "- Iterate through range of number 1 to 6\n",
    "- In every iteration, Iterate through 1 to 11\n",
    "- In every iteration print i * j. and in the end print \" | \".\n",
    "- Then print a new line for next iteration."
   ]
  },
  {
   "cell_type": "markdown",
   "metadata": {},
   "source": [
    "### 17. Write a program that converts a list of Fahrenheit temperatures to Celsius using a `for` loop."
   ]
  },
  {
   "cell_type": "code",
   "execution_count": 17,
   "metadata": {},
   "outputs": [
    {
     "name": "stdout",
     "output_type": "stream",
     "text": [
      "Celsius list: [0.0, 20.0, 32.22222222222222, 40.0, 100.0]\n"
     ]
    }
   ],
   "source": [
    "# Make an example Fahrenheit temperature list\n",
    "F_list = [32, 68, 90, 104, 212]\n",
    "\n",
    "# Initialize an empty list for Celsius temperature\n",
    "C_list = []\n",
    "\n",
    "# Iterate through every temperature in the F_list and convert it\n",
    "for temp in F_list:\n",
    "    celsius = (temp - 32) * 5/9\n",
    "    C_list.append(celsius)\n",
    "\n",
    "# Print the list\n",
    "print(\"Celsius list:\", C_list)"
   ]
  },
  {
   "cell_type": "markdown",
   "metadata": {},
   "source": [
    "- Initialize example Fahrenheit temperature list. Store it in F_list variable.\n",
    "- Initialize C_list variable with empty list.\n",
    "- Iterate through every element in the list\n",
    "- In every iteration change the fahrenheit value into celsius value. Store it in celsius variable.\n",
    "- Append celsius in C_list using .append() method.\n",
    "- Finally, print the list of celsius values."
   ]
  },
  {
   "cell_type": "markdown",
   "metadata": {},
   "source": [
    "### 18. Create a program to print the common elements from two lists using a `for` loop."
   ]
  },
  {
   "cell_type": "code",
   "execution_count": 18,
   "metadata": {},
   "outputs": [
    {
     "name": "stdout",
     "output_type": "stream",
     "text": [
      "List of common elements: [55, 66]\n"
     ]
    }
   ],
   "source": [
    "# Make two example list\n",
    "my_list1 = [11, 22, 33, 44, 55, 66]\n",
    "my_list2 = [55, 66, 77, 88, 99]\n",
    "\n",
    "# Initialize an empty list\n",
    "common_list = []\n",
    "\n",
    "# Iterate through list1 and list2 and check is there have any common element or not\n",
    "for ele1 in my_list1:\n",
    "    for ele2 in my_list2:\n",
    "        if ele1 == ele2:\n",
    "            if ele1 not in common_list:\n",
    "                common_list.append(ele1)\n",
    "\n",
    "# Print list of common elements\n",
    "print(\"List of common elements:\", common_list)"
   ]
  },
  {
   "cell_type": "markdown",
   "metadata": {},
   "source": [
    "- Make two example list. Store the lists in my_list1 and my_list2 variable.\n",
    "- Initialize common_list variable with empty list.\n",
    "- Iterate through list1 and list2 and check is there have any common element or not\n",
    "    - If there have any common element then append the element in common_list using .append() method.\n",
    "- Finally, print the common list."
   ]
  },
  {
   "cell_type": "markdown",
   "metadata": {},
   "source": [
    "### 19. Develop a program that prints the pattern of right-angled triangles using a `for` loop. Use ‘*’ to draw the pattern."
   ]
  },
  {
   "cell_type": "code",
   "execution_count": 19,
   "metadata": {},
   "outputs": [
    {
     "name": "stdout",
     "output_type": "stream",
     "text": [
      "\n",
      "* \n",
      "* * \n",
      "* * * \n",
      "* * * * \n"
     ]
    }
   ],
   "source": [
    "# Let an example row count\n",
    "row = 5\n",
    "\n",
    "# Iterate through range of row and print '*' for make triangle\n",
    "for i in range(row):\n",
    "    for j in range(i):\n",
    "        print('*', end=' ')\n",
    "    print()"
   ]
  },
  {
   "cell_type": "markdown",
   "metadata": {},
   "source": [
    "- Let an example row count. I take 5 and store it in row variable.\n",
    "- Iterate through range of row then make another iteration through range of first iteration.\n",
    "- In every iteration, print '*' and in the end print a space. this will print a row of star.\n",
    "- Then print a new line so that the printing goes to next line."
   ]
  },
  {
   "cell_type": "markdown",
   "metadata": {},
   "source": [
    "### 20. Write a program to find the greatest common divisor (GCD) of two numbers using a `for` loop."
   ]
  },
  {
   "cell_type": "code",
   "execution_count": 20,
   "metadata": {},
   "outputs": [
    {
     "name": "stdout",
     "output_type": "stream",
     "text": [
      "GCD of 36 and 60 is 12\n"
     ]
    }
   ],
   "source": [
    "# Make two example number\n",
    "num1 = 36\n",
    "num2 = 60\n",
    "\n",
    "# Initialize a variable with value 1\n",
    "gcd = 1\n",
    "\n",
    "# Iterate through 1 to min-value between two numbers\n",
    "for i in range(1, min(num1, num2)):\n",
    "    if num1 % i == 0 and num2 % i == 0:\n",
    "        gcd = i\n",
    "\n",
    "# Print GCD value\n",
    "print(\"GCD of\", num1, \"and\", num2, \"is\", gcd)"
   ]
  },
  {
   "cell_type": "markdown",
   "metadata": {},
   "source": [
    "- Make two example number 36 and 60. Store the numbers in num1 and num2 variable.\n",
    "- Initialize gcd variable with value 1.\n",
    "- Iterate through 1 to min-value between two numbers.\n",
    "- In every iteration if modulo-divide num1 by i and num2 by i is 0. If this condition satisfied then save the i'th value in gcd.\n",
    "- Finally, print the answer."
   ]
  },
  {
   "cell_type": "markdown",
   "metadata": {},
   "source": [
    "# Advanced Level:"
   ]
  },
  {
   "cell_type": "markdown",
   "metadata": {},
   "source": [
    "### 21. Create a program that calculates the sum of the digits of numbers in a list using a list comprehension."
   ]
  },
  {
   "cell_type": "code",
   "execution_count": 21,
   "metadata": {},
   "outputs": [
    {
     "name": "stdout",
     "output_type": "stream",
     "text": [
      "Sum of all digits in list: 15\n"
     ]
    }
   ],
   "source": [
    "# Make an example list\n",
    "my_list = [1, 2, 3, 4, 5]\n",
    "\n",
    "# Calculate sum of all digits in the list using list comprehension\n",
    "digit_sum = sum(digit for digit in my_list)\n",
    "\n",
    "# Print sum of all digits\n",
    "print(\"Sum of all digits in list:\", digit_sum)"
   ]
  },
  {
   "cell_type": "markdown",
   "metadata": {},
   "source": [
    "- Make an example list and store it in my_list variable.\n",
    "- Calculate sum (using sum() function) of all digits in the list using list comprehension. Store it in digit_sum variable.\n",
    "- Finally, print the sum of all digits."
   ]
  },
  {
   "cell_type": "markdown",
   "metadata": {},
   "source": [
    "### 22. Write a program to find the prime factors of a given number using a `for` loop and list comprehension."
   ]
  },
  {
   "cell_type": "code",
   "execution_count": 22,
   "metadata": {},
   "outputs": [
    {
     "name": "stdout",
     "output_type": "stream",
     "text": [
      "The prime factors of 84: [2, 3, 7]\n"
     ]
    }
   ],
   "source": [
    "# Take an example number and an empty list\n",
    "num = 84\n",
    "factors = []\n",
    "\n",
    "# Finding prime factor using for loop and list comprehension\n",
    "for i in range(2, num + 1):\n",
    "    if num % i == 0:\n",
    "        prime = all(i % j != 0 for j in range(2, i))\n",
    "        if prime:\n",
    "            factors.append(i)\n",
    "\n",
    "# Print the prime factors\n",
    "print(f\"The prime factors of {num}: {factors}\")"
   ]
  },
  {
   "cell_type": "markdown",
   "metadata": {},
   "source": [
    "- Take an example number and store it in num variable.\n",
    "- Take an empty list and store it in factors variable.\n",
    "- Finding prime factor using for loop and list comprehension. Then append the answers in factors variable.\n",
    "- Finally, print the list of prime factors."
   ]
  },
  {
   "cell_type": "markdown",
   "metadata": {},
   "source": [
    "### 23. Develop a program that extracts unique elements from a list and stores them in a new list using a list comprehension."
   ]
  },
  {
   "cell_type": "code",
   "execution_count": 23,
   "metadata": {},
   "outputs": [
    {
     "name": "stdout",
     "output_type": "stream",
     "text": [
      "Unique elements form the list: [1, 2, 3, 4, 5, 6, 8]\n"
     ]
    }
   ],
   "source": [
    "# Make an example list\n",
    "my_list = [1, 2, 3, 4, 5, 4, 2, 5, 2, 6, 8]\n",
    "\n",
    "# Fetch unique element using list comprehension\n",
    "new_list = list(set(ele for ele in my_list))\n",
    "\n",
    "# Print the new list\n",
    "print(\"Unique elements form the list:\", new_list)"
   ]
  },
  {
   "cell_type": "markdown",
   "metadata": {},
   "source": [
    "- Make an example list and store it in my_list variable.\n",
    "- Fetch unique elements from the list using list comprehension and store it in new_list variable.\n",
    "- Finally, print the new list."
   ]
  },
  {
   "cell_type": "markdown",
   "metadata": {},
   "source": [
    "### 24. Create a program that generates a list of all palindromic numbers up to a specified limit using a list comprehension."
   ]
  },
  {
   "cell_type": "code",
   "execution_count": 24,
   "metadata": {},
   "outputs": [
    {
     "name": "stdout",
     "output_type": "stream",
     "text": [
      "List of palindromic number: [101, 111, 121, 131, 141, 151, 161, 171, 181, 191, 202, 212, 222, 232, 242, 252, 262, 272, 282, 292]\n"
     ]
    }
   ],
   "source": [
    "# Take an example lower limit and upper limit\n",
    "lower_limit = 100\n",
    "upper_limit = 300\n",
    "\n",
    "# Find palindromic number within range\n",
    "palindrome_number = [num for num in range(lower_limit, upper_limit + 1) if str(num) == str(num)[::-1]]\n",
    "\n",
    "# Print the list of palindrome number\n",
    "print(\"List of palindromic number:\", palindrome_number)"
   ]
  },
  {
   "cell_type": "markdown",
   "metadata": {},
   "source": [
    "- Take an example lower limit and upper limit. Store the limits in lower_limit and upper_limit variable.\n",
    "- Find palindromic number within the range using list comprehension. Store it in palindrome_number variable.\n",
    "- Finally, print the list of palindrome numbers."
   ]
  },
  {
   "cell_type": "markdown",
   "metadata": {},
   "source": [
    "### 25. Write a program to flatten a nested list using list comprehension."
   ]
  },
  {
   "cell_type": "code",
   "execution_count": 25,
   "metadata": {},
   "outputs": [
    {
     "name": "stdout",
     "output_type": "stream",
     "text": [
      "Flatten list: [1, 2, 3, 3, 4, 5, 5, 6, 7]\n"
     ]
    }
   ],
   "source": [
    "# Make an example nested list\n",
    "nested_list = [[1, 2, 3], [3, 4, 5], [5, 6, 7]]\n",
    "\n",
    "# Make the list flatten using list comprehension\n",
    "flatten_list = [num for i in nested_list for num in i]\n",
    "\n",
    "# Print the flatten list\n",
    "print(\"Flatten list:\", flatten_list)"
   ]
  },
  {
   "cell_type": "markdown",
   "metadata": {},
   "source": [
    "- Make an example nested list and store it in nested_list variable.\n",
    "- Make the list flatten using list comprehension and store it in flatten_list.\n",
    "- Finally, print the flatten list."
   ]
  },
  {
   "cell_type": "markdown",
   "metadata": {},
   "source": [
    "### 26. Develop a program that computes the sum of even and odd numbers in a list separately using list comprehension."
   ]
  },
  {
   "cell_type": "code",
   "execution_count": 26,
   "metadata": {},
   "outputs": [
    {
     "name": "stdout",
     "output_type": "stream",
     "text": [
      "Sum of even numbers: 20\n",
      "Sum of odd numbers: 25\n"
     ]
    }
   ],
   "source": [
    "# Make an example list\n",
    "my_list = [1, 2, 3, 4, 5, 6, 7, 8, 9]\n",
    "\n",
    "# Calculate sum of the even and odd numbers\n",
    "even_sum = sum([num for num in my_list if num % 2 == 0])\n",
    "odd_sum = sum([num for num in my_list if num % 2 != 0])\n",
    "\n",
    "# Print the sum values\n",
    "print(\"Sum of even numbers:\", even_sum)\n",
    "print(\"Sum of odd numbers:\", odd_sum)"
   ]
  },
  {
   "cell_type": "markdown",
   "metadata": {},
   "source": [
    "- Make an example list and store it in my_list variable.\n",
    "- Calculate sum of the even and odd numbers using list comprehension. Store the answers even_sum and odd_sum variable.\n",
    "- Finally, print sum of even numbers and odd numbers."
   ]
  },
  {
   "cell_type": "markdown",
   "metadata": {},
   "source": [
    "### 27. Create a program that generates a list of squares of odd numbers between 1 and 10 using list comprehension."
   ]
  },
  {
   "cell_type": "code",
   "execution_count": 27,
   "metadata": {},
   "outputs": [
    {
     "name": "stdout",
     "output_type": "stream",
     "text": [
      "Square of all odd numbers: [1, 9, 25, 49, 81]\n"
     ]
    }
   ],
   "source": [
    "# Calculate squares of odd numbers using list comprehension\n",
    "square_of_odds = [i**2 for i in range(1, 11) if i % 2 != 0]\n",
    "\n",
    "# Print the list\n",
    "print(\"Square of all odd numbers:\", square_of_odds)"
   ]
  },
  {
   "cell_type": "markdown",
   "metadata": {},
   "source": [
    "- Calculate squares of odd numbers using list comprehension and store the list in square_of_odds variable.\n",
    "- Finally, print the list."
   ]
  },
  {
   "cell_type": "markdown",
   "metadata": {},
   "source": [
    "### 28. Write a program that combines two lists into a dictionary using list comprehension."
   ]
  },
  {
   "cell_type": "code",
   "execution_count": 28,
   "metadata": {},
   "outputs": [
    {
     "name": "stdout",
     "output_type": "stream",
     "text": [
      "The dictionary is: {'a': 71, 'b': 32, 'c': 63}\n"
     ]
    }
   ],
   "source": [
    "# Make two example list\n",
    "keys = ['a', 'b', 'c', 'd']\n",
    "values = [71, 32, 63]\n",
    "\n",
    "# Make dictionary using the lists\n",
    "my_dict = {keys[i]: values[i] for i in range(min(len(keys), len(values)))}\n",
    "\n",
    "# Print the dictionary\n",
    "print(\"The dictionary is:\", my_dict)"
   ]
  },
  {
   "cell_type": "markdown",
   "metadata": {},
   "source": [
    "- Make two example lists. Store them in keys and values variable.\n",
    "- Make dictionary using the two lists and store it in my_dict variable.\n",
    "- Finally, print the dictionary."
   ]
  },
  {
   "cell_type": "markdown",
   "metadata": {},
   "source": [
    "### 29. Develop a program that extracts the vowels from a string and stores them in a list using list comprehension."
   ]
  },
  {
   "cell_type": "code",
   "execution_count": 29,
   "metadata": {},
   "outputs": [
    {
     "name": "stdout",
     "output_type": "stream",
     "text": [
      "List of vowels: ['E', 'u', 'a', 'i', 'o']\n"
     ]
    }
   ],
   "source": [
    "# Make an example string\n",
    "string = 'Education'\n",
    "\n",
    "# Extract all vowels using list comprehension\n",
    "vowels = [string[i] for i in range(len(string)) if string[i].lower() in 'aeiou']\n",
    "\n",
    "# Print the list of vowels\n",
    "print(\"List of vowels:\", vowels)"
   ]
  },
  {
   "cell_type": "markdown",
   "metadata": {},
   "source": [
    "- Make an example string and store it in string variable.\n",
    "- Extract all vowels from the string using list comprehension. Store the list in vowels variable.\n",
    "- Finally, print the list of vowels."
   ]
  },
  {
   "cell_type": "markdown",
   "metadata": {},
   "source": [
    "### 30. Create a program that removes all non-numeric characters from a list of strings using list comprehension."
   ]
  },
  {
   "cell_type": "code",
   "execution_count": 30,
   "metadata": {},
   "outputs": [
    {
     "name": "stdout",
     "output_type": "stream",
     "text": [
      "List of all numeric values: ['23', '24', '36']\n"
     ]
    }
   ],
   "source": [
    "# Make an example list\n",
    "my_list = ['raj', '23', 'das', '24', '36', 'dip']\n",
    "\n",
    "# Remove all non-numeric characters\n",
    "num_list = [ele for ele in my_list if ele.isdigit()]\n",
    "\n",
    "# Print the list of numeric values\n",
    "print(\"List of all numeric values:\", num_list)"
   ]
  },
  {
   "cell_type": "markdown",
   "metadata": {},
   "source": [
    "- Make an example list and store it in my_list variable.\n",
    "- Remove all non-numeric characters from the list and store the list in num_list variable.\n",
    "- Finally, print the list of numeric values."
   ]
  },
  {
   "cell_type": "markdown",
   "metadata": {},
   "source": [
    "# Challenge Level:"
   ]
  },
  {
   "cell_type": "markdown",
   "metadata": {},
   "source": [
    "### 31. Write a program to generate a list of prime numbers using the Sieve of Eratosthenes algorithm and list comprehension."
   ]
  },
  {
   "cell_type": "code",
   "execution_count": 31,
   "metadata": {},
   "outputs": [
    {
     "name": "stdout",
     "output_type": "stream",
     "text": [
      "List of prime numbers upto 30 : [2, 3, 5, 7, 11, 13, 17, 19, 23, 29]\n"
     ]
    }
   ],
   "source": [
    "# Take an example upper limit\n",
    "n = 30\n",
    "\n",
    "# Calculate all prime within 30 using list comprehension\n",
    "prime = [i for i in range(2, n + 1) if all(i % j != 0 for j in range(2, int(i ** 0.5) + 1))]\n",
    "\n",
    "# print the list of prime numbers\n",
    "print(\"List of prime numbers upto\", n, \":\", prime)"
   ]
  },
  {
   "cell_type": "markdown",
   "metadata": {},
   "source": [
    "- Take an example upper limit and store it in n variable.\n",
    "- Calculate all prime within the upper limit using list comprehension then store the list in prime variable.\n",
    "- Finally, print the list of prime numbers."
   ]
  },
  {
   "cell_type": "markdown",
   "metadata": {},
   "source": [
    "### 32. Create a program that generates a list of all Pythagorean triplets up to a specified limit using list comprehension."
   ]
  },
  {
   "cell_type": "code",
   "execution_count": 32,
   "metadata": {},
   "outputs": [
    {
     "name": "stdout",
     "output_type": "stream",
     "text": [
      "List of triptels:\n",
      " [(3, 4, 5), (4, 3, 5), (5, 12, 13), (6, 8, 10), (8, 6, 10), (8, 15, 17), (9, 12, 15), (12, 5, 13), (12, 9, 15), (12, 16, 20), (15, 8, 17), (16, 12, 20)]\n"
     ]
    }
   ],
   "source": [
    "# Take an example upper limit\n",
    "n = 20\n",
    "\n",
    "# Make the list of pythagorean triplets using list comprehension\n",
    "triplet = [(a, b, c) for a in range(1, n + 1) for b in range(1, n + 1) for c in range(1, n + 1) if a ** 2 + b ** 2 == c ** 2]\n",
    "\n",
    "# Print the list of all triplets\n",
    "print(\"List of triptels:\\n\", triplet)"
   ]
  },
  {
   "cell_type": "markdown",
   "metadata": {},
   "source": [
    "- Take an example upper limit and store the limit in n variable.\n",
    "- Make a list of pythagorean triplets using list comprehension and store the list in triplet variable.\n",
    "- Finally, print the list."
   ]
  },
  {
   "cell_type": "markdown",
   "metadata": {},
   "source": [
    "### 33. Develop a program that generates a list of all possible combinations of two lists using list comprehension."
   ]
  },
  {
   "cell_type": "code",
   "execution_count": 33,
   "metadata": {},
   "outputs": [
    {
     "name": "stdout",
     "output_type": "stream",
     "text": [
      "List of all possible combination:\n",
      " [[1, 6], [1, 7], [1, 8], [1, 9], [2, 6], [2, 7], [2, 8], [2, 9], [3, 6], [3, 7], [3, 8], [3, 9], [4, 6], [4, 7], [4, 8], [4, 9], [5, 6], [5, 7], [5, 8], [5, 9]]\n"
     ]
    }
   ],
   "source": [
    "# Make two example list\n",
    "list1 = [1, 2, 3, 4, 5]\n",
    "list2 = [6, 7, 8, 9]\n",
    "\n",
    "# Make list of all possible combination using list comprehension\n",
    "combination_list = [[i, j] for i in list1 for j in list2]\n",
    "\n",
    "# Print the combination list\n",
    "print(\"List of all possible combination:\\n\", combination_list)"
   ]
  },
  {
   "cell_type": "markdown",
   "metadata": {},
   "source": [
    "- Make two example list and store them in list1 and list2 variable.\n",
    "- Make list of all possible combination from the two lists using list comprehension. Then store it in combination_list variable.\n",
    "- Finally, print the combination list."
   ]
  },
  {
   "cell_type": "markdown",
   "metadata": {},
   "source": [
    "### 34. Write a program that calculates the mean, median, and mode of a list of numbers using list comprehension."
   ]
  },
  {
   "cell_type": "code",
   "execution_count": 34,
   "metadata": {},
   "outputs": [
    {
     "name": "stdout",
     "output_type": "stream",
     "text": [
      "Mean: 7\n",
      "Median: 4\n",
      "Mode: 1\n"
     ]
    }
   ],
   "source": [
    "from statistics import mean, median, mode\n",
    "\n",
    "# Take an example list\n",
    "my_list = [1, 2, 3, 4, 5, 16, 18]\n",
    "\n",
    "# Calculate mean, median and mode\n",
    "mean_num = mean(my_list)\n",
    "median_num = median(my_list)\n",
    "mode_num = mode(my_list)\n",
    "\n",
    "# Print them all\n",
    "print(\"Mean:\", mean_num)\n",
    "print(\"Median:\", median_num)\n",
    "print(\"Mode:\", mode_num)"
   ]
  },
  {
   "cell_type": "markdown",
   "metadata": {},
   "source": [
    "- At first import mean, median and mode functions from statistics package.\n",
    "- Take an example list and store it in my_list variable.\n",
    "- Calculate mean, median and mode and store the values in mean_num, median_num and mode_num variable respectively.\n",
    "- Finally, print the three numbers."
   ]
  },
  {
   "cell_type": "markdown",
   "metadata": {},
   "source": [
    "### 35. Create a program that generates Pascal's triangle up to a specified number of rows using list comprehension."
   ]
  },
  {
   "cell_type": "code",
   "execution_count": 35,
   "metadata": {},
   "outputs": [
    {
     "name": "stdout",
     "output_type": "stream",
     "text": [
      "[1]\n",
      "[1, 1]\n",
      "[1, 2, 1]\n",
      "[1, 3, 3, 1]\n",
      "[1, 4, 6, 4, 1]\n"
     ]
    }
   ],
   "source": [
    "# Take an example row number\n",
    "row = 5\n",
    "\n",
    "# Calculate pascal numbers using list comprehension method\n",
    "triangle = [[1]]\n",
    "[triangle.append([1] + [triangle[-1][i] + triangle[-1][i + 1] for i in range(len(triangle[-1]) - 1)] + [1]) for _ in range(row - 1)]\n",
    "\n",
    "# Print the triangle\n",
    "for row in triangle:\n",
    "    print(row)"
   ]
  },
  {
   "cell_type": "markdown",
   "metadata": {},
   "source": [
    "- Take an example row number and store it in row variable\n",
    "- Calculate pascal numbers using list comprehension method and store it in triangle variable.\n",
    "- Finally, print the triangle."
   ]
  },
  {
   "cell_type": "markdown",
   "metadata": {},
   "source": [
    "### 36. Develop a program that calculates the sum of the digits of a factorial of numbers from 1 to 5 using list comprehension."
   ]
  },
  {
   "cell_type": "code",
   "execution_count": 36,
   "metadata": {},
   "outputs": [
    {
     "name": "stdout",
     "output_type": "stream",
     "text": [
      "Sum of digits of factorial of 1: 1\n",
      "Sum of digits of factorial of 2: 2\n",
      "Sum of digits of factorial of 3: 6\n",
      "Sum of digits of factorial of 4: 6\n",
      "Sum of digits of factorial of 5: 3\n"
     ]
    }
   ],
   "source": [
    "import math\n",
    "\n",
    "# Calculate the sums of digits using list comprehension\n",
    "digit_sum = [sum(int(d) for d in str(math.factorial(n))) for n in range(1, 6)]\n",
    "\n",
    "# Print the results\n",
    "for i, n in enumerate(range(1, 6)):\n",
    "    print(f\"Sum of digits of factorial of {n}: {digit_sum[i]}\")"
   ]
  },
  {
   "cell_type": "markdown",
   "metadata": {},
   "source": [
    "- At first, import math package in my code.\n",
    "- Calculate the sums of digits using list comprehension and store the list in digit_sum variable.\n",
    "- Finally, print the results."
   ]
  },
  {
   "cell_type": "markdown",
   "metadata": {},
   "source": [
    "### 37. Write a program that finds the longest word in a sentence using list comprehension."
   ]
  },
  {
   "cell_type": "code",
   "execution_count": 37,
   "metadata": {},
   "outputs": [
    {
     "name": "stdout",
     "output_type": "stream",
     "text": [
      "The longest word in the string is: 'rajdip'\n"
     ]
    }
   ],
   "source": [
    "# Take an example string\n",
    "string = 'My name is Rajdip Das'\n",
    "\n",
    "# Use list comprehension to filter words and find the longest\n",
    "longest_word = max(word.lower() for word in string.split() if word.isalpha())\n",
    "\n",
    "# Print the result\n",
    "print(f\"The longest word in the string is: '{longest_word}'\")\n"
   ]
  },
  {
   "cell_type": "markdown",
   "metadata": {},
   "source": [
    "- Take an example string and store it in string variable.\n",
    "- Use list comprehension to filter words and find the longest then store the word in longest_word variable.\n",
    "- Finally, print the word."
   ]
  },
  {
   "cell_type": "markdown",
   "metadata": {},
   "source": [
    "### 38. Create a program that filters a list of strings to include only those with more than three vowels using list comprehension."
   ]
  },
  {
   "cell_type": "code",
   "execution_count": 38,
   "metadata": {},
   "outputs": [
    {
     "name": "stdout",
     "output_type": "stream",
     "text": [
      "Words with more than 3 vowels: ['grapefruit', 'education', 'tableau']\n"
     ]
    }
   ],
   "source": [
    "# Make an example list of strings\n",
    "words = [\"apple\", \"banana\", \"grapefruit\", 'education', 'tableau']\n",
    "\n",
    "# Filter words with more than 3 vowels using list comprehension\n",
    "filtered_words = [word for word in words if sum(c in 'aeiou' for c in word) > 3]\n",
    "\n",
    "# Print the filtered words\n",
    "print(f\"Words with more than 3 vowels: {filtered_words}\")"
   ]
  },
  {
   "cell_type": "markdown",
   "metadata": {},
   "source": [
    "- Make an example list of strings and store it in words variable.\n",
    "- Filter words with more than 3 vowels using list comprehension then store the words in filtered_words variable.\n",
    "- Finally, print the filtered words."
   ]
  },
  {
   "cell_type": "markdown",
   "metadata": {},
   "source": [
    "### 39. Develop a program that calculates the sum of the digits of numbers from 1 to 1000 using list comprehension."
   ]
  },
  {
   "cell_type": "code",
   "execution_count": 39,
   "metadata": {},
   "outputs": [
    {
     "name": "stdout",
     "output_type": "stream",
     "text": [
      "Sum of digits of numbers from 1 to 1000: 10\n"
     ]
    }
   ],
   "source": [
    "# Calculate the sum of digits using list comprehension\n",
    "sum_digits = sum(int(d) for d in str(sum(range(1, 1001))))\n",
    "\n",
    "# Print the result\n",
    "print(f\"Sum of digits of numbers from 1 to 1000: {sum_digits}\")"
   ]
  },
  {
   "cell_type": "markdown",
   "metadata": {},
   "source": [
    "- Calculate the sum of digits using list comprehension then store the value in sum_digits variable.\n",
    "- Finally, print the result."
   ]
  },
  {
   "cell_type": "markdown",
   "metadata": {},
   "source": [
    "### 40. Write a program that generates a list of prime palindromic numbers using list comprehension."
   ]
  },
  {
   "cell_type": "code",
   "execution_count": 40,
   "metadata": {},
   "outputs": [
    {
     "name": "stdout",
     "output_type": "stream",
     "text": [
      "Prime palindromic numbers up to 1000: [2, 3, 5, 7, 11, 101, 131, 151, 181, 191, 313, 353, 373, 383, 727, 757, 787, 797, 919, 929]\n"
     ]
    }
   ],
   "source": [
    "# Generate all prime-palindromic numbers using list comprehension\n",
    "prime_palindromes = [num for num in range(2, 1000) \n",
    "                     if num > 1 and all(num % i != 0 for i in range(2, int(num ** 0.5) + 1)) and str(num) == str(num)[::-1]]\n",
    "\n",
    "# Print the list\n",
    "print(\"Prime palindromic numbers up to 1000:\", prime_palindromes)"
   ]
  },
  {
   "cell_type": "markdown",
   "metadata": {},
   "source": [
    "- Generate all prime-palindromic numbers using list comprehension and store the list in prime_palindromes variable.\n",
    "- Finally, print the list."
   ]
  },
  {
   "cell_type": "code",
   "execution_count": null,
   "metadata": {},
   "outputs": [],
   "source": []
  }
 ],
 "metadata": {
  "kernelspec": {
   "display_name": "Python 3 (ipykernel)",
   "language": "python",
   "name": "python3"
  },
  "language_info": {
   "codemirror_mode": {
    "name": "ipython",
    "version": 3
   },
   "file_extension": ".py",
   "mimetype": "text/x-python",
   "name": "python",
   "nbconvert_exporter": "python",
   "pygments_lexer": "ipython3",
   "version": "3.9.16"
  }
 },
 "nbformat": 4,
 "nbformat_minor": 2
}
