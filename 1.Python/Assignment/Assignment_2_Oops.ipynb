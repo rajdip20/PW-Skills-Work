{
 "cells": [
  {
   "cell_type": "markdown",
   "metadata": {},
   "source": [
    "# Constructor:"
   ]
  },
  {
   "cell_type": "markdown",
   "metadata": {},
   "source": [
    "### 1. What is a constructor in Python? Explain its purpose and usage."
   ]
  },
  {
   "cell_type": "markdown",
   "metadata": {},
   "source": [
    "- A `constructor` is a special method within a class that is automatically called when an object of that class is instantiated or created.\n",
    "- `Constructor` are essential for setting up the initial state of objects, ensuring they are in a valid state when created, and allowing customization through parameters passed during object creation.\n",
    "- Usage of `constructor` simplifies the process of object initialization and helps maintain a clean and organized code structure within classes."
   ]
  },
  {
   "cell_type": "markdown",
   "metadata": {},
   "source": [
    "### 2. Differentiate between a parameterless constructor and a parameterized constructor in Python."
   ]
  },
  {
   "cell_type": "markdown",
   "metadata": {},
   "source": [
    "- **Parameterless Constructor:**\n",
    "    - A parameterless constructor doesn't take any parameters (arguments) other than the mandatory `self`.\n",
    "    - It's used when the object can be initialized without any specific extarnal information.\n",
    "    - It initializes the object with default values or performs setup tasks without requiring any external input.\n",
    "- **Parameterized Constructor:**\n",
    "    - A parameterized constructor accepts parameters other than `self` during object instantiation.\n",
    "    - It initializes the object with specific values provided as arguments when creating the object.\n",
    "    - It's used when the object's initialization requires specific information or customization."
   ]
  },
  {
   "cell_type": "markdown",
   "metadata": {},
   "source": [
    "### 3. How do you define a constructor in a Python class? Provide an example."
   ]
  },
  {
   "cell_type": "markdown",
   "metadata": {},
   "source": [
    "- In Python, constructors are defined using the **`__init__()`** method within a class.\n",
    "- **Example:**\n",
    "```python\n",
    "class MyClass:\n",
    "    def __init__(self, parameter1, parameter2):     # Define a constructor\n",
    "        self.parameter1 = parameter1\n",
    "        self.parameter2 = parameter2\n",
    "    \n",
    "    def display_param(self):\n",
    "        print(f\"Parameter 1: {self.parameter1}, Parameter 2: {self.parameter2}\")\n",
    "\n",
    "# Create an instance of the class using the constructor\n",
    "obj = MyClass(\"value1\", \"value2\")\n",
    "obj.display_param()     # Output: Parameter 1: value1, Parameter 2: value2\n",
    "```"
   ]
  },
  {
   "cell_type": "markdown",
   "metadata": {},
   "source": [
    "### 4. Explain the `__init__` method in Python and its role in constructors."
   ]
  },
  {
   "cell_type": "markdown",
   "metadata": {},
   "source": [
    "- `__init__` method is a special method within a class that serves as the constructor. It's automatically called when an objct of the class is created. The purpose of `__init__` is to initialize the object's attributes or perform any necessary setup for the object to function correctly.\n",
    "- Role in constructors:\n",
    "    - The `__init__` method is used to initialize the attributes of an object when it's created.\n",
    "    -  When an object is created using the class name followed by parentheses (`Classname()`), Python automatically calls the `__init__` method associated with that class.\n",
    "    - The `__init__` method takes `self` as its first parameter along with other parameters that can be used to initialize the object's attributes.\n",
    "    - It's responsible for ensuring that the object is in a valid and usable state immediately after it's created."
   ]
  },
  {
   "cell_type": "markdown",
   "metadata": {},
   "source": [
    "### 5. In a class named `Person`, create a constructor that initializes the `name` and `age` attributes. Provide an example of creating an object of this class."
   ]
  },
  {
   "cell_type": "code",
   "execution_count": 1,
   "metadata": {},
   "outputs": [
    {
     "name": "stdout",
     "output_type": "stream",
     "text": [
      "Hi, Rajdip. You are 22 years old.\n"
     ]
    }
   ],
   "source": [
    "# Create a Person class\n",
    "class Person:\n",
    "    def __init__(self, name, age):      # Create a constructor with two attributes\n",
    "        self.name = name\n",
    "        self.age = age\n",
    "\n",
    "    def display(self):\n",
    "        print(f\"Hi, {self.name}. You are {self.age} years old.\")\n",
    "\n",
    "\n",
    "# Create an example object\n",
    "obj = Person(\"Rajdip\", 22)\n",
    "obj.display()"
   ]
  },
  {
   "cell_type": "markdown",
   "metadata": {},
   "source": [
    "- Make a class named `Person` and has an `__init__` method serving as the constructor.\n",
    "- The constructor takes `name` and `age` as parameters, assigning them to `self.name` and `self.age` attributes within the class.\n",
    "- Create an object `obj` of the `Person` class with the name \"Rajdip\" and age \"22\" by passing these values to the constructor during object instantiation.\n",
    "- The `display()` method is then called on `obj` to showcase the assigned values for `name` and `age`."
   ]
  },
  {
   "cell_type": "markdown",
   "metadata": {},
   "source": [
    "### 6. How can you call a constructor explicitly in Python? Give an example."
   ]
  },
  {
   "cell_type": "markdown",
   "metadata": {},
   "source": [
    "- We can call a constructor explicitly within a class using the class name and `__init__()` method itself, but it's not the typical way to initialize objects.\n",
    "- **For example:**\n",
    "```python\n",
    "class MyClass:\n",
    "    def __init__(self, value):\n",
    "        self.value = value\n",
    "\n",
    "    def display(self):\n",
    "        print(f\"Value: {self.value}\")\n",
    "\n",
    "# Create an object with explicitly calling the costructor\n",
    "obj = MyClass.__init__(MyClass, 10)\n",
    "\n",
    "# Accessing the attribute using the object\n",
    "obj.display()       # Output: Value: 10\n",
    "```"
   ]
  },
  {
   "cell_type": "markdown",
   "metadata": {},
   "source": [
    "### 7. What is the significance of the `self` parameter in Python constructors? Explain with an example."
   ]
  },
  {
   "cell_type": "markdown",
   "metadata": {},
   "source": [
    "- The `self` parameter in constructors refers to the instance of the class itself. It allows access to the instance's attributes and methods within the class. When defining methods, including the constructor, `self` must be the first parameter in order to refer the instance being operated on.\n",
    "- **For example:**\n",
    "```python\n",
    "class Person:\n",
    "    def __init__(self, name):       # self refers to the instance of the class\n",
    "        self.name = name\n",
    "\n",
    "    def display(self):\n",
    "        print(f\"Hello, {self.name}\")\n",
    "\n",
    "# Creating instances of the Person class\n",
    "person1 = Person(\"Rajdip\")\n",
    "\n",
    "# Accessing attributes and methods using instances\n",
    "person1.display_info()  # Output: Hello, Rajdip\n",
    "```"
   ]
  },
  {
   "cell_type": "markdown",
   "metadata": {},
   "source": [
    "### 8. Discuss the concept of default constructors in Python. When are they used?"
   ]
  },
  {
   "cell_type": "markdown",
   "metadata": {},
   "source": [
    "- The concept of default constructors refers to the implicit creation of a constructor when one isn't explicitly defined a class. If no `__init__()` method is specified in a class, Python creates a default constructor for that class.\n",
    "- They are used when a class doesn't have an cxplicitly defined `__init__()` method, and when a class doesn't need any attribute initialization or setup upon object creation the default constructor is sufficient to create instances of that class."
   ]
  },
  {
   "cell_type": "markdown",
   "metadata": {},
   "source": [
    "### 9. Create a Python class called `Rectangle` with a constructor that initializes the `width` and `height` attributes. Provide a method to calculate the area of the rectangle."
   ]
  },
  {
   "cell_type": "code",
   "execution_count": 2,
   "metadata": {},
   "outputs": [
    {
     "name": "stdout",
     "output_type": "stream",
     "text": [
      "Area of the rectangle is: 24\n"
     ]
    }
   ],
   "source": [
    "# Create a class\n",
    "class Rectangle:\n",
    "    # Create a constructor\n",
    "    def __init__(self, width, height):\n",
    "        self.width = width\n",
    "        self.height = height\n",
    "\n",
    "    def area(self):\n",
    "        area = self.width * self.height\n",
    "        print(f\"Area of the rectangle is: {area}\")\n",
    "\n",
    "# Creating instances of the Rectangle class\n",
    "rectangle1 = Rectangle(6, 4)\n",
    "\n",
    "# Accessing attributes and methods using instances\n",
    "rectangle1.area()"
   ]
  },
  {
   "cell_type": "markdown",
   "metadata": {},
   "source": [
    "- Make a class named `Rectangle` and has an `__init__` method serving as the constructor.\n",
    "- The constructor takes `width` and `height` as parameters, assigning them to `self.width` and `self.height` attributes within the class.\n",
    "- Create an object `rectangle1` of the `Rectangle` class with the width 6 and height 4 by passing these values to the constructor during object instantiation.\n",
    "- The `area()` method is then called on `rectangle1` to showcase the area of the rectangle."
   ]
  },
  {
   "cell_type": "markdown",
   "metadata": {},
   "source": [
    "### 10. How can you have multiple constructors in a Python class? Explain with an example."
   ]
  },
  {
   "cell_type": "markdown",
   "metadata": {},
   "source": [
    "- In python there is no direct suppot for multiple constructors within a class. However, we can achieve similar functionality by using default parameter values.\n",
    "- **For example:**\n",
    "```python\n",
    "class Person:\n",
    "    def __init__(self, name=None, age=None):\n",
    "        if name is not None and age is not None:\n",
    "            self.name = name\n",
    "            self.age = age\n",
    "        elif name is not None:\n",
    "            self.name = name\n",
    "            self.age = 0        # Default age\n",
    "        else:\n",
    "            self.name = \"Anonymous\"\n",
    "            self.age = 0        # Default age\n",
    "\n",
    "    def display(self):\n",
    "        print(f\"Name: {self.name}, Age: {self.age}\")\n",
    "\n",
    "# Different ways to create instances with different parameters\n",
    "person1 = Person(\"Alice\", 30)\n",
    "person2 = Person(\"Bob\")\n",
    "person3 = Person()\n",
    "\n",
    "person1.display()  # Output: Name: Alice, Age: 30\n",
    "person2.display()  # Output: Name: Bob, Age: 0\n",
    "person3.display()  # Output: Name: Anonymous, Age: 0\n",
    "```"
   ]
  },
  {
   "cell_type": "markdown",
   "metadata": {},
   "source": [
    "### 11. What is method overloading, and how is it related to constructors in Python?"
   ]
  },
  {
   "cell_type": "markdown",
   "metadata": {},
   "source": [
    "- Method overloading refers to define multiple methods in a class with the same name but different parameters or argument types. This allows a single method name to behave differently based on the number or the number or types of parameters it receives.\n",
    "- In python, there is no explicit method overloading for constructors. However, we can simulate constructor overloading by using default parameter values."
   ]
  },
  {
   "cell_type": "markdown",
   "metadata": {},
   "source": [
    "### 12. Explain the use of the `super()` function in Python constructors. Provide an example."
   ]
  },
  {
   "cell_type": "markdown",
   "metadata": {},
   "source": [
    "- In python, the `super()` function is used to call methods from the parent class within a subclass. `super()` is often employed to invoke the constructor of the parent class explicitly from the constructor of a subclass. This is particularly useful when you want to extend the functionality of the parent class's constructor in the subclass without duplicating code.\n",
    "- **For example:**\n",
    "```python\n",
    "class Parent:\n",
    "    def __init__(self, name):\n",
    "        self.name = name\n",
    "    \n",
    "    def display(self):\n",
    "        print(f\"Parent name: {self.name}\")\n",
    "\n",
    "class Child(Parent):\n",
    "    def __init__(self, name, age):\n",
    "        super().__init__(name)  # Calling the constructor of the parent class\n",
    "        self.age = age\n",
    "\n",
    "    def display(self):\n",
    "        super().display()  # Calling the display method of the parent class\n",
    "        print(f\"Child age: {self.age}\")\n",
    "\n",
    "# Creating an instance of the Child class\n",
    "child = Child(\"Debashis\", 23)\n",
    "child.display()     # Output: Parent name: Debashis \\nChild age: 23\n",
    "```"
   ]
  },
  {
   "cell_type": "markdown",
   "metadata": {},
   "source": [
    "### 13. Create a class called `Book` with a constructor that initializes the `title`, `author`, and `published_year` attributes. Provide a method to display book details."
   ]
  },
  {
   "cell_type": "code",
   "execution_count": 3,
   "metadata": {},
   "outputs": [
    {
     "name": "stdout",
     "output_type": "stream",
     "text": [
      "Book 'Python Programming' by John Smith, published year 2021.\n"
     ]
    }
   ],
   "source": [
    "# Create a class\n",
    "class Book:\n",
    "    # Create a constructor with three attributes\n",
    "    def __init__(self, title, author, published_year):\n",
    "        self.title = title\n",
    "        self.author = author\n",
    "        self.published_year = published_year\n",
    "    # Create display method for display book details\n",
    "    def display(self):\n",
    "        print(f\"Book '{self.title}' by {self.author}, published year {self.published_year}.\")\n",
    "\n",
    "\n",
    "# Creating an instance of the Book class\n",
    "book1 = Book(\"Python Programming\", \"John Smith\", 2021)\n",
    "\n",
    "# Displaying book details using the method\n",
    "book1.display()"
   ]
  },
  {
   "cell_type": "markdown",
   "metadata": {},
   "source": [
    "- Make a class named `Book` and has an `__init__` method serving as the constructor.\n",
    "- The constructor takes `title`, `author`, `published_year` as paramethers, assigning them to `self.title`, `self.author` nad `self.published_year` attributes within the class.\n",
    "- Create an object `book1` of the `Book` class with the title \"Python Programming\", author \"John Smith\" and published_year \"2021\" by passing these values to the constructor during object instantiation.\n",
    "- The `display()` method is then called on `book1` to showcase the assigned values for `title`, `author` and `published_year`."
   ]
  },
  {
   "cell_type": "markdown",
   "metadata": {},
   "source": [
    "### 14. Discuss the differences between constructors and regular methods in Python classes."
   ]
  },
  {
   "cell_type": "markdown",
   "metadata": {},
   "source": [
    "- **Constructors:**\n",
    "    - Constructors are used to initialize the attributes of an object when it's created.\n",
    "    - They are automatically invoked upon object creation to set up the initial state of the object.\n",
    "    - Constructors ensure that the object is in a valid and usable state as soon as it's areated.\n",
    "- **Regular Methods:**\n",
    "    - Regular methods in a class perform specific actions or operations related to the objects's behavior.\n",
    "    - They can access and manipulate the object's attributes and perform various tasks based on the object's state.\n",
    "    - They don't necessarily initialize the object's state like constructors but rather operate on the existing state of the object."
   ]
  },
  {
   "cell_type": "markdown",
   "metadata": {},
   "source": [
    "### 15. Explain the role of the `self` parameter in instance variable initialization within a constructor."
   ]
  },
  {
   "cell_type": "markdown",
   "metadata": {},
   "source": [
    "- In Python, the `self` parameter within a constructor and other instance methods refers to the instance of the class itself.\n",
    "- Within a constructor, `self` allows you to initialize and access instance variable. It refers to the specific instance being created, enabling you to set values for its attributes.\n",
    "- `self` is crucial for differentiating between instance variables of different objects of the same class.\n",
    "- Additionally, `self` allows access to other instance methods and attributes within the class."
   ]
  },
  {
   "cell_type": "markdown",
   "metadata": {},
   "source": [
    "### 16. How do you prevent a class from having multiple instances by using constructors in Python? Provide an example."
   ]
  },
  {
   "cell_type": "markdown",
   "metadata": {},
   "source": [
    "- One way to pevent a class from having multiple instances is by using a design pattern called a `Singleton`. A `Singleton` ensures that a class has only one instance throughout the application's lifecycle.\n",
    "- **For example:**\n",
    "```python\n",
    "class Singleton:\n",
    "    _instance = None\n",
    "\n",
    "    def __new__(cls, *args, **kwargs):\n",
    "        if not cls._instance:\n",
    "            cls._instance = super().__new__(cls)\n",
    "        return cls._instance\n",
    "\n",
    "    def __init__(self, value):\n",
    "        if not hasattr(self, 'initialized'):\n",
    "            self.value = value\n",
    "            self.initialized = True\n",
    "\n",
    "# Creating instances of Singleton\n",
    "singleton1 = Singleton(10)\n",
    "singleton2 = Singleton(20)\n",
    "\n",
    "print(singleton1.value)     # Output: 10\n",
    "print(singleton2.value)     # Output: 10 (same instance as singleton1)\n",
    "\n",
    "print(singleton1 is singleton2)  # Output: True (Both variables refer to the same instance)\n",
    "```"
   ]
  },
  {
   "cell_type": "markdown",
   "metadata": {},
   "source": [
    "### 17. Create a Python class called `Student` with a constructor that takes a list of subjects as a parameter and initializes the `subjects` attribute."
   ]
  },
  {
   "cell_type": "code",
   "execution_count": 4,
   "metadata": {},
   "outputs": [
    {
     "name": "stdout",
     "output_type": "stream",
     "text": [
      "List of subjects:\n",
      "Math\n",
      "Science\n",
      "Data Science\n",
      "Statistics\n"
     ]
    }
   ],
   "source": [
    "# Create a class\n",
    "class Student:\n",
    "    def __init__(self, subjects):\n",
    "        self.subjects = subjects\n",
    "    \n",
    "    def display(self):\n",
    "        print(\"List of subjects:\")\n",
    "        for sub in self.subjects:\n",
    "            print(sub)\n",
    "\n",
    "# Creating an instance of Student class\n",
    "student1 = Student([\"Math\", \"Science\", \"Data Science\", \"Statistics\"])\n",
    "\n",
    "# Displaying all books using the method\n",
    "student1.display()"
   ]
  },
  {
   "cell_type": "markdown",
   "metadata": {},
   "source": [
    "- Make a class named `Student` and has an `__init__` method serving as the constructor.\n",
    "- The constructor takes `subjects` as parameter, assigning it to `self.subjects` attribute within the class.\n",
    "- Create an object `student1` of the `Student` class with the list of subjects by pass this value to the constructor during object instantiation.\n",
    "- The `display()` method is then called on `student1` to showcase the assigned values for `subjects`."
   ]
  },
  {
   "cell_type": "markdown",
   "metadata": {},
   "source": [
    "### 18. What is the purpose of the `__del__` method in Python classes, and how does it relate to constructors?"
   ]
  },
  {
   "cell_type": "markdown",
   "metadata": {},
   "source": [
    "- The `__del__` method allows us to define actions that should be performed just before an object is destroyed or deallocated.\n",
    "- It's used to release resources, clase files, or perform any cleanup necessary before the object is removed from memory.\n",
    "- Python automatically invokes the `__del__` method when an object is about to be destroyed or garbage collected, typically when it goes out of scope or when there are no more references to it.\n",
    "<br><br><br>\n",
    "\n",
    "- `__del__` is the counterpart of constructors.\n",
    "- Constructors are called when an object is created to initialize its attributes and set up its initial state, but `__del__` is called just before an object is destroyed or deallocated, allowing us to perform necessary cleanup operations."
   ]
  },
  {
   "cell_type": "markdown",
   "metadata": {},
   "source": [
    "### 19. Explain the use of constructor chaining in Python. Provide a practical example."
   ]
  },
  {
   "cell_type": "markdown",
   "metadata": {},
   "source": [
    "- In Python, constructor chaining is a process of one constructor calling another constructor to reuse initialization logic or to ensure that common setup code is executed.\n",
    "- **For example:**\n",
    "```python\n",
    "class Parent:\n",
    "    def __init__(self, name):\n",
    "        self.name = name\n",
    "        print(\"Parent constructor\")\n",
    "\n",
    "class Child(Parent):\n",
    "    def __init__(self, name, age):\n",
    "        super().__init__(name)      # Calling the constructor of the Parent class\n",
    "        self.age = age\n",
    "        print(\"Child constructor\")\n",
    "\n",
    "# Creating an instance of the Child class\n",
    "child = Child(\"Raj\", 20)        # Output: Parent constructor \\nChild constructor\n",
    "```"
   ]
  },
  {
   "cell_type": "markdown",
   "metadata": {},
   "source": [
    "### 20. Create a Python class called `Car` with a default constructor that initializes the `make` and `model` attributes. Provide a method to display car information."
   ]
  },
  {
   "cell_type": "code",
   "execution_count": 5,
   "metadata": {},
   "outputs": [
    {
     "name": "stdout",
     "output_type": "stream",
     "text": [
      "This is a Tata Harrier model car.\n"
     ]
    }
   ],
   "source": [
    "# Create a class\n",
    "class Car:\n",
    "    def __init__(self, make=\"Unknown\", model=\"Unknown\"):\n",
    "        self.make = make\n",
    "        self.model = model\n",
    "    \n",
    "    def display(self):\n",
    "        print(f\"This is a {self.make} {self.model} model car.\")\n",
    "\n",
    "# Creating an instance of Car class\n",
    "car1 = Car(\"Tata\", \"Harrier\")\n",
    "\n",
    "# Displaying car make and model name using the method\n",
    "car1.display()"
   ]
  },
  {
   "cell_type": "markdown",
   "metadata": {},
   "source": [
    "- Make a class named `Car` and has an `__init__` method serving as the constructor.\n",
    "- The constructor takes `make` and `model` as default parameter, assigning it to `self.make` and `self.model` attributes within the class.\n",
    "- Create an object `car1` of the `Car` class with the make \"Tata\" (or you can pass noting) and model \"Harrier\" (or you can pass noting) by passing these values to the constructor during object instantiation.\n",
    "- The `display()` method is then called on `car1` to showcase the assigned values for `make` and `model`."
   ]
  },
  {
   "cell_type": "markdown",
   "metadata": {},
   "source": [
    "# Inheritance:"
   ]
  },
  {
   "cell_type": "markdown",
   "metadata": {},
   "source": [
    "### 1. What is inheritance in Python? Explain its significance in object-oriented programming."
   ]
  },
  {
   "cell_type": "markdown",
   "metadata": {},
   "source": [
    "- In Python, inheritance ifs a fundamental concept in object-oriented programming (OOP) that allows a new class to inherit attributes and methods from an existing class. This enables the creation of a hierarchy of classes where properties and behaviors of a parent class are passed down to it's subclasses.\n",
    "- **Significance of inheritance:**\n",
    "    - Inheritance facilitates code reuse by allowing subclasses to inherit and extend the functionality of their parent classes.\n",
    "    - It enables the creation of a hierarchical structure of classes, where classes are organized based on their relationships.\n",
    "    - Subclasses can add new attributes or methods and modify the inherited behavior from their superclass.\n",
    "    - This enables flexibility in writing code that can operate on objects of various related types without needing to know their specific class."
   ]
  },
  {
   "cell_type": "markdown",
   "metadata": {},
   "source": [
    "### 2. Differentiate between single inheritance and multiple inheritance in Python. Provide examples for each."
   ]
  },
  {
   "cell_type": "markdown",
   "metadata": {},
   "source": [
    "- **Single Inheritance:**\n",
    "    - Single inheritance in python refers to the scenario where a class inherits from only one parent class. This is simpler in terms of class hierarchy.\n",
    "    - *For example:*\n",
    "    ```python\n",
    "    class Vehicle:\n",
    "        def drive(self):\n",
    "            return \"Vehicle is being driven\"\n",
    "    \n",
    "    class Car:\n",
    "        def park(self):\n",
    "            return \"Car is parked\"\n",
    "\n",
    "    # Creating an instance of Car class\n",
    "    my_car = Car()\n",
    "\n",
    "    # Accessing methods from both classes\n",
    "    print(my_car.drive())       # Output: Vehicle is being driven\n",
    "    print(my_car.park())        # Output: Car is parked\n",
    "    ```\n",
    "- **Multiple Inheritance:**\n",
    "    - Multiple inheritance in python allows a class to inherit attributes and methods from more than one parent class. This can lead to complex in terms of class hierarchy.\n",
    "    - *For example:*\n",
    "    ```python\n",
    "    class A:\n",
    "        def method_A(self):\n",
    "            return \"Method A\"\n",
    "    \n",
    "    class B:\n",
    "        def method_B(self):\n",
    "            return \"Method B\"\n",
    "    \n",
    "    class C(A, B):      # Class C inherits from both A and B\n",
    "        def method_C(self):\n",
    "            return \"Method C\"\n",
    "\n",
    "    # Creating an instance of class C\n",
    "    obj = C()\n",
    "\n",
    "    # Accessing methods from all inherited classes\n",
    "    print(obj.method_A())       # Output: Method A\n",
    "    print(obj.method_B())       # Output: Method B\n",
    "    print(obj.method_C())       # Output: Method C\n",
    "    ```"
   ]
  },
  {
   "cell_type": "markdown",
   "metadata": {},
   "source": [
    "### 3. Create a Python class called `Vehicle` with attributes `color` and `speed`. Then, create a child class called `Car` that inherits from `Vehicle` and adds a `brand` attribute. Provide an example of creating a `Car` object."
   ]
  },
  {
   "cell_type": "code",
   "execution_count": 6,
   "metadata": {},
   "outputs": [
    {
     "name": "stdout",
     "output_type": "stream",
     "text": [
      "This is a red car with top speed 120\n",
      "This is a red ABC car with top speed 120\n"
     ]
    }
   ],
   "source": [
    "# Create a Vehicle class\n",
    "class Vehicle:\n",
    "    def __init__(self, color, speed):\n",
    "        self.color = color\n",
    "        self.speed = speed\n",
    "\n",
    "    def display(self):\n",
    "        print(f\"This is a {self.color} car with top speed {self.speed}\")\n",
    "\n",
    "# Create a Car class as child class of Vehicle class\n",
    "class Car(Vehicle):\n",
    "    def __init__(self, color, speed, brand):\n",
    "        super().__init__(color, speed)\n",
    "        self.brand = brand\n",
    "    \n",
    "    def display_car(self):\n",
    "        print(f\"This is a {self.color} {self.brand} car with top speed {self.speed}\")\n",
    "\n",
    "# Creating a Car object\n",
    "my_car = Car(\"red\", 120, \"ABC\")\n",
    "\n",
    "# Accessing attributes from both Vehicle and Car classes\n",
    "my_car.display()\n",
    "my_car.display_car()"
   ]
  },
  {
   "cell_type": "markdown",
   "metadata": {},
   "source": [
    "- The `Vehicle` class is the superclass with `color` and `speed` attributes initialized in its constructor.\n",
    "- The `Car` class is the subclass inheriting from `Vehicle` and extending it by adding the `brand` attribute in its own constructor.\n",
    "- When creating a `Car` object (`my_car`), the `__init__()` method of the `Vehicle` superclass is invoked using `super()` to initialize the inherited attributes (`color` and `speed`), and the `brand` attribute is set specifically for the `Car` class.\n",
    "- Finally, we access attributes of the `my_car` object, demonstrating how it possesses attributes from both the `Vehicle` superclass and the `Car` subclass."
   ]
  },
  {
   "cell_type": "markdown",
   "metadata": {},
   "source": [
    "### 4. Explain the concept of method overriding in inheritance. Provide a practical example."
   ]
  },
  {
   "cell_type": "markdown",
   "metadata": {},
   "source": [
    "- Method overriding in inheritance is the process of a subclass providing a specific implimentation of a method that is already define in its superclass.This allows a subclass to provide its own version of a method that has the same name, signature, and return type as a method in the superclass.\n",
    "- **Example:**\n",
    "```python\n",
    "class Animal:\n",
    "    def sound(self):\n",
    "        return \"Generic sound\"\n",
    "    \n",
    "class Dog(Animal):\n",
    "    def sound(self):\n",
    "        return \"Woof!\"      # Overrides the sound() method from the Animal class\n",
    "\n",
    "class Cat(Animal):\n",
    "    def sound(self):\n",
    "        return \"Meow!\"      # Overrides the sound() method from the Animal class\n",
    "\n",
    "# Creating instances of Dog and Cat\n",
    "dog1 = Dog()\n",
    "cat1 = Cat()\n",
    "\n",
    "# Accessing overridden methods\n",
    "print(dog1.sound())     # Output: Woof!\n",
    "print(cat1.sound())     # Output: Meow!\n",
    "```"
   ]
  },
  {
   "cell_type": "markdown",
   "metadata": {},
   "source": [
    "### 5. How can you access the methods and attributes of a parent class from a child class in Python? Give an example."
   ]
  },
  {
   "cell_type": "markdown",
   "metadata": {},
   "source": [
    "- In Python, we can access the methods and attributes of a parent class from a child class using the `super()` function. The `super()` function provides a way to call methods and access attributes of the superclass within the subclass.\n",
    "- **Example:**\n",
    "```python\n",
    "class Parent:\n",
    "    def __init__(self, parent_attr):\n",
    "        self.parent_attr = parent_attr\n",
    "\n",
    "    def parent_method(self):\n",
    "        return \"This is a method form the Parent class\"\n",
    "\n",
    "class Child(Parent):\n",
    "    def __init__(self, parent_attr, child_attr):\n",
    "        super().__init__(parent_attr)       # Accessing Parent's __init__ method\n",
    "        self.child_attr = child_attr\n",
    "    \n",
    "    def child_method(self):\n",
    "        return \"This is a method from the Child class\"\n",
    "    \n",
    "    def combined_method(self):\n",
    "        # Accessing Parent's method and attribute using super()\n",
    "        parent_method_result = super().parent_method()\n",
    "        return f\"Accessed from Child: {parent_method_result}, Parent attribute: {self.parent_attr}\"\n",
    "    \n",
    "    \n",
    "# Creating an instance of the Child class\n",
    "child_obj = Child(\"Parent attribute\", \"Child attribute\")\n",
    "\n",
    "# Accessing methods and attributes\n",
    "print(child_obj.child_method())     # Output: This is a method from the Child class\n",
    "print(child_obj.combined_method())      # Output: Accessed from Child: This is a method form the Parent class, Parent attribute: Parent attribute\n",
    "```"
   ]
  },
  {
   "cell_type": "markdown",
   "metadata": {},
   "source": [
    "### 6. Discuss the use of the `super()` function in Python inheritance. When and why is it used? Provide an example."
   ]
  },
  {
   "cell_type": "markdown",
   "metadata": {},
   "source": [
    "- The `super()` function in Python is primarily used in inheritance to access methods, attributes, and constructors of a superclass from a subclass.\n",
    "- When a subclass needs to initialize attributes inherited from its superclass, `super()` is used to call the superclass's constructor. `super()` allows a subclass to invoke the overriden method from the superclass when needed, enhancing code readability and maintainability. `super()` provides a clear and explicit way to access superclass functionality.\n",
    "- **Example:**\n",
    "```python\n",
    "class Parent:\n",
    "    def __init__(self, parent_attr):\n",
    "        self.parent_attr = parent_attr\n",
    "\n",
    "    def parent_method(self):\n",
    "        return \"This is a method form the Parent class\"\n",
    "\n",
    "class Child(Parent):\n",
    "    def __init__(self, parent_attr, child_attr):\n",
    "        super().__init__(parent_attr)       # Calling superclass constructor\n",
    "        self.child_attr = child_attr\n",
    "    \n",
    "    def combined_method(self):\n",
    "        parent_method_result = super().parent_method()      # Calling the superclass method\n",
    "        return f\"Accessed from Child: {parent_method_result}, Parent attribute: {self.parent_attr}\"\n",
    "    \n",
    "    \n",
    "# Creating an instance of the Child class\n",
    "child_obj = Child(\"Parent attribute\", \"Child attribute\")\n",
    "\n",
    "# Accessing superclass methods and attributes using super()\n",
    "print(child_obj.combined_method())      # Output: Accessed from Child: This is a method form the Parent class, Parent attribute: Parent attribute\n",
    "```"
   ]
  },
  {
   "cell_type": "markdown",
   "metadata": {},
   "source": [
    "### 7. Create a Python class called `Animal` with a method `speak()`. Then, create child classes `Dog` and `Cat` that inherit from `Animal` and override the `speak()` method. Provide an example of using these classes."
   ]
  },
  {
   "cell_type": "code",
   "execution_count": 7,
   "metadata": {},
   "outputs": [
    {
     "name": "stdout",
     "output_type": "stream",
     "text": [
      "Woof!\n",
      "Meow!\n"
     ]
    }
   ],
   "source": [
    "# Create a Animal class\n",
    "class Animal:\n",
    "    def speak(self):\n",
    "        return \"Generic Sound\"\n",
    "\n",
    "# Create Dog class\n",
    "class Dog(Animal):\n",
    "    def speak(self):\n",
    "        return \"Woof!\"      # Overrides the sound() method from the Animal class\n",
    "\n",
    "# Create Cat class\n",
    "class Cat(Animal):\n",
    "    def speak(self):\n",
    "        return \"Meow!\"      # Overrides the sound() method from the Animal class\n",
    "\n",
    "# Creating an instance of the child classes\n",
    "dog1 = Dog()\n",
    "cat1 = Cat()\n",
    "\n",
    "# Accessing Childclasses methods\n",
    "print(dog1.speak())\n",
    "print(cat1.speak())"
   ]
  },
  {
   "cell_type": "markdown",
   "metadata": {},
   "source": [
    "- `Animal` class defines a `sound()` method returning a generic sound.\n",
    "- `Dog` and `Cat` classes are subclasses of `Animal` and override the `sound()` method to provide their specific sounds.\n",
    "- When `sound()` is called on instances of `Dog` and `Cat`, their specific implementations defined in the subclasses are invoked due to overriding."
   ]
  },
  {
   "cell_type": "markdown",
   "metadata": {},
   "source": [
    "### 8. Explain the role of the `isinstance()` function in Python and how it relates to inheritance."
   ]
  },
  {
   "cell_type": "markdown",
   "metadata": {},
   "source": [
    "- The `isinstance()` function in Python is used to determine whether an object belongs to a particular class or any subclass derived from it. It checks if an object is an inheritance of a given class or any of its subclass in an inheritance hierarchy.\n",
    "- `isinstance()` allows you to check the type of an object, confirming whether it belongs to a specific class or its subclass. It's helpful in scenarios where you want to handle different types of objects but want to ensure they share a common base class or interface."
   ]
  },
  {
   "cell_type": "markdown",
   "metadata": {},
   "source": [
    "### 9. What is the purpose of the `issubclass()` function in Python? Provide an example."
   ]
  },
  {
   "cell_type": "markdown",
   "metadata": {},
   "source": [
    "- `issubclass()` helps in verifying the relationship between classes, determining if one class is a subclass of another.<br>\n",
    "It returns `True` if the first argument is a subclass of the second argument, otherwise `False`.\n",
    "- **Example:**\n",
    "```python\n",
    "class Vehicle:\n",
    "    pass\n",
    "\n",
    "class Car(Vehicle):\n",
    "    pass\n",
    "\n",
    "class Truck(Vehicle):\n",
    "    pass\n",
    "\n",
    "# Checking subclass relationships using issubclass()\n",
    "print(issubclass(Car, Vehicle))     # Output: True (Car is a subclass of Vehicle)\n",
    "print(issubclass(Truck, Vehicle))       # Output: True (Truck is a subclass of Vehicle)\n",
    "\n",
    "# Checking for direct subclass relationship\n",
    "print(issubclass(Car, Truck))       # Output: False ((Car is not a subclass of Truck))\n",
    "```"
   ]
  },
  {
   "cell_type": "markdown",
   "metadata": {},
   "source": [
    "### 10. Discuss the concept of constructor inheritance in Python. How are constructors inherited in child classes?"
   ]
  },
  {
   "cell_type": "markdown",
   "metadata": {},
   "source": [
    "- In Python, constructors are inherited by child classes from their parent classes, just like any other method. When a child class is created, it can inherit the constructor of its parent class if it doesn't explicitly define it's own constructor.\n",
    "- If the child class doesn't have it's own constructor, it inherits the constructor from its immediate parent class. If the child class defines its constructor, it won't automatically inherit the parent class's constructor unless explicitly called using `super().__init__()`."
   ]
  },
  {
   "cell_type": "markdown",
   "metadata": {},
   "source": [
    "### 11. Create a Python class called `Shape` with a method `area()` that calculates the area of a shape. Then, create child classes `Circle` and `Rectangle` that inherit from `Shape` and implement the `area()` method accordingly. Provide an example."
   ]
  },
  {
   "cell_type": "code",
   "execution_count": 8,
   "metadata": {},
   "outputs": [
    {
     "name": "stdout",
     "output_type": "stream",
     "text": [
      "Area of the circle: 28.274333882308138\n",
      "Area of the rectangle: 24\n"
     ]
    }
   ],
   "source": [
    "import math\n",
    "\n",
    "class Shape:\n",
    "    def area(self):\n",
    "        pass\n",
    "\n",
    "class Circle(Shape):\n",
    "    def __init__(self, radius):\n",
    "        self.radius = radius\n",
    "    \n",
    "    def area(self):\n",
    "        return math.pi * self.radius ** 2\n",
    "    \n",
    "class Rectangle(Shape):\n",
    "    def __init__(self, width, height):\n",
    "        self.width = width\n",
    "        self.height = height\n",
    "    \n",
    "    def area(self):\n",
    "        return self.width * self.height\n",
    "    \n",
    "\n",
    "# Creating instances of Circle and Rectangle\n",
    "circle1 = Circle(3)\n",
    "rectangle1 = Rectangle(4, 6)\n",
    "\n",
    "# Calculating and printing areas\n",
    "print(f\"Area of the circle: {circle1.area()}\")\n",
    "print(f\"Area of the rectangle: {rectangle1.area()}\")"
   ]
  },
  {
   "cell_type": "markdown",
   "metadata": {},
   "source": [
    "- `Shape` class defines a method `area()` that serves as a placeholder to be overridden by subclasses.\n",
    "- `Circle` and `Rectangle` classes inherit from `Shape` and provide their specific implementations of the `area()` method.\n",
    "- `Circle` calculates the area based on the formula for the area of a circle and `Rectangle` calculates it based on the formula for the area of a rectangle.\n",
    "- Instances of `Circle` and `Rectangle` are created, and their `area()` methods are invoked to calculate and print the respective areas."
   ]
  },
  {
   "cell_type": "markdown",
   "metadata": {},
   "source": [
    "### 12. Explain the use of abstract base classes (ABCs) in Python and how they relate to inheritance. Provide an example using the `abc` module."
   ]
  },
  {
   "cell_type": "markdown",
   "metadata": {},
   "source": [
    "- Abstract Base Classes (ABCs) in Python, available through the `abc` module, allow us to define abstract methods that must be implemented by their subclasses. They serve as a blueprint for other classes and are not meant to be instantiated directly.\n",
    "- ABCs can have abstract methods that don't have any implementation in the base class.<br>\n",
    "ABCs help in enforcing a particular interface that subclasses must provide, ensuring consistent behavior across different implementstions.<br>\n",
    "ABCs are meant to be inherited by subclasses, and they cannot be instantiated directly.\n",
    "- **Example:**\n",
    "```python\n",
    "from abc import ABC, abstractmethod\n",
    "\n",
    "class Shape(ABC):  # ABC as the base class\n",
    "    @abstractmethod\n",
    "    def area(self):\n",
    "        pass  # Abstract method to be implemented by subclasses\n",
    "\n",
    "class Circle(Shape):  # Inherits from Shape\n",
    "    def __init__(self, radius):\n",
    "        self.radius = radius\n",
    "\n",
    "    def area(self):\n",
    "        return 3.14 * self.radius**2\n",
    "\n",
    "# Attempting to create an instance of Shape (an ABC) - raises an error\n",
    "# shape = Shape()  # This will raise TypeError: Can't instantiate abstract class Shape with abstract method area\n",
    "\n",
    "# Creating an instance of Circle (a subclass of Shape)\n",
    "circle = Circle(5)\n",
    "\n",
    "# Calculating and printing the area\n",
    "print(f\"Area of the circle: {circle.area()}\")  # Output: Area of the circle: 78.5\n",
    "```"
   ]
  },
  {
   "cell_type": "markdown",
   "metadata": {},
   "source": [
    "### 13. How can you prevent a child class from modifying certain attributes or methods inherited from a parent class in Python?"
   ]
  },
  {
   "cell_type": "markdown",
   "metadata": {},
   "source": [
    "- Python uses name mangling to make an attribute or method \"private\" by appending `__` (double underscore) to be beginning of its name.\n",
    "- We can override methods in the child class and prevent modifications by providing an empty or restricted implementation.\n",
    "- Utilize properties to control access to attributes and implement custom getters/setters that enforce restrictions or validation."
   ]
  },
  {
   "cell_type": "markdown",
   "metadata": {},
   "source": [
    "### 14. Create a Python class called `Employee` with attributes `name` and `salary`. Then, create a child class `Manager` that inherits from `Employee` and adds an attribute `department`. Provide an example."
   ]
  },
  {
   "cell_type": "code",
   "execution_count": 9,
   "metadata": {},
   "outputs": [
    {
     "name": "stdout",
     "output_type": "stream",
     "text": [
      "Employee: Raj, Salary: 40000\n",
      "Manager: Dev, Salary: 70000, Department: HR\n"
     ]
    }
   ],
   "source": [
    "# Create an Employee class\n",
    "class Employee:\n",
    "    def __init__(self, name, salary):\n",
    "        self.name = name\n",
    "        self.salary = salary\n",
    "\n",
    "# Create Manager class as child of Employee class\n",
    "class Manager(Employee):\n",
    "    def __init__(self, name, salary, department):\n",
    "        super().__init__(name, salary)      # Calling the superclass constructor\n",
    "        self.department = department\n",
    "\n",
    "\n",
    "# Creating instances of Employee and Manager classes\n",
    "employee1 = Employee(\"Raj\", 40000)\n",
    "manager1 = Manager(\"Dev\", 70000, \"HR\")\n",
    "\n",
    "# Accessing attributes\n",
    "print(f\"Employee: {employee1.name}, Salary: {employee1.salary}\")\n",
    "print(f\"Manager: {manager1.name}, Salary: {manager1.salary}, Department: {manager1.department}\")"
   ]
  },
  {
   "cell_type": "markdown",
   "metadata": {},
   "source": [
    "- `Employee` class has attributes `name` and `salary` initialized in its constructor.\n",
    "- `Manager` class inherits from `Employee` and adds the `department` attribute in its constructor while invoking the superclass constructor using `super().__init__(name, salary)`.\n",
    "- Instances of `Employee` and `Manager` classes are created, and their attributes are accessed."
   ]
  },
  {
   "cell_type": "markdown",
   "metadata": {},
   "source": [
    "### 15. Discuss the concept of method overloading in Python inheritance. How does it differ from method overriding?"
   ]
  },
  {
   "cell_type": "markdown",
   "metadata": {},
   "source": [
    "- Method overloading refers to defining multiple methods in a class with the same name but different parameter signatures. Python doesn't support method overloading in the traditional sense, where we can define multiple methods with the same name but different parameters.\n",
    "- **Differences:**\n",
    "    - Method overloading involves defining multiple methods with the same name but different parameter signatures. Python doesn't support method overloading in the traditional way. But, Method overriding occurs when a subclass redefines a method inherited from its superclass.\n",
    "    - Method overloading considers the number of types of parameters to differentiate methods. But, Method overriding involves having the same method signature in both the superclass and subclass.\n",
    "    - Python doesn't support traditional method overloading. But, Python fully support method overriding."
   ]
  },
  {
   "cell_type": "markdown",
   "metadata": {},
   "source": [
    "### 16. Explain the purpose of the `__init__()` method in Python inheritance and how it is utilized in child classes."
   ]
  },
  {
   "cell_type": "markdown",
   "metadata": {},
   "source": [
    "- The `__init__()` method in Python is a special method known as the constructor. It's used to initialize objects of a class.\n",
    "- Inheritance allows child classes to inherit attributes and behaviours from their parent classes. The `__init__()` method in the parent class can initialize attributes specific to that class.<br>\n",
    "When a child class inherits from a parent class, it can call the parent class's `__init__()` method using `super().__init__()` to initialize attributes from the parent. THis ensures that both parent and child class attributes are properly initialized when creating objects of the child class."
   ]
  },
  {
   "cell_type": "markdown",
   "metadata": {},
   "source": [
    "### 17. Create a Python class called `Bird` with a method `fly()`. Then, create child classes `Eagle` and `Sparrow` that inherit from `Bird` and implement the `fly()` method differently. Provide an example of using these classes."
   ]
  },
  {
   "cell_type": "code",
   "execution_count": 10,
   "metadata": {},
   "outputs": [
    {
     "name": "stdout",
     "output_type": "stream",
     "text": [
      "Eagle: Flying at a high altitude\n",
      "Sparrow: Flying at a low altitude\n"
     ]
    }
   ],
   "source": [
    "class Bird:\n",
    "    def fly(self):\n",
    "        return \"Flying at a moderate altitude\"\n",
    "\n",
    "class Eagle(Bird):\n",
    "    def fly(self):\n",
    "        return \"Flying at a high altitude\"\n",
    "    \n",
    "class Sparrow(Bird):\n",
    "    def fly(self):\n",
    "        return \"Flying at a low altitude\"\n",
    "    \n",
    "\n",
    "# Creating instances of Egale and Sparrow\n",
    "eagle1 = Eagle()\n",
    "sparrow1 = Sparrow()\n",
    "\n",
    "# Using the fly() method for each bird\n",
    "print(f\"Eagle: {eagle1.fly()}\")\n",
    "print(f\"Sparrow: {sparrow1.fly()}\")"
   ]
  },
  {
   "cell_type": "markdown",
   "metadata": {},
   "source": [
    "- `Bird` class defines a `fly()` method with a generic implementation.\n",
    "- `Eagle` and `Sparrow` classes inherit from `Bird` and provide their specific implementations of the `fly()` method.\n",
    "- Instance of `Eagle` and `Sparrow` classes are created.\n",
    "- The `fly()` method is invoked for each instance, showing how different implementations of the `fly()` method are executed based on the specific bird class."
   ]
  },
  {
   "cell_type": "markdown",
   "metadata": {},
   "source": [
    "### 18. What is the \"diamond problem\" in multiple inheritance, and how does Python address it?"
   ]
  },
  {
   "cell_type": "markdown",
   "metadata": {},
   "source": [
    "- The \"diamond problem\" is a challenge that arises in programming languages that support multiple inheritance, where a class inherits from two or more classes that have a common ancestor.\n",
    "- Python uses the C3 Linearization algorithm to determine the order in which methods are resolved in the presence of multiple inheritance. The `super()` function fllows the `Method Resolution Order` and helps in invoking methods of the superclass in a way that respects the resolution order. Python provides the `mro()` method that allows inspecting the method resolution order for a class."
   ]
  },
  {
   "cell_type": "markdown",
   "metadata": {},
   "source": [
    "### 19. Discuss the concept of \"is-a\" and \"has-a\" relationships in inheritance, and provide examples of each."
   ]
  },
  {
   "cell_type": "markdown",
   "metadata": {},
   "source": [
    "- **`Is-a` Relationship:**\n",
    "    - The `is-a` relationship signifies inheritance, where a subclass \"is-a\" type of its superclass. It implies that a subclass shares characteristics and behaviors of its superclass.\n",
    "    - **Example:**\n",
    "    ```python\n",
    "    class Animal:\n",
    "        def make_sound(self):\n",
    "            pass\n",
    "    \n",
    "    class Dog(Animal):      # Dog \"is-a\" type of animal\n",
    "        def make_sound(self):\n",
    "            print(\"Woof!\")\n",
    "\n",
    "    # Creating an instance of Dog\n",
    "    dog = Dog()\n",
    "    dog.make_sound()        # Output: Woof!\n",
    "    ```\n",
    "- **`Has-a` Relationship:**\n",
    "    - The `has-a` relationship signifies composition, where a class contains an instance of another class as one of its attributes. It implies that a class \"has-a\" relationship with another class by virtue of containing an instance of that class.\n",
    "    - **Example:**\n",
    "    ```python\n",
    "    class Engine:\n",
    "        def start(self):\n",
    "            print(\"Engine started\")\n",
    "\n",
    "    class Car:\n",
    "        def __init__(self):\n",
    "            self.engine = Engine()      # Car \"has-a\" Engine\n",
    "        \n",
    "        def start_engine(self):\n",
    "            self.engine.start()\n",
    "\n",
    "    # Creating an instance of Car and starting the engine\n",
    "    car = Car()\n",
    "    car.start_engine()  # Output: Engine started\n",
    "    ```"
   ]
  },
  {
   "cell_type": "markdown",
   "metadata": {},
   "source": [
    "### 20. Create a Python class hierarchy for a university system. Start with a base class `Person` and create child classes `Student` and `Professor`, each with their own attributes and methods. Provide an example of using these classes in a university context."
   ]
  },
  {
   "cell_type": "code",
   "execution_count": 11,
   "metadata": {},
   "outputs": [
    {
     "name": "stdout",
     "output_type": "stream",
     "text": [
      "Rajdip enrolled in Data Science\n",
      "Rajdip enrolled in Electronics\n",
      "Dr. Swapan is teaching Advanced Electronics\n",
      "\n",
      "Student Information:\n",
      "Name: Rajdip, Age: 22\n",
      "\n",
      "Professor Information:\n",
      "Name: Dr. Swapan, Age: 45\n"
     ]
    }
   ],
   "source": [
    "# Create a parent class Person\n",
    "class Person:\n",
    "    def __init__(self, name, age):\n",
    "        self.name = name\n",
    "        self.age = age\n",
    "    \n",
    "    def __str__(self):\n",
    "        return f\"Name: {self.name}, Age: {self.age}\"\n",
    "\n",
    "# Create a child class Student\n",
    "class Student(Person):\n",
    "    def __init__(self, name, age, student_id):\n",
    "        super().__init__(name, age)\n",
    "        self.student_id = student_id\n",
    "        self.courses = []\n",
    "\n",
    "    def enroll(self, course):\n",
    "        self.courses.append(course)\n",
    "        print(f\"{self.name} enrolled in {course}\")\n",
    "\n",
    "# Create a child class Professor\n",
    "class Professor(Person):\n",
    "    def __init__(self, name, age, employee_id, department):\n",
    "        super().__init__(name, age)\n",
    "        self.employee_id = employee_id\n",
    "        self.department = department\n",
    "\n",
    "    def teach(self, course):\n",
    "        print(f\"{self.name} is teaching {course}\")\n",
    "\n",
    "\n",
    "# Example usage\n",
    "        \n",
    "# Creating instances of Student and Professor\n",
    "student1 = Student(\"Rajdip\", 22, \"S001\")\n",
    "professor1 = Professor(\"Dr. Swapan\", 45, \"P001\", \"Electronics\")\n",
    "\n",
    "# Enrolling student in courses\n",
    "student1.enroll(\"Data Science\")\n",
    "student1.enroll(\"Electronics\")\n",
    "\n",
    "# Professor teaching a course\n",
    "professor1.teach(\"Advanced Electronics\")\n",
    "\n",
    "# Displaying information\n",
    "print(\"\\nStudent Information:\")\n",
    "print(student1)\n",
    "\n",
    "print(\"\\nProfessor Information:\")\n",
    "print(professor1)"
   ]
  },
  {
   "cell_type": "markdown",
   "metadata": {},
   "source": [
    "- `Person` is the base class representing common attributes like `name` name `age`.\n",
    "- `Student` and `Professor` are child classes inheriting from `Person`.\n",
    "- `Student` has attributes like `student_id` and a method `enroll()` to enroll in courses.\n",
    "- `Professor` has attributes like `employee_id`, `department`, and a method `teach()` to teach a course.\n",
    "- Example usage demonstrates creating instances of `Student` and `Professor`, enrolling the student in courses, and the professor teaching a course."
   ]
  },
  {
   "cell_type": "markdown",
   "metadata": {},
   "source": [
    "# Encapsulation:"
   ]
  },
  {
   "cell_type": "markdown",
   "metadata": {},
   "source": [
    "### 1. Explain the concept of encapsulation in Python. What is its role in object-oriented programming?"
   ]
  },
  {
   "cell_type": "markdown",
   "metadata": {},
   "source": [
    "- `Encapsulation` is a fundamental principle in object-oriented programmming (OOP) that involves bundling data and the methods that operate on the data within a single unit.<br>\n",
    "In Python, encapsulation is implemented using access modifiers.\n",
    "    - **Public:** Attributes and methods are accessible from outside the class. The can be accessed using the dot notation (e.g., `object.attribute` or `object.method()`).\n",
    "    - **Protected:** Attributes and methods are intended to be accessed only within the class itself. They are denoted by prefix an underscore(`_`) to the attribute or method name (e.g., `_attribute` or `_method()`).\n",
    "    - **Private:** Attributes and methods have limited accessibility. They are denoted by prefix duble underscore(`__`) to the attribute or method name (e.g., `__attribute` or `__method()`). While not entirely private like in some other languages, Python uses `name mangling` to make accessing these attributes slightly more difficult.\n",
    "\n",
    "- It restricts direct access to certain parts of an object, which helps prevent accidental modifications and enforces controlled access through methods. Encapsulation allows us to hide the internal workings of an object and expose only what's necessary. Encapsulation promotes modularity by allowing changes within a class without affecting the rest of the code."
   ]
  },
  {
   "cell_type": "markdown",
   "metadata": {},
   "source": [
    "### 2. Describe the key principles of encapsulation, including access control and data hiding."
   ]
  },
  {
   "cell_type": "markdown",
   "metadata": {},
   "source": [
    "- **Access Control:**\n",
    "    - **Public:** Attributes and methods are accessible from outside the class. The can be accessed using the dot notation (e.g., `object.attribute` or `object.method()`).\n",
    "    - **Protected:** Attributes and methods are intended to be accessed only within the class itself. They are denoted by prefix an underscore(`_`) to the attribute or method name (e.g., `_attribute` or `_method()`).\n",
    "    - **Private:** Attributes and methods have limited accessibility. They are denoted by prefix duble underscore(`__`) to the attribute or method name (e.g., `__attribute` or `__method()`). While not entirely private like in some other languages, Python uses `name mangling` to make accessing these attributes slightly more difficult.\n",
    "- **Data Hiding:**\n",
    "    - **Encapsulation of Data:** Encapsulation involves bundling data and methods that operate on the data within a single unit.\n",
    "    - **Private State:** By making certain attributes as private, encapsulation hides the internal state of an object from outside interface.\n",
    "    - **Abstraction:** Encapsulation enables abstraction by hiding the complex implementation details and exposing only the necessary functionalities to interact with an object."
   ]
  },
  {
   "cell_type": "markdown",
   "metadata": {},
   "source": [
    "### 3. How can you achieve encapsulation in Python classes? Provide an example."
   ]
  },
  {
   "cell_type": "markdown",
   "metadata": {},
   "source": [
    "- In python, encapsulation can be achieved by using access modifiers and conventions to control the visibility of attributes and methods within a class.\n",
    "- **For example:**\n",
    "```python\n",
    "class EncapsulationExample:\n",
    "    def __init__(self):\n",
    "        self.public_var = 10        # Public variable\n",
    "        self._protected_var = 20      # Protected variable\n",
    "        self.__private_var = 30       # Private variable\n",
    "    \n",
    "    # Public method\n",
    "    def public_method(self):\n",
    "        print(\"This is a public method.\")\n",
    "\n",
    "    # Protected method\n",
    "    def _protected_method(self):\n",
    "        print(\"This is a protected method.\")\n",
    "\n",
    "    # Private method\n",
    "    def __private_method(self):\n",
    "        print(\"This is a private method.\")\n",
    "\n",
    "\n",
    "# Creating an instance of the class\n",
    "obj = EncapsulationExample()\n",
    "\n",
    "# Accessing public variables and methods\n",
    "print(obj.public_var)       # Output: 10\n",
    "obj.public_method()        # Output: This is a public method.\n",
    "\n",
    "# Accessing protected variables and methods (convention)\n",
    "print(obj._protected_var)     # Output: 20\n",
    "obj._protected_method()      # Output: This is a protected method.\n",
    "\n",
    "# Accessing private variables and methods (name mangling)\n",
    "# Accessing variables and methods directly using the mangled name will throw an AttributeError\n",
    "try:\n",
    "    print(obj.__private_var)      # This will throw an AttributeError\n",
    "except AttributeError as a:\n",
    "    print(a)\n",
    "\n",
    "try:\n",
    "    obj.__private_method()        # This will throw an AttributeError\n",
    "except AttributeError as a:\n",
    "    print(a)\n",
    "```"
   ]
  },
  {
   "cell_type": "markdown",
   "metadata": {},
   "source": [
    "### 4. Discuss the difference between public, private, and protected access modifiers in Python."
   ]
  },
  {
   "cell_type": "markdown",
   "metadata": {},
   "source": [
    "- **Public:**\n",
    "    * Denoted by default; no specific syntax required.\n",
    "    * Attributes and methods without any prefix are considered public byconvention.\n",
    "    * Public attributes and methods are accessible from outside the class and can be freely accessed and modified.\n",
    "\n",
    "- **Protected:**\n",
    "    * Denoted by prefixing an underscore(`_`) to the attribute or method name.\n",
    "    * It's more of a convention; Python doesn't strictly enforce this access level.\n",
    "    * Private attributes and methods are intended to be accesses only within the class itself. They are not directly accessible from outside of the class.\n",
    "\n",
    "- **Private:**\n",
    "    * Denoted by using a double underscore(`__`) prefix to the attribute or method name.\n",
    "    * Name mangling is used to make these attributes slightly more difficult to access from outside the class. The names are altered to `_ClassName__variableName`.\n",
    "    * Protected attributes and methods are intended to be accessed within the class itself and its subclasses. They are a way to indicate that they should be treated as non-public parts of the class."
   ]
  },
  {
   "cell_type": "markdown",
   "metadata": {},
   "source": [
    "### 5. Create a Python class called `Person` with a private attribute `__name`. Provide methods to get and set the name attribute."
   ]
  },
  {
   "cell_type": "code",
   "execution_count": 12,
   "metadata": {},
   "outputs": [
    {
     "name": "stdout",
     "output_type": "stream",
     "text": [
      "Rajdip\n",
      "Dev\n"
     ]
    }
   ],
   "source": [
    "# Create the class\n",
    "class Person:\n",
    "    def __init__(self, name):\n",
    "        self.__name = name      # Private attribute\n",
    "    \n",
    "    def get_name(self):\n",
    "        return self.__name      # Getter method to get the name\n",
    "    \n",
    "    def set_name(self, new_name):\n",
    "        self.__name = new_name      # Setter method to set the name\n",
    "\n",
    "\n",
    "# Creating an instance of the Person class\n",
    "person1 = Person(\"Rajdip\")\n",
    "\n",
    "# Get the name using getter method\n",
    "print(person1.get_name())\n",
    "\n",
    "# Set the name using setter method\n",
    "person1.set_name(\"Dev\")\n",
    "\n",
    "# Get the new name using getter method\n",
    "print(person1.get_name())"
   ]
  },
  {
   "cell_type": "markdown",
   "metadata": {},
   "source": [
    "- The `__init__` method initializes the private attribute `__name` when an object of the `Person` class is created.\n",
    "- `get_name` is a getter method that retrieves the value of the private `__name` attribute.\n",
    "- `set_name` is a setter method that allows changing the value of the private `__name` attribute."
   ]
  },
  {
   "cell_type": "markdown",
   "metadata": {},
   "source": [
    "### 6. Explain the purpose of getter and setter methods in encapsulation. Provide examples."
   ]
  },
  {
   "cell_type": "markdown",
   "metadata": {},
   "source": [
    "- **Purpose of Getter Methods:** Getter methods are used to retrieve the values of private attributes. They allow controlled access to retrieve the values of attributes while encapsulating the internal representation of the data.\n",
    "- **Purpose of Setter Methods:** Setter methods are used to modify or set the values of private attributes. They enable controlled modification of attribute values by incorporating validation, constraints, or additional logic before assigning new values to the attribute.\n",
    "- **Example:**\n",
    "```python\n",
    "class Person:\n",
    "    def __init__(self, name):\n",
    "        self.__name = name      # Private attribute\n",
    "    \n",
    "    def get_name(self):\n",
    "        return self.__name      # Getter method to get the name\n",
    "    \n",
    "    def set_name(self, new_name):\n",
    "        self.__name = new_name      # Setter method to set the name\n",
    "\n",
    "\n",
    "# Creating an instance of the Person class\n",
    "person1 = Person(\"Rajdip\")\n",
    "\n",
    "# Get the name using getter method\n",
    "print(person1.get_name())       # Output: Rajdip\n",
    "\n",
    "# Set the name using setter method\n",
    "person1.set_name(\"Dev\")\n",
    "\n",
    "# Get the new name using getter method\n",
    "print(person1.get_name())       # Output: Dev\n",
    "```"
   ]
  },
  {
   "cell_type": "markdown",
   "metadata": {},
   "source": [
    "### 7. What is name mangling in Python, and how does it affect encapsulation?"
   ]
  },
  {
   "cell_type": "markdown",
   "metadata": {},
   "source": [
    "- `Name mangling` in Python is a mechanism that modifies the names of attributes or methods of a class to make them less accessible form outside the class. This is primarily used to create a form of \"pseudo-private\" attributes or methods.\n",
    "- Name mangling affects encapsulation by altering the attribute or method names in a way that makes them less readable and more challenging to access from outside the class."
   ]
  },
  {
   "cell_type": "markdown",
   "metadata": {},
   "source": [
    "### 8. Create a Python class called `BankAccount` with private attributes for the account balance (`__balance`) and account number (`__account_number`). Provide methods for depositing and withdrawing money."
   ]
  },
  {
   "cell_type": "code",
   "execution_count": 13,
   "metadata": {},
   "outputs": [
    {
     "name": "stdout",
     "output_type": "stream",
     "text": [
      "Account number: 123456789\n",
      "Balance: 6000\n",
      "2000 deposited successfully. Current balance: 8000\n",
      "Withdrawn 2500. Current balance: 5500\n",
      "1700 deposited successfully. Current balance: 7200\n",
      "Withdrawn 6000. Current balance: 1200\n",
      "Account number: 123456789\n",
      "Balance: 1200\n",
      "'BankAccount' object has no attribute '__balance'\n"
     ]
    }
   ],
   "source": [
    "# Create a BankAccount class\n",
    "class BankAccount:\n",
    "    def __init__(self, account_number, balance = 0):\n",
    "        self.__account_number = account_number\n",
    "        self.__balance = balance\n",
    "\n",
    "    # Create a method for get the balance\n",
    "    def get_balance(self):\n",
    "        return self.__balance\n",
    "    \n",
    "    # Create a method for get the account number\n",
    "    def get_account_number(self):\n",
    "        return self.__account_number\n",
    "    \n",
    "    # Create a method for deposit amount\n",
    "    def deposit(self, amount):\n",
    "        if amount > 0:\n",
    "            self.__balance += amount\n",
    "            print(f\"{amount} deposited successfully. Current balance: {self.__balance}\")\n",
    "        else:\n",
    "            print(\"Deposit amount should be greater than zero.\")\n",
    "    \n",
    "    # Create a method for withdraw amount\n",
    "    def withdraw(self, amount):\n",
    "        if amount > 0:\n",
    "            if amount <= self.__balance:\n",
    "                self.__balance -= amount\n",
    "                print(f\"Withdrawn {amount}. Current balance: {self.__balance}\")\n",
    "            else:\n",
    "                print(\"Insufficient funds.\")\n",
    "        else:\n",
    "            print(\"Withdrawal amount should be greater than zero.\")\n",
    "\n",
    "\n",
    "# Creating a BankAccount instance\n",
    "account = BankAccount(account_number=\"123456789\", balance=6000)\n",
    "\n",
    "# Accessing private attributes via getter methods\n",
    "print(f\"Account number: {account.get_account_number()}\")\n",
    "print(f\"Balance: {account.get_balance()}\")\n",
    "\n",
    "# Making deposits and withdrawals\n",
    "account.deposit(2000)\n",
    "account.withdraw(2500)\n",
    "account.deposit(1700)\n",
    "account.withdraw(6000)\n",
    "\n",
    "# Accessing private attributes via getter methods\n",
    "print(f\"Account number: {account.get_account_number()}\")\n",
    "print(f\"Balance: {account.get_balance()}\")\n",
    "\n",
    "# Trying to access private attributes directly\n",
    "try:\n",
    "    print(account.__balance)\n",
    "except AttributeError as a:\n",
    "    print(a)"
   ]
  },
  {
   "cell_type": "markdown",
   "metadata": {},
   "source": [
    "- The `__init__` method initializes the private attributes `__account_number` and `__balance` when an object of the class is created.\n",
    "- `deposit` and `withdraw` methods allow for depositing and withdrawing funds from the account, respectively, with appropriate checks for valid amounts and available balance.\n",
    "- `get_balance` and `get_account_number` methods serves as getter methods to retrieve the private attributes."
   ]
  },
  {
   "cell_type": "markdown",
   "metadata": {},
   "source": [
    "### 9. Discuss the advantages of encapsulation in terms of code maintainability and security."
   ]
  },
  {
   "cell_type": "markdown",
   "metadata": {},
   "source": [
    "- Encapsulation promotes modularity by hiding the internal workings of an object behind an interface.\n",
    "- Encapsulation allows for easier maintenance and updates. Modifying the internal implementation of a class doesn't affect the code that uses the class, as long as the interface remains consistent.\n",
    "- Encapsulation restricts direct access to certain parts of an object by making attributes or methods private or protected. This prevents external code from modifying the object's state arbitrarily, reducing the chance of unintentional errors or malicious manipulation.\n",
    "- Encapsulation enables controlled access through public interfaces, allowing validation, error-checking, or additional logic to be applied before accessing or modifying the data. This helps in ensuring data integrity and security."
   ]
  },
  {
   "cell_type": "markdown",
   "metadata": {},
   "source": [
    "### 10. How can you access private attributes in Python? Provide an example demonstrating the use of name mangling."
   ]
  },
  {
   "cell_type": "markdown",
   "metadata": {},
   "source": [
    "- In Python, private attributes are intended to be accessed and modified within the class that defines them. However, it's posiible to access private attributes outside the class using name mangling. Name mangling is a technique where Python internally changes the name of a private attribute to include the class name as a prefix.\n",
    "- **Example:**\n",
    "```python\n",
    "class MyClass:\n",
    "    def __init__(self):\n",
    "        self.__private_var = 10     # Private attribute with name mangling\n",
    "\n",
    "# Creating an instance of the class\n",
    "obj = MyClass()\n",
    "\n",
    "# Accessing the private attribute using name mangling\n",
    "print(obj._MyClass__private_var)        # Output: 10\n",
    "```"
   ]
  },
  {
   "cell_type": "markdown",
   "metadata": {},
   "source": [
    "### 11. Create a Python class hierarchy for a school system, including classes for students, teachers, and courses, and implement encapsulation principles to protect sensitive information."
   ]
  },
  {
   "cell_type": "code",
   "execution_count": 14,
   "metadata": {},
   "outputs": [
    {
     "name": "stdout",
     "output_type": "stream",
     "text": [
      "Rajdip (ID: S001)\n",
      "21\n",
      "['Course: MATH001 - Mathematics', 'Course: COMS002 - Data Science']\n",
      "Sudh (Emp ID: E001)\n",
      "37\n",
      "['Course: COMS002 - Data Science', 'Course: COMS001 - Computer Science']\n"
     ]
    }
   ],
   "source": [
    "# Create a Course class\n",
    "class Course:\n",
    "    def __init__(self, course_code, course_name):\n",
    "        self.__course_code = course_code        # Private attribute for course code\n",
    "        self.__course_name = course_name        # Private attribute for course name\n",
    "    \n",
    "    # Create a method for get course details\n",
    "    def get_course_details(self):\n",
    "        return f\"Course: {self.__course_code} - {self.__course_name}\"\n",
    "\n",
    "# Create a Person class\n",
    "class Person:\n",
    "    def __init__(self, name, age):\n",
    "        self.__name = name      # Private attribute for name\n",
    "        self.__age = age        # Private attribute for age\n",
    "\n",
    "    # Create a method for get person name\n",
    "    def get_name(self):\n",
    "        return self.__name\n",
    "    \n",
    "    # Create a method for get person's age\n",
    "    def get_age(self):\n",
    "        return self.__age\n",
    "\n",
    "# Create a Student class as child of Person class\n",
    "class Student(Person):\n",
    "    def __init__(self, name, age, student_id):\n",
    "        super().__init__(name, age)\n",
    "        self.__student_id = student_id      # Private attribute for student ID\n",
    "        self.__course_enrolled = []     # Private attribute for enrolled courses\n",
    "    \n",
    "    # Create a method for enroll a course\n",
    "    def enroll_course(self, course):\n",
    "        self.__course_enrolled.append(course)\n",
    "\n",
    "    # Create a method for get all enrolled courses\n",
    "    def get_enroll_course(self):\n",
    "        return [course.get_course_details() for course in self.__course_enrolled]\n",
    "\n",
    "    # Overriding the get_name method to include student ID\n",
    "    def get_name(self):\n",
    "        return f\"{super().get_name()} (ID: {self.__student_id})\"\n",
    "        \n",
    "# Create a Teacher class as child of Person class\n",
    "class Teacher(Person):\n",
    "    def __init__(self, name, age, employee_id):\n",
    "        super().__init__(name, age)\n",
    "        self.__employee_id = employee_id      # Private attribute for employee ID\n",
    "        self.__courses_teach = []        # Private attribute for taught courses\n",
    "\n",
    "    # Create a method for assign a course on a teacher\n",
    "    def assign_course(self, course):\n",
    "        self.__courses_teach.append(course)\n",
    "\n",
    "    # Create a method for get all assigned courses\n",
    "    def get_assign_course(self):\n",
    "        return [course.get_course_details() for course in self.__courses_teach]\n",
    "\n",
    "    # Overriding the get_name method to include employee ID\n",
    "    def get_name(self):\n",
    "        return f\"{super().get_name()} (Emp ID: {self.__employee_id})\"\n",
    "\n",
    "\n",
    "# Creating instances of the cources\n",
    "math_course = Course(\"MATH001\", \"Mathematics\")\n",
    "physics_course = Course(\"PHY001\", \"Physics\")\n",
    "comp_course = Course(\"COMS001\", \"Computer Science\")\n",
    "ds_course = Course(\"COMS002\", \"Data Science\")\n",
    "\n",
    "# Create a student\n",
    "student1 = Student(\"Rajdip\", 21, \"S001\")\n",
    "student1.enroll_course(math_course)\n",
    "student1.enroll_course(ds_course)\n",
    "\n",
    "# Create a teacher\n",
    "teacher1 = Teacher(\"Sudh\", 37, \"E001\")\n",
    "teacher1.assign_course(ds_course)\n",
    "teacher1.assign_course(comp_course)\n",
    "\n",
    "\n",
    "# Print all details about student and teacher\n",
    "print(student1.get_name())\n",
    "print(student1.get_age())\n",
    "print(student1.get_enroll_course())\n",
    "print(teacher1.get_name())\n",
    "print(teacher1.get_age())\n",
    "print(teacher1.get_assign_course())"
   ]
  },
  {
   "cell_type": "markdown",
   "metadata": {},
   "source": [
    "- The `Course` class represents a course with private attributes `__course_code` and `__course_name`.\n",
    "- The`Person` class serves as a base class for `Student` and `Teacher`, encapsulating private attributes `__name` and `__age`.\n",
    "- The `Student` class inherits from `Person` and includes private attributes for `__student_id` and `__course_enrolled`.\n",
    "- The `Teacher` class inherits from `Person` and includes private attributes for `__employee_id` and `__courses_teach`.\n",
    "- Getter methods are provided to access information while encapsulating the private attributes."
   ]
  },
  {
   "cell_type": "markdown",
   "metadata": {},
   "source": [
    "### 12. Explain the concept of property decorators in Python and how they relate to encapsulation."
   ]
  },
  {
   "cell_type": "markdown",
   "metadata": {},
   "source": [
    "- In Python, property decorators are a way to control the access, modification, and deletion of class attributes. They are used to create properties, which allow the implementation of getter, setter, and deleter methods for an attribute. This helps in achieving data encapsulation, which is a fundamental aspect of object-oriented programming (OOP).\n",
    "- Property decorators in Python facilitate encapsulation by allowing the definition of getter, setter, and deleter methods for attributes. They enable fine-grained control over how these attributes are accessed and modified, while abstracting away the implementation details."
   ]
  },
  {
   "cell_type": "markdown",
   "metadata": {},
   "source": [
    "### 13. What is data hiding, and why is it important in encapsulation? Provide examples."
   ]
  },
  {
   "cell_type": "markdown",
   "metadata": {},
   "source": [
    "- Data hiding refers to the practice of restricting the visibility of certain aspects of an object's internal state. Data hiding is crucial in encapsulation because it helps in maintaining the integrity of an object's state and behavior. By hiding the internal details, such as attributes and implementation logic, from the outside world, it prevents direct access or manipulation of sensitive data, ensuring that the object's state is controlled and modified only through predefined methods.\n",
    "- **Example:**\n",
    "```python\n",
    "class Car:\n",
    "    def __init__(self, color, speed):\n",
    "        self.__color = color        # Using '__' convention to indicate a 'private' attribute\n",
    "        self.__speed = speed        # Using '__' convention to indicate a 'private' attribute\n",
    "    \n",
    "    def get_info(self):\n",
    "        return f\"Color: {self.__color}, Speed: {self.__speed}\"\n",
    "\n",
    "\n",
    "user = Car(\"Red\", 190)\n",
    "print(user.get_info())      # Output: Color: Red, Speed: 190\n",
    "\n",
    "user.__color = \"Blue\"       # Avoid direct access for maintaining data hiding\n",
    "\n",
    "print(user.get_info())      # Output: Color: Red, Speed: 190 (Output remains unchanged)\n",
    "```"
   ]
  },
  {
   "cell_type": "markdown",
   "metadata": {},
   "source": [
    "### 14. Create a Python class called `Employee` with private attributes for salary (`__salary`) and employee ID (`__employee_id`). Provide a method to calculate yearly bonuses."
   ]
  },
  {
   "cell_type": "code",
   "execution_count": 15,
   "metadata": {},
   "outputs": [
    {
     "name": "stdout",
     "output_type": "stream",
     "text": [
      "Employee ID: E001\n",
      "Salary: 50000\n",
      "Yearly bonus: 7500.0\n"
     ]
    }
   ],
   "source": [
    "# Create an Employee class\n",
    "class Employee:\n",
    "    def __init__(self, employee_id, salary):\n",
    "        self.__employee_id = employee_id\n",
    "        self.__salary = salary\n",
    "\n",
    "    # Create a method for calculate bonus\n",
    "    def calculate_yearly_bonuses(self, percentage):\n",
    "        bonus = (percentage / 100) * self.__salary\n",
    "        return bonus\n",
    "    \n",
    "    # Getter methods for get employee ID and salary\n",
    "    def get_employee_id(self):\n",
    "        return self.__employee_id\n",
    "    \n",
    "    def get_salary(self):\n",
    "        return self.__salary\n",
    "    \n",
    "# Do an example usage\n",
    "emp = Employee(\"E001\", 50000)\n",
    "\n",
    "# Using getter methods access the private variables\n",
    "print(f\"Employee ID: {emp.get_employee_id()}\")\n",
    "print(f\"Salary: {emp.get_salary()}\")\n",
    "\n",
    "# Calculate yearly bonus for the emplyee\n",
    "bouns_percent = 15\n",
    "yearly_bonus = emp.calculate_yearly_bonuses(bouns_percent)\n",
    "print(f\"Yearly bonus: {yearly_bonus}\")"
   ]
  },
  {
   "cell_type": "markdown",
   "metadata": {},
   "source": [
    "- `__init__()` method initializes the `Employee` class with `employee_id` and `salary` attributes. Both attributes are made private using double underscores (`__`).\n",
    "- `calculate_yearly_bonuses()` method takes a `percentage` as an argument and calculates the yearly bonus based on the percentage provided and the employee's salary. The bonus calculation formula multiplies the bonus percentage by the salary and returns the bonus amount.\n",
    "- Getter methods `get_employee_id` and `get_salary` are also provided to retrieve the private attribute values indirectly."
   ]
  },
  {
   "cell_type": "markdown",
   "metadata": {},
   "source": [
    "### 15. Discuss the use of accessors and mutators in encapsulation. How do they help maintain control over attribute access?"
   ]
  },
  {
   "cell_type": "markdown",
   "metadata": {},
   "source": [
    "- **Accessors (Getter Methods):** Accessors are methods used to retrieve the values of private attributes. They provide controlled access to the attribute, allowing other parts of the program to get the values without directly accessing the attributes themselves.\n",
    "- **Mutators (Setter Methods):** Mutators are methods used to modify or update the values of private attributes. They enable controlled modification of attribute values by applying validations, checks, or nay necessary transformations before assigning new values to the attributes.\n",
    "<br><br>\n",
    "- Accessors and mutators provide a controlled interface to interact with the object's attributes, ensuring that any modifications or retrievals follow specific rules defined within these methods. They enable validation and checks on attribute values before allowing modifications or retrievals, preventing invalid or inconsistent states of the object."
   ]
  },
  {
   "cell_type": "markdown",
   "metadata": {},
   "source": [
    "### 16. What are the potential drawbacks or disadvantages of using encapsulation in Python?"
   ]
  },
  {
   "cell_type": "markdown",
   "metadata": {},
   "source": [
    "- Implementing encapsulation with accessors, mutators, or property decorators can introduce additional complexity and code overhead. This can make the codebase harder to read and maintain, especially for simpler classes where encapsulation might be unnecessary.\n",
    "- Accessing attributes through getter and setter methods or properties can incur a slight performance cost compared to direct attribute access.\n",
    "- Python doesn't enforce strict encapsulation compared to some other languages.\n",
    "- While encapsulation promotes better code organization and abstraction, excessive use of accessors and mutators might decrease code readability.\n",
    "- Over-encapsulation might restrict the flexibility of a class."
   ]
  },
  {
   "cell_type": "markdown",
   "metadata": {},
   "source": [
    "### 17. Create a Python class for a library system that encapsulates book information, including titles, authors, and availability status."
   ]
  },
  {
   "cell_type": "code",
   "execution_count": 16,
   "metadata": {},
   "outputs": [
    {
     "name": "stdout",
     "output_type": "stream",
     "text": [
      "Book 'Let us C' by Yashavant Kanetkar has been borrowed.\n",
      "Book 'Java Fundamentals' by Gary Marrer has been borrowed.\n",
      "Book 'Let us C' by Yashavant Kanetkar has been returned.\n",
      "Yashavant Kanetkar\n",
      "Python for dummies\n",
      "False\n"
     ]
    }
   ],
   "source": [
    "# Create a class for library system\n",
    "class Book:\n",
    "    def __init__(self, title, author, available=True):\n",
    "        self.__title = title\n",
    "        self.__author = author\n",
    "        self.__available = available\n",
    "    \n",
    "    # Create getter methods for title, author, available\n",
    "    def get_title(self):\n",
    "        return self.__title\n",
    "    \n",
    "    def get_author(self):\n",
    "        return self.__author\n",
    "    \n",
    "    def is_available(self):\n",
    "        return self.__available\n",
    "    \n",
    "    # Create a method for borrow a book\n",
    "    def borrow_book(self):\n",
    "        if self.__available:\n",
    "            self.__available = False\n",
    "            print(f\"Book '{self.__title}' by {self.__author} has been borrowed.\")\n",
    "        else:\n",
    "            print(f\"Book '{self.__title}' by {self.__author} is currently unavailable.\")\n",
    "    \n",
    "    # Create a method for return a book\n",
    "    def return_book(self):\n",
    "        if not self.__available:\n",
    "            self.__available = True\n",
    "            print(f\"Book '{self.__title}' by {self.__author} has been returned.\")\n",
    "        else:\n",
    "            print(f\"Book '{self.__title}' by {self.__author} ia already available.\")\n",
    "\n",
    "# Do some example usage\n",
    "book1 = Book(\"Let us C\", \"Yashavant Kanetkar\")\n",
    "book2 = Book(\"Python for dummies\", \"Aahz Maruch\")\n",
    "book3 = Book(\"Java Fundamentals\", \"Gary Marrer\")\n",
    "\n",
    "# Borrow two books\n",
    "book1.borrow_book()\n",
    "book3.borrow_book()\n",
    "\n",
    "# Return a book\n",
    "book1.return_book()\n",
    "\n",
    "# See book informations\n",
    "print(book1.get_author())\n",
    "print(book2.get_title())\n",
    "print(book3.is_available())"
   ]
  },
  {
   "cell_type": "markdown",
   "metadata": {},
   "source": [
    "- The `Book` class encapsulate book information such as `title`, `author` and `available` status using private attributes.\n",
    "- Getter methods such as `get_title`, `get_suthor`, `is_available` are provided to access these attributes indirectly.\n",
    "- `borrow_book` and `return_book` methods modify the availability status of the book while providing appropriate feedback."
   ]
  },
  {
   "cell_type": "markdown",
   "metadata": {},
   "source": [
    "### 18. Explain how encapsulation enhances code reusability and modularity in Python programs."
   ]
  },
  {
   "cell_type": "markdown",
   "metadata": {},
   "source": [
    "- Encapsulation allows you to create modules that hide the internal workings of a class or an object, exposing only the necessary interfaces.\n",
    "- Encapsulation helps reduce dependencies between different modules or components of a program.\n",
    "- Encapsulation encourages reuseable and modular components. Classes with well-defined interfaces due to encapsulation can be easily reduce in various parts of the program or even in different projects.\n",
    "- Encapsulation contributes to code maintainability by localizing changes.\n",
    "- Encapsulation encourages following best practices such as information hiding and separation of concerns."
   ]
  },
  {
   "cell_type": "markdown",
   "metadata": {},
   "source": [
    "### 19. Describe the concept of information hiding in encapsulation. Why is it essential in software development?"
   ]
  },
  {
   "cell_type": "markdown",
   "metadata": {},
   "source": [
    "- Information hiding involves concealing the internal state of an object within a class, making it private or protected and inaccessible from outside the class.<br>\n",
    "Instate of directly accessing internal data, information hiding encourages providing controlled interfaces through which external code can interact with the object.\n",
    "- Hiding internal data prevents unauthorized access or manipulation, improving security by ensuring that only permitted operations can be performed on the object's data. By encapsulating implementation details, information hiding reduces the complexity seen by users of the class or module."
   ]
  },
  {
   "cell_type": "markdown",
   "metadata": {},
   "source": [
    "### 20. Create a Python class called `Customer` with private attributes for customer details like name, address, and contact information. Implement encapsulation to ensure data integrity and security."
   ]
  },
  {
   "cell_type": "code",
   "execution_count": 17,
   "metadata": {},
   "outputs": [
    {
     "name": "stdout",
     "output_type": "stream",
     "text": [
      "Name: Rajdip\n",
      "Address: Kolkata\n",
      "Contact info: raj@gmail.com\n",
      "Rajdip's new address Delhi\n",
      "Rajdip's new contact info dasrajdip@gmail.com\n",
      "Name: Rajdip\n",
      "Address: Delhi\n",
      "Contact info: dasrajdip@gmail.com\n"
     ]
    }
   ],
   "source": [
    "# Create a Customer class\n",
    "class Customer:\n",
    "    def __init__(self, name, address, contact_info):\n",
    "        self.__name = name\n",
    "        self.__address = address\n",
    "        self.__contact_info = contact_info\n",
    "\n",
    "    # Create getter methods for display information about customer\n",
    "    def get_name(self):\n",
    "        return self.__name\n",
    "    \n",
    "    def get_address(self):\n",
    "        return self.__address\n",
    "    \n",
    "    def get_contact_info(self):\n",
    "        return self.__contact_info\n",
    "    \n",
    "    # Create a method for update address\n",
    "    def update_address(self, new_address):\n",
    "        self.__address = new_address\n",
    "        print(f\"{self.__name}'s new address {new_address}\")\n",
    "\n",
    "    # Create a method for update contact info\n",
    "    def update_contact_info(self, new_contact):\n",
    "        self.__contact_info = new_contact\n",
    "        print(f\"{self.__name}'s new contact info {new_contact}\")\n",
    "\n",
    "\n",
    "# Do some example usages\n",
    "raj = Customer(\"Rajdip\", \"Kolkata\", 'raj@gmail.com')\n",
    "\n",
    "# Print informations\n",
    "print(f\"Name: {raj.get_name()}\")\n",
    "print(f\"Address: {raj.get_address()}\")\n",
    "print(f\"Contact info: {raj.get_contact_info()}\")\n",
    "\n",
    "# Update address and contact info\n",
    "raj.update_address(\"Delhi\")\n",
    "raj.update_contact_info(\"dasrajdip@gmail.com\")\n",
    "\n",
    "# Print informations\n",
    "print(f\"Name: {raj.get_name()}\")\n",
    "print(f\"Address: {raj.get_address()}\")\n",
    "print(f\"Contact info: {raj.get_contact_info()}\")"
   ]
  },
  {
   "cell_type": "markdown",
   "metadata": {},
   "source": [
    "- Attributes such as `__name`, `__address`, and `__contact_info` are private, indicated by the double underscores.\n",
    "- Getter methods such as `get_name`, `get_address`, and `get_contact_info` provide controlled access to retrieve these attributes.\n",
    "- Setter methods such as `update_address`, and `update_contact_info` allow controlled modification of the private attributes, ensuring data integrity and security."
   ]
  },
  {
   "cell_type": "markdown",
   "metadata": {},
   "source": [
    "# Polymorphism:"
   ]
  },
  {
   "cell_type": "markdown",
   "metadata": {},
   "source": [
    "### 1. What is polymorphism in Python? Explain how it is related to object-oriented programming."
   ]
  },
  {
   "cell_type": "markdown",
   "metadata": {},
   "source": [
    "- Polmorphism in Python refers to the ability of different objects to be treated as instances of a common interface or superclass. It allows objects of diferent classes to be treated as objects of a common base class, providing a way to work with multiple types through a uniform interface.\n",
    "- Polymorphism facilitates abstraction by allowing code to work eith objects of different classes through a shared interface. It promotes code reuseability by allowing methods or functions to accept parameters of a common superclass or interface type. It enables dynamic binding, where the actual method or function to be executed is determined during runtime based on the type of the object being used."
   ]
  },
  {
   "cell_type": "markdown",
   "metadata": {},
   "source": [
    "### 2. Describe the difference between compile-time polymorphism and runtime polymorphism in Python."
   ]
  },
  {
   "cell_type": "markdown",
   "metadata": {},
   "source": [
    "- **Compile-Time Polymorphism:**\n",
    "    - Method overloading is a form of compile-time polymorphism where multiple methods with the same name exist within a class, but with different signatures.\n",
    "    - Python does not support traditional method overloading based on the number or types of parameters.\n",
    "    - Python achieves a similar effect using default parameters or variable-length argument lists to provide flexibility in function or method calls without explicitly supporting method overloading based on method signatures.\n",
    "- **Run-Time Polymorphism:**\n",
    "    - Method overriding is a form of runtime polymorphism where a method in a subclass has the same name, return type, and parameter list as a method in its superclass.\n",
    "    - Python supports method overriding, allowing a subclass to provide its own implementation of a method that is already defined in its superclass.\n",
    "    - The method to be executed is determined dynamically during runtime based on the type of the object. When a method is called on an object, Python looks for the method in the instance's class."
   ]
  },
  {
   "cell_type": "markdown",
   "metadata": {},
   "source": [
    "### 3. Create a Python class hierarchy for shapes (e.g., circle, square, triangle) and demonstrate polymorphism through a common method, such as `calculate_area()`."
   ]
  },
  {
   "cell_type": "code",
   "execution_count": 18,
   "metadata": {},
   "outputs": [
    {
     "name": "stdout",
     "output_type": "stream",
     "text": [
      "Area of Circle: 78.53981633974483\n",
      "Area of Square: 16\n",
      "Area of Triangle: 16.0\n",
      "Area of Rectangle: 24\n"
     ]
    }
   ],
   "source": [
    "import math\n",
    "\n",
    "# Create a Shape class\n",
    "class Shape:\n",
    "    def calculate_area(self):\n",
    "        pass\n",
    "\n",
    "# Create a Circle class as child of Shape class\n",
    "class Circle(Shape):\n",
    "    def __init__(self, radius):\n",
    "        self.radius = radius\n",
    "    \n",
    "    # Override calculate_area method of parent class\n",
    "    def calculate_area(self):\n",
    "        return math.pi * self.radius ** 2\n",
    "    \n",
    "# Create a Square class as child of Shape class\n",
    "class Square(Shape):\n",
    "    def __init__(self, side):\n",
    "        self.side = side\n",
    "    \n",
    "    # Override calculate_area method of parent class\n",
    "    def calculate_area(self):\n",
    "        return self.side ** 2\n",
    "\n",
    "# Create a Triangle class as child of Shape class\n",
    "class Triangle(Shape):\n",
    "    def __init__(self, base, height):\n",
    "        self.base = base\n",
    "        self.height = height\n",
    "    \n",
    "    # Override calculate_area method of parent class\n",
    "    def calculate_area(self):\n",
    "        return 0.5 * self.base * self.height\n",
    "    \n",
    "# Create a Rectangle class as child of Shape class\n",
    "class Rectangle(Shape):\n",
    "    def __init__(self, height, width):\n",
    "        self.height = height\n",
    "        self.width = width\n",
    "    \n",
    "    # Override calculate_area method of parent class\n",
    "    def calculate_area(self):\n",
    "        return self.height * self.width\n",
    "\n",
    "# Do some example usages\n",
    "circle1 = Circle(5)\n",
    "square1 = Square(4)\n",
    "triangle1 = Triangle(4, 8)\n",
    "rectangle1 = Rectangle(4, 6)\n",
    "\n",
    "# Print area of the shapes\n",
    "print(f\"Area of Circle: {circle1.calculate_area()}\")\n",
    "print(f\"Area of Square: {square1.calculate_area()}\")\n",
    "print(f\"Area of Triangle: {triangle1.calculate_area()}\")\n",
    "print(f\"Area of Rectangle: {rectangle1.calculate_area()}\")"
   ]
  },
  {
   "cell_type": "markdown",
   "metadata": {},
   "source": [
    "- There's a base `Shape` class with a placeholder `calculate_area()` method to be overridden by its subclasses.\n",
    "- Subclasses such as `Circle`, `Square`, `Triangle` and `Rectangle` inherit from the `Shape` class and provide their own implementstions of the `calculate_area()` method to calculate the area specific to each shape.\n",
    "- Polymorphism is demonstrated by creating instances of different shapes and calling the `calculate_area()` method on each instance."
   ]
  },
  {
   "cell_type": "markdown",
   "metadata": {},
   "source": [
    "### 4. Explain the concept of method overriding in polymorphism. Provide an example."
   ]
  },
  {
   "cell_type": "markdown",
   "metadata": {},
   "source": [
    "- Method overriding is a concept in object-oriented programming where a subclass provides a specific implementation of a method that is already defined in its sperclass. The method in the subclass has the same name, return type, and parameter list as the method in the superclass.\n",
    "- **Example:**\n",
    "```python\n",
    "class Animal:\n",
    "    def make_sound(self):\n",
    "        return \"Generic animal sound\"\n",
    "\n",
    "class Dog(Animal):\n",
    "    def make_sound(self):\n",
    "        return \"Woof!\"\n",
    "\n",
    "class Cat(Animal):\n",
    "    def make_sound(self):\n",
    "        return \"Meow!\"\n",
    "\n",
    "class Cow(Animal):\n",
    "    pass  # Inherits the 'make_sound' method from the Animal class\n",
    "\n",
    "# Using method overriding\n",
    "dog = Dog()\n",
    "print(dog.make_sound())  # Output: Woof!\n",
    "\n",
    "cat = Cat()\n",
    "print(cat.make_sound())  # Output: Meow!\n",
    "\n",
    "cow = Cow()\n",
    "print(cow.make_sound())  # Output: Generic animal sound (inherits from Animal)\n",
    "```"
   ]
  },
  {
   "cell_type": "markdown",
   "metadata": {},
   "source": [
    "### 5. How is polymorphism different from method overloading in Python? Provide examples for both."
   ]
  },
  {
   "cell_type": "markdown",
   "metadata": {},
   "source": [
    "- **Method Overloading:**\n",
    "    - Method overloading refers to defining multiple methods with the same name within a class, but with different parameter sets or types. However, Python does not support traditional method overloading based on the number or types of parameters, as seen in statically typed languages.\n",
    "    - **Example**\n",
    "    ```python\n",
    "    class Calculator:\n",
    "        def add(self, a, b):\n",
    "            return a + b\n",
    "\n",
    "        def add(self, a, b, c):\n",
    "            return a + b + c\n",
    "\n",
    "    # The latest definition of 'add' overwrites the previous one\n",
    "    # So, only the latest 'add' method definition is available\n",
    "    calculator = Calculator()\n",
    "    print(calculator.add(2, 3))  # This would raise a TypeError\n",
    "    ```\n",
    "\n",
    "- **Polymorphism:**\n",
    "    - Polymorphism refers to the ability of different objects to be treated as instances of a common interface or superclass, allowing them to be used interchangeably. In Python, polymorphism is achieved through method overriding, where a subclass provides its own implementation of a method that is already defined in its superclass.\n",
    "    - **Example:**\n",
    "    ```python\n",
    "    class Animal:\n",
    "        def make_sound(self):\n",
    "            return \"Generic animal sound\"\n",
    "\n",
    "        class Dog(Animal):\n",
    "            def make_sound(self):\n",
    "                return \"Woof!\"\n",
    "\n",
    "        class Cat(Animal):\n",
    "            def make_sound(self):\n",
    "                return \"Meow!\"\n",
    "\n",
    "    dog = Dog()\n",
    "    print(dog.make_sound())  # Output: Woof!\n",
    "\n",
    "    cat = Cat()\n",
    "    print(cat.make_sound())  # Output: Meow!\n",
    "    ```"
   ]
  },
  {
   "cell_type": "markdown",
   "metadata": {},
   "source": [
    "### 6. Create a Python class called `Animal` with a method `speak()`. Then, create child classes like `Dog`, `Cat`, and `Bird`, each with their own `speak()` method. Demonstrate polymorphism by calling the `speak()` method on objects of different subclasses."
   ]
  },
  {
   "cell_type": "code",
   "execution_count": 19,
   "metadata": {},
   "outputs": [
    {
     "name": "stdout",
     "output_type": "stream",
     "text": [
      "Woof!\n",
      "Meow!\n",
      "Tweet!\n"
     ]
    }
   ],
   "source": [
    "# Create Animal class\n",
    "class Animal:\n",
    "    def speak(self):\n",
    "        pass\n",
    "\n",
    "# Create child classes of Animal\n",
    "class Dog(Animal):\n",
    "    def speak(self):\n",
    "        return \"Woof!\"\n",
    "\n",
    "class Cat(Animal):\n",
    "    def speak(self):\n",
    "        return \"Meow!\"\n",
    "    \n",
    "class Bird(Animal):\n",
    "    def speak(self):\n",
    "        return \"Tweet!\"\n",
    "    \n",
    "\n",
    "# Creating instances of different subclasses\n",
    "dog1 = Dog()\n",
    "cat1 = Cat()\n",
    "bird1 = Bird()\n",
    "\n",
    "# calling speak() on different objects for demonstrate Polymorphism\n",
    "print(dog1.speak())\n",
    "print(cat1.speak())\n",
    "print(bird1.speak())"
   ]
  },
  {
   "cell_type": "markdown",
   "metadata": {},
   "source": [
    "- `Animal` class is the base class with a `speak()` method that is notimplemented. THis method will be overriden by the subclasses.\n",
    "- `Dog`, `Cat`, and `Bird` each of these subclasses inherits from `Animal` and implements its own version of the `speak()` method to represent the sounds these animals make.\n",
    "- To demonstrate polymorphism, I create instances of different subclasses and store it in `dog1`, `cat1`, and `bird1` object. Then call the `speak()` method on each object."
   ]
  },
  {
   "cell_type": "markdown",
   "metadata": {},
   "source": [
    "### 7. Discuss the use of abstract methods and classes in achieving polymorphism in Python. Provide an example using the `abc` module."
   ]
  },
  {
   "cell_type": "markdown",
   "metadata": {},
   "source": [
    "- Abstract classes and methods play a significant role in achieving polymorphism by enforcing a structure that child classes must adhere to. In Python, the `abc` module allows the creation of abstract base classes, which can contain abstract methods that must be implementade by their subclasses.\n",
    "- **Example:**\n",
    "```python\n",
    "from abc import ABC, abstractmethod\n",
    "\n",
    "class Shape(ABC):       # Abstract Base Class\n",
    "    @abstractmethod\n",
    "    def area(self):\n",
    "        pass\n",
    "\n",
    "class Rectangle(Shape):\n",
    "    def __init__(self, width, height):\n",
    "        self.width = width\n",
    "        self.height = height\n",
    "    \n",
    "    def area(self):\n",
    "        return self.width * self.height\n",
    "    \n",
    "class Circle(Shape):\n",
    "    def __init__(self, radius):\n",
    "        self.radius = radius\n",
    "\n",
    "    def area(self):\n",
    "        return 3.14159 * self.radius ** 2\n",
    "    \n",
    "# Polymorphism in action\n",
    "rectangle1 = Rectangle(4, 6)\n",
    "circle1 = Circle(4)\n",
    "\n",
    "print(rectangle1.area())\n",
    "print(circle1.area())\n",
    "```"
   ]
  },
  {
   "cell_type": "markdown",
   "metadata": {},
   "source": [
    "### 8. Create a Python class hierarchy for a vehicle system (e.g., car, bicycle, boat) and implement a polymorphic `start()` method that prints a message specific to each vehicle type."
   ]
  },
  {
   "cell_type": "code",
   "execution_count": 20,
   "metadata": {},
   "outputs": [
    {
     "name": "stdout",
     "output_type": "stream",
     "text": [
      "Car engine started. Ready to go!\n",
      "Pedaling the bicycle. Let's ride!\n",
      "Starting the boat's engine, Set sail!\n"
     ]
    }
   ],
   "source": [
    "# Create a Vehicle class\n",
    "class Vehicle:\n",
    "    def start(self):\n",
    "        pass\n",
    "\n",
    "# Create some methods as child of Vehicle class\n",
    "class Car(Vehicle):\n",
    "    def start(self):\n",
    "        return \"Car engine started. Ready to go!\"\n",
    "\n",
    "class Bicycle(Vehicle):\n",
    "    def start(self):\n",
    "        return \"Pedaling the bicycle. Let's ride!\"\n",
    "    \n",
    "class Boat(Vehicle):\n",
    "    def start(self):\n",
    "        return \"Starting the boat's engine, Set sail!\"\n",
    "    \n",
    "# Polymorphism in action\n",
    "car1 = Car()\n",
    "bicycle1 = Bicycle()\n",
    "boat1 = Boat()\n",
    "\n",
    "print(car1.start())\n",
    "print(bicycle1.start())\n",
    "print(boat1.start())"
   ]
  },
  {
   "cell_type": "markdown",
   "metadata": {},
   "source": [
    "- `Vehicle` class is the base class with a `start()` method that's left as an abstract method.\n",
    "- `Car`, `Bicycle`, and `Boat` classes are subclasses of `Vehicle`, and each class implements its version of the `start()` method, providing a specific message related to starting that particular type of vehicle.\n",
    "- To demonstrate polymorphism, I create instances of different subclasses and store it in `car1`, `bicycle1`, and `boat1` object. Then call the `start()` method on each object to showcasing their unique functionality."
   ]
  },
  {
   "cell_type": "markdown",
   "metadata": {},
   "source": [
    "### 9. Explain the significance of the `isinstance()` and `issubclass()` functions in Python polymorphism."
   ]
  },
  {
   "cell_type": "markdown",
   "metadata": {},
   "source": [
    "- **isinstance()**: This function is used to check if an object is an instance of a perticular class or if it is an instance of a subclass derived from that class. It helps in determining the type of an object at runtime.\n",
    "- **issubclass()**: This function checks if a given class is a subclass of another class. it's helpful in determining class relationships and inheritance hierarchies."
   ]
  },
  {
   "cell_type": "markdown",
   "metadata": {},
   "source": [
    "### 10. What is the role of the `@abstractmethod` decorator in achieving polymorphism in Python? Provide an example."
   ]
  },
  {
   "cell_type": "markdown",
   "metadata": {},
   "source": [
    "- The `@abstractmethod` decorator, found in the `abc` module, is crucial in defining abstract methods within abstract base classes. Abstract methods don't have an implementation in the base class but must be overridden by concrete subclasses. This plays a significant role in achieving polymorphism by enforcing a consistent interface across multiple classes.\n",
    "- **Example:**\n",
    "```python\n",
    "from abc import ABC, abstractmethod\n",
    "\n",
    "class Shape(ABC):       # Abstract Base Class\n",
    "    @abstractmethod\n",
    "    def area(self):\n",
    "        pass\n",
    "\n",
    "class Rectangle(Shape):\n",
    "    def __init__(self, width, height):\n",
    "        self.width = width\n",
    "        self.height = height\n",
    "    \n",
    "    def area(self):\n",
    "        return self.width * self.height\n",
    "    \n",
    "class Circle(Shape):\n",
    "    def __init__(self, radius):\n",
    "        self.radius = radius\n",
    "\n",
    "    def area(self):\n",
    "        return 3.14159 * self.radius ** 2\n",
    "    \n",
    "# Polymorphism in action\n",
    "rectangle1 = Rectangle(4, 6)\n",
    "circle1 = Circle(4)\n",
    "\n",
    "print(rectangle1.area())\n",
    "print(circle1.area())\n",
    "```"
   ]
  },
  {
   "cell_type": "markdown",
   "metadata": {},
   "source": [
    "### 11. Create a Python class called `Shape` with a polymorphic method `area()` that calculates the area of different shapes (e.g., circle, rectangle, triangle)."
   ]
  },
  {
   "cell_type": "code",
   "execution_count": 21,
   "metadata": {},
   "outputs": [
    {
     "name": "stdout",
     "output_type": "stream",
     "text": [
      "8\n",
      "50.26544\n",
      "12.0\n"
     ]
    }
   ],
   "source": [
    "from abc import ABC, abstractmethod\n",
    "\n",
    "# Create an abstract base class\n",
    "class Shape(ABC):       # Abstract Base Class\n",
    "    @abstractmethod\n",
    "    def area(self):\n",
    "        pass\n",
    "\n",
    "# Create some child classes of Shape class\n",
    "class Rectangle(Shape):\n",
    "    def __init__(self, width, height):\n",
    "        self.width = width\n",
    "        self.height = height\n",
    "\n",
    "    def area(self):\n",
    "        return self.width * self.height\n",
    "    \n",
    "class Circle(Shape):\n",
    "    def __init__(self, radius):\n",
    "        self.radius = radius\n",
    "    \n",
    "    def area(self):\n",
    "        return 3.14159 * self.radius ** 2\n",
    "    \n",
    "class Triangle(Shape):\n",
    "    def __init__(self, base, height):\n",
    "        self.base = base\n",
    "        self.height =height\n",
    "    \n",
    "    def area(self):\n",
    "        return 0.5 * self.base * self.height\n",
    "    \n",
    "# Creating instances of different subclasses\n",
    "rectangle1 = Rectangle(4, 2)\n",
    "circle1 = Circle(4)\n",
    "triangle1 = Triangle(3, 8)\n",
    "\n",
    "# calling area() on different objects for demonstrate Polymorphism\n",
    "print(rectangle1.area())\n",
    "print(circle1.area())\n",
    "print(triangle1.area())"
   ]
  },
  {
   "cell_type": "markdown",
   "metadata": {},
   "source": [
    "- `Shape` class is the base class containing the `area()` method that acts as a placeholder method. This method is intended to be overriden by subclasses.\n",
    "- `Circle`, `Rectangle`, and `Triangle` each of these subclasses of `Shape` implements its version of the `area()` method to calculate the area specific to that shape.\n",
    "- To demonstrate polymorphism, I create instances of different subclasses and store it in `rectangle1`, `circle1`, and `triangle1` object. Then call the `area()` method on each object for showcasing their unique functionality."
   ]
  },
  {
   "cell_type": "markdown",
   "metadata": {},
   "source": [
    "### 12. Discuss the benefits of polymorphism in terms of code reusability and flexibility in Python programs."
   ]
  },
  {
   "cell_type": "markdown",
   "metadata": {},
   "source": [
    "- **Flexibility:**\n",
    "    - Polymorphism allows different objects to be treated uniformly despite their differences in implementation. This flexibility enables code to be written in a more generalized manner, capable of handling various object types.\n",
    "    - It allows for the creation of a single interface for different classes, promoting a more adaptable and extensible design.\n",
    "- **Code Reusability:**\n",
    "    - Polymorphism encourages the reuse of code. Methods defined in a base class can be used by multiple subclasses without modification, promoting the DRY (Don't Repeat Yourself) principle.\n",
    "    - By utilizing polymorphism, the same method name can be used accross multiple classes, reducing the need for redundant code and making the codebase more maintainable."
   ]
  },
  {
   "cell_type": "markdown",
   "metadata": {},
   "source": [
    "### 13. Explain the use of the `super()` function in Python polymorphism. How does it help call methods of parent classes?"
   ]
  },
  {
   "cell_type": "markdown",
   "metadata": {},
   "source": [
    "- The `super()` function in Python is used to access methods and properties from a superclass(parent class) within a subclass. It's particularly helpful in achieving method overriding while maintaining access to the parent class's functionalities.\n",
    "- When a method is overridden in a subclass, `super()` allows you to call the superclass's version of that method. This helps avoid code duplication and ensures that both the parent and child class functionalities can be utilized."
   ]
  },
  {
   "cell_type": "markdown",
   "metadata": {},
   "source": [
    "### 14. Create a Python class hierarchy for a banking system with various account types (e.g., savings, checking, credit card) and demonstrate polymorphism by implementing a common `withdraw()` method."
   ]
  },
  {
   "cell_type": "code",
   "execution_count": 22,
   "metadata": {},
   "outputs": [
    {
     "name": "stdout",
     "output_type": "stream",
     "text": [
      "Withdrawn 400 from savings account. Current balance: 600\n",
      "Withdrawn 300 from checking account. Current balance: 200\n",
      "Withdrawn 800 from credit account. Current balance: 1200\n"
     ]
    }
   ],
   "source": [
    "# Create a parent class\n",
    "class Account:\n",
    "    def __init__(self, account_number, balance):\n",
    "        self.account_number = account_number\n",
    "        self.balance = balance\n",
    "    \n",
    "    def withdraw(self, amount):\n",
    "        pass\n",
    "\n",
    "# Make different types of account as child of Account class\n",
    "class Savings(Account):\n",
    "    def withdraw(self, amount):\n",
    "        if self.balance >= amount:\n",
    "            self.balance -= amount\n",
    "            return f\"Withdrawn {amount} from savings account. Current balance: {self.balance}\"\n",
    "        else:\n",
    "            return \"Insufficient funds in savings account\"\n",
    "        \n",
    "class Checking(Account):\n",
    "    def withdraw(self, amount):\n",
    "        if self.balance >= amount:\n",
    "            self.balance -= amount\n",
    "            return f\"Withdrawn {amount} from checking account. Current balance: {self.balance}\"\n",
    "        else:\n",
    "            return \"Insufficient funds in checking account\"\n",
    "\n",
    "class Credit(Account):\n",
    "    def withdraw(self, amount):\n",
    "        if self.balance >= amount:\n",
    "            self.balance -= amount\n",
    "            return f\"Withdrawn {amount} from credit account. Current balance: {self.balance}\"\n",
    "        else:\n",
    "            return \"Withdrawal amount exceeds credit limit\"\n",
    "        \n",
    "# Creating instances of different subclasses\n",
    "savings_account = Savings(\"Raj123\", 1000)\n",
    "checking_account = Checking(\"Raj456\", 500)\n",
    "credit_account = Credit(\"Raj789\", 2000)\n",
    "\n",
    "# calling speak() on different objects for demonstrate Polymorphism\n",
    "print(savings_account.withdraw(400))\n",
    "print(checking_account.withdraw(300))\n",
    "print(credit_account.withdraw(800))"
   ]
  },
  {
   "cell_type": "markdown",
   "metadata": {},
   "source": [
    "- `Account` is a base class containing an `account_number` and `balance`, with a `withdraw()` method left as an abstract method to be overridden by subclasses.\n",
    "- `Savings`, `Checking`, and `Credit` are subclasses that inherit from `Account` and implement their version of the `withdraw()` method specific to the account type.\n",
    "- To demonstrate polymorphism, I create instances of different subclasses and store it in `savings_account`, `checking_account`, and `credit_account` object. Then call the `withdraw()` method by passing a `amount` parameter on each object for showcasing their unique functionality."
   ]
  },
  {
   "cell_type": "markdown",
   "metadata": {},
   "source": [
    "### 15. Describe the concept of operator overloading in Python and how it relates to polymorphism. Provide examples using operators like `+` and `*`."
   ]
  },
  {
   "cell_type": "markdown",
   "metadata": {},
   "source": [
    "- Operator overloading in Python refers to the ability to define and redefine the behavior of operators such as `+`, `-`, `*`, `/`, etc., for user-defined objects. It allows objects of a class to behave with operators just like built-in types.\n",
    "- **Example:**\n",
    "```python\n",
    "class calculation:\n",
    "    def __init__(self, x, y):\n",
    "        self.x = x\n",
    "        self.y = y\n",
    "    \n",
    "    def __add__(self, other):\n",
    "        # Overloading the '+' operator to add two Point objects\n",
    "        return calculation(self.x + other.x, self.y + other.y)\n",
    "    \n",
    "    def __mul__(self, other):\n",
    "        # Overloading the '*' operator to multiply Vector by a scalar\n",
    "        return calculation(self.x * other, self.y * other)\n",
    "    \n",
    "    def __str__(self):\n",
    "        return f\"({self.x}, {self.y})\"\n",
    "\n",
    "# Creating math objects\n",
    "math1 = calculation(2, 3)\n",
    "math2 = calculation(6, 7)\n",
    "\n",
    "# Using the overloaded '+' operator for math objects\n",
    "result1 = math1 + math2\n",
    "print(result1)      # Output: (8, 10)\n",
    "\n",
    "# Using the overloaded '*' operator for math objects\n",
    "result2 = math1 * 3\n",
    "print(result2)      # Output: (6, 9)\n",
    "```"
   ]
  },
  {
   "cell_type": "markdown",
   "metadata": {},
   "source": [
    "### 16. What is dynamic polymorphism, and how is it achieved in Python?"
   ]
  },
  {
   "cell_type": "markdown",
   "metadata": {},
   "source": [
    "- Dynamic polymorphism refers to the ability of a program to decide which method to execute at runtime, based on the actual object that the method is being called upon. It allows different classes to be treated uniformly through a common interface, with the specific method being called determined by the actual object type rather than the reference type.\n",
    "- In Python, dynamic polymorphism is achieved through method overriding and the use of inheritance."
   ]
  },
  {
   "cell_type": "markdown",
   "metadata": {},
   "source": [
    "### 17. Create a Python class hierarchy for employees in a company (e.g., manager, developer, designer) and implement polymorphism through a common `calculate_salary()` method."
   ]
  },
  {
   "cell_type": "code",
   "execution_count": 23,
   "metadata": {},
   "outputs": [
    {
     "name": "stdout",
     "output_type": "stream",
     "text": [
      "Salary of Debashis:65000\n",
      "Salary of Rajdip:43000\n",
      "Salary of Papi:32000\n"
     ]
    }
   ],
   "source": [
    "# Create an Employee class\n",
    "class Employee:\n",
    "    def __init__(self, name, salary):\n",
    "        self.name = name\n",
    "        self.salary = salary\n",
    "    \n",
    "    def calculate_salary(self):\n",
    "        return self.salary\n",
    "\n",
    "# Create some child classes of Employee class\n",
    "class Manager(Employee):\n",
    "    # Let's assume Manager get a bonus of 5000\n",
    "    def calculate_salary(self):\n",
    "        return self.salary + 5000\n",
    "    \n",
    "class Developer(Employee):\n",
    "    # Let's assume Developer get a bonus of 3000\n",
    "    def calculate_salary(self):\n",
    "        return self.salary + 3000\n",
    "    \n",
    "class Designer(Employee):\n",
    "    # Let's assume Designer get a bonus of 2000\n",
    "    def calculate_salary(self):\n",
    "        return self.salary + 2000\n",
    "    \n",
    "# Creating instances of different subclasses\n",
    "deb = Manager(\"Debashis\", 60000)\n",
    "raj = Developer(\"Rajdip\", 40000)\n",
    "pap = Designer(\"Papi\", 30000)\n",
    "\n",
    "# calling speak() on different objects for demonstrate Polymorphism\n",
    "print(f\"Salary of {deb.name}:{deb.calculate_salary()}\")\n",
    "print(f\"Salary of {raj.name}:{raj.calculate_salary()}\")\n",
    "print(f\"Salary of {pap.name}:{pap.calculate_salary()}\")"
   ]
  },
  {
   "cell_type": "markdown",
   "metadata": {},
   "source": [
    "- `Employee` is the base class with attributes like `name` and `salary`, and a `calculate_salary()` method that acts as a placeholder method.\n",
    "- `Manager`, `Developer` and `Designer` subclasses inherit from `Employee` and provide their versions of the `calculate_salary()` method with specific salary calculation logic based on their roles.\n",
    "- To demonstrate polymorphism, I create instances of different subclasses and store it in `deb`, `raj`, and `pap` object. Then call the `calculate_salary()` method on each object for showcasing their unique functionality."
   ]
  },
  {
   "cell_type": "markdown",
   "metadata": {},
   "source": [
    "### 18. Discuss the concept of function pointers and how they can be used to achieve polymorphism in Python."
   ]
  },
  {
   "cell_type": "markdown",
   "metadata": {},
   "source": [
    "- In Python, the concept of function pointers is somewhat implicit due to the language's nature of treating functions as sirst-class citizens. Function pointers in Python can be likened to references to functions, allowing them to be passed around and assigned to variables just like any other object.\n",
    "- While Python doesn't have explicit pointers or references like some other languages, we can achieve polymorphism using functions or methods that can be passed as arguments or stored in variables."
   ]
  },
  {
   "cell_type": "markdown",
   "metadata": {},
   "source": [
    "### 19. Explain the role of interfaces and abstract classes in polymorphism, drawing comparisons between them."
   ]
  },
  {
   "cell_type": "markdown",
   "metadata": {},
   "source": [
    "- **Interfaces:** Interfaces enforce a contract, defining a set of methods that classes must important. This ensures that different classes implementing the same interface can be treated uniformly, promoting polymorphism.\n",
    "- **Abstract Classes:** Abstract classes can provide a partial implementation by defining some methods and leaving others abstract. They serve as a base for other classes to inherit from and implement the abstract methods, ensuring a common interface while allowing for shared functionality.\n",
    "- **Comparisons:** Interfaces are purely abstract and can't contain any method implementations. They provide a blueprint for classes to follow but don't provide any default behavior. <br>\n",
    "Abstract classes can have both abstract methods and concrete methods. They serve as a template for subclasses and can provide common functionality."
   ]
  },
  {
   "cell_type": "markdown",
   "metadata": {},
   "source": [
    "### 20. Create a Python class for a zoo simulation, demonstrating polymorphism with different animal types (e.g., mammals, birds, reptiles) and their behavior (e.g., eating, sleeping, making sounds)."
   ]
  },
  {
   "cell_type": "code",
   "execution_count": 24,
   "metadata": {},
   "outputs": [
    {
     "name": "stdout",
     "output_type": "stream",
     "text": [
      "Tiger: Mammal sound\n",
      "Tiger: Mammal eating\n",
      "Tiger: Mammal sleeping\n",
      "\n",
      "Owl: Bird sound\n",
      "Owl: Bird eating\n",
      "Owl: Bird sleeping\n",
      "\n",
      "Snake: Reptile sound\n",
      "Snake: Reptile eating\n",
      "Snake: Reptile sleeping\n",
      "\n"
     ]
    }
   ],
   "source": [
    "# Create an Animal class\n",
    "class Animal:\n",
    "    def __init__(self, name):\n",
    "        self.name = name\n",
    "    \n",
    "    def make_sound(self):\n",
    "        pass\n",
    "\n",
    "    def eat(self):\n",
    "        pass\n",
    "\n",
    "    def sleep(self):\n",
    "        pass\n",
    "\n",
    "# Create some child classes of Animal\n",
    "class Mammal(Animal):\n",
    "    def make_sound(self):\n",
    "        return \"Mammal sound\"\n",
    "    \n",
    "    def eat(self):\n",
    "        return \"Mammal eating\"\n",
    "    \n",
    "    def sleep(self):\n",
    "        return \"Mammal sleeping\"\n",
    "    \n",
    "class Bird(Animal):\n",
    "    def make_sound(self):\n",
    "        return \"Bird sound\"\n",
    "    \n",
    "    def eat(self):\n",
    "        return \"Bird eating\"\n",
    "    \n",
    "    def sleep(self):\n",
    "        return \"Bird sleeping\"\n",
    "    \n",
    "class Reptile(Animal):\n",
    "    def make_sound(self):\n",
    "        return \"Reptile sound\"\n",
    "    \n",
    "    def eat(self):\n",
    "        return \"Reptile eating\"\n",
    "    \n",
    "    def sleep(self):\n",
    "        return \"Reptile sleeping\"\n",
    "    \n",
    "# Creating instances of different subclasses\n",
    "mammal1 = Mammal(\"Tiger\")\n",
    "bird1 = Bird(\"Owl\")\n",
    "reptile1 = Reptile(\"Snake\")\n",
    "\n",
    "# Make a list of the instances\n",
    "animals = [mammal1, bird1, reptile1]\n",
    "\n",
    "# calling make_sound(), eat(), and sleep() on different objects for demonstrate Polymorphism\n",
    "for animal in animals:\n",
    "    print(f\"{animal.name}: {animal.make_sound()}\")\n",
    "    print(f\"{animal.name}: {animal.eat()}\")\n",
    "    print(f\"{animal.name}: {animal.sleep()}\")\n",
    "    print()"
   ]
  },
  {
   "cell_type": "markdown",
   "metadata": {},
   "source": [
    "- `Animal` is the base class with attributes like `name` and methods such as `make_sound()`, `eat()`, and `sleep()` acting as placeholder methods.\n",
    "- `Mammal`, `Bird`, and `Reptile` are subclasses of `Animal` and provide their versions of `make_sound()`, `eat()`, and `sleep()` methods, showcasing polymorphism. Each animal type has its unique behaviours.\n",
    "- Instances of different animal types such as `mammal1`, `bird1`, and `reptile1` are created and stored in a list `animals`. Despite being different types, they all inherit the `make_sound()`, `eat()`, and `sleep()` methods from the `Animal` class.\n",
    "- A loop iterates through the `animals` list, calling methods on each object. This demonstrates polymorphism as each animal type responds to the methods with its specific behavior, showcasing their unique functionalities."
   ]
  },
  {
   "cell_type": "markdown",
   "metadata": {},
   "source": [
    "# Abstraction:"
   ]
  },
  {
   "cell_type": "markdown",
   "metadata": {},
   "source": [
    "### 1. What is abstraction in Python, and how does it relate to object-oriented programming?"
   ]
  },
  {
   "cell_type": "markdown",
   "metadata": {},
   "source": [
    "- Abstraction in Python refers to the concept of hiding complex implementation details while providing a simple interface to interact with. It allows you to focus on the essential parts of an object wile hiding the irrelevant or intricate details.\n",
    "- In object-oriented programming, abstraction is one of the fundamental principles. It's achieved through abstract classes and interfaces."
   ]
  },
  {
   "cell_type": "markdown",
   "metadata": {},
   "source": [
    "### 2. Describe the benefits of abstraction in terms of code organization and complexity reduction."
   ]
  },
  {
   "cell_type": "markdown",
   "metadata": {},
   "source": [
    "- **Code Organization:** Abstraction allows breaking down complex systems into smaller, more manageable parts. By hiding implementation details, it promotes modular design, making it easier to work on individual components independently.\n",
    "- **Complexity Reduction:** Abstraction helps in reducing the overall complexity of the codebase by hiding unnecessary details. This simplifies understanding and maintenance, as developers can focus on high-level concepts and interactions rather than getting bogged down by intricate implementation specifics."
   ]
  },
  {
   "cell_type": "markdown",
   "metadata": {},
   "source": [
    "### 3. Create a Python class called `Shape` with an abstract method `calculate_area()`. Then, create child classes (e.g., `Circle`, `Rectangle`) that implement the `calculate_area()` method. Provide an example of using these classes."
   ]
  },
  {
   "cell_type": "code",
   "execution_count": 25,
   "metadata": {},
   "outputs": [
    {
     "name": "stdout",
     "output_type": "stream",
     "text": [
      "50.26548245743669\n",
      "18\n"
     ]
    }
   ],
   "source": [
    "from abc import ABC, abstractmethod\n",
    "import math\n",
    "\n",
    "# Create a Shape class as child of ABC class\n",
    "class Shape(ABC):\n",
    "    @abstractmethod\n",
    "    def calculate_area(self):\n",
    "        pass\n",
    "\n",
    "# Create some shapes as child of Shape class\n",
    "class Circle(Shape):\n",
    "    def __init__(self, radius):\n",
    "        self.radius = radius\n",
    "    \n",
    "    def calculate_area(self):\n",
    "        return math.pi * self.radius ** 2\n",
    "\n",
    "class Rectangle(Shape):\n",
    "    def __init__(self, width, height):\n",
    "        self.width = width\n",
    "        self.height = height\n",
    "    \n",
    "    def calculate_area(self):\n",
    "        return self.width * self.height\n",
    "    \n",
    "\n",
    "# Creating instances of different subclasses\n",
    "circle1 = Circle(4)\n",
    "rectangle1 = Rectangle(6, 3)\n",
    "\n",
    "# calling calculate_are() on different objects for demonstrate abstract method\n",
    "print(circle1.calculate_area())\n",
    "print(rectangle1.calculate_area())"
   ]
  },
  {
   "cell_type": "markdown",
   "metadata": {},
   "source": [
    "- `Shape` is an abstract class defined using the `ABS` (Abstract Base Class) module and the `abstractmethod` decorator. It has a method `calculate_area()` that is marked as abstract, meaning any subclass must implement this method.\n",
    "- `Circle` and `Rectangle` are child classes of `Shape` that inherit its abstract method `calculate_area()`. THey provide their own implementations of `calculate_area()` suitable for their respective shapes.\n",
    "- Finally, I create instances of different subclasses and store it in `circle1`, and `rectangle1` object. Then call the `calculate_area()` method on each object to showcasing their unique functionality."
   ]
  },
  {
   "cell_type": "markdown",
   "metadata": {},
   "source": [
    "### 4. Explain the concept of abstract classes in Python and how they are defined using the `abc` module. Provide an example."
   ]
  },
  {
   "cell_type": "markdown",
   "metadata": {},
   "source": [
    "- Abstract classes in Python provide a way to define a blueprint for other classes. They contain abstract methods that must be implemented by their subclasses. Abstract classes cannot be instantiated on their own; they exist to define a common interface that subclasses must adhere to.\n",
    "- Python's `abc` (Abstract Bse Classes) module provides tools for working with abstract classes and abstract methods. To create an abstract class, we use the `ABC` class from `abc` module and decorate abstract methods using the `abstractmethod` decorator."
   ]
  },
  {
   "cell_type": "markdown",
   "metadata": {},
   "source": [
    "### 5. How do abstract classes differ from regular classes in Python? Discuss their use cases."
   ]
  },
  {
   "cell_type": "markdown",
   "metadata": {},
   "source": [
    "- Abstract classes **cannot be instantiated** but, Regular classes **can be instantiated**.\n",
    "- Abstract classes **contain abstract methods** but, Regular classes **may or may not contain all methods**.\n",
    "- Abstract classes **defined using the `abc` module** but, Regular classes **do not require the `abc` module**.\n",
    "- Abstract classes **used for defining generic behavior** but, Regular classes **used for diverse purposes**.\n",
    "\n",
    "<br>\n",
    "\n",
    "- **Use Cases for Abstract Classes:**\n",
    "    - When defining a common interface for multiple related classes.\n",
    "    - In situations where we want to enforce a certain structure or behavior in subclasses, ensuring that specific methods must be implemented.\n",
    "    - For building frameworks or libraries where we expect users to extend or subclass our classes.\n",
    "- **Use Cases for Regular Classes:**\n",
    "    - When we want to create objects with specific attributes and behaviors without enforcing method implementations.\n",
    "    - For organizing code into reusable components without the need for subclasses to implement specific methods.\n",
    "    - Implementing various functionalities without the requirement for a strict interface definition."
   ]
  },
  {
   "cell_type": "markdown",
   "metadata": {},
   "source": [
    "### 6. Create a Python class for a bank account and demonstrate abstraction by hiding the account balance and providing methods to deposit and withdraw funds."
   ]
  },
  {
   "cell_type": "code",
   "execution_count": 26,
   "metadata": {},
   "outputs": [
    {
     "name": "stdout",
     "output_type": "stream",
     "text": [
      "500 deposited. Current balance: 10500\n",
      "1200 withdrawal successfully. Current balance: 9300\n",
      "3700 withdrawal successfully. Current balance: 5600\n",
      "700 deposited. Current balance: 6300\n"
     ]
    }
   ],
   "source": [
    "# Create a BankAccount class\n",
    "class BankAccount():\n",
    "    def __init__(self, balance=0):\n",
    "        self.__balance = balance        # Private attribute to store account balance\n",
    "\n",
    "    def deposit(self, amount):\n",
    "        if amount > 0:\n",
    "            self.__balance += amount\n",
    "            print(f\"{amount} deposited. Current balance: {self.__balance}\")\n",
    "        else:\n",
    "            print(\"Invaild amount for deposit.\")\n",
    "    \n",
    "    def withdraw(self, amount):\n",
    "        if 0 < amount < self.__balance:\n",
    "            self.__balance -= amount\n",
    "            print(f\"{amount} withdrawal successfully. Current balance: {self.__balance}\")\n",
    "\n",
    "        else:\n",
    "            print(\"Insufficient funds for withdrawal.\")\n",
    "\n",
    "\n",
    "# Do some example usage\n",
    "account = BankAccount(10000)\n",
    "\n",
    "# Trying to access the balance directly (it's a private attribute)\n",
    "# print(account._balance)  # This would raise an AttributeError\n",
    "\n",
    "# Depositing and withdrawing funds using the provided methods\n",
    "account.deposit(500)\n",
    "account.withdraw(1200)\n",
    "account.withdraw(3700)\n",
    "account.deposit(700)"
   ]
  },
  {
   "cell_type": "markdown",
   "metadata": {},
   "source": [
    "- The `BankAccount` class initializes with an optional `balance`, which defaults to zero.\n",
    "- The `__balance` attribute is marked as private, indicating that it's meant to be accessed within the class only, not directly from outside.\n",
    "- The `deposit()` method allows depositing funds into the account. It checks if the amount is valid and updates the balance accordingly.\n",
    "- The `withdraw()` method allows withdrawing funds from the account. It checks if the amount is valid and updates the balance if possible.\n",
    "- When trying to access the balance directly from outside the class, it would raise an `AttributeError` because it's a private attribute.\n",
    "- Using the provided methods, funds can be deposited or withdrawn from the account, and appropriate messages are displayed based on the actions taken."
   ]
  },
  {
   "cell_type": "markdown",
   "metadata": {},
   "source": [
    "### 7. Discuss the concept of interface classes in Python and their role in achieving abstraction."
   ]
  },
  {
   "cell_type": "markdown",
   "metadata": {},
   "source": [
    "- In Python, Interface classes serve as a blueprint or contract that defines a set of methods or properties that must be implemented by any class that adheres to that interface. Python does not have a built-in `interface` keyword like some other programming languages, but the concept of interfaces can be achieved using abstract base classes from the `abc` module or through documentation and conventions.\n",
    "\n",
    "<br>\n",
    "\n",
    "- Interface classes define a contract specifying what methods or properties a class must implement if it claims to conform to that interface.<br>\n",
    "Python's `abc` module allows the creation of abstract base classes defining abstract methods using the `ABC` class and the `abstractmethod` decorator. Subclasses must implement these abstract methods to conform to the interface. In cases where explicit interfaces are not defined using ABCs, Python developers often rely on conventions and documentation to specify expected methods or properties that should be implemented by classes."
   ]
  },
  {
   "cell_type": "markdown",
   "metadata": {},
   "source": [
    "### 8. Create a Python class hierarchy for animals and implement abstraction by defining common methods (e.g., `eat()`, `sleep()`) in an abstract base class."
   ]
  },
  {
   "cell_type": "code",
   "execution_count": 27,
   "metadata": {},
   "outputs": [
    {
     "name": "stdout",
     "output_type": "stream",
     "text": [
      "Shiro the Dog is eating dog food.\n",
      "Michan the Cat is napping in the sun.\n",
      "Simba the Lion is devouring its prey.\n"
     ]
    }
   ],
   "source": [
    "from abc import ABC, abstractmethod\n",
    "\n",
    "# Abstract base class for animals\n",
    "class Animal(ABC):\n",
    "    def __init__(self, name, species):\n",
    "        self.name = name\n",
    "        self.species = species\n",
    "\n",
    "    @abstractmethod\n",
    "    def eat(self):\n",
    "        pass\n",
    "\n",
    "    @abstractmethod\n",
    "    def sleep(self):\n",
    "        pass\n",
    "\n",
    "# Create classes inheriting from Animal\n",
    "class Dog(Animal):\n",
    "    def __init__(self, name):\n",
    "        super().__init__(name, species=\"Dog\")\n",
    "    \n",
    "    def eat(self):\n",
    "        return f\"{self.name} the {self.species} is eating dog food.\"\n",
    "    \n",
    "    def sleep(self):\n",
    "        return f\"{self.name} the {self.species} is sleepint tn its bed.\"\n",
    "    \n",
    "class Cat(Animal):\n",
    "    def __init__(self, name):\n",
    "        super().__init__(name, species=\"Cat\")\n",
    "    \n",
    "    def eat(self):\n",
    "        return f\"{self.name} the {self.species} is eating cat food.\"\n",
    "    \n",
    "    def sleep(self):\n",
    "        return f\"{self.name} the {self.species} is napping in the sun.\"\n",
    "    \n",
    "class Lion(Animal):\n",
    "    def __init__(self, name):\n",
    "        super().__init__(name, species=\"Lion\")\n",
    "    \n",
    "    def eat(self):\n",
    "        return f\"{self.name} the {self.species} is devouring its prey.\"\n",
    "    \n",
    "    def sleep(self):\n",
    "        return f\"{self.name} the {self.species} is resting in the shade.\"\n",
    "\n",
    "# Creating instances of different subclasses\n",
    "dog = Dog(\"Shiro\")\n",
    "cat = Cat(\"Michan\")\n",
    "lion = Lion(\"Simba\")\n",
    "\n",
    "# calling eat() and sleep() on different objects for demonstrate abstract method\n",
    "print(dog.eat())\n",
    "print(cat.sleep())\n",
    "print(lion.eat())"
   ]
  },
  {
   "cell_type": "markdown",
   "metadata": {},
   "source": [
    "- This code creates an abstract base class `Animal` with abstract methods `eat()` and `sleep()`.\n",
    "- Three concrete classes such as `Dog`, `Cat`, `Lion` inherit from `Animal` and implement their own versions of the `eat()` and `sleep()` methods.\n",
    "- Then creating some instances of different subclasses and call their methods to see how each animal \"eats\" and \"sleeps\" differently."
   ]
  },
  {
   "cell_type": "markdown",
   "metadata": {},
   "source": [
    "### 9. Explain the significance of encapsulation in achieving abstraction. Provide examples."
   ]
  },
  {
   "cell_type": "markdown",
   "metadata": {},
   "source": [
    "- Encapsulation helps in achieving abstraction by hiding the internal state and implementation details of an object from the outside world, allowing access to the object's functionalities through well-defined interfaces.\n",
    "- **Example:**\n",
    "```python\n",
    "class Car:\n",
    "    def __init__(self, make, model):\n",
    "        self.make = make        # Encapsulated attribute\n",
    "        self.model = model      # Encapsulated attribute\n",
    "        self.__fule = 100       # Encapsulated private attribute\n",
    "\n",
    "    def drive(self):\n",
    "        self.__consume_fuel(10)\n",
    "        return f\"{self.make} {self.model} is driving.\"\n",
    "    \n",
    "    def __consume_fuel(self, amount):       # Encapsulated private method\n",
    "        self.__fule -= amount\n",
    "\n",
    "    def get_fule_level(self):\n",
    "        return self.__fule      # Controlled access to fule level\n",
    "\n",
    "my_car = Car(\"Ford\", \"Endeavour\")\n",
    "print(my_car.drive())\n",
    "print(my_car.get_fule_level())      # Accessing fule level through method\n",
    "```"
   ]
  },
  {
   "cell_type": "markdown",
   "metadata": {},
   "source": [
    "### 10. What is the purpose of abstract methods, and how do they enforce abstraction in Python classes?"
   ]
  },
  {
   "cell_type": "markdown",
   "metadata": {},
   "source": [
    "- The purpose of abstract methods is to enforce a certain structure or behavior across different subclasses while allowing each subclass to implement the method according to its specific requirements.\n",
    "- In Python, if a class contains one or more abstract methods, it cannot be instantiated directly. It becomes an abstract class itself, and subclasses must provide concrete implementations for all its abstract methods before they can be instantiated."
   ]
  },
  {
   "cell_type": "markdown",
   "metadata": {},
   "source": [
    "### 11. Create a Python class for a vehicle system and demonstrate abstraction by defining common methods (e.g., `start()`, `stop()`) in an abstract base class."
   ]
  },
  {
   "cell_type": "code",
   "execution_count": 28,
   "metadata": {},
   "outputs": [
    {
     "name": "stdout",
     "output_type": "stream",
     "text": [
      "Ford Endeavour car engine started.\n",
      "Royal Enfield Classic 350 bike is already stopped.\n",
      "Royal Enfield Classic 350 bike engine started.\n",
      "Ford Endeavour car engine stopped.\n",
      "Royal Enfield Classic 350 bike engine stopped.\n"
     ]
    }
   ],
   "source": [
    "from abc import ABC, abstractmethod\n",
    "\n",
    "# Abstract base class for Vehicles\n",
    "class Vehicle(ABC):\n",
    "    def __init__(self, make, model):\n",
    "        self.make = make\n",
    "        self.model = model\n",
    "        self.is_running = False\n",
    "    \n",
    "    # Create a method called start() as an abstract method\n",
    "    @abstractmethod\n",
    "    def start(self):\n",
    "        pass\n",
    "\n",
    "    # Create a method called stop() as an abstract method\n",
    "    @abstractmethod\n",
    "    def stop(self):\n",
    "        pass\n",
    "\n",
    "# Concrete classes inheriting from Vehicle\n",
    "class Car(Vehicle):\n",
    "    def start(self):\n",
    "        if not self.is_running:\n",
    "            self.is_running = True\n",
    "            return f\"{self.make} {self.model} car engine started.\"\n",
    "        \n",
    "        else:\n",
    "            return f\"{self.make} {self.model} car is already running.\"\n",
    "        \n",
    "    def stop(self):\n",
    "        if self.is_running:\n",
    "            self.is_running = False\n",
    "            return f\"{self.make} {self.model} car engine stopped.\"\n",
    "        else:\n",
    "            return f\"{self.make} {self.model} car is already stopped.\"\n",
    "        \n",
    "class Bike(Vehicle):\n",
    "    def start(self):\n",
    "        if not self.is_running:\n",
    "            self.is_running = True\n",
    "            return f\"{self.make} {self.model} bike engine started.\"\n",
    "        else:\n",
    "            return f\"{self.make} {self.model} bike is already running.\"\n",
    "        \n",
    "    def stop(self):\n",
    "        if self.is_running:\n",
    "            self.is_running = False\n",
    "            return f\"{self.make} {self.model} bike engine stopped.\"\n",
    "        else:\n",
    "            return f\"{self.make} {self.model} bike is already stopped.\"\n",
    "\n",
    "# Creating instances and using the methods\n",
    "my_car = Car(\"Ford\", \"Endeavour\")\n",
    "my_bike = Bike(\"Royal Enfield\", \"Classic 350\")\n",
    "\n",
    "print(my_car.start())\n",
    "print(my_bike.stop())\n",
    "print(my_bike.start())\n",
    "print(my_car.stop())\n",
    "print(my_bike.stop())"
   ]
  },
  {
   "cell_type": "markdown",
   "metadata": {},
   "source": [
    "- This code creates an abstract base class `Vehicle` with abstract methods `start()` and `stop()`.\n",
    "- Two concrete classes such as `Car` and `Bike` inherit from `Vehicle` and implement their own versions of the `start()` and `stop()` methods.\n",
    "- Then creating some instances of different subclasses and call their methods to see how each vehicle \"starts\" and \"stops\" differently."
   ]
  },
  {
   "cell_type": "markdown",
   "metadata": {},
   "source": [
    "### 12. Describe the use of abstract properties in Python and how they can be employed in abstract classes."
   ]
  },
  {
   "cell_type": "markdown",
   "metadata": {},
   "source": [
    "- Abstract properties in Python are attributes that enforce the implementation of specific properties in subclasses. They're defined in bastract base classes using the `@property` decorator and `abstractmethod` from the `abc` module. Abstract properties don't have an implementation in the abstract base class but require concrete subclasses to provide their own implementation.\n",
    "- Abstract properties, like abstract methods, ensure a consistent interface across subclasses while allowing them to define their own behavior, enabling a high level of abstraction and providing a clear structure for how properties should be implemented in different subclasses."
   ]
  },
  {
   "cell_type": "markdown",
   "metadata": {},
   "source": [
    "### 13. Create a Python class hierarchy for employees in a company (e.g., manager, developer, designer) and implement abstraction by defining a common `get_salary()` method."
   ]
  },
  {
   "cell_type": "code",
   "execution_count": 29,
   "metadata": {},
   "outputs": [
    {
     "name": "stdout",
     "output_type": "stream",
     "text": [
      "Debashis (ID: M1001) is a Manager with a salary of 80000\n",
      "Rajdip (ID: DEV1001) is a Developer with a salary of 60000\n",
      "Papi (ID: D1001) is a Designer with a salary of 40000\n"
     ]
    }
   ],
   "source": [
    "from abc import ABC, abstractmethod\n",
    "\n",
    "# Abstract base class for Employee\n",
    "class Employee(ABC):\n",
    "    def __init__(self, name, employee_id):\n",
    "        self.name = name\n",
    "        self.employee_id = employee_id\n",
    "    \n",
    "    @abstractmethod\n",
    "    def get_salary(self):\n",
    "        pass\n",
    "\n",
    "# Concrete classes inheriting from Employee\n",
    "class Manager(Employee):\n",
    "    def __init__(self, name, employee_id, salary):\n",
    "        super().__init__(name, employee_id)\n",
    "        self.salary = salary\n",
    "    \n",
    "    def get_salary(self):\n",
    "        return f\"{self.name} (ID: {self.employee_id}) is a Manager with a salary of {self.salary}\"\n",
    "\n",
    "class Developer(Employee):\n",
    "    def __init__(self, name, employee_id, salary):\n",
    "        super().__init__(name, employee_id)\n",
    "        self.salary = salary\n",
    "    \n",
    "    def get_salary(self):\n",
    "        return f\"{self.name} (ID: {self.employee_id}) is a Developer with a salary of {self.salary}\"\n",
    "    \n",
    "class Designer(Employee):\n",
    "    def __init__(self, name, employee_id, salary):\n",
    "        super().__init__(name, employee_id)\n",
    "        self.salary = salary\n",
    "    \n",
    "    def get_salary(self):\n",
    "        return f\"{self.name} (ID: {self.employee_id}) is a Designer with a salary of {self.salary}\"\n",
    "\n",
    "# Creating instances and using the common method\n",
    "manager1 = Manager(\"Debashis\", \"M1001\", 80000)\n",
    "developer1 = Developer(\"Rajdip\", \"DEV1001\", 60000)\n",
    "designer1 = Designer(\"Papi\", \"D1001\", 40000)\n",
    "\n",
    "print(manager1.get_salary())\n",
    "print(developer1.get_salary())\n",
    "print(designer1.get_salary())"
   ]
  },
  {
   "cell_type": "markdown",
   "metadata": {},
   "source": [
    "- This code creates an abstract base class `Employee` with abstract methods `get_salary()`.\n",
    "- Three concrete classes such as `Manager`, `Developer`, `Designer` inherit from `Employee` and implement their own versions of the `get_salary()` method.\n",
    "- Then creating some instances of different subclasses and call their methods to see how each employee's \"salaries\" are different."
   ]
  },
  {
   "cell_type": "markdown",
   "metadata": {},
   "source": [
    "### 14. Discuss the differences between abstract classes and concrete classes in Python, including their instantiation."
   ]
  },
  {
   "cell_type": "markdown",
   "metadata": {},
   "source": [
    "- **Abstract Classes:** Abstract classes are that classes that contain one or more abstract methods. An abstract method is a method without an implementation; it only defines the method's signature. They serve as templates or blueprints for other classes. They are designed to be subclassed, and their abstract methods must be implemented by their subclasses.<br>\n",
    "Abstract classes cannot be instantiated directly. Attempting to create an instance of an abstract class result in a `TypeError`.\n",
    "- **Concrete Classes:** Concrete classes are regular classes that provide implementations for all their methods, including any abstract methods inherited from abstract classes. They are meant to be instantiated and used directly. They can inherit from abstract classes and provide implementations for all their abstract methods.<br>\n",
    "Concrete classes can be instantiated, allowing the creation of objects of that class."
   ]
  },
  {
   "cell_type": "markdown",
   "metadata": {},
   "source": [
    "### 15. Explain the concept of abstract data types (ADTs) and their role in achieving abstraction in Python."
   ]
  },
  {
   "cell_type": "markdown",
   "metadata": {},
   "source": [
    "- **Abstract Data Types** are a theortical concept that define a logical model for data types by specifying their behavior and characteristics without specifying their implementation.\n",
    "- ADTs provide a level of abstraction by hiding complex internal details and exposing only the necessary functionalities. For instance, a stack ADT only exposes methods like `push()`, `pop()`, and `peek()` without revealing how these operations are implemented behind the scenes."
   ]
  },
  {
   "cell_type": "markdown",
   "metadata": {},
   "source": [
    "### 16. Create a Python class for a computer system, demonstrating abstraction by defining common methods (e.g., `power_on()`, `shutdown()`) in an abstract base class."
   ]
  },
  {
   "cell_type": "code",
   "execution_count": 30,
   "metadata": {},
   "outputs": [
    {
     "name": "stdout",
     "output_type": "stream",
     "text": [
      "Lenovo laptop powered on.\n",
      "My PC desktop powered on.\n",
      "Lenovo laptop is already powered on.\n",
      "Lenovo laptop shutting down.\n",
      "My PC desktop shutting down.\n"
     ]
    }
   ],
   "source": [
    "from abc import ABC, abstractmethod\n",
    "\n",
    "# Abstract base class for computer system\n",
    "class ComputerSystem(ABC):\n",
    "    def __init__(self, name):\n",
    "        self.name = name\n",
    "        self.is_power_on = False\n",
    "\n",
    "    @abstractmethod\n",
    "    def power_on(self):\n",
    "        pass\n",
    "\n",
    "    @abstractmethod\n",
    "    def shutdown(self):\n",
    "        pass\n",
    "\n",
    "# Concrete classes inheriting from computer system\n",
    "class Laptop(ComputerSystem):\n",
    "    def power_on(self):\n",
    "        if not self.is_power_on:\n",
    "            self.is_power_on = True\n",
    "            return f\"{self.name} laptop powered on.\"\n",
    "        else:\n",
    "            return f\"{self.name} laptop is already powered on.\"\n",
    "    \n",
    "    def shutdown(self):\n",
    "        if self.is_power_on:\n",
    "            self.is_power_on = False\n",
    "            return f\"{self.name} laptop shutting down.\"\n",
    "        else:\n",
    "            return f\"{self.name} laptop is already powered off.\"\n",
    "        \n",
    "class Desktop(ComputerSystem):\n",
    "    def power_on(self):\n",
    "        if not self.is_power_on:\n",
    "            self.is_power_on = True\n",
    "            return f\"{self.name} desktop powered on.\"\n",
    "        else:\n",
    "            return f\"{self.name} desktop is already powered on.\"\n",
    "    \n",
    "    def shutdown(self):\n",
    "        if self.is_power_on:\n",
    "            self.is_power_on = False\n",
    "            return f\"{self.name} desktop shutting down.\"\n",
    "        else:\n",
    "            return f\"{self.name} desktop is already powered off.\"\n",
    "\n",
    "# Creating instances and using the methods\n",
    "my_laptop = Laptop(\"Lenovo\")\n",
    "my_desktop = Desktop(\"My PC\")\n",
    "\n",
    "print(my_laptop.power_on())\n",
    "print(my_desktop.power_on())\n",
    "print(my_laptop.power_on())\n",
    "print(my_laptop.shutdown())\n",
    "print(my_desktop.shutdown())"
   ]
  },
  {
   "cell_type": "markdown",
   "metadata": {},
   "source": [
    "- This code creates an abstract base class `ComputerSystem` with abstract methods `power_on()` and `shutdown()`.\n",
    "- Two concrete classes such as `Laptop`, and `Desktop` inherit from `ComputerSystem` and implement their own versions of the `power_on()` and `shutdown()` methods.\n",
    "- Then creating some instances of different subclasses and call their methods to see how each Computer System's \"power_on\" and \"shutdown\" acts differently."
   ]
  },
  {
   "cell_type": "markdown",
   "metadata": {},
   "source": [
    "### 17. Discuss the benefits of using abstraction in large-scale software development projects."
   ]
  },
  {
   "cell_type": "markdown",
   "metadata": {},
   "source": [
    "- Abstraction enables the creation of modular and reusable components. By abstracting away implementation details and exposing only essential functionalities, developers can create modules or classes that can be reused across different parts of the software or in entirely different projects.\n",
    "- Abstraction promotes encapsulation, bundling related functionalities and data together.\n",
    "- Abstraction prometes a clearer understanding of different parts of the software system.\n",
    "- Abstracted components can be tested independently, leading to easier and more targeted testing.\n",
    "- In large-scale systems, abstraction allows the creation of multiple layers, each responsible for specific functionalities."
   ]
  },
  {
   "cell_type": "markdown",
   "metadata": {},
   "source": [
    "### 18. Explain how abstraction enhances code reusability and modularity in Python programs."
   ]
  },
  {
   "cell_type": "markdown",
   "metadata": {},
   "source": [
    "- Abstraction enables the creation of modular and reusable components. By abstracting away implementation details and exposing only essential functionalities, developers can create modules or classes that can be reused across different parts of the software or in entirely different projects. This reduces redundancy promotes code reuse, and speeds up development."
   ]
  },
  {
   "cell_type": "markdown",
   "metadata": {},
   "source": [
    "### 19. Create a Python class for a library system, implementing abstraction by defining common methods (e.g., `add_book()`, `borrow_book()`) in an abstract base class."
   ]
  },
  {
   "cell_type": "code",
   "execution_count": 31,
   "metadata": {},
   "outputs": [
    {
     "name": "stdout",
     "output_type": "stream",
     "text": [
      "Added 'Rich Dad Poor Dad' by Robert Kiyosaki to the library.\n",
      "Added 'Let Us C' by Yashavant Kanetkar to the library.\n",
      "Added 'Python For Dummies' by Stef Maruch to the library.\n",
      "Borrowed 'Rich Dad Poor Dad' from the library.\n",
      "Borrowed 'Python For Dummies' from the library.\n",
      "Returned 'Rich Dad Poor Dad' to the library.\n",
      "'Python For Dummies' is currently not available.\n"
     ]
    }
   ],
   "source": [
    "from abc import ABC, abstractmethod\n",
    "\n",
    "# Abstract base class for library system\n",
    "class Library(ABC):\n",
    "    def __init__(self):\n",
    "        self.books = {}\n",
    "\n",
    "    @abstractmethod\n",
    "    def add_book(self, book_name, author):\n",
    "        pass\n",
    "\n",
    "    @abstractmethod\n",
    "    def borrow_book(self, book_name):\n",
    "        pass\n",
    "\n",
    "    @abstractmethod\n",
    "    def return_book(self, book_name):\n",
    "        pass\n",
    "\n",
    "# Concrete class inheriting from Library\n",
    "class MyLibrary(Library):\n",
    "    def add_book(self, book_name, author):\n",
    "        if book_name not in self.books:\n",
    "            self.books[book_name] = {\"author\": author, \"available\": True}\n",
    "            return f\"Added '{book_name}' by {author} to the library.\"\n",
    "        else:\n",
    "            return f\"'{book_name}' by {author} already exists in the library.\"\n",
    "        \n",
    "    def borrow_book(self, book_name):\n",
    "        if book_name in self.books and self.books[book_name][\"available\"]:\n",
    "            self.books[book_name][\"available\"] = False\n",
    "            return f\"Borrowed '{book_name}' from the library.\"\n",
    "        \n",
    "        elif book_name in self.books and not self.books[book_name][\"available\"]:\n",
    "            return f\"'{book_name}' is currently not available.\"\n",
    "        else:\n",
    "            return f\"'{book_name}' is not found in the library.\"\n",
    "        \n",
    "    def return_book(self, book_name):\n",
    "        if book_name in self.books and not self.books[book_name][\"available\"]:\n",
    "            self.books[book_name][\"available\"] = True\n",
    "            return f\"Returned '{book_name}' to the library.\"\n",
    "        \n",
    "        elif book_name in self.books and self.books[book_name][\"available\"]:\n",
    "            return f\"'{book_name}' is already available in the library.\"\n",
    "        else:\n",
    "            return f\"'{book_name}' is not found in the library.\"\n",
    "\n",
    "# Creating an instance and using the methods\n",
    "my_library = MyLibrary()\n",
    "\n",
    "print(my_library.add_book(\"Rich Dad Poor Dad\", \"Robert Kiyosaki\"))\n",
    "print(my_library.add_book(\"Let Us C\", \"Yashavant Kanetkar\"))\n",
    "print(my_library.add_book(\"Python For Dummies\", \"Stef Maruch\"))\n",
    "print(my_library.borrow_book(\"Rich Dad Poor Dad\"))\n",
    "print(my_library.borrow_book(\"Python For Dummies\"))\n",
    "print(my_library.return_book(\"Rich Dad Poor Dad\"))\n",
    "print(my_library.borrow_book(\"Python For Dummies\"))"
   ]
  },
  {
   "cell_type": "markdown",
   "metadata": {},
   "source": [
    "- This code creates an abstract base class `Library` with abstract methods `add_book`, `borrow_book()` and `return_book()`.\n",
    "- One concrete classes such as `MyLibrary` inherit from `Library` and implement its own version of the `add_book`, `borrow_book()` and `return_book()` methods.\n",
    "- Then creating some instances of thr subclass and call its methods to see how each methods acts differently."
   ]
  },
  {
   "cell_type": "markdown",
   "metadata": {},
   "source": [
    "### 20. Describe the concept of method abstraction in Python and how it relates to polymorphism."
   ]
  },
  {
   "cell_type": "markdown",
   "metadata": {},
   "source": [
    "- Method abstraction in Python refers to the process of defining methods in a way that emphasizes their behavior or functionality without specifying their implementation details.\n",
    "- Abstraction concept ties closely to polymorphism, which refers to the ability of different objects to respond to the same method or message in different ways. Polymorphism allows objects of different classes to be treated as objects of a common superclass, enabling them to be used interchangeably."
   ]
  },
  {
   "cell_type": "markdown",
   "metadata": {},
   "source": [
    "# Composition:"
   ]
  },
  {
   "cell_type": "markdown",
   "metadata": {},
   "source": [
    "### 1. Explain the concept of composition in Python and how it is used to build complex objects from simpler ones."
   ]
  },
  {
   "cell_type": "markdown",
   "metadata": {},
   "source": [
    "- In Python, composition refers to a design principle where combined together to create complex objects. It's a way to build new classes by incorporating objects of other classes rather than inheriting their properties and behaviors directly.\n",
    "- Composition involves creating complex objects by combining instances of other classes as attribute within a new class. For example, if you have classes `A`, and `B`, you can compose a new class `D` by including instances of `A` and `B` within `D`.\n",
    "```python\n",
    "class A:\n",
    "    def method_A(self):\n",
    "        print(\"Method A\")\n",
    "\n",
    "class B:\n",
    "    def method_B(self):\n",
    "        print(\"Method B\")\n",
    "\n",
    "class D:\n",
    "    def __init__(self):\n",
    "        self.obj_a = A()\n",
    "        self.obj_b = B()\n",
    "\n",
    "    def method_D(self):\n",
    "        self.obj_a.method_A()\n",
    "        self.obj_b.method_B()\n",
    "\n",
    "# Do some example usage\n",
    "obj_d = D()\n",
    "obj_d.method_D()        # This will call method_A from class A and method_B from class B\n",
    "```"
   ]
  },
  {
   "cell_type": "markdown",
   "metadata": {},
   "source": [
    "### 2. Describe the difference between composition and inheritance in object-oriented programming."
   ]
  },
  {
   "cell_type": "markdown",
   "metadata": {},
   "source": [
    "- **Relationship Type:**\n",
    "    - **Inheritance:** \"Is-a\" relatonship (subclass \"is-a\" superclass).\n",
    "    - **Composition:** \"Has-a\" relationship (class \"has-a\" component).\n",
    "- **Code Reuse:**\n",
    "    - **Inheritance:** Reuses code from the parent class, promoting code sharing among related classes.\n",
    "    - **Composition:** Promotes code reuse by using objects of other classes but doesn't inherit their functionalities directly.\n",
    "- **Flexibility and Maintenance:**\n",
    "    - **Inheritance:** Can lead to a rigid class hierarchy, and changes in the superclass might affect subclasses.\n",
    "    - **Composition:** Offers more flexibility as changes in one class don't necessarily affect the others. It leads to more modular and maintainable code.."
   ]
  },
  {
   "cell_type": "markdown",
   "metadata": {},
   "source": [
    "### 3. Create a Python class called `Author` with attributes for name and birthdate. Then, create a `Book` class that contains an instance of `Author` as a composition. Provide an example of creating a `Book` object."
   ]
  },
  {
   "cell_type": "code",
   "execution_count": 32,
   "metadata": {},
   "outputs": [
    {
     "name": "stdout",
     "output_type": "stream",
     "text": [
      "Title: Harry Potter and the Philosopher's Stone, Author: J.K. Rowling, Published Year: 1997\n"
     ]
    }
   ],
   "source": [
    "# Create an Author class\n",
    "class Author:\n",
    "    def __init__(self, name, birthdate):\n",
    "        self.name = name\n",
    "        self.birthdate = birthdate\n",
    "\n",
    "# Create a Book class\n",
    "class Book:\n",
    "    def __init__(self, title, author, published_year):\n",
    "        self.title = title\n",
    "        self.author = author        # Composition: Book class has an instance of Author\n",
    "        self.published_year = published_year\n",
    "    \n",
    "    def book_info(self):\n",
    "        return f\"Title: {self.title}, Author: {self.author.name}, Published Year: {self.published_year}\"\n",
    "    \n",
    "# Creating an Author instance\n",
    "author1 = Author(\"J.K. Rowling\", \"July 31, 1965\")\n",
    "\n",
    "# Creating a Book instance with the Author as part of its composition\n",
    "book1 = Book(\"Harry Potter and the Philosopher's Stone\", author1, 1997)\n",
    "\n",
    "# Accessing book information\n",
    "print(book1.book_info())"
   ]
  },
  {
   "cell_type": "markdown",
   "metadata": {},
   "source": [
    "- The `Author` class has attributes `name` and `birthdate`.\n",
    "- The `Book` class has attributes `title`, `author`, and `published_year`.\n",
    "- I create an `Author` instance named `author1` with the name \"J.K. Rowling\" and birthdate \"July 31, 1965\".\n",
    "- Then, I create a `Book` instance named `book1` with the title \"Harry Potter and the Philosopher's Stone\", using `author1` as the author, and setting the published year as 1997.\n",
    "- The `display_info` method in the `Book` class prints information about the book, including its title, author's name, and published year."
   ]
  },
  {
   "cell_type": "markdown",
   "metadata": {},
   "source": [
    "### 4. Discuss the benefits of using composition over inheritance in Python, especially in terms of code flexibility and reusability."
   ]
  },
  {
   "cell_type": "markdown",
   "metadata": {},
   "source": [
    "- **Code Flexibility:**\n",
    "    - Composition allows for looser cupling between classes. Objects are composed together, reducing the dependency on a specific class hierarchy. This makes it easier to change or replace components without affecting the entire system.\n",
    "    - With composition, you can dynamically change the behavior of a class by modifying or swapping its components at runtime.\n",
    "    - Inheritance can lead to the \"diamond problem\" in languages that support multiple inheritance, where conflicts arise due to ambiguous inheritance paths. Composition avoids this problem by structuring classes based on components rather than complex inheritance chains.\n",
    "\n",
    "- **Code Reusability:**\n",
    "    - Composition encourages modular design by breaking down functionalities into separate components. These components can be reuse across different classes, promoting code reuse and minimizing redundant code.\n",
    "    - Components created through composition are often more self-contained and independent.\n",
    "    - Inheritance can suffer from the \"fragile base class\" problem, where modifications to a superclass can inadvertently affect its subclasses. Composition minimizes this risk as changes to one component don't impact the entire structure."
   ]
  },
  {
   "cell_type": "markdown",
   "metadata": {},
   "source": [
    "### 5. How can you implement composition in Python classes? Provide examples of using composition to create complex objects."
   ]
  },
  {
   "cell_type": "markdown",
   "metadata": {},
   "source": [
    "- In Python, implementing composition involves creating classes that contain instances of other classes as attributes. These instances are used to compose more complex objects.\n",
    "- **Example:**\n",
    "```python\n",
    "class Engine:\n",
    "    def start(self):\n",
    "        print(\"Engine started\")\n",
    "\n",
    "    def stop(self):\n",
    "        print(\"Engine stopped\")\n",
    "\n",
    "class Wheels:\n",
    "    def rotate(self):\n",
    "        print(\"Wheels rotating\")\n",
    "\n",
    "class Car:\n",
    "    def __init__(self):\n",
    "        self.engine = Engine()      # Composition: Car has an Engine\n",
    "        self.wheels = [Wheels() for _ in range(4)]      # Composition: Car has four Wheels\n",
    "\n",
    "    def start_car(self):\n",
    "        self.engine.start()\n",
    "        for wheel in self.wheels:\n",
    "            wheel.rotate()\n",
    "        print(\"Car started.\")\n",
    "    \n",
    "    def stop_car(self):\n",
    "        self.engine.stop()\n",
    "        print(\"Car stopped\")\n",
    "\n",
    "\n",
    "my_car = Car()\n",
    "my_car.start_car()\n",
    "# Output:\n",
    "# Engine started\n",
    "# Wheels rotating\n",
    "# Wheels rotating\n",
    "# Wheels rotating\n",
    "# Wheels rotating\n",
    "# Car started\n",
    "\n",
    "my_car.stop_car()\n",
    "# Output:\n",
    "# Engine stopped\n",
    "# Car stopped\n",
    "```"
   ]
  },
  {
   "cell_type": "markdown",
   "metadata": {},
   "source": [
    "### 6. Create a Python class hierarchy for a music player system, using composition to represent playlists and songs."
   ]
  },
  {
   "cell_type": "code",
   "execution_count": 33,
   "metadata": {},
   "outputs": [
    {
     "name": "stdout",
     "output_type": "stream",
     "text": [
      "Playing playlist: Playlist 1\n",
      "Playing: Song 1 by Artist A\n",
      "Playing: Song 3 by Artist C\n",
      "Playing: Song 5 by Artist E\n",
      "Playing playlist: Playlist 2\n",
      "Playing: Song 2 by Artist B\n",
      "Playing: Song 4 by Artist D\n"
     ]
    }
   ],
   "source": [
    "# Create a Song class\n",
    "class Song:\n",
    "    def __init__(self, title, artist, duration):\n",
    "        self.title = title\n",
    "        self.artist = artist\n",
    "        self.duration = duration\n",
    "    \n",
    "    def play(self):\n",
    "        print(f\"Playing: {self.title} by {self.artist}\")\n",
    "\n",
    "class Playlist:\n",
    "    def __init__(self, name):\n",
    "        self.name = name\n",
    "        self.songs = []\n",
    "\n",
    "    def add_song(self, song):\n",
    "        self.songs.append(song)\n",
    "    \n",
    "    def remove_song(self, song):\n",
    "        self.songs.remove(song)\n",
    "\n",
    "    def play_all(self):\n",
    "        print(f\"Playing playlist: {self.name}\")\n",
    "        for song in self.songs:\n",
    "            song.play()\n",
    "        \n",
    "class MusicPlayer:\n",
    "    def __init__(self):\n",
    "        self.playlists = []\n",
    "\n",
    "    def create_playlist(self, name):\n",
    "        new_playlist = Playlist(name)\n",
    "        self.playlists.append(new_playlist)\n",
    "        return new_playlist\n",
    "\n",
    "    def remove_playlist(self, playlist):\n",
    "        self.playlists.remove(playlist)\n",
    "\n",
    "\n",
    "# Do some example usage:\n",
    "# Creating some songs\n",
    "song1 = Song(\"Song 1\", \"Artist A\", 180)\n",
    "song2 = Song(\"Song 2\", \"Artist B\", 200)\n",
    "song3 = Song(\"Song 3\", \"Artist C\", 210)\n",
    "song4 = Song(\"Song 4\", \"Artist D\", 200)\n",
    "song5 = Song(\"Song 5\", \"Artist E\", 210)\n",
    "\n",
    "# Creating playlists\n",
    "player = MusicPlayer()\n",
    "playlist1 = player.create_playlist(\"Playlist 1\")\n",
    "playlist2 = player.create_playlist(\"Playlist 2\")\n",
    "\n",
    "# Adding songs to playlists\n",
    "playlist1.add_song(song1)\n",
    "playlist1.add_song(song3)\n",
    "playlist1.add_song(song5)\n",
    "playlist2.add_song(song2)\n",
    "playlist2.add_song(song4)\n",
    "\n",
    "# Playing songs in playlists\n",
    "playlist1.play_all()\n",
    "playlist2.play_all()"
   ]
  },
  {
   "cell_type": "markdown",
   "metadata": {},
   "source": [
    "- `Song` class represents individual songs with attributes like title, artist, and duration. It has a `play` method to simulate playing the song.\n",
    "- `Playlist` class represents a collection of songs. It has methods to add, remove, and play songs within the playlist.\n",
    "- `MusicPlayer` class acts as a higher-level entity managing playlists. It allows the creation and removal of playlists.\n",
    "- Songs (`song1`, `song2`, `song3`, `song4`, `song5`) are created using the `Song` class.\n",
    "- Playlists (`playlist1`, `playlist2`) are created using the `Playlist` class and songs are added to them.\n",
    "- `play_all` method of `Playlist` class is used to play all songs within a playlist.\n",
    "- This structure demonstrates composition where a `Playlist` is composed of multiple `Song` instances, and a `MusicPlayer` is composed of playlists."
   ]
  },
  {
   "cell_type": "markdown",
   "metadata": {},
   "source": [
    "### 7. Explain the concept of \"has-a\" relationships in composition and how it helps design software systems."
   ]
  },
  {
   "cell_type": "markdown",
   "metadata": {},
   "source": [
    "- The \"has-a\" relationship in composition is a fundamental concept in object-oriented programming where one class contains an instance of another class as a component or attribute.\n",
    "- \"Has-a\" or Encapsulation is enhanced as components are encapsulated within their parent class. Components can be reused across different classes, promoting code reuseability without creating complex inheritance hierarchies. It promotes flexibility as changes in one class or component don't necessarily affect other parts of the system, leading to easier maintenance and updates. It provides a clear and explicit way to define relationships between classes, making the code more understandable and intuitive. Components can be modified or swapped at runtime, allowing for dynamic behavior changes without altering the overall structure."
   ]
  },
  {
   "cell_type": "markdown",
   "metadata": {},
   "source": [
    "### 8. Create a Python class for a computer system, using composition to represent components like CPU, RAM, and storage devices."
   ]
  },
  {
   "cell_type": "code",
   "execution_count": 34,
   "metadata": {},
   "outputs": [
    {
     "name": "stdout",
     "output_type": "stream",
     "text": [
      "Computer Specifications:\n",
      "CPU: Intel, Speed: 4.7 GHz\n",
      "RAM: 16 GB, Speed: 3200 MHZ\n",
      "Storage: 1024 GB, Type: SSD\n"
     ]
    }
   ],
   "source": [
    "# Create a CPU class\n",
    "class CPU:\n",
    "    def __init__(self, brand, speed):\n",
    "        self.brand = brand\n",
    "        self.speed = speed\n",
    "    \n",
    "    def get_info(self):\n",
    "        return f\"CPU: {self.brand}, Speed: {self.speed} GHz\"\n",
    "\n",
    "class RAM:\n",
    "    def __init__(self, size, speed):\n",
    "        self.size = size\n",
    "        self.speed = speed\n",
    "\n",
    "    def get_info(self):\n",
    "        return f\"RAM: {self.size} GB, Speed: {self.speed} MHZ\"\n",
    "    \n",
    "class Storage:\n",
    "    def __init__(self, capacity, sd_type):\n",
    "        self.capacity = capacity\n",
    "        self.sd_type = sd_type\n",
    "    \n",
    "    def get_info(self):\n",
    "        return f\"Storage: {self.capacity} GB, Type: {self.sd_type}\"\n",
    "    \n",
    "class Computer:\n",
    "    def __init__(self, cpu, ram, storage):\n",
    "        self.cpu = cpu\n",
    "        self.ram = ram\n",
    "        self.storage = storage\n",
    "    \n",
    "    def get_specs(self):\n",
    "        cpu_info = self.cpu.get_info()\n",
    "        ram_info = self.ram.get_info()\n",
    "        storage_info = self.storage.get_info()\n",
    "        return f\"Computer Specifications:\\n{cpu_info}\\n{ram_info}\\n{storage_info}\"\n",
    "\n",
    "\n",
    "# Example usage\n",
    "cpu = CPU(\"Intel\", 4.7)\n",
    "ram = RAM(16, 3200)\n",
    "storage = Storage(1024, \"SSD\")\n",
    "\n",
    "my_computer = Computer(cpu, ram, storage)\n",
    "print(my_computer.get_specs())"
   ]
  },
  {
   "cell_type": "markdown",
   "metadata": {},
   "source": [
    "- `CPU`, `RAM`, and `Storage` are classes representing individual components of a computer system.\n",
    "- Each class contains attributes and methods to represent specific details of the component(`brand`, `speed`, `size`, `speed`, `capacity`, `sd_type`) and a `get_info` method to retrieve component information.\n",
    "- The `Computer` class represents a computer system composed of `CPU`, `RAM`, and `Storage` instances.\n",
    "- The `get_specs` method of the `Computer` class fetches information about all the components of the computer.\n",
    "- Instances of `CPU`, `RAM`, and `Storage` are created with specific specifications.\n",
    "- A `Computer` object(`my_computer`) is instantiated with these component instances.\n",
    "- `get_specs` method is called to display the specifications of the computer system."
   ]
  },
  {
   "cell_type": "markdown",
   "metadata": {},
   "source": [
    "### 9. Describe the concept of \"delegation\" in composition and how it simplifies the design of complex systems."
   ]
  },
  {
   "cell_type": "markdown",
   "metadata": {},
   "source": [
    "- Delegation in composition refers to the practice of passing responsibility for certain behaviors or functionalities from one class to another class through composition.\n",
    "- Delegation breaks down functionalities and responsibilities into smaller, specialized classes, the overall system design becomes simpler and more manageable. It encourages reuseable components and modular design, allowing different parts of the system to use specialized functinalities without tightly coupling their implementations. Delegated components are often more self-contained and easier to test in isolation, leading to more focused testing and simpler debugging processes."
   ]
  },
  {
   "cell_type": "markdown",
   "metadata": {},
   "source": [
    "### 10. Create a Python class for a car, using composition to represent components like the engine, wheels, and transmission."
   ]
  },
  {
   "cell_type": "code",
   "execution_count": 35,
   "metadata": {},
   "outputs": [
    {
     "name": "stdout",
     "output_type": "stream",
     "text": [
      "Engine started\n",
      "Wheels rotating\n",
      "Car started.\n",
      "Changed gear to Drive\n",
      "Changed gear to Neutral\n",
      "Engine stopped\n",
      "Car stopped.\n"
     ]
    }
   ],
   "source": [
    "# Create a class Engine\n",
    "class Engine:\n",
    "    def start(self):\n",
    "        print(\"Engine started\")\n",
    "    \n",
    "    def stop(self):\n",
    "        print(\"Engine stopped\")\n",
    "\n",
    "# Create a class Wheels\n",
    "class Wheels:\n",
    "    def rotate(self):\n",
    "        print(\"Wheels rotating\")\n",
    "\n",
    "# Create a class Transmission\n",
    "class Transmission:\n",
    "    def change_gear(self, gear):\n",
    "        print(f\"Changed gear to {gear}\")\n",
    "\n",
    "# Create a class Car\n",
    "class Car:\n",
    "    def __init__(self):\n",
    "        self.engine = Engine()      # Composition: Car has an Engine\n",
    "        self.wheels = Wheels()      # Composition: Car has Wheels\n",
    "        self.transmission = Transmission()      # Composition: Car has Transmission\n",
    "    \n",
    "    def start_car(self):\n",
    "        self.engine.start()\n",
    "        self.wheels.rotate()\n",
    "        print(\"Car started.\")\n",
    "    \n",
    "    def stop_car(self):\n",
    "        self.engine.stop()\n",
    "        print(\"Car stopped.\")\n",
    "    \n",
    "    def change_gear(self, gear):\n",
    "        self.transmission.change_gear(gear)\n",
    "\n",
    "# Do some example usage\n",
    "my_car = Car()\n",
    "my_car.start_car()\n",
    "my_car.change_gear(\"Drive\")\n",
    "my_car.change_gear(\"Neutral\")\n",
    "my_car.stop_car()"
   ]
  },
  {
   "cell_type": "markdown",
   "metadata": {},
   "source": [
    "- `Engine`, `Wheels`, and `Transmission` are classes representing individual components of a car.\n",
    "- Each class contains methods representing functionalities(`start`, `stop`, `rotate`, `change_gear`) related to the specific component.\n",
    "- The `Car` class represents a car composed of `Engine`, `Wheels`, and `Transmission` instances.\n",
    "- Methods in the `Car` class delegate functionalities to the respective components using composition.\n",
    "- An instance of the `Car` class(`my_car`) is created.\n",
    "- `start_car`, `change_gear`, and `stop_car` methods are called to simulate starting the car, changing gears, and stopping the car."
   ]
  },
  {
   "cell_type": "markdown",
   "metadata": {},
   "source": [
    "### 11. How can you encapsulate and hide the details of composed objects in Python classes to maintain abstraction?"
   ]
  },
  {
   "cell_type": "markdown",
   "metadata": {},
   "source": [
    "- **Private Attributes:**\n",
    "    - Use naming conventions to denote attributes as private (by prefixing with two underscores '`__`') to indicate that they are not intended to be accessed directly from outside the class.\n",
    "- **Getters and Setters (Properties):**\n",
    "    - Implement getter and setter methods to control access to the composed objects' attributes. This allows controlled access and modification of these attributes while maintaining encapsulation."
   ]
  },
  {
   "cell_type": "markdown",
   "metadata": {},
   "source": [
    "### 12. Create a Python class for a university course, using composition to represent students, instructors, and course materials."
   ]
  },
  {
   "cell_type": "code",
   "execution_count": 36,
   "metadata": {},
   "outputs": [
    {
     "name": "stdout",
     "output_type": "stream",
     "text": [
      "Course: Data Science Pro\n",
      "Instructor Info: Instructor: Sudh, ID: I001\n",
      "Students:\n",
      "Student: Rajdip, ID: S001\n",
      "Student: Dev, ID: S002\n",
      "Student: Papi, ID: S003\n",
      "Course Meterial:\n",
      "Course Material - Title: Data Science\n",
      "Content: Intoduction to NumPy\n"
     ]
    }
   ],
   "source": [
    "# Create a Student class\n",
    "class Student:\n",
    "    def __init__(self, name, student_id):\n",
    "        self.name = name\n",
    "        self.student_id = student_id\n",
    "    \n",
    "    def get_info(self):\n",
    "        return f\"Student: {self.name}, ID: {self.student_id}\"\n",
    "\n",
    "# Create an Instructor class\n",
    "class Instructor:\n",
    "    def __init__(self, name, instructor_id):\n",
    "        self.name = name\n",
    "        self.instructor_id = instructor_id\n",
    "\n",
    "    def get_info(self):\n",
    "        return f\"Instructor: {self.name}, ID: {self.instructor_id}\"\n",
    "\n",
    "# Create a CourseMaterial class\n",
    "class CourseMaterial:\n",
    "    def __init__(self, title, content):\n",
    "        self.title = title\n",
    "        self.content = content\n",
    "    \n",
    "    def display_info(self):\n",
    "        print(f\"Course Material - Title: {self.title}\\nContent: {self.content}\")\n",
    "\n",
    "# Create a Course class\n",
    "class Course:\n",
    "    def __init__(self, course_name, instructor, students, course_material):\n",
    "        self.course_name = course_name\n",
    "        self.instructor = instructor        # Composition: Course has an Instructor\n",
    "        self.students = students      # Composition: Course has a list of Students\n",
    "        self.course_material = course_material      # Composition: Course has Course Material\n",
    "\n",
    "    def display_course_info(self):\n",
    "        print(f\"Course: {self.course_name}\")\n",
    "        print(f\"Instructor Info: {self.instructor.get_info()}\")\n",
    "        print(\"Students:\")\n",
    "        for student in self.students:\n",
    "            print(student.get_info())\n",
    "        \n",
    "        print(\"Course Meterial:\")\n",
    "        self.course_material.display_info()\n",
    "\n",
    "\n",
    "# Do example usage\n",
    "student1 = Student(\"Rajdip\", \"S001\")\n",
    "student2 = Student(\"Dev\", \"S002\")\n",
    "student3 = Student(\"Papi\", \"S003\")\n",
    "\n",
    "instructor1 = Instructor(\"Sudh\", \"I001\")\n",
    "\n",
    "material = CourseMaterial(\"Data Science\", \"Intoduction to NumPy\")\n",
    "\n",
    "students_list = [student1, student2, student3]\n",
    "\n",
    "data_course = Course(\"Data Science Pro\", instructor1, students_list, material)\n",
    "data_course.display_course_info()"
   ]
  },
  {
   "cell_type": "markdown",
   "metadata": {},
   "source": [
    "- `Student`, `Instructor`, and `CourseMaterial` are classes representing individual components of a course: students, instructors, and course materials, respectively.\n",
    "- Each class contains attributes and methods to represent specific details of their respective components.\n",
    "- The `Course` class represents a course composed of an `Instructor`, a list of `Student` instances, and `CourseMaterial`.\n",
    "- The `Course` class contains a method `display_course_info` to display information about the course, including the instructor, students, and course material.\n",
    "- Instances of `Student`, `Instructor`, and `CourseMaterial` are created with specific details.\n",
    "- A list of students is created (`students_list`).\n",
    "- A `Course` object (`data_course`) is instantiated with these components.\n",
    "- `display_course_info` method is called to display information about the course."
   ]
  },
  {
   "cell_type": "markdown",
   "metadata": {},
   "source": [
    "### 13. Discuss the challenges and drawbacks of composition, such as increased complexity and potential for tight coupling between objects."
   ]
  },
  {
   "cell_type": "markdown",
   "metadata": {},
   "source": [
    "- **Increased Complexity:**\n",
    "    - As the number of composed objects grows, managing the relationships and interactions between them can become complex and harder to visualize.\n",
    "    - Composing objects within objects can lead to nested hierarchies, which mighit make the codebase harder to understand and maintain.\n",
    "- **Tight Coupling:**\n",
    "    - If composed objects are tightly coupled, changes in one object might necessitate changes in multiple other objects, leading to increased dependencies and potentially causing a ripple effect across the system.\n",
    "    - Modifying one part of a composed object might require modifications in other parts, leading to a cascade of changes that need to be carefully managed."
   ]
  },
  {
   "cell_type": "markdown",
   "metadata": {},
   "source": [
    "### 14. Create a Python class hierarchy for a restaurant system, using composition to represent menus, dishes, and ingredients."
   ]
  },
  {
   "cell_type": "code",
   "execution_count": 37,
   "metadata": {},
   "outputs": [
    {
     "name": "stdout",
     "output_type": "stream",
     "text": [
      "Menu: Breakfast\n",
      "Dishes in Menu: ['Pizza', 'Sandwich']\n",
      "\n",
      "Dish: Pizza\n",
      "Ingredients: ['Ingredient: Tomato, Quantity: 3', 'Ingredient: Cheese, Quantity: 2', 'Ingredient: Bread, Quantity: 5']\n",
      "\n",
      "Dish: Sandwich\n",
      "Ingredients: ['Ingredient: Tomato, Quantity: 3', 'Ingredient: Bread, Quantity: 5']\n"
     ]
    }
   ],
   "source": [
    "# Create a class Ingredient\n",
    "class Ingredient:\n",
    "    def __init__(self, name, quantity):\n",
    "        self.name = name\n",
    "        self.quantity = quantity\n",
    "\n",
    "    def get_info(self):\n",
    "        return f\"Ingredient: {self.name}, Quantity: {self.quantity}\"\n",
    "\n",
    "# Create a class Dish\n",
    "class Dish:\n",
    "    def __init__(self, name, ingredients):\n",
    "        self.name = name\n",
    "        self.ingredients = ingredients      # Composition: Dish has Ingredients\n",
    "\n",
    "    def get_ingredients_info(self):\n",
    "        return [ingredient.get_info() for ingredient in self.ingredients]\n",
    "    \n",
    "# Create a Menu class\n",
    "class Menu:\n",
    "    def __init__(self, name, dishes):\n",
    "        self.name = name\n",
    "        self.dishes = dishes        # Composition: Menu has Dishes\n",
    "    \n",
    "    def get_dishes_info(self):\n",
    "        return [dish.name for dish in self.dishes]\n",
    "    \n",
    "# Some example usage\n",
    "\n",
    "# Ingredients\n",
    "ingredient1 = Ingredient(\"Tomato\", 3)\n",
    "ingredient2 = Ingredient(\"Cheese\", 2)\n",
    "ingredient3 = Ingredient(\"Bread\", 5)\n",
    "\n",
    "# Dishes with Ingredients\n",
    "dish1 = Dish(\"Pizza\", [ingredient1, ingredient2, ingredient3])\n",
    "dish2 = Dish(\"Sandwich\", [ingredient1, ingredient3])\n",
    "\n",
    "# Menu with Dishes\n",
    "menu = Menu(\"Breakfast\", [dish1, dish2])\n",
    "\n",
    "# Displaying information\n",
    "print(f\"Menu: {menu.name}\")\n",
    "print(f\"Dishes in Menu: {menu.get_dishes_info()}\")\n",
    "for dish in menu.dishes:\n",
    "    print(f\"\\nDish: {dish.name}\")\n",
    "    print(f\"Ingredients: {dish.get_ingredients_info()}\")"
   ]
  },
  {
   "cell_type": "markdown",
   "metadata": {},
   "source": [
    "- `Ingredient` class represents individual ingredients with attributes like name and quantity.\n",
    "- `Dish` class represents dishes with a name and a list of `Ingredient` instances as ingredients.\n",
    "- `Menu` class represents a menu composed of a name and a list of `Dish` instances.\n",
    "- Getter methods (`get_dishes_info` and `get_ingredients_info`) are provided to fetch information about dishes and their ingredients.\n",
    "- `Ingredient`, `Dish`, and `Menu` instances are created with specific details.\n",
    "- Dishes contain a list of ingredients, and a menu contains a list of dishes.\n",
    "- Information about the menu, dishes, and their respective ingredients is displayed."
   ]
  },
  {
   "cell_type": "markdown",
   "metadata": {},
   "source": [
    "### 15. Explain how composition enhances code maintainability and modularity in Python programs."
   ]
  },
  {
   "cell_type": "markdown",
   "metadata": {},
   "source": [
    "- Composition allows breaking down complex systems into smaller, more manageable components. Each component focuses on specific functionalities, promoting a modular design.\n",
    "- Composed objects encapsulate their functionalities, allowing for clear separation of concerns. This isolation makes it easier to understand and maintain specific parts of the codebase.\n",
    "- Components created through composition can be easily interchanged or replaced, providing flexibility in the system's structure without affecting the entire codebase.\n",
    "- Well-composed objects form a scalable structure, enabling the addition of new functionalities or components without significantly impacting existing code."
   ]
  },
  {
   "cell_type": "markdown",
   "metadata": {},
   "source": [
    "### 16. Create a Python class for a computer game character, using composition to represent attributes like weapons, armor, and inventory."
   ]
  },
  {
   "cell_type": "code",
   "execution_count": 38,
   "metadata": {},
   "outputs": [
    {
     "name": "stdout",
     "output_type": "stream",
     "text": [
      "Raka Info:\n",
      "Weapon: Dragon Sword, Damage: 30\n",
      "Armor: Fire Shield, Defense: 20\n",
      "\n",
      "Inventory:\n",
      "Weapon: Ice Sword, Damage: 25\n",
      "Armor: Ice Shield, Defense: 15\n"
     ]
    }
   ],
   "source": [
    "# Create a Weapon class\n",
    "class Weapon:\n",
    "    def __init__(self, name, damage):\n",
    "        self.name = name\n",
    "        self.damage = damage\n",
    "    \n",
    "    def get_info(self):\n",
    "        return f\"Weapon: {self.name}, Damage: {self.damage}\"\n",
    "    \n",
    "# Create a Armor class\n",
    "class Armor:\n",
    "    def __init__(self, name, defense):\n",
    "        self.name = name\n",
    "        self.defense = defense\n",
    "\n",
    "    def get_info(self):\n",
    "        return f\"Armor: {self.name}, Defense: {self.defense}\"\n",
    "\n",
    "# Create a class for Inventory\n",
    "class Inventory:\n",
    "    def __init__(self):\n",
    "        self.items = []\n",
    "    \n",
    "    def add_item(self, item):\n",
    "        self.items.append(item)\n",
    "    \n",
    "    def remove_item(self, item):\n",
    "        self.items.remove(item)\n",
    "\n",
    "    def display_inventory(self):\n",
    "        return [item.get_info() for item in self.items]\n",
    "    \n",
    "# Make a class for GameCharacter\n",
    "class GameCharacter:\n",
    "    def __init__(self, name):\n",
    "        self.name = name\n",
    "        self.weapon = None      # Composition: GameCharacter has a Weapon\n",
    "        self.armor = None       # Composition: GameCharacter has Armor\n",
    "        self.inventory = Inventory()        # Composition: GameCharacter has an Inventory\n",
    "\n",
    "    def take_weapon(self, weapon):\n",
    "        self.weapon = weapon\n",
    "    \n",
    "    def take_armor(self, armor):\n",
    "        self.armor = armor\n",
    "\n",
    "    def add_item_inventory(self, item):\n",
    "        self.inventory.add_item(item)\n",
    "\n",
    "    def remove_item_inventory(self, item):\n",
    "        self.inventory.remove_item(item)\n",
    "\n",
    "    def display_inventory(self):\n",
    "        return self.inventory.display_inventory()\n",
    "    \n",
    "\n",
    "# Some example usage\n",
    "# Creating items\n",
    "drag_sword = Weapon(\"Dragon Sword\", 30)\n",
    "ice_sword = Weapon(\"Ice Sword\", 25)\n",
    "fire_shield = Armor(\"Fire Shield\", 20)\n",
    "ice_shield = Armor(\"Ice Shield\", 15)\n",
    "\n",
    "# Creating a game character\n",
    "hero = GameCharacter(\"Raka\")\n",
    "\n",
    "# Equipping items\n",
    "hero.take_weapon(drag_sword)\n",
    "hero.take_armor(fire_shield)\n",
    "hero.add_item_inventory(ice_sword)\n",
    "hero.add_item_inventory(ice_shield)\n",
    "\n",
    "# Displaying character info and inventory\n",
    "print(f\"{hero.name} Info:\")\n",
    "print(hero.weapon.get_info())\n",
    "print(hero.armor.get_info())\n",
    "\n",
    "print(\"\\nInventory:\")\n",
    "for item_info in hero.display_inventory():\n",
    "    print(item_info)"
   ]
  },
  {
   "cell_type": "markdown",
   "metadata": {},
   "source": [
    "- `Weapon`, `Armor`, and `Inventory` classes represent individual components of a game character: weapons, armor, and inventory, respectively.\n",
    "- Each class contains attributes and methods to represent specific details of their respective components.\n",
    "- The `GameCharacter` class represents a game character composed of a `Weapon`, `Armor`, and an `Inventory`.\n",
    "- The `GameCharacter` class contains methods to equip items, manage inventory, and display character information.\n",
    "- Instances of `Weapon`, `Armor`, and `GameCharacter` are created with specific details.\n",
    "- The game character equips weapons and armor and manages inventory.\n",
    "- Character information and inventory details are displayed."
   ]
  },
  {
   "cell_type": "markdown",
   "metadata": {},
   "source": [
    "### 17. Describe the concept of \"aggregation\" in composition and how it differs from simple composition."
   ]
  },
  {
   "cell_type": "markdown",
   "metadata": {},
   "source": [
    "- In OOPs, \"aggregation\" is a specific form of composition where objects are linked together to represent a whole-part relationship, but the parts have an independent existence beyond the whole. It's a type of \"has-a\" relationship that implies a whole-part connection while allowing the parts to exist independently of the whole.\n",
    "- In simple composition, the parts are often tightly bound to the whole and may not have an independent existence. In aggregation, parts can exist on their own, even if they are part of a larger structure.<br>\n",
    "In simple composition, a part is usually exclusively a component of the whole. In aggregation, a part can belong to multiple wholes simultaneously."
   ]
  },
  {
   "cell_type": "markdown",
   "metadata": {},
   "source": [
    "### 18. Create a Python class for a house, using composition to represent rooms, furniture, and appliances."
   ]
  },
  {
   "cell_type": "code",
   "execution_count": 39,
   "metadata": {},
   "outputs": [
    {
     "name": "stdout",
     "output_type": "stream",
     "text": [
      "Living Room Contents:\n",
      "Furniture: Table\n",
      "Furniture: Chair\n",
      "Appliance: Television\n",
      "\n",
      "Kitchen Contents:\n",
      "Furniture: Table\n",
      "Furniture: Chair\n",
      "Appliance: Refrigerator\n",
      "\n",
      "Bedroom Contents:\n",
      "Furniture: Bed\n",
      "Appliance: Computer\n",
      "\n"
     ]
    }
   ],
   "source": [
    "# Create a class for Furniture\n",
    "class Furniture:\n",
    "    def __init__(self, name):\n",
    "        self.name = name\n",
    "\n",
    "    def get_info(self):\n",
    "        return f\"Furniture: {self.name}\"\n",
    "    \n",
    "# Create a class for Appliance\n",
    "class Appliance:\n",
    "    def __init__(self, name):\n",
    "        self.name = name\n",
    "\n",
    "    def get_info(self):\n",
    "        return f\"Appliance: {self.name}\"\n",
    "    \n",
    "# Create a class for ROOM\n",
    "class Room:\n",
    "    def __init__(self, name):\n",
    "        self.name = name\n",
    "        self.furnitures = []        # Composition: Room has Furnitures\n",
    "        self.appliances = []        # Composition: Room has Appliances\n",
    "    \n",
    "    def add_furniture(self, furniture):\n",
    "        self.furnitures.append(furniture)\n",
    "\n",
    "    def add_appliance(self, appliance):\n",
    "        self.appliances.append(appliance)\n",
    "\n",
    "    def display_contents(self):\n",
    "        furniture_info = [item.get_info() for item in self.furnitures]\n",
    "        appliance_info = [item.get_info() for item in self.appliances]\n",
    "        return furniture_info + appliance_info\n",
    "    \n",
    "# Create a class for House\n",
    "class House:\n",
    "    def __init__(self, name):\n",
    "        self.name = name\n",
    "        self.rooms = []         # Composition: House has Rooms\n",
    "\n",
    "    def add_room(self, room):\n",
    "        self.rooms.append(room)\n",
    "\n",
    "\n",
    "# Some example usage\n",
    "# Creating some furniture and appliances\n",
    "table = Furniture(\"Table\")\n",
    "chair = Furniture(\"Chair\")\n",
    "tv = Appliance(\"Television\")\n",
    "bed = Furniture(\"Bed\")\n",
    "fridge = Appliance(\"Refrigerator\")\n",
    "computer = Appliance(\"Computer\")\n",
    "\n",
    "# Creating rooms\n",
    "living_room = Room(\"Living Room\")\n",
    "kitchen = Room(\"Kitchen\")\n",
    "bedroom = Room(\"Bedroom\")\n",
    "\n",
    "# Adding furniture and appliances to rooms\n",
    "living_room.add_furniture(table)\n",
    "living_room.add_furniture(chair)\n",
    "living_room.add_appliance(tv)\n",
    "kitchen.add_furniture(table)\n",
    "kitchen.add_furniture(chair)\n",
    "kitchen.add_appliance(fridge)\n",
    "bedroom.add_furniture(bed)\n",
    "bedroom.add_appliance(computer)\n",
    "\n",
    "# Creating a house and add rooms\n",
    "my_house = House(\"My House\")\n",
    "my_house.add_room(living_room)\n",
    "my_house.add_room(kitchen)\n",
    "my_house.add_room(bedroom)\n",
    "\n",
    "# Displaying house contents\n",
    "for room in my_house.rooms:\n",
    "    print(f\"{room.name} Contents:\")\n",
    "    for item_info in room.display_contents():\n",
    "        print(item_info)\n",
    "    print()"
   ]
  },
  {
   "cell_type": "markdown",
   "metadata": {},
   "source": [
    "- `Furniture`, `Appliance`, and `Room` classes represent individual components: furniture, appliances, and rooms, respectively.\n",
    "- The `Room` class aggregates `Furniture` and `Appliance` instances representing the contents of the room.\n",
    "- The `House` class aggregates `Room` instances representing the rooms in the house.\n",
    "- Instances of `Furniture`, `Appliance`, `Room`, and `House` are created with specific details.\n",
    "- Furniture and appliances are added to rooms, and rooms are added to the house.\n",
    "- The house's contents, including furniture and appliances in each room, are displayed."
   ]
  },
  {
   "cell_type": "markdown",
   "metadata": {},
   "source": [
    "### 19. How can you achieve flexibility in composed objects by allowing them to be replaced or modified dynamically at runtime?"
   ]
  },
  {
   "cell_type": "markdown",
   "metadata": {},
   "source": [
    "- Define Interfaces or ABCs:\n",
    "    - Create interfaces or abstract base classes that define the expected behavior or methods for the composed objects.\n",
    "- Implement Different Classes:\n",
    "    - Implement multiple classes that adhere to these interfaces, providing various functionalities or behaviors.\n",
    "- Dynamic Object Replacement:\n",
    "    - During runtime, objects can be replaced with instances of different classes that implement the same interface, allowing dynamic behavior modification."
   ]
  },
  {
   "cell_type": "markdown",
   "metadata": {},
   "source": [
    "### 20. Create a Python class for a social media application, using composition to represent users, posts, and comments."
   ]
  },
  {
   "cell_type": "code",
   "execution_count": 40,
   "metadata": {},
   "outputs": [
    {
     "name": "stdout",
     "output_type": "stream",
     "text": [
      "Rajdip's Posts and Comments:\n",
      "Post: Hello, this is my first post!\n",
      "Comment by Debodip: Great first post!\n",
      "\n",
      "Debodip's Posts and Comments:\n"
     ]
    }
   ],
   "source": [
    "# Create a class for Comment\n",
    "class Comment:\n",
    "    def __init__(self, text, user):\n",
    "        self.text = text\n",
    "        self.user = user\n",
    "\n",
    "    def get_info(self):\n",
    "        return f\"Comment by {self.user}: {self.text}\"\n",
    "\n",
    "# Create a class for Post\n",
    "class Post:\n",
    "    def __init__(self, content, user):\n",
    "        self.content = content\n",
    "        self.user = user\n",
    "        self.comments = []      # Composition: Post has Comments\n",
    "\n",
    "    def add_comment(self, comment):\n",
    "        self.comments.append(comment)\n",
    "\n",
    "# Create a class for User\n",
    "class User:\n",
    "    def __init__(self, username):\n",
    "        self.username = username\n",
    "        self.posts = []         # Composition: User has Posts\n",
    "\n",
    "    def create_post(self, content):\n",
    "        post = Post(content, self.username)\n",
    "        self.posts.append(post)\n",
    "        return post\n",
    "\n",
    "    def comment_on_post(self, post, text):\n",
    "        comment = Comment(text, self.username)\n",
    "        post.add_comment(comment)\n",
    "\n",
    "# Create a class for SocialMediaApp\n",
    "class SocialMediaApp:\n",
    "    def __init__(self):\n",
    "        self.users = []         # Composition: SocialMediaApp has Users\n",
    "\n",
    "    def create_user(self, username):\n",
    "        user = User(username)\n",
    "        self.users.append(user)\n",
    "        return user\n",
    "\n",
    "\n",
    "\n",
    "# Some example usage\n",
    "# Creating a social media app instance\n",
    "app = SocialMediaApp()\n",
    "\n",
    "# Creating users\n",
    "user1 = app.create_user(\"Rajdip\")\n",
    "user2 = app.create_user(\"Debodip\")\n",
    "\n",
    "# User 1 creates a post\n",
    "post_by_user1 = user1.create_post(\"Hello, this is my first post!\")\n",
    "\n",
    "# User 2 comments on User 1's post\n",
    "user2.comment_on_post(post_by_user1, \"Great first post!\")\n",
    "\n",
    "# Displaying posts and comments\n",
    "for user in app.users:\n",
    "    print(f\"{user.username}'s Posts and Comments:\")\n",
    "    for post in user.posts:\n",
    "        print(f\"Post: {post.content}\")\n",
    "        for comment in post.comments:\n",
    "            print(comment.get_info())\n",
    "        print()\n"
   ]
  },
  {
   "cell_type": "markdown",
   "metadata": {},
   "source": [
    "- `Comment`, `Post`, `User`, and `SocialMediaApp` classes represent different components: comments, posts, users, and the social media application, respectively.\n",
    "- The `Post` class aggregates `Comment` instances representing comments on a post.\n",
    "- The `User` class aggregates `Post` instances representing posts created by a user.\n",
    "- The `SocialMediaApp` class aggregates `User` instances representing users on the social media platform.\n",
    "- Instances of `User` are created using the `SocialMediaApp`.\n",
    "- Users create posts and comment on each other's posts.\n",
    "- The social media app aggregates users and their activities (posts and comments)."
   ]
  },
  {
   "cell_type": "code",
   "execution_count": null,
   "metadata": {},
   "outputs": [],
   "source": []
  }
 ],
 "metadata": {
  "kernelspec": {
   "display_name": "Python 3 (ipykernel)",
   "language": "python",
   "name": "python3"
  },
  "language_info": {
   "codemirror_mode": {
    "name": "ipython",
    "version": 3
   },
   "file_extension": ".py",
   "mimetype": "text/x-python",
   "name": "python",
   "nbconvert_exporter": "python",
   "pygments_lexer": "ipython3",
   "version": "3.9.16"
  }
 },
 "nbformat": 4,
 "nbformat_minor": 2
}
