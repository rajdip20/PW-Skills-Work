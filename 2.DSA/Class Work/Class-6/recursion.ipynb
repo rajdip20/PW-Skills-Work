{
 "cells": [
  {
   "cell_type": "code",
   "execution_count": 1,
   "metadata": {},
   "outputs": [
    {
     "name": "stdout",
     "output_type": "stream",
     "text": [
      "1\n",
      "2\n",
      "3\n",
      "4\n"
     ]
    }
   ],
   "source": [
    "def printRec(arr, startIndex):\n",
    "    if len(arr) <= startIndex:\n",
    "        return\n",
    "\n",
    "    print(arr[startIndex])    \n",
    "    printRec(arr, startIndex+1)\n",
    "\n",
    "arr = [1, 2, 3, 4]\n",
    "printRec(arr, 0)"
   ]
  },
  {
   "cell_type": "code",
   "execution_count": 2,
   "metadata": {},
   "outputs": [
    {
     "name": "stdout",
     "output_type": "stream",
     "text": [
      "4\n",
      "3\n",
      "2\n",
      "1\n"
     ]
    }
   ],
   "source": [
    "def printRec(arr, startIndex):\n",
    "    if len(arr) <= startIndex:\n",
    "        return\n",
    "\n",
    "    printRec(arr, startIndex+1)\n",
    "    print(arr[startIndex])    \n",
    "\n",
    "arr = [1, 2, 3, 4]\n",
    "printRec(arr, 0)"
   ]
  },
  {
   "cell_type": "code",
   "execution_count": 3,
   "metadata": {},
   "outputs": [
    {
     "name": "stdout",
     "output_type": "stream",
     "text": [
      "1\n"
     ]
    }
   ],
   "source": [
    "# Find the smallest number using recursion\n",
    "def FindSmall(arr, StartIndex):\n",
    "    if len(arr) <= StartIndex:\n",
    "        return float('inf')\n",
    "    \n",
    "    return min(arr[StartIndex], FindSmall(arr, StartIndex + 1))\n",
    "\n",
    "    \n",
    "arr = [3, 5, 2, 4, 1]\n",
    "result = FindSmall(arr, 0)\n",
    "print(result)"
   ]
  },
  {
   "cell_type": "code",
   "execution_count": 4,
   "metadata": {},
   "outputs": [
    {
     "name": "stdout",
     "output_type": "stream",
     "text": [
      "5\n"
     ]
    }
   ],
   "source": [
    "# Find the largest number using recursion\n",
    "def FindLarge(arr, StartIndex):\n",
    "    if len(arr) <= StartIndex:\n",
    "        return float('-inf')\n",
    "    \n",
    "    return max(arr[StartIndex], FindLarge(arr, StartIndex + 1))\n",
    "\n",
    "    \n",
    "arr = [3, 5, 2, 4, 1]\n",
    "result = FindLarge(arr, 0)\n",
    "print(result)"
   ]
  },
  {
   "cell_type": "code",
   "execution_count": 5,
   "metadata": {},
   "outputs": [
    {
     "name": "stdout",
     "output_type": "stream",
     "text": [
      "1\n",
      "3\n",
      "7\n",
      "15\n",
      "31\n"
     ]
    }
   ],
   "source": [
    "# Tower of Hanoi\n",
    "def Moves(n, start, destination, axilary):\n",
    "    if n == 1:\n",
    "        return 1\n",
    "    \n",
    "    return Moves(n - 1, start, axilary, destination) + 1 + Moves(n - 1, axilary, destination, start)\n",
    "\n",
    "print(Moves(1, 's', 'd', 'a'))\n",
    "print(Moves(2, 's', 'd', 'a'))\n",
    "print(Moves(3, 's', 'd', 'a'))\n",
    "print(Moves(4, 's', 'd', 'a'))\n",
    "print(Moves(5, 's', 'd', 'a'))"
   ]
  },
  {
   "cell_type": "code",
   "execution_count": null,
   "metadata": {},
   "outputs": [],
   "source": []
  }
 ],
 "metadata": {
  "kernelspec": {
   "display_name": "base",
   "language": "python",
   "name": "python3"
  },
  "language_info": {
   "codemirror_mode": {
    "name": "ipython",
    "version": 3
   },
   "file_extension": ".py",
   "mimetype": "text/x-python",
   "name": "python",
   "nbconvert_exporter": "python",
   "pygments_lexer": "ipython3",
   "version": "3.9.16"
  }
 },
 "nbformat": 4,
 "nbformat_minor": 2
}
