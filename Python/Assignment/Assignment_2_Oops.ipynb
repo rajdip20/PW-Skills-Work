{
 "cells": [
  {
   "cell_type": "markdown",
   "metadata": {},
   "source": [
    "# Constructor:"
   ]
  },
  {
   "cell_type": "markdown",
   "metadata": {},
   "source": [
    "### 1. What is a constructor in Python? Explain its purpose and usage."
   ]
  },
  {
   "cell_type": "markdown",
   "metadata": {},
   "source": [
    "- A `constructor` is a special method within a class that is automatically called when an object of that class is instantiated or created.\n",
    "- `Constructor` are essential for setting up the initial state of objects, ensuring they are in a valid state when created, and allowing customization through parameters passed during object creation.\n",
    "- Usage of `constructor` simplifies the process of object initialization and helps maintain a clean and organized code structure within classes."
   ]
  },
  {
   "cell_type": "markdown",
   "metadata": {},
   "source": [
    "### 2. Differentiate between a parameterless constructor and a parameterized constructor in Python."
   ]
  },
  {
   "cell_type": "markdown",
   "metadata": {},
   "source": [
    "- **Parameterless Constructor:**\n",
    "    - A parameterless constructor doesn't take any parameters (arguments) other than the mandatory `self`.\n",
    "    - It's used when the object can be initialized without any specific extarnal information.\n",
    "    - It initializes the object with default values or performs setup tasks without requiring any external input.\n",
    "- **Parameterized Constructor:**\n",
    "    - A parameterized constructor accepts parameters other than `self` during object instantiation.\n",
    "    - It initializes the object with specific values provided as arguments when creating the object.\n",
    "    - It's used when the object's initialization requires specific information or customization."
   ]
  },
  {
   "cell_type": "markdown",
   "metadata": {},
   "source": [
    "### 3. How do you define a constructor in a Python class? Provide an example."
   ]
  },
  {
   "cell_type": "markdown",
   "metadata": {},
   "source": [
    "- In Python, constructors are defined using the **`__init__()`** method within a class.\n",
    "- **Example:**\n",
    "```python\n",
    "class MyClass:\n",
    "    def __init__(self, parameter1, parameter2):     # Define a constructor\n",
    "        self.parameter1 = parameter1\n",
    "        self.parameter2 = parameter2\n",
    "    \n",
    "    def display_param(self):\n",
    "        print(f\"Parameter 1: {self.parameter1}, Parameter 2: {self.parameter2}\")\n",
    "\n",
    "# Create an instance of the class using the constructor\n",
    "obj = MyClass(\"value1\", \"value2\")\n",
    "obj.display_param()     # Output: Parameter 1: value1, Parameter 2: value2\n",
    "```"
   ]
  },
  {
   "cell_type": "markdown",
   "metadata": {},
   "source": [
    "### 4. Explain the `__init__` method in Python and its role in constructors."
   ]
  },
  {
   "cell_type": "markdown",
   "metadata": {},
   "source": [
    "- `__init__` method is a special method within a class that serves as the constructor. It's automatically called when an objct of the class is created. The purpose of `__init__` is to initialize the object's attributes or perform any necessary setup for the object to function correctly.\n",
    "- Role in constructors:\n",
    "    - The `__init__` method is used to initialize the attributes of an object when it's created.\n",
    "    -  When an object is created using the class name followed by parentheses (`Classname()`), Python automatically calls the `__init__` method associated with that class.\n",
    "    - The `__init__` method takes `self` as its first parameter along with other parameters that can be used to initialize the object's attributes.\n",
    "    - It's responsible for ensuring that the object is in a valid and usable state immediately after it's created."
   ]
  },
  {
   "cell_type": "markdown",
   "metadata": {},
   "source": [
    "### 5. In a class named `Person`, create a constructor that initializes the `name` and `age` attributes. Provide an example of creating an object of this class."
   ]
  },
  {
   "cell_type": "code",
   "execution_count": 1,
   "metadata": {},
   "outputs": [
    {
     "name": "stdout",
     "output_type": "stream",
     "text": [
      "Hi, Rajdip. You are 22 years old.\n"
     ]
    }
   ],
   "source": [
    "# Create a Person class\n",
    "class Person:\n",
    "    def __init__(self, name, age):      # Create a constructor with two attributes\n",
    "        self.name = name\n",
    "        self.age = age\n",
    "\n",
    "    def display(self):\n",
    "        print(f\"Hi, {self.name}. You are {self.age} years old.\")\n",
    "\n",
    "\n",
    "# Create an example object\n",
    "obj = Person(\"Rajdip\", 22)\n",
    "obj.display()"
   ]
  },
  {
   "cell_type": "markdown",
   "metadata": {},
   "source": [
    "- Make a class named `Person` and has an `__init__` method serving as the constructor.\n",
    "- The constructor takes `name` and `age` as parameters, assigning them to `self.name` and `self.age` attributes within the class.\n",
    "- Create an object `obj` of the `Person` class with the name \"Rajdip\" and age \"22\" by passing these values to the constructor during object instantiation.\n",
    "- The `display()` method is then called on `obj` to showcase the assigned values for `name` and `age`."
   ]
  },
  {
   "cell_type": "markdown",
   "metadata": {},
   "source": [
    "### 6. How can you call a constructor explicitly in Python? Give an example."
   ]
  },
  {
   "cell_type": "markdown",
   "metadata": {},
   "source": [
    "- We can call a constructor explicitly within a class using the class name and `__init__()` method itself, but it's not the typical way to initialize objects.\n",
    "- **For example:**\n",
    "```python\n",
    "class MyClass:\n",
    "    def __init__(self, value):\n",
    "        self.value = value\n",
    "\n",
    "    def display(self):\n",
    "        print(f\"Value: {self.value}\")\n",
    "\n",
    "# Create an object with explicitly calling the costructor\n",
    "obj = MyClass.__init__(MyClass, 10)\n",
    "\n",
    "# Accessing the attribute using the object\n",
    "obj.display()       # Output: Value: 10\n",
    "```"
   ]
  },
  {
   "cell_type": "markdown",
   "metadata": {},
   "source": [
    "### 7. What is the significance of the `self` parameter in Python constructors? Explain with an example."
   ]
  },
  {
   "cell_type": "markdown",
   "metadata": {},
   "source": [
    "- The `self` parameter in constructors refers to the instance of the class itself. It allows access to the instance's attributes and methods within the class. When defining methods, including the constructor, `self` must be the first parameter in order to refer the instance being operated on.\n",
    "- **For example:**\n",
    "```python\n",
    "class Person:\n",
    "    def __init__(self, name):       # self refers to the instance of the class\n",
    "        self.name = name\n",
    "\n",
    "    def display(self):\n",
    "        print(f\"Hello, {self.name}\")\n",
    "\n",
    "# Creating instances of the Person class\n",
    "person1 = Person(\"Rajdip\")\n",
    "\n",
    "# Accessing attributes and methods using instances\n",
    "person1.display_info()  # Output: Hello, Rajdip\n",
    "```"
   ]
  },
  {
   "cell_type": "markdown",
   "metadata": {},
   "source": [
    "### 8. Discuss the concept of default constructors in Python. When are they used?"
   ]
  },
  {
   "cell_type": "markdown",
   "metadata": {},
   "source": [
    "- The concept of default constructors refers to the implicit creation of a constructor when one isn't explicitly defined a class. If no `__init__()` method is specified in a class, Python creates a default constructor for that class.\n",
    "- They are used when a class doesn't have an cxplicitly defined `__init__()` method, and when a class doesn't need any attribute initialization or setup upon object creation the default constructor is sufficient to create instances of that class."
   ]
  },
  {
   "cell_type": "markdown",
   "metadata": {},
   "source": [
    "### 9. Create a Python class called `Rectangle` with a constructor that initializes the `width` and `height` attributes. Provide a method to calculate the area of the rectangle."
   ]
  },
  {
   "cell_type": "code",
   "execution_count": 2,
   "metadata": {},
   "outputs": [
    {
     "name": "stdout",
     "output_type": "stream",
     "text": [
      "Area of the rectangle is: 24\n"
     ]
    }
   ],
   "source": [
    "# Create a class\n",
    "class Rectangle:\n",
    "    # Create a constructor\n",
    "    def __init__(self, width, height):\n",
    "        self.width = width\n",
    "        self.height = height\n",
    "\n",
    "    def area(self):\n",
    "        area = self.width * self.height\n",
    "        print(f\"Area of the rectangle is: {area}\")\n",
    "\n",
    "# Creating instances of the Rectangle class\n",
    "rectangle1 = Rectangle(6, 4)\n",
    "\n",
    "# Accessing attributes and methods using instances\n",
    "rectangle1.area()"
   ]
  },
  {
   "cell_type": "markdown",
   "metadata": {},
   "source": [
    "- Make a class named `Rectangle` and has an `__init__` method serving as the constructor.\n",
    "- The constructor takes `width` and `height` as parameters, assigning them to `self.width` and `self.height` attributes within the class.\n",
    "- Create an object `rectangle1` of the `Rectangle` class with the width 6 and height 4 by passing these values to the constructor during object instantiation.\n",
    "- The `area()` method is then called on `rectangle1` to showcase the area of the rectangle."
   ]
  },
  {
   "cell_type": "markdown",
   "metadata": {},
   "source": [
    "### 10. How can you have multiple constructors in a Python class? Explain with an example."
   ]
  },
  {
   "cell_type": "markdown",
   "metadata": {},
   "source": [
    "- In python there is no direct suppot for multiple constructors within a class. However, we can achieve similar functionality by using default parameter values.\n",
    "- **For example:**\n",
    "```python\n",
    "class Person:\n",
    "    def __init__(self, name=None, age=None):\n",
    "        if name is not None and age is not None:\n",
    "            self.name = name\n",
    "            self.age = age\n",
    "        elif name is not None:\n",
    "            self.name = name\n",
    "            self.age = 0        # Default age\n",
    "        else:\n",
    "            self.name = \"Anonymous\"\n",
    "            self.age = 0        # Default age\n",
    "\n",
    "    def display(self):\n",
    "        print(f\"Name: {self.name}, Age: {self.age}\")\n",
    "\n",
    "# Different ways to create instances with different parameters\n",
    "person1 = Person(\"Alice\", 30)\n",
    "person2 = Person(\"Bob\")\n",
    "person3 = Person()\n",
    "\n",
    "person1.display()  # Output: Name: Alice, Age: 30\n",
    "person2.display()  # Output: Name: Bob, Age: 0\n",
    "person3.display()  # Output: Name: Anonymous, Age: 0\n",
    "```"
   ]
  },
  {
   "cell_type": "markdown",
   "metadata": {},
   "source": [
    "### 11. What is method overloading, and how is it related to constructors in Python?"
   ]
  },
  {
   "cell_type": "markdown",
   "metadata": {},
   "source": [
    "- Method overloading refers to define multiple methods in a class with the same name but different parameters or argument types. This allows a single method name to behave differently based on the number or the number or types of parameters it receives.\n",
    "- In python, there is no explicit method overloading for constructors. However, we can simulate constructor overloading by using default parameter values."
   ]
  },
  {
   "cell_type": "markdown",
   "metadata": {},
   "source": [
    "### 12. Explain the use of the `super()` function in Python constructors. Provide an example."
   ]
  },
  {
   "cell_type": "markdown",
   "metadata": {},
   "source": [
    "- In python, the `super()` function is used to call methods from the parent class within a subclass. `super()` is often employed to invoke the constructor of the parent class explicitly from the constructor of a subclass. This is particularly useful when you want to extend the functionality of the parent class's constructor in the subclass without duplicating code.\n",
    "- **For example:**\n",
    "```python\n",
    "class Parent:\n",
    "    def __init__(self, name):\n",
    "        self.name = name\n",
    "    \n",
    "    def display(self):\n",
    "        print(f\"Parent name: {self.name}\")\n",
    "\n",
    "class Child(Parent):\n",
    "    def __init__(self, name, age):\n",
    "        super().__init__(name)  # Calling the constructor of the parent class\n",
    "        self.age = age\n",
    "\n",
    "    def display(self):\n",
    "        super().display()  # Calling the display method of the parent class\n",
    "        print(f\"Child age: {self.age}\")\n",
    "\n",
    "# Creating an instance of the Child class\n",
    "child = Child(\"Debashis\", 23)\n",
    "child.display()     # Output: Parent name: Debashis \\nChild age: 23\n",
    "```"
   ]
  },
  {
   "cell_type": "markdown",
   "metadata": {},
   "source": [
    "### 13. Create a class called `Book` with a constructor that initializes the `title`, `author`, and `published_year` attributes. Provide a method to display book details."
   ]
  },
  {
   "cell_type": "code",
   "execution_count": 9,
   "metadata": {},
   "outputs": [
    {
     "name": "stdout",
     "output_type": "stream",
     "text": [
      "Book 'Python Programming' by John Smith, published year 2021.\n"
     ]
    }
   ],
   "source": [
    "# Create a class\n",
    "class Book:\n",
    "    # Create a constructor with three attributes\n",
    "    def __init__(self, title, author, published_year):\n",
    "        self.title = title\n",
    "        self.author = author\n",
    "        self.published_year = published_year\n",
    "    # Create display method for display book details\n",
    "    def display(self):\n",
    "        print(f\"Book '{self.title}' by {self.author}, published year {self.published_year}.\")\n",
    "\n",
    "\n",
    "# Creating an instance of the Book class\n",
    "book1 = Book(\"Python Programming\", \"John Smith\", 2021)\n",
    "\n",
    "# Displaying book details using the method\n",
    "book1.display()"
   ]
  },
  {
   "cell_type": "markdown",
   "metadata": {},
   "source": [
    "- Make a class named `Book` and has an `__init__` method serving as the constructor.\n",
    "- The constructor takes `title`, `author`, `published_year` as paramethers, assigning them to `self.title`, `self.author` nad `self.published_year` attributes within the class.\n",
    "- Create an object `book1` of the `Book` class with the title \"Python Programming\", author \"John Smith\" and published_year \"2021\" by passing these values to the constructor during object instantiation.\n",
    "- The `display()` method is then called on `book1` to showcase the assigned values for `title`, `author` and `published_year`."
   ]
  },
  {
   "cell_type": "markdown",
   "metadata": {},
   "source": [
    "### 14. Discuss the differences between constructors and regular methods in Python classes."
   ]
  },
  {
   "cell_type": "markdown",
   "metadata": {},
   "source": [
    "- **Constructors:**\n",
    "    - Constructors are used to initialize the attributes of an object when it's created.\n",
    "    - They are automatically invoked upon object creation to set up the initial state of the object.\n",
    "    - Constructors ensure that the object is in a valid and usable state as soon as it's areated.\n",
    "- **Regular Methods:**\n",
    "    - Regular methods in a class perform specific actions or operations related to the objects's behavior.\n",
    "    - They can access and manipulate the object's attributes and perform various tasks based on the object's state.\n",
    "    - They don't necessarily initialize the object's state like constructors but rather operate on the existing state of the object."
   ]
  },
  {
   "cell_type": "markdown",
   "metadata": {},
   "source": [
    "### 15. Explain the role of the `self` parameter in instance variable initialization within a constructor."
   ]
  },
  {
   "cell_type": "markdown",
   "metadata": {},
   "source": [
    "- In Python, the `self` parameter within a constructor and other instance methods refers to the instance of the class itself.\n",
    "- Within a constructor, `self` allows you to initialize and access instance variable. It refers to the specific instance being created, enabling you to set values for its attributes.\n",
    "- `self` is crucial for differentiating between instance variables of different objects of the same class.\n",
    "- Additionally, `self` allows access to other instance methods and attributes within the class."
   ]
  },
  {
   "cell_type": "markdown",
   "metadata": {},
   "source": [
    "### 16. How do you prevent a class from having multiple instances by using constructors in Python? Provide an example."
   ]
  },
  {
   "cell_type": "markdown",
   "metadata": {},
   "source": [
    "- One way to pevent a class from having multiple instances is by using a design pattern called a `Singleton`. A `Singleton` ensures that a class has only one instance throughout the application's lifecycle.\n",
    "- **For example:**\n",
    "```python\n",
    "class Singleton:\n",
    "    _instance = None\n",
    "\n",
    "    def __new__(cls, *args, **kwargs):\n",
    "        if not cls._instance:\n",
    "            cls._instance = super().__new__(cls)\n",
    "        return cls._instance\n",
    "\n",
    "    def __init__(self, value):\n",
    "        if not hasattr(self, 'initialized'):\n",
    "            self.value = value\n",
    "            self.initialized = True\n",
    "\n",
    "# Creating instances of Singleton\n",
    "singleton1 = Singleton(10)\n",
    "singleton2 = Singleton(20)\n",
    "\n",
    "print(singleton1.value)     # Output: 10\n",
    "print(singleton2.value)     # Output: 10 (same instance as singleton1)\n",
    "\n",
    "print(singleton1 is singleton2)  # Output: True (Both variables refer to the same instance)\n",
    "```"
   ]
  },
  {
   "cell_type": "markdown",
   "metadata": {},
   "source": [
    "### 17. Create a Python class called `Student` with a constructor that takes a list of subjects as a parameter and initializes the `subjects` attribute."
   ]
  },
  {
   "cell_type": "code",
   "execution_count": 10,
   "metadata": {},
   "outputs": [
    {
     "name": "stdout",
     "output_type": "stream",
     "text": [
      "List of subjects:\n",
      "Math\n",
      "Science\n",
      "Data Science\n",
      "Statistics\n"
     ]
    }
   ],
   "source": [
    "# Create a class\n",
    "class Student:\n",
    "    def __init__(self, subjects):\n",
    "        self.subjects = subjects\n",
    "    \n",
    "    def display(self):\n",
    "        print(\"List of subjects:\")\n",
    "        for sub in self.subjects:\n",
    "            print(sub)\n",
    "\n",
    "# Creating an instance of Student class\n",
    "student1 = Student([\"Math\", \"Science\", \"Data Science\", \"Statistics\"])\n",
    "\n",
    "# Displaying all books using the method\n",
    "student1.display()"
   ]
  },
  {
   "cell_type": "markdown",
   "metadata": {},
   "source": [
    "- Make a class named `Student` and has an `__init__` method serving as the constructor.\n",
    "- The constructor takes `subjects` as parameter, assigning it to `self.subjects` attribute within the class.\n",
    "- Create an object `student1` of the `Student` class with the list of subjects by pass this value to the constructor during object instantiation.\n",
    "- The `display()` method is then called on `student1` to showcase the assigned values for `subjects`."
   ]
  },
  {
   "cell_type": "markdown",
   "metadata": {},
   "source": [
    "### 18. What is the purpose of the `__del__` method in Python classes, and how does it relate to constructors?"
   ]
  },
  {
   "cell_type": "markdown",
   "metadata": {},
   "source": [
    "- The `__del__` method allows us to define actions that should be performed just before an object is destroyed or deallocated.\n",
    "- It's used to release resources, clase files, or perform any cleanup necessary before the object is removed from memory.\n",
    "- Python automatically invokes the `__del__` method when an object is about to be destroyed or garbage collected, typically when it goes out of scope or when there are no more references to it.\n",
    "<br><br><br>\n",
    "\n",
    "- `__del__` is the counterpart of constructors.\n",
    "- Constructors are called when an object is created to initialize its attributes and set up its initial state, but `__del__` is called just before an object is destroyed or deallocated, allowing us to perform necessary cleanup operations."
   ]
  },
  {
   "cell_type": "markdown",
   "metadata": {},
   "source": [
    "### 19. Explain the use of constructor chaining in Python. Provide a practical example."
   ]
  },
  {
   "cell_type": "markdown",
   "metadata": {},
   "source": [
    "- In Python, constructor chaining is a process of one constructor calling another constructor to reuse initialization logic or to ensure that common setup code is executed.\n",
    "- **For example:**\n",
    "```python\n",
    "class Parent:\n",
    "    def __init__(self, name):\n",
    "        self.name = name\n",
    "        print(\"Parent constructor\")\n",
    "\n",
    "class Child(Parent):\n",
    "    def __init__(self, name, age):\n",
    "        super().__init__(name)      # Calling the constructor of the Parent class\n",
    "        self.age = age\n",
    "        print(\"Child constructor\")\n",
    "\n",
    "# Creating an instance of the Child class\n",
    "child = Child(\"Raj\", 20)        # Output: Parent constructor \\nChild constructor\n",
    "```"
   ]
  },
  {
   "cell_type": "markdown",
   "metadata": {},
   "source": [
    "### 20. Create a Python class called `Car` with a default constructor that initializes the `make` and `model` attributes. Provide a method to display car information."
   ]
  },
  {
   "cell_type": "code",
   "execution_count": 15,
   "metadata": {},
   "outputs": [
    {
     "name": "stdout",
     "output_type": "stream",
     "text": [
      "This is a Tata Harrier model car.\n"
     ]
    }
   ],
   "source": [
    "# Create a class\n",
    "class Car:\n",
    "    def __init__(self, make=\"Unknown\", model=\"Unknown\"):\n",
    "        self.make = make\n",
    "        self.model = model\n",
    "    \n",
    "    def display(self):\n",
    "        print(f\"This is a {self.make} {self.model} model car.\")\n",
    "\n",
    "# Creating an instance of Car class\n",
    "car1 = Car(\"Tata\", \"Harrier\")\n",
    "\n",
    "# Displaying car make and model name using the method\n",
    "car1.display()"
   ]
  },
  {
   "cell_type": "markdown",
   "metadata": {},
   "source": [
    "- Make a class named `Car` and has an `__init__` method serving as the constructor.\n",
    "- The constructor takes `make` and `model` as default parameter, assigning it to `self.make` and `self.model` attributes within the class.\n",
    "- Create an object `car1` of the `Car` class with the make \"Tata\" (or you can pass noting) and model \"Harrier\" (or you can pass noting) by passing these values to the constructor during object instantiation.\n",
    "- The `display()` method is then called on `car1` to showcase the assigned values for `make` and `model`."
   ]
  },
  {
   "cell_type": "markdown",
   "metadata": {},
   "source": [
    "# Inheritance:"
   ]
  },
  {
   "cell_type": "markdown",
   "metadata": {},
   "source": [
    "### 1. What is inheritance in Python? Explain its significance in object-oriented programming."
   ]
  },
  {
   "cell_type": "markdown",
   "metadata": {},
   "source": [
    "- In Python, inheritance ifs a fundamental concept in object-oriented programming (OOP) that allows a new class to inherit attributes and methods from an existing class. This enables the creation of a hierarchy of classes where properties and behaviors of a parent class are passed down to it's subclasses.\n",
    "- **Significance of inheritance:**\n",
    "    - Inheritance facilitates code reuse by allowing subclasses to inherit and extend the functionality of their parent classes.\n",
    "    - It enables the creation of a hierarchical structure of classes, where classes are organized based on their relationships.\n",
    "    - Subclasses can add new attributes or methods and modify the inherited behavior from their superclass.\n",
    "    - This enables flexibility in writing code that can operate on objects of various related types without needing to know their specific class."
   ]
  },
  {
   "cell_type": "markdown",
   "metadata": {},
   "source": [
    "### 2. Differentiate between single inheritance and multiple inheritance in Python. Provide examples for each."
   ]
  },
  {
   "cell_type": "markdown",
   "metadata": {},
   "source": [
    "- **Single Inheritance:**\n",
    "    - Single inheritance in python refers to the scenario where a class inherits from only one parent class. This is simpler in terms of class hierarchy.\n",
    "    - *For example:*\n",
    "    ```python\n",
    "    class Vehicle:\n",
    "        def drive(self):\n",
    "            return \"Vehicle is being driven\"\n",
    "    \n",
    "    class Car:\n",
    "        def park(self):\n",
    "            return \"Car is parked\"\n",
    "\n",
    "    # Creating an instance of Car class\n",
    "    my_car = Car()\n",
    "\n",
    "    # Accessing methods from both classes\n",
    "    print(my_car.drive())       # Output: Vehicle is being driven\n",
    "    print(my_car.park())        # Output: Car is parked\n",
    "    ```\n",
    "- **Multiple Inheritance:**\n",
    "    - Multiple inheritance in python allows a class to inherit attributes and methods from more than one parent class. This can lead to complex in terms of class hierarchy.\n",
    "    - *For example:*\n",
    "    ```python\n",
    "    class A:\n",
    "        def method_A(self):\n",
    "            return \"Method A\"\n",
    "    \n",
    "    class B:\n",
    "        def method_B(self):\n",
    "            return \"Method B\"\n",
    "    \n",
    "    class C(A, B):      # Class C inherits from both A and B\n",
    "        def method_C(self):\n",
    "            return \"Method C\"\n",
    "\n",
    "    # Creating an instance of class C\n",
    "    obj = C()\n",
    "\n",
    "    # Accessing methods from all inherited classes\n",
    "    print(obj.method_A())       # Output: Method A\n",
    "    print(obj.method_B())       # Output: Method B\n",
    "    print(obj.method_C())       # Output: Method C\n",
    "    ```"
   ]
  },
  {
   "cell_type": "markdown",
   "metadata": {},
   "source": [
    "### 3. Create a Python class called `Vehicle` with attributes `color` and `speed`. Then, create a child class called `Car` that inherits from `Vehicle` and adds a `brand` attribute. Provide an example of creating a `Car` object."
   ]
  },
  {
   "cell_type": "code",
   "execution_count": 1,
   "metadata": {},
   "outputs": [
    {
     "name": "stdout",
     "output_type": "stream",
     "text": [
      "This is a red car with top speed 120\n",
      "This is a red ABC car with top speed 120\n"
     ]
    }
   ],
   "source": [
    "# Create a Vehicle class\n",
    "class Vehicle:\n",
    "    def __init__(self, color, speed):\n",
    "        self.color = color\n",
    "        self.speed = speed\n",
    "\n",
    "    def display(self):\n",
    "        print(f\"This is a {self.color} car with top speed {self.speed}\")\n",
    "\n",
    "# Create a Car class as child class of Vehicle class\n",
    "class Car(Vehicle):\n",
    "    def __init__(self, color, speed, brand):\n",
    "        super().__init__(color, speed)\n",
    "        self.brand = brand\n",
    "    \n",
    "    def display_car(self):\n",
    "        print(f\"This is a {self.color} {self.brand} car with top speed {self.speed}\")\n",
    "\n",
    "# Creating a Car object\n",
    "my_car = Car(\"red\", 120, \"ABC\")\n",
    "\n",
    "# Accessing attributes from both Vehicle and Car classes\n",
    "my_car.display()\n",
    "my_car.display_car()"
   ]
  },
  {
   "cell_type": "markdown",
   "metadata": {},
   "source": [
    "- The `Vehicle` class is the superclass with `color` and `speed` attributes initialized in its constructor.\n",
    "- The `Car` class is the subclass inheriting from `Vehicle` and extending it by adding the `brand` attribute in its own constructor.\n",
    "- When creating a `Car` object (`my_car`), the `__init__()` method of the `Vehicle` superclass is invoked using `super()` to initialize the inherited attributes (`color` and `speed`), and the `brand` attribute is set specifically for the `Car` class.\n",
    "- Finally, we access attributes of the `my_car` object, demonstrating how it possesses attributes from both the `Vehicle` superclass and the `Car` subclass."
   ]
  },
  {
   "cell_type": "markdown",
   "metadata": {},
   "source": [
    "### 4. Explain the concept of method overriding in inheritance. Provide a practical example."
   ]
  },
  {
   "cell_type": "markdown",
   "metadata": {},
   "source": [
    "- Method overriding in inheritance is the process of a subclass providing a specific implimentation of a method that is already define in its superclass.This allows a subclass to provide its own version of a method that has the same name, signature, and return type as a method in the superclass.\n",
    "- **Example:**\n",
    "```python\n",
    "class Animal:\n",
    "    def sound(self):\n",
    "        return \"Generic sound\"\n",
    "    \n",
    "class Dog(Animal):\n",
    "    def sound(self):\n",
    "        return \"Woof!\"      # Overrides the sound() method from the Animal class\n",
    "\n",
    "class Cat(Animal):\n",
    "    def sound(self):\n",
    "        return \"Meow!\"      # Overrides the sound() method from the Animal class\n",
    "\n",
    "# Creating instances of Dog and Cat\n",
    "dog1 = Dog()\n",
    "cat1 = Cat()\n",
    "\n",
    "# Accessing overridden methods\n",
    "print(dog1.sound())     # Output: Woof!\n",
    "print(cat1.sound())     # Output: Meow!\n",
    "```"
   ]
  },
  {
   "cell_type": "markdown",
   "metadata": {},
   "source": [
    "### 5. How can you access the methods and attributes of a parent class from a child class in Python? Give an example."
   ]
  },
  {
   "cell_type": "markdown",
   "metadata": {},
   "source": [
    "- In Python, we can access the methods and attributes of a parent class from a child class using the `super()` function. The `super()` function provides a way to call methods and access attributes of the superclass within the subclass.\n",
    "- **Example:**\n",
    "```python\n",
    "class Parent:\n",
    "    def __init__(self, parent_attr):\n",
    "        self.parent_attr = parent_attr\n",
    "\n",
    "    def parent_method(self):\n",
    "        return \"This is a method form the Parent class\"\n",
    "\n",
    "class Child(Parent):\n",
    "    def __init__(self, parent_attr, child_attr):\n",
    "        super().__init__(parent_attr)       # Accessing Parent's __init__ method\n",
    "        self.child_attr = child_attr\n",
    "    \n",
    "    def child_method(self):\n",
    "        return \"This is a method from the Child class\"\n",
    "    \n",
    "    def combined_method(self):\n",
    "        # Accessing Parent's method and attribute using super()\n",
    "        parent_method_result = super().parent_method()\n",
    "        return f\"Accessed from Child: {parent_method_result}, Parent attribute: {self.parent_attr}\"\n",
    "    \n",
    "    \n",
    "# Creating an instance of the Child class\n",
    "child_obj = Child(\"Parent attribute\", \"Child attribute\")\n",
    "\n",
    "# Accessing methods and attributes\n",
    "print(child_obj.child_method())     # Output: This is a method from the Child class\n",
    "print(child_obj.combined_method())      # Output: Accessed from Child: This is a method form the Parent class, Parent attribute: Parent attribute\n",
    "```"
   ]
  },
  {
   "cell_type": "markdown",
   "metadata": {},
   "source": [
    "### 6. Discuss the use of the `super()` function in Python inheritance. When and why is it used? Provide an example."
   ]
  },
  {
   "cell_type": "markdown",
   "metadata": {},
   "source": [
    "- The `super()` function in Python is primarily used in inheritance to access methods, attributes, and constructors of a superclass from a subclass.\n",
    "- When a subclass needs to initialize attributes inherited from its superclass, `super()` is used to call the superclass's constructor. `super()` allows a subclass to invoke the overriden method from the superclass when needed, enhancing code readability and maintainability. `super()` provides a clear and explicit way to access superclass functionality.\n",
    "- **Example:**\n",
    "```python\n",
    "class Parent:\n",
    "    def __init__(self, parent_attr):\n",
    "        self.parent_attr = parent_attr\n",
    "\n",
    "    def parent_method(self):\n",
    "        return \"This is a method form the Parent class\"\n",
    "\n",
    "class Child(Parent):\n",
    "    def __init__(self, parent_attr, child_attr):\n",
    "        super().__init__(parent_attr)       # Calling superclass constructor\n",
    "        self.child_attr = child_attr\n",
    "    \n",
    "    def combined_method(self):\n",
    "        parent_method_result = super().parent_method()      # Calling the superclass method\n",
    "        return f\"Accessed from Child: {parent_method_result}, Parent attribute: {self.parent_attr}\"\n",
    "    \n",
    "    \n",
    "# Creating an instance of the Child class\n",
    "child_obj = Child(\"Parent attribute\", \"Child attribute\")\n",
    "\n",
    "# Accessing superclass methods and attributes using super()\n",
    "print(child_obj.combined_method())      # Output: Accessed from Child: This is a method form the Parent class, Parent attribute: Parent attribute\n",
    "```"
   ]
  },
  {
   "cell_type": "markdown",
   "metadata": {},
   "source": [
    "### 7. Create a Python class called `Animal` with a method `speak()`. Then, create child classes `Dog` and `Cat` that inherit from `Animal` and override the `speak()` method. Provide an example of using these classes."
   ]
  },
  {
   "cell_type": "code",
   "execution_count": 4,
   "metadata": {},
   "outputs": [
    {
     "name": "stdout",
     "output_type": "stream",
     "text": [
      "Woof!\n",
      "Meow!\n"
     ]
    }
   ],
   "source": [
    "# Create a Animal class\n",
    "class Animal:\n",
    "    def speak(self):\n",
    "        return \"Generic Sound\"\n",
    "\n",
    "# Create Dog class\n",
    "class Dog(Animal):\n",
    "    def speak(self):\n",
    "        return \"Woof!\"      # Overrides the sound() method from the Animal class\n",
    "\n",
    "# Create Cat class\n",
    "class Cat(Animal):\n",
    "    def speak(self):\n",
    "        return \"Meow!\"      # Overrides the sound() method from the Animal class\n",
    "\n",
    "# Creating an instance of the child classes\n",
    "dog1 = Dog()\n",
    "cat1 = Cat()\n",
    "\n",
    "# Accessing Childclasses methods\n",
    "print(dog1.speak())\n",
    "print(cat1.speak())"
   ]
  },
  {
   "cell_type": "markdown",
   "metadata": {},
   "source": [
    "- `Animal` class defines a `sound()` method returning a generic sound.\n",
    "- `Dog` and `Cat` classes are subclasses of `Animal` and override the `sound()` method to provide their specific sounds.\n",
    "- When `sound()` is called on instances of `Dog` and `Cat`, their specific implementations defined in the subclasses are invoked due to overriding."
   ]
  },
  {
   "cell_type": "markdown",
   "metadata": {},
   "source": [
    "### 8. Explain the role of the `isinstance()` function in Python and how it relates to inheritance."
   ]
  },
  {
   "cell_type": "markdown",
   "metadata": {},
   "source": [
    "- The `isinstance()` function in Python is used to determine whether an object belongs to a particular class or any subclass derived from it. It checks if an object is an inheritance of a given class or any of its subclass in an inheritance hierarchy.\n",
    "- `isinstance()` allows you to check the type of an object, confirming whether it belongs to a specific class or its subclass. It's helpful in scenarios where you want to handle different types of objects but want to ensure they share a common base class or interface."
   ]
  },
  {
   "cell_type": "markdown",
   "metadata": {},
   "source": [
    "### 9. What is the purpose of the `issubclass()` function in Python? Provide an example."
   ]
  },
  {
   "cell_type": "markdown",
   "metadata": {},
   "source": [
    "- `issubclass()` helps in verifying the relationship between classes, determining if one class is a subclass of another.<br>\n",
    "It returns `True` if the first argument is a subclass of the second argument, otherwise `False`.\n",
    "- **Example:**\n",
    "```python\n",
    "class Vehicle:\n",
    "    pass\n",
    "\n",
    "class Car(Vehicle):\n",
    "    pass\n",
    "\n",
    "class Truck(Vehicle):\n",
    "    pass\n",
    "\n",
    "# Checking subclass relationships using issubclass()\n",
    "print(issubclass(Car, Vehicle))     # Output: True (Car is a subclass of Vehicle)\n",
    "print(issubclass(Truck, Vehicle))       # Output: True (Truck is a subclass of Vehicle)\n",
    "\n",
    "# Checking for direct subclass relationship\n",
    "print(issubclass(Car, Truck))       # Output: False ((Car is not a subclass of Truck))\n",
    "```"
   ]
  },
  {
   "cell_type": "markdown",
   "metadata": {},
   "source": [
    "### 10. Discuss the concept of constructor inheritance in Python. How are constructors inherited in child classes?"
   ]
  },
  {
   "cell_type": "markdown",
   "metadata": {},
   "source": [
    "- In Python, constructors are inherited by child classes from their parent classes, just like any other method. When a child class is created, it can inherit the constructor of its parent class if it doesn't explicitly define it's own constructor.\n",
    "- If the child class doesn't have it's own constructor, it inherits the constructor from its immediate parent class. If the child class defines its constructor, it won't automatically inherit the parent class's constructor unless explicitly called using `super().__init__()`."
   ]
  },
  {
   "cell_type": "markdown",
   "metadata": {},
   "source": [
    "### 11. Create a Python class called `Shape` with a method `area()` that calculates the area of a shape. Then, create child classes `Circle` and `Rectangle` that inherit from `Shape` and implement the `area()` method accordingly. Provide an example."
   ]
  },
  {
   "cell_type": "code",
   "execution_count": 24,
   "metadata": {},
   "outputs": [
    {
     "name": "stdout",
     "output_type": "stream",
     "text": [
      "Area of the circle: 28.274333882308138\n",
      "Area of the rectangle: 24\n"
     ]
    }
   ],
   "source": [
    "import math\n",
    "\n",
    "class Shape:\n",
    "    def area(self):\n",
    "        pass\n",
    "\n",
    "class Circle(Shape):\n",
    "    def __init__(self, radius):\n",
    "        self.radius = radius\n",
    "    \n",
    "    def area(self):\n",
    "        return math.pi * self.radius ** 2\n",
    "    \n",
    "class Rectangle(Shape):\n",
    "    def __init__(self, width, height):\n",
    "        self.width = width\n",
    "        self.height = height\n",
    "    \n",
    "    def area(self):\n",
    "        return self.width * self.height\n",
    "    \n",
    "\n",
    "# Creating instances of Circle and Rectangle\n",
    "circle1 = Circle(3)\n",
    "rectangle1 = Rectangle(4, 6)\n",
    "\n",
    "# Calculating and printing areas\n",
    "print(f\"Area of the circle: {circle1.area()}\")\n",
    "print(f\"Area of the rectangle: {rectangle1.area()}\")"
   ]
  },
  {
   "cell_type": "markdown",
   "metadata": {},
   "source": [
    "- `Shape` class defines a method `area()` that serves as a placeholder to be overridden by subclasses.\n",
    "- `Circle` and `Rectangle` classes inherit from `Shape` and provide their specific implementations of the `area()` method.\n",
    "- `Circle` calculates the area based on the formula for the area of a circle and `Rectangle` calculates it based on the formula for the area of a rectangle.\n",
    "- Instances of `Circle` and `Rectangle` are created, and their `area()` methods are invoked to calculate and print the respective areas."
   ]
  },
  {
   "cell_type": "markdown",
   "metadata": {},
   "source": [
    "### 12. Explain the use of abstract base classes (ABCs) in Python and how they relate to inheritance. Provide an example using the `abc` module."
   ]
  },
  {
   "cell_type": "markdown",
   "metadata": {},
   "source": [
    "- Abstract Base Classes (ABCs) in Python, available through the `abc` module, allow us to define abstract methods that must be implemented by their subclasses. They serve as a blueprint for other classes and are not meant to be instantiated directly.\n",
    "- ABCs can have abstract methods that don't have any implementation in the base class.<br>\n",
    "ABCs help in enforcing a particular interface that subclasses must provide, ensuring consistent behavior across different implementstions.<br>\n",
    "ABCs are meant to be inherited by subclasses, and they cannot be instantiated directly.\n",
    "- **Example:**\n",
    "```python\n",
    "from abc import ABC, abstractmethod\n",
    "\n",
    "class Shape(ABC):  # ABC as the base class\n",
    "    @abstractmethod\n",
    "    def area(self):\n",
    "        pass  # Abstract method to be implemented by subclasses\n",
    "\n",
    "class Circle(Shape):  # Inherits from Shape\n",
    "    def __init__(self, radius):\n",
    "        self.radius = radius\n",
    "\n",
    "    def area(self):\n",
    "        return 3.14 * self.radius**2\n",
    "\n",
    "# Attempting to create an instance of Shape (an ABC) - raises an error\n",
    "# shape = Shape()  # This will raise TypeError: Can't instantiate abstract class Shape with abstract method area\n",
    "\n",
    "# Creating an instance of Circle (a subclass of Shape)\n",
    "circle = Circle(5)\n",
    "\n",
    "# Calculating and printing the area\n",
    "print(f\"Area of the circle: {circle.area()}\")  # Output: Area of the circle: 78.5\n",
    "```"
   ]
  },
  {
   "cell_type": "markdown",
   "metadata": {},
   "source": [
    "### 13. How can you prevent a child class from modifying certain attributes or methods inherited from a parent class in Python?"
   ]
  },
  {
   "cell_type": "markdown",
   "metadata": {},
   "source": [
    "- Python uses name mangling to make an attribute or method \"private\" by appending `__` (double underscore) to be beginning of its name.\n",
    "- We can override methods in the child class and prevent modifications by providing an empty or restricted implementation.\n",
    "- Utilize properties to control access to attributes and implement custom getters/setters that enforce restrictions or validation."
   ]
  },
  {
   "cell_type": "markdown",
   "metadata": {},
   "source": [
    "### 14. Create a Python class called `Employee` with attributes `name` and `salary`. Then, create a child class `Manager` that inherits from `Employee` and adds an attribute `department`. Provide an example."
   ]
  },
  {
   "cell_type": "code",
   "execution_count": 27,
   "metadata": {},
   "outputs": [
    {
     "name": "stdout",
     "output_type": "stream",
     "text": [
      "Employee: Raj, Salary: 40000\n",
      "Manager: Dev, Salary: 70000, Department: HR\n"
     ]
    }
   ],
   "source": [
    "# Create an Employee class\n",
    "class Employee:\n",
    "    def __init__(self, name, salary):\n",
    "        self.name = name\n",
    "        self.salary = salary\n",
    "\n",
    "# Create Manager class as child of Employee class\n",
    "class Manager(Employee):\n",
    "    def __init__(self, name, salary, department):\n",
    "        super().__init__(name, salary)      # Calling the superclass constructor\n",
    "        self.department = department\n",
    "\n",
    "\n",
    "# Creating instances of Employee and Manager classes\n",
    "employee1 = Employee(\"Raj\", 40000)\n",
    "manager1 = Manager(\"Dev\", 70000, \"HR\")\n",
    "\n",
    "# Accessing attributes\n",
    "print(f\"Employee: {employee1.name}, Salary: {employee1.salary}\")\n",
    "print(f\"Manager: {manager1.name}, Salary: {manager1.salary}, Department: {manager1.department}\")"
   ]
  },
  {
   "cell_type": "markdown",
   "metadata": {},
   "source": [
    "- `Employee` class has attributes `name` and `salary` initialized in its constructor.\n",
    "- `Manager` class inherits from `Employee` and adds the `department` attribute in its constructor while invoking the superclass constructor using `super().__init__(name, salary)`.\n",
    "- Instances of `Employee` and `Manager` classes are created, and their attributes are accessed."
   ]
  },
  {
   "cell_type": "markdown",
   "metadata": {},
   "source": [
    "### 15. Discuss the concept of method overloading in Python inheritance. How does it differ from method overriding?"
   ]
  },
  {
   "cell_type": "markdown",
   "metadata": {},
   "source": [
    "- Method overloading refers to defining multiple methods in a class with the same name but different parameter signatures. Python doesn't support method overloading in the traditional sense, where we can define multiple methods with the same name but different parameters.\n",
    "- **Differences:**\n",
    "    - Method overloading involves defining multiple methods with the same name but different parameter signatures. Python doesn't support method overloading in the traditional way. But, Method overriding occurs when a subclass redefines a method inherited from its superclass.\n",
    "    - Method overloading considers the number of types of parameters to differentiate methods. But, Method overriding involves having the same method signature in both the superclass and subclass.\n",
    "    - Python doesn't support traditional method overloading. But, Python fully support method overriding."
   ]
  },
  {
   "cell_type": "markdown",
   "metadata": {},
   "source": [
    "### 16. Explain the purpose of the `__init__()` method in Python inheritance and how it is utilized in child classes."
   ]
  },
  {
   "cell_type": "markdown",
   "metadata": {},
   "source": [
    "- The `__init__()` method in Python is a special method known as the constructor. It's used to initialize objects of a class.\n",
    "- Inheritance allows child classes to inherit attributes and behaviours from their parent classes. The `__init__()` method in the parent class can initialize attributes specific to that class.<br>\n",
    "When a child class inherits from a parent class, it can call the parent class's `__init__()` method using `super().__init__()` to initialize attributes from the parent. THis ensures that both parent and child class attributes are properly initialized when creating objects of the child class."
   ]
  },
  {
   "cell_type": "markdown",
   "metadata": {},
   "source": [
    "### 17. Create a Python class called `Bird` with a method `fly()`. Then, create child classes `Eagle` and `Sparrow` that inherit from `Bird` and implement the `fly()` method differently. Provide an example of using these classes."
   ]
  },
  {
   "cell_type": "code",
   "execution_count": 28,
   "metadata": {},
   "outputs": [
    {
     "name": "stdout",
     "output_type": "stream",
     "text": [
      "Eagle: Flying at a high altitude\n",
      "Sparrow: Flying at a low altitude\n"
     ]
    }
   ],
   "source": [
    "class Bird:\n",
    "    def fly(self):\n",
    "        return \"Flying at a moderate altitude\"\n",
    "\n",
    "class Eagle(Bird):\n",
    "    def fly(self):\n",
    "        return \"Flying at a high altitude\"\n",
    "    \n",
    "class Sparrow(Bird):\n",
    "    def fly(self):\n",
    "        return \"Flying at a low altitude\"\n",
    "    \n",
    "\n",
    "# Creating instances of Egale and Sparrow\n",
    "eagle1 = Eagle()\n",
    "sparrow1 = Sparrow()\n",
    "\n",
    "# Using the fly() method for each bird\n",
    "print(f\"Eagle: {eagle1.fly()}\")\n",
    "print(f\"Sparrow: {sparrow1.fly()}\")"
   ]
  },
  {
   "cell_type": "markdown",
   "metadata": {},
   "source": [
    "- `Bird` class defines a `fly()` method with a generic implementation.\n",
    "- `Eagle` and `Sparrow` classes inherit from `Bird` and provide their specific implementations of the `fly()` method.\n",
    "- Instance of `Eagle` and `Sparrow` classes are created.\n",
    "- The `fly()` method is invoked for each instance, showing how different implementations of the `fly()` method are executed based on the specific bird class."
   ]
  },
  {
   "cell_type": "markdown",
   "metadata": {},
   "source": [
    "### 18. What is the \"diamond problem\" in multiple inheritance, and how does Python address it?"
   ]
  },
  {
   "cell_type": "markdown",
   "metadata": {},
   "source": [
    "- The \"diamond problem\" is a challenge that arises in programming languages that support multiple inheritance, where a class inherits from two or more classes that have a common ancestor.\n",
    "- Python uses the C3 Linearization algorithm to determine the order in which methods are resolved in the presence of multiple inheritance. The `super()` function fllows the `Method Resolution Order` and helps in invoking methods of the superclass in a way that respects the resolution order. Python provides the `mro()` method that allows inspecting the method resolution order for a class."
   ]
  },
  {
   "cell_type": "markdown",
   "metadata": {},
   "source": [
    "### 19. Discuss the concept of \"is-a\" and \"has-a\" relationships in inheritance, and provide examples of each."
   ]
  },
  {
   "cell_type": "markdown",
   "metadata": {},
   "source": [
    "- **`Is-a` Relationship:**\n",
    "    - The `is-a` relationship signifies inheritance, where a subclass \"is-a\" type of its superclass. It implies that a subclass shares characteristics and behaviors of its superclass.\n",
    "    - **Example:**\n",
    "    ```python\n",
    "    class Animal:\n",
    "        def make_sound(self):\n",
    "            pass\n",
    "    \n",
    "    class Dog(Animal):      # Dog \"is-a\" type of animal\n",
    "        def make_sound(self):\n",
    "            print(\"Woof!\")\n",
    "\n",
    "    # Creating an instance of Dog\n",
    "    dog = Dog()\n",
    "    dog.make_sound()        # Output: Woof!\n",
    "    ```\n",
    "- **`Has-a` Relationship:**\n",
    "    - The `has-a` relationship signifies composition, where a class contains an instance of another class as one of its attributes. It implies that a class \"has-a\" relationship with another class by virtue of containing an instance of that class.\n",
    "    - **Example:**\n",
    "    ```python\n",
    "    class Engine:\n",
    "        def start(self):\n",
    "            print(\"Engine started\")\n",
    "\n",
    "    class Car:\n",
    "        def __init__(self):\n",
    "            self.engine = Engine()      # Car \"has-a\" Engine\n",
    "        \n",
    "        def start_engine(self):\n",
    "            self.engine.start()\n",
    "\n",
    "    # Creating an instance of Car and starting the engine\n",
    "    car = Car()\n",
    "    car.start_engine()  # Output: Engine started\n",
    "    ```"
   ]
  },
  {
   "cell_type": "markdown",
   "metadata": {},
   "source": [
    "### 20. Create a Python class hierarchy for a university system. Start with a base class `Person` and create child classes `Student` and `Professor`, each with their own attributes and methods. Provide an example of using these classes in a university context."
   ]
  },
  {
   "cell_type": "code",
   "execution_count": 29,
   "metadata": {},
   "outputs": [
    {
     "name": "stdout",
     "output_type": "stream",
     "text": [
      "Rajdip enrolled in Data Science\n",
      "Rajdip enrolled in Electronics\n",
      "Dr. Swapan is teaching Advanced Electronics\n",
      "\n",
      "Student Information:\n",
      "Name: Rajdip, Age: 22\n",
      "\n",
      "Professor Information:\n",
      "Name: Dr. Swapan, Age: 45\n"
     ]
    }
   ],
   "source": [
    "# Create a parent class Person\n",
    "class Person:\n",
    "    def __init__(self, name, age):\n",
    "        self.name = name\n",
    "        self.age = age\n",
    "    \n",
    "    def __str__(self):\n",
    "        return f\"Name: {self.name}, Age: {self.age}\"\n",
    "\n",
    "# Create a child class Student\n",
    "class Student(Person):\n",
    "    def __init__(self, name, age, student_id):\n",
    "        super().__init__(name, age)\n",
    "        self.student_id = student_id\n",
    "        self.courses = []\n",
    "\n",
    "    def enroll(self, course):\n",
    "        self.courses.append(course)\n",
    "        print(f\"{self.name} enrolled in {course}\")\n",
    "\n",
    "# Create a child class Professor\n",
    "class Professor(Person):\n",
    "    def __init__(self, name, age, employee_id, department):\n",
    "        super().__init__(name, age)\n",
    "        self.employee_id = employee_id\n",
    "        self.department = department\n",
    "\n",
    "    def teach(self, course):\n",
    "        print(f\"{self.name} is teaching {course}\")\n",
    "\n",
    "\n",
    "# Example usage\n",
    "        \n",
    "# Creating instances of Student and Professor\n",
    "student1 = Student(\"Rajdip\", 22, \"S001\")\n",
    "professor1 = Professor(\"Dr. Swapan\", 45, \"P001\", \"Electronics\")\n",
    "\n",
    "# Enrolling student in courses\n",
    "student1.enroll(\"Data Science\")\n",
    "student1.enroll(\"Electronics\")\n",
    "\n",
    "# Professor teaching a course\n",
    "professor1.teach(\"Advanced Electronics\")\n",
    "\n",
    "# Displaying information\n",
    "print(\"\\nStudent Information:\")\n",
    "print(student1)\n",
    "\n",
    "print(\"\\nProfessor Information:\")\n",
    "print(professor1)"
   ]
  },
  {
   "cell_type": "markdown",
   "metadata": {},
   "source": [
    "- `Person` is the base class representing common attributes like `name` name `age`.\n",
    "- `Student` and `Professor` are child classes inheriting from `Person`.\n",
    "- `Student` has attributes like `student_id` and a method `enroll()` to enroll in courses.\n",
    "- `Professor` has attributes like `employee_id`, `department`, and a method `teach()` to teach a course.\n",
    "- Example usage demonstrates creating instances of `Student` and `Professor`, enrolling the student in courses, and the professor teaching a course."
   ]
  },
  {
   "cell_type": "markdown",
   "metadata": {},
   "source": [
    "# Encapsulation:"
   ]
  },
  {
   "cell_type": "markdown",
   "metadata": {},
   "source": [
    "### 1. Explain the concept of encapsulation in Python. What is its role in object-oriented programming?"
   ]
  },
  {
   "cell_type": "markdown",
   "metadata": {},
   "source": [
    "- `Encapsulation` is a fundamental principle in object-oriented programmming (OOP) that involves bundling data and the methods that operate on the data within a single unit.<br>\n",
    "In Python, encapsulation is implemented using access modifiers.\n",
    "    - **Public:** Attributes and methods are accessible from outside the class. The can be accessed using the dot notation (e.g., `object.attribute` or `object.method()`).\n",
    "    - **Protected:** Attributes and methods are intended to be accessed only within the class itself. They are denoted by prefix an underscore(`_`) to the attribute or method name (e.g., `_attribute` or `_method()`).\n",
    "    - **Private:** Attributes and methods have limited accessibility. They are denoted by prefix duble underscore(`__`) to the attribute or method name (e.g., `__attribute` or `__method()`). While not entirely private like in some other languages, Python uses `name mangling` to make accessing these attributes slightly more difficult.\n",
    "\n",
    "- It restricts direct access to certain parts of an object, which helps prevent accidental modifications and enforces controlled access through methods. Encapsulation allows us to hide the internal workings of an object and expose only what's necessary. Encapsulation promotes modularity by allowing changes within a class without affecting the rest of the code."
   ]
  },
  {
   "cell_type": "markdown",
   "metadata": {},
   "source": [
    "### 2. Describe the key principles of encapsulation, including access control and data hiding."
   ]
  },
  {
   "cell_type": "markdown",
   "metadata": {},
   "source": [
    "- **Access Control:**\n",
    "    - **Public:** Attributes and methods are accessible from outside the class. The can be accessed using the dot notation (e.g., `object.attribute` or `object.method()`).\n",
    "    - **Protected:** Attributes and methods are intended to be accessed only within the class itself. They are denoted by prefix an underscore(`_`) to the attribute or method name (e.g., `_attribute` or `_method()`).\n",
    "    - **Private:** Attributes and methods have limited accessibility. They are denoted by prefix duble underscore(`__`) to the attribute or method name (e.g., `__attribute` or `__method()`). While not entirely private like in some other languages, Python uses `name mangling` to make accessing these attributes slightly more difficult.\n",
    "- **Data Hiding:**\n",
    "    - **Encapsulation of Data:** Encapsulation involves bundling data and methods that operate on the data within a single unit.\n",
    "    - **Private State:** By making certain attributes as private, encapsulation hides the internal state of an object from outside interface.\n",
    "    - **Abstraction:** Encapsulation enables abstraction by hiding the complex implementation details and exposing only the necessary functionalities to interact with an object."
   ]
  },
  {
   "cell_type": "markdown",
   "metadata": {},
   "source": [
    "### 3. How can you achieve encapsulation in Python classes? Provide an example."
   ]
  },
  {
   "cell_type": "markdown",
   "metadata": {},
   "source": [
    "- In python, encapsulation can be achieved by using access modifiers and conventions to control the visibility of attributes and methods within a class.\n",
    "- **For example:**\n",
    "```python\n",
    "class EncapsulationExample:\n",
    "    def __init__(self):\n",
    "        self.public_var = 10        # Public variable\n",
    "        self._protected_var = 20      # Protected variable\n",
    "        self.__private_var = 30       # Private variable\n",
    "    \n",
    "    # Public method\n",
    "    def public_method(self):\n",
    "        print(\"This is a public method.\")\n",
    "\n",
    "    # Protected method\n",
    "    def _protected_method(self):\n",
    "        print(\"This is a protected method.\")\n",
    "\n",
    "    # Private method\n",
    "    def __private_method(self):\n",
    "        print(\"This is a private method.\")\n",
    "\n",
    "\n",
    "# Creating an instance of the class\n",
    "obj = EncapsulationExample()\n",
    "\n",
    "# Accessing public variables and methods\n",
    "print(obj.public_var)       # Output: 10\n",
    "obj.public_method()        # Output: This is a public method.\n",
    "\n",
    "# Accessing protected variables and methods (convention)\n",
    "print(obj._protected_var)     # Output: 20\n",
    "obj._protected_method()      # Output: This is a protected method.\n",
    "\n",
    "# Accessing private variables and methods (name mangling)\n",
    "# Accessing variables and methods directly using the mangled name will throw an AttributeError\n",
    "try:\n",
    "    print(obj.__private_var)      # This will throw an AttributeError\n",
    "except AttributeError as a:\n",
    "    print(a)\n",
    "\n",
    "try:\n",
    "    obj.__private_method()        # This will throw an AttributeError\n",
    "except AttributeError as a:\n",
    "    print(a)\n",
    "```"
   ]
  },
  {
   "cell_type": "markdown",
   "metadata": {},
   "source": [
    "### 4. Discuss the difference between public, private, and protected access modifiers in Python."
   ]
  },
  {
   "cell_type": "markdown",
   "metadata": {},
   "source": [
    "- **Public:**\n",
    "    * Denoted by default; no specific syntax required.\n",
    "    * Attributes and methods without any prefix are considered public byconvention.\n",
    "    * Public attributes and methods are accessible from outside the class and can be freely accessed and modified.\n",
    "\n",
    "- **Protected:**\n",
    "    * Denoted by prefixing an underscore(`_`) to the attribute or method name.\n",
    "    * It's more of a convention; Python doesn't strictly enforce this access level.\n",
    "    * Private attributes and methods are intended to be accesses only within the class itself. They are not directly accessible from outside of the class.\n",
    "\n",
    "- **Private:**\n",
    "    * Denoted by using a double underscore(`__`) prefix to the attribute or method name.\n",
    "    * Name mangling is used to make these attributes slightly more difficult to access from outside the class. The names are altered to `_ClassName__variableName`.\n",
    "    * Protected attributes and methods are intended to be accessed within the class itself and its subclasses. They are a way to indicate that they should be treated as non-public parts of the class."
   ]
  },
  {
   "cell_type": "markdown",
   "metadata": {},
   "source": [
    "### 5. Create a Python class called `Person` with a private attribute `__name`. Provide methods to get and set the name attribute."
   ]
  },
  {
   "cell_type": "code",
   "execution_count": 31,
   "metadata": {},
   "outputs": [
    {
     "name": "stdout",
     "output_type": "stream",
     "text": [
      "Rajdip\n",
      "Dev\n"
     ]
    }
   ],
   "source": [
    "# Create the class\n",
    "class Person:\n",
    "    def __init__(self, name):\n",
    "        self.__name = name      # Private attribute\n",
    "    \n",
    "    def get_name(self):\n",
    "        return self.__name      # Getter method to get the name\n",
    "    \n",
    "    def set_name(self, new_name):\n",
    "        self.__name = new_name      # Setter method to set the name\n",
    "\n",
    "\n",
    "# Creating an instance of the Person class\n",
    "person1 = Person(\"Rajdip\")\n",
    "\n",
    "# Get the name using getter method\n",
    "print(person1.get_name())\n",
    "\n",
    "# Set the name using setter method\n",
    "person1.set_name(\"Dev\")\n",
    "\n",
    "# Get the new name using getter method\n",
    "print(person1.get_name())"
   ]
  },
  {
   "cell_type": "markdown",
   "metadata": {},
   "source": [
    "- The `__init__` method initializes the private attribute `__name` when an object of the `Person` class is created.\n",
    "- `get_name` is a getter method that retrieves the value of the private `__name` attribute.\n",
    "- `set_name` is a setter method that allows changing the value of the private `__name` attribute."
   ]
  },
  {
   "cell_type": "markdown",
   "metadata": {},
   "source": [
    "### 6. Explain the purpose of getter and setter methods in encapsulation. Provide examples."
   ]
  },
  {
   "cell_type": "markdown",
   "metadata": {},
   "source": [
    "- **Purpose of Getter Methods:** Getter methods are used to retrieve the values of private attributes. They allow controlled access to retrieve the values of attributes while encapsulating the internal representation of the data.\n",
    "- **Purpose of Setter Methods:** Setter methods are used to modify or set the values of private attributes. They enable controlled modification of attribute values by incorporating validation, constraints, or additional logic before assigning new values to the attribute.\n",
    "- **Example:**\n",
    "```python\n",
    "class Person:\n",
    "    def __init__(self, name):\n",
    "        self.__name = name      # Private attribute\n",
    "    \n",
    "    def get_name(self):\n",
    "        return self.__name      # Getter method to get the name\n",
    "    \n",
    "    def set_name(self, new_name):\n",
    "        self.__name = new_name      # Setter method to set the name\n",
    "\n",
    "\n",
    "# Creating an instance of the Person class\n",
    "person1 = Person(\"Rajdip\")\n",
    "\n",
    "# Get the name using getter method\n",
    "print(person1.get_name())       # Output: Rajdip\n",
    "\n",
    "# Set the name using setter method\n",
    "person1.set_name(\"Dev\")\n",
    "\n",
    "# Get the new name using getter method\n",
    "print(person1.get_name())       # Output: Dev\n",
    "```"
   ]
  },
  {
   "cell_type": "markdown",
   "metadata": {},
   "source": [
    "### 7. What is name mangling in Python, and how does it affect encapsulation?"
   ]
  },
  {
   "cell_type": "markdown",
   "metadata": {},
   "source": [
    "- `Name mangling` in Python is a mechanism that modifies the names of attributes or methods of a class to make them less accessible form outside the class. This is primarily used to create a form of \"pseudo-private\" attributes or methods.\n",
    "- Name mangling affects encapsulation by altering the attribute or method names in a way that makes them less readable and more challenging to access from outside the class."
   ]
  },
  {
   "cell_type": "markdown",
   "metadata": {},
   "source": [
    "### 8. Create a Python class called `BankAccount` with private attributes for the account balance (`__balance`) and account number (`__account_number`). Provide methods for depositing and withdrawing money."
   ]
  },
  {
   "cell_type": "code",
   "execution_count": 33,
   "metadata": {},
   "outputs": [
    {
     "name": "stdout",
     "output_type": "stream",
     "text": [
      "Account number: 123456789\n",
      "Balance: 6000\n",
      "2000 deposited successfully. Current balance: 8000\n",
      "Withdrawn 2500. Current balance: 5500\n",
      "1700 deposited successfully. Current balance: 7200\n",
      "Withdrawn 6000. Current balance: 1200\n",
      "Account number: 123456789\n",
      "Balance: 1200\n",
      "'BankAccount' object has no attribute '__balance'\n"
     ]
    }
   ],
   "source": [
    "# Create a BankAccount class\n",
    "class BankAccount:\n",
    "    def __init__(self, account_number, balance = 0):\n",
    "        self.__account_number = account_number\n",
    "        self.__balance = balance\n",
    "\n",
    "    # Create a method for get the balance\n",
    "    def get_balance(self):\n",
    "        return self.__balance\n",
    "    \n",
    "    # Create a method for get the account number\n",
    "    def get_account_number(self):\n",
    "        return self.__account_number\n",
    "    \n",
    "    # Create a method for deposit amount\n",
    "    def deposit(self, amount):\n",
    "        if amount > 0:\n",
    "            self.__balance += amount\n",
    "            print(f\"{amount} deposited successfully. Current balance: {self.__balance}\")\n",
    "        else:\n",
    "            print(\"Deposit amount should be greater than zero.\")\n",
    "    \n",
    "    # Create a method for withdraw amount\n",
    "    def withdraw(self, amount):\n",
    "        if amount > 0:\n",
    "            if amount <= self.__balance:\n",
    "                self.__balance -= amount\n",
    "                print(f\"Withdrawn {amount}. Current balance: {self.__balance}\")\n",
    "            else:\n",
    "                print(\"Insufficient funds.\")\n",
    "        else:\n",
    "            print(\"Withdrawal amount should be greater than zero.\")\n",
    "\n",
    "\n",
    "# Creating a BankAccount instance\n",
    "account = BankAccount(account_number=\"123456789\", balance=6000)\n",
    "\n",
    "# Accessing private attributes via getter methods\n",
    "print(f\"Account number: {account.get_account_number()}\")\n",
    "print(f\"Balance: {account.get_balance()}\")\n",
    "\n",
    "# Making deposits and withdrawals\n",
    "account.deposit(2000)\n",
    "account.withdraw(2500)\n",
    "account.deposit(1700)\n",
    "account.withdraw(6000)\n",
    "\n",
    "# Accessing private attributes via getter methods\n",
    "print(f\"Account number: {account.get_account_number()}\")\n",
    "print(f\"Balance: {account.get_balance()}\")\n",
    "\n",
    "# Trying to access private attributes directly\n",
    "try:\n",
    "    print(account.__balance)\n",
    "except AttributeError as a:\n",
    "    print(a)"
   ]
  },
  {
   "cell_type": "markdown",
   "metadata": {},
   "source": [
    "- The `__init__` method initializes the private attributes `__account_number` and `__balance` when an object of the class is created.\n",
    "- `deposit` and `withdraw` methods allow for depositing and withdrawing funds from the account, respectively, with appropriate checks for valid amounts and available balance.\n",
    "- `get_balance` and `get_account_number` methods serves as getter methods to retrieve the private attributes."
   ]
  },
  {
   "cell_type": "markdown",
   "metadata": {},
   "source": [
    "### 9. Discuss the advantages of encapsulation in terms of code maintainability and security."
   ]
  },
  {
   "cell_type": "markdown",
   "metadata": {},
   "source": [
    "- Encapsulation promotes modularity by hiding the internal workings of an object behind an interface.\n",
    "- Encapsulation allows for easier maintenance and updates. Modifying the internal implementation of a class doesn't affect the code that uses the class, as long as the interface remains consistent.\n",
    "- Encapsulation restricts direct access to certain parts of an object by making attributes or methods private or protected. This prevents external code from modifying the object's state arbitrarily, reducing the chance of unintentional errors or malicious manipulation.\n",
    "- Encapsulation enables controlled access through public interfaces, allowing validation, error-checking, or additional logic to be applied before accessing or modifying the data. This helps in ensuring data integrity and security."
   ]
  },
  {
   "cell_type": "markdown",
   "metadata": {},
   "source": [
    "### 10. How can you access private attributes in Python? Provide an example demonstrating the use of name mangling."
   ]
  },
  {
   "cell_type": "markdown",
   "metadata": {},
   "source": [
    "- In Python, private attributes are intended to be accessed and modified within the class that defines them. However, it's posiible to access private attributes outside the class using name mangling. Name mangling is a technique where Python internally changes the name of a private attribute to include the class name as a prefix.\n",
    "- **Example:**\n",
    "```python\n",
    "class MyClass:\n",
    "    def __init__(self):\n",
    "        self.__private_var = 10     # Private attribute with name mangling\n",
    "\n",
    "# Creating an instance of the class\n",
    "obj = MyClass()\n",
    "\n",
    "# Accessing the private attribute using name mangling\n",
    "print(obj._MyClass__private_var)        # Output: 10\n",
    "```"
   ]
  },
  {
   "cell_type": "markdown",
   "metadata": {},
   "source": [
    "### 11. Create a Python class hierarchy for a school system, including classes for students, teachers, and courses, and implement encapsulation principles to protect sensitive information."
   ]
  },
  {
   "cell_type": "code",
   "execution_count": 10,
   "metadata": {},
   "outputs": [
    {
     "name": "stdout",
     "output_type": "stream",
     "text": [
      "Rajdip (ID: S001)\n",
      "21\n",
      "['Course: MATH001 - Mathematics', 'Course: COMS002 - Data Science']\n",
      "Sudh (Emp ID: E001)\n",
      "37\n",
      "['Course: COMS002 - Data Science', 'Course: COMS001 - Computer Science']\n"
     ]
    }
   ],
   "source": [
    "# Create a Course class\n",
    "class Course:\n",
    "    def __init__(self, course_code, course_name):\n",
    "        self.__course_code = course_code        # Private attribute for course code\n",
    "        self.__course_name = course_name        # Private attribute for course name\n",
    "    \n",
    "    # Create a method for get course details\n",
    "    def get_course_details(self):\n",
    "        return f\"Course: {self.__course_code} - {self.__course_name}\"\n",
    "\n",
    "# Create a Person class\n",
    "class Person:\n",
    "    def __init__(self, name, age):\n",
    "        self.__name = name      # Private attribute for name\n",
    "        self.__age = age        # Private attribute for age\n",
    "\n",
    "    # Create a method for get person name\n",
    "    def get_name(self):\n",
    "        return self.__name\n",
    "    \n",
    "    # Create a method for get person's age\n",
    "    def get_age(self):\n",
    "        return self.__age\n",
    "\n",
    "# Create a Student class as child of Person class\n",
    "class Student(Person):\n",
    "    def __init__(self, name, age, student_id):\n",
    "        super().__init__(name, age)\n",
    "        self.__student_id = student_id      # Private attribute for student ID\n",
    "        self.__course_enrolled = []     # Private attribute for enrolled courses\n",
    "    \n",
    "    # Create a method for enroll a course\n",
    "    def enroll_course(self, course):\n",
    "        self.__course_enrolled.append(course)\n",
    "\n",
    "    # Create a method for get all enrolled courses\n",
    "    def get_enroll_course(self):\n",
    "        return [course.get_course_details() for course in self.__course_enrolled]\n",
    "\n",
    "    # Overriding the get_name method to include student ID\n",
    "    def get_name(self):\n",
    "        return f\"{super().get_name()} (ID: {self.__student_id})\"\n",
    "        \n",
    "# Create a Teacher class as child of Person class\n",
    "class Teacher(Person):\n",
    "    def __init__(self, name, age, employee_id):\n",
    "        super().__init__(name, age)\n",
    "        self.__employee_id = employee_id      # Private attribute for employee ID\n",
    "        self.__courses_teach = []        # Private attribute for taught courses\n",
    "\n",
    "    # Create a method for assign a course on a teacher\n",
    "    def assign_course(self, course):\n",
    "        self.__courses_teach.append(course)\n",
    "\n",
    "    # Create a method for get all assigned courses\n",
    "    def get_assign_course(self):\n",
    "        return [course.get_course_details() for course in self.__courses_teach]\n",
    "\n",
    "    # Overriding the get_name method to include employee ID\n",
    "    def get_name(self):\n",
    "        return f\"{super().get_name()} (Emp ID: {self.__employee_id})\"\n",
    "\n",
    "\n",
    "# Creating instances of the cources\n",
    "math_course = Course(\"MATH001\", \"Mathematics\")\n",
    "physics_course = Course(\"PHY001\", \"Physics\")\n",
    "comp_course = Course(\"COMS001\", \"Computer Science\")\n",
    "ds_course = Course(\"COMS002\", \"Data Science\")\n",
    "\n",
    "# Create a student\n",
    "student1 = Student(\"Rajdip\", 21, \"S001\")\n",
    "student1.enroll_course(math_course)\n",
    "student1.enroll_course(ds_course)\n",
    "\n",
    "# Create a teacher\n",
    "teacher1 = Teacher(\"Sudh\", 37, \"E001\")\n",
    "teacher1.assign_course(ds_course)\n",
    "teacher1.assign_course(comp_course)\n",
    "\n",
    "\n",
    "# Print all details about student and teacher\n",
    "print(student1.get_name())\n",
    "print(student1.get_age())\n",
    "print(student1.get_enroll_course())\n",
    "print(teacher1.get_name())\n",
    "print(teacher1.get_age())\n",
    "print(teacher1.get_assign_course())"
   ]
  },
  {
   "cell_type": "markdown",
   "metadata": {},
   "source": [
    "- The `Course` class represents a course with private attributes `__course_code` and `__course_name`.\n",
    "- The`Person` class serves as a base class for `Student` and `Teacher`, encapsulating private attributes `__name` and `__age`.\n",
    "- The `Student` class inherits from `Person` and includes private attributes for `__student_id` and `__course_enrolled`.\n",
    "- The `Teacher` class inherits from `Person` and includes private attributes for `__employee_id` and `__courses_teach`.\n",
    "- Getter methods are provided to access information while encapsulating the private attributes."
   ]
  },
  {
   "cell_type": "markdown",
   "metadata": {},
   "source": [
    "### 12. Explain the concept of property decorators in Python and how they relate to encapsulation."
   ]
  },
  {
   "cell_type": "markdown",
   "metadata": {},
   "source": [
    "### 13. What is data hiding, and why is it important in encapsulation? Provide examples."
   ]
  },
  {
   "cell_type": "markdown",
   "metadata": {},
   "source": [
    "### 14. Create a Python class called `Employee` with private attributes for salary (`__salary`) and employee ID (`__employee_id`). Provide a method to calculate yearly bonuses."
   ]
  },
  {
   "cell_type": "markdown",
   "metadata": {},
   "source": [
    "### 15. Discuss the use of accessors and mutators in encapsulation. How do they help maintain control over attribute access?"
   ]
  },
  {
   "cell_type": "markdown",
   "metadata": {},
   "source": [
    "### 16. What are the potential drawbacks or disadvantages of using encapsulation in Python?"
   ]
  },
  {
   "cell_type": "markdown",
   "metadata": {},
   "source": [
    "### 17. Create a Python class for a library system that encapsulates book information, including titles, authors, and availability status."
   ]
  },
  {
   "cell_type": "markdown",
   "metadata": {},
   "source": [
    "### 18. Explain how encapsulation enhances code reusability and modularity in Python programs."
   ]
  },
  {
   "cell_type": "markdown",
   "metadata": {},
   "source": [
    "### 19. Describe the concept of information hiding in encapsulation. Why is it essential in software development?"
   ]
  },
  {
   "cell_type": "markdown",
   "metadata": {},
   "source": [
    "### 20. Create a Python class called `Customer` with private attributes for customer details like name, address, and contact information. Implement encapsulation to ensure data integrity and security."
   ]
  },
  {
   "cell_type": "markdown",
   "metadata": {},
   "source": [
    "# Polymorphism:"
   ]
  },
  {
   "cell_type": "markdown",
   "metadata": {},
   "source": [
    "### 1. What is polymorphism in Python? Explain how it is related to object-oriented programming."
   ]
  },
  {
   "cell_type": "markdown",
   "metadata": {},
   "source": [
    "### 2. Describe the difference between compile-time polymorphism and runtime polymorphism in Python."
   ]
  },
  {
   "cell_type": "markdown",
   "metadata": {},
   "source": [
    "### 3. Create a Python class hierarchy for shapes (e.g., circle, square, triangle) and demonstrate polymorphism through a common method, such as `calculate_area()`."
   ]
  },
  {
   "cell_type": "markdown",
   "metadata": {},
   "source": [
    "### 4. Explain the concept of method overriding in polymorphism. Provide an example."
   ]
  },
  {
   "cell_type": "markdown",
   "metadata": {},
   "source": [
    "### 5. How is polymorphism different from method overloading in Python? Provide examples for both."
   ]
  },
  {
   "cell_type": "markdown",
   "metadata": {},
   "source": [
    "### 6. Create a Python class called `Animal` with a method `speak()`. Then, create child classes like `Dog`, `Cat`, and `Bird`, each with their own `speak()` method. Demonstrate polymorphism by calling the `speak()` method on objects of different subclasses."
   ]
  },
  {
   "cell_type": "markdown",
   "metadata": {},
   "source": [
    "### 7. Discuss the use of abstract methods and classes in achieving polymorphism in Python. Provide an example using the `abc` module."
   ]
  },
  {
   "cell_type": "markdown",
   "metadata": {},
   "source": [
    "### 8. Create a Python class hierarchy for a vehicle system (e.g., car, bicycle, boat) and implement a polymorphic `start()` method that prints a message specific to each vehicle type."
   ]
  },
  {
   "cell_type": "markdown",
   "metadata": {},
   "source": [
    "### 9. Explain the significance of the `isinstance()` and `issubclass()` functions in Python polymorphism."
   ]
  },
  {
   "cell_type": "markdown",
   "metadata": {},
   "source": [
    "### 10. What is the role of the `@abstractmethod` decorator in achieving polymorphism in Python? Provide an example."
   ]
  },
  {
   "cell_type": "markdown",
   "metadata": {},
   "source": [
    "### 11. Create a Python class called `Shape` with a polymorphic method `area()` that calculates the area of different shapes (e.g., circle, rectangle, triangle)."
   ]
  },
  {
   "cell_type": "markdown",
   "metadata": {},
   "source": [
    "### 12. Discuss the benefits of polymorphism in terms of code reusability and flexibility in Python programs."
   ]
  },
  {
   "cell_type": "markdown",
   "metadata": {},
   "source": [
    "### 13. Explain the use of the `super()` function in Python polymorphism. How does it help call methods of parent classes?"
   ]
  },
  {
   "cell_type": "markdown",
   "metadata": {},
   "source": [
    "### 14. Create a Python class hierarchy for a banking system with various account types (e.g., savings, checking, credit card) and demonstrate polymorphism by implementing a common `withdraw()` method."
   ]
  },
  {
   "cell_type": "markdown",
   "metadata": {},
   "source": [
    "### 15. Describe the concept of operator overloading in Python and how it relates to polymorphism. Provide examples using operators like `+` and `*`."
   ]
  },
  {
   "cell_type": "markdown",
   "metadata": {},
   "source": [
    "### 16. What is dynamic polymorphism, and how is it achieved in Python?"
   ]
  },
  {
   "cell_type": "markdown",
   "metadata": {},
   "source": [
    "### 17. Create a Python class hierarchy for employees in a company (e.g., manager, developer, designer) and implement polymorphism through a common `calculate_salary()` method."
   ]
  },
  {
   "cell_type": "markdown",
   "metadata": {},
   "source": [
    "### 18. Discuss the concept of function pointers and how they can be used to achieve polymorphism in Python."
   ]
  },
  {
   "cell_type": "markdown",
   "metadata": {},
   "source": [
    "### 19. Explain the role of interfaces and abstract classes in polymorphism, drawing comparisons between them."
   ]
  },
  {
   "cell_type": "markdown",
   "metadata": {},
   "source": [
    "### 20. Create a Python class for a zoo simulation, demonstrating polymorphism with different animal types (e.g., mammals, birds, reptiles) and their behavior (e.g., eating, sleeping, making sounds)."
   ]
  },
  {
   "cell_type": "markdown",
   "metadata": {},
   "source": [
    "# Abstraction:"
   ]
  },
  {
   "cell_type": "markdown",
   "metadata": {},
   "source": [
    "### 1. What is abstraction in Python, and how does it relate to object-oriented programming?"
   ]
  },
  {
   "cell_type": "markdown",
   "metadata": {},
   "source": [
    "### 2. Describe the benefits of abstraction in terms of code organization and complexity reduction."
   ]
  },
  {
   "cell_type": "markdown",
   "metadata": {},
   "source": [
    "### 3. Create a Python class called `Shape` with an abstract method `calculate_area()`. Then, create child classes (e.g., `Circle`, `Rectangle`) that implement the `calculate_area()` method. Provide an example of using these classes."
   ]
  },
  {
   "cell_type": "markdown",
   "metadata": {},
   "source": [
    "### 4. Explain the concept of abstract classes in Python and how they are defined using the `abc` module. Provide an example."
   ]
  },
  {
   "cell_type": "markdown",
   "metadata": {},
   "source": [
    "### 5. How do abstract classes differ from regular classes in Python? Discuss their use cases."
   ]
  },
  {
   "cell_type": "markdown",
   "metadata": {},
   "source": [
    "### 6. Create a Python class for a bank account and demonstrate abstraction by hiding the account balance and providing methods to deposit and withdraw funds."
   ]
  },
  {
   "cell_type": "markdown",
   "metadata": {},
   "source": [
    "### 7. Discuss the concept of interface classes in Python and their role in achieving abstraction."
   ]
  },
  {
   "cell_type": "markdown",
   "metadata": {},
   "source": [
    "### 8. Create a Python class hierarchy for animals and implement abstraction by defining common methods (e.g., `eat()`, `sleep()`) in an abstract base class."
   ]
  },
  {
   "cell_type": "markdown",
   "metadata": {},
   "source": [
    "### 9. Explain the significance of encapsulation in achieving abstraction. Provide examples."
   ]
  },
  {
   "cell_type": "markdown",
   "metadata": {},
   "source": [
    "### 10. What is the purpose of abstract methods, and how do they enforce abstraction in Python classes?"
   ]
  },
  {
   "cell_type": "markdown",
   "metadata": {},
   "source": [
    "### 11. Create a Python class for a vehicle system and demonstrate abstraction by defining common methods (e.g., `start()`, `stop()`) in an abstract base class."
   ]
  },
  {
   "cell_type": "markdown",
   "metadata": {},
   "source": [
    "### 12. Describe the use of abstract properties in Python and how they can be employed in abstract classes."
   ]
  },
  {
   "cell_type": "markdown",
   "metadata": {},
   "source": [
    "### 13. Create a Python class hierarchy for employees in a company (e.g., manager, developer, designer) and implement abstraction by defining a common `get_salary()` method."
   ]
  },
  {
   "cell_type": "markdown",
   "metadata": {},
   "source": [
    "### 14. Discuss the differences between abstract classes and concrete classes in Python, including their instantiation."
   ]
  },
  {
   "cell_type": "markdown",
   "metadata": {},
   "source": [
    "### 15. Explain the concept of abstract data types (ADTs) and their role in achieving abstraction in Python."
   ]
  },
  {
   "cell_type": "markdown",
   "metadata": {},
   "source": [
    "### 16. Create a Python class for a computer system, demonstrating abstraction by defining common methods (e.g., `power_on()`, `shutdown()`) in an abstract base class."
   ]
  },
  {
   "cell_type": "markdown",
   "metadata": {},
   "source": [
    "### 17. Discuss the benefits of using abstraction in large-scale software development projects."
   ]
  },
  {
   "cell_type": "markdown",
   "metadata": {},
   "source": [
    "### 18. Explain how abstraction enhances code reusability and modularity in Python programs."
   ]
  },
  {
   "cell_type": "markdown",
   "metadata": {},
   "source": [
    "### 19. Create a Python class for a library system, implementing abstraction by defining common methods (e.g., `add_book()`, `borrow_book()`) in an abstract base class."
   ]
  },
  {
   "cell_type": "markdown",
   "metadata": {},
   "source": [
    "### 20. Describe the concept of method abstraction in Python and how it relates to polymorphism."
   ]
  },
  {
   "cell_type": "markdown",
   "metadata": {},
   "source": [
    "# Composition:"
   ]
  },
  {
   "cell_type": "markdown",
   "metadata": {},
   "source": [
    "### 1. Explain the concept of composition in Python and how it is used to build complex objects from simpler ones."
   ]
  },
  {
   "cell_type": "markdown",
   "metadata": {},
   "source": [
    "### 2. Describe the difference between composition and inheritance in object-oriented programming."
   ]
  },
  {
   "cell_type": "markdown",
   "metadata": {},
   "source": [
    "### 3. Create a Python class called `Author` with attributes for name and birthdate. Then, create a `Book` class that contains an instance of `Author` as a composition. Provide an example of creating a `Book` object."
   ]
  },
  {
   "cell_type": "markdown",
   "metadata": {},
   "source": [
    "### 4. Discuss the benefits of using composition over inheritance in Python, especially in terms of code flexibility and reusability."
   ]
  },
  {
   "cell_type": "markdown",
   "metadata": {},
   "source": [
    "### 5. How can you implement composition in Python classes? Provide examples of using composition to create complex objects."
   ]
  },
  {
   "cell_type": "markdown",
   "metadata": {},
   "source": [
    "### 6. Create a Python class hierarchy for a music player system, using composition to represent playlists and songs."
   ]
  },
  {
   "cell_type": "markdown",
   "metadata": {},
   "source": [
    "### 7. Explain the concept of \"has-a\" relationships in composition and how it helps design software systems."
   ]
  },
  {
   "cell_type": "markdown",
   "metadata": {},
   "source": [
    "### 8. Create a Python class for a computer system, using composition to represent components like CPU, RAM, and storage devices."
   ]
  },
  {
   "cell_type": "markdown",
   "metadata": {},
   "source": [
    "### 9. Describe the concept of \"delegation\" in composition and how it simplifies the design of complex systems."
   ]
  },
  {
   "cell_type": "markdown",
   "metadata": {},
   "source": [
    "### 10. Create a Python class for a car, using composition to represent components like the engine, wheels, and transmission."
   ]
  },
  {
   "cell_type": "markdown",
   "metadata": {},
   "source": [
    "### 11. How can you encapsulate and hide the details of composed objects in Python classes to maintain abstraction?"
   ]
  },
  {
   "cell_type": "markdown",
   "metadata": {},
   "source": [
    "### 12. Create a Python class for a university course, using composition to represent students, instructors, and course materials."
   ]
  },
  {
   "cell_type": "markdown",
   "metadata": {},
   "source": [
    "### 13. Discuss the challenges and drawbacks of composition, such as increased complexity and potential for tight coupling between objects."
   ]
  },
  {
   "cell_type": "markdown",
   "metadata": {},
   "source": [
    "### 14. Create a Python class hierarchy for a restaurant system, using composition to represent menus, dishes, and ingredients."
   ]
  },
  {
   "cell_type": "markdown",
   "metadata": {},
   "source": [
    "### 15. Explain how composition enhances code maintainability and modularity in Python programs."
   ]
  },
  {
   "cell_type": "markdown",
   "metadata": {},
   "source": [
    "### 16. Create a Python class for a computer game character, using composition to represent attributes like weapons, armor, and inventory."
   ]
  },
  {
   "cell_type": "markdown",
   "metadata": {},
   "source": [
    "### 17. Describe the concept of \"aggregation\" in composition and how it differs from simple composition."
   ]
  },
  {
   "cell_type": "markdown",
   "metadata": {},
   "source": [
    "### 18. Create a Python class for a house, using composition to represent rooms, furniture, and appliances."
   ]
  },
  {
   "cell_type": "markdown",
   "metadata": {},
   "source": [
    "### 19. How can you achieve flexibility in composed objects by allowing them to be replaced or modified dynamically at runtime?"
   ]
  },
  {
   "cell_type": "markdown",
   "metadata": {},
   "source": [
    "### 20. Create a Python class for a social media application, using composition to represent users, posts, and comments."
   ]
  },
  {
   "cell_type": "code",
   "execution_count": null,
   "metadata": {},
   "outputs": [],
   "source": []
  }
 ],
 "metadata": {
  "kernelspec": {
   "display_name": "base",
   "language": "python",
   "name": "python3"
  },
  "language_info": {
   "codemirror_mode": {
    "name": "ipython",
    "version": 3
   },
   "file_extension": ".py",
   "mimetype": "text/x-python",
   "name": "python",
   "nbconvert_exporter": "python",
   "pygments_lexer": "ipython3",
   "version": "3.9.16"
  }
 },
 "nbformat": 4,
 "nbformat_minor": 2
}
