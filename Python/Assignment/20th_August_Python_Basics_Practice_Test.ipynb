{
 "cells": [
  {
   "cell_type": "markdown",
   "metadata": {},
   "source": [
    "# String Based Assignment Problem"
   ]
  },
  {
   "cell_type": "markdown",
   "metadata": {},
   "source": [
    "### 1. Write a program to reverse a string."
   ]
  },
  {
   "cell_type": "code",
   "execution_count": 1,
   "metadata": {},
   "outputs": [
    {
     "name": "stdout",
     "output_type": "stream",
     "text": [
      "Enter a string: Rajdip\n",
      "Reversed string: pidjaR\n"
     ]
    }
   ],
   "source": [
    "# Taking string input from user\n",
    "string = input(\"Enter a string: \")\n",
    "\n",
    "# Reverse the string\n",
    "rev_string = string[::-1]\n",
    "\n",
    "# Print the reversed string\n",
    "print(\"Reversed string:\", rev_string)"
   ]
  },
  {
   "cell_type": "markdown",
   "metadata": {},
   "source": [
    "- Take string input from user using input() function and store it in string variable.\n",
    "- Reverse the string using string slicing method. Here, `string[::-1]` means, end to end slicing but in the negative step, Means, last to first. Save it in rev_srting variable.\n",
    "- Finally, print the reversed string."
   ]
  },
  {
   "cell_type": "markdown",
   "metadata": {},
   "source": [
    "### 2. Check if a string is a palindrome."
   ]
  },
  {
   "cell_type": "code",
   "execution_count": 2,
   "metadata": {},
   "outputs": [
    {
     "name": "stdout",
     "output_type": "stream",
     "text": [
      "Enter a string: oppo\n",
      "It is a palindrome.\n"
     ]
    }
   ],
   "source": [
    "# Taking input a string from user\n",
    "string = input(\"Enter a string: \")\n",
    "\n",
    "# reverse the string using slicing\n",
    "rev_string = string[::-1]\n",
    "\n",
    "# Check the string and the reverse string equal or not\n",
    "if string == string[::-1]:\n",
    "    print(\"It is a palindrome.\")\n",
    "else:\n",
    "    print(\"It is not a palindrome.\")"
   ]
  },
  {
   "cell_type": "markdown",
   "metadata": {},
   "source": [
    "- Take string input from user using input() function and store it in string variable.\n",
    "- Reverse the string using string slicing method. Save it in rev_srting variable.\n",
    "- Check whether the string is equal to the reversed string or not.\n",
    "    - If equal, then print \"It is a palindrome\".\n",
    "    - Otherwise, print \"It is not a palindrome\"."
   ]
  },
  {
   "cell_type": "markdown",
   "metadata": {},
   "source": [
    "### 3. Convert a string to uppercase."
   ]
  },
  {
   "cell_type": "code",
   "execution_count": 3,
   "metadata": {},
   "outputs": [
    {
     "name": "stdout",
     "output_type": "stream",
     "text": [
      "Enter a string: rajdip\n",
      "Uppercase string: RAJDIP\n"
     ]
    }
   ],
   "source": [
    "# Taking input a string from user\n",
    "string = input(\"Enter a string: \")\n",
    "\n",
    "# convert the string to uppercase\n",
    "upper_string = string.upper()\n",
    "\n",
    "# print the uppercase string\n",
    "print(\"Uppercase string:\", upper_string)"
   ]
  },
  {
   "cell_type": "markdown",
   "metadata": {},
   "source": [
    "- Take string input from user using input() function and store it in string variable.\n",
    "- covert the string to uppercase using .upper() method. Store it in upper_string variable.\n",
    "- Finally, print the uppercased string."
   ]
  },
  {
   "cell_type": "markdown",
   "metadata": {},
   "source": [
    "### 4. Convert a string to lowercase."
   ]
  },
  {
   "cell_type": "code",
   "execution_count": 4,
   "metadata": {},
   "outputs": [
    {
     "name": "stdout",
     "output_type": "stream",
     "text": [
      "Enter a string: RaJdIp\n",
      "Lowercase string: rajdip\n"
     ]
    }
   ],
   "source": [
    "# Taking input a string from user\n",
    "string = input(\"Enter a string: \")\n",
    "\n",
    "# convert the string to lowercase\n",
    "lower_string = string.lower()\n",
    "\n",
    "# print the lowercase string\n",
    "print(\"Lowercase string:\", lower_string)"
   ]
  },
  {
   "cell_type": "markdown",
   "metadata": {},
   "source": [
    "- Take string input from user using input() function and store it in string variable.\n",
    "- covert the string to lowercase using .lower() method. Store it in lower_string variable.\n",
    "- Finally, print the lowercased string."
   ]
  },
  {
   "cell_type": "markdown",
   "metadata": {},
   "source": [
    "### 5. Count the number of vowels in a string."
   ]
  },
  {
   "cell_type": "code",
   "execution_count": 5,
   "metadata": {},
   "outputs": [
    {
     "name": "stdout",
     "output_type": "stream",
     "text": [
      "Enter a string: Rajdip Das\n",
      "Number of vowels: 3\n"
     ]
    }
   ],
   "source": [
    "# Taking input a string from user\n",
    "string = input(\"Enter a string: \")\n",
    "count = 0\n",
    "\n",
    "# Iterate each character in the string\n",
    "for char in string:\n",
    "    char_lower = char.lower()    # Convert each character in the string to lowercase\n",
    "    \n",
    "    if char_lower in \"aeiou\":\n",
    "        count += 1               # if character is a vowel increment count value by 1\n",
    "\n",
    "# Print total number of vowel\n",
    "print(\"Number of vowels:\", count)"
   ]
  },
  {
   "cell_type": "markdown",
   "metadata": {},
   "source": [
    "- Take a string as input from user using input() function and store it in string variable.\n",
    "- Make a count variable to keep the count of each vowel. Initially it is 0.\n",
    "- Iterate each character in the string using for loop.\n",
    "- Convert all character in lower case using .lower() method and save it in char_lower variable.\n",
    "- Check the character if it is in \"aeiou\" or not using if statement.\n",
    "    - If the condition satisfied then count variable increased by 1 else not.\n",
    "- Finally, print the final count of vowel."
   ]
  },
  {
   "cell_type": "markdown",
   "metadata": {},
   "source": [
    "### 6. Count the number of consonants in a string."
   ]
  },
  {
   "cell_type": "code",
   "execution_count": 6,
   "metadata": {},
   "outputs": [
    {
     "name": "stdout",
     "output_type": "stream",
     "text": [
      "Enter a string: Rajdip Das\n",
      "Number of consonant: 6\n"
     ]
    }
   ],
   "source": [
    "# Taking input a string from user\n",
    "string = input(\"Enter a string: \")\n",
    "count = 0\n",
    "\n",
    "# Iterate each character in the string\n",
    "for char in string:\n",
    "    char_lower = char.lower()    # Convert each character in the string to lowercase\n",
    "    \n",
    "    if char_lower not in \"aeiou \":\n",
    "        count += 1               # if character is not a vowel and space increment count value by 1\n",
    "\n",
    "# Print total number of consonant\n",
    "print(\"Number of consonant:\", count)"
   ]
  },
  {
   "cell_type": "markdown",
   "metadata": {},
   "source": [
    "- Take a string as input from user using input() function and store it in string variable.\n",
    "- Make a count variable to keep the count of each consonant. Initially it is 0.\n",
    "- Iterate each character in the string using for loop.\n",
    "- Convert all character in lower case using .lower() method and save it in char_lower variable.\n",
    "- Check the character if it is not in \"aeiou \" using if statement.\n",
    "    - If the condition satisfied then count variable increased by 1 else not.\n",
    "- Finally, print the final count of consonant."
   ]
  },
  {
   "cell_type": "markdown",
   "metadata": {},
   "source": [
    "### 7. Remove all whitespaces from a string."
   ]
  },
  {
   "cell_type": "code",
   "execution_count": 7,
   "metadata": {},
   "outputs": [
    {
     "name": "stdout",
     "output_type": "stream",
     "text": [
      "Enter a string: I am Rajdip\n",
      "Modified string: IamRajdip\n"
     ]
    }
   ],
   "source": [
    "# Taking input a string from user\n",
    "string = input(\"Enter a string: \")\n",
    "\n",
    "# remove all the spaces using relace method\n",
    "modified_string = string.replace(\" \", \"\")\n",
    "\n",
    "# Print modified string\n",
    "print(\"Modified string:\", modified_string)"
   ]
  },
  {
   "cell_type": "markdown",
   "metadata": {},
   "source": [
    "- Take string input from user using input() function and store it in string variable.\n",
    "- Remove all spaces using .replace() method which take two parameters as input. First, old value, here, a space. Second, new value, here, no space. Save it in modified_string variable.\n",
    "- Finally, print the modified string."
   ]
  },
  {
   "cell_type": "markdown",
   "metadata": {},
   "source": [
    "### 8. Find the length of a string without using the `len()` function."
   ]
  },
  {
   "cell_type": "code",
   "execution_count": 8,
   "metadata": {},
   "outputs": [
    {
     "name": "stdout",
     "output_type": "stream",
     "text": [
      "Enter a string: Ramratan\n",
      "Length of the string is: 8\n"
     ]
    }
   ],
   "source": [
    "# Taking input a string from user\n",
    "string = input(\"Enter a string: \")\n",
    "count = 0\n",
    "\n",
    "# Iterate each character in the string\n",
    "for char in string:\n",
    "    count += 1\n",
    "\n",
    "# print total number of character\n",
    "print(\"Length of the string is:\", count)"
   ]
  },
  {
   "cell_type": "markdown",
   "metadata": {},
   "source": [
    "- Take string input from user using input() function and store it in string variable.\n",
    "- Make a count variable to keep the count of each character. Initially it is 0.\n",
    "- Iterate each character in the string using for loop.\n",
    "- Increase the count value by 1 with each iteration.\n",
    "- Finally, print the final count which is the length of the string."
   ]
  },
  {
   "cell_type": "markdown",
   "metadata": {},
   "source": [
    "### 9. Check if a string contains a specific word."
   ]
  },
  {
   "cell_type": "code",
   "execution_count": 9,
   "metadata": {},
   "outputs": [
    {
     "name": "stdout",
     "output_type": "stream",
     "text": [
      "Enter a word: Rajdip\n",
      "Enter a string to be searched: jd\n",
      "jd is in the given word.\n"
     ]
    }
   ],
   "source": [
    "# Taking input a word from user\n",
    "word = input(\"Enter a word: \")\n",
    "\n",
    "# Taking input a string from user\n",
    "string = input(\"Enter a string to be searched: \")\n",
    "\n",
    "# Evaluate if the string is in the word or not\n",
    "if string in word:\n",
    "    print(f\"{string} is in the given word.\")        # If the string is in the word\n",
    "else:\n",
    "    print(f\"{string} not in the given word.\")       # If the string is not in the word"
   ]
  },
  {
   "cell_type": "markdown",
   "metadata": {},
   "source": [
    "- Take a word as input from user using input() function and store it in word variable.\n",
    "- Take a string as input from user using input() function which to be searched from the word. Store it in the string variable.\n",
    "- Check if the given string is in the given word or not.\n",
    "    - If yes, then print, the string is in the given word.\n",
    "    - If no, then print, the string is not in the given word."
   ]
  },
  {
   "cell_type": "markdown",
   "metadata": {},
   "source": [
    "### 10. Replace a word in a string with another word."
   ]
  },
  {
   "cell_type": "code",
   "execution_count": 10,
   "metadata": {},
   "outputs": [
    {
     "name": "stdout",
     "output_type": "stream",
     "text": [
      "Enter a string: Rajdip Das\n",
      "Enter the word to be replaced with: Das\n",
      "Enter the new word: Dutta\n",
      "After modifying:\n",
      "Rajdip Dutta\n"
     ]
    }
   ],
   "source": [
    "# Taking input a string from user\n",
    "string = input(\"Enter a string: \")\n",
    "\n",
    "# Taking input the word from user to be replaced with\n",
    "word = input(\"Enter the word to be replaced with: \")\n",
    "\n",
    "# Taking input a new word from user\n",
    "new_word = input(\"Enter the new word: \")\n",
    "\n",
    "# Evaluate if the word is in the string or not\n",
    "if word in string:\n",
    "    new_string = string.replace(word, new_word)        # If the word is in the string replace it with new word\n",
    "    print(\"After modifying:\")\n",
    "    print(new_string)                                  # Print the modified string\n",
    "else:\n",
    "    print(f\"{word} not in the given string.\")          # If the string is not in the word"
   ]
  },
  {
   "cell_type": "markdown",
   "metadata": {},
   "source": [
    "- Take string input from user using input() function and store it in string variable.\n",
    "- Take a word as input from user using input() function which to be replaced with a new word in the string. store it in word variable.\n",
    "- Take a new word as input from user using input() function which is the new word. store it in new_word variable.\n",
    "- Check if the word is in the string or not.\n",
    "    - If yes, then replace the word with the new word using .replace() method. Store it in new_string variable. Then print the modified string.\n",
    "    - If no, then print, word is not in the given string."
   ]
  },
  {
   "cell_type": "markdown",
   "metadata": {},
   "source": [
    "### 11. Count the occurrences of a word in a string."
   ]
  },
  {
   "cell_type": "code",
   "execution_count": 18,
   "metadata": {},
   "outputs": [
    {
     "name": "stdout",
     "output_type": "stream",
     "text": [
      "z occurred 0 times in the string\n"
     ]
    }
   ],
   "source": [
    "# Taking input a string from user\n",
    "string = input(\"Enter a string: \")\n",
    "\n",
    "# Taking input a word from user\n",
    "word = input(\"Enter a word: \")\n",
    "\n",
    "# Count the word in the string\n",
    "count = string.count(word)\n",
    "\n",
    "# Print total number of word in the string\n",
    "print(f\"{word} occurred {count} times in the string.\")"
   ]
  },
  {
   "cell_type": "markdown",
   "metadata": {},
   "source": [
    "- Take string input from user using input() function and store it in string variable.\n",
    "- Take a word as input from user using input() function and store it in word variable.\n",
    "- Count the occurrence of the word in the string using .count() method and pass the word as parameter. store the number in count variable.\n",
    "- Finally, print the final count."
   ]
  },
  {
   "cell_type": "markdown",
   "metadata": {},
   "source": [
    "### 12. Find the first occurrence of a word in a string."
   ]
  },
  {
   "cell_type": "code",
   "execution_count": 13,
   "metadata": {},
   "outputs": [
    {
     "name": "stdout",
     "output_type": "stream",
     "text": [
      "a occurred at index 1 for the first time.\n"
     ]
    }
   ],
   "source": [
    "# Taking input a string from user\n",
    "string = input(\"Enter a string: \")\n",
    "\n",
    "# Taking input a word from user\n",
    "word = input(\"Enter a word: \")\n",
    "\n",
    "# Evaluate if the word is in the string or not\n",
    "if word in string:\n",
    "    position = string.index(word)       # If yes\n",
    "    print(f\"{word} occurred at index {position} for the first time.\")\n",
    "else:\n",
    "    print(f\"{word} is not in the string.\")"
   ]
  },
  {
   "cell_type": "markdown",
   "metadata": {},
   "source": [
    "- Take string input from user using input() function and store it in string variable.\n",
    "- Take a word as input from user using input() function and store it in word variable.\n",
    "- Check if the word is in the string or not.\n",
    "    - If yes, then find the index of the word in the string using .index() method and pass the word as parameter. store the number in position variable. finally, print the position of the word which is first occurrence in the string.\n",
    "    - If no, then print the word is not in the string."
   ]
  },
  {
   "cell_type": "markdown",
   "metadata": {},
   "source": [
    "### 13. Find the last occurrence of a word in a string."
   ]
  },
  {
   "cell_type": "code",
   "execution_count": 15,
   "metadata": {},
   "outputs": [
    {
     "name": "stdout",
     "output_type": "stream",
     "text": [
      "a occurred at index 8 for the last time.\n"
     ]
    }
   ],
   "source": [
    "# Taking input a string from user\n",
    "string = input(\"Enter a string: \")\n",
    "\n",
    "# Taking input a word from user\n",
    "word = input(\"Enter a word: \")\n",
    "\n",
    "# Evaluate if the word is in the string or not\n",
    "if word in string:\n",
    "    for i in range(len(string)):        # If yes\n",
    "        if string[i] == word:\n",
    "            position = i                # Change position value with newer value\n",
    "    print(f\"{word} occurred at index {position} for the last time.\")        # Print the answer\n",
    "else:\n",
    "    print(f\"{word} is not in the string.\")      # If no"
   ]
  },
  {
   "cell_type": "markdown",
   "metadata": {},
   "source": [
    "- Take string input from user using input() function and store it in string variable.\n",
    "- Take a word as input from user using input() function and store it in word variable.\n",
    "- Check if the word is in the string or not.\n",
    "    - If yes\n",
    "        - Run a for loop in a range, which is the same of the length of the string. Length of the string calculated by len() function.\n",
    "        - Evaluate is the string in i'th position is equal to the given word or not.\n",
    "        - If yes, then store the i (here i means index) in position variable.\n",
    "        - Finally, Print the position, which is index of the last occurrence of the word.\n",
    "    - If no, then print word is not in the string."
   ]
  },
  {
   "cell_type": "markdown",
   "metadata": {},
   "source": [
    "### 14. Split a string into a list of words"
   ]
  },
  {
   "cell_type": "code",
   "execution_count": 18,
   "metadata": {},
   "outputs": [
    {
     "name": "stdout",
     "output_type": "stream",
     "text": [
      "The list of word:\n",
      "['My', 'name', 'is', 'Rajdip', 'Das']\n"
     ]
    }
   ],
   "source": [
    "# Taking input a string from user\n",
    "string = input(\"Enter a string: \")\n",
    "\n",
    "# split the string\n",
    "word_list = string.split(\" \")\n",
    "\n",
    "# Print the list\n",
    "print(f\"The list of word:\\n{word_list}\")"
   ]
  },
  {
   "cell_type": "markdown",
   "metadata": {},
   "source": [
    "- Take string input from user using input() function and store it in string variable.\n",
    "- Split the string using .split() method and pass a space as parameter. Store it in word_list variable.\n",
    "- Finally, Print the word_list, which is a list of all words from string."
   ]
  },
  {
   "cell_type": "markdown",
   "metadata": {},
   "source": [
    "### 15. Join a list of words into a string."
   ]
  },
  {
   "cell_type": "code",
   "execution_count": 21,
   "metadata": {},
   "outputs": [
    {
     "name": "stdout",
     "output_type": "stream",
     "text": [
      "String after joining:\n",
      "My name is Rajdip Das.\n"
     ]
    }
   ],
   "source": [
    "# Take a list of words\n",
    "word_list = ['My', 'name', 'is', 'Rajdip', 'Das.']\n",
    "\n",
    "# Join the words\n",
    "string = ' '.join(word_list)\n",
    "\n",
    "# Print the string\n",
    "print(f\"After joining all word:\\n{string}\")"
   ]
  },
  {
   "cell_type": "markdown",
   "metadata": {},
   "source": [
    "- Make a list of words. Store it in word_list variable.\n",
    "- Join the words using .join() method followed by a space and pass the word_list as parameter. This will join the words from the list separated by a space. Store it in string variable.\n",
    "- Finally, print the string."
   ]
  },
  {
   "cell_type": "markdown",
   "metadata": {},
   "source": [
    "### 16. Convert a string where words are separated by spaces to one where words are separated by underscores."
   ]
  },
  {
   "cell_type": "code",
   "execution_count": 24,
   "metadata": {},
   "outputs": [
    {
     "name": "stdout",
     "output_type": "stream",
     "text": [
      "Before converting:\n",
      "My name is Rajdip Das\n",
      "After converting:\n",
      "My_name_is_Rajdip_Das\n"
     ]
    }
   ],
   "source": [
    "# Taking input a string from user\n",
    "string = input(\"Enter a string: \")\n",
    "\n",
    "# print the string\n",
    "print(f\"Before converting:\\n{string}\")\n",
    "\n",
    "# Covert spaces to underscore\n",
    "new_string = string.replace(\" \", \"_\")\n",
    "\n",
    "# print the converted string\n",
    "print(f\"After converting:\\n{new_string}\")"
   ]
  },
  {
   "cell_type": "markdown",
   "metadata": {},
   "source": [
    "- Take string input from user using input() function and store it in string variable.\n",
    "- Print the string before converting.\n",
    "- Change all space to underscore using .replace() method and pass it two (a space as old str and a underscore as new str) parameters. Store it in new_string variable.\n",
    "- Print the new_string after converting."
   ]
  },
  {
   "cell_type": "markdown",
   "metadata": {},
   "source": [
    "### 17. Check if a string starts with a specific word or phrase."
   ]
  },
  {
   "cell_type": "code",
   "execution_count": 26,
   "metadata": {},
   "outputs": [
    {
     "name": "stdout",
     "output_type": "stream",
     "text": [
      "The string start with the word.\n"
     ]
    }
   ],
   "source": [
    "# Taking input a string from user\n",
    "string = input(\"Enter a string: \")\n",
    "\n",
    "# Taking input a word from user\n",
    "word = input(\"Enter a word: \")\n",
    "\n",
    "# Check is the string starts with the word or not\n",
    "result = string.startswith(word)\n",
    "\n",
    "# Print the result\n",
    "if result:\n",
    "    print(\"The string starts with the word.\")\n",
    "else:\n",
    "    print(\"The string does not start with the word.\")"
   ]
  },
  {
   "cell_type": "markdown",
   "metadata": {},
   "source": [
    "- Take string input from user using input() function and store it in string variable.\n",
    "- Take a word as input from user using input() function and store it in word variable.\n",
    "- Check, the string starts with the word or not using .startswith() method pass the word as parameter. The method will return a boolean value (True or False). Store the value in result variable.\n",
    "- Check if True, then print the string starts with the word else print the string does not start with the word."
   ]
  },
  {
   "cell_type": "markdown",
   "metadata": {},
   "source": [
    "### 18. Check if a string ends with a specific word or phrase."
   ]
  },
  {
   "cell_type": "code",
   "execution_count": 29,
   "metadata": {},
   "outputs": [
    {
     "name": "stdout",
     "output_type": "stream",
     "text": [
      "The string ends with the word.\n"
     ]
    }
   ],
   "source": [
    "# Taking input a string from user\n",
    "string = input(\"Enter a string: \")\n",
    "\n",
    "# Taking input a word from user\n",
    "word = input(\"Enter a word: \")\n",
    "\n",
    "# Check is the string ends with the word or not\n",
    "result = string.endswith(word)\n",
    "\n",
    "# Print the result\n",
    "if result:\n",
    "    print(\"The string ends with the word.\")\n",
    "else:\n",
    "    print(\"The string does not end with the word.\")"
   ]
  },
  {
   "cell_type": "markdown",
   "metadata": {},
   "source": [
    "- Take string input from user using input() function and store it in string variable.\n",
    "- Take a word as input from user using input() function and store it in word variable.\n",
    "- Check, the string ends with the word or not using .endswith() method pass the word as parameter. The method will return a boolean value (True or False). Store the value in result variable.\n",
    "- Check if True, then print the string ends with the word else print the string does not end with the word."
   ]
  },
  {
   "cell_type": "markdown",
   "metadata": {},
   "source": [
    "### 19. Convert a string to title case (e.g., \"hello world\" to \"Hello World\")."
   ]
  },
  {
   "cell_type": "code",
   "execution_count": 31,
   "metadata": {},
   "outputs": [
    {
     "name": "stdout",
     "output_type": "stream",
     "text": [
      "Modified string:\n",
      "Rajdip Das\n"
     ]
    }
   ],
   "source": [
    "# Taking input a string from user\n",
    "string = input(\"Enter a string: \")\n",
    "\n",
    "# Make the string into title case\n",
    "modified_string = string.title()\n",
    "\n",
    "# Print the modified string\n",
    "print(f\"Modified string:\\n{modified_string}\")"
   ]
  },
  {
   "cell_type": "markdown",
   "metadata": {},
   "source": [
    "- Take string input from user using input() function and store it in string variable.\n",
    "- Convert the string into title case string using .title() method. Store it in modified_string variable.\n",
    "- Finally, Print the modified_string."
   ]
  },
  {
   "cell_type": "markdown",
   "metadata": {},
   "source": [
    "### 20. Find the longest word in a string."
   ]
  },
  {
   "cell_type": "code",
   "execution_count": 33,
   "metadata": {},
   "outputs": [
    {
     "name": "stdout",
     "output_type": "stream",
     "text": [
      "'Rajdip' is the longest word in the string.\n"
     ]
    }
   ],
   "source": [
    "# Taking input a string from user\n",
    "string = input(\"Enter a string: \")\n",
    "\n",
    "# Convert the string into list of words\n",
    "word_list = string.split()\n",
    "\n",
    "# Initialize length with 0 and long word as empty string\n",
    "length = 0\n",
    "long_word = \"\"\n",
    "\n",
    "# Iterate through the word list and see which word is longest\n",
    "for word in word_list:\n",
    "    if len(word) > length:\n",
    "        length = len(word)\n",
    "        long_word = word\n",
    "\n",
    "# Print the longest word in the string\n",
    "print(f\"'{long_word}' is the longest word in the string.\")"
   ]
  },
  {
   "cell_type": "markdown",
   "metadata": {},
   "source": [
    "- Take string input from user using input() function and store it in string variable.\n",
    "- Convert the string into list of words using .split() method. Store the list in word_list variable.\n",
    "- Initialize length variable with 0 and long_word variable with empty string.\n",
    "- Iterate through the word_list using for loop. Then, If the length of word (calculate using len() function) is greater than length, then length variable modified into new length of the word. The word store in long_word variable.\n",
    "- Finally, Print long_word as longest word."
   ]
  },
  {
   "cell_type": "markdown",
   "metadata": {},
   "source": [
    "### 21. Find the shortest word in a string."
   ]
  },
  {
   "cell_type": "code",
   "execution_count": 39,
   "metadata": {},
   "outputs": [
    {
     "name": "stdout",
     "output_type": "stream",
     "text": [
      "'My' is the shortest word in the string.\n"
     ]
    }
   ],
   "source": [
    "# Taking input a string from user\n",
    "string = input(\"Enter a string: \")\n",
    "\n",
    "# Convert the string into list of words\n",
    "word_list = string.split()\n",
    "\n",
    "# Initialize length with a large value and short word as None\n",
    "length = float('inf')\n",
    "short_word = None\n",
    "\n",
    "# Iterate through the word list and see which word is shortest\n",
    "for word in word_list:\n",
    "    if len(word) < length:\n",
    "        length = len(word)\n",
    "        short_word = word\n",
    "\n",
    "# Print the shortest word in the string\n",
    "print(f\"'{short_word}' is the shortest word in the string.\")"
   ]
  },
  {
   "cell_type": "markdown",
   "metadata": {},
   "source": [
    "- Take string input from user using input() function and store it in string variable.\n",
    "- Convert the string into list of words using .split() method. Store the list in word_list variable.\n",
    "- Initialize length variable with a large value and short_word variable with None.\n",
    "- Iterate through the word_list using for loop. Then, If the length of word (calculate using len() function) is smaller than length, then length variable modified into new length of the word. The word store in short_word variable.\n",
    "- Finally, Print short_word as shortest word."
   ]
  },
  {
   "cell_type": "markdown",
   "metadata": {},
   "source": [
    "### 22. Reverse the order of words in a string."
   ]
  },
  {
   "cell_type": "code",
   "execution_count": 44,
   "metadata": {},
   "outputs": [
    {
     "name": "stdout",
     "output_type": "stream",
     "text": [
      "After reversing the order of words:\n",
      "Das Rajdip is name My\n"
     ]
    }
   ],
   "source": [
    "# Taking input a string from user\n",
    "string = input(\"Enter a string: \")\n",
    "\n",
    "# Convert the stirng into list of words\n",
    "word_list = string.split()\n",
    "\n",
    "# Reverse the list of words\n",
    "rev_list = word_list[::-1]\n",
    "\n",
    "# Join every words in the list\n",
    "rev_string = ' '.join(rev_list)\n",
    "\n",
    "# Print the reverse order of words\n",
    "print(f\"After reversing the order of words:\\n{rev_string}\")"
   ]
  },
  {
   "cell_type": "markdown",
   "metadata": {},
   "source": [
    "- Take string input from user using input() function and store it in string variable.\n",
    "- Convert the string into list of words using .split() method. Store the list in word_list variable.\n",
    "- Reverse the list of words using slicing method. Store it in rev_list variable.\n",
    "- Join the list using .join() method followed by a space and pass it rev_list as parameter. After joining store it in rev_string variable.\n",
    "- Finally, print the rev_string."
   ]
  },
  {
   "cell_type": "markdown",
   "metadata": {},
   "source": [
    "### 23. Check if a string is alphanumeric"
   ]
  },
  {
   "cell_type": "code",
   "execution_count": 46,
   "metadata": {},
   "outputs": [
    {
     "name": "stdout",
     "output_type": "stream",
     "text": [
      "The string is alpha-numeric.\n"
     ]
    }
   ],
   "source": [
    "# Taking input a string from user\n",
    "string = input(\"Enter a string: \")\n",
    "\n",
    "# Check if the string is alphanumeric or not\n",
    "result = string.isalnum()\n",
    "\n",
    "# Print the result\n",
    "if result:\n",
    "    print(\"The string is alpha-numeric.\")\n",
    "else:\n",
    "    print(\"The string is not an alpha-numeric.\")"
   ]
  },
  {
   "cell_type": "markdown",
   "metadata": {},
   "source": [
    "- Take string input from user using input() function. Store it in string variable.\n",
    "- Check is the string contains alphabets and numeric values or not using .isalnum() method which returns boolean values. Store it in result variable.\n",
    "- Check if the result True, then print the string is alpha-numeric else print the string is not an alpha-numeric."
   ]
  },
  {
   "cell_type": "markdown",
   "metadata": {},
   "source": [
    "### 24. Extract all digits from a string."
   ]
  },
  {
   "cell_type": "code",
   "execution_count": 47,
   "metadata": {},
   "outputs": [
    {
     "name": "stdout",
     "output_type": "stream",
     "text": [
      "Extracted digits: 2021\n"
     ]
    }
   ],
   "source": [
    "# Taking input a string from user\n",
    "string = input(\"Enter a string: \")\n",
    "\n",
    "# Initialize a digit variable with empty string\n",
    "digit = \"\"\n",
    "\n",
    "# Iterate through every character in string and check if the string is numeric or not\n",
    "for char in string:\n",
    "    if char.isnumeric():\n",
    "        digit += char       # If the character numeric then append the character in digit\n",
    "\n",
    "# Print the digit\n",
    "print(\"Extracted digits:\", digit)"
   ]
  },
  {
   "cell_type": "markdown",
   "metadata": {},
   "source": [
    "- Take string input from user using input() function. Store it in string variable.\n",
    "- Initialize a digit variable with empty string which will append all numeric values later on.\n",
    "- Iterate through every character in string.\n",
    "- check is the character numeric or not using .isnumeric() method.\n",
    "- If the condition satisfied then append the character in digit variable.\n",
    "- Finally, Print the extracted digits."
   ]
  },
  {
   "cell_type": "markdown",
   "metadata": {},
   "source": [
    "### 25. Extract all alphabets from a string."
   ]
  },
  {
   "cell_type": "code",
   "execution_count": 49,
   "metadata": {},
   "outputs": [
    {
     "name": "stdout",
     "output_type": "stream",
     "text": [
      "Extracted alphabets: RajdipDas\n"
     ]
    }
   ],
   "source": [
    "# Taking input a string from user\n",
    "string = input(\"Enter a string: \")\n",
    "\n",
    "# Initialize a alpha variable with empty string\n",
    "alpha = \"\"\n",
    "\n",
    "# Iterate through every character in string and check if the string is alphabet or not\n",
    "for char in string:\n",
    "    if char.isalpha():\n",
    "        alpha += char       # If the character alphabet then append the character in alpha\n",
    "\n",
    "# Print the alpha\n",
    "print(\"Extracted alphabets:\", alpha)"
   ]
  },
  {
   "cell_type": "markdown",
   "metadata": {},
   "source": [
    "- Take string input from user using input() function and store it in string variable.\n",
    "- Initialize a alpha variable with empty string.\n",
    "- Iterate through every character in the string.\n",
    "- check is the character alphabet or not using .isalpha() method.\n",
    "- If the condition satisfied then append the character in alpha variable.\n",
    "- Finally, print the extracted alphabets."
   ]
  },
  {
   "cell_type": "markdown",
   "metadata": {},
   "source": [
    "### 26. Count the number of uppercase letters in a string."
   ]
  },
  {
   "cell_type": "code",
   "execution_count": 50,
   "metadata": {},
   "outputs": [
    {
     "name": "stdout",
     "output_type": "stream",
     "text": [
      "Total number of uppercase character: 3\n"
     ]
    }
   ],
   "source": [
    "# Taking input a string from user\n",
    "string = input(\"Enter a string: \")\n",
    "\n",
    "# Initialize a count variable with 0\n",
    "count = 0\n",
    "\n",
    "# Iterate through every character in string and check if the string is uppercase or not\n",
    "for char in string:\n",
    "    if char.isupper():\n",
    "        count += 1       # If the character uppercase then increase count by 1\n",
    "\n",
    "# Print the total count\n",
    "print(\"Total number of uppercase character:\", count)"
   ]
  },
  {
   "cell_type": "markdown",
   "metadata": {},
   "source": [
    "- Take string input from user using input() function and store it in string variable.\n",
    "- Initialize a count variable with 0.\n",
    "- Iterate through every character in the string.\n",
    "- check is the character in upper case or not using .isupper() method.\n",
    "- If the condition satisfied then increase count variable by 1.\n",
    "- finally, print the total number of upper case character."
   ]
  },
  {
   "cell_type": "markdown",
   "metadata": {},
   "source": [
    "### 27. Count the number of lowercase letters in a string."
   ]
  },
  {
   "cell_type": "code",
   "execution_count": 51,
   "metadata": {},
   "outputs": [
    {
     "name": "stdout",
     "output_type": "stream",
     "text": [
      "Total number of lowercase character: 7\n"
     ]
    }
   ],
   "source": [
    "# Taking input a string from user\n",
    "string = input(\"Enter a string: \")\n",
    "\n",
    "# Initialize a count variable with 0\n",
    "count = 0\n",
    "\n",
    "# Iterate through every character in string and check if the string is lowercase or not\n",
    "for char in string:\n",
    "    if char.islower():\n",
    "        count += 1       # If the character lowercase then increase count by 1\n",
    "\n",
    "# Print the total count\n",
    "print(\"Total number of lowercase character:\", count)"
   ]
  },
  {
   "cell_type": "markdown",
   "metadata": {},
   "source": [
    "- Take string input from user using input() function and store it in string variable.\n",
    "- Initialize count variable with 0.\n",
    "- Interate through every character in string.\n",
    "- check if the character is lower case or not using .islower() method.\n",
    "- If the condition satisfied then increase count variable by 1.\n",
    "- Finally, print the total number of lower case character."
   ]
  },
  {
   "cell_type": "markdown",
   "metadata": {},
   "source": [
    "### 28. Swap the case of each character in a string."
   ]
  },
  {
   "cell_type": "code",
   "execution_count": 54,
   "metadata": {},
   "outputs": [
    {
     "name": "stdout",
     "output_type": "stream",
     "text": [
      "Modified string: rAJDIP dAS\n"
     ]
    }
   ],
   "source": [
    "# Taking input a string from user\n",
    "string = input(\"Enter a string: \")\n",
    "\n",
    "# Initialize a string2 variable as empty string\n",
    "string2 = \"\"\n",
    "\n",
    "# Iterate through every character in string and check if the string is uppercase or not\n",
    "for i in range(len(string)):\n",
    "    if string[i].isupper():\n",
    "        string2 += string[i].lower()        # If uppercase then convert it in lowercase\n",
    "    else:\n",
    "        string2 += string[i].upper()        # else convert it in uppercase\n",
    "\n",
    "# Print the modified string\n",
    "print(\"Modified string:\", string2)"
   ]
  },
  {
   "cell_type": "markdown",
   "metadata": {},
   "source": [
    "- Take string input from user using input() function and store it in string variable.\n",
    "- Initialize string2 variable with empty string.\n",
    "- Iterate through length (which can calculate using len() function) of the string.\n",
    "- If string at i'th position is uppuer case (check using .isupper() method) then convert it in lower case (using .lower() method) and append it in string2 variable. else convert the string in upper case (using .upper() method) and append it in string2 variable.\n",
    "- Finally, print the modified string."
   ]
  },
  {
   "cell_type": "markdown",
   "metadata": {},
   "source": [
    "### 29. Remove a specific word from a string."
   ]
  },
  {
   "cell_type": "code",
   "execution_count": 61,
   "metadata": {},
   "outputs": [
    {
     "name": "stdout",
     "output_type": "stream",
     "text": [
      "String after deleting the word:\n",
      "my name raj\n"
     ]
    }
   ],
   "source": [
    "# Taking input a string from user\n",
    "string = input(\"Enter a string: \")\n",
    "\n",
    "# Take input a word which will be deleted\n",
    "word = input(\"Enter the word to be deleted: \")\n",
    "\n",
    "# Make the string to list of words\n",
    "word_list = string.split()\n",
    "\n",
    "# Initialize new_word_list as empty list\n",
    "new_word_list = []\n",
    "\n",
    "# Iterate through every word in the list\n",
    "for i in range(len(word_list)):\n",
    "    if word_list[i] != word:        # If word is not same as given word\n",
    "        new_word_list.append(word_list[i])      # append the word in a new list\n",
    "\n",
    "# join every word in the new list\n",
    "new_string = ' '.join(new_word_list)\n",
    "\n",
    "# Print the string after deleting the word\n",
    "print(f\"String after deleting the word:\\n{new_string}\")"
   ]
  },
  {
   "cell_type": "markdown",
   "metadata": {},
   "source": [
    "- Take string input from user using input() function and store it in string variable.\n",
    "- Take a word as input from user using input() function and store it in word variable.\n",
    "- Make a list of words from the string using .split() method and store it in word_list variable.\n",
    "- Initialize a new_word_list variable with empty string.\n",
    "- Iterate through length (which can calculate using len() function) of the string.\n",
    "- If word in i'th positon from the list is not equal to the word then append the word in new_word_list using .append() method by passing it word in i'th positon as parameter.\n",
    "- Then join the words in new_word_list using .join() method followed by a space and pass it the new_word_list as parameter. Store it in new_string variable.\n",
    "- Finally, print the new_string after deleting the word."
   ]
  },
  {
   "cell_type": "markdown",
   "metadata": {},
   "source": [
    "### 30. Check if a string is a valid email address."
   ]
  },
  {
   "cell_type": "code",
   "execution_count": 63,
   "metadata": {},
   "outputs": [
    {
     "name": "stdout",
     "output_type": "stream",
     "text": [
      "Valid mail.\n"
     ]
    }
   ],
   "source": [
    "import re\n",
    "\n",
    "# Taking input a email address from user\n",
    "email = input(\"Enter a email address: \")\n",
    "\n",
    "# Make a validation rule\n",
    "rule = r'^[A-Za-z0-9._%+-]+@[A-Za-z0-9.-]+\\.[A-Z|a-z]{2,7}'\n",
    "\n",
    "# Validate the mail using the rule\n",
    "if re.match(rule,email):\n",
    "    print(\"Valid email.\")\n",
    "else:\n",
    "    print(\"Invalid email.\")"
   ]
  },
  {
   "cell_type": "markdown",
   "metadata": {},
   "source": [
    "- Import re package in my code.\n",
    "- Take a email id as input from user using input() function and store it in email variable.\n",
    "- Make a regular expression for validate the email. Store it in rule variable.\n",
    "- Validate the mail using re.match() function and pass it the rule and the email.\n",
    "- If the validation returns True then, print this is a valid mail, else print this is a invalid mail."
   ]
  },
  {
   "cell_type": "markdown",
   "metadata": {},
   "source": [
    "### 31. Extract the username from an email address string."
   ]
  },
  {
   "cell_type": "code",
   "execution_count": 66,
   "metadata": {},
   "outputs": [
    {
     "name": "stdout",
     "output_type": "stream",
     "text": [
      "The username is: rajdip\n"
     ]
    }
   ],
   "source": [
    "# Taking input a email address from user\n",
    "email = input(\"Enter a email address: \")\n",
    "\n",
    "# Split the email and take its 1st part\n",
    "username = email.split('@')[0]\n",
    "\n",
    "# Print the answer\n",
    "print(\"The username is:\", username)"
   ]
  },
  {
   "cell_type": "markdown",
   "metadata": {},
   "source": [
    "- Take a url as input from user using input() function and store it in email variable.\n",
    "- Split the email using .split() method and pass it '@' as parameter. Then take the word at index 0. Store it in username variable.\n",
    "- Finally, print the username."
   ]
  },
  {
   "cell_type": "markdown",
   "metadata": {},
   "source": [
    "### 32. Extract the domain name from an email address string."
   ]
  },
  {
   "cell_type": "code",
   "execution_count": 67,
   "metadata": {},
   "outputs": [
    {
     "name": "stdout",
     "output_type": "stream",
     "text": [
      "The domain name is: gmail.com\n"
     ]
    }
   ],
   "source": [
    "# Taking input a email address from user\n",
    "email = input(\"Enter a email address: \")\n",
    "\n",
    "# Split the email and take its 2nd part\n",
    "domain_name = email.split('@')[1]\n",
    "\n",
    "# Print the answer\n",
    "print(\"The domain name is:\", domain_name)"
   ]
  },
  {
   "cell_type": "markdown",
   "metadata": {},
   "source": [
    "- Take a url as input from user using input() function and store it in email variable.\n",
    "- Split the email using .split() method and pass it '@' as parameter. Then take the word at index 1. Store it in domain_name variable.\n",
    "- Finally, print the domain name."
   ]
  },
  {
   "cell_type": "markdown",
   "metadata": {},
   "source": [
    "### 33. Replace multiple spaces in a string with a single space."
   ]
  },
  {
   "cell_type": "code",
   "execution_count": 69,
   "metadata": {},
   "outputs": [
    {
     "name": "stdout",
     "output_type": "stream",
     "text": [
      "After cleaning the spaces:\n",
      "My name is Raj\n"
     ]
    }
   ],
   "source": [
    "# Taking input a string from user\n",
    "string = input(\"Enter a string with multiple spaces: \")\n",
    "\n",
    "# convert multiple spaces into single space\n",
    "new_string = ' '.join(string.split())\n",
    "\n",
    "# Print the answer\n",
    "print(f\"After cleaning the spaces:\\n{new_string}\")"
   ]
  },
  {
   "cell_type": "markdown",
   "metadata": {},
   "source": [
    "- Take string input with multiple spaces from user using input() function and store it in string variable.\n",
    "- Split the string using .split() method then pass it as parameter in .join() method which followed by a space. Which will join the splited words. Then store it in new_string variable.\n",
    "- Finally, Print the new string after cleaning the spaces."
   ]
  },
  {
   "cell_type": "markdown",
   "metadata": {},
   "source": [
    "### 34. Check if a string is a valid URL."
   ]
  },
  {
   "cell_type": "code",
   "execution_count": 70,
   "metadata": {},
   "outputs": [
    {
     "name": "stdout",
     "output_type": "stream",
     "text": [
      "The url is valid.\n"
     ]
    }
   ],
   "source": [
    "# Taking input a url from user\n",
    "string = input(\"Enter a url: \")\n",
    "\n",
    "# Check if the url valid or not and print\n",
    "if string.startswith(\"http://\") or string.startswith(\"https://\"):\n",
    "    print(\"The url is valid.\")\n",
    "else:\n",
    "    print(\"The url is invalid.\")"
   ]
  },
  {
   "cell_type": "markdown",
   "metadata": {},
   "source": [
    "- Take url input from user using input() function and store it in string variable.\n",
    "- Check if the string starts with 'https://' and 'http://' or not using .startswith() method.\n",
    "    - If yes, then print the url is valid.\n",
    "    - else, print the url is invalid."
   ]
  },
  {
   "cell_type": "markdown",
   "metadata": {},
   "source": [
    "### 35. Extract the protocol (http or https) from a URL string."
   ]
  },
  {
   "cell_type": "code",
   "execution_count": 71,
   "metadata": {},
   "outputs": [
    {
     "name": "stdout",
     "output_type": "stream",
     "text": [
      "The protocol is: https\n"
     ]
    }
   ],
   "source": [
    "# Taking input a url from user\n",
    "string = input(\"Enter a url: \")\n",
    "\n",
    "# Extract the protocol\n",
    "protocol = string.split(\":\")[0]\n",
    "\n",
    "# Print the protocol\n",
    "print(\"The protocol is:\", protocol)"
   ]
  },
  {
   "cell_type": "markdown",
   "metadata": {},
   "source": [
    "- Take url input from user using input() function and store it in string variable.\n",
    "- Split the string using .split() method by passing it \":\" as parameter then extract the 0'th index word. Store it in protocol variable.\n",
    "- Finally, print the protocol name."
   ]
  },
  {
   "cell_type": "markdown",
   "metadata": {},
   "source": [
    "### 36. Find the frequency of each character in a string."
   ]
  },
  {
   "cell_type": "code",
   "execution_count": 3,
   "metadata": {},
   "outputs": [
    {
     "name": "stdout",
     "output_type": "stream",
     "text": [
      "Count of all character it the string is:\n",
      " Counter({'a': 2, 'R': 1, 'j': 1, 'd': 1, 'i': 1, 'p': 1, ' ': 1, 'D': 1, 's': 1})\n"
     ]
    }
   ],
   "source": [
    "from collections import Counter\n",
    "\n",
    "# Take input a string from user\n",
    "string = input(\"Enter a string: \")\n",
    "\n",
    "# Count each charecter of the string\n",
    "count = Counter(string)\n",
    "\n",
    "# Print the answer\n",
    "print(\"Count of all character it the string is:\\n\", count)"
   ]
  },
  {
   "cell_type": "markdown",
   "metadata": {},
   "source": [
    "- At first import Counter function from collections package.\n",
    "- Take string input from user using input() function then store it in string variable.\n",
    "- Count frequency of each charecter in the string using Counter function by passing it the string as parameter. Then store it in count variable.\n",
    "- Finally, print the count of each character."
   ]
  },
  {
   "cell_type": "markdown",
   "metadata": {},
   "source": [
    "### 37. Remove all punctuation from a string."
   ]
  },
  {
   "cell_type": "code",
   "execution_count": 4,
   "metadata": {},
   "outputs": [
    {
     "name": "stdout",
     "output_type": "stream",
     "text": [
      "Original string: My name! Rajdip, Das.\n",
      "Cleaned string: My name Rajdip Das\n"
     ]
    }
   ],
   "source": [
    "import string\n",
    "\n",
    "# Take input a string from user\n",
    "input_str = input(\"Enter a string: \")\n",
    "\n",
    "# Remove punctuation from a string\n",
    "clean_str = input_str.translate(str.maketrans('', '', string.punctuation))\n",
    "\n",
    "# Print the old string\n",
    "print(\"Original string:\", input_str)\n",
    "\n",
    "# Print the new string\n",
    "print(\"Cleaned string:\", clean_str)"
   ]
  },
  {
   "cell_type": "markdown",
   "metadata": {},
   "source": [
    "- At first import string.\n",
    "- Take a string input from user using input() function and store it in input_str variable.\n",
    "- Remove punctuation using string with translate method.\n",
    "- Then at first pring the Original string.\n",
    "- Finally, print the cleaned string."
   ]
  },
  {
   "cell_type": "markdown",
   "metadata": {},
   "source": [
    "### 38. Check if a string contains only digits."
   ]
  },
  {
   "cell_type": "code",
   "execution_count": 6,
   "metadata": {},
   "outputs": [
    {
     "name": "stdout",
     "output_type": "stream",
     "text": [
      "The string does not contains only digits.\n"
     ]
    }
   ],
   "source": [
    "# Take input a string from user\n",
    "string = input(\"Enter a string: \")\n",
    "\n",
    "# Check the string contains only digit or not.\n",
    "if string.isdigit():\n",
    "    print(\"The string contains only digits.\")\n",
    "else:\n",
    "    print(\"The string does not contains only digits.\")"
   ]
  },
  {
   "cell_type": "markdown",
   "metadata": {},
   "source": [
    "- Take a string input using input() function and store it in string variable.\n",
    "- Then check is the string contains only digits or not\n",
    "    - If yes, then print the string contains only digits.\n",
    "    - else, print the stirng does not contains only digits."
   ]
  },
  {
   "cell_type": "markdown",
   "metadata": {},
   "source": [
    "### 39. Check if a string contains only alphabets."
   ]
  },
  {
   "cell_type": "code",
   "execution_count": 8,
   "metadata": {},
   "outputs": [
    {
     "name": "stdout",
     "output_type": "stream",
     "text": [
      "The string contains only alphabets.\n"
     ]
    }
   ],
   "source": [
    "# Take input a string from user\n",
    "string = input(\"Enter a string: \")\n",
    "\n",
    "# Check the string contains only alphabet or not.\n",
    "if string.isalpha():\n",
    "    print(\"The string contains only alphabets.\")\n",
    "else:\n",
    "    print(\"The string does not contains only alphabets.\")"
   ]
  },
  {
   "cell_type": "markdown",
   "metadata": {},
   "source": [
    "- Take a string input using input() function and store it in string variable.\n",
    "- Check is the string contains only alphabets or not\n",
    "    - If yes, then print the string contains only alphabets.\n",
    "    - else, print the string does not contains only alphabets."
   ]
  },
  {
   "cell_type": "markdown",
   "metadata": {},
   "source": [
    "### 40. Convert a string to a list of characters."
   ]
  },
  {
   "cell_type": "code",
   "execution_count": 9,
   "metadata": {},
   "outputs": [
    {
     "name": "stdout",
     "output_type": "stream",
     "text": [
      "List of characters will be:\n",
      " ['R', 'a', 'j', 'd', 'i', 'p', ' ', 'D', 'a', 's']\n"
     ]
    }
   ],
   "source": [
    "# Take input a string from user\n",
    "string = input(\"Enter a string: \")\n",
    "\n",
    "# Convert the string to list of characters\n",
    "char_list = list(string)\n",
    "\n",
    "# Print the list\n",
    "print(\"List of characters will be:\\n\", char_list)"
   ]
  },
  {
   "cell_type": "markdown",
   "metadata": {},
   "source": [
    "- Take a string input using input() function and store it in string variable.\n",
    "- Covert the string into list of charecters using list() function by passing it the string as parameter. Store it in char_list variable.\n",
    "- Finally, print the list of characters."
   ]
  },
  {
   "cell_type": "markdown",
   "metadata": {},
   "source": [
    "### 41. Check if two strings are anagrams."
   ]
  },
  {
   "cell_type": "code",
   "execution_count": 11,
   "metadata": {},
   "outputs": [
    {
     "name": "stdout",
     "output_type": "stream",
     "text": [
      "The two strings are not anagrams.\n"
     ]
    }
   ],
   "source": [
    "# Take input two strings from user\n",
    "string = input(\"Enter a string: \")\n",
    "string2 = input(\"Enter another string: \")\n",
    "\n",
    "# Check if two strings are anagrams or not then print\n",
    "if sorted(string) == sorted(string2):\n",
    "    print(\"The two strings are anagrams.\")\n",
    "else:\n",
    "    print(\"The two strings are not anagrams.\")"
   ]
  },
  {
   "cell_type": "markdown",
   "metadata": {},
   "source": [
    "- Take a string input from user using input() function and store it in string variable.\n",
    "- Take another string input from user using input() function and store it in string2 variable.\n",
    "- Sort the strings using sorted() function and check if the two string equal or not\n",
    "    - If yes, then print the two strings are anagrams.\n",
    "    - else, print the two strings are not anagrams."
   ]
  },
  {
   "cell_type": "markdown",
   "metadata": {},
   "source": [
    "### 42. Encode a string using a Caesar cipher."
   ]
  },
  {
   "cell_type": "code",
   "execution_count": 14,
   "metadata": {},
   "outputs": [
    {
     "name": "stdout",
     "output_type": "stream",
     "text": [
      "Cipher: Xgpjov\n"
     ]
    }
   ],
   "source": [
    "# Take input a string and a number from user\n",
    "string = input(\"Enter a string: \")\n",
    "s = int(input(\"Enter encode number: \"))\n",
    "\n",
    "# Initialize result with empty string\n",
    "result = \"\"\n",
    "\n",
    "# Iterate through every character and encode it\n",
    "for i in range(len(string)):\n",
    "    result += chr(ord(string[i]) + s)\n",
    "\n",
    "# Print the result\n",
    "print(\"Cipher:\", result)"
   ]
  },
  {
   "cell_type": "markdown",
   "metadata": {},
   "source": [
    "- Take a string input from user using input() function and store it in string variable.\n",
    "- Take a integer input from user using input() function and transfer it in integer using int() function. Store it in s variable.\n",
    "- Initialize result variable with empty string.\n",
    "- Iterate through length of the string (calculate using len() function).\n",
    "- In each iteration, change the charecter in i'th position of the string into unicode code (using ord() function), then add the encode number. After this change the total number into a charecter using chr() function. Then, Append the charecter in result variable.\n",
    "- Finally, print the encrypted string."
   ]
  },
  {
   "cell_type": "markdown",
   "metadata": {},
   "source": [
    "### 43. Decode a Caesar cipher encoded string."
   ]
  },
  {
   "cell_type": "code",
   "execution_count": 15,
   "metadata": {},
   "outputs": [
    {
     "name": "stdout",
     "output_type": "stream",
     "text": [
      "Text: Rajdip\n"
     ]
    }
   ],
   "source": [
    "# Take input a cipher string and a number from user\n",
    "string = input(\"Enter a cipher string: \")\n",
    "s = int(input(\"Enter decode number: \"))\n",
    "\n",
    "# Initialize result with empty string\n",
    "result = \"\"\n",
    "\n",
    "# Iterate through every character and decode it\n",
    "for i in range(len(string)):\n",
    "    result += chr(ord(string[i]) - s)\n",
    "\n",
    "# Print the result\n",
    "print(\"Text:\", result)"
   ]
  },
  {
   "cell_type": "markdown",
   "metadata": {},
   "source": [
    "- Take a encrypted string input from user using input() function and store it in string variable.\n",
    "- Take a integer input from user using input() function and transfer it in integer using int() function. Store it in s variable.\n",
    "- Initialize result variable with empty string.\n",
    "- Iterate through length of the string (calculate using len() function).\n",
    "- In each iteration, change the charecter in i'th position of the string into unicode code (using ord() function), then subtract the decode number. After this change the number into a charecter using chr() function. Then, Append the charecter in result variable.\n",
    "- Finally, print the decrypted string."
   ]
  },
  {
   "cell_type": "markdown",
   "metadata": {},
   "source": [
    "### 44. Find the most frequent word in a string."
   ]
  },
  {
   "cell_type": "code",
   "execution_count": 19,
   "metadata": {},
   "outputs": [
    {
     "name": "stdout",
     "output_type": "stream",
     "text": [
      "Count of all character it the string is:\n",
      " hello\n"
     ]
    }
   ],
   "source": [
    "from collections import Counter\n",
    "import string\n",
    "\n",
    "# Take input a string from user\n",
    "line = input(\"Enter a string: \")\n",
    "\n",
    "# Remove punctuation from the string and make the string lower case\n",
    "clean_line = line.translate(str.maketrans('', '', string.punctuation)).lower()\n",
    "\n",
    "# Make a list of words from the string\n",
    "word_list = clean_line.split()\n",
    "\n",
    "# fetch the word\n",
    "word = Counter(word_list).most_common(1)[0][0]\n",
    "\n",
    "# Print the answer\n",
    "print(\"Most frequent word in the string is:\", word)"
   ]
  },
  {
   "cell_type": "markdown",
   "metadata": {},
   "source": [
    "- At first import Counter function from collections package and import string package.\n",
    "- Take a string input from user using input() function and store it in line variable.\n",
    "- Remove all punctuations from the string using .translate() method and make the string in lower case using .lower() method. Store it in clean_line variable.\n",
    "- Make a word list from the string using .split() method. Then store the list in word_list variable.\n",
    "- Then fetch the most frequent word and store it in word variable.\n",
    "- Finally, print the word."
   ]
  },
  {
   "cell_type": "markdown",
   "metadata": {},
   "source": [
    "### 45. Find all unique words in a string."
   ]
  },
  {
   "cell_type": "code",
   "execution_count": 21,
   "metadata": {},
   "outputs": [
    {
     "name": "stdout",
     "output_type": "stream",
     "text": [
      "hello rajdip my name das is "
     ]
    }
   ],
   "source": [
    "# Take input a string from user\n",
    "string = input(\"Enter a string: \")\n",
    "\n",
    "# Make the string into list of words\n",
    "word_list = string.split()\n",
    "\n",
    "# Make the word list in set\n",
    "word_set = set(word_list)\n",
    "\n",
    "# Print the words\n",
    "print(\"The unique words are:\\n\")\n",
    "for word in word_set:\n",
    "    print(word, end=\", \")"
   ]
  },
  {
   "cell_type": "markdown",
   "metadata": {},
   "source": [
    "- Take a string input from user using input() function and store it in string variable.\n",
    "- Make a list from the string using .split() method and store it in word_list variable.\n",
    "- Turn the list into set using set() function, so, the duplicate values are removed. Store it in word_set variable.\n",
    "- Finally, print the unique words one by one using for loop."
   ]
  },
  {
   "cell_type": "markdown",
   "metadata": {},
   "source": [
    "### 46. Count the number of syllables in a string."
   ]
  },
  {
   "cell_type": "code",
   "execution_count": 44,
   "metadata": {},
   "outputs": [
    {
     "name": "stdout",
     "output_type": "stream",
     "text": [
      "The string has 2 syllables.\n"
     ]
    }
   ],
   "source": [
    "import re\n",
    "\n",
    "# Take input a string from user\n",
    "string = input(\"Enter a string: \")\n",
    "\n",
    "# Make the string in lower case\n",
    "string = string.lower()\n",
    "\n",
    "# Count vowel group using regular expression\n",
    "vowel_group = re.findall(r'[aeiou]+', string, re.IGNORECASE)\n",
    "count = len(vowel_group)\n",
    "\n",
    "# Print the answer\n",
    "print(f\"The string has {count} syllables.\")"
   ]
  },
  {
   "cell_type": "markdown",
   "metadata": {},
   "source": [
    "- At first import re in my code.\n",
    "- Take a string input from user using input() function and store it in string variable.\n",
    "- Make the string in lower case using .lower() method and store it in the same string variable.\n",
    "- Count vowel group using regular expression and count the vowel group using len() function and store it in count variable.\n",
    "- Finally, print the total number of syllables."
   ]
  },
  {
   "cell_type": "markdown",
   "metadata": {},
   "source": [
    "### 47. Check if a string contains any special characters."
   ]
  },
  {
   "cell_type": "code",
   "execution_count": 27,
   "metadata": {},
   "outputs": [
    {
     "name": "stdout",
     "output_type": "stream",
     "text": [
      "The string contains spacial characters.\n"
     ]
    }
   ],
   "source": [
    "import re\n",
    "\n",
    "# Take input a string from user\n",
    "string = input(\"Enter a string: \")\n",
    "\n",
    "# Make a regular expression\n",
    "rule = r'[`~=!@#$%^&*()_+{}\\[\\]:;<>,.?~\\\\/]'\n",
    "\n",
    "# Validate the string using the rule\n",
    "if re.search(rule, string):\n",
    "    print(\"The string contains spacial characters.\")\n",
    "else:\n",
    "    print(\"The string does not contain any spacial characters.\")"
   ]
  },
  {
   "cell_type": "markdown",
   "metadata": {},
   "source": [
    "- At first import re in my code.\n",
    "- Take a string input from user using input() function and store it in string variable.\n",
    "- Make a regular expression with different special character. Store it in rule variable.\n",
    "- Validate the string with the rule using .search() method.\n",
    "    - If the validation true, then print the string contains spacial characters.\n",
    "    - else, print the string does not contain any special characters."
   ]
  },
  {
   "cell_type": "markdown",
   "metadata": {},
   "source": [
    "### 48. Remove the nth word from a string."
   ]
  },
  {
   "cell_type": "code",
   "execution_count": 29,
   "metadata": {},
   "outputs": [
    {
     "name": "stdout",
     "output_type": "stream",
     "text": [
      "Previous string: My name is Rajdip Das\n",
      "New string: My name Rajdip Das\n",
      "Deleted word: is\n"
     ]
    }
   ],
   "source": [
    "# Take input a string from user\n",
    "string = input(\"Enter a string: \")\n",
    "\n",
    "# Make the string into list of words\n",
    "word_list = string.split()\n",
    "\n",
    "# Take input a position from user\n",
    "position = int(input(f\"Enter the word position you want to delete [1-{len(word_list)}]: \"))\n",
    "\n",
    "# Make the deletion\n",
    "if position-1 >= 0 and position-1 < len(word_list):\n",
    "    delete_word = word_list.pop(position-1)\n",
    "    new_string = ' '.join(word_list)\n",
    "    print(f\"Previous string: {string}\")\n",
    "    print(f\"New string: {new_string}\")\n",
    "    print(f\"Deleted word: {delete_word}\")\n",
    "else:\n",
    "    print(\"Position out of range.\")"
   ]
  },
  {
   "cell_type": "markdown",
   "metadata": {},
   "source": [
    "- Take a string input from user using input() function and store it in string variable.\n",
    "- Make a list of words with the string using .split() method. Store it in word_list variable.\n",
    "- Take a integer input from user as position for the word, user want to delete. Store it in position variable.\n",
    "- Make a statement if the inputed position in the range or not\n",
    "    - If yes, then pop the word in that position from word_list. Store the poped value in delete_word variable. Then join the word_list using .join() method and store it in new_string. Finally, Print the previous string, new string and the poped value.\n",
    "    - If no, then print position out of range."
   ]
  },
  {
   "cell_type": "markdown",
   "metadata": {},
   "source": [
    "### 49. Insert a word at the nth position in a string."
   ]
  },
  {
   "cell_type": "code",
   "execution_count": 39,
   "metadata": {},
   "outputs": [
    {
     "name": "stdout",
     "output_type": "stream",
     "text": [
      "Previous string: My name is Rajdip\n",
      "New word: Das\n",
      "New string after Insertion: My name is Rajdip Das\n"
     ]
    }
   ],
   "source": [
    "# Take input a string and the new word from user\n",
    "string = input(\"Enter a string: \")\n",
    "word = input(\"Enter the word: \")\n",
    "\n",
    "# Make the string into list of words\n",
    "word_list = string.split()\n",
    "\n",
    "# Take input a position from user\n",
    "position = int(input(f\"Enter the position you want to Insert [1-{len(word_list)+1}]: \"))\n",
    "\n",
    "# Make the Insertion\n",
    "if position-1 >= 0 and position <= len(word_list)+1:\n",
    "    word_list.insert(position-1, word)\n",
    "    new_string = ' '.join(word_list)\n",
    "    print(f\"Previous string: {string}\")\n",
    "    print(f\"New word: {word}\")\n",
    "    print(f\"New string after Insertion: {new_string}\")\n",
    "    \n",
    "else:\n",
    "    print(\"Position out of range.\")"
   ]
  },
  {
   "cell_type": "markdown",
   "metadata": {},
   "source": [
    "- Take a string input from user using input() function and store it in string variable.\n",
    "- Take a word input from user using input() function and store it in word variable.\n",
    "- Make a list of words with the string using .split() method. Store it in word_list variable.\n",
    "- Take a integer input from user as position for the word, user want to insert. Store it in position variable.\n",
    "- Make a statement if the inputed position in the range or not\n",
    "    - If yes, then insert the word in that position in word_list. Then join the word_list using .join() method and store it in new_string. Finally, Print the previous string, the new word and the new string after insertion.\n",
    "    - If no, then print position out of range."
   ]
  },
  {
   "cell_type": "markdown",
   "metadata": {},
   "source": [
    "### 50. Convert a CSV string to a list of lists."
   ]
  },
  {
   "cell_type": "code",
   "execution_count": 43,
   "metadata": {},
   "outputs": [
    {
     "name": "stdout",
     "output_type": "stream",
     "text": [
      "After making list of lists:\n",
      "[['Name', 'Age', 'Country'], ['Raj', '23', 'IND'], ['Dev', '15', 'UAE'], ['Ron', '20', 'UK'], ['Alen', '25', 'UK']]\n"
     ]
    }
   ],
   "source": [
    "# Make an example csv format\n",
    "csv = \"Name, Age, Country\\nRaj, 23, IND\\nDev, 15, UAE\\nRon, 20, UK\\nAlen, 25, UK\"\n",
    "\n",
    "# Split the csv on '\\n'\n",
    "list1 = csv.split('\\n')\n",
    "\n",
    "# Initialize a list2 with empty list\n",
    "list2 = []\n",
    "\n",
    "# Make another list from every element of the list1\n",
    "for elements in list1:\n",
    "    ele = elements.split(', ')\n",
    "    list2.append(ele)\n",
    "\n",
    "print(\"After making list of lists:\")\n",
    "print(list2)"
   ]
  },
  {
   "cell_type": "markdown",
   "metadata": {},
   "source": [
    "- Make a example csv string format. Store it in csv variable.\n",
    "- Make a list from the string using .split() method. split the string on '\\n' at first. Store it in list1 variable.\n",
    "- Initialize a list2 variable with empty list.\n",
    "- Iterate through every elements from the list and split the element using .split() method on ', '. Store it in ele variable. Then append ele in list2 variable.\n",
    "- After the itaration print the list2 which is list of lists."
   ]
  },
  {
   "cell_type": "markdown",
   "metadata": {},
   "source": [
    "# List Based Practice Problem"
   ]
  },
  {
   "cell_type": "markdown",
   "metadata": {},
   "source": [
    "### 1. Create a list with integers from 1 to 10."
   ]
  },
  {
   "cell_type": "code",
   "execution_count": 45,
   "metadata": {},
   "outputs": [
    {
     "name": "stdout",
     "output_type": "stream",
     "text": [
      "The list is:\n",
      "[1, 2, 3, 4, 5, 6, 7, 8, 9, 10]\n"
     ]
    }
   ],
   "source": [
    "# Initialize result with empty list\n",
    "result = []\n",
    "\n",
    "# Iterate through a given range of 1 to 11\n",
    "for i in range(1, 11):\n",
    "    result.append(i)\n",
    "\n",
    "# Print the list\n",
    "print(f\"The list is:\\n{result}\")"
   ]
  },
  {
   "cell_type": "markdown",
   "metadata": {},
   "source": [
    "- Initialize a result variable with empty list.\n",
    "- Iterate through a range of 1 to 11.\n",
    "- In every iteration append the i'th value into the result variable using .append() method.\n",
    "- Finally, print the list."
   ]
  },
  {
   "cell_type": "markdown",
   "metadata": {},
   "source": [
    "### 2. Find the length of a list without using the `len()` function."
   ]
  },
  {
   "cell_type": "code",
   "execution_count": 46,
   "metadata": {},
   "outputs": [
    {
     "name": "stdout",
     "output_type": "stream",
     "text": [
      "Length of the list is: 6\n"
     ]
    }
   ],
   "source": [
    "# Make an example list\n",
    "my_list = [1, 2, 3, 4, 16, 28]\n",
    "\n",
    "# Initialize count variable with 0\n",
    "count = 0\n",
    "\n",
    "# Iterate through every element of the list and count\n",
    "for ele in my_list:\n",
    "    count += 1\n",
    "\n",
    "# Print the length of the list\n",
    "print(f\"Length of the list is: {count}\")"
   ]
  },
  {
   "cell_type": "markdown",
   "metadata": {},
   "source": [
    "- Let's make an example list. Store it in my_list variable.\n",
    "- Initialize a count variable with 0.\n",
    "- Iterate through every element of the list.\n",
    "- For every iteration increase the count variable by 1.\n",
    "- Finally, print the length of the list or we can say total number of element."
   ]
  },
  {
   "cell_type": "markdown",
   "metadata": {},
   "source": [
    "### 3. Append an element to the end of a list."
   ]
  },
  {
   "cell_type": "code",
   "execution_count": 47,
   "metadata": {},
   "outputs": [
    {
     "name": "stdout",
     "output_type": "stream",
     "text": [
      "The new list is:\n",
      "[1, 2, 3, 4, 16, 28, 50]\n"
     ]
    }
   ],
   "source": [
    "# Make an example list\n",
    "my_list = [1, 2, 3, 4, 16, 28]\n",
    "\n",
    "# Initialize an element\n",
    "element = 50\n",
    "\n",
    "# Append the element in the list\n",
    "my_list.append(element)\n",
    "\n",
    "# Print the new list\n",
    "print(f\"The new list is:\\n{my_list}\")"
   ]
  },
  {
   "cell_type": "markdown",
   "metadata": {},
   "source": [
    "- Make an example list. Store the list in my_list variable.\n",
    "- Initialize an element and make the element value 50.\n",
    "- Append the element in my_list using .append() method.\n",
    "- Finally, print the list."
   ]
  },
  {
   "cell_type": "markdown",
   "metadata": {},
   "source": [
    "### 4. Insert an element at a specific index in a list."
   ]
  },
  {
   "cell_type": "code",
   "execution_count": 49,
   "metadata": {},
   "outputs": [
    {
     "name": "stdout",
     "output_type": "stream",
     "text": [
      "The new list is:\n",
      "[1, 2, 3, 4, 5, 16, 28]\n"
     ]
    }
   ],
   "source": [
    "# Make an example list\n",
    "my_list = [1, 2, 3, 4, 16, 28]\n",
    "\n",
    "# Initialize an element\n",
    "element = 5\n",
    "\n",
    "# Initialize an example position\n",
    "insert_index = 4\n",
    "\n",
    "# Perform the insertion\n",
    "my_list.insert(insert_index, element)\n",
    "\n",
    "# Print the new list\n",
    "print(f\"The new list is:\\n{my_list}\")"
   ]
  },
  {
   "cell_type": "markdown",
   "metadata": {},
   "source": [
    "- Make an example list. Store the list in my_list variable.\n",
    "- Initialize an element and make the element value 5.\n",
    "- Initialize a insert_index variable with 4. It is the position where we insert the element.\n",
    "- Insert the element in the given index position of the list using .insert() method.\n",
    "- Finally, print the list."
   ]
  },
  {
   "cell_type": "markdown",
   "metadata": {},
   "source": [
    "### 5. Remove an element from a list by its value."
   ]
  },
  {
   "cell_type": "code",
   "execution_count": 50,
   "metadata": {},
   "outputs": [
    {
     "name": "stdout",
     "output_type": "stream",
     "text": [
      "The new list is:\n",
      "[1, 2, 3, 16, 28]\n"
     ]
    }
   ],
   "source": [
    "# Make an example list\n",
    "my_list = [1, 2, 3, 4, 16, 28]\n",
    "\n",
    "# Initialize an example value from the list\n",
    "element = 4\n",
    "\n",
    "# Perform the deletion\n",
    "my_list.remove(element)\n",
    "\n",
    "# Print the new list\n",
    "print(f\"The new list is:\\n{my_list}\")"
   ]
  },
  {
   "cell_type": "markdown",
   "metadata": {},
   "source": [
    "- Make an example list. Store the list in my_list variable.\n",
    "- Initialize an element and take this variable's value from the list. I take 4.\n",
    "- Remove the element from the list using .remove() method.\n",
    "- Finally, print the list."
   ]
  },
  {
   "cell_type": "markdown",
   "metadata": {},
   "source": [
    "### 6. Remove an element from a list by its index."
   ]
  },
  {
   "cell_type": "code",
   "execution_count": 51,
   "metadata": {},
   "outputs": [
    {
     "name": "stdout",
     "output_type": "stream",
     "text": [
      "The new list is:\n",
      "[1, 2, 3, 4, 28]\n"
     ]
    }
   ],
   "source": [
    "# Make an example list\n",
    "my_list = [1, 2, 3, 4, 16, 28]\n",
    "\n",
    "# Initialize an example index from the list\n",
    "index_position = 4\n",
    "\n",
    "# Perform the deletion\n",
    "my_list.pop(index_position)\n",
    "\n",
    "# Print the new list\n",
    "print(f\"The new list is:\\n{my_list}\")"
   ]
  },
  {
   "cell_type": "markdown",
   "metadata": {},
   "source": [
    "- Make an example list. Store the list in my_list variable.\n",
    "- Initialize an index_position form the list. I choose 4.\n",
    "- Pop or delete the value from the list at the given index position using .pop() method.\n",
    "- Finally, print the list."
   ]
  },
  {
   "cell_type": "markdown",
   "metadata": {},
   "source": [
    "### 7. Check if an element exists in a list."
   ]
  },
  {
   "cell_type": "code",
   "execution_count": 52,
   "metadata": {},
   "outputs": [
    {
     "name": "stdout",
     "output_type": "stream",
     "text": [
      "The element is in the list.\n"
     ]
    }
   ],
   "source": [
    "# Make an example list\n",
    "my_list = [1, 2, 3, 4, 16, 28]\n",
    "\n",
    "# Initialize an element\n",
    "element = 4\n",
    "\n",
    "# Check if the element is in the list or not\n",
    "if element in my_list:\n",
    "    print(\"The element is in the list.\")\n",
    "else:\n",
    "    print(\"The elemnt is not in the list.\")"
   ]
  },
  {
   "cell_type": "markdown",
   "metadata": {},
   "source": [
    "- Make an example list. Store the list in my_list variable.\n",
    "- Initialize an element and make it's value whatever you want. You can take value from list or you can't. I choose 4 form the list.\n",
    "- Check whether the element is in the list or not\n",
    "    - If yes, then print the element is in the list.\n",
    "    - else, print the element is not in the list."
   ]
  },
  {
   "cell_type": "markdown",
   "metadata": {},
   "source": [
    "### 8. Find the index of the first occurrence of an element in a list."
   ]
  },
  {
   "cell_type": "code",
   "execution_count": 53,
   "metadata": {},
   "outputs": [
    {
     "name": "stdout",
     "output_type": "stream",
     "text": [
      "The index of the first occurrence of the element is: 3\n"
     ]
    }
   ],
   "source": [
    "# Make an example list\n",
    "my_list = [1, 2, 3, 4, 16, 4, 28, 4]\n",
    "\n",
    "# Initialize the element\n",
    "element = 4\n",
    "\n",
    "# Find the index\n",
    "position = my_list.index(element)\n",
    "\n",
    "# Print the position\n",
    "print(f\"The index of the first occurrence of the element is: {position}\")"
   ]
  },
  {
   "cell_type": "markdown",
   "metadata": {},
   "source": [
    "- Make an example list. Store the list in my_list variable.\n",
    "- Initialize an element and take the value from the list. I take 4 from the list.\n",
    "- Fetch the index position of the first occurrence of the element using .index() method. Store the index value in position variable.\n",
    "- Finally, print the position."
   ]
  },
  {
   "cell_type": "markdown",
   "metadata": {},
   "source": [
    "### 9. Count the occurrences of an element in a list."
   ]
  },
  {
   "cell_type": "code",
   "execution_count": 54,
   "metadata": {},
   "outputs": [
    {
     "name": "stdout",
     "output_type": "stream",
     "text": [
      "Total number of the element is: 3\n"
     ]
    }
   ],
   "source": [
    "# Make an example list\n",
    "my_list = [1, 2, 3, 4, 16, 4, 28, 4]\n",
    "\n",
    "# Initialize the element\n",
    "element = 4\n",
    "\n",
    "# Count the occurrence of the element\n",
    "count = my_list.count(element)\n",
    "\n",
    "# Print the total count\n",
    "print(f\"Total number of the element is: {count}\")"
   ]
  },
  {
   "cell_type": "markdown",
   "metadata": {},
   "source": [
    "- Make an example list. Store the list in my_list variable.\n",
    "- Initialize an element and make the element value 4.\n",
    "- count how many element is in the list using .count() method. Store the total value in count variable.\n",
    "- Finally, print the total count."
   ]
  },
  {
   "cell_type": "markdown",
   "metadata": {},
   "source": [
    "### 10. Reverse the order of elements in a list."
   ]
  },
  {
   "cell_type": "code",
   "execution_count": 56,
   "metadata": {},
   "outputs": [
    {
     "name": "stdout",
     "output_type": "stream",
     "text": [
      "The reversed list is:\n",
      "[4, 28, 4, 16, 4, 3, 2, 1]\n"
     ]
    }
   ],
   "source": [
    "# Make an example list\n",
    "my_list = [1, 2, 3, 4, 16, 4, 28, 4]\n",
    "\n",
    "# Reverse the list\n",
    "rev_my_list = my_list[::-1]\n",
    "\n",
    "# Print the reversed list\n",
    "print(f\"The reversed list is:\\n{rev_my_list}\")"
   ]
  },
  {
   "cell_type": "markdown",
   "metadata": {},
   "source": [
    "- Make an example list. Store the list in my_list variable.\n",
    "- Reverse the list using list slicing method and store the reversed list in rev_my_list variable.\n",
    "- Finally, print the reversed list."
   ]
  },
  {
   "cell_type": "markdown",
   "metadata": {},
   "source": [
    "### 11. Sort a list in ascending order."
   ]
  },
  {
   "cell_type": "code",
   "execution_count": 59,
   "metadata": {},
   "outputs": [
    {
     "name": "stdout",
     "output_type": "stream",
     "text": [
      "List after sorting:\n",
      "[1, 2, 3, 4, 4, 4, 16, 28]\n"
     ]
    }
   ],
   "source": [
    "# Make an example list\n",
    "my_list = [2, 3, 1, 4, 28, 4, 16, 4]\n",
    "\n",
    "# Sort the list in ascending order\n",
    "my_list.sort()\n",
    "\n",
    "# Print the sorted list\n",
    "print(f\"List after sorting:\\n{my_list}\")"
   ]
  },
  {
   "cell_type": "markdown",
   "metadata": {},
   "source": [
    "- Make an example list. Store the list in my_list variable.\n",
    "- Sort the list in ascending order using .sort() method.\n",
    "- Finally, print the sorted list."
   ]
  },
  {
   "cell_type": "markdown",
   "metadata": {},
   "source": [
    "### 12. Sort a list in descending order."
   ]
  },
  {
   "cell_type": "code",
   "execution_count": 60,
   "metadata": {},
   "outputs": [
    {
     "name": "stdout",
     "output_type": "stream",
     "text": [
      "List after sorting:\n",
      "[28, 16, 4, 4, 4, 3, 2, 1]\n"
     ]
    }
   ],
   "source": [
    "# Make an example list\n",
    "my_list = [2, 3, 1, 4, 28, 4, 16, 4]\n",
    "\n",
    "# Sort the list in descending order\n",
    "my_list.sort(reverse=True)\n",
    "\n",
    "# Print the sorted list\n",
    "print(f\"List after sorting:\\n{my_list}\")"
   ]
  },
  {
   "cell_type": "markdown",
   "metadata": {},
   "source": [
    "- Make an example list. Store the list in my_list variable.\n",
    "- Sort the list in descending order using .sort() method and pass reverse=True as parameter.\n",
    "- Finally, print the sorted list."
   ]
  },
  {
   "cell_type": "markdown",
   "metadata": {},
   "source": [
    "### 13. Create a list of even numbers from 1 to 20."
   ]
  },
  {
   "cell_type": "code",
   "execution_count": 62,
   "metadata": {},
   "outputs": [
    {
     "name": "stdout",
     "output_type": "stream",
     "text": [
      "List with even numbers:\n",
      "[2, 4, 6, 8, 10, 12, 14, 16, 18, 20]\n"
     ]
    }
   ],
   "source": [
    "# Initialize an empty list\n",
    "my_list = []\n",
    "\n",
    "# Iterate through 2 to 21 with step value 2\n",
    "for i in range(2, 21, 2):\n",
    "    my_list.append(i)\n",
    "\n",
    "# Print the list\n",
    "print(f\"List with even numbers:\\n{my_list}\")"
   ]
  },
  {
   "cell_type": "markdown",
   "metadata": {},
   "source": [
    "- Make an example list. Store the list in my_list variable.\n",
    "- Iterate through a range of 2 to 21 with a step 2. Then append the value in my_list using .append() method.\n",
    "- Finally, print the list with even numbers."
   ]
  },
  {
   "cell_type": "markdown",
   "metadata": {},
   "source": [
    "### 14. Create a list of odd numbers from 1 to 20."
   ]
  },
  {
   "cell_type": "code",
   "execution_count": 63,
   "metadata": {},
   "outputs": [
    {
     "name": "stdout",
     "output_type": "stream",
     "text": [
      "List with odd numbers:\n",
      "[1, 3, 5, 7, 9, 11, 13, 15, 17, 19]\n"
     ]
    }
   ],
   "source": [
    "# Initialize an empty list\n",
    "my_list = []\n",
    "\n",
    "# Iterate through 1 to 21 with step value 2\n",
    "for i in range(1, 21, 2):\n",
    "    my_list.append(i)\n",
    "\n",
    "# Print the list\n",
    "print(f\"List with odd numbers:\\n{my_list}\")"
   ]
  },
  {
   "cell_type": "markdown",
   "metadata": {},
   "source": [
    "- Make an example list. Store the list in my_list variable.\n",
    "- Iterate through a range of 1 to 21 with a step 2. Then append the value in my_list using .append() method.\n",
    "- Finally, print the list with odd numbers."
   ]
  },
  {
   "cell_type": "markdown",
   "metadata": {},
   "source": [
    "### 15. Find the sum of all elements in a list."
   ]
  },
  {
   "cell_type": "code",
   "execution_count": 64,
   "metadata": {},
   "outputs": [
    {
     "name": "stdout",
     "output_type": "stream",
     "text": [
      "Sum of all elements in the list: 62\n"
     ]
    }
   ],
   "source": [
    "# Make an example list\n",
    "my_list = [2, 3, 1, 4, 28, 4, 16, 4]\n",
    "\n",
    "# Initialize a sum variable with 0\n",
    "sum = 0\n",
    "\n",
    "# Iterate through the list and perform the addition\n",
    "for ele in my_list:\n",
    "    sum += ele\n",
    "\n",
    "# print the sum value\n",
    "print(f\"Sum of all elements in the list: {sum}\")"
   ]
  },
  {
   "cell_type": "markdown",
   "metadata": {},
   "source": [
    "- Make an example list. Store the list in my_list variable.\n",
    "- Initialize sum variable with 0.\n",
    "- Iterate through every element of the list.\n",
    "- In every iteration add the element with sum and store it in sum variable.\n",
    "- Finally, print the sum of the all element of the list."
   ]
  },
  {
   "cell_type": "markdown",
   "metadata": {},
   "source": [
    "### 16. Find the maximum value in a list."
   ]
  },
  {
   "cell_type": "code",
   "execution_count": 68,
   "metadata": {},
   "outputs": [
    {
     "name": "stdout",
     "output_type": "stream",
     "text": [
      "Maximum value in the list is: 28\n"
     ]
    }
   ],
   "source": [
    "# Make an example list\n",
    "my_list = [2, 3, 1, 4, 28, 4, 16, 4]\n",
    "\n",
    "# Find the maximum value in the list\n",
    "max_value = max(my_list)\n",
    "\n",
    "# Print the value\n",
    "print(f\"Maximum value in the list is: {max_value}\")"
   ]
  },
  {
   "cell_type": "markdown",
   "metadata": {},
   "source": [
    "- Make an example list. Store the list in my_list variable.\n",
    "- Find maximum value in the list using max() function. Store the value in max_value variable.\n",
    "- Finally, print the maximum value."
   ]
  },
  {
   "cell_type": "markdown",
   "metadata": {},
   "source": [
    "### 17. Find the minimum value in a list."
   ]
  },
  {
   "cell_type": "code",
   "execution_count": 69,
   "metadata": {},
   "outputs": [
    {
     "name": "stdout",
     "output_type": "stream",
     "text": [
      "Minimum value in the list is: 1\n"
     ]
    }
   ],
   "source": [
    "# Make an example list\n",
    "my_list = [2, 3, 1, 4, 28, 4, 16, 4]\n",
    "\n",
    "# Find the minimum value in the list\n",
    "min_value = min(my_list)\n",
    "\n",
    "# Print the value\n",
    "print(f\"Minimum value in the list is: {min_value}\")"
   ]
  },
  {
   "cell_type": "markdown",
   "metadata": {},
   "source": [
    "- Make an example list. Store the list in my_list variable.\n",
    "- Find minimum value in the list using min() function. Store the value in min_value variable.\n",
    "- Finally, print the minimum value."
   ]
  },
  {
   "cell_type": "markdown",
   "metadata": {},
   "source": [
    "### 18. Create a list of squares of numbers from 1 to 10."
   ]
  },
  {
   "cell_type": "code",
   "execution_count": 70,
   "metadata": {},
   "outputs": [
    {
     "name": "stdout",
     "output_type": "stream",
     "text": [
      "List of squares:\n",
      "[1, 4, 9, 16, 25, 36, 49, 64, 81, 100]\n"
     ]
    }
   ],
   "source": [
    "# Initialize an empty list\n",
    "my_list = []\n",
    "\n",
    "# Iterate through 1 to 11\n",
    "for i in range(1, 11):\n",
    "    my_list.append(i*i)\n",
    "\n",
    "# Print the list of squares\n",
    "print(f\"List of squares:\\n{my_list}\")"
   ]
  },
  {
   "cell_type": "markdown",
   "metadata": {},
   "source": [
    "- Initialize my_list with empty list.\n",
    "- Iterate through 1 to 11.\n",
    "- In every iteration append the square value in my_list using .append() method.\n",
    "- Finally, print list of all square values of 1 to 10."
   ]
  },
  {
   "cell_type": "markdown",
   "metadata": {},
   "source": [
    "### 19. Create a list of random numbers."
   ]
  },
  {
   "cell_type": "code",
   "execution_count": 96,
   "metadata": {},
   "outputs": [
    {
     "name": "stdout",
     "output_type": "stream",
     "text": [
      "List with random numbers:\n",
      "[13, 26, 35, 25, 55, 46, 100, 67, 40, 82]\n"
     ]
    }
   ],
   "source": [
    "import random\n",
    "\n",
    "# Initialize an empty list\n",
    "my_list = []\n",
    "\n",
    "# Iterate through 1 to 11\n",
    "for i in range(1, 11):\n",
    "    my_list.append(random.randint(1, 100))\n",
    "\n",
    "# Print the list with random numbers 1 to 100\n",
    "print(f\"List with random numbers:\\n{my_list}\")"
   ]
  },
  {
   "cell_type": "markdown",
   "metadata": {},
   "source": [
    "- At first, import random package in my code.\n",
    "- Initialize my_list as empty list.\n",
    "- Iterate through 1 to 11\n",
    "- In every iteration append a random value within 1-100, which pick up by .randint() method from random package. The append perform by .append() method in my_list variable.\n",
    "- Finally, print the list of 10 random numbers."
   ]
  },
  {
   "cell_type": "markdown",
   "metadata": {},
   "source": [
    "### 20. Remove duplicates from a list."
   ]
  },
  {
   "cell_type": "code",
   "execution_count": 72,
   "metadata": {},
   "outputs": [
    {
     "name": "stdout",
     "output_type": "stream",
     "text": [
      "List without duplicate values:\n",
      "[1, 2, 3, 4, 16, 28]\n"
     ]
    }
   ],
   "source": [
    "# Make an example list\n",
    "my_list = [2, 3, 1, 4, 28, 4, 16, 4]\n",
    "\n",
    "# For remove duplicates convert it to a set and back to a list\n",
    "new_list = list(set(my_list))\n",
    "\n",
    "# Print the list\n",
    "print(f\"List without duplicate values:\\n{new_list}\")"
   ]
  },
  {
   "cell_type": "markdown",
   "metadata": {},
   "source": [
    "- Make an example list. Store the list in my_list variable.\n",
    "- Remove the duplicates by converting the list to a set then convert it back to a list. Store the list in new_list variable.\n",
    "- Finally, print the new list without duplicate values."
   ]
  },
  {
   "cell_type": "markdown",
   "metadata": {},
   "source": [
    "### 21. Find the common elements between two lists."
   ]
  },
  {
   "cell_type": "code",
   "execution_count": 91,
   "metadata": {},
   "outputs": [
    {
     "name": "stdout",
     "output_type": "stream",
     "text": [
      "The common elemens in the list are: [5, 6]\n"
     ]
    }
   ],
   "source": [
    "# Make two example list\n",
    "my_list = [1, 2, 3, 4, 5, 6]\n",
    "my_list2 = [5, 6, 7, 8, 9, 10]\n",
    "\n",
    "# Convert the lists into sets\n",
    "my_set = set(my_list)\n",
    "my_set2 = set(my_list2)\n",
    "\n",
    "# Find the common elements\n",
    "common = my_set.intersection(my_set2)\n",
    "\n",
    "# Print the elements\n",
    "print(\"The common elemens in the list are:\", list(common))"
   ]
  },
  {
   "cell_type": "markdown",
   "metadata": {},
   "source": [
    "- Make two example list. Store the lists in my_list and my_list2 variable.\n",
    "- Convert the two list in set using set() function. Store the two set into my_set and my_set2 variable.\n",
    "- Find the common elements from the two set using .intersection() method. Store the common elements in common variable.\n",
    "- Finally, print the common elements to typecast it, set to list using list() function."
   ]
  },
  {
   "cell_type": "markdown",
   "metadata": {},
   "source": [
    "### 22. Find the difference between two lists."
   ]
  },
  {
   "cell_type": "code",
   "execution_count": 77,
   "metadata": {},
   "outputs": [
    {
     "name": "stdout",
     "output_type": "stream",
     "text": [
      "Difference between two lists are: [1, 2, 3, 4]\n"
     ]
    }
   ],
   "source": [
    "# Make two example list\n",
    "my_list = [1, 2, 3, 4, 5, 6]\n",
    "my_list2 = [5, 6, 7, 8, 9, 10]\n",
    "\n",
    "# Convert the lists into sets\n",
    "my_set = set(my_list)\n",
    "my_set2 = set(my_list2)\n",
    "\n",
    "# Find difference\n",
    "diff = my_set.difference(my_set2)\n",
    "\n",
    "# Print the elements\n",
    "print(\"Difference between two lists are:\", list(diff))"
   ]
  },
  {
   "cell_type": "markdown",
   "metadata": {},
   "source": [
    "- Make two example list. Store the lists in my_list and my_list2 variable.\n",
    "- Convert the two list in set using set() function. Store the two set into my_set and my_set2 variable.\n",
    "- Find the difference between the two sets using .difference() method. Store the difference in diff variable.\n",
    "- Finally, print the difference to typecast it, set to list using list() function."
   ]
  },
  {
   "cell_type": "markdown",
   "metadata": {},
   "source": [
    "### 23. Merge two lists."
   ]
  },
  {
   "cell_type": "code",
   "execution_count": 79,
   "metadata": {},
   "outputs": [
    {
     "name": "stdout",
     "output_type": "stream",
     "text": [
      "List after merging: [1, 2, 3, 4, 5, 6, 5, 6, 7, 8, 9, 10]\n"
     ]
    }
   ],
   "source": [
    "# Make two example list\n",
    "my_list = [1, 2, 3, 4, 5, 6]\n",
    "my_list2 = [5, 6, 7, 8, 9, 10]\n",
    "\n",
    "# Merge two list\n",
    "merge_list = my_list + my_list2\n",
    "\n",
    "# Print the merged list\n",
    "print(\"List after merging:\", merge_list)"
   ]
  },
  {
   "cell_type": "markdown",
   "metadata": {},
   "source": [
    "- Make two example list. Store the lists in my_list and my_list2 variable.\n",
    "- Merge two list using '+' operator. Store the merged list in merge_list variable.\n",
    "- Finally, print the list after merging."
   ]
  },
  {
   "cell_type": "markdown",
   "metadata": {},
   "source": [
    "### 24. Multiply all elements in a list by 2."
   ]
  },
  {
   "cell_type": "code",
   "execution_count": 80,
   "metadata": {},
   "outputs": [
    {
     "name": "stdout",
     "output_type": "stream",
     "text": [
      "The new list is:\n",
      "[2, 4, 6, 8, 10, 12]\n"
     ]
    }
   ],
   "source": [
    "# Make an example list\n",
    "my_list = [1, 2, 3, 4, 5, 6]\n",
    "\n",
    "# Initialize an empty list\n",
    "new_list = []\n",
    "\n",
    "# Iterate through each element in the list and multiply by 2\n",
    "for i in range(len(my_list)):\n",
    "    new_list.append(my_list[i]*2)\n",
    "\n",
    "# Print the new list\n",
    "print(f\"The new list is:\\n{new_list}\")"
   ]
  },
  {
   "cell_type": "markdown",
   "metadata": {},
   "source": [
    "- Make an example list. Store the list in my_list variable.\n",
    "- Initialize new_list variable with empty list.\n",
    "- Iterate through each element in the list and multiply each element by 2 then append the value in new_list using .append() function.\n",
    "- Finally, print the new list."
   ]
  },
  {
   "cell_type": "markdown",
   "metadata": {},
   "source": [
    "### 25. Filter out all even numbers from a list."
   ]
  },
  {
   "cell_type": "code",
   "execution_count": 81,
   "metadata": {},
   "outputs": [
    {
     "name": "stdout",
     "output_type": "stream",
     "text": [
      "The new list is:\n",
      "[2, 4, 6]\n"
     ]
    }
   ],
   "source": [
    "# Make an example list\n",
    "my_list = [1, 2, 3, 4, 5, 6]\n",
    "\n",
    "# Initialize new_list with empty list\n",
    "new_list = []\n",
    "\n",
    "# Iterate through each element in the list and filter out even numbers\n",
    "for i in range(len(my_list)):\n",
    "    if my_list[i] % 2 == 0:\n",
    "        new_list.append(my_list[i])\n",
    "\n",
    "# Print the new list\n",
    "print(f\"The new list is:\\n{new_list}\")"
   ]
  },
  {
   "cell_type": "markdown",
   "metadata": {},
   "source": [
    "- Make an example list. Store the list in my_list variable.\n",
    "- Initialize new_list variable with empty list.\n",
    "- Iterate through each element in the list and check if the element even or not.\n",
    "- If the element even, then append the value in new_list using .append() function.\n",
    "- Finally, print the new list."
   ]
  },
  {
   "cell_type": "markdown",
   "metadata": {},
   "source": [
    "### 26. Convert a list of strings to a list of integers."
   ]
  },
  {
   "cell_type": "code",
   "execution_count": 85,
   "metadata": {},
   "outputs": [
    {
     "name": "stdout",
     "output_type": "stream",
     "text": [
      "The new list is:\n",
      "[1, 2, 3, 4, 5, 6]\n"
     ]
    }
   ],
   "source": [
    "# Make an example list\n",
    "my_list = [\"1\", \"2\", \"3\", \"4\", \"5\", \"6\"]\n",
    "\n",
    "# Initialize new_list with empty list\n",
    "new_list = []\n",
    "\n",
    "# Iterate through each element in the list\n",
    "for i in range(len(my_list)):\n",
    "    new_list.append(int(my_list[i]))        # Covert the string into integer and append into new_list\n",
    "\n",
    "# Print the new list\n",
    "print(f\"The new list is:\\n{new_list}\")"
   ]
  },
  {
   "cell_type": "markdown",
   "metadata": {},
   "source": [
    "- Make an example list with string values. Store the list in my_list variable.\n",
    "- Initialize new_list variable with empty list.\n",
    "- Iterate through each element in the list.\n",
    "- In every iteration change the value string to integer, then append the value in new_list using .append() function.\n",
    "- Finally, print the new list."
   ]
  },
  {
   "cell_type": "markdown",
   "metadata": {},
   "source": [
    "### 27. Convert a list of integers to a list of strings."
   ]
  },
  {
   "cell_type": "code",
   "execution_count": 84,
   "metadata": {},
   "outputs": [
    {
     "name": "stdout",
     "output_type": "stream",
     "text": [
      "The new list is:\n",
      "['1', '2', '3', '4', '5', '6']\n"
     ]
    }
   ],
   "source": [
    "# Make an example list\n",
    "my_list = [1, 2, 3, 4, 5, 6]\n",
    "\n",
    "# Initialize new_list with empty list\n",
    "new_list = []\n",
    "\n",
    "# Iterate through each element in the list\n",
    "for i in range(len(my_list)):\n",
    "    new_list.append(str(my_list[i]))        # Convert the integer into string and append into new_list\n",
    "\n",
    "# Print the new list\n",
    "print(f\"The new list is:\\n{new_list}\")"
   ]
  },
  {
   "cell_type": "markdown",
   "metadata": {},
   "source": [
    "- Make an example list. Store the list in my_list variable.\n",
    "- Initialize new_list variable with empty list.\n",
    "- Iterate through each element in the list.\n",
    "- In every iteration change the value integer to string, then append the value in new_list using .append() function.\n",
    "- Finally, print the new list."
   ]
  },
  {
   "cell_type": "markdown",
   "metadata": {},
   "source": [
    "### 28. Flatten a nested list."
   ]
  },
  {
   "cell_type": "code",
   "execution_count": 87,
   "metadata": {},
   "outputs": [
    {
     "name": "stdout",
     "output_type": "stream",
     "text": [
      "Flattened list: [1, 2, 3, 4, 5, 6, 7]\n"
     ]
    }
   ],
   "source": [
    "# Make an example nested list\n",
    "my_list = [[1], [2, 3], [4, 5, 6, 7]]\n",
    "\n",
    "# Initialize new_list with empty list\n",
    "new_list = []\n",
    "\n",
    "# Iterate through each list in the list\n",
    "for sublist in my_list:\n",
    "    for num in sublist:     # Iterate through every element in the sublist\n",
    "        new_list.append(num)\n",
    "\n",
    "# Print the flat list\n",
    "print(\"Flattened list:\", new_list)"
   ]
  },
  {
   "cell_type": "markdown",
   "metadata": {},
   "source": [
    "- Make an example list of lists. Store the list in my_list variable.\n",
    "- Initialize new_list variable with empty list.\n",
    "- Iterate through each lists in the list.\n",
    "- In every iteration iterate each element in the sublist and then append the element in new_list using .append() method.\n",
    "- Finally, print the flattened new list."
   ]
  },
  {
   "cell_type": "markdown",
   "metadata": {},
   "source": [
    "### 29. Create a list of the first 10 Fibonacci numbers."
   ]
  },
  {
   "cell_type": "code",
   "execution_count": 89,
   "metadata": {},
   "outputs": [
    {
     "name": "stdout",
     "output_type": "stream",
     "text": [
      "List of first 10 fibonacci number is:\n",
      "[0, 1, 1, 2, 3, 5, 8, 13, 21, 34]\n"
     ]
    }
   ],
   "source": [
    "# Initialize a list with first 2 fibonacci number\n",
    "my_fib = [0, 1]\n",
    "\n",
    "# Generate the rest 8 fibonacci number\n",
    "for i in range(2, 10):\n",
    "    num = my_fib[i - 1] + my_fib[i - 2]\n",
    "    my_fib.append(num)\n",
    "\n",
    "# Print the first 10 fibonacci number\n",
    "print(f\"List of first 10 fibonacci number is:\\n{my_fib}\")"
   ]
  },
  {
   "cell_type": "markdown",
   "metadata": {},
   "source": [
    "- Initialize my_fib variable with list of first two fibonacci number.\n",
    "- Iterate through a range of 2 to 10.\n",
    "- In every iteration add (i-1)'th and (i-2)'th value. Then append the added number in my_fib using .append() method.\n",
    "- Finally, print the list of first 10 fibonacci number."
   ]
  },
  {
   "cell_type": "markdown",
   "metadata": {},
   "source": [
    "### 30. Check if a list is sorted."
   ]
  },
  {
   "cell_type": "code",
   "execution_count": 90,
   "metadata": {},
   "outputs": [
    {
     "name": "stdout",
     "output_type": "stream",
     "text": [
      "The list is sorted.\n"
     ]
    }
   ],
   "source": [
    "# Make an example list\n",
    "my_list = [1, 2, 3, 4, 5, 6]\n",
    "\n",
    "# Check the list sorted or not and print the result\n",
    "if my_list == sorted(my_list):\n",
    "    print(\"The list is sorted.\")\n",
    "else:\n",
    "    print(\"The list is not sorted.\")"
   ]
  },
  {
   "cell_type": "markdown",
   "metadata": {},
   "source": [
    "- Make an example list. Store the list in my_list variable.\n",
    "- Check the list with the sorted list (sort using sorted() function).\n",
    "    - If it's true then print the list is sorted.\n",
    "    - else, print the list is not sorted."
   ]
  },
  {
   "cell_type": "markdown",
   "metadata": {},
   "source": [
    "### 31. Rotate a list to the left by `n` positions."
   ]
  },
  {
   "cell_type": "code",
   "execution_count": 92,
   "metadata": {},
   "outputs": [
    {
     "name": "stdout",
     "output_type": "stream",
     "text": [
      "List after left shift:\n",
      " [4, 5, 6, 1, 2, 3]\n"
     ]
    }
   ],
   "source": [
    "# Make an example list\n",
    "my_list = [1, 2, 3, 4, 5, 6]\n",
    "\n",
    "# Let a position from which we have to left shift\n",
    "n = 3\n",
    "\n",
    "# Check is the given position greater than length of the list or not\n",
    "if len(my_list) < n:\n",
    "    n = n % len(my_list)\n",
    "    rotated_list = my_list[n:] + my_list[:n]\n",
    "else:\n",
    "    rotated_list = my_list[n:] + my_list[:n]\n",
    "\n",
    "print(\"List after left shift:\\n\", rotated_list)"
   ]
  },
  {
   "cell_type": "markdown",
   "metadata": {},
   "source": [
    "- Make an example list. Store the list in my_list variable.\n",
    "- Let a position from which we have to perform left shift. Store it in n variable.\n",
    "- Check is the n's value greater than length of the list or not.\n",
    "    - If yes, then normalize the value of n using modulo divition by length of the list and store it in n variable. After this, slice the list position to the end and cancat it with slice of the start to the position. Store it in rotated_list variable.\n",
    "    - else, slice the list position to the end and cancat it with slice of the start to the position. Store it in rotated_list variable.\n",
    "- Finally, print the rotated list."
   ]
  },
  {
   "cell_type": "markdown",
   "metadata": {},
   "source": [
    "### 32. Rotate a list to the right by `n` positions."
   ]
  },
  {
   "cell_type": "code",
   "execution_count": 132,
   "metadata": {},
   "outputs": [
    {
     "name": "stdout",
     "output_type": "stream",
     "text": [
      "List after right shift:\n",
      " [5, 6, 1, 2, 3, 4]\n"
     ]
    }
   ],
   "source": [
    "# Make an example list\n",
    "my_list = [1, 2, 3, 4, 5, 6]\n",
    "\n",
    "# Let a position from which we have to right shift\n",
    "n = 2\n",
    "\n",
    "# Check is the given position smaller than length of the list or not\n",
    "if len(my_list) < n:\n",
    "    n = n % len(my_list)\n",
    "    rotated_list = my_list[-n:] + my_list[:-n]\n",
    "else:\n",
    "    rotated_list = my_list[-n:] + my_list[:-n]\n",
    "\n",
    "print(\"List after right shift:\\n\", rotated_list)"
   ]
  },
  {
   "cell_type": "markdown",
   "metadata": {},
   "source": [
    "- Make an example list. Store the list in my_list variable.\n",
    "- Let a position from which we have to perform left shift. Store it in n variable.\n",
    "- Check is the n's value greater than length of the list or not.\n",
    "    - If yes, then normalize the value of n using modulo divition by length of the list and store it in n variable. After this, slice the list position in nagative to the end and cancat it with slice of the start to the position in negative. Store it in rotated_list variable.\n",
    "    - else, slice the list position in nagative to the end and cancat it with slice of the start to the position in nagative. Store it in rotated_list variable.\n",
    "- Finally, print the rotated list."
   ]
  },
  {
   "cell_type": "markdown",
   "metadata": {},
   "source": [
    "### 33. Create a list of prime numbers up to 50."
   ]
  },
  {
   "cell_type": "code",
   "execution_count": 149,
   "metadata": {},
   "outputs": [
    {
     "name": "stdout",
     "output_type": "stream",
     "text": [
      "List of prime number upto 50:\n",
      " [2, 3, 5, 7, 11, 13, 17, 19, 23, 29, 31, 37, 41, 43, 47]\n"
     ]
    }
   ],
   "source": [
    "# Initialize an empty list and a variable with 0\n",
    "prime_list = []\n",
    "flag = 0\n",
    "\n",
    "# Iterate through 2 to 51 and check if the number is prime or not\n",
    "for i in range(2, 51):\n",
    "    for j in range(2, i):\n",
    "        if i % j == 0:\n",
    "            flag = 1\n",
    "            break\n",
    "        else:\n",
    "            flag = 0\n",
    "        \n",
    "    if flag == 0:\n",
    "        prime_list.append(i)\n",
    "\n",
    "# Print the list\n",
    "print(\"List of prime number upto 50:\\n\", prime_list)"
   ]
  },
  {
   "cell_type": "markdown",
   "metadata": {},
   "source": [
    "- Initialize prime_list variable with empty list and flag variable with 0.\n",
    "- Iterate through 2 to 51 and check the number prime or not\n",
    "    - If the number is prime, then append the number in prime_list using .append() method.\n",
    "- Finally, print the list."
   ]
  },
  {
   "cell_type": "markdown",
   "metadata": {},
   "source": [
    "### 34. Split a list into chunks of size `n`."
   ]
  },
  {
   "cell_type": "code",
   "execution_count": 105,
   "metadata": {},
   "outputs": [
    {
     "name": "stdout",
     "output_type": "stream",
     "text": [
      "[1, 2]\n",
      "[3, 4]\n",
      "[5, 6]\n"
     ]
    }
   ],
   "source": [
    "# Make an example list\n",
    "my_list = [1, 2, 3, 4, 5, 6]\n",
    "\n",
    "# Take an example size\n",
    "size = 2\n",
    "\n",
    "# Iterate through every element of the list and print some lists with some elements\n",
    "for i in range(0, len(my_list), size):\n",
    "    print(my_list[i:i+size])"
   ]
  },
  {
   "cell_type": "markdown",
   "metadata": {},
   "source": [
    "- Make an example list. Store the list in my_list variable.\n",
    "- Take an example size 2. Store it in size variable.\n",
    "- Iterate through range of 0 to length of the list with step size.\n",
    "- In every iteration print the sliced list."
   ]
  },
  {
   "cell_type": "markdown",
   "metadata": {},
   "source": [
    "### 35. Find the second largest number in a list."
   ]
  },
  {
   "cell_type": "code",
   "execution_count": 112,
   "metadata": {},
   "outputs": [
    {
     "name": "stdout",
     "output_type": "stream",
     "text": [
      "Second largest number in the list is: 5\n"
     ]
    }
   ],
   "source": [
    "# Make an example list\n",
    "my_list = [1, 2, 3, 4, 5, 6]\n",
    "\n",
    "# Sort the list\n",
    "sort_list = sorted(my_list)\n",
    "\n",
    "# Fetch the 2nd last element from the sorted list\n",
    "second_large = sort_list[-2]\n",
    "\n",
    "# Print the answer\n",
    "print(\"Second largest number in the list is:\", second_large)"
   ]
  },
  {
   "cell_type": "markdown",
   "metadata": {},
   "source": [
    "- Make an example list. Store the list in my_list variable.\n",
    "- Sort the list using sorted() function. Store it in sort_list variable.\n",
    "- Fetch the 2nd last element from the sorted list using list slicing method. Store it in second_large variable.\n",
    "- Finally, print the answer."
   ]
  },
  {
   "cell_type": "markdown",
   "metadata": {},
   "source": [
    "### 36. Replace every element in a list with its square."
   ]
  },
  {
   "cell_type": "code",
   "execution_count": 116,
   "metadata": {},
   "outputs": [
    {
     "name": "stdout",
     "output_type": "stream",
     "text": [
      "Squared list: [1, 4, 9, 16, 25, 36]\n"
     ]
    }
   ],
   "source": [
    "# Make an example list\n",
    "my_list = [1, 2, 3, 4, 5, 6]\n",
    "\n",
    "# Replace every element with its square using list comprehension\n",
    "my_list = [ele ** 2 for ele in my_list]\n",
    "\n",
    "# Print the squared list\n",
    "print(\"Squared list:\", my_list)"
   ]
  },
  {
   "cell_type": "markdown",
   "metadata": {},
   "source": [
    "- Make an example list. Store the list in my_list variable.\n",
    "- Make the list to square of every element in the list using list comprehension method.\n",
    "- Finally, print the list."
   ]
  },
  {
   "cell_type": "markdown",
   "metadata": {},
   "source": [
    "### 37. Convert a list to a dictionary where list elements become keys and their indices become values."
   ]
  },
  {
   "cell_type": "code",
   "execution_count": 120,
   "metadata": {},
   "outputs": [
    {
     "name": "stdout",
     "output_type": "stream",
     "text": [
      "The dictionary is:\n",
      " {11: 0, 22: 1, 33: 2, 44: 3, 55: 4, 66: 5}\n"
     ]
    }
   ],
   "source": [
    "# Make an example list\n",
    "my_list = [11, 22, 33, 44, 55, 66]\n",
    "\n",
    "# Initialize an empty dictionary\n",
    "my_dict = {}\n",
    "\n",
    "# Iterate through every element in the list and append to dictionary\n",
    "for i in range(len(my_list)):\n",
    "    my_dict[my_list[i]] = i\n",
    "\n",
    "# Print the dictionary\n",
    "print(\"The dictionary is:\\n\", my_dict)"
   ]
  },
  {
   "cell_type": "markdown",
   "metadata": {},
   "source": [
    "- Make an example list. Store the list in my_list variable.\n",
    "- Initialize my_dict variable with empty dictionary.\n",
    "- Iterate through every element in the list and append to dictionary as key and index number as value.\n",
    "- Finally, print the dictionary."
   ]
  },
  {
   "cell_type": "markdown",
   "metadata": {},
   "source": [
    "### 38. Shuffle the elements of a list randomly."
   ]
  },
  {
   "cell_type": "code",
   "execution_count": 121,
   "metadata": {},
   "outputs": [
    {
     "name": "stdout",
     "output_type": "stream",
     "text": [
      "Shuffled list:\n",
      " [33, 55, 44, 66, 11, 22]\n"
     ]
    }
   ],
   "source": [
    "import random\n",
    "\n",
    "# Make an example list\n",
    "my_list = [11, 22, 33, 44, 55, 66]\n",
    "\n",
    "# Shuffle each element in the list randomly\n",
    "random.shuffle(my_list)\n",
    "\n",
    "# Print the shuffled list\n",
    "print(\"Shuffled list:\\n\", my_list)"
   ]
  },
  {
   "cell_type": "markdown",
   "metadata": {},
   "source": [
    "- At first import random package in my code.\n",
    "- Shuffle each element in the list using .shuffle() method.\n",
    "- Finally, print the shuffled list."
   ]
  },
  {
   "cell_type": "markdown",
   "metadata": {},
   "source": [
    "### 39. Create a list of the first 10 factorial numbers."
   ]
  },
  {
   "cell_type": "code",
   "execution_count": 127,
   "metadata": {},
   "outputs": [
    {
     "name": "stdout",
     "output_type": "stream",
     "text": [
      "List of first 10 factorial numbers:\n",
      " [1, 1, 2, 6, 24, 120, 720, 5040, 40320, 362880, 3628800]\n"
     ]
    }
   ],
   "source": [
    "import math\n",
    "\n",
    "# Calculate factorial of first 10 number using function\n",
    "my_list = [math.factorial(x) for x in range(11)]\n",
    "\n",
    "# Print the list\n",
    "print(\"List of first 10 factorial numbers:\\n\", my_list)"
   ]
  },
  {
   "cell_type": "markdown",
   "metadata": {},
   "source": [
    "- At first import math in my code.\n",
    "- Calculate factorial of first 10 number using .factorial() and list comprehension method. Store it in my_list variable.\n",
    "- Finally, print the list."
   ]
  },
  {
   "cell_type": "markdown",
   "metadata": {},
   "source": [
    "### 40. Check if two lists have at least one element in common."
   ]
  },
  {
   "cell_type": "code",
   "execution_count": 131,
   "metadata": {},
   "outputs": [
    {
     "name": "stdout",
     "output_type": "stream",
     "text": [
      "The lists have at least 1 common element.\n"
     ]
    }
   ],
   "source": [
    "# Make two example list\n",
    "my_list = [1, 2, 3, 4, 5, 6]\n",
    "my_list2 = [6, 7, 8, 9, 10]\n",
    "\n",
    "# Convert the lists into sets\n",
    "my_set = set(my_list)\n",
    "my_set2 = set(my_list2)\n",
    "\n",
    "# Check if there any common element or not\n",
    "if len(my_set.intersection(my_set2)) >= 1:\n",
    "    print(\"The lists have at least 1 common element.\")\n",
    "else:\n",
    "    print(\"The lists does not have any common element.\")"
   ]
  },
  {
   "cell_type": "markdown",
   "metadata": {},
   "source": [
    "- Make two example list. Store the lists in my_list and my_list2 variable.\n",
    "- Convert the two list in set using set() function. Store the two set into my_set and my_set2 variable.\n",
    "- Check if there is any common element from the two set using .intersection() method.\n",
    "    - If yes, then print the list have at least 1 common element.\n",
    "    - If no, then print the list does not have any common element."
   ]
  },
  {
   "cell_type": "markdown",
   "metadata": {},
   "source": [
    "### 41. Remove all elements from a list."
   ]
  },
  {
   "cell_type": "code",
   "execution_count": 133,
   "metadata": {},
   "outputs": [
    {
     "name": "stdout",
     "output_type": "stream",
     "text": [
      "List after deleting all element: []\n"
     ]
    }
   ],
   "source": [
    "# Make an example list\n",
    "my_list = [11, 22, 33, 44, 55, 66]\n",
    "\n",
    "# Remove all element form the list\n",
    "my_list.clear()\n",
    "\n",
    "# Print the list after remove all element\n",
    "print(\"List after deleting all element:\", my_list)"
   ]
  },
  {
   "cell_type": "markdown",
   "metadata": {},
   "source": [
    "- Make an example list. Store the list in my_list variable.\n",
    "- Remove all elements from the list using .clear() method.\n",
    "- Finally, print the empty list."
   ]
  },
  {
   "cell_type": "markdown",
   "metadata": {},
   "source": [
    "### 42. Replace negative numbers in a list with 0."
   ]
  },
  {
   "cell_type": "code",
   "execution_count": 134,
   "metadata": {},
   "outputs": [
    {
     "name": "stdout",
     "output_type": "stream",
     "text": [
      "Updated list: [0, 22, 33, 0, 55, 0]\n"
     ]
    }
   ],
   "source": [
    "# Make an example list\n",
    "my_list = [-11, 22, 33, -44, 55, -66]\n",
    "\n",
    "# Iterate through the list, If the digit is negative then make it 0\n",
    "for i in range(len(my_list)):\n",
    "    if my_list[i] < 0:\n",
    "        my_list[i] = 0\n",
    "\n",
    "# Print updated list\n",
    "print(\"Updated list:\", my_list)"
   ]
  },
  {
   "cell_type": "markdown",
   "metadata": {},
   "source": [
    "- Make an example list. Store the list in my_list variable.\n",
    "- Iterate through range of the list.\n",
    "- Check if the digit less than 0 or not\n",
    "    - If yes, then change the digit into 0.\n",
    "- Finally, print the updated list."
   ]
  },
  {
   "cell_type": "markdown",
   "metadata": {},
   "source": [
    "### 43. Convert a string into a list of words."
   ]
  },
  {
   "cell_type": "code",
   "execution_count": 135,
   "metadata": {},
   "outputs": [
    {
     "name": "stdout",
     "output_type": "stream",
     "text": [
      "List of words: ['My', 'name', 'is', 'Rajdip', 'Das']\n"
     ]
    }
   ],
   "source": [
    "# Make an example string\n",
    "string = \"My name is Rajdip Das\"\n",
    "\n",
    "# Split the string into list of words\n",
    "word_list = string.split()\n",
    "\n",
    "# Print the list of words\n",
    "print(\"List of words:\", word_list)"
   ]
  },
  {
   "cell_type": "markdown",
   "metadata": {},
   "source": [
    "- Make an example string. Store the string in string variable.\n",
    "- Change the string into list of words using .split() method. Store it in word_list variable.\n",
    "- Finally, print the list of words."
   ]
  },
  {
   "cell_type": "markdown",
   "metadata": {},
   "source": [
    "### 44. Convert a list of words into a string."
   ]
  },
  {
   "cell_type": "code",
   "execution_count": 136,
   "metadata": {},
   "outputs": [
    {
     "name": "stdout",
     "output_type": "stream",
     "text": [
      "The string is: My name is Rajdip Das\n"
     ]
    }
   ],
   "source": [
    "# Make an example list of words\n",
    "word_list = ['My', 'name', 'is', 'Rajdip', 'Das']\n",
    "\n",
    "# Join the words\n",
    "string = ' '.join(word_list)\n",
    "\n",
    "# Print the string\n",
    "print(\"The string is:\", string)"
   ]
  },
  {
   "cell_type": "markdown",
   "metadata": {},
   "source": [
    "- Make an example list of words. Store the list in word_list variable.\n",
    "- Change the list into string using .join() method. Store it in string variable.\n",
    "- Finally, print the string."
   ]
  },
  {
   "cell_type": "markdown",
   "metadata": {},
   "source": [
    "### 45. Create a list of the first `n` powers of 2."
   ]
  },
  {
   "cell_type": "code",
   "execution_count": 137,
   "metadata": {},
   "outputs": [
    {
     "name": "stdout",
     "output_type": "stream",
     "text": [
      "The list is: [0, 1, 4, 9, 16, 25]\n"
     ]
    }
   ],
   "source": [
    "# Input an integer from user\n",
    "num = int(input(\"Enter upper limit: \"))\n",
    "\n",
    "# Initialize an empty list\n",
    "my_list = []\n",
    "\n",
    "# Iterate through range of num+1 and append its powers of 2\n",
    "for i in range(num+1):\n",
    "    my_list.append(i**2)\n",
    "\n",
    "# Print the list\n",
    "print(\"The list is:\", my_list)"
   ]
  },
  {
   "cell_type": "markdown",
   "metadata": {},
   "source": [
    "- Input an integer from user using input() function then typecast it to integer using int() function. Store it in num variable.\n",
    "- Initialize an empty list.\n",
    "- Iterate through range of num+1.\n",
    "- In every iteration append its powers by 2 in the list using .append() method.\n",
    "- Finally, print the list."
   ]
  },
  {
   "cell_type": "markdown",
   "metadata": {},
   "source": [
    "### 46. Find the longest string in a list of strings."
   ]
  },
  {
   "cell_type": "code",
   "execution_count": 138,
   "metadata": {},
   "outputs": [
    {
     "name": "stdout",
     "output_type": "stream",
     "text": [
      "The longest string in the list is: Rajdip\n"
     ]
    }
   ],
   "source": [
    "# Make an example list\n",
    "my_list = ['Hello', 'World', 'Rajdip', 'Das']\n",
    "\n",
    "# Initialize a variable with 0 and a variable with empty string\n",
    "length = 0\n",
    "string = \"\"\n",
    "\n",
    "# Iterate through every element in the list\n",
    "for ele in my_list:\n",
    "    if len(ele) > length:\n",
    "        length = len(ele)\n",
    "        string = ele\n",
    "\n",
    "# Print the longest string\n",
    "print(\"The longest string in the list is:\", string)"
   ]
  },
  {
   "cell_type": "markdown",
   "metadata": {},
   "source": [
    "- Make an example list of words. Store the list in word_list variable.\n",
    "- Initialize a variable with 0 and another variable with empty string.\n",
    "- Iterate through every word in the list.\n",
    "- Check if length of the word is greater than previous length or not\n",
    "    - If yes then update length value with length of the word and string value with new word.\n",
    "- Finally, print the string."
   ]
  },
  {
   "cell_type": "markdown",
   "metadata": {},
   "source": [
    "### 47. Find the shortest string in a list of strings."
   ]
  },
  {
   "cell_type": "code",
   "execution_count": 141,
   "metadata": {},
   "outputs": [
    {
     "name": "stdout",
     "output_type": "stream",
     "text": [
      "The longest string in the list is: Das\n"
     ]
    }
   ],
   "source": [
    "# Make an example list\n",
    "my_list = ['Hello', 'World', 'Rajdip', 'Das']\n",
    "\n",
    "# Initialize a variable with largest value and a variable with empty string\n",
    "length = float('inf')\n",
    "string = \"\"\n",
    "\n",
    "# Iterate through every element in the list\n",
    "for ele in my_list:\n",
    "    if len(ele) < length:\n",
    "        length = len(ele)\n",
    "        string = ele\n",
    "\n",
    "# Print the longest string\n",
    "print(\"The longest string in the list is:\", string)"
   ]
  },
  {
   "cell_type": "markdown",
   "metadata": {},
   "source": [
    "- Make an example list of words. Store the list in word_list variable.\n",
    "- Initialize a variable with a very large number and another variable with empty string.\n",
    "- Iterate through every word in the list.\n",
    "- Check if length of the word is smaller than previous length or not\n",
    "    - If yes then update length value with length of the word and string value with new word.\n",
    "- Finally, print the string."
   ]
  },
  {
   "cell_type": "markdown",
   "metadata": {},
   "source": [
    "### 48. Create a list of the first `n` triangular numbers."
   ]
  },
  {
   "cell_type": "code",
   "execution_count": 114,
   "metadata": {},
   "outputs": [
    {
     "name": "stdout",
     "output_type": "stream",
     "text": [
      "List of first 6 triangular numbers:\n",
      "[1, 3, 6, 10, 15, 21]\n"
     ]
    }
   ],
   "source": [
    "# Take a integer input from user\n",
    "n = int(input(\"Enter how many number you want: \"))\n",
    "\n",
    "# Initialize an empty list and a variable with 0\n",
    "my_list = []\n",
    "num = 0\n",
    "\n",
    "# Initialize through range of n\n",
    "for i in range(1,n+1):\n",
    "    num += i\n",
    "    my_list.append(num)\n",
    "\n",
    "# Print the list\n",
    "print(f\"List of first {n} triangular numbers:\\n{my_list}\")"
   ]
  },
  {
   "cell_type": "markdown",
   "metadata": {},
   "source": [
    "- Input an integer from user using input() function then typecast it to integer using int() function. Store it in n variable.\n",
    "- Initialize an empty list and a variable with value 0.\n",
    "- Iterate through range of n+1.\n",
    "- In every iteration add the i in num. Then append the num in the list using .append() method.\n",
    "- Finally, print the list."
   ]
  },
  {
   "cell_type": "markdown",
   "metadata": {},
   "source": [
    "### 49. Check if a list contains another list as a subsequence."
   ]
  },
  {
   "cell_type": "code",
   "execution_count": 147,
   "metadata": {},
   "outputs": [
    {
     "name": "stdout",
     "output_type": "stream",
     "text": [
      "Sublist is a subsequence\n"
     ]
    }
   ],
   "source": [
    "# Make an example list and its sub list\n",
    "my_list = [11, 22, 33, 44, 55, 66]\n",
    "sub_list = [22, 44, 66]\n",
    "\n",
    "# Initialize two variable with 0\n",
    "my_index = 0\n",
    "sub_index = 0\n",
    "\n",
    "# Iterate through both lists while indices are in range\n",
    "while sub_index < len(sub_list) and my_index < len(my_list):\n",
    "\n",
    "    if sub_list[sub_index] == my_list[my_index]:        # Check if the elements match at the current index or not\n",
    "        sub_index += 1\n",
    "    my_index += 1\n",
    "\n",
    "# Check if the sub_list's index reached its length then print\n",
    "if sub_index == len(sub_list):\n",
    "    print(\"Sublist is a subsequence\")\n",
    "else:\n",
    "    print(\"Sublist is not a subsequence\")"
   ]
  },
  {
   "cell_type": "markdown",
   "metadata": {},
   "source": [
    "- Make an example list and its sub list. Store this two in my_list and sub_list variable.\n",
    "- Initialize my_index and sub_index variable with 0\n",
    "- Iterate through both lists while indices are in range.\n",
    "- In every iteration check if the elements match at the current index or not.\n",
    "    - If yes, then increase sub_index value by 1.\n",
    "- Increase my_index value by 1.\n",
    "- Check if the sub_list's index reached its length or not\n",
    "    - If yes, then print sublist is a subsequence.\n",
    "    - else, print sublist is not a subsequence."
   ]
  },
  {
   "cell_type": "markdown",
   "metadata": {},
   "source": [
    "### 50. Swap two elements in a list by their indices."
   ]
  },
  {
   "cell_type": "code",
   "execution_count": 148,
   "metadata": {},
   "outputs": [
    {
     "name": "stdout",
     "output_type": "stream",
     "text": [
      "List after swaping:\n",
      " [11, 22, 55, 44, 33, 66]\n"
     ]
    }
   ],
   "source": [
    "# Make an example list\n",
    "my_list = [11, 22, 33, 44, 55, 66]\n",
    "\n",
    "# Let two indices\n",
    "first = 2\n",
    "second = 4\n",
    "\n",
    "# Perform swap\n",
    "my_list[second], my_list[first] = my_list[first], my_list[second]\n",
    "\n",
    "# Print modified list\n",
    "print(\"List after swaping:\\n\", my_list)"
   ]
  },
  {
   "cell_type": "markdown",
   "metadata": {},
   "source": [
    "- Make an example list. Store the list in my_list variable.\n",
    "- Initilize two example indices with value 2 and 4. Store the values in first and second variable.\n",
    "- Store my_list[first] value in my_list[second] and my_list[second] value in my_list[first].\n",
    "- Finally, print modified list."
   ]
  },
  {
   "cell_type": "markdown",
   "metadata": {},
   "source": [
    "# Tuple Based Practice Problem"
   ]
  },
  {
   "cell_type": "markdown",
   "metadata": {},
   "source": [
    "### 1. Create a tuple with integers from 1 to 5."
   ]
  },
  {
   "cell_type": "code",
   "execution_count": 2,
   "metadata": {},
   "outputs": [
    {
     "name": "stdout",
     "output_type": "stream",
     "text": [
      "(1, 2, 3, 4, 5)\n"
     ]
    }
   ],
   "source": [
    "# Create a tuple with integer 1 to 5\n",
    "my_tuple = (1, 2, 3, 4, 5)\n",
    "\n",
    "# Print the tuple using print\n",
    "print(my_tuple)"
   ]
  },
  {
   "cell_type": "markdown",
   "metadata": {},
   "source": [
    "- Make a tuple with 1 to 5 integer. Store it in my_tuple variable.\n",
    "- Print the tuple using print() function."
   ]
  },
  {
   "cell_type": "markdown",
   "metadata": {},
   "source": [
    "### 2. Access the third element of a tuple."
   ]
  },
  {
   "cell_type": "code",
   "execution_count": 4,
   "metadata": {},
   "outputs": [
    {
     "name": "stdout",
     "output_type": "stream",
     "text": [
      "Third variable from tuple: 3\n"
     ]
    }
   ],
   "source": [
    "# Make an example tuple\n",
    "my_tuple = (1, 2, 3, 4, 5)\n",
    "\n",
    "# Access 3rd variable from tuple and print it\n",
    "print(\"Third variable from tuple:\", my_tuple[2])"
   ]
  },
  {
   "cell_type": "markdown",
   "metadata": {},
   "source": [
    "- Make an example tuple and store it in my_tuple variable.\n",
    "- Print it's 3rd variable using indexing."
   ]
  },
  {
   "cell_type": "markdown",
   "metadata": {},
   "source": [
    "### 3. Find the length of a tuple without using the `len()` function."
   ]
  },
  {
   "cell_type": "code",
   "execution_count": 5,
   "metadata": {},
   "outputs": [
    {
     "name": "stdout",
     "output_type": "stream",
     "text": [
      "Length of the tuple is: 5\n"
     ]
    }
   ],
   "source": [
    "# Make an example tuple\n",
    "my_tuple = (1, 2, 3, 4, 5)\n",
    "\n",
    "# Initialize a variable with 0\n",
    "count = 0\n",
    "\n",
    "# Iterate through the tuple and increase count value by 1\n",
    "for ele in my_tuple:\n",
    "    count += 1\n",
    "\n",
    "# Print total number of element or length\n",
    "print(\"Length of the tuple is:\", count)"
   ]
  },
  {
   "cell_type": "markdown",
   "metadata": {},
   "source": [
    "- Make an example tuple and store it in my_tuple variable.\n",
    "- Initialize count variable with 0.\n",
    "- Iterate through every element in tuple\n",
    "- In every iteration increase the count value by 1.\n",
    "- Finally, print the length of the tuple."
   ]
  },
  {
   "cell_type": "markdown",
   "metadata": {},
   "source": [
    "### 4. Count the occurrences of an element in a tuple."
   ]
  },
  {
   "cell_type": "code",
   "execution_count": 6,
   "metadata": {},
   "outputs": [
    {
     "name": "stdout",
     "output_type": "stream",
     "text": [
      "Occurrence of 2 in the tuple is: 3\n"
     ]
    }
   ],
   "source": [
    "# Make an example tuple\n",
    "my_tuple = (1, 2, 3, 4, 5, 2, 3, 2)\n",
    "\n",
    "# Take a example value who's occurrence I want to count\n",
    "value = 2\n",
    "\n",
    "# Count the occurrence\n",
    "count = my_tuple.count(value)\n",
    "\n",
    "# Print the occurrence\n",
    "print(f\"Occurrence of {value} in the tuple is: {count}\")"
   ]
  },
  {
   "cell_type": "markdown",
   "metadata": {},
   "source": [
    "- Make an example tuple and store it in my_tuple variable.\n",
    "- Initialize value variable with 2. this is the number who's occurrence I want to calculate.\n",
    "- Count the occurrence of value using .count() method. Store the result in count variable.\n",
    "- Finally, print the occurrence of the value."
   ]
  },
  {
   "cell_type": "markdown",
   "metadata": {},
   "source": [
    "### 5. Find the index of the first occurrence of an element in a tuple."
   ]
  },
  {
   "cell_type": "code",
   "execution_count": 7,
   "metadata": {},
   "outputs": [
    {
     "name": "stdout",
     "output_type": "stream",
     "text": [
      "Position of the first occurrence of the number is: 1\n"
     ]
    }
   ],
   "source": [
    "# Make an example tuple\n",
    "my_tuple = (1, 2, 3, 4, 5, 2, 3, 2)\n",
    "\n",
    "# Take a example value who's index I want to see\n",
    "value = 2\n",
    "\n",
    "# Fetch the index value\n",
    "index_position = my_tuple.index(value)\n",
    "\n",
    "# Print the position\n",
    "print(\"Position of the first occurrence of the number is:\", index_position)"
   ]
  },
  {
   "cell_type": "markdown",
   "metadata": {},
   "source": [
    "- Make an example tuple and store it in my_tuple variable.\n",
    "- Take 2 as example value who's index I want to see. Store the value in value variable.\n",
    "- Fetch the first position of the value using .index() method.\n",
    "- Finally, print the index of the value in tuple."
   ]
  },
  {
   "cell_type": "markdown",
   "metadata": {},
   "source": [
    "### 6. Check if an element exists in a tuple."
   ]
  },
  {
   "cell_type": "code",
   "execution_count": 10,
   "metadata": {},
   "outputs": [
    {
     "name": "stdout",
     "output_type": "stream",
     "text": [
      "The value is in the tuple.\n"
     ]
    }
   ],
   "source": [
    "# Make an example tuple\n",
    "my_tuple = (1, 2, 3, 4, 5, 2, 3, 2)\n",
    "\n",
    "# Take a example value for see existance\n",
    "value = 3\n",
    "\n",
    "# check is the value exist in the tuple or not\n",
    "if value in my_tuple:\n",
    "    print(\"The value is in the tuple.\")\n",
    "else:\n",
    "    print(\"The value is not in the tuple.\")"
   ]
  },
  {
   "cell_type": "markdown",
   "metadata": {},
   "source": [
    "- Make an example tuple and store it in my_tuple variable.\n",
    "- Take 3 as example value for see it's existance in the tuple. Store it in value variable.\n",
    "- Check is the value exist in the tuple or not\n",
    "    - If yes, then print the value does exist in the tuple.\n",
    "    - else, print the value does not exist in the tuple."
   ]
  },
  {
   "cell_type": "markdown",
   "metadata": {},
   "source": [
    "### 7. Convert a tuple to a list."
   ]
  },
  {
   "cell_type": "code",
   "execution_count": 11,
   "metadata": {},
   "outputs": [
    {
     "name": "stdout",
     "output_type": "stream",
     "text": [
      "Converted list: [1, 2, 3, 4, 5, 2, 3, 2]\n"
     ]
    }
   ],
   "source": [
    "# Make an example tuple\n",
    "my_tuple = (1, 2, 3, 4, 5, 2, 3, 2)\n",
    "\n",
    "# Convert the tuple to list using typecast\n",
    "my_list = list(my_tuple)\n",
    "\n",
    "# Print the converted list\n",
    "print(\"Converted list:\", my_list)"
   ]
  },
  {
   "cell_type": "markdown",
   "metadata": {},
   "source": [
    "- Make an example tuple and store it in my_tuple variable.\n",
    "- Convert the tuple to list using typecast or using list() function.\n",
    "- Finally, print the converted list."
   ]
  },
  {
   "cell_type": "markdown",
   "metadata": {},
   "source": [
    "### 8. Convert a list to a tuple."
   ]
  },
  {
   "cell_type": "code",
   "execution_count": 13,
   "metadata": {},
   "outputs": [
    {
     "name": "stdout",
     "output_type": "stream",
     "text": [
      "Converted tuple: (1, 2, 3, 4, 5, 2, 3, 2)\n"
     ]
    }
   ],
   "source": [
    "# Make an example list\n",
    "my_list = [1, 2, 3, 4, 5, 2, 3, 2]\n",
    "\n",
    "# Convert the list to tuple using typecast\n",
    "my_tuple = tuple(my_list)\n",
    "\n",
    "# Print the converted tuple\n",
    "print(\"Converted tuple:\", my_tuple)"
   ]
  },
  {
   "cell_type": "markdown",
   "metadata": {},
   "source": [
    "- Make an example list and store it in my_list variable.\n",
    "- Convert the list to tuple using typecast or using tuple() function.\n",
    "- Finally, print the converted tuple."
   ]
  },
  {
   "cell_type": "markdown",
   "metadata": {},
   "source": [
    "### 9. Unpack the elements of a tuple into variables."
   ]
  },
  {
   "cell_type": "code",
   "execution_count": 15,
   "metadata": {},
   "outputs": [
    {
     "name": "stdout",
     "output_type": "stream",
     "text": [
      "1\n",
      "2\n",
      "3\n"
     ]
    }
   ],
   "source": [
    "# Make an example tuple\n",
    "my_tuple = (1, 2, 3)\n",
    "\n",
    "# Unpacking the tuple into variables\n",
    "first, second, third = my_tuple\n",
    "\n",
    "# Print each value\n",
    "print(first)\n",
    "print(second)\n",
    "print(third)"
   ]
  },
  {
   "cell_type": "markdown",
   "metadata": {},
   "source": [
    "- Make an example tuple and store it in my_tuple variable.\n",
    "- Initialize first, second and third variable and store the values in tuple.\n",
    "- Finally, print each variable."
   ]
  },
  {
   "cell_type": "markdown",
   "metadata": {},
   "source": [
    "### 10. Create a tuple of even numbers from 1 to 10."
   ]
  },
  {
   "cell_type": "code",
   "execution_count": 18,
   "metadata": {},
   "outputs": [
    {
     "name": "stdout",
     "output_type": "stream",
     "text": [
      "Tuple with even numbers: (2, 4, 6, 8, 10)\n"
     ]
    }
   ],
   "source": [
    "# Initialize an empty list\n",
    "my_list = []\n",
    "\n",
    "# Iterate through 1 to 11 and add even numbers in list\n",
    "for i in range(1, 11):\n",
    "    if i % 2 == 0:\n",
    "        my_list.append(i)\n",
    "\n",
    "# Print the list to turned into tuple\n",
    "print(\"Tuple with even numbers:\", tuple(my_list))"
   ]
  },
  {
   "cell_type": "markdown",
   "metadata": {},
   "source": [
    "- Initialize my_list as empty list.\n",
    "- Iterate through 1 to 11 and append even numbers in list using .append() method.\n",
    "- Finally, print the list to turned into tuple using tuple() function."
   ]
  },
  {
   "cell_type": "markdown",
   "metadata": {},
   "source": [
    "### 11. Create a tuple of odd numbers from 1 to 10."
   ]
  },
  {
   "cell_type": "code",
   "execution_count": 19,
   "metadata": {},
   "outputs": [
    {
     "name": "stdout",
     "output_type": "stream",
     "text": [
      "Tuple with odd numbers: (1, 3, 5, 7, 9)\n"
     ]
    }
   ],
   "source": [
    "# Initialize an empty list\n",
    "my_list = []\n",
    "\n",
    "# Iterate through 1 to 11 and add odd numbers in list\n",
    "for i in range(1, 11):\n",
    "    if i % 2 != 0:\n",
    "        my_list.append(i)\n",
    "\n",
    "# Print the list to turned into tuple\n",
    "print(\"Tuple with odd numbers:\", tuple(my_list))"
   ]
  },
  {
   "cell_type": "markdown",
   "metadata": {},
   "source": [
    "- Initialize my_list as empty list.\n",
    "- Iterate through 1 to 11 and append odd numbers in list using .append() method.\n",
    "- Finally, print the list to turned into tuple using tuple() function."
   ]
  },
  {
   "cell_type": "markdown",
   "metadata": {},
   "source": [
    "### 12. Concatenate two tuples."
   ]
  },
  {
   "cell_type": "code",
   "execution_count": 20,
   "metadata": {},
   "outputs": [
    {
     "name": "stdout",
     "output_type": "stream",
     "text": [
      "Concatenate tuple: (1, 2, 3, 4, 5, 2, 3, 2)\n"
     ]
    }
   ],
   "source": [
    "# Make two example tuple\n",
    "my_tuple1 = (1, 2, 3, 4)\n",
    "my_tuple2 = (5, 2, 3, 2)\n",
    "\n",
    "# Concatenate two tuple using +\n",
    "concatenate_tuple = my_tuple1 + my_tuple2\n",
    "\n",
    "# Print the concatenate tuple\n",
    "print(\"Concatenate tuple:\", concatenate_tuple)"
   ]
  },
  {
   "cell_type": "markdown",
   "metadata": {},
   "source": [
    "- Make two example tuple and store it in my_tuple1 and my_tuple2 variable.\n",
    "- Concatenate the two tuple using '+' operator. Store it in concatenate_tuple variable.\n",
    "- Finally, print the new tuple."
   ]
  },
  {
   "cell_type": "markdown",
   "metadata": {},
   "source": [
    "### 13. Repeat a tuple three times."
   ]
  },
  {
   "cell_type": "code",
   "execution_count": 22,
   "metadata": {},
   "outputs": [
    {
     "name": "stdout",
     "output_type": "stream",
     "text": [
      "Repeated tuple: (1, 2, 3, 1, 2, 3, 1, 2, 3)\n"
     ]
    }
   ],
   "source": [
    "# Make an example tuple\n",
    "my_tuple = (1, 2, 3)\n",
    "\n",
    "# Repeat the tuple 3 times using * operator\n",
    "tri_tuple = my_tuple * 3\n",
    "\n",
    "# Print the new tuple\n",
    "print(\"Repeated tuple:\", tri_tuple)"
   ]
  },
  {
   "cell_type": "markdown",
   "metadata": {},
   "source": [
    "- Make an example tuple and store it in my_tuple variable.\n",
    "- Repeat the tuple 3 times using '*' operator. Store the new tuple in tri_tuple variable.\n",
    "- Finally, print the new tuple."
   ]
  },
  {
   "cell_type": "markdown",
   "metadata": {},
   "source": [
    "### 14. Check if a tuple is empty."
   ]
  },
  {
   "cell_type": "code",
   "execution_count": 23,
   "metadata": {},
   "outputs": [
    {
     "name": "stdout",
     "output_type": "stream",
     "text": [
      "The tuple is not empty.\n"
     ]
    }
   ],
   "source": [
    "# Make an example tuple\n",
    "my_tuple = (1, 2, 3, 4)\n",
    "\n",
    "# Check is the tuple empty or not then print\n",
    "if not my_tuple:\n",
    "    print(\"The tuple is empty.\")\n",
    "else:\n",
    "    print(\"The tuple is not empty.\")"
   ]
  },
  {
   "cell_type": "markdown",
   "metadata": {},
   "source": [
    "- Make an example tuple and store it in my_tuple variable.\n",
    "- Check is the tuple empty or not\n",
    "    - If yes, then print the tuple is empty.\n",
    "    - else, print the tuple is not empty."
   ]
  },
  {
   "cell_type": "markdown",
   "metadata": {},
   "source": [
    "### 15. Create a nested tuple."
   ]
  },
  {
   "cell_type": "code",
   "execution_count": 24,
   "metadata": {},
   "outputs": [
    {
     "name": "stdout",
     "output_type": "stream",
     "text": [
      "Nested tuple: ((1, 2, 3), (4, 5, 6), (7, 8))\n"
     ]
    }
   ],
   "source": [
    "# Make a nested tuple\n",
    "nested_tuple = ((1, 2, 3), (4, 5, 6), (7, 8))\n",
    "\n",
    "# Print the nested tuple\n",
    "print(\"Nested tuple:\", nested_tuple)"
   ]
  },
  {
   "cell_type": "markdown",
   "metadata": {},
   "source": [
    "- Make a nested tuple and store it in nested_tuple variable.\n",
    "- Finally, print the nested tuple."
   ]
  },
  {
   "cell_type": "markdown",
   "metadata": {},
   "source": [
    "### 16. Access the first element of a nested tuple."
   ]
  },
  {
   "cell_type": "code",
   "execution_count": 25,
   "metadata": {},
   "outputs": [
    {
     "name": "stdout",
     "output_type": "stream",
     "text": [
      "First element in nested tuple: (1, 2, 3)\n"
     ]
    }
   ],
   "source": [
    "# Make a nested tuple\n",
    "nested_tuple = ((1, 2, 3), (4, 5, 6), (7, 8))\n",
    "\n",
    "# Fetch the first element\n",
    "first_element = nested_tuple[0]\n",
    "\n",
    "# Print the first element\n",
    "print(\"First element in nested tuple:\", first_element)"
   ]
  },
  {
   "cell_type": "markdown",
   "metadata": {},
   "source": [
    "- Make an example nested tuple and store it in nested_tuple variable.\n",
    "- Fetch the first element from the nested tuple using slicing. Store the element in first_element variable.\n",
    "- Finally, print the element."
   ]
  },
  {
   "cell_type": "markdown",
   "metadata": {},
   "source": [
    "### 17. Create a tuple with a single element."
   ]
  },
  {
   "cell_type": "code",
   "execution_count": 26,
   "metadata": {},
   "outputs": [
    {
     "name": "stdout",
     "output_type": "stream",
     "text": [
      "Tuple with single element: (1,)\n"
     ]
    }
   ],
   "source": [
    "# Make an example tuple with single element\n",
    "my_tuple = (1, )\n",
    "\n",
    "# Print the list\n",
    "print(\"Tuple with single element:\", my_tuple)"
   ]
  },
  {
   "cell_type": "markdown",
   "metadata": {},
   "source": [
    "- Make an example tuple with single element. Store it in my_tuple variable.\n",
    "- Then print the tuple."
   ]
  },
  {
   "cell_type": "markdown",
   "metadata": {},
   "source": [
    "### 18. Compare two tuples."
   ]
  },
  {
   "cell_type": "code",
   "execution_count": 27,
   "metadata": {},
   "outputs": [
    {
     "name": "stdout",
     "output_type": "stream",
     "text": [
      "my_tuple1 == my_tuple2: False\n",
      "my_tuple1 != my_tuple2: True\n",
      "my_tuple1 > my_tuple2: False\n",
      "my_tuple1 >= my_tuple2: False\n",
      "my_tuple1 < my_tuple2: True\n",
      "my_tuple1 <= my_tuple2: True\n"
     ]
    }
   ],
   "source": [
    "# Make two example tuple\n",
    "my_tuple1 = (1, 2, 3)\n",
    "my_tuple2 = (2, 4, 5)\n",
    "\n",
    "# Compare two tuples and print the answer\n",
    "print(\"my_tuple1 == my_tuple2:\", (my_tuple1 == my_tuple2))\n",
    "print(\"my_tuple1 != my_tuple2:\", (my_tuple1 != my_tuple2))\n",
    "print(\"my_tuple1 > my_tuple2:\", (my_tuple1 > my_tuple2))\n",
    "print(\"my_tuple1 >= my_tuple2:\", (my_tuple1 >= my_tuple2))\n",
    "print(\"my_tuple1 < my_tuple2:\", (my_tuple1 < my_tuple2))\n",
    "print(\"my_tuple1 <= my_tuple2:\", (my_tuple1 <= my_tuple2))"
   ]
  },
  {
   "cell_type": "markdown",
   "metadata": {},
   "source": [
    "- Make two example tuple. Store the tuples in my_tuple1 and my_tuple2 variable.\n",
    "- Compare two tuples using '==', '!=', '>', '>=', '<', '<=' operators. Then print whethre the answer True or False."
   ]
  },
  {
   "cell_type": "markdown",
   "metadata": {},
   "source": [
    "### 19. Delete a tuple."
   ]
  },
  {
   "cell_type": "code",
   "execution_count": 29,
   "metadata": {},
   "outputs": [],
   "source": [
    "# Make an example tuple\n",
    "my_tuple = (1, 2, 3, 4, 5, 2, 3, 2)\n",
    "\n",
    "# Delete the tuple\n",
    "del my_tuple\n",
    "\n",
    "# Try to access the tuple\n",
    "# print(my_tuple)\n",
    "\n",
    "# The output\n",
    "# NameError: name 'my_tuple' is not defined"
   ]
  },
  {
   "cell_type": "markdown",
   "metadata": {},
   "source": [
    "- Make an example tuple and store it in my_tuple variable.\n",
    "- Delete the tuple using del keyword.\n",
    "- Try to access the tuple but it shows NameError: my_tuple is not defined."
   ]
  },
  {
   "cell_type": "markdown",
   "metadata": {},
   "source": [
    "### 20. Slice a tuple."
   ]
  },
  {
   "cell_type": "code",
   "execution_count": 30,
   "metadata": {},
   "outputs": [
    {
     "name": "stdout",
     "output_type": "stream",
     "text": [
      "Sliced tuple: (4, 5, 2)\n"
     ]
    }
   ],
   "source": [
    "# Make an example tuple\n",
    "my_tuple = (1, 2, 3, 4, 5, 2, 3, 2)\n",
    "\n",
    "# Slice the tuple\n",
    "slice_tuple = my_tuple[3:6]\n",
    "\n",
    "# Print the slice tuple\n",
    "print(\"Sliced tuple:\", slice_tuple)"
   ]
  },
  {
   "cell_type": "markdown",
   "metadata": {},
   "source": [
    "- Make an example tuple and store it in my_tuple variable.\n",
    "- Slice the tuple using index slicing method. Store the sliced tuple in slice_tuple variable.\n",
    "- Finally, print the sliced tuple."
   ]
  },
  {
   "cell_type": "markdown",
   "metadata": {},
   "source": [
    "### 21. Find the maximum value in a tuple."
   ]
  },
  {
   "cell_type": "code",
   "execution_count": 31,
   "metadata": {},
   "outputs": [
    {
     "name": "stdout",
     "output_type": "stream",
     "text": [
      "Maximum value in the tuple: 5\n"
     ]
    }
   ],
   "source": [
    "# Make an example tuple\n",
    "my_tuple = (1, 2, 3, 4, 5, 2, 3, 2)\n",
    "\n",
    "# Find the maximum value\n",
    "max_value = max(my_tuple)\n",
    "\n",
    "# Print the converted list\n",
    "print(\"Maximum value in the tuple:\", max_value)"
   ]
  },
  {
   "cell_type": "markdown",
   "metadata": {},
   "source": [
    "- Make an example tuple and store it in my_tuple variable.\n",
    "- Find max value from the tuple using max() function. Store the value in max_value variable.\n",
    "- Finally, print the maximum value."
   ]
  },
  {
   "cell_type": "markdown",
   "metadata": {},
   "source": [
    "### 22. Find the minimum value in a tuple."
   ]
  },
  {
   "cell_type": "code",
   "execution_count": 32,
   "metadata": {},
   "outputs": [
    {
     "name": "stdout",
     "output_type": "stream",
     "text": [
      "Minimum value in the tuple: 1\n"
     ]
    }
   ],
   "source": [
    "# Make an example tuple\n",
    "my_tuple = (1, 2, 3, 4, 5, 2, 3, 2)\n",
    "\n",
    "# Find the minimum value\n",
    "min_value = min(my_tuple)\n",
    "\n",
    "# Print the converted list\n",
    "print(\"Minimum value in the tuple:\", min_value)"
   ]
  },
  {
   "cell_type": "markdown",
   "metadata": {},
   "source": [
    "- Make an example tuple and store it in my_tuple variable.\n",
    "- Find min value from the tuple using min() function. Store the value in min_value variable.\n",
    "- Finally, print the minimum value."
   ]
  },
  {
   "cell_type": "markdown",
   "metadata": {},
   "source": [
    "### 23. Convert a string to a tuple of characters."
   ]
  },
  {
   "cell_type": "code",
   "execution_count": 34,
   "metadata": {},
   "outputs": [
    {
     "name": "stdout",
     "output_type": "stream",
     "text": [
      "The tuple is: ('R', 'a', 'j', 'd', 'i', 'p', ' ', 'D', 'a', 's')\n"
     ]
    }
   ],
   "source": [
    "# Make an example string\n",
    "string = \"Rajdip Das\"\n",
    "\n",
    "# Convert the string to a tuple of characters\n",
    "my_tuple = tuple(string)\n",
    "\n",
    "# Print the tuple\n",
    "print(\"The tuple is:\", my_tuple)"
   ]
  },
  {
   "cell_type": "markdown",
   "metadata": {},
   "source": [
    "- Make an Example string. Store it in string variable.\n",
    "- Convert the string into a tuple of characters and store it in my_tuple variable.\n",
    "- Finally, print the tuple."
   ]
  },
  {
   "cell_type": "markdown",
   "metadata": {},
   "source": [
    "### 24. Convert a tuple of characters to a string."
   ]
  },
  {
   "cell_type": "code",
   "execution_count": 38,
   "metadata": {},
   "outputs": [
    {
     "name": "stdout",
     "output_type": "stream",
     "text": [
      "The string is: Rajdip Das\n"
     ]
    }
   ],
   "source": [
    "# Make an example tuple\n",
    "my_tuple = ('R', 'a', 'j', 'd', 'i', 'p', ' ', 'D', 'a', 's')\n",
    "\n",
    "# Convert the tuple to a string\n",
    "string = ''.join(my_tuple)\n",
    "\n",
    "# Print the string\n",
    "print(\"The string is:\", string)"
   ]
  },
  {
   "cell_type": "markdown",
   "metadata": {},
   "source": [
    "- Make an Example tuple of characters. Store it in my_tuple variable.\n",
    "- Convert the tuple into a string using .join() method and store it in string variable.\n",
    "- Finally, print the string."
   ]
  },
  {
   "cell_type": "markdown",
   "metadata": {},
   "source": [
    "### 25. Create a tuple from multiple data types."
   ]
  },
  {
   "cell_type": "code",
   "execution_count": 40,
   "metadata": {},
   "outputs": [
    {
     "name": "stdout",
     "output_type": "stream",
     "text": [
      "Tuple with multiple datatypes: (12, 12.3, 'Raj', True)\n"
     ]
    }
   ],
   "source": [
    "# Make a tuple with multiple data types\n",
    "mix_tuple = (12, 12.3, 'Raj', True)\n",
    "\n",
    "# Print the tuple\n",
    "print(\"Tuple with multiple datatypes:\", mix_tuple)"
   ]
  },
  {
   "cell_type": "markdown",
   "metadata": {},
   "source": [
    "- Make an example tuple with multiple datatypes, i.e. int, float, string, boolean etc.\n",
    "- Finally print the tuple."
   ]
  },
  {
   "cell_type": "markdown",
   "metadata": {},
   "source": [
    "### 26. Check if two tuples are identical."
   ]
  },
  {
   "cell_type": "code",
   "execution_count": 41,
   "metadata": {},
   "outputs": [
    {
     "name": "stdout",
     "output_type": "stream",
     "text": [
      "The tuples are identical.\n"
     ]
    }
   ],
   "source": [
    "# Make two example tuples\n",
    "my_tuple1 = (1, 2, 3)\n",
    "my_tuple2 = (1, 2, 3)\n",
    "\n",
    "# Check whether the tuples are identical or not\n",
    "if my_tuple1 == my_tuple2:\n",
    "    print(\"The tuples are identical.\")\n",
    "else:\n",
    "    print(\"The tuples are not identical.\")"
   ]
  },
  {
   "cell_type": "markdown",
   "metadata": {},
   "source": [
    "- Make two example tuples and store it in my_tuple1 and my_tuple2 variable.\n",
    "- Check whether the tuples are identical or not\n",
    "    - If yes, then print the tuples are identical.\n",
    "    - else, print the tuples are not identical."
   ]
  },
  {
   "cell_type": "markdown",
   "metadata": {},
   "source": [
    "### 27. Sort the elements of a tuple."
   ]
  },
  {
   "cell_type": "code",
   "execution_count": 42,
   "metadata": {},
   "outputs": [
    {
     "name": "stdout",
     "output_type": "stream",
     "text": [
      "Sorted tuple: [1, 2, 2, 2, 3, 3, 4, 5]\n"
     ]
    }
   ],
   "source": [
    "# Make an example tuple\n",
    "my_tuple = (1, 2, 3, 4, 5, 2, 3, 2)\n",
    "\n",
    "# Sort the elements of the tuple\n",
    "sort_tuple = sorted(my_tuple)\n",
    "\n",
    "# Print sorted tuple\n",
    "print(\"Sorted tuple:\", sort_tuple)"
   ]
  },
  {
   "cell_type": "markdown",
   "metadata": {},
   "source": [
    "- Make an example tuple and store it in my_tuple variable.\n",
    "- Sort the elements of the tuple using sorted() function. Then store the sorted tuple in sort_tuple variable.\n",
    "- Finally, print the sorted tuple."
   ]
  },
  {
   "cell_type": "markdown",
   "metadata": {},
   "source": [
    "### 28. Convert a tuple of integers to a tuple of strings."
   ]
  },
  {
   "cell_type": "code",
   "execution_count": 47,
   "metadata": {},
   "outputs": [
    {
     "name": "stdout",
     "output_type": "stream",
     "text": [
      "Tuple of strings: ('1', '2', '3', '4', '5', '2', '3', '2')\n"
     ]
    }
   ],
   "source": [
    "# Make an example tuple\n",
    "my_tuple = (1, 2, 3, 4, 5, 2, 3, 2)\n",
    "\n",
    "# Initialize an empty tuple\n",
    "string_tuple = ()\n",
    "\n",
    "# Convert the integers to strings\n",
    "for ele in my_tuple:\n",
    "    string_tuple += tuple(str(ele))\n",
    "\n",
    "# print the tuple of strings\n",
    "print(\"Tuple of strings:\", string_tuple)"
   ]
  },
  {
   "cell_type": "markdown",
   "metadata": {},
   "source": [
    "- Make an example tuple and store it in my_tuple variable.\n",
    "- Initialize string_tuple as epty tuple.\n",
    "- Iterate through every element in tuple.\n",
    "- In every iteration append the integer converted to string.\n",
    "- Finally, print the tuple of strings."
   ]
  },
  {
   "cell_type": "markdown",
   "metadata": {},
   "source": [
    "### 29. Convert a tuple of strings to a tuple of integers."
   ]
  },
  {
   "cell_type": "code",
   "execution_count": 54,
   "metadata": {},
   "outputs": [
    {
     "name": "stdout",
     "output_type": "stream",
     "text": [
      "Tuple of integers: (1, 2, 3, 4, 5, 2, 3, 2)\n"
     ]
    }
   ],
   "source": [
    "# Make an example tuple\n",
    "string_tuple = ('1', '2', '3', '4', '5', '2', '3', '2')\n",
    "\n",
    "# Convert the strings to integers\n",
    "my_tuple = tuple(int(ele) for ele in string_tuple)\n",
    "\n",
    "# print the tuple of integers\n",
    "print(\"Tuple of integers:\", my_tuple)"
   ]
  },
  {
   "cell_type": "markdown",
   "metadata": {},
   "source": [
    "- Make an Example tuple with strings. Store it in string_tuple variable.\n",
    "- Convert strings to integers using list comprehension method and turned it to tuple. Store the tuple in my_tuple variable.\n",
    "- Finally, print the tuple of integers."
   ]
  },
  {
   "cell_type": "markdown",
   "metadata": {},
   "source": [
    "### 30. Merge two tuples."
   ]
  },
  {
   "cell_type": "code",
   "execution_count": 55,
   "metadata": {},
   "outputs": [
    {
     "name": "stdout",
     "output_type": "stream",
     "text": [
      "Merged tuple: (1, 2, 3, 4, 5, 2, 3, 2)\n"
     ]
    }
   ],
   "source": [
    "# Make two example tuple\n",
    "my_tuple1 = (1, 2, 3, 4)\n",
    "my_tuple2 = (5, 2, 3, 2)\n",
    "\n",
    "# Merge two tuple using +\n",
    "merge_tuple = my_tuple1 + my_tuple2\n",
    "\n",
    "# Print the merged tuple\n",
    "print(\"Merged tuple:\", merge_tuple)"
   ]
  },
  {
   "cell_type": "markdown",
   "metadata": {},
   "source": [
    "- Make two example tuple and store it in my_tuple1 and my_tuple2 variable.\n",
    "- Merge the two tuple using '+' operator. Store it in merge_tuple variable.\n",
    "- Finally, print the merged tuple."
   ]
  },
  {
   "cell_type": "markdown",
   "metadata": {},
   "source": [
    "### 31. Flatten a nested tuple."
   ]
  },
  {
   "cell_type": "code",
   "execution_count": 58,
   "metadata": {},
   "outputs": [
    {
     "name": "stdout",
     "output_type": "stream",
     "text": [
      "Flatten tuple: (1, 2, 3, 4, 5, 6, 7, 8)\n"
     ]
    }
   ],
   "source": [
    "# Make a nested tuple\n",
    "nested_tuple = ((1, 2, 3), (4, 5, 6), (7, 8))\n",
    "\n",
    "# Initialize an empty list\n",
    "flatten_list = []\n",
    "\n",
    "# Iterate through every tuples in tuple\n",
    "for i in nested_tuple:\n",
    "    for ele in i:\n",
    "        flatten_list.append(ele)\n",
    "\n",
    "# Print the flatten list to convert it in tuple\n",
    "print(\"Flatten tuple:\", tuple(flatten_list))"
   ]
  },
  {
   "cell_type": "markdown",
   "metadata": {},
   "source": [
    "- Make a nested tuple and store it in nested_tuple variable.\n",
    "- Initialize an empty list and store it in flatten_list variable.\n",
    "- Iterate through every tuples in tuple.\n",
    "- In every iteration iterate every element in sub-tuple.\n",
    "- Append every element in flatten_list using .append() method.\n",
    "- Finally, print the flatten list to onverting it in tuple."
   ]
  },
  {
   "cell_type": "markdown",
   "metadata": {},
   "source": [
    "### 32. Create a tuple of the first 5 prime numbers."
   ]
  },
  {
   "cell_type": "code",
   "execution_count": 68,
   "metadata": {},
   "outputs": [
    {
     "name": "stdout",
     "output_type": "stream",
     "text": [
      "First 5 prime numbers: (2, 3, 5, 7, 11)\n"
     ]
    }
   ],
   "source": [
    "# Taking integer input from user\n",
    "num = int(input(\"Enter how many prime number you want: \"))\n",
    "\n",
    "# Initialize empty list\n",
    "prime_list = []\n",
    "\n",
    "# Find prime numbers\n",
    "for i in range(2, 100):\n",
    "    flag = True     # Initialize a variable with True\n",
    "    \n",
    "    for j in range(2, i):\n",
    "        if i % j == 0:\n",
    "            flag = False\n",
    "            break\n",
    "    \n",
    "    if flag:\n",
    "        prime_list.append(i)        # If the number is prime, add it to the list\n",
    "        if len(prime_list) == num:      # Stop when found desire number of prime numbers\n",
    "            break\n",
    "\n",
    "# Print the list turned into tuple\n",
    "print(f\"First {num} prime numbers: {tuple(prime_list)}\")"
   ]
  },
  {
   "cell_type": "markdown",
   "metadata": {},
   "source": [
    "- Take a integer input from user using input() function and typecast it to integer using int() function. Store it in num variable.\n",
    "- Initialize prime_list as empty list.\n",
    "- Find prime number within 99.\n",
    "- append the number in prime_list using .append() function. Then check is the length of the list equal to the number which user want or not.\n",
    "- If length of the prime_list is equal to the number then break the code.\n",
    "- Finally, print the list of prime numbers to typecast it to tuple."
   ]
  },
  {
   "cell_type": "markdown",
   "metadata": {},
   "source": [
    "### 33. Check if a tuple is a palindrome."
   ]
  },
  {
   "cell_type": "code",
   "execution_count": 77,
   "metadata": {},
   "outputs": [
    {
     "name": "stdout",
     "output_type": "stream",
     "text": [
      "The tuple is a palindrome.\n"
     ]
    }
   ],
   "source": [
    "# Make an example tuple\n",
    "my_tuple = (1, 2, 3, 2, 1)\n",
    "\n",
    "# Reverse the tuple\n",
    "rev_tuple = tuple(reversed(my_tuple))\n",
    "\n",
    "# Check if the tuple and reversed tuple are same or not\n",
    "if my_tuple == rev_tuple:\n",
    "    print(\"The tuple is a palindrome.\")\n",
    "else:\n",
    "    print(\"The tuple is not a palindrome.\")"
   ]
  },
  {
   "cell_type": "markdown",
   "metadata": {},
   "source": [
    "- Make an example tuple and store it in my_tuple variable.\n",
    "- Reverse the tuple using reversed() function and convert it using tuple() function. Store it in rev_tuple variable.\n",
    "- Check if the tuple is same as the reversed tuple or not\n",
    "    - If yes, then print the tuple is a palindrome.\n",
    "    - else, print the tuple is not a palindrome."
   ]
  },
  {
   "cell_type": "markdown",
   "metadata": {},
   "source": [
    "### 34. Create a tuple of squares of numbers from 1 to 5."
   ]
  },
  {
   "cell_type": "code",
   "execution_count": 79,
   "metadata": {},
   "outputs": [
    {
     "name": "stdout",
     "output_type": "stream",
     "text": [
      "Tuple of square numbers: (1, 4, 9, 16, 25)\n"
     ]
    }
   ],
   "source": [
    "# Initialize an empty list\n",
    "my_list = []\n",
    "\n",
    "# Itearte through 1 to 6 and append square of the number\n",
    "for i in range(1, 6):\n",
    "    my_list.append(i**2)\n",
    "\n",
    "# Print the list convert it to tuple\n",
    "print(\"Tuple of square numbers:\", tuple(my_list))"
   ]
  },
  {
   "cell_type": "markdown",
   "metadata": {},
   "source": [
    "- Initialize my_list with an empty list.\n",
    "- Iterate through 1 to 6 and append square of the number in my_list using .append() method.\n",
    "- Finally, print the list after typecast it to tuple."
   ]
  },
  {
   "cell_type": "markdown",
   "metadata": {},
   "source": [
    "### 35. Filter out all even numbers from a tuple."
   ]
  },
  {
   "cell_type": "code",
   "execution_count": 83,
   "metadata": {},
   "outputs": [
    {
     "name": "stdout",
     "output_type": "stream",
     "text": [
      "Tuple with even numbers: (2, 4, 6, 8)\n"
     ]
    }
   ],
   "source": [
    "# Make an example tuple\n",
    "my_tuple = (1, 2, 3, 4, 5, 6, 3, 8)\n",
    "\n",
    "# Fetch all even numbers from tuple using list comprehension method\n",
    "even_tuple = tuple(ele for ele in my_tuple if ele % 2 == 0)\n",
    "\n",
    "# Print the tuple with even numbers\n",
    "print(\"Tuple with even numbers:\", even_tuple)"
   ]
  },
  {
   "cell_type": "markdown",
   "metadata": {},
   "source": [
    "- Make an example tuple and store it in my_tuple variable.\n",
    "- Fetch all even numbers from the tuple using list comprehension method and store the tuple in even_tuple variable.\n",
    "- Finally, print the tuple with even numbers."
   ]
  },
  {
   "cell_type": "markdown",
   "metadata": {},
   "source": [
    "### 36. Multiply all elements in a tuple by 2."
   ]
  },
  {
   "cell_type": "code",
   "execution_count": 84,
   "metadata": {},
   "outputs": [
    {
     "name": "stdout",
     "output_type": "stream",
     "text": [
      "The modified tuple is: (2, 4, 6, 8, 10, 12, 6, 16)\n"
     ]
    }
   ],
   "source": [
    "# Make an example tuple\n",
    "my_tuple = (1, 2, 3, 4, 5, 6, 3, 8)\n",
    "\n",
    "# Multiply all elements by 2 in the tuple using list comprehension method\n",
    "modified_tuple = tuple(ele*2 for ele in my_tuple)\n",
    "\n",
    "# Print the modified tuple\n",
    "print(\"The modified tuple is:\", modified_tuple)"
   ]
  },
  {
   "cell_type": "markdown",
   "metadata": {},
   "source": [
    "- Make an example tuple and store it in my_tuple variable.\n",
    "- Multiply all elements by 2 in the tuple using list comprehension method and store the tuple in modified_tuple variable.\n",
    "- Finally, print the tuple with modified numbers."
   ]
  },
  {
   "cell_type": "markdown",
   "metadata": {},
   "source": [
    "### 37. Create a tuple of random numbers."
   ]
  },
  {
   "cell_type": "code",
   "execution_count": 86,
   "metadata": {},
   "outputs": [
    {
     "name": "stdout",
     "output_type": "stream",
     "text": [
      "Tuple with 10 random numbers: (40, 75, 94, 67, 69, 40, 30, 42, 17, 39)\n"
     ]
    }
   ],
   "source": [
    "import random\n",
    "\n",
    "# create a tuple with 10 random numbers\n",
    "my_tuple = tuple(random.randint(1, 100) for i in range(10))\n",
    "\n",
    "# Print the tuple\n",
    "print(\"Tuple with 10 random numbers:\", my_tuple)"
   ]
  },
  {
   "cell_type": "markdown",
   "metadata": {},
   "source": [
    "- At first, import random package in my code.\n",
    "- Create a tuple with 10 random numbers within 1 to 100, using list comprehension method and store it in my_tuple variable.\n",
    "- Finally, print the tuple with 10 random numbers."
   ]
  },
  {
   "cell_type": "markdown",
   "metadata": {},
   "source": [
    "### 38. Check if a tuple is sorted."
   ]
  },
  {
   "cell_type": "code",
   "execution_count": 92,
   "metadata": {},
   "outputs": [
    {
     "name": "stdout",
     "output_type": "stream",
     "text": [
      "The tuple is sorted.\n"
     ]
    }
   ],
   "source": [
    "# Make an example tuple\n",
    "my_tuple = (1, 2, 3, 4, 5, 6)\n",
    "\n",
    "# Check the tuple sorted or not\n",
    "if my_tuple == tuple(sorted(my_tuple)):\n",
    "    print(\"The tuple is sorted.\")\n",
    "else:\n",
    "    print(\"The tuple is not sorted.\")"
   ]
  },
  {
   "cell_type": "markdown",
   "metadata": {},
   "source": [
    "- Make an example tuple and store it in my_tuple variable.\n",
    "- Check the tuple is sorted or not\n",
    "    - If sorted, then print the tuple is sorted.\n",
    "    - If not, then print the tuple is not sorted."
   ]
  },
  {
   "cell_type": "markdown",
   "metadata": {},
   "source": [
    "### 39. Rotate a tuple to the left by `n` positions."
   ]
  },
  {
   "cell_type": "code",
   "execution_count": 95,
   "metadata": {},
   "outputs": [
    {
     "name": "stdout",
     "output_type": "stream",
     "text": [
      "Tuple after left shift:\n",
      " (4, 5, 6, 1, 2, 3)\n"
     ]
    }
   ],
   "source": [
    "# Make an example tuple\n",
    "my_tuple = (1, 2, 3, 4, 5, 6)\n",
    "\n",
    "# Let a position from which we have to left shift\n",
    "n = 3\n",
    "\n",
    "# Check is the given position greater than length of the tuple or not\n",
    "if len(my_tuple) < n:\n",
    "    n = n % len(my_tuple)\n",
    "    rotated_tuple = my_tuple[n:] + my_tuple[:n]\n",
    "else:\n",
    "    rotated_tuple = my_tuple[n:] + my_tuple[:n]\n",
    "\n",
    "print(\"Tuple after left shift:\\n\", rotated_tuple)"
   ]
  },
  {
   "cell_type": "markdown",
   "metadata": {},
   "source": [
    "- Make an example tuple. Store the tuple in my_tuple variable.\n",
    "- Let a position from which we have to perform left shift. Store it in n variable.\n",
    "- Check is the n's value greater than length of the tuple or not.\n",
    "    - If yes, then normalize the value of n using modulo divition by length of the tuple and store it in n variable. After this, slice the tuple position to the end and cancat it with slice of the start to the position. Store it in rotated_tuple variable.\n",
    "    - else, slice the tuple position to the end and cancat it with slice of the start to the position. Store it in rotated_tuple variable.\n",
    "- Finally, print the rotated tuple."
   ]
  },
  {
   "cell_type": "markdown",
   "metadata": {},
   "source": [
    "### 40. Rotate a tuple to the right by `n` positions."
   ]
  },
  {
   "cell_type": "code",
   "execution_count": 96,
   "metadata": {},
   "outputs": [
    {
     "name": "stdout",
     "output_type": "stream",
     "text": [
      "Tuple after right shift:\n",
      " (5, 6, 1, 2, 3, 4)\n"
     ]
    }
   ],
   "source": [
    "# Make an example tuple\n",
    "my_tuple = (1, 2, 3, 4, 5, 6)\n",
    "\n",
    "# Let a position from which we have to right shift\n",
    "n = 2\n",
    "\n",
    "# Check is the given position smaller than length of the tuple or not\n",
    "if len(my_tuple) < n:\n",
    "    n = n % len(my_tuple)\n",
    "    rotated_tuple = my_tuple[-n:] + my_tuple[:-n]\n",
    "else:\n",
    "    rotated_tuple = my_tuple[-n:] + my_tuple[:-n]\n",
    "\n",
    "print(\"Tuple after right shift:\\n\", rotated_tuple)"
   ]
  },
  {
   "cell_type": "markdown",
   "metadata": {},
   "source": [
    "- Make an example tuple. Store the tuple in my_tuple variable.\n",
    "- Let a position from which we have to perform left shift. Store it in n variable.\n",
    "- Check is the n's value greater than length of the tuple or not.\n",
    "    - If yes, then normalize the value of n using modulo divition by length of the tuple and store it in n variable. After this, slice the tuple position in nagative to the end and cancat it with slice of the start to the position in negative. Store it in rotated_tuple variable.\n",
    "    - else, slice the tuple position in nagative to the end and cancat it with slice of the start to the position in nagative. Store it in rotated_tuple variable.\n",
    "- Finally, print the rotated tuple."
   ]
  },
  {
   "cell_type": "markdown",
   "metadata": {},
   "source": [
    "### 41. Create a tuple of the first 5 Fibonacci numbers."
   ]
  },
  {
   "cell_type": "code",
   "execution_count": 98,
   "metadata": {},
   "outputs": [
    {
     "name": "stdout",
     "output_type": "stream",
     "text": [
      "Tuple of first 5 fibonacci number is:\n",
      "(0, 1, 1, 2, 3)\n"
     ]
    }
   ],
   "source": [
    "# Initialize a list with first 2 fibonacci number\n",
    "my_fib = [0, 1]\n",
    "\n",
    "# Generate the rest 3 fibonacci number\n",
    "for i in range(2, 5):\n",
    "    num = my_fib[i - 1] + my_fib[i - 2]\n",
    "    my_fib.append(num)\n",
    "\n",
    "# Print tuple of first 5 fibonacci number\n",
    "print(f\"Tuple of first 5 fibonacci number is:\\n{tuple(my_fib)}\")"
   ]
  },
  {
   "cell_type": "markdown",
   "metadata": {},
   "source": [
    "- Initialize my_fib variable with list of first two fibonacci number.\n",
    "- Iterate through a range of 2 to 5.\n",
    "- In every iteration add (i-1)'th and (i-2)'th value. Then append the added number in my_fib using .append() method.\n",
    "- Finally, print the list of first 5 fibonacci number after typecast it to tuple."
   ]
  },
  {
   "cell_type": "markdown",
   "metadata": {},
   "source": [
    "### 42. Create a tuple from user input."
   ]
  },
  {
   "cell_type": "code",
   "execution_count": 99,
   "metadata": {},
   "outputs": [
    {
     "name": "stdout",
     "output_type": "stream",
     "text": [
      "Tuple using user input: ('My', 'name', 'is', 'Rajdip', 'Das')\n"
     ]
    }
   ],
   "source": [
    "# Take input from user\n",
    "string = input(\"Enter your input separated by comma: \")\n",
    "\n",
    "# Make a list of input\n",
    "input_list = string.split(\",\")\n",
    "\n",
    "# Convert the list to tuple and print\n",
    "print(\"Tuple using user input:\", tuple(input_list))"
   ]
  },
  {
   "cell_type": "markdown",
   "metadata": {},
   "source": [
    "- Take string input from user using input() function and store it in string variable.\n",
    "- Make a list of the words in the string using .split() method. Then store the list in input_list variable.\n",
    "- Finally, print the list after typecast it to tuple."
   ]
  },
  {
   "cell_type": "markdown",
   "metadata": {},
   "source": [
    "### 43. Swap two elements in a tuple."
   ]
  },
  {
   "cell_type": "code",
   "execution_count": 105,
   "metadata": {},
   "outputs": [
    {
     "name": "stdout",
     "output_type": "stream",
     "text": [
      "Tuple after perform swap: (1, 2, 5, 4, 3, 6, 3, 8)\n"
     ]
    }
   ],
   "source": [
    "# Make an example tuple\n",
    "my_tuple = (1, 2, 3, 4, 5, 6, 3, 8)\n",
    "\n",
    "# Swap elements at indices 2 and 4\n",
    "index1 = 2\n",
    "index2 = 4\n",
    "\n",
    "# Initialize an empty list\n",
    "swap_list = []\n",
    "\n",
    "# Swap element at indices 2 and 4\n",
    "for i in range(len(my_tuple)):\n",
    "    if i not in (index1, index2):\n",
    "        swap_list.append(my_tuple[i])\n",
    "    elif i == index1:\n",
    "        swap_list.append(my_tuple[index2])\n",
    "    elif i == index2:\n",
    "        swap_list.append(my_tuple[index1])\n",
    "\n",
    "print(\"Tuple after perform swap:\", tuple(swap_list))"
   ]
  },
  {
   "cell_type": "markdown",
   "metadata": {},
   "source": [
    "- Make an example tuple and store it in my_tuple variable.\n",
    "- Take two example indices for swap element in those indices.\n",
    "- Initialize swap_list as empty list.\n",
    "- Swap indices 2 and 4 and append the elements in swap_list using .append() method.\n",
    "- Finally, print the list after typecast it to tuple."
   ]
  },
  {
   "cell_type": "markdown",
   "metadata": {},
   "source": [
    "### 44. Reverse the elements of a tuple."
   ]
  },
  {
   "cell_type": "code",
   "execution_count": 107,
   "metadata": {},
   "outputs": [
    {
     "name": "stdout",
     "output_type": "stream",
     "text": [
      "Reversed tuple: (8, 3, 6, 5, 4, 3, 2, 1)\n"
     ]
    }
   ],
   "source": [
    "# Make an example tuple\n",
    "my_tuple = (1, 2, 3, 4, 5, 6, 3, 8)\n",
    "\n",
    "# Reverse the elements of the tuple\n",
    "rev_tuple = tuple(reversed(my_tuple))\n",
    "\n",
    "# Print the reversed tuple\n",
    "print(\"Reversed tuple:\", rev_tuple)"
   ]
  },
  {
   "cell_type": "markdown",
   "metadata": {},
   "source": [
    "- Make an example tuple and store it in my_tuple variable.\n",
    "- Reverse the tuple using reversed() function then transfer it to tuple using tuple() function. Store it in rev_tuple variable.\n",
    "- Finally, print the reverse tuple."
   ]
  },
  {
   "cell_type": "markdown",
   "metadata": {},
   "source": [
    "### 45. Create a tuple of the first `n` powers of 2."
   ]
  },
  {
   "cell_type": "code",
   "execution_count": 108,
   "metadata": {},
   "outputs": [
    {
     "name": "stdout",
     "output_type": "stream",
     "text": [
      "Tuple of the first 6 powers of 2:\n",
      "(1, 4, 9, 16, 25, 36)\n"
     ]
    }
   ],
   "source": [
    "# Take an input from user\n",
    "n = int(input(\"Enter max range: \"))\n",
    "\n",
    "# Initialize an empty list\n",
    "my_list = []\n",
    "\n",
    "# Iterate till max range and store the powers of 2\n",
    "for i in range(1, n+1):\n",
    "    my_list.append(i**2)\n",
    "\n",
    "# Turn the list into tuple\n",
    "my_tuple = tuple(my_list)\n",
    "\n",
    "# print the tuple\n",
    "print(f\"Tuple of the first {n} powers of 2:\\n{my_tuple}\")"
   ]
  },
  {
   "cell_type": "markdown",
   "metadata": {},
   "source": [
    "- Take an integer input from user. Store it in n variable.\n",
    "- Initialize my_list as an empty list.\n",
    "- Iterate till range of n and append the powers of 2 in my_list.\n",
    "- Turn the list into tuple using tuple() function. Store it in my_tuple variable.\n",
    "- Finally, print the tuple."
   ]
  },
  {
   "cell_type": "markdown",
   "metadata": {},
   "source": [
    "### 46. Find the longest string in a tuple of strings."
   ]
  },
  {
   "cell_type": "code",
   "execution_count": 109,
   "metadata": {},
   "outputs": [
    {
     "name": "stdout",
     "output_type": "stream",
     "text": [
      "Longest string in the tuple: Rajdip\n"
     ]
    }
   ],
   "source": [
    "# Make an example tuple\n",
    "my_tuple = ('My', 'name', 'is', 'Rajdip', 'Das')\n",
    "\n",
    "# Initialize a variable with 0 and an empty string\n",
    "count = 0\n",
    "string = \"\"\n",
    "\n",
    "# Iterate through every element and check which is longest\n",
    "for ele in my_tuple:\n",
    "    if len(ele) > count:\n",
    "        string = ele\n",
    "        count = len(ele)\n",
    "\n",
    "# Print the longest string\n",
    "print(\"Longest string in the tuple:\", string)"
   ]
  },
  {
   "cell_type": "markdown",
   "metadata": {},
   "source": [
    "- Make an example tuple and store it in my_tuple variable.\n",
    "- Initialize count variable with 0 and string variable with empty string.\n",
    "- Iterate through every element and check which is longest.\n",
    "- If the longest string found then store it in string variable.\n",
    "- Finally, print the longest string in the tuple."
   ]
  },
  {
   "cell_type": "markdown",
   "metadata": {},
   "source": [
    "### 47. Find the shortest string in a tuple of strings."
   ]
  },
  {
   "cell_type": "code",
   "execution_count": 110,
   "metadata": {},
   "outputs": [
    {
     "name": "stdout",
     "output_type": "stream",
     "text": [
      "Shortest string in the tuple: My\n"
     ]
    }
   ],
   "source": [
    "# Make an example tuple\n",
    "my_tuple = ('My', 'name', 'is', 'Rajdip', 'Das')\n",
    "\n",
    "# Initialize a variable with 0 and an empty string\n",
    "count = float('inf')\n",
    "string = \"\"\n",
    "\n",
    "# Iterate through every element and check which is shortest\n",
    "for ele in my_tuple:\n",
    "    if len(ele) < count:\n",
    "        string = ele\n",
    "        count = len(ele)\n",
    "\n",
    "# Print the shortest string\n",
    "print(\"Shortest string in the tuple:\", string)"
   ]
  },
  {
   "cell_type": "markdown",
   "metadata": {},
   "source": [
    "- Make an example tuple and store it in my_tuple variable.\n",
    "- Initialize count variable with a long number and string variable with empty string.\n",
    "- Iterate through every element and check which is shortest.\n",
    "- If the shortest string found then store it in string variable.\n",
    "- Finally, print the shortest string in the tuple."
   ]
  },
  {
   "cell_type": "markdown",
   "metadata": {},
   "source": [
    "### 48. Create a tuple of the first `n` triangular numbers."
   ]
  },
  {
   "cell_type": "code",
   "execution_count": 116,
   "metadata": {},
   "outputs": [
    {
     "name": "stdout",
     "output_type": "stream",
     "text": [
      "List of first 6 triangular numbers:\n",
      "(1, 3, 6, 10, 15, 21)\n"
     ]
    }
   ],
   "source": [
    "# Take a integer input from user\n",
    "n = int(input(\"Enter how many number you want: \"))\n",
    "\n",
    "# Initialize an empty list and a variable with 0\n",
    "my_list = []\n",
    "num = 0\n",
    "\n",
    "# Initialize through range of n\n",
    "for i in range(1, n+1):\n",
    "    num += i\n",
    "    my_list.append(num)\n",
    "\n",
    "# Print the list convert it into tuple\n",
    "print(f\"List of first {n} triangular numbers:\\n{tuple(my_list)}\")"
   ]
  },
  {
   "cell_type": "markdown",
   "metadata": {},
   "source": [
    "- Input an integer from user using input() function then typecast it to integer using int() function. Store it in n variable.\n",
    "- Initialize an empty list and a variable with value 0.\n",
    "- Iterate through range of 1 to n+1.\n",
    "- In every iteration add the i in num. Then append the num in the list using .append() method.\n",
    "- Finally, print the list to convert it into tuple."
   ]
  },
  {
   "cell_type": "markdown",
   "metadata": {},
   "source": [
    "### 49. Check if a tuple contains another tuple as a subsequence."
   ]
  },
  {
   "cell_type": "code",
   "execution_count": 120,
   "metadata": {},
   "outputs": [
    {
     "name": "stdout",
     "output_type": "stream",
     "text": [
      "Subtuple is a subsequence.\n"
     ]
    }
   ],
   "source": [
    "# Make an example tuple and its sub tuple\n",
    "my_tuple = (11, 22, 33, 44, 55, 66)\n",
    "sub_tuple = (22, 44, 66)\n",
    "\n",
    "# Initialize two variable with 0\n",
    "my_index = 0\n",
    "sub_index = 0\n",
    "\n",
    "# Iterate through both tuples while indices are in range\n",
    "while sub_index < len(sub_tuple) and my_index < len(my_tuple):\n",
    "\n",
    "    if sub_tuple[sub_index] == my_tuple[my_index]:        # Check if the elements match at the current index or not\n",
    "        sub_index += 1\n",
    "    my_index += 1\n",
    "\n",
    "# Check if the sub_tuple's index reached its length then print\n",
    "if sub_index == len(sub_tuple):\n",
    "    print(\"Subtuple is a subsequence.\")\n",
    "else:\n",
    "    print(\"Subtuple is not a subsequence.\")"
   ]
  },
  {
   "cell_type": "markdown",
   "metadata": {},
   "source": [
    "- Make an example tuple and its sub tuple. Store this two in my_tuple and sub_tuple variable.\n",
    "- Initialize my_index and sub_index variable with 0.\n",
    "- Iterate through both tuples while indices are in range.\n",
    "- In every iteration check if the elements match at the current index or not.\n",
    "    - If yes, then increase sub_index value by 1.\n",
    "- Increase my_index value by 1.\n",
    "- Check if the sub_tuple's index reached its length or not\n",
    "    - If yes, then print subtuple is a subsequence.\n",
    "    - else, print subtuple is not a subsequence."
   ]
  },
  {
   "cell_type": "markdown",
   "metadata": {},
   "source": [
    "### 50. Create a tuple of alternating 1s and 0s of length `n`."
   ]
  },
  {
   "cell_type": "code",
   "execution_count": 121,
   "metadata": {},
   "outputs": [
    {
     "name": "stdout",
     "output_type": "stream",
     "text": [
      "The tuple of 1s and 0s: (1, 0, 1, 0, 1, 0, 1, 0)\n"
     ]
    }
   ],
   "source": [
    "# Take an example value\n",
    "n = 8\n",
    "\n",
    "# Create tuple of alternating 1s and 0s\n",
    "my_tuple = tuple(i%2 for i in range(1, n+1))\n",
    "\n",
    "# Print the tuple\n",
    "print(\"The tuple of 1s and 0s:\", my_tuple)"
   ]
  },
  {
   "cell_type": "markdown",
   "metadata": {},
   "source": [
    "- Take an example number and store it in n variable.\n",
    "- Create tuple of alternating 1s and 0s using list comprehension method and store it in my_tuple variable.\n",
    "- Finally, print the tuple."
   ]
  },
  {
   "cell_type": "markdown",
   "metadata": {},
   "source": [
    "# Set Based Practice Problem"
   ]
  },
  {
   "cell_type": "markdown",
   "metadata": {},
   "source": [
    "### 1. Create a set with integers from 1 to 5."
   ]
  },
  {
   "cell_type": "code",
   "execution_count": 1,
   "metadata": {},
   "outputs": [
    {
     "name": "stdout",
     "output_type": "stream",
     "text": [
      "The set is: {1, 2, 3, 4, 5}\n"
     ]
    }
   ],
   "source": [
    "# Make a set with integer 1 to 5\n",
    "my_set = {1, 2, 3, 4, 5}\n",
    "\n",
    "# Print the set\n",
    "print(\"The set is:\", my_set)"
   ]
  },
  {
   "cell_type": "markdown",
   "metadata": {},
   "source": [
    "- Make a set with integer value 1 to 5.\n",
    "- Print the set."
   ]
  },
  {
   "cell_type": "markdown",
   "metadata": {},
   "source": [
    "### 2. Add an element to a set."
   ]
  },
  {
   "cell_type": "code",
   "execution_count": 2,
   "metadata": {},
   "outputs": [
    {
     "name": "stdout",
     "output_type": "stream",
     "text": [
      "Set after perform element addition: {1, 2, 3, 4, 5, 6}\n"
     ]
    }
   ],
   "source": [
    "# Make an example set\n",
    "my_set = {1, 2, 3, 4, 5}\n",
    "\n",
    "# Add element to the set in last\n",
    "my_set.add(6)\n",
    "\n",
    "# Print the set\n",
    "print(\"Set after perform element addition:\", my_set)"
   ]
  },
  {
   "cell_type": "markdown",
   "metadata": {},
   "source": [
    "- Make an example set and store it in my_set variable.\n",
    "- Add an element to the set in last position using .add() method.\n",
    "- Finally, print the set."
   ]
  },
  {
   "cell_type": "markdown",
   "metadata": {},
   "source": [
    "### 3. Remove an element from a set."
   ]
  },
  {
   "cell_type": "code",
   "execution_count": 3,
   "metadata": {},
   "outputs": [
    {
     "name": "stdout",
     "output_type": "stream",
     "text": [
      "Set after perform element deletion: {1, 2, 3, 5}\n"
     ]
    }
   ],
   "source": [
    "# Make an example set\n",
    "my_set = {1, 2, 3, 4, 5}\n",
    "\n",
    "# Remove an element from the set\n",
    "my_set.remove(4)\n",
    "\n",
    "# Print the updated set\n",
    "print(\"Set after perform element deletion:\", my_set)"
   ]
  },
  {
   "cell_type": "markdown",
   "metadata": {},
   "source": [
    "- Make an example set and store it in my_set variable.\n",
    "- Remove an element from the set using .remove() method.\n",
    "- Finally, print the updated set."
   ]
  },
  {
   "cell_type": "markdown",
   "metadata": {},
   "source": [
    "### 4. Check if an element exists in a set."
   ]
  },
  {
   "cell_type": "code",
   "execution_count": 6,
   "metadata": {},
   "outputs": [
    {
     "name": "stdout",
     "output_type": "stream",
     "text": [
      "The element is in the set.\n"
     ]
    }
   ],
   "source": [
    "# Make an example set\n",
    "my_set = {1, 2, 3, 4, 5}\n",
    "\n",
    "# Take an example element\n",
    "element = 3\n",
    "\n",
    "# Find the element exist in the set or not\n",
    "if element in my_set:\n",
    "    print(\"The element is in the set.\")\n",
    "else:\n",
    "    print(\"The element is not in the set.\")"
   ]
  },
  {
   "cell_type": "markdown",
   "metadata": {},
   "source": [
    "- Make an example element and store it in my_set variable.\n",
    "- Take an example element and store it in element variable.\n",
    "- Find if the element is in the set or not\n",
    "    - If yes, then print the element is in the set.\n",
    "    - else, print the element is not in the set."
   ]
  },
  {
   "cell_type": "markdown",
   "metadata": {},
   "source": [
    "### 5. Find the length of a set without using the `len()` function."
   ]
  },
  {
   "cell_type": "code",
   "execution_count": 7,
   "metadata": {},
   "outputs": [
    {
     "name": "stdout",
     "output_type": "stream",
     "text": [
      "Length of the set: 5\n"
     ]
    }
   ],
   "source": [
    "# Make an example set\n",
    "my_set = {1, 2, 3, 4, 5}\n",
    "\n",
    "# Initialize a variable with 0\n",
    "count = 0\n",
    "\n",
    "# Iterate through every element it the set\n",
    "for ele in my_set:\n",
    "    count += 1\n",
    "\n",
    "# Print the answer\n",
    "print(\"Length of the set:\", count)"
   ]
  },
  {
   "cell_type": "markdown",
   "metadata": {},
   "source": [
    "- Make an example set and store it in my_set variable.\n",
    "- Initialize count variable with 0.\n",
    "- Iterate through every element it the set.\n",
    "- In every iteration increase the count value by 1.\n",
    "- Finally, print the length of the set."
   ]
  },
  {
   "cell_type": "markdown",
   "metadata": {},
   "source": [
    "### 6. Clear all elements from a set."
   ]
  },
  {
   "cell_type": "code",
   "execution_count": 8,
   "metadata": {},
   "outputs": [
    {
     "name": "stdout",
     "output_type": "stream",
     "text": [
      "After clearing all element the set: set()\n"
     ]
    }
   ],
   "source": [
    "# Make an example set\n",
    "my_set = {1, 2, 3, 4, 5}\n",
    "\n",
    "# Clear all element from the set\n",
    "my_set.clear()\n",
    "\n",
    "# Print the empty set\n",
    "print(\"After clearing all element the set:\", my_set)"
   ]
  },
  {
   "cell_type": "markdown",
   "metadata": {},
   "source": [
    "- Make an example set and store it in my_set variable.\n",
    "- Clear all elements from the set using .clear() method.\n",
    "- Finally, print the empty set."
   ]
  },
  {
   "cell_type": "markdown",
   "metadata": {},
   "source": [
    "### 7. Create a set of even numbers from 1 to 10."
   ]
  },
  {
   "cell_type": "code",
   "execution_count": 9,
   "metadata": {},
   "outputs": [
    {
     "name": "stdout",
     "output_type": "stream",
     "text": [
      "Set of all even numbers: {2, 4, 6, 8, 10}\n"
     ]
    }
   ],
   "source": [
    "# Initialize an empty set\n",
    "my_set = set()\n",
    "\n",
    "# Iteare through 1 to 11 and add even numbers in the set\n",
    "for i in range(1, 11):\n",
    "    if i % 2 == 0:\n",
    "        my_set.add(i)\n",
    "    \n",
    "# Print the set\n",
    "print(\"Set of all even numbers:\", my_set)"
   ]
  },
  {
   "cell_type": "markdown",
   "metadata": {},
   "source": [
    "- Initialize my_set as empty set.\n",
    "- Iteare through 1 to 11 and add even numbers in the set using .add() method.\n",
    "- Finally, print the set of all even numbers."
   ]
  },
  {
   "cell_type": "markdown",
   "metadata": {},
   "source": [
    "### 8. Create a set of odd numbers from 1 to 10."
   ]
  },
  {
   "cell_type": "code",
   "execution_count": 11,
   "metadata": {},
   "outputs": [
    {
     "name": "stdout",
     "output_type": "stream",
     "text": [
      "Set of all odd numbers: {1, 3, 5, 7, 9}\n"
     ]
    }
   ],
   "source": [
    "# Initialize an empty set\n",
    "my_set = set()\n",
    "\n",
    "# Iteare through 1 to 11 and add odd numbers in the set\n",
    "for i in range(1, 11):\n",
    "    if i % 2 != 0:\n",
    "        my_set.add(i)\n",
    "    \n",
    "# Print the set\n",
    "print(\"Set of all odd numbers:\", my_set)"
   ]
  },
  {
   "cell_type": "markdown",
   "metadata": {},
   "source": [
    "- Initialize my_set as empty set.\n",
    "- Iteare through 1 to 11 and add odd numbers in the set using .add() method.\n",
    "- Finally, print the set of all odd numbers."
   ]
  },
  {
   "cell_type": "markdown",
   "metadata": {},
   "source": [
    "### 9. Find the union of two sets."
   ]
  },
  {
   "cell_type": "code",
   "execution_count": 12,
   "metadata": {},
   "outputs": [
    {
     "name": "stdout",
     "output_type": "stream",
     "text": [
      "Union of {1, 2, 3, 4} and {3, 4, 5, 6}:\n",
      "{1, 2, 3, 4, 5, 6}\n"
     ]
    }
   ],
   "source": [
    "# Make two example set\n",
    "my_set1 = {1, 2, 3, 4}\n",
    "my_set2 = {3, 4, 5, 6}\n",
    "\n",
    "# Perform union operation\n",
    "union_set = my_set1.union(my_set2)\n",
    "\n",
    "# Print the answer\n",
    "print(f\"Union of {my_set1} and {my_set2}:\\n{union_set}\")"
   ]
  },
  {
   "cell_type": "markdown",
   "metadata": {},
   "source": [
    "- Make two example set and store in my_set1 and my_set2 variable.\n",
    "- Perform union operation using .union() method. Store it in union_set variable.\n",
    "- Finally, print the answer."
   ]
  },
  {
   "cell_type": "markdown",
   "metadata": {},
   "source": [
    "### 10. Find the intersection of two sets."
   ]
  },
  {
   "cell_type": "code",
   "execution_count": 13,
   "metadata": {},
   "outputs": [
    {
     "name": "stdout",
     "output_type": "stream",
     "text": [
      "Intersection of {1, 2, 3, 4} and {3, 4, 5, 6}:\n",
      "{3, 4}\n"
     ]
    }
   ],
   "source": [
    "# Make two example set\n",
    "my_set1 = {1, 2, 3, 4}\n",
    "my_set2 = {3, 4, 5, 6}\n",
    "\n",
    "# Perform intersection operation\n",
    "intersection_set = my_set1.intersection(my_set2)\n",
    "\n",
    "# Print the answer\n",
    "print(f\"Intersection of {my_set1} and {my_set2}:\\n{intersection_set}\")"
   ]
  },
  {
   "cell_type": "markdown",
   "metadata": {},
   "source": [
    "- Make two example set and store in my_set1 and my_set2 variable.\n",
    "- Perform intersection operation using .intersection() method. Store it in intersection_set variable.\n",
    "- Finally, print the answer."
   ]
  },
  {
   "cell_type": "markdown",
   "metadata": {},
   "source": [
    "### 11. Find the difference between two sets."
   ]
  },
  {
   "cell_type": "code",
   "execution_count": null,
   "metadata": {},
   "outputs": [],
   "source": []
  },
  {
   "cell_type": "markdown",
   "metadata": {},
   "source": [
    "### 12. Check if a set is a subset of another set."
   ]
  },
  {
   "cell_type": "markdown",
   "metadata": {},
   "source": [
    "### 13. Check if a set is a superset of another set."
   ]
  },
  {
   "cell_type": "markdown",
   "metadata": {},
   "source": [
    "### 14. Create a set from a list."
   ]
  },
  {
   "cell_type": "markdown",
   "metadata": {},
   "source": [
    "### 15. Convert a set to a list."
   ]
  },
  {
   "cell_type": "markdown",
   "metadata": {},
   "source": [
    "### 16. Remove a random element from a set."
   ]
  },
  {
   "cell_type": "markdown",
   "metadata": {},
   "source": [
    "### 17. Pop an element from a set."
   ]
  },
  {
   "cell_type": "markdown",
   "metadata": {},
   "source": [
    "### 18. Check if two sets have no elements in common."
   ]
  },
  {
   "cell_type": "markdown",
   "metadata": {},
   "source": [
    "### 19. Find the symmetric difference between two sets."
   ]
  },
  {
   "cell_type": "markdown",
   "metadata": {},
   "source": [
    "### 20. Update a set with elements from another set."
   ]
  },
  {
   "cell_type": "markdown",
   "metadata": {},
   "source": [
    "### 21. Create a set of the first 5 prime numbers."
   ]
  },
  {
   "cell_type": "markdown",
   "metadata": {},
   "source": [
    "### 22. Check if two sets are identical."
   ]
  },
  {
   "cell_type": "markdown",
   "metadata": {},
   "source": [
    "### 23. Create a frozen set."
   ]
  },
  {
   "cell_type": "markdown",
   "metadata": {},
   "source": [
    "### 24. Check if a set is disjoint with another set."
   ]
  },
  {
   "cell_type": "markdown",
   "metadata": {},
   "source": [
    "### 25. Create a set of squares of numbers from 1 to 5."
   ]
  },
  {
   "cell_type": "markdown",
   "metadata": {},
   "source": [
    "### 26. Filter out all even numbers from a set."
   ]
  },
  {
   "cell_type": "markdown",
   "metadata": {},
   "source": [
    "### 27. Multiply all elements in a set by 2."
   ]
  },
  {
   "cell_type": "markdown",
   "metadata": {},
   "source": [
    "### 28. Create a set of random numbers."
   ]
  },
  {
   "cell_type": "markdown",
   "metadata": {},
   "source": [
    "### 29. Check if a set is empty."
   ]
  },
  {
   "cell_type": "markdown",
   "metadata": {},
   "source": [
    "### 30. Create a nested set (hint: use frozenset)."
   ]
  },
  {
   "cell_type": "markdown",
   "metadata": {},
   "source": [
    "### 31. Remove an element from a set using the discard method."
   ]
  },
  {
   "cell_type": "markdown",
   "metadata": {},
   "source": [
    "### 32. Compare two sets."
   ]
  },
  {
   "cell_type": "markdown",
   "metadata": {},
   "source": [
    "### 33. Create a set from a string."
   ]
  },
  {
   "cell_type": "markdown",
   "metadata": {},
   "source": [
    "### 34. Convert a set of strings to a set of integers."
   ]
  },
  {
   "cell_type": "markdown",
   "metadata": {},
   "source": [
    "### 35. Convert a set of integers to a set of strings."
   ]
  },
  {
   "cell_type": "markdown",
   "metadata": {},
   "source": [
    "### 36. Create a set from a tuple."
   ]
  },
  {
   "cell_type": "markdown",
   "metadata": {},
   "source": [
    "### 37. Convert a set to a tuple."
   ]
  },
  {
   "cell_type": "markdown",
   "metadata": {},
   "source": [
    "### 38. Find the maximum value in a set."
   ]
  },
  {
   "cell_type": "markdown",
   "metadata": {},
   "source": [
    "### 39. Find the minimum value in a set."
   ]
  },
  {
   "cell_type": "markdown",
   "metadata": {},
   "source": [
    "### 40. Create a set from user input."
   ]
  },
  {
   "cell_type": "markdown",
   "metadata": {},
   "source": [
    "### 41. Check if the intersection of two sets is empty."
   ]
  },
  {
   "cell_type": "markdown",
   "metadata": {},
   "source": [
    "### 42. Create a set of the first 5 Fibonacci numbers."
   ]
  },
  {
   "cell_type": "markdown",
   "metadata": {},
   "source": [
    "### 43. Remove duplicates from a list using sets."
   ]
  },
  {
   "cell_type": "markdown",
   "metadata": {},
   "source": [
    "### 44. Check if two sets have the same elements, regardless of their count."
   ]
  },
  {
   "cell_type": "markdown",
   "metadata": {},
   "source": [
    "### 45. Create a set of the first `n` powers of 2."
   ]
  },
  {
   "cell_type": "markdown",
   "metadata": {},
   "source": [
    "### 46. Find the common elements between a set and a list."
   ]
  },
  {
   "cell_type": "markdown",
   "metadata": {},
   "source": [
    "### 47. Create a set of the first `n` triangular numbers."
   ]
  },
  {
   "cell_type": "markdown",
   "metadata": {},
   "source": [
    "### 48. Check if a set contains another set as a subset."
   ]
  },
  {
   "cell_type": "markdown",
   "metadata": {},
   "source": [
    "### 49. Create a set of alternating 1s and 0s of length `n`."
   ]
  },
  {
   "cell_type": "markdown",
   "metadata": {},
   "source": [
    "### 50. Merge multiple sets into one."
   ]
  },
  {
   "cell_type": "code",
   "execution_count": null,
   "metadata": {},
   "outputs": [],
   "source": []
  }
 ],
 "metadata": {
  "kernelspec": {
   "display_name": "Python 3 (ipykernel)",
   "language": "python",
   "name": "python3"
  },
  "language_info": {
   "codemirror_mode": {
    "name": "ipython",
    "version": 3
   },
   "file_extension": ".py",
   "mimetype": "text/x-python",
   "name": "python",
   "nbconvert_exporter": "python",
   "pygments_lexer": "ipython3",
   "version": "3.9.16"
  }
 },
 "nbformat": 4,
 "nbformat_minor": 2
}
