{
 "cells": [
  {
   "cell_type": "markdown",
   "metadata": {},
   "source": [
    "# String Based Assignment Problem"
   ]
  },
  {
   "cell_type": "markdown",
   "metadata": {},
   "source": [
    "### 1. Write a program to reverse a string."
   ]
  },
  {
   "cell_type": "code",
   "execution_count": 1,
   "metadata": {},
   "outputs": [
    {
     "name": "stdout",
     "output_type": "stream",
     "text": [
      "Enter a string: Rajdip\n",
      "Reversed string: pidjaR\n"
     ]
    }
   ],
   "source": [
    "# Taking string input from user\n",
    "string = input(\"Enter a string: \")\n",
    "\n",
    "# Reverse the string\n",
    "rev_string = string[::-1]\n",
    "\n",
    "# Print the reversed string\n",
    "print(\"Reversed string:\", rev_string)"
   ]
  },
  {
   "cell_type": "markdown",
   "metadata": {},
   "source": [
    "- Take string input from user using input() function and store it in string variable.\n",
    "- Reverse the string using string slicing method. Here, `string[::-1]` means, end to end slicing but in the negative step, Means, last to first. Save it in rev_srting variable.\n",
    "- Finally, print the reversed string."
   ]
  },
  {
   "cell_type": "markdown",
   "metadata": {},
   "source": [
    "### 2. Check if a string is a palindrome."
   ]
  },
  {
   "cell_type": "code",
   "execution_count": 2,
   "metadata": {},
   "outputs": [
    {
     "name": "stdout",
     "output_type": "stream",
     "text": [
      "Enter a string: oppo\n",
      "It is a palindrome.\n"
     ]
    }
   ],
   "source": [
    "# Taking input a string from user\n",
    "string = input(\"Enter a string: \")\n",
    "\n",
    "# reverse the string using slicing\n",
    "rev_string = string[::-1]\n",
    "\n",
    "# Check the string and the reverse string equal or not\n",
    "if string == string[::-1]:\n",
    "    print(\"It is a palindrome.\")\n",
    "else:\n",
    "    print(\"It is not a palindrome.\")"
   ]
  },
  {
   "cell_type": "markdown",
   "metadata": {},
   "source": [
    "- Take string input from user using input() function and store it in string variable.\n",
    "- Reverse the string using string slicing method. Save it in rev_srting variable.\n",
    "- Check whether the string is equal to the reversed string or not.\n",
    "    - If equal, then print \"It is a palindrome\".\n",
    "    - Otherwise, print \"It is not a palindrome\"."
   ]
  },
  {
   "cell_type": "markdown",
   "metadata": {},
   "source": [
    "### 3. Convert a string to uppercase."
   ]
  },
  {
   "cell_type": "code",
   "execution_count": 3,
   "metadata": {},
   "outputs": [
    {
     "name": "stdout",
     "output_type": "stream",
     "text": [
      "Enter a string: rajdip\n",
      "Uppercase string: RAJDIP\n"
     ]
    }
   ],
   "source": [
    "# Taking input a string from user\n",
    "string = input(\"Enter a string: \")\n",
    "\n",
    "# convert the string to uppercase\n",
    "upper_string = string.upper()\n",
    "\n",
    "# print the uppercase string\n",
    "print(\"Uppercase string:\", upper_string)"
   ]
  },
  {
   "cell_type": "markdown",
   "metadata": {},
   "source": [
    "- Take string input from user using input() function and store it in string variable.\n",
    "- covert the string to uppercase using .upper() method. Store it in upper_string variable.\n",
    "- Finally, print the uppercased string."
   ]
  },
  {
   "cell_type": "markdown",
   "metadata": {},
   "source": [
    "### 4. Convert a string to lowercase."
   ]
  },
  {
   "cell_type": "code",
   "execution_count": 4,
   "metadata": {},
   "outputs": [
    {
     "name": "stdout",
     "output_type": "stream",
     "text": [
      "Enter a string: RaJdIp\n",
      "Lowercase string: rajdip\n"
     ]
    }
   ],
   "source": [
    "# Taking input a string from user\n",
    "string = input(\"Enter a string: \")\n",
    "\n",
    "# convert the string to lowercase\n",
    "lower_string = string.lower()\n",
    "\n",
    "# print the lowercase string\n",
    "print(\"Lowercase string:\", lower_string)"
   ]
  },
  {
   "cell_type": "markdown",
   "metadata": {},
   "source": [
    "- Take string input from user using input() function and store it in string variable.\n",
    "- covert the string to lowercase using .lower() method. Store it in lower_string variable.\n",
    "- Finally, print the lowercased string."
   ]
  },
  {
   "cell_type": "markdown",
   "metadata": {},
   "source": [
    "### 5. Count the number of vowels in a string."
   ]
  },
  {
   "cell_type": "code",
   "execution_count": 5,
   "metadata": {},
   "outputs": [
    {
     "name": "stdout",
     "output_type": "stream",
     "text": [
      "Enter a string: Rajdip Das\n",
      "Number of vowels: 3\n"
     ]
    }
   ],
   "source": [
    "# Taking input a string from user\n",
    "string = input(\"Enter a string: \")\n",
    "count = 0\n",
    "\n",
    "# Iterate each character in the string\n",
    "for char in string:\n",
    "    char_lower = char.lower()    # Convert each character in the string to lowercase\n",
    "    \n",
    "    if char_lower in \"aeiou\":\n",
    "        count += 1               # if character is a vowel increment count value by 1\n",
    "\n",
    "# Print total number of vowel\n",
    "print(\"Number of vowels:\", count)"
   ]
  },
  {
   "cell_type": "markdown",
   "metadata": {},
   "source": [
    "- Take a string as input from user using input() function and store it in string variable.\n",
    "- Make a count variable to keep the count of each vowel. Initially it is 0.\n",
    "- Iterate each character in the string using for loop.\n",
    "- Convert all character in lower case using .lower() method and save it in char_lower variable.\n",
    "- Check the character if it is in \"aeiou\" or not using if statement.\n",
    "    - If the condition satisfied then count variable increased by 1 else not.\n",
    "- Finally, print the final count of vowel."
   ]
  },
  {
   "cell_type": "markdown",
   "metadata": {},
   "source": [
    "### 6. Count the number of consonants in a string."
   ]
  },
  {
   "cell_type": "code",
   "execution_count": 6,
   "metadata": {},
   "outputs": [
    {
     "name": "stdout",
     "output_type": "stream",
     "text": [
      "Enter a string: Rajdip Das\n",
      "Number of consonant: 6\n"
     ]
    }
   ],
   "source": [
    "# Taking input a string from user\n",
    "string = input(\"Enter a string: \")\n",
    "count = 0\n",
    "\n",
    "# Iterate each character in the string\n",
    "for char in string:\n",
    "    char_lower = char.lower()    # Convert each character in the string to lowercase\n",
    "    \n",
    "    if char_lower not in \"aeiou \":\n",
    "        count += 1               # if character is not a vowel and space increment count value by 1\n",
    "\n",
    "# Print total number of consonant\n",
    "print(\"Number of consonant:\", count)"
   ]
  },
  {
   "cell_type": "markdown",
   "metadata": {},
   "source": [
    "- Take a string as input from user using input() function and store it in string variable.\n",
    "- Make a count variable to keep the count of each consonant. Initially it is 0.\n",
    "- Iterate each character in the string using for loop.\n",
    "- Convert all character in lower case using .lower() method and save it in char_lower variable.\n",
    "- Check the character if it is not in \"aeiou \" using if statement.\n",
    "    - If the condition satisfied then count variable increased by 1 else not.\n",
    "- Finally, print the final count of consonant."
   ]
  },
  {
   "cell_type": "markdown",
   "metadata": {},
   "source": [
    "### 7. Remove all whitespaces from a string."
   ]
  },
  {
   "cell_type": "code",
   "execution_count": 7,
   "metadata": {},
   "outputs": [
    {
     "name": "stdout",
     "output_type": "stream",
     "text": [
      "Enter a string: I am Rajdip\n",
      "Modified string: IamRajdip\n"
     ]
    }
   ],
   "source": [
    "# Taking input a string from user\n",
    "string = input(\"Enter a string: \")\n",
    "\n",
    "# remove all the spaces using relace method\n",
    "modified_string = string.replace(\" \", \"\")\n",
    "\n",
    "# Print modified string\n",
    "print(\"Modified string:\", modified_string)"
   ]
  },
  {
   "cell_type": "markdown",
   "metadata": {},
   "source": [
    "- Take string input from user using input() function and store it in string variable.\n",
    "- Remove all spaces using .replace() method which take two parameters as input. First, old value, here, a space. Second, new value, here, no space. Save it in modified_string variable.\n",
    "- Finally, print the modified string."
   ]
  },
  {
   "cell_type": "markdown",
   "metadata": {},
   "source": [
    "### 8. Find the length of a string without using the `len()` function."
   ]
  },
  {
   "cell_type": "code",
   "execution_count": 8,
   "metadata": {},
   "outputs": [
    {
     "name": "stdout",
     "output_type": "stream",
     "text": [
      "Enter a string: Ramratan\n",
      "Length of the string is: 8\n"
     ]
    }
   ],
   "source": [
    "# Taking input a string from user\n",
    "string = input(\"Enter a string: \")\n",
    "count = 0\n",
    "\n",
    "# Iterate each character in the string\n",
    "for char in string:\n",
    "    count += 1\n",
    "\n",
    "# print total number of character\n",
    "print(\"Length of the string is:\", count)"
   ]
  },
  {
   "cell_type": "markdown",
   "metadata": {},
   "source": [
    "- Take string input from user using input() function and store it in string variable.\n",
    "- Make a count variable to keep the count of each character. Initially it is 0.\n",
    "- Iterate each character in the string using for loop.\n",
    "- Increase the count value by 1 with each iteration.\n",
    "- Finally, print the final count which is the length of the string."
   ]
  },
  {
   "cell_type": "markdown",
   "metadata": {},
   "source": [
    "### 9. Check if a string contains a specific word."
   ]
  },
  {
   "cell_type": "code",
   "execution_count": 9,
   "metadata": {},
   "outputs": [
    {
     "name": "stdout",
     "output_type": "stream",
     "text": [
      "Enter a word: Rajdip\n",
      "Enter a string to be searched: jd\n",
      "jd is in the given word.\n"
     ]
    }
   ],
   "source": [
    "# Taking input a word from user\n",
    "word = input(\"Enter a word: \")\n",
    "\n",
    "# Taking input a string from user\n",
    "string = input(\"Enter a string to be searched: \")\n",
    "\n",
    "# Evaluate if the string is in the word or not\n",
    "if string in word:\n",
    "    print(f\"{string} is in the given word.\")        # If the string is in the word\n",
    "else:\n",
    "    print(f\"{string} not in the given word.\")       # If the string is not in the word"
   ]
  },
  {
   "cell_type": "markdown",
   "metadata": {},
   "source": [
    "- Take a word as input from user using input() function and store it in word variable.\n",
    "- Take a string as input from user using input() function which to be searched from the word. Store it in the string variable.\n",
    "- Check if the given string is in the given word or not.\n",
    "    - If yes, then print, the string is in the given word.\n",
    "    - If no, then print, the string is not in the given word."
   ]
  },
  {
   "cell_type": "markdown",
   "metadata": {},
   "source": [
    "### 10. Replace a word in a string with another word."
   ]
  },
  {
   "cell_type": "code",
   "execution_count": 10,
   "metadata": {},
   "outputs": [
    {
     "name": "stdout",
     "output_type": "stream",
     "text": [
      "Enter a string: Rajdip Das\n",
      "Enter the word to be replaced with: Das\n",
      "Enter the new word: Dutta\n",
      "After modifying:\n",
      "Rajdip Dutta\n"
     ]
    }
   ],
   "source": [
    "# Taking input a string from user\n",
    "string = input(\"Enter a string: \")\n",
    "\n",
    "# Taking input the word from user to be replaced with\n",
    "word = input(\"Enter the word to be replaced with: \")\n",
    "\n",
    "# Taking input a new word from user\n",
    "new_word = input(\"Enter the new word: \")\n",
    "\n",
    "# Evaluate if the word is in the string or not\n",
    "if word in string:\n",
    "    new_string = string.replace(word, new_word)        # If the word is in the string replace it with new word\n",
    "    print(\"After modifying:\")\n",
    "    print(new_string)                                  # Print the modified string\n",
    "else:\n",
    "    print(f\"{word} not in the given string.\")          # If the string is not in the word"
   ]
  },
  {
   "cell_type": "markdown",
   "metadata": {},
   "source": [
    "- Take string input from user using input() function and store it in string variable.\n",
    "- Take a word as input from user using input() function which to be replaced with a new word in the string. store it in word variable.\n",
    "- Take a new word as input from user using input() function which is the new word. store it in new_word variable.\n",
    "- Check if the word is in the string or not.\n",
    "    - If yes, then replace the word with the new word using .replace() method. Store it in new_string variable. Then print the modified string.\n",
    "    - If no, then print, word is not in the given string."
   ]
  },
  {
   "cell_type": "markdown",
   "metadata": {},
   "source": [
    "### 11. Count the occurrences of a word in a string."
   ]
  },
  {
   "cell_type": "code",
   "execution_count": 18,
   "metadata": {},
   "outputs": [
    {
     "name": "stdout",
     "output_type": "stream",
     "text": [
      "z occurred 0 times in the string\n"
     ]
    }
   ],
   "source": [
    "# Taking input a string from user\n",
    "string = input(\"Enter a string: \")\n",
    "\n",
    "# Taking input a word from user\n",
    "word = input(\"Enter a word: \")\n",
    "\n",
    "# Count the word in the string\n",
    "count = string.count(word)\n",
    "\n",
    "# Print total number of word in the string\n",
    "print(f\"{word} occurred {count} times in the string.\")"
   ]
  },
  {
   "cell_type": "markdown",
   "metadata": {},
   "source": [
    "- Take string input from user using input() function and store it in string variable.\n",
    "- Take a word as input from user using input() function and store it in word variable.\n",
    "- Count the occurrence of the word in the string using .count() method and pass the word as parameter. store the number in count variable.\n",
    "- Finally, print the final count."
   ]
  },
  {
   "cell_type": "markdown",
   "metadata": {},
   "source": [
    "### 12. Find the first occurrence of a word in a string."
   ]
  },
  {
   "cell_type": "code",
   "execution_count": 13,
   "metadata": {},
   "outputs": [
    {
     "name": "stdout",
     "output_type": "stream",
     "text": [
      "a occurred at index 1 for the first time.\n"
     ]
    }
   ],
   "source": [
    "# Taking input a string from user\n",
    "string = input(\"Enter a string: \")\n",
    "\n",
    "# Taking input a word from user\n",
    "word = input(\"Enter a word: \")\n",
    "\n",
    "# Evaluate if the word is in the string or not\n",
    "if word in string:\n",
    "    position = string.index(word)       # If yes\n",
    "    print(f\"{word} occurred at index {position} for the first time.\")\n",
    "else:\n",
    "    print(f\"{word} is not in the string.\")"
   ]
  },
  {
   "cell_type": "markdown",
   "metadata": {},
   "source": [
    "- Take string input from user using input() function and store it in string variable.\n",
    "- Take a word as input from user using input() function and store it in word variable.\n",
    "- Check if the word is in the string or not.\n",
    "    - If yes, then find the index of the word in the string using .index() method and pass the word as parameter. store the number in position variable. finally, print the position of the word which is first occurrence in the string.\n",
    "    - If no, then print the word is not in the string."
   ]
  },
  {
   "cell_type": "markdown",
   "metadata": {},
   "source": [
    "### 13. Find the last occurrence of a word in a string."
   ]
  },
  {
   "cell_type": "code",
   "execution_count": 15,
   "metadata": {},
   "outputs": [
    {
     "name": "stdout",
     "output_type": "stream",
     "text": [
      "a occurred at index 8 for the last time.\n"
     ]
    }
   ],
   "source": [
    "# Taking input a string from user\n",
    "string = input(\"Enter a string: \")\n",
    "\n",
    "# Taking input a word from user\n",
    "word = input(\"Enter a word: \")\n",
    "\n",
    "# Evaluate if the word is in the string or not\n",
    "if word in string:\n",
    "    for i in range(len(string)):        # If yes\n",
    "        if string[i] == word:\n",
    "            position = i                # Change position value with newer value\n",
    "    print(f\"{word} occurred at index {position} for the last time.\")        # Print the answer\n",
    "else:\n",
    "    print(f\"{word} is not in the string.\")      # If no"
   ]
  },
  {
   "cell_type": "code",
   "execution_count": 16,
   "metadata": {},
   "outputs": [],
   "source": [
    "# TODO make document"
   ]
  },
  {
   "cell_type": "markdown",
   "metadata": {},
   "source": [
    "### 14. Split a string into a list of words"
   ]
  },
  {
   "cell_type": "code",
   "execution_count": 18,
   "metadata": {},
   "outputs": [
    {
     "name": "stdout",
     "output_type": "stream",
     "text": [
      "The list of word:\n",
      "['My', 'name', 'is', 'Rajdip', 'Das']\n"
     ]
    }
   ],
   "source": [
    "# Taking input a string from user\n",
    "string = input(\"Enter a string: \")\n",
    "\n",
    "# split the string\n",
    "word_list = string.split(\" \")\n",
    "\n",
    "# Print the list\n",
    "print(f\"The list of word:\\n{word_list}\")"
   ]
  },
  {
   "cell_type": "code",
   "execution_count": 19,
   "metadata": {},
   "outputs": [],
   "source": [
    "# TODO make document"
   ]
  },
  {
   "cell_type": "markdown",
   "metadata": {},
   "source": [
    "### 15. Join a list of words into a string."
   ]
  },
  {
   "cell_type": "code",
   "execution_count": 21,
   "metadata": {},
   "outputs": [
    {
     "name": "stdout",
     "output_type": "stream",
     "text": [
      "String after joining:\n",
      "My name is Rajdip Das.\n"
     ]
    }
   ],
   "source": [
    "# Take a list of words\n",
    "word_list = ['My', 'name', 'is', 'Rajdip', 'Das.']\n",
    "\n",
    "# Join the words\n",
    "string = ' '.join(word_list)\n",
    "\n",
    "# Print the string\n",
    "print(f\"String after joining:\\n{string}\")"
   ]
  },
  {
   "cell_type": "code",
   "execution_count": 22,
   "metadata": {},
   "outputs": [],
   "source": [
    "# TODO make document"
   ]
  },
  {
   "cell_type": "markdown",
   "metadata": {},
   "source": [
    "### 16. Convert a string where words are separated by spaces to one where words are separated by underscores."
   ]
  },
  {
   "cell_type": "code",
   "execution_count": 24,
   "metadata": {},
   "outputs": [
    {
     "name": "stdout",
     "output_type": "stream",
     "text": [
      "Before converting:\n",
      "My name is Rajdip Das\n",
      "After converting:\n",
      "My_name_is_Rajdip_Das\n"
     ]
    }
   ],
   "source": [
    "# Taking input a string from user\n",
    "string = input(\"Enter a string: \")\n",
    "\n",
    "# print the string\n",
    "print(f\"Before converting:\\n{string}\")\n",
    "\n",
    "# Covert spaces to underscore\n",
    "new_string = string.replace(\" \", \"_\")\n",
    "\n",
    "# print the converted string\n",
    "print(f\"After converting:\\n{new_string}\")"
   ]
  },
  {
   "cell_type": "code",
   "execution_count": 25,
   "metadata": {},
   "outputs": [],
   "source": [
    "# TODO make document"
   ]
  },
  {
   "cell_type": "markdown",
   "metadata": {},
   "source": [
    "### 17. Check if a string starts with a specific word or phrase."
   ]
  },
  {
   "cell_type": "code",
   "execution_count": 26,
   "metadata": {},
   "outputs": [
    {
     "name": "stdout",
     "output_type": "stream",
     "text": [
      "The string start with the word.\n"
     ]
    }
   ],
   "source": [
    "# Taking input a string from user\n",
    "string = input(\"Enter a string: \")\n",
    "\n",
    "# Taking input a word from user\n",
    "word = input(\"Enter a word: \")\n",
    "\n",
    "# Check is the string start with the word or not\n",
    "result = string.startswith(word)\n",
    "\n",
    "# Print the result\n",
    "if result:\n",
    "    print(\"The string start with the word.\")\n",
    "else:\n",
    "    print(\"The string does not start with the word.\")"
   ]
  },
  {
   "cell_type": "code",
   "execution_count": 27,
   "metadata": {},
   "outputs": [],
   "source": [
    "# TODO make document"
   ]
  }
 ],
 "metadata": {
  "kernelspec": {
   "display_name": "Python 3 (ipykernel)",
   "language": "python",
   "name": "python3"
  },
  "language_info": {
   "codemirror_mode": {
    "name": "ipython",
    "version": 3
   },
   "file_extension": ".py",
   "mimetype": "text/x-python",
   "name": "python",
   "nbconvert_exporter": "python",
   "pygments_lexer": "ipython3",
   "version": "3.9.16"
  }
 },
 "nbformat": 4,
 "nbformat_minor": 2
}
