{
 "cells": [
  {
   "cell_type": "markdown",
   "metadata": {},
   "source": [
    "# For Loop :"
   ]
  },
  {
   "cell_type": "markdown",
   "metadata": {},
   "source": [
    "### 1. Write a Python program to print numbers from 1 to 10 using a for loop."
   ]
  },
  {
   "cell_type": "code",
   "execution_count": 1,
   "metadata": {},
   "outputs": [
    {
     "name": "stdout",
     "output_type": "stream",
     "text": [
      "1\n",
      "2\n",
      "3\n",
      "4\n",
      "5\n",
      "6\n",
      "7\n",
      "8\n",
      "9\n",
      "10\n"
     ]
    }
   ],
   "source": [
    "for i in range(1, 11):\n",
    "    print(i)"
   ]
  },
  {
   "cell_type": "markdown",
   "metadata": {},
   "source": [
    "- Make a iteration with the range of 1 to 11.\n",
    "- In each iteration print the number."
   ]
  },
  {
   "cell_type": "markdown",
   "metadata": {},
   "source": [
    "### 2. Explain the difference between a for loop and a while loop in Python."
   ]
  },
  {
   "cell_type": "markdown",
   "metadata": {},
   "source": [
    "- For Loop:\n",
    "    - Iterates through a sequence or iterable.\n",
    "    - Known number of iterations.\n",
    "    - Syntax:\n",
    "    ```python\n",
    "    for element in iterable:\n",
    "    ```\n",
    "\n",
    "- While Loop:\n",
    "    - Repeats a block of code while a condition is true.\n",
    "    - Condition-driven, number of iterations might vary.\n",
    "    - Syntax:\n",
    "    ```python\n",
    "    while condition:\n",
    "    ```"
   ]
  },
  {
   "cell_type": "markdown",
   "metadata": {},
   "source": [
    "### 3. Write a Python program to calculate the sum of all numbers from 1 to 100 using a for loop."
   ]
  },
  {
   "cell_type": "code",
   "execution_count": 11,
   "metadata": {},
   "outputs": [
    {
     "name": "stdout",
     "output_type": "stream",
     "text": [
      "Sum of 1 to 100:  5050\n"
     ]
    }
   ],
   "source": [
    "# Initialize a variable with 0\n",
    "digit_sum = 0\n",
    "\n",
    "# Iterate through 1 to 101 and add the number\n",
    "for i in range(1, 101):\n",
    "    digit_sum += i\n",
    "\n",
    "# Print the sum value\n",
    "print(\"Sum of 1 to 100: \", digit_sum)"
   ]
  },
  {
   "cell_type": "markdown",
   "metadata": {},
   "source": [
    "- Initialize digit_sum variable with value 0.\n",
    "- Iterate through 1 to 101 and perform sum of the numbers.\n",
    "- Finally, print the sum of the numbers."
   ]
  },
  {
   "cell_type": "markdown",
   "metadata": {},
   "source": [
    "### 4. How do you iterate through a list using a for loop in Python?"
   ]
  },
  {
   "cell_type": "markdown",
   "metadata": {},
   "source": [
    "- Use the `for` loop to go through each element in the list. Here's an example:\n",
    "```python\n",
    "my_list = [1, 2, 3, 4, 5]\n",
    "\n",
    "for element in my_list:\n",
    "    print(element)\n",
    "```\n",
    "- In this example, my_list is a list containing numbers.\n",
    "- The `for` loop goes through each element in the list and prints it."
   ]
  },
  {
   "cell_type": "markdown",
   "metadata": {},
   "source": [
    "### 5. Write a Python program to find the product of all elements in a list using a for loop."
   ]
  },
  {
   "cell_type": "code",
   "execution_count": 13,
   "metadata": {},
   "outputs": [
    {
     "name": "stdout",
     "output_type": "stream",
     "text": [
      "Multiplication of all elements in the list is: 96\n"
     ]
    }
   ],
   "source": [
    "# Make an example list\n",
    "my_list = [2, 6, 8]\n",
    "\n",
    "# Initialize a variable with 1\n",
    "multiply = 1\n",
    "\n",
    "# Iterate through every element in the list\n",
    "for i in my_list:\n",
    "    multiply *= i\n",
    "\n",
    "# Print the result\n",
    "print(\"Multiplication of all elements in the list is:\", multiply)"
   ]
  },
  {
   "cell_type": "markdown",
   "metadata": {},
   "source": [
    "- Make an example list and store it in my_list variable.\n",
    "- Initialize multiply variable with 1.\n",
    "- Iterate through every element in the list and multiply it with value in multiply variable. Store the value in multiply variable.\n",
    "- Finally, print the multiply result."
   ]
  },
  {
   "cell_type": "markdown",
   "metadata": {},
   "source": [
    "### 6. Create a Python program that prints all even numbers from 1 to 20 using a for loop."
   ]
  },
  {
   "cell_type": "code",
   "execution_count": 14,
   "metadata": {},
   "outputs": [
    {
     "name": "stdout",
     "output_type": "stream",
     "text": [
      "Even numbers 1 to 20:\n",
      "2 4 6 8 10 12 14 16 18 20 "
     ]
    }
   ],
   "source": [
    "# Iterate through 1 to 21 and print all even numbers\n",
    "print(\"Even numbers 1 to 20:\")\n",
    "for i in range(1, 21):\n",
    "    if i % 2 != 0:\n",
    "        continue\n",
    "    print(i, end=' ')"
   ]
  },
  {
   "cell_type": "markdown",
   "metadata": {},
   "source": [
    "- Iterate through a range of 1 to 21.\n",
    "- In every iteration check is the number divisible by 2 or not\n",
    "    - If no, then jump over the number without printing it using continue keyword.\n",
    "- Finally, Print the even number."
   ]
  },
  {
   "cell_type": "markdown",
   "metadata": {},
   "source": [
    "### 7. Write a Python program that calculates the factorial of a number using a for loop."
   ]
  },
  {
   "cell_type": "code",
   "execution_count": 15,
   "metadata": {},
   "outputs": [
    {
     "name": "stdout",
     "output_type": "stream",
     "text": [
      "Factorial of 5: 120\n"
     ]
    }
   ],
   "source": [
    "# Take an example number\n",
    "num = 5\n",
    "\n",
    "# Initialize a variable with 1\n",
    "fact = 1\n",
    "\n",
    "# Iterate through range of the number\n",
    "for i in range(1, num + 1):\n",
    "    fact *= i\n",
    "\n",
    "# Print the final result\n",
    "print(f\"Factorial of {num}: {fact}\")"
   ]
  },
  {
   "cell_type": "markdown",
   "metadata": {},
   "source": [
    "- Take an example number and store it in num variable.\n",
    "- Initialize fact variable with 1.\n",
    "- Iterate through the range of the number and multiply the fact value with the iteration number. Then store it in fact variable.\n",
    "- Finally, print the fact value as a result."
   ]
  },
  {
   "cell_type": "markdown",
   "metadata": {},
   "source": [
    "### 8. How can you iterate through the characters of a string using a for loop in Python?"
   ]
  },
  {
   "cell_type": "markdown",
   "metadata": {},
   "source": [
    "- Use the `for` loop to go through each character in the string. Here's an example:\n",
    "```python\n",
    "my_string = \"My name is Rajdip Das\"\n",
    "\n",
    "for char in my_string:\n",
    "    print(char)\n",
    "```\n",
    "- In this example, my_string is a string.\n",
    "- The `for` loop goes through each character in the string and prints it."
   ]
  },
  {
   "cell_type": "markdown",
   "metadata": {},
   "source": [
    "### 9. Write a Python program to find the largest number in a list using a for loop."
   ]
  },
  {
   "cell_type": "code",
   "execution_count": 16,
   "metadata": {},
   "outputs": [
    {
     "name": "stdout",
     "output_type": "stream",
     "text": [
      "Largest number in the list is: 36\n"
     ]
    }
   ],
   "source": [
    "# Make an example list\n",
    "my_list = [12, 25, 36, 11, 15]\n",
    "\n",
    "# Initialize a value with low number\n",
    "max_value = -float('Inf')\n",
    "\n",
    "# Iterate through every element in the list and check the large number\n",
    "for ele in my_list:\n",
    "    if ele > max_value:\n",
    "        max_value = ele\n",
    "\n",
    "# Print the largest number\n",
    "print(f\"Largest number in the list is: {max_value}\")"
   ]
  },
  {
   "cell_type": "markdown",
   "metadata": {},
   "source": [
    "- Make an example list and store the list in my_list variable.\n",
    "- Initialize max_value with a very low number.\n",
    "- Iterate through every element in the list.\n",
    "- In every iteration check the list value with the value in max_value variable.\n",
    "- If the list value greater than max_value then value in max_value updated with the new value (value in ele).\n",
    "- Finally, print the max_value as the largest number."
   ]
  },
  {
   "cell_type": "markdown",
   "metadata": {},
   "source": [
    "### 10. Create a Python program that prints the Fibonacci sequence up to a specified limit using a for loop."
   ]
  },
  {
   "cell_type": "code",
   "execution_count": 18,
   "metadata": {},
   "outputs": [
    {
     "name": "stdout",
     "output_type": "stream",
     "text": [
      "Fibonacci sequence up to 20 :\n",
      "0\n",
      "1\n",
      "1\n",
      "2\n",
      "3\n",
      "5\n",
      "8\n",
      "13\n"
     ]
    }
   ],
   "source": [
    "# Take an example limit\n",
    "limit = 20\n",
    "\n",
    "# Initialize the first two numbers in the sequence\n",
    "a, b = 0, 1\n",
    "\n",
    "# Print the first value in the sequence\n",
    "print(\"Fibonacci sequence up to\", limit, \":\")\n",
    "print(a)\n",
    "\n",
    "# Iterate through the range of limit-1\n",
    "for i in range(limit - 1):\n",
    "    print(b)\n",
    "    a, b = b, a + b\n",
    "    if b > limit:\n",
    "        break "
   ]
  },
  {
   "cell_type": "markdown",
   "metadata": {},
   "source": [
    "- Take an example limit and store it in limit variable.\n",
    "- Initialize the first two numbers in the sequence and store them in 'a' and 'b' variable.\n",
    "- Then, print the first value in the sequence.\n",
    "- Finally, iterate through the range of limit-1 and print 'b's value means the fibonacci sequence."
   ]
  },
  {
   "cell_type": "markdown",
   "metadata": {},
   "source": [
    "### 11. Write a Python program to count the number of vowels in a given string using a for loop."
   ]
  },
  {
   "cell_type": "code",
   "execution_count": 19,
   "metadata": {},
   "outputs": [
    {
     "name": "stdout",
     "output_type": "stream",
     "text": [
      "Total number of vowels in the string is: 6\n"
     ]
    }
   ],
   "source": [
    "# Make an example string\n",
    "string = \"My name is Rajdip Das\"\n",
    "\n",
    "# Initialize a variable with 0\n",
    "vowel_count = 0\n",
    "\n",
    "# Iterate through every character in the string\n",
    "for char in string:\n",
    "    if char.lower() in 'aeiou':\n",
    "        vowel_count += 1\n",
    "\n",
    "# Print the result\n",
    "print(\"Total number of vowels in the string is:\", vowel_count)"
   ]
  },
  {
   "cell_type": "markdown",
   "metadata": {},
   "source": [
    "- Make an example string and store it in string variable.\n",
    "- Initialize vowel_count variable with 0.\n",
    "- Iterate through every character in the string.\n",
    "- In every iteration make the character lower case and check if it is in 'aeiou' or not.\n",
    "- If yes, then increase the vowel_count's value by 1.\n",
    "- Finally, print the total number of vowels."
   ]
  },
  {
   "cell_type": "markdown",
   "metadata": {},
   "source": [
    "### 12. Create a Python program that generates a multiplication table for a given number using a for loop."
   ]
  },
  {
   "cell_type": "code",
   "execution_count": 20,
   "metadata": {},
   "outputs": [
    {
     "name": "stdout",
     "output_type": "stream",
     "text": [
      "9 X 1 = 9\n",
      "9 X 2 = 18\n",
      "9 X 3 = 27\n",
      "9 X 4 = 36\n",
      "9 X 5 = 45\n",
      "9 X 6 = 54\n",
      "9 X 7 = 63\n",
      "9 X 8 = 72\n",
      "9 X 9 = 81\n",
      "9 X 10 = 90\n"
     ]
    }
   ],
   "source": [
    "# Take an example number\n",
    "num = 9\n",
    "\n",
    "# Iterate through a range of 1 to 11 and print the multiplication table\n",
    "for i in range(1, 11):\n",
    "    print(f\"{num} X {i} = {num * i}\")"
   ]
  },
  {
   "cell_type": "markdown",
   "metadata": {},
   "source": [
    "- Take an example number and store it in num variable.\n",
    "- Iterate through a range of 1 to 11.\n",
    "- In every iteration multiply the num value with iteration value and print it."
   ]
  },
  {
   "cell_type": "markdown",
   "metadata": {},
   "source": [
    "### 13. Write a Python program to reverse a list using a for loop."
   ]
  },
  {
   "cell_type": "code",
   "execution_count": 22,
   "metadata": {},
   "outputs": [
    {
     "name": "stdout",
     "output_type": "stream",
     "text": [
      "The reverse list: [7, 4, 9, 6, 3, 1]\n"
     ]
    }
   ],
   "source": [
    "# Make an example list\n",
    "my_list = [1, 3, 6, 9, 4, 7]\n",
    "\n",
    "# Initialize a variable with empty list\n",
    "rev_list = []\n",
    "\n",
    "# Iterate through every element in the list in reverse order\n",
    "for i in range(-1, -(len(my_list) + 1), -1):\n",
    "    rev_list.append(my_list[i])\n",
    "\n",
    "# Print the reverse list\n",
    "print(\"The reverse list:\", rev_list)"
   ]
  },
  {
   "cell_type": "markdown",
   "metadata": {},
   "source": [
    "- Make an example list and store the list in my_list variable.\n",
    "- Initialize rev_list variable with empty list.\n",
    "- Iterate through every element in the list in reverse order.\n",
    "- In every iteration the element in particular position append in the rev_list variable using .append() method.\n",
    "- Finally, print the reverse list."
   ]
  },
  {
   "cell_type": "markdown",
   "metadata": {},
   "source": [
    "### 14. Write a Python program to find the common elements between two lists using a for loop."
   ]
  },
  {
   "cell_type": "code",
   "execution_count": 23,
   "metadata": {},
   "outputs": [
    {
     "name": "stdout",
     "output_type": "stream",
     "text": [
      "Common elements: [2, 3, 4]\n"
     ]
    }
   ],
   "source": [
    "# Make two example list\n",
    "list1 = [1, 2, 3, 4, 1, 2, 3]\n",
    "list2 = [2, 4, 6, 8, 3]\n",
    "\n",
    "# Initialize a variable with empty list\n",
    "my_list = []\n",
    "\n",
    "# Iterate through every elements in the two lists and check common elements\n",
    "for ele1 in list1:\n",
    "    for ele2 in list2:\n",
    "        if ele1 == ele2:\n",
    "            if ele1 not in my_list:\n",
    "                my_list.append(ele1)\n",
    "\n",
    "# Print the list with common elements\n",
    "print(\"Common elements:\", my_list)"
   ]
  },
  {
   "cell_type": "markdown",
   "metadata": {},
   "source": [
    "- Make two example list and store them list1 and list2 variable.\n",
    "- Initialize my_list variable with empty list.\n",
    "- Iterate through every element in the list1.\n",
    "- Iterate through every element in the list2.\n",
    "- Then check if the element in list1 and list2 are same or not.\n",
    "- If the elements are same, then check if the element in list1 already appended in my_list or not.\n",
    "- If the element not appended in my_list then append it using .append() method.\n",
    "- Finally, print my_list which contains the common elements."
   ]
  },
  {
   "cell_type": "markdown",
   "metadata": {},
   "source": [
    "### 15. Explain how to use a for loop to iterate through the keys and values of a dictionary in Python."
   ]
  },
  {
   "cell_type": "markdown",
   "metadata": {},
   "source": [
    "- We can use a `for` loop to iterate through the keys and values of a dictionary using the `items()` method. Here's how we can do it:\n",
    "```python\n",
    "my_dict = {'a': 1, 'b': 2, 'c': 3}\n",
    "\n",
    "for key, value in my_dict.items():\n",
    "    print(f\"Key: {key}, Value: {value}\")\n",
    "```\n",
    "- The `items()` method returns a view object that provides a way to iterate through the dictionary's key-value pairs.\n",
    "- In the `for` loop, `key, value` are used as placeholder variables to capture each key-value pair from the dictionary.\n",
    "- Inside the loop, we can perform actions using both the keys and corresponding values from the dictionary."
   ]
  },
  {
   "cell_type": "markdown",
   "metadata": {},
   "source": [
    "### 16. Write a Python program to find the GCD (Greatest Common Divisor) of two numbers using a for loop."
   ]
  },
  {
   "cell_type": "code",
   "execution_count": 25,
   "metadata": {},
   "outputs": [
    {
     "name": "stdout",
     "output_type": "stream",
     "text": [
      "GCD of 18 and 42 = 6\n"
     ]
    }
   ],
   "source": [
    "# Take two example number\n",
    "num1 = 18\n",
    "num2 = 42\n",
    "\n",
    "# Initialize a variable with 0\n",
    "GCD = 0\n",
    "\n",
    "# Iterate through a range of 1 to max value between num1 and num2\n",
    "for i in range(1, max(num1, num2)):\n",
    "    if num1 % i == 0 and num2 % i == 0:\n",
    "        GCD = i\n",
    "\n",
    "# Print the answer\n",
    "print(f\"GCD of {num1} and {num2} = {GCD}\")"
   ]
  },
  {
   "cell_type": "markdown",
   "metadata": {},
   "source": [
    "- Take two example number and store them in num1 and num2 variable.\n",
    "- Initialize GCD variable with 0.\n",
    "- Iterate through a range of 1 to max value between num1 and num2.\n",
    "- Check if num1 and num2 modulo divide by i equals to 0 or not.\n",
    "- If the condition satisfied then update GCD value with i'th value.\n",
    "- Finally, print the answer."
   ]
  },
  {
   "cell_type": "markdown",
   "metadata": {},
   "source": [
    "### 17. Create a Python program that checks if a string is a palindrome using a for loop."
   ]
  },
  {
   "cell_type": "code",
   "execution_count": 33,
   "metadata": {},
   "outputs": [
    {
     "name": "stdout",
     "output_type": "stream",
     "text": [
      "The string is palindrome.\n"
     ]
    }
   ],
   "source": [
    "# Take an example striong\n",
    "string = \"malayalam\"\n",
    "\n",
    "# Initialize a variable with empty string\n",
    "rev_string = \"\"\n",
    "\n",
    "# Make the string reverse\n",
    "for i in range(-1, -(len(string) + 1), -1):\n",
    "    rev_string += string[i]\n",
    "\n",
    "# Check if the string and rev_string equal or not and print the result\n",
    "if string == rev_string:\n",
    "    print(\"The string is palindrome.\")\n",
    "else:\n",
    "    print(\"The string is not palindrome.\")"
   ]
  },
  {
   "cell_type": "markdown",
   "metadata": {},
   "source": [
    "- Take an example string and store it in string variable.\n",
    "- Initialize rev_string variable with empty string.\n",
    "- Make the string reverse using `for` loop and store the string in rev_string variable.\n",
    "- Then check is the string and rev_string equal or not.\n",
    "- If the two strings are same then print the string is palindrome. else, print the string is not palindrome."
   ]
  },
  {
   "cell_type": "markdown",
   "metadata": {},
   "source": [
    "### 18. Write a Python program to remove duplicates from a list using a for loop."
   ]
  },
  {
   "cell_type": "code",
   "execution_count": 39,
   "metadata": {},
   "outputs": [
    {
     "name": "stdout",
     "output_type": "stream",
     "text": [
      "List after remove duplicate values: [1, 2, 3, 5, 8, 9]\n"
     ]
    }
   ],
   "source": [
    "# Make an example list\n",
    "my_list = [1, 2, 3, 5, 8, 2, 3, 8, 9]\n",
    "\n",
    "# Initialize an empty list\n",
    "unique_list = []\n",
    "\n",
    "# Iterate through every element in the list\n",
    "for ele in my_list:\n",
    "    if ele not in unique_list:\n",
    "        unique_list.append(ele)\n",
    "\n",
    "# Print the list\n",
    "print(\"List after remove duplicate values:\", unique_list)"
   ]
  },
  {
   "cell_type": "markdown",
   "metadata": {},
   "source": [
    "- Make an example list and store it in my_list variable.\n",
    "- Initialize unique_list variable with empty list.\n",
    "- Iterate through every element in the list.\n",
    "- Check if the element already in the unique_list or not.\n",
    "- If the element is not in the unique_list then append the element in unique_list using .append() method.\n",
    "- Finally, print the unique list."
   ]
  },
  {
   "cell_type": "markdown",
   "metadata": {},
   "source": [
    "### 19. Create a Python program that counts the number of words in a sentence using a for loop."
   ]
  },
  {
   "cell_type": "code",
   "execution_count": 40,
   "metadata": {},
   "outputs": [
    {
     "name": "stdout",
     "output_type": "stream",
     "text": [
      "Total numer of words in the string: 4\n"
     ]
    }
   ],
   "source": [
    "# Make an example string\n",
    "string = \"My name is Raj\"\n",
    "\n",
    "# Initialize a variable with 0\n",
    "count = 0\n",
    "\n",
    "# Iterate through every character in the string\n",
    "for char in string:\n",
    "    if char == \" \":\n",
    "        count += 1\n",
    "\n",
    "# Increase count value by 1 for the last word\n",
    "count += 1\n",
    "\n",
    "# Print the result\n",
    "print(\"Total numer of words in the string:\", count)"
   ]
  },
  {
   "cell_type": "markdown",
   "metadata": {},
   "source": [
    "- Make an example string and store it in string variable.\n",
    "- Initialize count variable with 0.\n",
    "- Iterate through every character in the string.\n",
    "- Check is the character is a \" \" (space) or not. If yes then increase count value by 1.\n",
    "- Then increase count value by 1, once again for the last word.\n",
    "- Finally, print the total number of words in the string."
   ]
  },
  {
   "cell_type": "markdown",
   "metadata": {},
   "source": [
    "### 20. Write a Python program to find the sum of all odd numbers from 1 to 50 using a for loop."
   ]
  },
  {
   "cell_type": "code",
   "execution_count": 41,
   "metadata": {},
   "outputs": [
    {
     "name": "stdout",
     "output_type": "stream",
     "text": [
      "Sum of all odd numbers between 1 to 50: 625\n"
     ]
    }
   ],
   "source": [
    "# Initialize a variable with 0\n",
    "digit_sum = 0\n",
    "\n",
    "# Iterate through 1 to 51 and find odd numbers\n",
    "for i in range(1, 51):\n",
    "    if i % 2 != 0:\n",
    "        digit_sum += i\n",
    "\n",
    "# Print the sum result\n",
    "print(\"Sum of all odd numbers between 1 to 50:\", digit_sum)"
   ]
  },
  {
   "cell_type": "markdown",
   "metadata": {},
   "source": [
    "- Initialize digit_sum variable with 0.\n",
    "- Iterate through a range of 1 to 51.\n",
    "- Check if the number even or odd.\n",
    "- if the number odd, then sum it with digit_sum and store it in digit_sum variable.\n",
    "- Finally, print the sum result."
   ]
  },
  {
   "cell_type": "markdown",
   "metadata": {},
   "source": [
    "### 21. Write a Python program that checks if a given year is a leap year using a for loop."
   ]
  },
  {
   "cell_type": "code",
   "execution_count": 42,
   "metadata": {},
   "outputs": [
    {
     "name": "stdout",
     "output_type": "stream",
     "text": [
      "2000 is a leap year.\n"
     ]
    }
   ],
   "source": [
    "# Take an example year\n",
    "year = 2000\n",
    "\n",
    "# Initialize a variable with False\n",
    "leap_year = False\n",
    "\n",
    "# Iterate through a range of 4 to year+1 with step value 4\n",
    "for i in range(4, year + 1, 4):\n",
    "    if i % 100 != 0 or (i % 100 == 0 and i % 400 == 0):\n",
    "        if i == year:\n",
    "            leap_year = True\n",
    "\n",
    "# Check the status and print the result\n",
    "if leap_year:\n",
    "    print(f\"{year} is a leap year.\")\n",
    "else:\n",
    "    print(f\"{year} is not a leap year.\")"
   ]
  },
  {
   "cell_type": "markdown",
   "metadata": {},
   "source": [
    "- Take an example year and store it in year variable.\n",
    "- Initialize leap_year variable with boolean value False.\n",
    "- Iterate through a range of 4 to year+1 with step value 4.\n",
    "- In every iteration, check is the year leap year or not.\n",
    "- If the year leap year then update leap_year value with True.\n",
    "- Then, check if leap_year True then print the year is a leap year. else, print the year is not a leap year."
   ]
  },
  {
   "cell_type": "markdown",
   "metadata": {},
   "source": [
    "### 22. Create a Python program that calculates the square root of a number using a for loop."
   ]
  },
  {
   "cell_type": "code",
   "execution_count": 48,
   "metadata": {},
   "outputs": [
    {
     "name": "stdout",
     "output_type": "stream",
     "text": [
      "The square root of 24 is: 4.898979485566356\n"
     ]
    }
   ],
   "source": [
    "# Take an example number\n",
    "num = 24\n",
    "\n",
    "# Calculate the initial guess for the square root of the number\n",
    "guess = num / 2.0\n",
    "\n",
    "# Make the square root number more accurate\n",
    "for _ in range(10):\n",
    "    guess = (guess + num / guess) / 2.0\n",
    "\n",
    "# Print the answer\n",
    "print(f\"The square root of {num} is:\", guess)"
   ]
  },
  {
   "cell_type": "markdown",
   "metadata": {},
   "source": [
    "- Take an example number and store it in num variable.\n",
    "- Calculate the initial guess for the square root of the number and store the value in guess variable.\n",
    "- Make the square root number more accurate using a `for` loop.\n",
    "- Finally print the answer."
   ]
  },
  {
   "cell_type": "markdown",
   "metadata": {},
   "source": [
    "### 23. Write a Python program to find the LCM (Least Common Multiple) of two numbers using a for loop."
   ]
  },
  {
   "cell_type": "code",
   "execution_count": 49,
   "metadata": {},
   "outputs": [
    {
     "name": "stdout",
     "output_type": "stream",
     "text": [
      "The LCM of 12 and 28 is: 84\n"
     ]
    }
   ],
   "source": [
    "# Take two example number as input\n",
    "num1 = 12\n",
    "num2 = 28\n",
    "\n",
    "# Find the maximum of the two numbers\n",
    "maximum = max(num1, num2)\n",
    "\n",
    "# Initialize a variable with 0\n",
    "LCM = 0\n",
    "\n",
    "# Iterate multiples of the larger number until finding the LCM\n",
    "for i in range(maximum, (num1 * num2) + 1, maximum):\n",
    "    if i % num1 == 0 and i % num2 == 0:\n",
    "        LCM = i\n",
    "        break\n",
    "\n",
    "print(f\"The LCM of {num1} and {num2} is:\", LCM)"
   ]
  },
  {
   "cell_type": "markdown",
   "metadata": {},
   "source": [
    "- Take two example number as input and store them in num1 and num2 variable.\n",
    "- Find the maximum of the two numbers using max() function. Store the result in maximum variable.\n",
    "- Initialize LCM variable with 0.\n",
    "- Iterate multiples of the larger number until finding the LCM.\n",
    "- After finding LCM, print the LCM value."
   ]
  },
  {
   "cell_type": "code",
   "execution_count": null,
   "metadata": {},
   "outputs": [],
   "source": []
  }
 ],
 "metadata": {
  "kernelspec": {
   "display_name": "base",
   "language": "python",
   "name": "python3"
  },
  "language_info": {
   "codemirror_mode": {
    "name": "ipython",
    "version": 3
   },
   "file_extension": ".py",
   "mimetype": "text/x-python",
   "name": "python",
   "nbconvert_exporter": "python",
   "pygments_lexer": "ipython3",
   "version": "3.9.16"
  }
 },
 "nbformat": 4,
 "nbformat_minor": 2
}
