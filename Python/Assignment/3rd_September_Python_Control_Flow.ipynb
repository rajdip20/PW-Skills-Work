{
 "cells": [
  {
   "cell_type": "markdown",
   "metadata": {},
   "source": [
    "# Basic If-Else Statements:"
   ]
  },
  {
   "cell_type": "markdown",
   "metadata": {},
   "source": [
    "### 1. Write a Python program to check if a given number is positive or negative."
   ]
  },
  {
   "cell_type": "code",
   "execution_count": 1,
   "metadata": {},
   "outputs": [
    {
     "name": "stdout",
     "output_type": "stream",
     "text": [
      "The number is positive.\n"
     ]
    }
   ],
   "source": [
    "# Take an example value\n",
    "value = 23\n",
    "\n",
    "# Check is the value positive or negative\n",
    "if value >=0:\n",
    "    print(\"The number is positive.\")\n",
    "else:\n",
    "    print(\"The number is negative.\")"
   ]
  },
  {
   "cell_type": "markdown",
   "metadata": {},
   "source": [
    "- Take an example number and store it in value variable.\n",
    "- Check is the value greater than equal to 0 or not\n",
    "    - If yes, then print the number is positive.\n",
    "    - else, print the number is negative."
   ]
  },
  {
   "cell_type": "markdown",
   "metadata": {},
   "source": [
    "### 2. Create a program that determines if a person is eligible to vote based on their age."
   ]
  },
  {
   "cell_type": "code",
   "execution_count": 2,
   "metadata": {},
   "outputs": [
    {
     "name": "stdout",
     "output_type": "stream",
     "text": [
      "You are eligible to give vote.\n"
     ]
    }
   ],
   "source": [
    "# Take an example age\n",
    "age = 18\n",
    "\n",
    "# Check is the age greater than qual to 18 or not\n",
    "if age >= 18:\n",
    "    print(\"You are eligible to give vote.\")\n",
    "else:\n",
    "    print(\"You are not eligible to give vote.\")"
   ]
  },
  {
   "cell_type": "markdown",
   "metadata": {},
   "source": [
    "- Take an example age and store it in age variable.\n",
    "- Check is the age greater than or equal to 18 or not\n",
    "    - If yes, then print the person is eligible to vote.\n",
    "    - else, print the person is not eligible to vote."
   ]
  },
  {
   "cell_type": "markdown",
   "metadata": {},
   "source": [
    "### 3. Develop a program to find the maximum of two numbers using if-else statements."
   ]
  },
  {
   "cell_type": "code",
   "execution_count": 3,
   "metadata": {},
   "outputs": [
    {
     "name": "stdout",
     "output_type": "stream",
     "text": [
      "22 is greater than 12.\n"
     ]
    }
   ],
   "source": [
    "# Take two example number\n",
    "num1 = 12\n",
    "num2 = 22\n",
    "\n",
    "# Check which number is maximum\n",
    "if num1 > num2:\n",
    "    print(f\"{num1} is greater than {num2}.\")\n",
    "else:\n",
    "    print(f\"{num2} is greater than {num1}.\")"
   ]
  },
  {
   "cell_type": "markdown",
   "metadata": {},
   "source": [
    "- Take two example number and store them in num1 and num2 variable.\n",
    "- Check is num1 greater than num2 or not\n",
    "    - If yes, then print num1 is greater than num2.\n",
    "    - else, print num2 is greater than num1."
   ]
  },
  {
   "cell_type": "markdown",
   "metadata": {},
   "source": [
    "### 4. Write a Python script to classify a given year as a leap year or not."
   ]
  },
  {
   "cell_type": "code",
   "execution_count": 4,
   "metadata": {},
   "outputs": [
    {
     "name": "stdout",
     "output_type": "stream",
     "text": [
      "2001 is not a leap year.\n"
     ]
    }
   ],
   "source": [
    "# Take an example year\n",
    "year = 2001\n",
    "\n",
    "# Check is the year leap year or not\n",
    "if year % 400 == 0 or (year % 4 == 0 and year % 100 != 0):\n",
    "    print(f\"{year} is a leap year.\")\n",
    "else:\n",
    "    print(f\"{year} is not a leap year.\")"
   ]
  },
  {
   "cell_type": "markdown",
   "metadata": {},
   "source": [
    "- Take an example year and store it in year variable.\n",
    "- Check whether the year leap year or not\n",
    "    - If yes, then print the year is a leap year.\n",
    "    - else, print the year is not a leap year."
   ]
  },
  {
   "cell_type": "markdown",
   "metadata": {},
   "source": [
    "### 5. Create a program that checks whether a character is a vowel or a consonant."
   ]
  },
  {
   "cell_type": "code",
   "execution_count": 5,
   "metadata": {},
   "outputs": [
    {
     "name": "stdout",
     "output_type": "stream",
     "text": [
      "The character is a vowel.\n"
     ]
    }
   ],
   "source": [
    "# Take an example character\n",
    "character = 'u'\n",
    "\n",
    "# Check is the character vowel or not\n",
    "if character in 'aeiou':\n",
    "    print(\"The character is a vowel.\")\n",
    "else:\n",
    "    print(\"The character is a consonant.\")"
   ]
  },
  {
   "cell_type": "markdown",
   "metadata": {},
   "source": [
    "- Take an example character and store it in character variable.\n",
    "- Check whether the character is vowel or not\n",
    "    - If yes, then print the character is a vowel.\n",
    "    - else, print the character is a consonant."
   ]
  },
  {
   "cell_type": "markdown",
   "metadata": {},
   "source": [
    "### 6. Implement a program to determine whether a given number is even or odd."
   ]
  },
  {
   "cell_type": "code",
   "execution_count": 6,
   "metadata": {},
   "outputs": [
    {
     "name": "stdout",
     "output_type": "stream",
     "text": [
      "23 is odd number.\n"
     ]
    }
   ],
   "source": [
    "# Take an example number\n",
    "num = 23\n",
    "\n",
    "# Check is the number even or odd\n",
    "if num % 2 == 0:\n",
    "    print(f\"{num} is even number.\")\n",
    "else:\n",
    "    print(f\"{num} is odd number.\")"
   ]
  },
  {
   "cell_type": "markdown",
   "metadata": {},
   "source": [
    "- Take an example number and store it in num variable.\n",
    "- Check is the number modulo divide by 2 equal to 0 or not\n",
    "    - If yes, then print the number is even.\n",
    "    - else, print the number is odd."
   ]
  },
  {
   "cell_type": "markdown",
   "metadata": {},
   "source": [
    "### 7. Write a Python function to calculate the absolute value of a number without using the `abs()` function."
   ]
  },
  {
   "cell_type": "code",
   "execution_count": 7,
   "metadata": {},
   "outputs": [
    {
     "name": "stdout",
     "output_type": "stream",
     "text": [
      "The absolute value: 12\n"
     ]
    }
   ],
   "source": [
    "# Take an example number\n",
    "num = -12\n",
    "\n",
    "# Calculate the absolute value of the number\n",
    "if num < 0:\n",
    "    num = -num\n",
    "\n",
    "# Print the absolute value\n",
    "print(\"The absolute value:\", num)"
   ]
  },
  {
   "cell_type": "markdown",
   "metadata": {},
   "source": [
    "- Take an example number and store it in num variable.\n",
    "- If the number smaller than 0, then change the number in positive number.\n",
    "- Finally, print the absolute number."
   ]
  },
  {
   "cell_type": "markdown",
   "metadata": {},
   "source": [
    "### 8. Develop a program that determines the largest of three given numbers using if-else statements."
   ]
  },
  {
   "cell_type": "code",
   "execution_count": 8,
   "metadata": {},
   "outputs": [
    {
     "name": "stdout",
     "output_type": "stream",
     "text": [
      "32 is maximum.\n"
     ]
    }
   ],
   "source": [
    "# Take three example number\n",
    "num1 = 25\n",
    "num2 = 32\n",
    "num3 = 15\n",
    "\n",
    "# Check which number is maximum\n",
    "if num1 > num2 and num1 > num3:\n",
    "    print(f\"{num1} is maximum.\")\n",
    "else:\n",
    "    if num2 > num1 and num2 > num3:\n",
    "        print(f\"{num2} is maximum.\")\n",
    "    else:\n",
    "        print(f\"{num3} is maximum.\")"
   ]
  },
  {
   "cell_type": "markdown",
   "metadata": {},
   "source": [
    "- Take three example number and store them in num1, num2 and num3 variable.\n",
    "- Check is num1 greater than num2 and num3 or not\n",
    "    - If yes, then print num1 is maximum.\n",
    "    - else, Check is num2 greater than num1 and num3 or not\n",
    "        - If yes, then print num2 is maximum.\n",
    "        - else, print num3 is maximum."
   ]
  },
  {
   "cell_type": "markdown",
   "metadata": {},
   "source": [
    "### 9. Create a program that checks if a given string is a palindrome."
   ]
  },
  {
   "cell_type": "code",
   "execution_count": 9,
   "metadata": {},
   "outputs": [
    {
     "name": "stdout",
     "output_type": "stream",
     "text": [
      "The string is palindrome.\n"
     ]
    }
   ],
   "source": [
    "# Take an example string\n",
    "string = 'oppo'\n",
    "\n",
    "# Check is the string palindrome or not\n",
    "if string == string[::-1]:\n",
    "    print(\"The string is palindrome.\")\n",
    "else:\n",
    "    print(\"The string is not palindrome.\")"
   ]
  },
  {
   "cell_type": "markdown",
   "metadata": {},
   "source": [
    "- Take an example string and store it in string variable.\n",
    "- Check is the string palindrome or not\n",
    "    - If yes, then print the string is palindrome.\n",
    "    - else, print the string is not palindrome."
   ]
  },
  {
   "cell_type": "markdown",
   "metadata": {},
   "source": [
    "### 10. Write a Python program to calculate the grade based on a student's score."
   ]
  },
  {
   "cell_type": "code",
   "execution_count": 12,
   "metadata": {},
   "outputs": [
    {
     "name": "stdout",
     "output_type": "stream",
     "text": [
      "You got: B\n"
     ]
    }
   ],
   "source": [
    "# Take an example number\n",
    "score = 82\n",
    "\n",
    "# Check the grade\n",
    "if score >= 90:\n",
    "        grade = \"A\"\n",
    "else:\n",
    "    if score >= 80:\n",
    "        grade = \"B\"\n",
    "    else:\n",
    "        if score >= 70:\n",
    "            grade = \"C\"\n",
    "        else:\n",
    "            if score >= 60:\n",
    "                grade = \"D\"\n",
    "            else:\n",
    "                grade = \"F\"\n",
    "\n",
    "# Print the grade\n",
    "print(f\"You got: {grade}\")"
   ]
  },
  {
   "cell_type": "markdown",
   "metadata": {},
   "source": [
    "- Take an example number and store it in score variable.\n",
    "- Check the number and store an example grade in grade variable.\n",
    "- Finally, print the grade."
   ]
  },
  {
   "cell_type": "code",
   "execution_count": null,
   "metadata": {},
   "outputs": [],
   "source": []
  }
 ],
 "metadata": {
  "kernelspec": {
   "display_name": "base",
   "language": "python",
   "name": "python3"
  },
  "language_info": {
   "codemirror_mode": {
    "name": "ipython",
    "version": 3
   },
   "file_extension": ".py",
   "mimetype": "text/x-python",
   "name": "python",
   "nbconvert_exporter": "python",
   "pygments_lexer": "ipython3",
   "version": "3.9.16"
  }
 },
 "nbformat": 4,
 "nbformat_minor": 2
}
